{
 "cells": [
  {
   "cell_type": "markdown",
   "metadata": {},
   "source": [
    "# A Comparative Statistical Analysis of Employment Positions and Salaries Among Graduates of Universities of Applied Sciences and Research Universities"
   ]
  },
  {
   "cell_type": "code",
   "execution_count": 11,
   "metadata": {},
   "outputs": [
    {
     "data": {
      "text/html": [
       "<img src=\"https://upload.wikimedia.org/wikipedia/commons/thumb/6/66/Amsterdam_science_park.jpg/1280px-Amsterdam_science_park.jpg\" width=\"600\" height=\"450\"/>"
      ],
      "text/plain": [
       "<IPython.core.display.Image object>"
      ]
     },
     "metadata": {},
     "output_type": "display_data"
    },
    {
     "name": "stdout",
     "output_type": "stream",
     "text": [
      "© Wikipedia / Jvhertum \n"
     ]
    }
   ],
   "source": [
    "url = 'https://upload.wikimedia.org/wikipedia/commons/thumb/6/66/Amsterdam_science_park.jpg/1280px-Amsterdam_science_park.jpg'\n",
    "\n",
    "from IPython.display import Image, display\n",
    "\n",
    "width = 600\n",
    "height = 450\n",
    "\n",
    "subtitle = \"© Wikipedia / Jvhertum \"\n",
    "\n",
    "image = Image(url=url, width=width, height=height)\n",
    "\n",
    "display(image)\n",
    "print(subtitle)"
   ]
  },
  {
   "cell_type": "code",
   "execution_count": 2,
   "metadata": {},
   "outputs": [],
   "source": [
    "# Import packages\n",
    "import plotly.graph_objs as go\n",
    "import plotly.express as px\n",
    "import pandas as pd\n",
    "import numpy as np\n",
    "import matplotlib.pyplot as plt\n",
    "import seaborn as sns"
   ]
  },
  {
   "cell_type": "markdown",
   "metadata": {},
   "source": [
    "## Introduction\n",
    "\n",
    "June marks the month in which high school students in The Netherlands receive their graduation results. For many, the next step is to pursue higher education. In The Netherlands, higher education is divided into two types of universities: universities of applied sciences and research universities.  Choosing between these two paths can be challenging, as it is generally believed to significantly impact future job prospects and salary potential. But does this belief hold true in reality?\n",
    "\n",
    "An individual's educational background typically influences their career path. It is commonly believed that higher education leads to better employment prospects and higher salaries. In Dutch higher education, there is ongoing debate about which type of university offers the best prospects. Some argue that universities of applied sciences (HBO) are superior because students at these institutions complete obligatory internships. This early work experience is seen as an advantage of HBO institutions over research universities (WO), as it makes candidates more attractive to employers. It is said that these graduates enjoy a higher employment rate compared to their WO counterparts. On the other hand, the status of the academic university - being seen as the highest achievable form of education in The Netherlands - makes some people argue that WO students will have a higher pay rate in their career than HBO students.\n",
    "\n",
    "This data story intends to investigate and discuss the perspectives that focus on the differences between these forms of education, by visualising and analysing data about the employment positions and salaries of graduates. Through this, we hope to offer answers to this debate and clear up any misjudgements and prejudices about these different education paths."
   ]
  },
  {
   "cell_type": "markdown",
   "metadata": {},
   "source": [
    "## Wage comparison per degree type"
   ]
  },
  {
   "cell_type": "code",
   "execution_count": 15,
   "metadata": {},
   "outputs": [
    {
     "data": {
      "application/vnd.plotly.v1+json": {
       "config": {
        "plotlyServerURL": "https://plot.ly"
       },
       "data": [
        {
         "branchvalues": "total",
         "insidetextfont": {
          "size": 20
         },
         "labels": [
          "Men",
          "Economics ♂",
          "Behaviour and society ♂",
          "Healthcare ♂",
          "Agriculture ♂",
          "Nature ♂",
          "Education ♂",
          "Law ♂",
          "Other ♂",
          "Language & culture ♂",
          "Technics ♂",
          "Women",
          "Economics ♀",
          "Behaviour and society ♀",
          "Healthcare ♀",
          "Agriculture ♀",
          "Nature ♀",
          "Education ♀",
          "Law ♀",
          "Other ♀",
          "Language & culture ♀",
          "Technics ♀"
         ],
         "parents": [
          "",
          "Men",
          "Men",
          "Men",
          "Men",
          "Men",
          "Men",
          "Men",
          "Men",
          "Men",
          "Men",
          "",
          "Women",
          "Women",
          "Women",
          "Women",
          "Women",
          "Women",
          "Women",
          "Women",
          "Women",
          "Women"
         ],
         "type": "sunburst",
         "values": [
          35170,
          11690,
          3830,
          1930,
          1050,
          1730,
          1340,
          1400,
          200,
          2300,
          9700,
          44000,
          9800,
          12700,
          6540,
          1110,
          990,
          3830,
          2280,
          360,
          3840,
          2550
         ]
        }
       ],
       "layout": {
        "height": 600,
        "margin": {
         "b": 25,
         "l": 25,
         "r": 25,
         "t": 50
        },
        "template": {
         "data": {
          "bar": [
           {
            "error_x": {
             "color": "#2a3f5f"
            },
            "error_y": {
             "color": "#2a3f5f"
            },
            "marker": {
             "line": {
              "color": "#E5ECF6",
              "width": 0.5
             },
             "pattern": {
              "fillmode": "overlay",
              "size": 10,
              "solidity": 0.2
             }
            },
            "type": "bar"
           }
          ],
          "barpolar": [
           {
            "marker": {
             "line": {
              "color": "#E5ECF6",
              "width": 0.5
             },
             "pattern": {
              "fillmode": "overlay",
              "size": 10,
              "solidity": 0.2
             }
            },
            "type": "barpolar"
           }
          ],
          "carpet": [
           {
            "aaxis": {
             "endlinecolor": "#2a3f5f",
             "gridcolor": "white",
             "linecolor": "white",
             "minorgridcolor": "white",
             "startlinecolor": "#2a3f5f"
            },
            "baxis": {
             "endlinecolor": "#2a3f5f",
             "gridcolor": "white",
             "linecolor": "white",
             "minorgridcolor": "white",
             "startlinecolor": "#2a3f5f"
            },
            "type": "carpet"
           }
          ],
          "choropleth": [
           {
            "colorbar": {
             "outlinewidth": 0,
             "ticks": ""
            },
            "type": "choropleth"
           }
          ],
          "contour": [
           {
            "colorbar": {
             "outlinewidth": 0,
             "ticks": ""
            },
            "colorscale": [
             [
              0,
              "#0d0887"
             ],
             [
              0.1111111111111111,
              "#46039f"
             ],
             [
              0.2222222222222222,
              "#7201a8"
             ],
             [
              0.3333333333333333,
              "#9c179e"
             ],
             [
              0.4444444444444444,
              "#bd3786"
             ],
             [
              0.5555555555555556,
              "#d8576b"
             ],
             [
              0.6666666666666666,
              "#ed7953"
             ],
             [
              0.7777777777777778,
              "#fb9f3a"
             ],
             [
              0.8888888888888888,
              "#fdca26"
             ],
             [
              1,
              "#f0f921"
             ]
            ],
            "type": "contour"
           }
          ],
          "contourcarpet": [
           {
            "colorbar": {
             "outlinewidth": 0,
             "ticks": ""
            },
            "type": "contourcarpet"
           }
          ],
          "heatmap": [
           {
            "colorbar": {
             "outlinewidth": 0,
             "ticks": ""
            },
            "colorscale": [
             [
              0,
              "#0d0887"
             ],
             [
              0.1111111111111111,
              "#46039f"
             ],
             [
              0.2222222222222222,
              "#7201a8"
             ],
             [
              0.3333333333333333,
              "#9c179e"
             ],
             [
              0.4444444444444444,
              "#bd3786"
             ],
             [
              0.5555555555555556,
              "#d8576b"
             ],
             [
              0.6666666666666666,
              "#ed7953"
             ],
             [
              0.7777777777777778,
              "#fb9f3a"
             ],
             [
              0.8888888888888888,
              "#fdca26"
             ],
             [
              1,
              "#f0f921"
             ]
            ],
            "type": "heatmap"
           }
          ],
          "heatmapgl": [
           {
            "colorbar": {
             "outlinewidth": 0,
             "ticks": ""
            },
            "colorscale": [
             [
              0,
              "#0d0887"
             ],
             [
              0.1111111111111111,
              "#46039f"
             ],
             [
              0.2222222222222222,
              "#7201a8"
             ],
             [
              0.3333333333333333,
              "#9c179e"
             ],
             [
              0.4444444444444444,
              "#bd3786"
             ],
             [
              0.5555555555555556,
              "#d8576b"
             ],
             [
              0.6666666666666666,
              "#ed7953"
             ],
             [
              0.7777777777777778,
              "#fb9f3a"
             ],
             [
              0.8888888888888888,
              "#fdca26"
             ],
             [
              1,
              "#f0f921"
             ]
            ],
            "type": "heatmapgl"
           }
          ],
          "histogram": [
           {
            "marker": {
             "pattern": {
              "fillmode": "overlay",
              "size": 10,
              "solidity": 0.2
             }
            },
            "type": "histogram"
           }
          ],
          "histogram2d": [
           {
            "colorbar": {
             "outlinewidth": 0,
             "ticks": ""
            },
            "colorscale": [
             [
              0,
              "#0d0887"
             ],
             [
              0.1111111111111111,
              "#46039f"
             ],
             [
              0.2222222222222222,
              "#7201a8"
             ],
             [
              0.3333333333333333,
              "#9c179e"
             ],
             [
              0.4444444444444444,
              "#bd3786"
             ],
             [
              0.5555555555555556,
              "#d8576b"
             ],
             [
              0.6666666666666666,
              "#ed7953"
             ],
             [
              0.7777777777777778,
              "#fb9f3a"
             ],
             [
              0.8888888888888888,
              "#fdca26"
             ],
             [
              1,
              "#f0f921"
             ]
            ],
            "type": "histogram2d"
           }
          ],
          "histogram2dcontour": [
           {
            "colorbar": {
             "outlinewidth": 0,
             "ticks": ""
            },
            "colorscale": [
             [
              0,
              "#0d0887"
             ],
             [
              0.1111111111111111,
              "#46039f"
             ],
             [
              0.2222222222222222,
              "#7201a8"
             ],
             [
              0.3333333333333333,
              "#9c179e"
             ],
             [
              0.4444444444444444,
              "#bd3786"
             ],
             [
              0.5555555555555556,
              "#d8576b"
             ],
             [
              0.6666666666666666,
              "#ed7953"
             ],
             [
              0.7777777777777778,
              "#fb9f3a"
             ],
             [
              0.8888888888888888,
              "#fdca26"
             ],
             [
              1,
              "#f0f921"
             ]
            ],
            "type": "histogram2dcontour"
           }
          ],
          "mesh3d": [
           {
            "colorbar": {
             "outlinewidth": 0,
             "ticks": ""
            },
            "type": "mesh3d"
           }
          ],
          "parcoords": [
           {
            "line": {
             "colorbar": {
              "outlinewidth": 0,
              "ticks": ""
             }
            },
            "type": "parcoords"
           }
          ],
          "pie": [
           {
            "automargin": true,
            "type": "pie"
           }
          ],
          "scatter": [
           {
            "fillpattern": {
             "fillmode": "overlay",
             "size": 10,
             "solidity": 0.2
            },
            "type": "scatter"
           }
          ],
          "scatter3d": [
           {
            "line": {
             "colorbar": {
              "outlinewidth": 0,
              "ticks": ""
             }
            },
            "marker": {
             "colorbar": {
              "outlinewidth": 0,
              "ticks": ""
             }
            },
            "type": "scatter3d"
           }
          ],
          "scattercarpet": [
           {
            "marker": {
             "colorbar": {
              "outlinewidth": 0,
              "ticks": ""
             }
            },
            "type": "scattercarpet"
           }
          ],
          "scattergeo": [
           {
            "marker": {
             "colorbar": {
              "outlinewidth": 0,
              "ticks": ""
             }
            },
            "type": "scattergeo"
           }
          ],
          "scattergl": [
           {
            "marker": {
             "colorbar": {
              "outlinewidth": 0,
              "ticks": ""
             }
            },
            "type": "scattergl"
           }
          ],
          "scattermapbox": [
           {
            "marker": {
             "colorbar": {
              "outlinewidth": 0,
              "ticks": ""
             }
            },
            "type": "scattermapbox"
           }
          ],
          "scatterpolar": [
           {
            "marker": {
             "colorbar": {
              "outlinewidth": 0,
              "ticks": ""
             }
            },
            "type": "scatterpolar"
           }
          ],
          "scatterpolargl": [
           {
            "marker": {
             "colorbar": {
              "outlinewidth": 0,
              "ticks": ""
             }
            },
            "type": "scatterpolargl"
           }
          ],
          "scatterternary": [
           {
            "marker": {
             "colorbar": {
              "outlinewidth": 0,
              "ticks": ""
             }
            },
            "type": "scatterternary"
           }
          ],
          "surface": [
           {
            "colorbar": {
             "outlinewidth": 0,
             "ticks": ""
            },
            "colorscale": [
             [
              0,
              "#0d0887"
             ],
             [
              0.1111111111111111,
              "#46039f"
             ],
             [
              0.2222222222222222,
              "#7201a8"
             ],
             [
              0.3333333333333333,
              "#9c179e"
             ],
             [
              0.4444444444444444,
              "#bd3786"
             ],
             [
              0.5555555555555556,
              "#d8576b"
             ],
             [
              0.6666666666666666,
              "#ed7953"
             ],
             [
              0.7777777777777778,
              "#fb9f3a"
             ],
             [
              0.8888888888888888,
              "#fdca26"
             ],
             [
              1,
              "#f0f921"
             ]
            ],
            "type": "surface"
           }
          ],
          "table": [
           {
            "cells": {
             "fill": {
              "color": "#EBF0F8"
             },
             "line": {
              "color": "white"
             }
            },
            "header": {
             "fill": {
              "color": "#C8D4E3"
             },
             "line": {
              "color": "white"
             }
            },
            "type": "table"
           }
          ]
         },
         "layout": {
          "annotationdefaults": {
           "arrowcolor": "#2a3f5f",
           "arrowhead": 0,
           "arrowwidth": 1
          },
          "autotypenumbers": "strict",
          "coloraxis": {
           "colorbar": {
            "outlinewidth": 0,
            "ticks": ""
           }
          },
          "colorscale": {
           "diverging": [
            [
             0,
             "#8e0152"
            ],
            [
             0.1,
             "#c51b7d"
            ],
            [
             0.2,
             "#de77ae"
            ],
            [
             0.3,
             "#f1b6da"
            ],
            [
             0.4,
             "#fde0ef"
            ],
            [
             0.5,
             "#f7f7f7"
            ],
            [
             0.6,
             "#e6f5d0"
            ],
            [
             0.7,
             "#b8e186"
            ],
            [
             0.8,
             "#7fbc41"
            ],
            [
             0.9,
             "#4d9221"
            ],
            [
             1,
             "#276419"
            ]
           ],
           "sequential": [
            [
             0,
             "#0d0887"
            ],
            [
             0.1111111111111111,
             "#46039f"
            ],
            [
             0.2222222222222222,
             "#7201a8"
            ],
            [
             0.3333333333333333,
             "#9c179e"
            ],
            [
             0.4444444444444444,
             "#bd3786"
            ],
            [
             0.5555555555555556,
             "#d8576b"
            ],
            [
             0.6666666666666666,
             "#ed7953"
            ],
            [
             0.7777777777777778,
             "#fb9f3a"
            ],
            [
             0.8888888888888888,
             "#fdca26"
            ],
            [
             1,
             "#f0f921"
            ]
           ],
           "sequentialminus": [
            [
             0,
             "#0d0887"
            ],
            [
             0.1111111111111111,
             "#46039f"
            ],
            [
             0.2222222222222222,
             "#7201a8"
            ],
            [
             0.3333333333333333,
             "#9c179e"
            ],
            [
             0.4444444444444444,
             "#bd3786"
            ],
            [
             0.5555555555555556,
             "#d8576b"
            ],
            [
             0.6666666666666666,
             "#ed7953"
            ],
            [
             0.7777777777777778,
             "#fb9f3a"
            ],
            [
             0.8888888888888888,
             "#fdca26"
            ],
            [
             1,
             "#f0f921"
            ]
           ]
          },
          "colorway": [
           "#636efa",
           "#EF553B",
           "#00cc96",
           "#ab63fa",
           "#FFA15A",
           "#19d3f3",
           "#FF6692",
           "#B6E880",
           "#FF97FF",
           "#FECB52"
          ],
          "font": {
           "color": "#2a3f5f"
          },
          "geo": {
           "bgcolor": "white",
           "lakecolor": "white",
           "landcolor": "#E5ECF6",
           "showlakes": true,
           "showland": true,
           "subunitcolor": "white"
          },
          "hoverlabel": {
           "align": "left"
          },
          "hovermode": "closest",
          "mapbox": {
           "style": "light"
          },
          "paper_bgcolor": "white",
          "plot_bgcolor": "#E5ECF6",
          "polar": {
           "angularaxis": {
            "gridcolor": "white",
            "linecolor": "white",
            "ticks": ""
           },
           "bgcolor": "#E5ECF6",
           "radialaxis": {
            "gridcolor": "white",
            "linecolor": "white",
            "ticks": ""
           }
          },
          "scene": {
           "xaxis": {
            "backgroundcolor": "#E5ECF6",
            "gridcolor": "white",
            "gridwidth": 2,
            "linecolor": "white",
            "showbackground": true,
            "ticks": "",
            "zerolinecolor": "white"
           },
           "yaxis": {
            "backgroundcolor": "#E5ECF6",
            "gridcolor": "white",
            "gridwidth": 2,
            "linecolor": "white",
            "showbackground": true,
            "ticks": "",
            "zerolinecolor": "white"
           },
           "zaxis": {
            "backgroundcolor": "#E5ECF6",
            "gridcolor": "white",
            "gridwidth": 2,
            "linecolor": "white",
            "showbackground": true,
            "ticks": "",
            "zerolinecolor": "white"
           }
          },
          "shapedefaults": {
           "line": {
            "color": "#2a3f5f"
           }
          },
          "ternary": {
           "aaxis": {
            "gridcolor": "white",
            "linecolor": "white",
            "ticks": ""
           },
           "baxis": {
            "gridcolor": "white",
            "linecolor": "white",
            "ticks": ""
           },
           "bgcolor": "#E5ECF6",
           "caxis": {
            "gridcolor": "white",
            "linecolor": "white",
            "ticks": ""
           }
          },
          "title": {
           "x": 0.05
          },
          "xaxis": {
           "automargin": true,
           "gridcolor": "white",
           "linecolor": "white",
           "ticks": "",
           "title": {
            "standoff": 15
           },
           "zerolinecolor": "white",
           "zerolinewidth": 2
          },
          "yaxis": {
           "automargin": true,
           "gridcolor": "white",
           "linecolor": "white",
           "ticks": "",
           "title": {
            "standoff": 15
           },
           "zerolinecolor": "white",
           "zerolinewidth": 2
          }
         }
        },
        "title": {
         "text": "Study subject by sex"
        }
       }
      }
     },
     "metadata": {},
     "output_type": "display_data"
    }
   ],
   "source": [
    "%run ../notebooks/sunburst.ipynb"
   ]
  },
  {
   "cell_type": "markdown",
   "metadata": {},
   "source": [
    "The sunburst chart shows which degree subjects women and men study most. We can compare how these differ between the sexes. To follow this up we will look at the difference in wage between sexes per study subject."
   ]
  },
  {
   "cell_type": "code",
   "execution_count": 17,
   "metadata": {},
   "outputs": [
    {
     "data": {
      "application/vnd.plotly.v1+json": {
       "config": {
        "plotlyServerURL": "https://plot.ly"
       },
       "data": [
        {
         "hoverinfo": "y+name",
         "marker": {
          "color": "rgb(102,194,165)"
         },
         "name": "Hbo-bachelor",
         "type": "bar",
         "x": [
          "Direct na verlaten onderwijs",
          "1 jaar na verlaten onderwijs",
          "2 jaar na verlaten onderwijs",
          "3 jaar na verlaten onderwijs",
          "4 jaar na verlaten onderwijs",
          "5 jaar na verlaten onderwijs",
          "Direct na verlaten onderwijs",
          "1 jaar na verlaten onderwijs",
          "2 jaar na verlaten onderwijs",
          "3 jaar na verlaten onderwijs",
          "4 jaar na verlaten onderwijs",
          "5 jaar na verlaten onderwijs",
          "Direct na verlaten onderwijs",
          "1 jaar na verlaten onderwijs",
          "2 jaar na verlaten onderwijs",
          "3 jaar na verlaten onderwijs",
          "4 jaar na verlaten onderwijs",
          "5 jaar na verlaten onderwijs",
          "Direct na verlaten onderwijs",
          "1 jaar na verlaten onderwijs",
          "2 jaar na verlaten onderwijs",
          "3 jaar na verlaten onderwijs",
          "4 jaar na verlaten onderwijs",
          "5 jaar na verlaten onderwijs",
          "Direct na verlaten onderwijs",
          "1 jaar na verlaten onderwijs",
          "2 jaar na verlaten onderwijs",
          "3 jaar na verlaten onderwijs",
          "4 jaar na verlaten onderwijs",
          "5 jaar na verlaten onderwijs",
          "Direct na verlaten onderwijs",
          "1 jaar na verlaten onderwijs",
          "2 jaar na verlaten onderwijs",
          "3 jaar na verlaten onderwijs",
          "4 jaar na verlaten onderwijs",
          "5 jaar na verlaten onderwijs",
          "Direct na verlaten onderwijs",
          "1 jaar na verlaten onderwijs",
          "2 jaar na verlaten onderwijs",
          "3 jaar na verlaten onderwijs",
          "4 jaar na verlaten onderwijs",
          "5 jaar na verlaten onderwijs",
          "Direct na verlaten onderwijs",
          "1 jaar na verlaten onderwijs",
          "2 jaar na verlaten onderwijs",
          "3 jaar na verlaten onderwijs",
          "4 jaar na verlaten onderwijs",
          "5 jaar na verlaten onderwijs",
          "Direct na verlaten onderwijs",
          "1 jaar na verlaten onderwijs",
          "2 jaar na verlaten onderwijs",
          "3 jaar na verlaten onderwijs",
          "4 jaar na verlaten onderwijs",
          "5 jaar na verlaten onderwijs",
          "Direct na verlaten onderwijs",
          "1 jaar na verlaten onderwijs",
          "2 jaar na verlaten onderwijs",
          "3 jaar na verlaten onderwijs",
          "4 jaar na verlaten onderwijs",
          "5 jaar na verlaten onderwijs",
          "Direct na verlaten onderwijs",
          "1 jaar na verlaten onderwijs",
          "2 jaar na verlaten onderwijs",
          "3 jaar na verlaten onderwijs",
          "4 jaar na verlaten onderwijs",
          "5 jaar na verlaten onderwijs",
          "Direct na verlaten onderwijs",
          "1 jaar na verlaten onderwijs",
          "2 jaar na verlaten onderwijs",
          "3 jaar na verlaten onderwijs",
          "4 jaar na verlaten onderwijs",
          "5 jaar na verlaten onderwijs",
          "Direct na verlaten onderwijs",
          "1 jaar na verlaten onderwijs",
          "2 jaar na verlaten onderwijs",
          "3 jaar na verlaten onderwijs",
          "4 jaar na verlaten onderwijs",
          "5 jaar na verlaten onderwijs",
          "Direct na verlaten onderwijs",
          "1 jaar na verlaten onderwijs",
          "2 jaar na verlaten onderwijs",
          "3 jaar na verlaten onderwijs",
          "4 jaar na verlaten onderwijs",
          "5 jaar na verlaten onderwijs",
          "Direct na verlaten onderwijs",
          "1 jaar na verlaten onderwijs",
          "2 jaar na verlaten onderwijs",
          "3 jaar na verlaten onderwijs",
          "4 jaar na verlaten onderwijs",
          "5 jaar na verlaten onderwijs",
          "Direct na verlaten onderwijs",
          "1 jaar na verlaten onderwijs",
          "2 jaar na verlaten onderwijs",
          "3 jaar na verlaten onderwijs",
          "4 jaar na verlaten onderwijs",
          "5 jaar na verlaten onderwijs",
          "Direct na verlaten onderwijs",
          "1 jaar na verlaten onderwijs",
          "2 jaar na verlaten onderwijs",
          "3 jaar na verlaten onderwijs",
          "4 jaar na verlaten onderwijs",
          "5 jaar na verlaten onderwijs",
          "Direct na verlaten onderwijs",
          "1 jaar na verlaten onderwijs",
          "2 jaar na verlaten onderwijs",
          "3 jaar na verlaten onderwijs",
          "4 jaar na verlaten onderwijs",
          "5 jaar na verlaten onderwijs",
          "Direct na verlaten onderwijs",
          "1 jaar na verlaten onderwijs",
          "2 jaar na verlaten onderwijs",
          "3 jaar na verlaten onderwijs",
          "4 jaar na verlaten onderwijs",
          "5 jaar na verlaten onderwijs",
          "Direct na verlaten onderwijs",
          "1 jaar na verlaten onderwijs",
          "2 jaar na verlaten onderwijs",
          "3 jaar na verlaten onderwijs",
          "4 jaar na verlaten onderwijs",
          "5 jaar na verlaten onderwijs",
          "Direct na verlaten onderwijs",
          "1 jaar na verlaten onderwijs",
          "2 jaar na verlaten onderwijs",
          "3 jaar na verlaten onderwijs",
          "4 jaar na verlaten onderwijs",
          "5 jaar na verlaten onderwijs",
          "Direct na verlaten onderwijs",
          "1 jaar na verlaten onderwijs",
          "2 jaar na verlaten onderwijs",
          "3 jaar na verlaten onderwijs",
          "4 jaar na verlaten onderwijs",
          "5 jaar na verlaten onderwijs",
          "Direct na verlaten onderwijs",
          "1 jaar na verlaten onderwijs",
          "2 jaar na verlaten onderwijs",
          "3 jaar na verlaten onderwijs",
          "4 jaar na verlaten onderwijs",
          "5 jaar na verlaten onderwijs",
          "Direct na verlaten onderwijs",
          "1 jaar na verlaten onderwijs",
          "2 jaar na verlaten onderwijs",
          "3 jaar na verlaten onderwijs",
          "4 jaar na verlaten onderwijs",
          "5 jaar na verlaten onderwijs",
          "Direct na verlaten onderwijs",
          "1 jaar na verlaten onderwijs",
          "2 jaar na verlaten onderwijs",
          "3 jaar na verlaten onderwijs",
          "4 jaar na verlaten onderwijs",
          "5 jaar na verlaten onderwijs",
          "Direct na verlaten onderwijs",
          "1 jaar na verlaten onderwijs",
          "2 jaar na verlaten onderwijs",
          "3 jaar na verlaten onderwijs",
          "4 jaar na verlaten onderwijs",
          "5 jaar na verlaten onderwijs",
          "Direct na verlaten onderwijs",
          "1 jaar na verlaten onderwijs",
          "2 jaar na verlaten onderwijs",
          "3 jaar na verlaten onderwijs",
          "4 jaar na verlaten onderwijs",
          "5 jaar na verlaten onderwijs",
          "Direct na verlaten onderwijs",
          "1 jaar na verlaten onderwijs",
          "2 jaar na verlaten onderwijs",
          "3 jaar na verlaten onderwijs",
          "4 jaar na verlaten onderwijs",
          "5 jaar na verlaten onderwijs",
          "Direct na verlaten onderwijs",
          "1 jaar na verlaten onderwijs",
          "2 jaar na verlaten onderwijs",
          "3 jaar na verlaten onderwijs",
          "4 jaar na verlaten onderwijs",
          "5 jaar na verlaten onderwijs",
          "Direct na verlaten onderwijs",
          "1 jaar na verlaten onderwijs",
          "2 jaar na verlaten onderwijs",
          "3 jaar na verlaten onderwijs",
          "4 jaar na verlaten onderwijs",
          "5 jaar na verlaten onderwijs",
          "Direct na verlaten onderwijs",
          "1 jaar na verlaten onderwijs",
          "2 jaar na verlaten onderwijs",
          "3 jaar na verlaten onderwijs",
          "4 jaar na verlaten onderwijs",
          "5 jaar na verlaten onderwijs",
          "Direct na verlaten onderwijs",
          "1 jaar na verlaten onderwijs",
          "2 jaar na verlaten onderwijs",
          "3 jaar na verlaten onderwijs",
          "4 jaar na verlaten onderwijs",
          "5 jaar na verlaten onderwijs",
          "Direct na verlaten onderwijs",
          "1 jaar na verlaten onderwijs",
          "2 jaar na verlaten onderwijs",
          "3 jaar na verlaten onderwijs",
          "4 jaar na verlaten onderwijs",
          "5 jaar na verlaten onderwijs",
          "Direct na verlaten onderwijs",
          "1 jaar na verlaten onderwijs",
          "2 jaar na verlaten onderwijs",
          "3 jaar na verlaten onderwijs",
          "4 jaar na verlaten onderwijs",
          "5 jaar na verlaten onderwijs",
          "Direct na verlaten onderwijs",
          "1 jaar na verlaten onderwijs",
          "2 jaar na verlaten onderwijs",
          "3 jaar na verlaten onderwijs",
          "4 jaar na verlaten onderwijs",
          "5 jaar na verlaten onderwijs",
          "Direct na verlaten onderwijs",
          "1 jaar na verlaten onderwijs",
          "2 jaar na verlaten onderwijs",
          "3 jaar na verlaten onderwijs",
          "4 jaar na verlaten onderwijs",
          "5 jaar na verlaten onderwijs",
          "Direct na verlaten onderwijs",
          "1 jaar na verlaten onderwijs",
          "2 jaar na verlaten onderwijs",
          "3 jaar na verlaten onderwijs",
          "4 jaar na verlaten onderwijs",
          "5 jaar na verlaten onderwijs",
          "Direct na verlaten onderwijs",
          "1 jaar na verlaten onderwijs",
          "2 jaar na verlaten onderwijs",
          "3 jaar na verlaten onderwijs",
          "4 jaar na verlaten onderwijs",
          "5 jaar na verlaten onderwijs",
          "Direct na verlaten onderwijs",
          "1 jaar na verlaten onderwijs",
          "2 jaar na verlaten onderwijs",
          "3 jaar na verlaten onderwijs",
          "4 jaar na verlaten onderwijs",
          "5 jaar na verlaten onderwijs",
          "Direct na verlaten onderwijs",
          "1 jaar na verlaten onderwijs",
          "2 jaar na verlaten onderwijs",
          "3 jaar na verlaten onderwijs",
          "4 jaar na verlaten onderwijs",
          "5 jaar na verlaten onderwijs",
          "Direct na verlaten onderwijs",
          "1 jaar na verlaten onderwijs",
          "2 jaar na verlaten onderwijs",
          "3 jaar na verlaten onderwijs",
          "4 jaar na verlaten onderwijs",
          "5 jaar na verlaten onderwijs",
          "Direct na verlaten onderwijs",
          "1 jaar na verlaten onderwijs",
          "2 jaar na verlaten onderwijs",
          "3 jaar na verlaten onderwijs",
          "4 jaar na verlaten onderwijs",
          "5 jaar na verlaten onderwijs",
          "Direct na verlaten onderwijs",
          "1 jaar na verlaten onderwijs",
          "2 jaar na verlaten onderwijs",
          "3 jaar na verlaten onderwijs",
          "4 jaar na verlaten onderwijs",
          "5 jaar na verlaten onderwijs",
          "Direct na verlaten onderwijs",
          "1 jaar na verlaten onderwijs",
          "2 jaar na verlaten onderwijs",
          "3 jaar na verlaten onderwijs",
          "4 jaar na verlaten onderwijs",
          "5 jaar na verlaten onderwijs",
          "Direct na verlaten onderwijs",
          "1 jaar na verlaten onderwijs",
          "2 jaar na verlaten onderwijs",
          "3 jaar na verlaten onderwijs",
          "4 jaar na verlaten onderwijs",
          "5 jaar na verlaten onderwijs",
          "Direct na verlaten onderwijs",
          "1 jaar na verlaten onderwijs",
          "2 jaar na verlaten onderwijs",
          "3 jaar na verlaten onderwijs",
          "4 jaar na verlaten onderwijs",
          "5 jaar na verlaten onderwijs",
          "Direct na verlaten onderwijs",
          "1 jaar na verlaten onderwijs",
          "2 jaar na verlaten onderwijs",
          "3 jaar na verlaten onderwijs",
          "4 jaar na verlaten onderwijs",
          "5 jaar na verlaten onderwijs",
          "Direct na verlaten onderwijs",
          "1 jaar na verlaten onderwijs",
          "2 jaar na verlaten onderwijs",
          "3 jaar na verlaten onderwijs",
          "4 jaar na verlaten onderwijs",
          "5 jaar na verlaten onderwijs",
          "Direct na verlaten onderwijs",
          "1 jaar na verlaten onderwijs",
          "2 jaar na verlaten onderwijs",
          "3 jaar na verlaten onderwijs",
          "4 jaar na verlaten onderwijs",
          "5 jaar na verlaten onderwijs",
          "Direct na verlaten onderwijs",
          "1 jaar na verlaten onderwijs",
          "2 jaar na verlaten onderwijs",
          "3 jaar na verlaten onderwijs",
          "4 jaar na verlaten onderwijs",
          "5 jaar na verlaten onderwijs",
          "Direct na verlaten onderwijs",
          "1 jaar na verlaten onderwijs",
          "2 jaar na verlaten onderwijs",
          "3 jaar na verlaten onderwijs",
          "4 jaar na verlaten onderwijs",
          "5 jaar na verlaten onderwijs",
          "Direct na verlaten onderwijs",
          "1 jaar na verlaten onderwijs",
          "2 jaar na verlaten onderwijs",
          "3 jaar na verlaten onderwijs",
          "4 jaar na verlaten onderwijs",
          "5 jaar na verlaten onderwijs",
          "Direct na verlaten onderwijs",
          "1 jaar na verlaten onderwijs",
          "2 jaar na verlaten onderwijs",
          "3 jaar na verlaten onderwijs",
          "4 jaar na verlaten onderwijs",
          "5 jaar na verlaten onderwijs",
          "Direct na verlaten onderwijs",
          "1 jaar na verlaten onderwijs",
          "2 jaar na verlaten onderwijs",
          "3 jaar na verlaten onderwijs",
          "4 jaar na verlaten onderwijs",
          "5 jaar na verlaten onderwijs",
          "Direct na verlaten onderwijs",
          "1 jaar na verlaten onderwijs",
          "2 jaar na verlaten onderwijs",
          "3 jaar na verlaten onderwijs",
          "4 jaar na verlaten onderwijs",
          "5 jaar na verlaten onderwijs",
          "Direct na verlaten onderwijs",
          "1 jaar na verlaten onderwijs",
          "2 jaar na verlaten onderwijs",
          "3 jaar na verlaten onderwijs",
          "4 jaar na verlaten onderwijs",
          "5 jaar na verlaten onderwijs",
          "Direct na verlaten onderwijs",
          "1 jaar na verlaten onderwijs",
          "2 jaar na verlaten onderwijs",
          "3 jaar na verlaten onderwijs",
          "4 jaar na verlaten onderwijs",
          "5 jaar na verlaten onderwijs",
          "Direct na verlaten onderwijs",
          "1 jaar na verlaten onderwijs",
          "2 jaar na verlaten onderwijs",
          "3 jaar na verlaten onderwijs",
          "4 jaar na verlaten onderwijs",
          "5 jaar na verlaten onderwijs",
          "Direct na verlaten onderwijs",
          "1 jaar na verlaten onderwijs",
          "2 jaar na verlaten onderwijs",
          "3 jaar na verlaten onderwijs",
          "4 jaar na verlaten onderwijs",
          "5 jaar na verlaten onderwijs",
          "Direct na verlaten onderwijs",
          "1 jaar na verlaten onderwijs",
          "2 jaar na verlaten onderwijs",
          "3 jaar na verlaten onderwijs",
          "4 jaar na verlaten onderwijs",
          "5 jaar na verlaten onderwijs",
          "Direct na verlaten onderwijs",
          "1 jaar na verlaten onderwijs",
          "2 jaar na verlaten onderwijs",
          "3 jaar na verlaten onderwijs",
          "4 jaar na verlaten onderwijs",
          "5 jaar na verlaten onderwijs",
          "Direct na verlaten onderwijs",
          "1 jaar na verlaten onderwijs",
          "2 jaar na verlaten onderwijs",
          "3 jaar na verlaten onderwijs",
          "4 jaar na verlaten onderwijs",
          "5 jaar na verlaten onderwijs",
          "Direct na verlaten onderwijs",
          "1 jaar na verlaten onderwijs",
          "2 jaar na verlaten onderwijs",
          "3 jaar na verlaten onderwijs",
          "4 jaar na verlaten onderwijs",
          "5 jaar na verlaten onderwijs",
          "Direct na verlaten onderwijs",
          "1 jaar na verlaten onderwijs",
          "2 jaar na verlaten onderwijs",
          "3 jaar na verlaten onderwijs",
          "4 jaar na verlaten onderwijs",
          "5 jaar na verlaten onderwijs",
          "Direct na verlaten onderwijs",
          "1 jaar na verlaten onderwijs",
          "2 jaar na verlaten onderwijs",
          "3 jaar na verlaten onderwijs",
          "4 jaar na verlaten onderwijs",
          "5 jaar na verlaten onderwijs",
          "Direct na verlaten onderwijs",
          "1 jaar na verlaten onderwijs",
          "2 jaar na verlaten onderwijs",
          "3 jaar na verlaten onderwijs",
          "4 jaar na verlaten onderwijs",
          "5 jaar na verlaten onderwijs",
          "Direct na verlaten onderwijs",
          "1 jaar na verlaten onderwijs",
          "2 jaar na verlaten onderwijs",
          "3 jaar na verlaten onderwijs",
          "4 jaar na verlaten onderwijs",
          "5 jaar na verlaten onderwijs",
          "Direct na verlaten onderwijs",
          "1 jaar na verlaten onderwijs",
          "2 jaar na verlaten onderwijs",
          "3 jaar na verlaten onderwijs",
          "4 jaar na verlaten onderwijs",
          "5 jaar na verlaten onderwijs",
          "Direct na verlaten onderwijs",
          "1 jaar na verlaten onderwijs",
          "2 jaar na verlaten onderwijs",
          "3 jaar na verlaten onderwijs",
          "4 jaar na verlaten onderwijs",
          "5 jaar na verlaten onderwijs",
          "Direct na verlaten onderwijs",
          "1 jaar na verlaten onderwijs",
          "2 jaar na verlaten onderwijs",
          "3 jaar na verlaten onderwijs",
          "4 jaar na verlaten onderwijs",
          "5 jaar na verlaten onderwijs",
          "Direct na verlaten onderwijs",
          "1 jaar na verlaten onderwijs",
          "2 jaar na verlaten onderwijs",
          "3 jaar na verlaten onderwijs",
          "4 jaar na verlaten onderwijs",
          "5 jaar na verlaten onderwijs",
          "Direct na verlaten onderwijs",
          "1 jaar na verlaten onderwijs",
          "2 jaar na verlaten onderwijs",
          "3 jaar na verlaten onderwijs",
          "4 jaar na verlaten onderwijs",
          "5 jaar na verlaten onderwijs",
          "Direct na verlaten onderwijs",
          "1 jaar na verlaten onderwijs",
          "2 jaar na verlaten onderwijs",
          "3 jaar na verlaten onderwijs",
          "4 jaar na verlaten onderwijs",
          "5 jaar na verlaten onderwijs",
          "Direct na verlaten onderwijs",
          "1 jaar na verlaten onderwijs",
          "2 jaar na verlaten onderwijs",
          "3 jaar na verlaten onderwijs",
          "4 jaar na verlaten onderwijs",
          "5 jaar na verlaten onderwijs",
          "Direct na verlaten onderwijs",
          "1 jaar na verlaten onderwijs",
          "2 jaar na verlaten onderwijs",
          "3 jaar na verlaten onderwijs",
          "4 jaar na verlaten onderwijs",
          "5 jaar na verlaten onderwijs",
          "Direct na verlaten onderwijs",
          "1 jaar na verlaten onderwijs",
          "2 jaar na verlaten onderwijs",
          "3 jaar na verlaten onderwijs",
          "4 jaar na verlaten onderwijs",
          "5 jaar na verlaten onderwijs",
          "Direct na verlaten onderwijs",
          "1 jaar na verlaten onderwijs",
          "2 jaar na verlaten onderwijs",
          "3 jaar na verlaten onderwijs",
          "4 jaar na verlaten onderwijs",
          "5 jaar na verlaten onderwijs",
          "Direct na verlaten onderwijs",
          "1 jaar na verlaten onderwijs",
          "2 jaar na verlaten onderwijs",
          "3 jaar na verlaten onderwijs",
          "4 jaar na verlaten onderwijs",
          "5 jaar na verlaten onderwijs",
          "Direct na verlaten onderwijs",
          "1 jaar na verlaten onderwijs",
          "2 jaar na verlaten onderwijs",
          "3 jaar na verlaten onderwijs",
          "4 jaar na verlaten onderwijs",
          "5 jaar na verlaten onderwijs",
          "Direct na verlaten onderwijs",
          "1 jaar na verlaten onderwijs",
          "2 jaar na verlaten onderwijs",
          "3 jaar na verlaten onderwijs",
          "4 jaar na verlaten onderwijs",
          "5 jaar na verlaten onderwijs"
         ],
         "y": [
          14.79,
          16.3,
          18.14,
          19.61,
          21.4,
          22.84
         ]
        },
        {
         "hoverinfo": "y+name",
         "marker": {
          "color": "rgb(252,141,98)"
         },
         "name": "Hbo-master",
         "type": "bar",
         "x": [
          "Direct na verlaten onderwijs",
          "1 jaar na verlaten onderwijs",
          "2 jaar na verlaten onderwijs",
          "3 jaar na verlaten onderwijs",
          "4 jaar na verlaten onderwijs",
          "5 jaar na verlaten onderwijs",
          "Direct na verlaten onderwijs",
          "1 jaar na verlaten onderwijs",
          "2 jaar na verlaten onderwijs",
          "3 jaar na verlaten onderwijs",
          "4 jaar na verlaten onderwijs",
          "5 jaar na verlaten onderwijs",
          "Direct na verlaten onderwijs",
          "1 jaar na verlaten onderwijs",
          "2 jaar na verlaten onderwijs",
          "3 jaar na verlaten onderwijs",
          "4 jaar na verlaten onderwijs",
          "5 jaar na verlaten onderwijs",
          "Direct na verlaten onderwijs",
          "1 jaar na verlaten onderwijs",
          "2 jaar na verlaten onderwijs",
          "3 jaar na verlaten onderwijs",
          "4 jaar na verlaten onderwijs",
          "5 jaar na verlaten onderwijs",
          "Direct na verlaten onderwijs",
          "1 jaar na verlaten onderwijs",
          "2 jaar na verlaten onderwijs",
          "3 jaar na verlaten onderwijs",
          "4 jaar na verlaten onderwijs",
          "5 jaar na verlaten onderwijs",
          "Direct na verlaten onderwijs",
          "1 jaar na verlaten onderwijs",
          "2 jaar na verlaten onderwijs",
          "3 jaar na verlaten onderwijs",
          "4 jaar na verlaten onderwijs",
          "5 jaar na verlaten onderwijs",
          "Direct na verlaten onderwijs",
          "1 jaar na verlaten onderwijs",
          "2 jaar na verlaten onderwijs",
          "3 jaar na verlaten onderwijs",
          "4 jaar na verlaten onderwijs",
          "5 jaar na verlaten onderwijs",
          "Direct na verlaten onderwijs",
          "1 jaar na verlaten onderwijs",
          "2 jaar na verlaten onderwijs",
          "3 jaar na verlaten onderwijs",
          "4 jaar na verlaten onderwijs",
          "5 jaar na verlaten onderwijs",
          "Direct na verlaten onderwijs",
          "1 jaar na verlaten onderwijs",
          "2 jaar na verlaten onderwijs",
          "3 jaar na verlaten onderwijs",
          "4 jaar na verlaten onderwijs",
          "5 jaar na verlaten onderwijs",
          "Direct na verlaten onderwijs",
          "1 jaar na verlaten onderwijs",
          "2 jaar na verlaten onderwijs",
          "3 jaar na verlaten onderwijs",
          "4 jaar na verlaten onderwijs",
          "5 jaar na verlaten onderwijs",
          "Direct na verlaten onderwijs",
          "1 jaar na verlaten onderwijs",
          "2 jaar na verlaten onderwijs",
          "3 jaar na verlaten onderwijs",
          "4 jaar na verlaten onderwijs",
          "5 jaar na verlaten onderwijs",
          "Direct na verlaten onderwijs",
          "1 jaar na verlaten onderwijs",
          "2 jaar na verlaten onderwijs",
          "3 jaar na verlaten onderwijs",
          "4 jaar na verlaten onderwijs",
          "5 jaar na verlaten onderwijs",
          "Direct na verlaten onderwijs",
          "1 jaar na verlaten onderwijs",
          "2 jaar na verlaten onderwijs",
          "3 jaar na verlaten onderwijs",
          "4 jaar na verlaten onderwijs",
          "5 jaar na verlaten onderwijs",
          "Direct na verlaten onderwijs",
          "1 jaar na verlaten onderwijs",
          "2 jaar na verlaten onderwijs",
          "3 jaar na verlaten onderwijs",
          "4 jaar na verlaten onderwijs",
          "5 jaar na verlaten onderwijs",
          "Direct na verlaten onderwijs",
          "1 jaar na verlaten onderwijs",
          "2 jaar na verlaten onderwijs",
          "3 jaar na verlaten onderwijs",
          "4 jaar na verlaten onderwijs",
          "5 jaar na verlaten onderwijs",
          "Direct na verlaten onderwijs",
          "1 jaar na verlaten onderwijs",
          "2 jaar na verlaten onderwijs",
          "3 jaar na verlaten onderwijs",
          "4 jaar na verlaten onderwijs",
          "5 jaar na verlaten onderwijs",
          "Direct na verlaten onderwijs",
          "1 jaar na verlaten onderwijs",
          "2 jaar na verlaten onderwijs",
          "3 jaar na verlaten onderwijs",
          "4 jaar na verlaten onderwijs",
          "5 jaar na verlaten onderwijs",
          "Direct na verlaten onderwijs",
          "1 jaar na verlaten onderwijs",
          "2 jaar na verlaten onderwijs",
          "3 jaar na verlaten onderwijs",
          "4 jaar na verlaten onderwijs",
          "5 jaar na verlaten onderwijs",
          "Direct na verlaten onderwijs",
          "1 jaar na verlaten onderwijs",
          "2 jaar na verlaten onderwijs",
          "3 jaar na verlaten onderwijs",
          "4 jaar na verlaten onderwijs",
          "5 jaar na verlaten onderwijs",
          "Direct na verlaten onderwijs",
          "1 jaar na verlaten onderwijs",
          "2 jaar na verlaten onderwijs",
          "3 jaar na verlaten onderwijs",
          "4 jaar na verlaten onderwijs",
          "5 jaar na verlaten onderwijs",
          "Direct na verlaten onderwijs",
          "1 jaar na verlaten onderwijs",
          "2 jaar na verlaten onderwijs",
          "3 jaar na verlaten onderwijs",
          "4 jaar na verlaten onderwijs",
          "5 jaar na verlaten onderwijs",
          "Direct na verlaten onderwijs",
          "1 jaar na verlaten onderwijs",
          "2 jaar na verlaten onderwijs",
          "3 jaar na verlaten onderwijs",
          "4 jaar na verlaten onderwijs",
          "5 jaar na verlaten onderwijs",
          "Direct na verlaten onderwijs",
          "1 jaar na verlaten onderwijs",
          "2 jaar na verlaten onderwijs",
          "3 jaar na verlaten onderwijs",
          "4 jaar na verlaten onderwijs",
          "5 jaar na verlaten onderwijs",
          "Direct na verlaten onderwijs",
          "1 jaar na verlaten onderwijs",
          "2 jaar na verlaten onderwijs",
          "3 jaar na verlaten onderwijs",
          "4 jaar na verlaten onderwijs",
          "5 jaar na verlaten onderwijs",
          "Direct na verlaten onderwijs",
          "1 jaar na verlaten onderwijs",
          "2 jaar na verlaten onderwijs",
          "3 jaar na verlaten onderwijs",
          "4 jaar na verlaten onderwijs",
          "5 jaar na verlaten onderwijs",
          "Direct na verlaten onderwijs",
          "1 jaar na verlaten onderwijs",
          "2 jaar na verlaten onderwijs",
          "3 jaar na verlaten onderwijs",
          "4 jaar na verlaten onderwijs",
          "5 jaar na verlaten onderwijs",
          "Direct na verlaten onderwijs",
          "1 jaar na verlaten onderwijs",
          "2 jaar na verlaten onderwijs",
          "3 jaar na verlaten onderwijs",
          "4 jaar na verlaten onderwijs",
          "5 jaar na verlaten onderwijs",
          "Direct na verlaten onderwijs",
          "1 jaar na verlaten onderwijs",
          "2 jaar na verlaten onderwijs",
          "3 jaar na verlaten onderwijs",
          "4 jaar na verlaten onderwijs",
          "5 jaar na verlaten onderwijs",
          "Direct na verlaten onderwijs",
          "1 jaar na verlaten onderwijs",
          "2 jaar na verlaten onderwijs",
          "3 jaar na verlaten onderwijs",
          "4 jaar na verlaten onderwijs",
          "5 jaar na verlaten onderwijs",
          "Direct na verlaten onderwijs",
          "1 jaar na verlaten onderwijs",
          "2 jaar na verlaten onderwijs",
          "3 jaar na verlaten onderwijs",
          "4 jaar na verlaten onderwijs",
          "5 jaar na verlaten onderwijs",
          "Direct na verlaten onderwijs",
          "1 jaar na verlaten onderwijs",
          "2 jaar na verlaten onderwijs",
          "3 jaar na verlaten onderwijs",
          "4 jaar na verlaten onderwijs",
          "5 jaar na verlaten onderwijs",
          "Direct na verlaten onderwijs",
          "1 jaar na verlaten onderwijs",
          "2 jaar na verlaten onderwijs",
          "3 jaar na verlaten onderwijs",
          "4 jaar na verlaten onderwijs",
          "5 jaar na verlaten onderwijs",
          "Direct na verlaten onderwijs",
          "1 jaar na verlaten onderwijs",
          "2 jaar na verlaten onderwijs",
          "3 jaar na verlaten onderwijs",
          "4 jaar na verlaten onderwijs",
          "5 jaar na verlaten onderwijs",
          "Direct na verlaten onderwijs",
          "1 jaar na verlaten onderwijs",
          "2 jaar na verlaten onderwijs",
          "3 jaar na verlaten onderwijs",
          "4 jaar na verlaten onderwijs",
          "5 jaar na verlaten onderwijs",
          "Direct na verlaten onderwijs",
          "1 jaar na verlaten onderwijs",
          "2 jaar na verlaten onderwijs",
          "3 jaar na verlaten onderwijs",
          "4 jaar na verlaten onderwijs",
          "5 jaar na verlaten onderwijs",
          "Direct na verlaten onderwijs",
          "1 jaar na verlaten onderwijs",
          "2 jaar na verlaten onderwijs",
          "3 jaar na verlaten onderwijs",
          "4 jaar na verlaten onderwijs",
          "5 jaar na verlaten onderwijs",
          "Direct na verlaten onderwijs",
          "1 jaar na verlaten onderwijs",
          "2 jaar na verlaten onderwijs",
          "3 jaar na verlaten onderwijs",
          "4 jaar na verlaten onderwijs",
          "5 jaar na verlaten onderwijs",
          "Direct na verlaten onderwijs",
          "1 jaar na verlaten onderwijs",
          "2 jaar na verlaten onderwijs",
          "3 jaar na verlaten onderwijs",
          "4 jaar na verlaten onderwijs",
          "5 jaar na verlaten onderwijs",
          "Direct na verlaten onderwijs",
          "1 jaar na verlaten onderwijs",
          "2 jaar na verlaten onderwijs",
          "3 jaar na verlaten onderwijs",
          "4 jaar na verlaten onderwijs",
          "5 jaar na verlaten onderwijs",
          "Direct na verlaten onderwijs",
          "1 jaar na verlaten onderwijs",
          "2 jaar na verlaten onderwijs",
          "3 jaar na verlaten onderwijs",
          "4 jaar na verlaten onderwijs",
          "5 jaar na verlaten onderwijs",
          "Direct na verlaten onderwijs",
          "1 jaar na verlaten onderwijs",
          "2 jaar na verlaten onderwijs",
          "3 jaar na verlaten onderwijs",
          "4 jaar na verlaten onderwijs",
          "5 jaar na verlaten onderwijs",
          "Direct na verlaten onderwijs",
          "1 jaar na verlaten onderwijs",
          "2 jaar na verlaten onderwijs",
          "3 jaar na verlaten onderwijs",
          "4 jaar na verlaten onderwijs",
          "5 jaar na verlaten onderwijs",
          "Direct na verlaten onderwijs",
          "1 jaar na verlaten onderwijs",
          "2 jaar na verlaten onderwijs",
          "3 jaar na verlaten onderwijs",
          "4 jaar na verlaten onderwijs",
          "5 jaar na verlaten onderwijs",
          "Direct na verlaten onderwijs",
          "1 jaar na verlaten onderwijs",
          "2 jaar na verlaten onderwijs",
          "3 jaar na verlaten onderwijs",
          "4 jaar na verlaten onderwijs",
          "5 jaar na verlaten onderwijs",
          "Direct na verlaten onderwijs",
          "1 jaar na verlaten onderwijs",
          "2 jaar na verlaten onderwijs",
          "3 jaar na verlaten onderwijs",
          "4 jaar na verlaten onderwijs",
          "5 jaar na verlaten onderwijs",
          "Direct na verlaten onderwijs",
          "1 jaar na verlaten onderwijs",
          "2 jaar na verlaten onderwijs",
          "3 jaar na verlaten onderwijs",
          "4 jaar na verlaten onderwijs",
          "5 jaar na verlaten onderwijs",
          "Direct na verlaten onderwijs",
          "1 jaar na verlaten onderwijs",
          "2 jaar na verlaten onderwijs",
          "3 jaar na verlaten onderwijs",
          "4 jaar na verlaten onderwijs",
          "5 jaar na verlaten onderwijs",
          "Direct na verlaten onderwijs",
          "1 jaar na verlaten onderwijs",
          "2 jaar na verlaten onderwijs",
          "3 jaar na verlaten onderwijs",
          "4 jaar na verlaten onderwijs",
          "5 jaar na verlaten onderwijs",
          "Direct na verlaten onderwijs",
          "1 jaar na verlaten onderwijs",
          "2 jaar na verlaten onderwijs",
          "3 jaar na verlaten onderwijs",
          "4 jaar na verlaten onderwijs",
          "5 jaar na verlaten onderwijs",
          "Direct na verlaten onderwijs",
          "1 jaar na verlaten onderwijs",
          "2 jaar na verlaten onderwijs",
          "3 jaar na verlaten onderwijs",
          "4 jaar na verlaten onderwijs",
          "5 jaar na verlaten onderwijs",
          "Direct na verlaten onderwijs",
          "1 jaar na verlaten onderwijs",
          "2 jaar na verlaten onderwijs",
          "3 jaar na verlaten onderwijs",
          "4 jaar na verlaten onderwijs",
          "5 jaar na verlaten onderwijs",
          "Direct na verlaten onderwijs",
          "1 jaar na verlaten onderwijs",
          "2 jaar na verlaten onderwijs",
          "3 jaar na verlaten onderwijs",
          "4 jaar na verlaten onderwijs",
          "5 jaar na verlaten onderwijs",
          "Direct na verlaten onderwijs",
          "1 jaar na verlaten onderwijs",
          "2 jaar na verlaten onderwijs",
          "3 jaar na verlaten onderwijs",
          "4 jaar na verlaten onderwijs",
          "5 jaar na verlaten onderwijs",
          "Direct na verlaten onderwijs",
          "1 jaar na verlaten onderwijs",
          "2 jaar na verlaten onderwijs",
          "3 jaar na verlaten onderwijs",
          "4 jaar na verlaten onderwijs",
          "5 jaar na verlaten onderwijs",
          "Direct na verlaten onderwijs",
          "1 jaar na verlaten onderwijs",
          "2 jaar na verlaten onderwijs",
          "3 jaar na verlaten onderwijs",
          "4 jaar na verlaten onderwijs",
          "5 jaar na verlaten onderwijs",
          "Direct na verlaten onderwijs",
          "1 jaar na verlaten onderwijs",
          "2 jaar na verlaten onderwijs",
          "3 jaar na verlaten onderwijs",
          "4 jaar na verlaten onderwijs",
          "5 jaar na verlaten onderwijs",
          "Direct na verlaten onderwijs",
          "1 jaar na verlaten onderwijs",
          "2 jaar na verlaten onderwijs",
          "3 jaar na verlaten onderwijs",
          "4 jaar na verlaten onderwijs",
          "5 jaar na verlaten onderwijs",
          "Direct na verlaten onderwijs",
          "1 jaar na verlaten onderwijs",
          "2 jaar na verlaten onderwijs",
          "3 jaar na verlaten onderwijs",
          "4 jaar na verlaten onderwijs",
          "5 jaar na verlaten onderwijs",
          "Direct na verlaten onderwijs",
          "1 jaar na verlaten onderwijs",
          "2 jaar na verlaten onderwijs",
          "3 jaar na verlaten onderwijs",
          "4 jaar na verlaten onderwijs",
          "5 jaar na verlaten onderwijs",
          "Direct na verlaten onderwijs",
          "1 jaar na verlaten onderwijs",
          "2 jaar na verlaten onderwijs",
          "3 jaar na verlaten onderwijs",
          "4 jaar na verlaten onderwijs",
          "5 jaar na verlaten onderwijs",
          "Direct na verlaten onderwijs",
          "1 jaar na verlaten onderwijs",
          "2 jaar na verlaten onderwijs",
          "3 jaar na verlaten onderwijs",
          "4 jaar na verlaten onderwijs",
          "5 jaar na verlaten onderwijs",
          "Direct na verlaten onderwijs",
          "1 jaar na verlaten onderwijs",
          "2 jaar na verlaten onderwijs",
          "3 jaar na verlaten onderwijs",
          "4 jaar na verlaten onderwijs",
          "5 jaar na verlaten onderwijs",
          "Direct na verlaten onderwijs",
          "1 jaar na verlaten onderwijs",
          "2 jaar na verlaten onderwijs",
          "3 jaar na verlaten onderwijs",
          "4 jaar na verlaten onderwijs",
          "5 jaar na verlaten onderwijs",
          "Direct na verlaten onderwijs",
          "1 jaar na verlaten onderwijs",
          "2 jaar na verlaten onderwijs",
          "3 jaar na verlaten onderwijs",
          "4 jaar na verlaten onderwijs",
          "5 jaar na verlaten onderwijs",
          "Direct na verlaten onderwijs",
          "1 jaar na verlaten onderwijs",
          "2 jaar na verlaten onderwijs",
          "3 jaar na verlaten onderwijs",
          "4 jaar na verlaten onderwijs",
          "5 jaar na verlaten onderwijs",
          "Direct na verlaten onderwijs",
          "1 jaar na verlaten onderwijs",
          "2 jaar na verlaten onderwijs",
          "3 jaar na verlaten onderwijs",
          "4 jaar na verlaten onderwijs",
          "5 jaar na verlaten onderwijs",
          "Direct na verlaten onderwijs",
          "1 jaar na verlaten onderwijs",
          "2 jaar na verlaten onderwijs",
          "3 jaar na verlaten onderwijs",
          "4 jaar na verlaten onderwijs",
          "5 jaar na verlaten onderwijs",
          "Direct na verlaten onderwijs",
          "1 jaar na verlaten onderwijs",
          "2 jaar na verlaten onderwijs",
          "3 jaar na verlaten onderwijs",
          "4 jaar na verlaten onderwijs",
          "5 jaar na verlaten onderwijs",
          "Direct na verlaten onderwijs",
          "1 jaar na verlaten onderwijs",
          "2 jaar na verlaten onderwijs",
          "3 jaar na verlaten onderwijs",
          "4 jaar na verlaten onderwijs",
          "5 jaar na verlaten onderwijs",
          "Direct na verlaten onderwijs",
          "1 jaar na verlaten onderwijs",
          "2 jaar na verlaten onderwijs",
          "3 jaar na verlaten onderwijs",
          "4 jaar na verlaten onderwijs",
          "5 jaar na verlaten onderwijs",
          "Direct na verlaten onderwijs",
          "1 jaar na verlaten onderwijs",
          "2 jaar na verlaten onderwijs",
          "3 jaar na verlaten onderwijs",
          "4 jaar na verlaten onderwijs",
          "5 jaar na verlaten onderwijs",
          "Direct na verlaten onderwijs",
          "1 jaar na verlaten onderwijs",
          "2 jaar na verlaten onderwijs",
          "3 jaar na verlaten onderwijs",
          "4 jaar na verlaten onderwijs",
          "5 jaar na verlaten onderwijs",
          "Direct na verlaten onderwijs",
          "1 jaar na verlaten onderwijs",
          "2 jaar na verlaten onderwijs",
          "3 jaar na verlaten onderwijs",
          "4 jaar na verlaten onderwijs",
          "5 jaar na verlaten onderwijs",
          "Direct na verlaten onderwijs",
          "1 jaar na verlaten onderwijs",
          "2 jaar na verlaten onderwijs",
          "3 jaar na verlaten onderwijs",
          "4 jaar na verlaten onderwijs",
          "5 jaar na verlaten onderwijs",
          "Direct na verlaten onderwijs",
          "1 jaar na verlaten onderwijs",
          "2 jaar na verlaten onderwijs",
          "3 jaar na verlaten onderwijs",
          "4 jaar na verlaten onderwijs",
          "5 jaar na verlaten onderwijs",
          "Direct na verlaten onderwijs",
          "1 jaar na verlaten onderwijs",
          "2 jaar na verlaten onderwijs",
          "3 jaar na verlaten onderwijs",
          "4 jaar na verlaten onderwijs",
          "5 jaar na verlaten onderwijs",
          "Direct na verlaten onderwijs",
          "1 jaar na verlaten onderwijs",
          "2 jaar na verlaten onderwijs",
          "3 jaar na verlaten onderwijs",
          "4 jaar na verlaten onderwijs",
          "5 jaar na verlaten onderwijs",
          "Direct na verlaten onderwijs",
          "1 jaar na verlaten onderwijs",
          "2 jaar na verlaten onderwijs",
          "3 jaar na verlaten onderwijs",
          "4 jaar na verlaten onderwijs",
          "5 jaar na verlaten onderwijs",
          "Direct na verlaten onderwijs",
          "1 jaar na verlaten onderwijs",
          "2 jaar na verlaten onderwijs",
          "3 jaar na verlaten onderwijs",
          "4 jaar na verlaten onderwijs",
          "5 jaar na verlaten onderwijs",
          "Direct na verlaten onderwijs",
          "1 jaar na verlaten onderwijs",
          "2 jaar na verlaten onderwijs",
          "3 jaar na verlaten onderwijs",
          "4 jaar na verlaten onderwijs",
          "5 jaar na verlaten onderwijs"
         ],
         "y": [
          17.29,
          17.84,
          19.85,
          21.01,
          22.68,
          23.87
         ]
        },
        {
         "hoverinfo": "y+name",
         "marker": {
          "color": "rgb(141,160,203)"
         },
         "name": "Wo-bachelor",
         "type": "bar",
         "x": [
          "Direct na verlaten onderwijs",
          "1 jaar na verlaten onderwijs",
          "2 jaar na verlaten onderwijs",
          "3 jaar na verlaten onderwijs",
          "4 jaar na verlaten onderwijs",
          "5 jaar na verlaten onderwijs",
          "Direct na verlaten onderwijs",
          "1 jaar na verlaten onderwijs",
          "2 jaar na verlaten onderwijs",
          "3 jaar na verlaten onderwijs",
          "4 jaar na verlaten onderwijs",
          "5 jaar na verlaten onderwijs",
          "Direct na verlaten onderwijs",
          "1 jaar na verlaten onderwijs",
          "2 jaar na verlaten onderwijs",
          "3 jaar na verlaten onderwijs",
          "4 jaar na verlaten onderwijs",
          "5 jaar na verlaten onderwijs",
          "Direct na verlaten onderwijs",
          "1 jaar na verlaten onderwijs",
          "2 jaar na verlaten onderwijs",
          "3 jaar na verlaten onderwijs",
          "4 jaar na verlaten onderwijs",
          "5 jaar na verlaten onderwijs",
          "Direct na verlaten onderwijs",
          "1 jaar na verlaten onderwijs",
          "2 jaar na verlaten onderwijs",
          "3 jaar na verlaten onderwijs",
          "4 jaar na verlaten onderwijs",
          "5 jaar na verlaten onderwijs",
          "Direct na verlaten onderwijs",
          "1 jaar na verlaten onderwijs",
          "2 jaar na verlaten onderwijs",
          "3 jaar na verlaten onderwijs",
          "4 jaar na verlaten onderwijs",
          "5 jaar na verlaten onderwijs",
          "Direct na verlaten onderwijs",
          "1 jaar na verlaten onderwijs",
          "2 jaar na verlaten onderwijs",
          "3 jaar na verlaten onderwijs",
          "4 jaar na verlaten onderwijs",
          "5 jaar na verlaten onderwijs",
          "Direct na verlaten onderwijs",
          "1 jaar na verlaten onderwijs",
          "2 jaar na verlaten onderwijs",
          "3 jaar na verlaten onderwijs",
          "4 jaar na verlaten onderwijs",
          "5 jaar na verlaten onderwijs",
          "Direct na verlaten onderwijs",
          "1 jaar na verlaten onderwijs",
          "2 jaar na verlaten onderwijs",
          "3 jaar na verlaten onderwijs",
          "4 jaar na verlaten onderwijs",
          "5 jaar na verlaten onderwijs",
          "Direct na verlaten onderwijs",
          "1 jaar na verlaten onderwijs",
          "2 jaar na verlaten onderwijs",
          "3 jaar na verlaten onderwijs",
          "4 jaar na verlaten onderwijs",
          "5 jaar na verlaten onderwijs",
          "Direct na verlaten onderwijs",
          "1 jaar na verlaten onderwijs",
          "2 jaar na verlaten onderwijs",
          "3 jaar na verlaten onderwijs",
          "4 jaar na verlaten onderwijs",
          "5 jaar na verlaten onderwijs",
          "Direct na verlaten onderwijs",
          "1 jaar na verlaten onderwijs",
          "2 jaar na verlaten onderwijs",
          "3 jaar na verlaten onderwijs",
          "4 jaar na verlaten onderwijs",
          "5 jaar na verlaten onderwijs",
          "Direct na verlaten onderwijs",
          "1 jaar na verlaten onderwijs",
          "2 jaar na verlaten onderwijs",
          "3 jaar na verlaten onderwijs",
          "4 jaar na verlaten onderwijs",
          "5 jaar na verlaten onderwijs",
          "Direct na verlaten onderwijs",
          "1 jaar na verlaten onderwijs",
          "2 jaar na verlaten onderwijs",
          "3 jaar na verlaten onderwijs",
          "4 jaar na verlaten onderwijs",
          "5 jaar na verlaten onderwijs",
          "Direct na verlaten onderwijs",
          "1 jaar na verlaten onderwijs",
          "2 jaar na verlaten onderwijs",
          "3 jaar na verlaten onderwijs",
          "4 jaar na verlaten onderwijs",
          "5 jaar na verlaten onderwijs",
          "Direct na verlaten onderwijs",
          "1 jaar na verlaten onderwijs",
          "2 jaar na verlaten onderwijs",
          "3 jaar na verlaten onderwijs",
          "4 jaar na verlaten onderwijs",
          "5 jaar na verlaten onderwijs",
          "Direct na verlaten onderwijs",
          "1 jaar na verlaten onderwijs",
          "2 jaar na verlaten onderwijs",
          "3 jaar na verlaten onderwijs",
          "4 jaar na verlaten onderwijs",
          "5 jaar na verlaten onderwijs",
          "Direct na verlaten onderwijs",
          "1 jaar na verlaten onderwijs",
          "2 jaar na verlaten onderwijs",
          "3 jaar na verlaten onderwijs",
          "4 jaar na verlaten onderwijs",
          "5 jaar na verlaten onderwijs",
          "Direct na verlaten onderwijs",
          "1 jaar na verlaten onderwijs",
          "2 jaar na verlaten onderwijs",
          "3 jaar na verlaten onderwijs",
          "4 jaar na verlaten onderwijs",
          "5 jaar na verlaten onderwijs",
          "Direct na verlaten onderwijs",
          "1 jaar na verlaten onderwijs",
          "2 jaar na verlaten onderwijs",
          "3 jaar na verlaten onderwijs",
          "4 jaar na verlaten onderwijs",
          "5 jaar na verlaten onderwijs",
          "Direct na verlaten onderwijs",
          "1 jaar na verlaten onderwijs",
          "2 jaar na verlaten onderwijs",
          "3 jaar na verlaten onderwijs",
          "4 jaar na verlaten onderwijs",
          "5 jaar na verlaten onderwijs",
          "Direct na verlaten onderwijs",
          "1 jaar na verlaten onderwijs",
          "2 jaar na verlaten onderwijs",
          "3 jaar na verlaten onderwijs",
          "4 jaar na verlaten onderwijs",
          "5 jaar na verlaten onderwijs",
          "Direct na verlaten onderwijs",
          "1 jaar na verlaten onderwijs",
          "2 jaar na verlaten onderwijs",
          "3 jaar na verlaten onderwijs",
          "4 jaar na verlaten onderwijs",
          "5 jaar na verlaten onderwijs",
          "Direct na verlaten onderwijs",
          "1 jaar na verlaten onderwijs",
          "2 jaar na verlaten onderwijs",
          "3 jaar na verlaten onderwijs",
          "4 jaar na verlaten onderwijs",
          "5 jaar na verlaten onderwijs",
          "Direct na verlaten onderwijs",
          "1 jaar na verlaten onderwijs",
          "2 jaar na verlaten onderwijs",
          "3 jaar na verlaten onderwijs",
          "4 jaar na verlaten onderwijs",
          "5 jaar na verlaten onderwijs",
          "Direct na verlaten onderwijs",
          "1 jaar na verlaten onderwijs",
          "2 jaar na verlaten onderwijs",
          "3 jaar na verlaten onderwijs",
          "4 jaar na verlaten onderwijs",
          "5 jaar na verlaten onderwijs",
          "Direct na verlaten onderwijs",
          "1 jaar na verlaten onderwijs",
          "2 jaar na verlaten onderwijs",
          "3 jaar na verlaten onderwijs",
          "4 jaar na verlaten onderwijs",
          "5 jaar na verlaten onderwijs",
          "Direct na verlaten onderwijs",
          "1 jaar na verlaten onderwijs",
          "2 jaar na verlaten onderwijs",
          "3 jaar na verlaten onderwijs",
          "4 jaar na verlaten onderwijs",
          "5 jaar na verlaten onderwijs",
          "Direct na verlaten onderwijs",
          "1 jaar na verlaten onderwijs",
          "2 jaar na verlaten onderwijs",
          "3 jaar na verlaten onderwijs",
          "4 jaar na verlaten onderwijs",
          "5 jaar na verlaten onderwijs",
          "Direct na verlaten onderwijs",
          "1 jaar na verlaten onderwijs",
          "2 jaar na verlaten onderwijs",
          "3 jaar na verlaten onderwijs",
          "4 jaar na verlaten onderwijs",
          "5 jaar na verlaten onderwijs",
          "Direct na verlaten onderwijs",
          "1 jaar na verlaten onderwijs",
          "2 jaar na verlaten onderwijs",
          "3 jaar na verlaten onderwijs",
          "4 jaar na verlaten onderwijs",
          "5 jaar na verlaten onderwijs",
          "Direct na verlaten onderwijs",
          "1 jaar na verlaten onderwijs",
          "2 jaar na verlaten onderwijs",
          "3 jaar na verlaten onderwijs",
          "4 jaar na verlaten onderwijs",
          "5 jaar na verlaten onderwijs",
          "Direct na verlaten onderwijs",
          "1 jaar na verlaten onderwijs",
          "2 jaar na verlaten onderwijs",
          "3 jaar na verlaten onderwijs",
          "4 jaar na verlaten onderwijs",
          "5 jaar na verlaten onderwijs",
          "Direct na verlaten onderwijs",
          "1 jaar na verlaten onderwijs",
          "2 jaar na verlaten onderwijs",
          "3 jaar na verlaten onderwijs",
          "4 jaar na verlaten onderwijs",
          "5 jaar na verlaten onderwijs",
          "Direct na verlaten onderwijs",
          "1 jaar na verlaten onderwijs",
          "2 jaar na verlaten onderwijs",
          "3 jaar na verlaten onderwijs",
          "4 jaar na verlaten onderwijs",
          "5 jaar na verlaten onderwijs",
          "Direct na verlaten onderwijs",
          "1 jaar na verlaten onderwijs",
          "2 jaar na verlaten onderwijs",
          "3 jaar na verlaten onderwijs",
          "4 jaar na verlaten onderwijs",
          "5 jaar na verlaten onderwijs",
          "Direct na verlaten onderwijs",
          "1 jaar na verlaten onderwijs",
          "2 jaar na verlaten onderwijs",
          "3 jaar na verlaten onderwijs",
          "4 jaar na verlaten onderwijs",
          "5 jaar na verlaten onderwijs",
          "Direct na verlaten onderwijs",
          "1 jaar na verlaten onderwijs",
          "2 jaar na verlaten onderwijs",
          "3 jaar na verlaten onderwijs",
          "4 jaar na verlaten onderwijs",
          "5 jaar na verlaten onderwijs",
          "Direct na verlaten onderwijs",
          "1 jaar na verlaten onderwijs",
          "2 jaar na verlaten onderwijs",
          "3 jaar na verlaten onderwijs",
          "4 jaar na verlaten onderwijs",
          "5 jaar na verlaten onderwijs",
          "Direct na verlaten onderwijs",
          "1 jaar na verlaten onderwijs",
          "2 jaar na verlaten onderwijs",
          "3 jaar na verlaten onderwijs",
          "4 jaar na verlaten onderwijs",
          "5 jaar na verlaten onderwijs",
          "Direct na verlaten onderwijs",
          "1 jaar na verlaten onderwijs",
          "2 jaar na verlaten onderwijs",
          "3 jaar na verlaten onderwijs",
          "4 jaar na verlaten onderwijs",
          "5 jaar na verlaten onderwijs",
          "Direct na verlaten onderwijs",
          "1 jaar na verlaten onderwijs",
          "2 jaar na verlaten onderwijs",
          "3 jaar na verlaten onderwijs",
          "4 jaar na verlaten onderwijs",
          "5 jaar na verlaten onderwijs",
          "Direct na verlaten onderwijs",
          "1 jaar na verlaten onderwijs",
          "2 jaar na verlaten onderwijs",
          "3 jaar na verlaten onderwijs",
          "4 jaar na verlaten onderwijs",
          "5 jaar na verlaten onderwijs",
          "Direct na verlaten onderwijs",
          "1 jaar na verlaten onderwijs",
          "2 jaar na verlaten onderwijs",
          "3 jaar na verlaten onderwijs",
          "4 jaar na verlaten onderwijs",
          "5 jaar na verlaten onderwijs",
          "Direct na verlaten onderwijs",
          "1 jaar na verlaten onderwijs",
          "2 jaar na verlaten onderwijs",
          "3 jaar na verlaten onderwijs",
          "4 jaar na verlaten onderwijs",
          "5 jaar na verlaten onderwijs",
          "Direct na verlaten onderwijs",
          "1 jaar na verlaten onderwijs",
          "2 jaar na verlaten onderwijs",
          "3 jaar na verlaten onderwijs",
          "4 jaar na verlaten onderwijs",
          "5 jaar na verlaten onderwijs",
          "Direct na verlaten onderwijs",
          "1 jaar na verlaten onderwijs",
          "2 jaar na verlaten onderwijs",
          "3 jaar na verlaten onderwijs",
          "4 jaar na verlaten onderwijs",
          "5 jaar na verlaten onderwijs",
          "Direct na verlaten onderwijs",
          "1 jaar na verlaten onderwijs",
          "2 jaar na verlaten onderwijs",
          "3 jaar na verlaten onderwijs",
          "4 jaar na verlaten onderwijs",
          "5 jaar na verlaten onderwijs",
          "Direct na verlaten onderwijs",
          "1 jaar na verlaten onderwijs",
          "2 jaar na verlaten onderwijs",
          "3 jaar na verlaten onderwijs",
          "4 jaar na verlaten onderwijs",
          "5 jaar na verlaten onderwijs",
          "Direct na verlaten onderwijs",
          "1 jaar na verlaten onderwijs",
          "2 jaar na verlaten onderwijs",
          "3 jaar na verlaten onderwijs",
          "4 jaar na verlaten onderwijs",
          "5 jaar na verlaten onderwijs",
          "Direct na verlaten onderwijs",
          "1 jaar na verlaten onderwijs",
          "2 jaar na verlaten onderwijs",
          "3 jaar na verlaten onderwijs",
          "4 jaar na verlaten onderwijs",
          "5 jaar na verlaten onderwijs",
          "Direct na verlaten onderwijs",
          "1 jaar na verlaten onderwijs",
          "2 jaar na verlaten onderwijs",
          "3 jaar na verlaten onderwijs",
          "4 jaar na verlaten onderwijs",
          "5 jaar na verlaten onderwijs",
          "Direct na verlaten onderwijs",
          "1 jaar na verlaten onderwijs",
          "2 jaar na verlaten onderwijs",
          "3 jaar na verlaten onderwijs",
          "4 jaar na verlaten onderwijs",
          "5 jaar na verlaten onderwijs",
          "Direct na verlaten onderwijs",
          "1 jaar na verlaten onderwijs",
          "2 jaar na verlaten onderwijs",
          "3 jaar na verlaten onderwijs",
          "4 jaar na verlaten onderwijs",
          "5 jaar na verlaten onderwijs",
          "Direct na verlaten onderwijs",
          "1 jaar na verlaten onderwijs",
          "2 jaar na verlaten onderwijs",
          "3 jaar na verlaten onderwijs",
          "4 jaar na verlaten onderwijs",
          "5 jaar na verlaten onderwijs",
          "Direct na verlaten onderwijs",
          "1 jaar na verlaten onderwijs",
          "2 jaar na verlaten onderwijs",
          "3 jaar na verlaten onderwijs",
          "4 jaar na verlaten onderwijs",
          "5 jaar na verlaten onderwijs",
          "Direct na verlaten onderwijs",
          "1 jaar na verlaten onderwijs",
          "2 jaar na verlaten onderwijs",
          "3 jaar na verlaten onderwijs",
          "4 jaar na verlaten onderwijs",
          "5 jaar na verlaten onderwijs",
          "Direct na verlaten onderwijs",
          "1 jaar na verlaten onderwijs",
          "2 jaar na verlaten onderwijs",
          "3 jaar na verlaten onderwijs",
          "4 jaar na verlaten onderwijs",
          "5 jaar na verlaten onderwijs",
          "Direct na verlaten onderwijs",
          "1 jaar na verlaten onderwijs",
          "2 jaar na verlaten onderwijs",
          "3 jaar na verlaten onderwijs",
          "4 jaar na verlaten onderwijs",
          "5 jaar na verlaten onderwijs",
          "Direct na verlaten onderwijs",
          "1 jaar na verlaten onderwijs",
          "2 jaar na verlaten onderwijs",
          "3 jaar na verlaten onderwijs",
          "4 jaar na verlaten onderwijs",
          "5 jaar na verlaten onderwijs",
          "Direct na verlaten onderwijs",
          "1 jaar na verlaten onderwijs",
          "2 jaar na verlaten onderwijs",
          "3 jaar na verlaten onderwijs",
          "4 jaar na verlaten onderwijs",
          "5 jaar na verlaten onderwijs",
          "Direct na verlaten onderwijs",
          "1 jaar na verlaten onderwijs",
          "2 jaar na verlaten onderwijs",
          "3 jaar na verlaten onderwijs",
          "4 jaar na verlaten onderwijs",
          "5 jaar na verlaten onderwijs",
          "Direct na verlaten onderwijs",
          "1 jaar na verlaten onderwijs",
          "2 jaar na verlaten onderwijs",
          "3 jaar na verlaten onderwijs",
          "4 jaar na verlaten onderwijs",
          "5 jaar na verlaten onderwijs",
          "Direct na verlaten onderwijs",
          "1 jaar na verlaten onderwijs",
          "2 jaar na verlaten onderwijs",
          "3 jaar na verlaten onderwijs",
          "4 jaar na verlaten onderwijs",
          "5 jaar na verlaten onderwijs",
          "Direct na verlaten onderwijs",
          "1 jaar na verlaten onderwijs",
          "2 jaar na verlaten onderwijs",
          "3 jaar na verlaten onderwijs",
          "4 jaar na verlaten onderwijs",
          "5 jaar na verlaten onderwijs",
          "Direct na verlaten onderwijs",
          "1 jaar na verlaten onderwijs",
          "2 jaar na verlaten onderwijs",
          "3 jaar na verlaten onderwijs",
          "4 jaar na verlaten onderwijs",
          "5 jaar na verlaten onderwijs",
          "Direct na verlaten onderwijs",
          "1 jaar na verlaten onderwijs",
          "2 jaar na verlaten onderwijs",
          "3 jaar na verlaten onderwijs",
          "4 jaar na verlaten onderwijs",
          "5 jaar na verlaten onderwijs",
          "Direct na verlaten onderwijs",
          "1 jaar na verlaten onderwijs",
          "2 jaar na verlaten onderwijs",
          "3 jaar na verlaten onderwijs",
          "4 jaar na verlaten onderwijs",
          "5 jaar na verlaten onderwijs",
          "Direct na verlaten onderwijs",
          "1 jaar na verlaten onderwijs",
          "2 jaar na verlaten onderwijs",
          "3 jaar na verlaten onderwijs",
          "4 jaar na verlaten onderwijs",
          "5 jaar na verlaten onderwijs",
          "Direct na verlaten onderwijs",
          "1 jaar na verlaten onderwijs",
          "2 jaar na verlaten onderwijs",
          "3 jaar na verlaten onderwijs",
          "4 jaar na verlaten onderwijs",
          "5 jaar na verlaten onderwijs",
          "Direct na verlaten onderwijs",
          "1 jaar na verlaten onderwijs",
          "2 jaar na verlaten onderwijs",
          "3 jaar na verlaten onderwijs",
          "4 jaar na verlaten onderwijs",
          "5 jaar na verlaten onderwijs",
          "Direct na verlaten onderwijs",
          "1 jaar na verlaten onderwijs",
          "2 jaar na verlaten onderwijs",
          "3 jaar na verlaten onderwijs",
          "4 jaar na verlaten onderwijs",
          "5 jaar na verlaten onderwijs",
          "Direct na verlaten onderwijs",
          "1 jaar na verlaten onderwijs",
          "2 jaar na verlaten onderwijs",
          "3 jaar na verlaten onderwijs",
          "4 jaar na verlaten onderwijs",
          "5 jaar na verlaten onderwijs",
          "Direct na verlaten onderwijs",
          "1 jaar na verlaten onderwijs",
          "2 jaar na verlaten onderwijs",
          "3 jaar na verlaten onderwijs",
          "4 jaar na verlaten onderwijs",
          "5 jaar na verlaten onderwijs",
          "Direct na verlaten onderwijs",
          "1 jaar na verlaten onderwijs",
          "2 jaar na verlaten onderwijs",
          "3 jaar na verlaten onderwijs",
          "4 jaar na verlaten onderwijs",
          "5 jaar na verlaten onderwijs",
          "Direct na verlaten onderwijs",
          "1 jaar na verlaten onderwijs",
          "2 jaar na verlaten onderwijs",
          "3 jaar na verlaten onderwijs",
          "4 jaar na verlaten onderwijs",
          "5 jaar na verlaten onderwijs",
          "Direct na verlaten onderwijs",
          "1 jaar na verlaten onderwijs",
          "2 jaar na verlaten onderwijs",
          "3 jaar na verlaten onderwijs",
          "4 jaar na verlaten onderwijs",
          "5 jaar na verlaten onderwijs",
          "Direct na verlaten onderwijs",
          "1 jaar na verlaten onderwijs",
          "2 jaar na verlaten onderwijs",
          "3 jaar na verlaten onderwijs",
          "4 jaar na verlaten onderwijs",
          "5 jaar na verlaten onderwijs",
          "Direct na verlaten onderwijs",
          "1 jaar na verlaten onderwijs",
          "2 jaar na verlaten onderwijs",
          "3 jaar na verlaten onderwijs",
          "4 jaar na verlaten onderwijs",
          "5 jaar na verlaten onderwijs",
          "Direct na verlaten onderwijs",
          "1 jaar na verlaten onderwijs",
          "2 jaar na verlaten onderwijs",
          "3 jaar na verlaten onderwijs",
          "4 jaar na verlaten onderwijs",
          "5 jaar na verlaten onderwijs"
         ],
         "y": [
          12.84,
          15.87,
          18.17,
          20.19,
          22.21,
          24.32
         ]
        },
        {
         "hoverinfo": "y+name",
         "marker": {
          "color": "rgb(231,138,195)"
         },
         "name": "Wo-master",
         "type": "bar",
         "x": [
          "Direct na verlaten onderwijs",
          "1 jaar na verlaten onderwijs",
          "2 jaar na verlaten onderwijs",
          "3 jaar na verlaten onderwijs",
          "4 jaar na verlaten onderwijs",
          "5 jaar na verlaten onderwijs",
          "Direct na verlaten onderwijs",
          "1 jaar na verlaten onderwijs",
          "2 jaar na verlaten onderwijs",
          "3 jaar na verlaten onderwijs",
          "4 jaar na verlaten onderwijs",
          "5 jaar na verlaten onderwijs",
          "Direct na verlaten onderwijs",
          "1 jaar na verlaten onderwijs",
          "2 jaar na verlaten onderwijs",
          "3 jaar na verlaten onderwijs",
          "4 jaar na verlaten onderwijs",
          "5 jaar na verlaten onderwijs",
          "Direct na verlaten onderwijs",
          "1 jaar na verlaten onderwijs",
          "2 jaar na verlaten onderwijs",
          "3 jaar na verlaten onderwijs",
          "4 jaar na verlaten onderwijs",
          "5 jaar na verlaten onderwijs",
          "Direct na verlaten onderwijs",
          "1 jaar na verlaten onderwijs",
          "2 jaar na verlaten onderwijs",
          "3 jaar na verlaten onderwijs",
          "4 jaar na verlaten onderwijs",
          "5 jaar na verlaten onderwijs",
          "Direct na verlaten onderwijs",
          "1 jaar na verlaten onderwijs",
          "2 jaar na verlaten onderwijs",
          "3 jaar na verlaten onderwijs",
          "4 jaar na verlaten onderwijs",
          "5 jaar na verlaten onderwijs",
          "Direct na verlaten onderwijs",
          "1 jaar na verlaten onderwijs",
          "2 jaar na verlaten onderwijs",
          "3 jaar na verlaten onderwijs",
          "4 jaar na verlaten onderwijs",
          "5 jaar na verlaten onderwijs",
          "Direct na verlaten onderwijs",
          "1 jaar na verlaten onderwijs",
          "2 jaar na verlaten onderwijs",
          "3 jaar na verlaten onderwijs",
          "4 jaar na verlaten onderwijs",
          "5 jaar na verlaten onderwijs",
          "Direct na verlaten onderwijs",
          "1 jaar na verlaten onderwijs",
          "2 jaar na verlaten onderwijs",
          "3 jaar na verlaten onderwijs",
          "4 jaar na verlaten onderwijs",
          "5 jaar na verlaten onderwijs",
          "Direct na verlaten onderwijs",
          "1 jaar na verlaten onderwijs",
          "2 jaar na verlaten onderwijs",
          "3 jaar na verlaten onderwijs",
          "4 jaar na verlaten onderwijs",
          "5 jaar na verlaten onderwijs",
          "Direct na verlaten onderwijs",
          "1 jaar na verlaten onderwijs",
          "2 jaar na verlaten onderwijs",
          "3 jaar na verlaten onderwijs",
          "4 jaar na verlaten onderwijs",
          "5 jaar na verlaten onderwijs",
          "Direct na verlaten onderwijs",
          "1 jaar na verlaten onderwijs",
          "2 jaar na verlaten onderwijs",
          "3 jaar na verlaten onderwijs",
          "4 jaar na verlaten onderwijs",
          "5 jaar na verlaten onderwijs",
          "Direct na verlaten onderwijs",
          "1 jaar na verlaten onderwijs",
          "2 jaar na verlaten onderwijs",
          "3 jaar na verlaten onderwijs",
          "4 jaar na verlaten onderwijs",
          "5 jaar na verlaten onderwijs",
          "Direct na verlaten onderwijs",
          "1 jaar na verlaten onderwijs",
          "2 jaar na verlaten onderwijs",
          "3 jaar na verlaten onderwijs",
          "4 jaar na verlaten onderwijs",
          "5 jaar na verlaten onderwijs",
          "Direct na verlaten onderwijs",
          "1 jaar na verlaten onderwijs",
          "2 jaar na verlaten onderwijs",
          "3 jaar na verlaten onderwijs",
          "4 jaar na verlaten onderwijs",
          "5 jaar na verlaten onderwijs",
          "Direct na verlaten onderwijs",
          "1 jaar na verlaten onderwijs",
          "2 jaar na verlaten onderwijs",
          "3 jaar na verlaten onderwijs",
          "4 jaar na verlaten onderwijs",
          "5 jaar na verlaten onderwijs",
          "Direct na verlaten onderwijs",
          "1 jaar na verlaten onderwijs",
          "2 jaar na verlaten onderwijs",
          "3 jaar na verlaten onderwijs",
          "4 jaar na verlaten onderwijs",
          "5 jaar na verlaten onderwijs",
          "Direct na verlaten onderwijs",
          "1 jaar na verlaten onderwijs",
          "2 jaar na verlaten onderwijs",
          "3 jaar na verlaten onderwijs",
          "4 jaar na verlaten onderwijs",
          "5 jaar na verlaten onderwijs",
          "Direct na verlaten onderwijs",
          "1 jaar na verlaten onderwijs",
          "2 jaar na verlaten onderwijs",
          "3 jaar na verlaten onderwijs",
          "4 jaar na verlaten onderwijs",
          "5 jaar na verlaten onderwijs",
          "Direct na verlaten onderwijs",
          "1 jaar na verlaten onderwijs",
          "2 jaar na verlaten onderwijs",
          "3 jaar na verlaten onderwijs",
          "4 jaar na verlaten onderwijs",
          "5 jaar na verlaten onderwijs",
          "Direct na verlaten onderwijs",
          "1 jaar na verlaten onderwijs",
          "2 jaar na verlaten onderwijs",
          "3 jaar na verlaten onderwijs",
          "4 jaar na verlaten onderwijs",
          "5 jaar na verlaten onderwijs",
          "Direct na verlaten onderwijs",
          "1 jaar na verlaten onderwijs",
          "2 jaar na verlaten onderwijs",
          "3 jaar na verlaten onderwijs",
          "4 jaar na verlaten onderwijs",
          "5 jaar na verlaten onderwijs",
          "Direct na verlaten onderwijs",
          "1 jaar na verlaten onderwijs",
          "2 jaar na verlaten onderwijs",
          "3 jaar na verlaten onderwijs",
          "4 jaar na verlaten onderwijs",
          "5 jaar na verlaten onderwijs",
          "Direct na verlaten onderwijs",
          "1 jaar na verlaten onderwijs",
          "2 jaar na verlaten onderwijs",
          "3 jaar na verlaten onderwijs",
          "4 jaar na verlaten onderwijs",
          "5 jaar na verlaten onderwijs",
          "Direct na verlaten onderwijs",
          "1 jaar na verlaten onderwijs",
          "2 jaar na verlaten onderwijs",
          "3 jaar na verlaten onderwijs",
          "4 jaar na verlaten onderwijs",
          "5 jaar na verlaten onderwijs",
          "Direct na verlaten onderwijs",
          "1 jaar na verlaten onderwijs",
          "2 jaar na verlaten onderwijs",
          "3 jaar na verlaten onderwijs",
          "4 jaar na verlaten onderwijs",
          "5 jaar na verlaten onderwijs",
          "Direct na verlaten onderwijs",
          "1 jaar na verlaten onderwijs",
          "2 jaar na verlaten onderwijs",
          "3 jaar na verlaten onderwijs",
          "4 jaar na verlaten onderwijs",
          "5 jaar na verlaten onderwijs",
          "Direct na verlaten onderwijs",
          "1 jaar na verlaten onderwijs",
          "2 jaar na verlaten onderwijs",
          "3 jaar na verlaten onderwijs",
          "4 jaar na verlaten onderwijs",
          "5 jaar na verlaten onderwijs",
          "Direct na verlaten onderwijs",
          "1 jaar na verlaten onderwijs",
          "2 jaar na verlaten onderwijs",
          "3 jaar na verlaten onderwijs",
          "4 jaar na verlaten onderwijs",
          "5 jaar na verlaten onderwijs",
          "Direct na verlaten onderwijs",
          "1 jaar na verlaten onderwijs",
          "2 jaar na verlaten onderwijs",
          "3 jaar na verlaten onderwijs",
          "4 jaar na verlaten onderwijs",
          "5 jaar na verlaten onderwijs",
          "Direct na verlaten onderwijs",
          "1 jaar na verlaten onderwijs",
          "2 jaar na verlaten onderwijs",
          "3 jaar na verlaten onderwijs",
          "4 jaar na verlaten onderwijs",
          "5 jaar na verlaten onderwijs",
          "Direct na verlaten onderwijs",
          "1 jaar na verlaten onderwijs",
          "2 jaar na verlaten onderwijs",
          "3 jaar na verlaten onderwijs",
          "4 jaar na verlaten onderwijs",
          "5 jaar na verlaten onderwijs",
          "Direct na verlaten onderwijs",
          "1 jaar na verlaten onderwijs",
          "2 jaar na verlaten onderwijs",
          "3 jaar na verlaten onderwijs",
          "4 jaar na verlaten onderwijs",
          "5 jaar na verlaten onderwijs",
          "Direct na verlaten onderwijs",
          "1 jaar na verlaten onderwijs",
          "2 jaar na verlaten onderwijs",
          "3 jaar na verlaten onderwijs",
          "4 jaar na verlaten onderwijs",
          "5 jaar na verlaten onderwijs",
          "Direct na verlaten onderwijs",
          "1 jaar na verlaten onderwijs",
          "2 jaar na verlaten onderwijs",
          "3 jaar na verlaten onderwijs",
          "4 jaar na verlaten onderwijs",
          "5 jaar na verlaten onderwijs",
          "Direct na verlaten onderwijs",
          "1 jaar na verlaten onderwijs",
          "2 jaar na verlaten onderwijs",
          "3 jaar na verlaten onderwijs",
          "4 jaar na verlaten onderwijs",
          "5 jaar na verlaten onderwijs",
          "Direct na verlaten onderwijs",
          "1 jaar na verlaten onderwijs",
          "2 jaar na verlaten onderwijs",
          "3 jaar na verlaten onderwijs",
          "4 jaar na verlaten onderwijs",
          "5 jaar na verlaten onderwijs",
          "Direct na verlaten onderwijs",
          "1 jaar na verlaten onderwijs",
          "2 jaar na verlaten onderwijs",
          "3 jaar na verlaten onderwijs",
          "4 jaar na verlaten onderwijs",
          "5 jaar na verlaten onderwijs",
          "Direct na verlaten onderwijs",
          "1 jaar na verlaten onderwijs",
          "2 jaar na verlaten onderwijs",
          "3 jaar na verlaten onderwijs",
          "4 jaar na verlaten onderwijs",
          "5 jaar na verlaten onderwijs",
          "Direct na verlaten onderwijs",
          "1 jaar na verlaten onderwijs",
          "2 jaar na verlaten onderwijs",
          "3 jaar na verlaten onderwijs",
          "4 jaar na verlaten onderwijs",
          "5 jaar na verlaten onderwijs",
          "Direct na verlaten onderwijs",
          "1 jaar na verlaten onderwijs",
          "2 jaar na verlaten onderwijs",
          "3 jaar na verlaten onderwijs",
          "4 jaar na verlaten onderwijs",
          "5 jaar na verlaten onderwijs",
          "Direct na verlaten onderwijs",
          "1 jaar na verlaten onderwijs",
          "2 jaar na verlaten onderwijs",
          "3 jaar na verlaten onderwijs",
          "4 jaar na verlaten onderwijs",
          "5 jaar na verlaten onderwijs",
          "Direct na verlaten onderwijs",
          "1 jaar na verlaten onderwijs",
          "2 jaar na verlaten onderwijs",
          "3 jaar na verlaten onderwijs",
          "4 jaar na verlaten onderwijs",
          "5 jaar na verlaten onderwijs",
          "Direct na verlaten onderwijs",
          "1 jaar na verlaten onderwijs",
          "2 jaar na verlaten onderwijs",
          "3 jaar na verlaten onderwijs",
          "4 jaar na verlaten onderwijs",
          "5 jaar na verlaten onderwijs",
          "Direct na verlaten onderwijs",
          "1 jaar na verlaten onderwijs",
          "2 jaar na verlaten onderwijs",
          "3 jaar na verlaten onderwijs",
          "4 jaar na verlaten onderwijs",
          "5 jaar na verlaten onderwijs",
          "Direct na verlaten onderwijs",
          "1 jaar na verlaten onderwijs",
          "2 jaar na verlaten onderwijs",
          "3 jaar na verlaten onderwijs",
          "4 jaar na verlaten onderwijs",
          "5 jaar na verlaten onderwijs",
          "Direct na verlaten onderwijs",
          "1 jaar na verlaten onderwijs",
          "2 jaar na verlaten onderwijs",
          "3 jaar na verlaten onderwijs",
          "4 jaar na verlaten onderwijs",
          "5 jaar na verlaten onderwijs",
          "Direct na verlaten onderwijs",
          "1 jaar na verlaten onderwijs",
          "2 jaar na verlaten onderwijs",
          "3 jaar na verlaten onderwijs",
          "4 jaar na verlaten onderwijs",
          "5 jaar na verlaten onderwijs",
          "Direct na verlaten onderwijs",
          "1 jaar na verlaten onderwijs",
          "2 jaar na verlaten onderwijs",
          "3 jaar na verlaten onderwijs",
          "4 jaar na verlaten onderwijs",
          "5 jaar na verlaten onderwijs",
          "Direct na verlaten onderwijs",
          "1 jaar na verlaten onderwijs",
          "2 jaar na verlaten onderwijs",
          "3 jaar na verlaten onderwijs",
          "4 jaar na verlaten onderwijs",
          "5 jaar na verlaten onderwijs",
          "Direct na verlaten onderwijs",
          "1 jaar na verlaten onderwijs",
          "2 jaar na verlaten onderwijs",
          "3 jaar na verlaten onderwijs",
          "4 jaar na verlaten onderwijs",
          "5 jaar na verlaten onderwijs",
          "Direct na verlaten onderwijs",
          "1 jaar na verlaten onderwijs",
          "2 jaar na verlaten onderwijs",
          "3 jaar na verlaten onderwijs",
          "4 jaar na verlaten onderwijs",
          "5 jaar na verlaten onderwijs",
          "Direct na verlaten onderwijs",
          "1 jaar na verlaten onderwijs",
          "2 jaar na verlaten onderwijs",
          "3 jaar na verlaten onderwijs",
          "4 jaar na verlaten onderwijs",
          "5 jaar na verlaten onderwijs",
          "Direct na verlaten onderwijs",
          "1 jaar na verlaten onderwijs",
          "2 jaar na verlaten onderwijs",
          "3 jaar na verlaten onderwijs",
          "4 jaar na verlaten onderwijs",
          "5 jaar na verlaten onderwijs",
          "Direct na verlaten onderwijs",
          "1 jaar na verlaten onderwijs",
          "2 jaar na verlaten onderwijs",
          "3 jaar na verlaten onderwijs",
          "4 jaar na verlaten onderwijs",
          "5 jaar na verlaten onderwijs",
          "Direct na verlaten onderwijs",
          "1 jaar na verlaten onderwijs",
          "2 jaar na verlaten onderwijs",
          "3 jaar na verlaten onderwijs",
          "4 jaar na verlaten onderwijs",
          "5 jaar na verlaten onderwijs",
          "Direct na verlaten onderwijs",
          "1 jaar na verlaten onderwijs",
          "2 jaar na verlaten onderwijs",
          "3 jaar na verlaten onderwijs",
          "4 jaar na verlaten onderwijs",
          "5 jaar na verlaten onderwijs",
          "Direct na verlaten onderwijs",
          "1 jaar na verlaten onderwijs",
          "2 jaar na verlaten onderwijs",
          "3 jaar na verlaten onderwijs",
          "4 jaar na verlaten onderwijs",
          "5 jaar na verlaten onderwijs",
          "Direct na verlaten onderwijs",
          "1 jaar na verlaten onderwijs",
          "2 jaar na verlaten onderwijs",
          "3 jaar na verlaten onderwijs",
          "4 jaar na verlaten onderwijs",
          "5 jaar na verlaten onderwijs",
          "Direct na verlaten onderwijs",
          "1 jaar na verlaten onderwijs",
          "2 jaar na verlaten onderwijs",
          "3 jaar na verlaten onderwijs",
          "4 jaar na verlaten onderwijs",
          "5 jaar na verlaten onderwijs",
          "Direct na verlaten onderwijs",
          "1 jaar na verlaten onderwijs",
          "2 jaar na verlaten onderwijs",
          "3 jaar na verlaten onderwijs",
          "4 jaar na verlaten onderwijs",
          "5 jaar na verlaten onderwijs",
          "Direct na verlaten onderwijs",
          "1 jaar na verlaten onderwijs",
          "2 jaar na verlaten onderwijs",
          "3 jaar na verlaten onderwijs",
          "4 jaar na verlaten onderwijs",
          "5 jaar na verlaten onderwijs",
          "Direct na verlaten onderwijs",
          "1 jaar na verlaten onderwijs",
          "2 jaar na verlaten onderwijs",
          "3 jaar na verlaten onderwijs",
          "4 jaar na verlaten onderwijs",
          "5 jaar na verlaten onderwijs",
          "Direct na verlaten onderwijs",
          "1 jaar na verlaten onderwijs",
          "2 jaar na verlaten onderwijs",
          "3 jaar na verlaten onderwijs",
          "4 jaar na verlaten onderwijs",
          "5 jaar na verlaten onderwijs",
          "Direct na verlaten onderwijs",
          "1 jaar na verlaten onderwijs",
          "2 jaar na verlaten onderwijs",
          "3 jaar na verlaten onderwijs",
          "4 jaar na verlaten onderwijs",
          "5 jaar na verlaten onderwijs",
          "Direct na verlaten onderwijs",
          "1 jaar na verlaten onderwijs",
          "2 jaar na verlaten onderwijs",
          "3 jaar na verlaten onderwijs",
          "4 jaar na verlaten onderwijs",
          "5 jaar na verlaten onderwijs",
          "Direct na verlaten onderwijs",
          "1 jaar na verlaten onderwijs",
          "2 jaar na verlaten onderwijs",
          "3 jaar na verlaten onderwijs",
          "4 jaar na verlaten onderwijs",
          "5 jaar na verlaten onderwijs",
          "Direct na verlaten onderwijs",
          "1 jaar na verlaten onderwijs",
          "2 jaar na verlaten onderwijs",
          "3 jaar na verlaten onderwijs",
          "4 jaar na verlaten onderwijs",
          "5 jaar na verlaten onderwijs",
          "Direct na verlaten onderwijs",
          "1 jaar na verlaten onderwijs",
          "2 jaar na verlaten onderwijs",
          "3 jaar na verlaten onderwijs",
          "4 jaar na verlaten onderwijs",
          "5 jaar na verlaten onderwijs",
          "Direct na verlaten onderwijs",
          "1 jaar na verlaten onderwijs",
          "2 jaar na verlaten onderwijs",
          "3 jaar na verlaten onderwijs",
          "4 jaar na verlaten onderwijs",
          "5 jaar na verlaten onderwijs",
          "Direct na verlaten onderwijs",
          "1 jaar na verlaten onderwijs",
          "2 jaar na verlaten onderwijs",
          "3 jaar na verlaten onderwijs",
          "4 jaar na verlaten onderwijs",
          "5 jaar na verlaten onderwijs",
          "Direct na verlaten onderwijs",
          "1 jaar na verlaten onderwijs",
          "2 jaar na verlaten onderwijs",
          "3 jaar na verlaten onderwijs",
          "4 jaar na verlaten onderwijs",
          "5 jaar na verlaten onderwijs",
          "Direct na verlaten onderwijs",
          "1 jaar na verlaten onderwijs",
          "2 jaar na verlaten onderwijs",
          "3 jaar na verlaten onderwijs",
          "4 jaar na verlaten onderwijs",
          "5 jaar na verlaten onderwijs",
          "Direct na verlaten onderwijs",
          "1 jaar na verlaten onderwijs",
          "2 jaar na verlaten onderwijs",
          "3 jaar na verlaten onderwijs",
          "4 jaar na verlaten onderwijs",
          "5 jaar na verlaten onderwijs",
          "Direct na verlaten onderwijs",
          "1 jaar na verlaten onderwijs",
          "2 jaar na verlaten onderwijs",
          "3 jaar na verlaten onderwijs",
          "4 jaar na verlaten onderwijs",
          "5 jaar na verlaten onderwijs",
          "Direct na verlaten onderwijs",
          "1 jaar na verlaten onderwijs",
          "2 jaar na verlaten onderwijs",
          "3 jaar na verlaten onderwijs",
          "4 jaar na verlaten onderwijs",
          "5 jaar na verlaten onderwijs",
          "Direct na verlaten onderwijs",
          "1 jaar na verlaten onderwijs",
          "2 jaar na verlaten onderwijs",
          "3 jaar na verlaten onderwijs",
          "4 jaar na verlaten onderwijs",
          "5 jaar na verlaten onderwijs",
          "Direct na verlaten onderwijs",
          "1 jaar na verlaten onderwijs",
          "2 jaar na verlaten onderwijs",
          "3 jaar na verlaten onderwijs",
          "4 jaar na verlaten onderwijs",
          "5 jaar na verlaten onderwijs",
          "Direct na verlaten onderwijs",
          "1 jaar na verlaten onderwijs",
          "2 jaar na verlaten onderwijs",
          "3 jaar na verlaten onderwijs",
          "4 jaar na verlaten onderwijs",
          "5 jaar na verlaten onderwijs",
          "Direct na verlaten onderwijs",
          "1 jaar na verlaten onderwijs",
          "2 jaar na verlaten onderwijs",
          "3 jaar na verlaten onderwijs",
          "4 jaar na verlaten onderwijs",
          "5 jaar na verlaten onderwijs"
         ],
         "y": [
          16.29,
          18.12,
          20.28,
          22.6,
          25.1,
          27.48
         ]
        }
       ],
       "layout": {
        "bargap": 0.15,
        "bargroupgap": 0.1,
        "barmode": "group",
        "height": 400,
        "legend": {
         "bgcolor": "rgba(255, 255, 255, 0)",
         "bordercolor": "rgba(255, 255, 255, 0)",
         "x": 1,
         "y": 1
        },
        "template": {
         "data": {
          "bar": [
           {
            "error_x": {
             "color": "#2a3f5f"
            },
            "error_y": {
             "color": "#2a3f5f"
            },
            "marker": {
             "line": {
              "color": "#E5ECF6",
              "width": 0.5
             },
             "pattern": {
              "fillmode": "overlay",
              "size": 10,
              "solidity": 0.2
             }
            },
            "type": "bar"
           }
          ],
          "barpolar": [
           {
            "marker": {
             "line": {
              "color": "#E5ECF6",
              "width": 0.5
             },
             "pattern": {
              "fillmode": "overlay",
              "size": 10,
              "solidity": 0.2
             }
            },
            "type": "barpolar"
           }
          ],
          "carpet": [
           {
            "aaxis": {
             "endlinecolor": "#2a3f5f",
             "gridcolor": "white",
             "linecolor": "white",
             "minorgridcolor": "white",
             "startlinecolor": "#2a3f5f"
            },
            "baxis": {
             "endlinecolor": "#2a3f5f",
             "gridcolor": "white",
             "linecolor": "white",
             "minorgridcolor": "white",
             "startlinecolor": "#2a3f5f"
            },
            "type": "carpet"
           }
          ],
          "choropleth": [
           {
            "colorbar": {
             "outlinewidth": 0,
             "ticks": ""
            },
            "type": "choropleth"
           }
          ],
          "contour": [
           {
            "colorbar": {
             "outlinewidth": 0,
             "ticks": ""
            },
            "colorscale": [
             [
              0,
              "#0d0887"
             ],
             [
              0.1111111111111111,
              "#46039f"
             ],
             [
              0.2222222222222222,
              "#7201a8"
             ],
             [
              0.3333333333333333,
              "#9c179e"
             ],
             [
              0.4444444444444444,
              "#bd3786"
             ],
             [
              0.5555555555555556,
              "#d8576b"
             ],
             [
              0.6666666666666666,
              "#ed7953"
             ],
             [
              0.7777777777777778,
              "#fb9f3a"
             ],
             [
              0.8888888888888888,
              "#fdca26"
             ],
             [
              1,
              "#f0f921"
             ]
            ],
            "type": "contour"
           }
          ],
          "contourcarpet": [
           {
            "colorbar": {
             "outlinewidth": 0,
             "ticks": ""
            },
            "type": "contourcarpet"
           }
          ],
          "heatmap": [
           {
            "colorbar": {
             "outlinewidth": 0,
             "ticks": ""
            },
            "colorscale": [
             [
              0,
              "#0d0887"
             ],
             [
              0.1111111111111111,
              "#46039f"
             ],
             [
              0.2222222222222222,
              "#7201a8"
             ],
             [
              0.3333333333333333,
              "#9c179e"
             ],
             [
              0.4444444444444444,
              "#bd3786"
             ],
             [
              0.5555555555555556,
              "#d8576b"
             ],
             [
              0.6666666666666666,
              "#ed7953"
             ],
             [
              0.7777777777777778,
              "#fb9f3a"
             ],
             [
              0.8888888888888888,
              "#fdca26"
             ],
             [
              1,
              "#f0f921"
             ]
            ],
            "type": "heatmap"
           }
          ],
          "heatmapgl": [
           {
            "colorbar": {
             "outlinewidth": 0,
             "ticks": ""
            },
            "colorscale": [
             [
              0,
              "#0d0887"
             ],
             [
              0.1111111111111111,
              "#46039f"
             ],
             [
              0.2222222222222222,
              "#7201a8"
             ],
             [
              0.3333333333333333,
              "#9c179e"
             ],
             [
              0.4444444444444444,
              "#bd3786"
             ],
             [
              0.5555555555555556,
              "#d8576b"
             ],
             [
              0.6666666666666666,
              "#ed7953"
             ],
             [
              0.7777777777777778,
              "#fb9f3a"
             ],
             [
              0.8888888888888888,
              "#fdca26"
             ],
             [
              1,
              "#f0f921"
             ]
            ],
            "type": "heatmapgl"
           }
          ],
          "histogram": [
           {
            "marker": {
             "pattern": {
              "fillmode": "overlay",
              "size": 10,
              "solidity": 0.2
             }
            },
            "type": "histogram"
           }
          ],
          "histogram2d": [
           {
            "colorbar": {
             "outlinewidth": 0,
             "ticks": ""
            },
            "colorscale": [
             [
              0,
              "#0d0887"
             ],
             [
              0.1111111111111111,
              "#46039f"
             ],
             [
              0.2222222222222222,
              "#7201a8"
             ],
             [
              0.3333333333333333,
              "#9c179e"
             ],
             [
              0.4444444444444444,
              "#bd3786"
             ],
             [
              0.5555555555555556,
              "#d8576b"
             ],
             [
              0.6666666666666666,
              "#ed7953"
             ],
             [
              0.7777777777777778,
              "#fb9f3a"
             ],
             [
              0.8888888888888888,
              "#fdca26"
             ],
             [
              1,
              "#f0f921"
             ]
            ],
            "type": "histogram2d"
           }
          ],
          "histogram2dcontour": [
           {
            "colorbar": {
             "outlinewidth": 0,
             "ticks": ""
            },
            "colorscale": [
             [
              0,
              "#0d0887"
             ],
             [
              0.1111111111111111,
              "#46039f"
             ],
             [
              0.2222222222222222,
              "#7201a8"
             ],
             [
              0.3333333333333333,
              "#9c179e"
             ],
             [
              0.4444444444444444,
              "#bd3786"
             ],
             [
              0.5555555555555556,
              "#d8576b"
             ],
             [
              0.6666666666666666,
              "#ed7953"
             ],
             [
              0.7777777777777778,
              "#fb9f3a"
             ],
             [
              0.8888888888888888,
              "#fdca26"
             ],
             [
              1,
              "#f0f921"
             ]
            ],
            "type": "histogram2dcontour"
           }
          ],
          "mesh3d": [
           {
            "colorbar": {
             "outlinewidth": 0,
             "ticks": ""
            },
            "type": "mesh3d"
           }
          ],
          "parcoords": [
           {
            "line": {
             "colorbar": {
              "outlinewidth": 0,
              "ticks": ""
             }
            },
            "type": "parcoords"
           }
          ],
          "pie": [
           {
            "automargin": true,
            "type": "pie"
           }
          ],
          "scatter": [
           {
            "fillpattern": {
             "fillmode": "overlay",
             "size": 10,
             "solidity": 0.2
            },
            "type": "scatter"
           }
          ],
          "scatter3d": [
           {
            "line": {
             "colorbar": {
              "outlinewidth": 0,
              "ticks": ""
             }
            },
            "marker": {
             "colorbar": {
              "outlinewidth": 0,
              "ticks": ""
             }
            },
            "type": "scatter3d"
           }
          ],
          "scattercarpet": [
           {
            "marker": {
             "colorbar": {
              "outlinewidth": 0,
              "ticks": ""
             }
            },
            "type": "scattercarpet"
           }
          ],
          "scattergeo": [
           {
            "marker": {
             "colorbar": {
              "outlinewidth": 0,
              "ticks": ""
             }
            },
            "type": "scattergeo"
           }
          ],
          "scattergl": [
           {
            "marker": {
             "colorbar": {
              "outlinewidth": 0,
              "ticks": ""
             }
            },
            "type": "scattergl"
           }
          ],
          "scattermapbox": [
           {
            "marker": {
             "colorbar": {
              "outlinewidth": 0,
              "ticks": ""
             }
            },
            "type": "scattermapbox"
           }
          ],
          "scatterpolar": [
           {
            "marker": {
             "colorbar": {
              "outlinewidth": 0,
              "ticks": ""
             }
            },
            "type": "scatterpolar"
           }
          ],
          "scatterpolargl": [
           {
            "marker": {
             "colorbar": {
              "outlinewidth": 0,
              "ticks": ""
             }
            },
            "type": "scatterpolargl"
           }
          ],
          "scatterternary": [
           {
            "marker": {
             "colorbar": {
              "outlinewidth": 0,
              "ticks": ""
             }
            },
            "type": "scatterternary"
           }
          ],
          "surface": [
           {
            "colorbar": {
             "outlinewidth": 0,
             "ticks": ""
            },
            "colorscale": [
             [
              0,
              "#0d0887"
             ],
             [
              0.1111111111111111,
              "#46039f"
             ],
             [
              0.2222222222222222,
              "#7201a8"
             ],
             [
              0.3333333333333333,
              "#9c179e"
             ],
             [
              0.4444444444444444,
              "#bd3786"
             ],
             [
              0.5555555555555556,
              "#d8576b"
             ],
             [
              0.6666666666666666,
              "#ed7953"
             ],
             [
              0.7777777777777778,
              "#fb9f3a"
             ],
             [
              0.8888888888888888,
              "#fdca26"
             ],
             [
              1,
              "#f0f921"
             ]
            ],
            "type": "surface"
           }
          ],
          "table": [
           {
            "cells": {
             "fill": {
              "color": "#EBF0F8"
             },
             "line": {
              "color": "white"
             }
            },
            "header": {
             "fill": {
              "color": "#C8D4E3"
             },
             "line": {
              "color": "white"
             }
            },
            "type": "table"
           }
          ]
         },
         "layout": {
          "annotationdefaults": {
           "arrowcolor": "#2a3f5f",
           "arrowhead": 0,
           "arrowwidth": 1
          },
          "autotypenumbers": "strict",
          "coloraxis": {
           "colorbar": {
            "outlinewidth": 0,
            "ticks": ""
           }
          },
          "colorscale": {
           "diverging": [
            [
             0,
             "#8e0152"
            ],
            [
             0.1,
             "#c51b7d"
            ],
            [
             0.2,
             "#de77ae"
            ],
            [
             0.3,
             "#f1b6da"
            ],
            [
             0.4,
             "#fde0ef"
            ],
            [
             0.5,
             "#f7f7f7"
            ],
            [
             0.6,
             "#e6f5d0"
            ],
            [
             0.7,
             "#b8e186"
            ],
            [
             0.8,
             "#7fbc41"
            ],
            [
             0.9,
             "#4d9221"
            ],
            [
             1,
             "#276419"
            ]
           ],
           "sequential": [
            [
             0,
             "#0d0887"
            ],
            [
             0.1111111111111111,
             "#46039f"
            ],
            [
             0.2222222222222222,
             "#7201a8"
            ],
            [
             0.3333333333333333,
             "#9c179e"
            ],
            [
             0.4444444444444444,
             "#bd3786"
            ],
            [
             0.5555555555555556,
             "#d8576b"
            ],
            [
             0.6666666666666666,
             "#ed7953"
            ],
            [
             0.7777777777777778,
             "#fb9f3a"
            ],
            [
             0.8888888888888888,
             "#fdca26"
            ],
            [
             1,
             "#f0f921"
            ]
           ],
           "sequentialminus": [
            [
             0,
             "#0d0887"
            ],
            [
             0.1111111111111111,
             "#46039f"
            ],
            [
             0.2222222222222222,
             "#7201a8"
            ],
            [
             0.3333333333333333,
             "#9c179e"
            ],
            [
             0.4444444444444444,
             "#bd3786"
            ],
            [
             0.5555555555555556,
             "#d8576b"
            ],
            [
             0.6666666666666666,
             "#ed7953"
            ],
            [
             0.7777777777777778,
             "#fb9f3a"
            ],
            [
             0.8888888888888888,
             "#fdca26"
            ],
            [
             1,
             "#f0f921"
            ]
           ]
          },
          "colorway": [
           "#636efa",
           "#EF553B",
           "#00cc96",
           "#ab63fa",
           "#FFA15A",
           "#19d3f3",
           "#FF6692",
           "#B6E880",
           "#FF97FF",
           "#FECB52"
          ],
          "font": {
           "color": "#2a3f5f"
          },
          "geo": {
           "bgcolor": "white",
           "lakecolor": "white",
           "landcolor": "#E5ECF6",
           "showlakes": true,
           "showland": true,
           "subunitcolor": "white"
          },
          "hoverlabel": {
           "align": "left"
          },
          "hovermode": "closest",
          "mapbox": {
           "style": "light"
          },
          "paper_bgcolor": "white",
          "plot_bgcolor": "#E5ECF6",
          "polar": {
           "angularaxis": {
            "gridcolor": "white",
            "linecolor": "white",
            "ticks": ""
           },
           "bgcolor": "#E5ECF6",
           "radialaxis": {
            "gridcolor": "white",
            "linecolor": "white",
            "ticks": ""
           }
          },
          "scene": {
           "xaxis": {
            "backgroundcolor": "#E5ECF6",
            "gridcolor": "white",
            "gridwidth": 2,
            "linecolor": "white",
            "showbackground": true,
            "ticks": "",
            "zerolinecolor": "white"
           },
           "yaxis": {
            "backgroundcolor": "#E5ECF6",
            "gridcolor": "white",
            "gridwidth": 2,
            "linecolor": "white",
            "showbackground": true,
            "ticks": "",
            "zerolinecolor": "white"
           },
           "zaxis": {
            "backgroundcolor": "#E5ECF6",
            "gridcolor": "white",
            "gridwidth": 2,
            "linecolor": "white",
            "showbackground": true,
            "ticks": "",
            "zerolinecolor": "white"
           }
          },
          "shapedefaults": {
           "line": {
            "color": "#2a3f5f"
           }
          },
          "ternary": {
           "aaxis": {
            "gridcolor": "white",
            "linecolor": "white",
            "ticks": ""
           },
           "baxis": {
            "gridcolor": "white",
            "linecolor": "white",
            "ticks": ""
           },
           "bgcolor": "#E5ECF6",
           "caxis": {
            "gridcolor": "white",
            "linecolor": "white",
            "ticks": ""
           }
          },
          "title": {
           "x": 0.05
          },
          "xaxis": {
           "automargin": true,
           "gridcolor": "white",
           "linecolor": "white",
           "ticks": "",
           "title": {
            "standoff": 15
           },
           "zerolinecolor": "white",
           "zerolinewidth": 2
          },
          "yaxis": {
           "automargin": true,
           "gridcolor": "white",
           "linecolor": "white",
           "ticks": "",
           "title": {
            "standoff": 15
           },
           "zerolinecolor": "white",
           "zerolinewidth": 2
          }
         }
        },
        "title": {
         "text": "Hourly wage after leaving university per degree"
        },
        "xaxis": {
         "ticktext": [
          "Directly after",
          "1 year after",
          "2 years after",
          "3 years after",
          "4 years after",
          "5 years after"
         ],
         "tickvals": [
          "Direct na verlaten onderwijs",
          "1 jaar na verlaten onderwijs",
          "2 jaar na verlaten onderwijs",
          "3 jaar na verlaten onderwijs",
          "4 jaar na verlaten onderwijs",
          "5 jaar na verlaten onderwijs"
         ],
         "title": {
          "text": "Benchmark"
         },
         "type": "category"
        },
        "yaxis": {
         "tickformat": ",.",
         "tickprefix": "€",
         "title": {
          "text": "Hourly wage"
         }
        }
       }
      }
     },
     "metadata": {},
     "output_type": "display_data"
    }
   ],
   "source": [
    "%run ../notebooks/barplot.ipynb"
   ]
  },
  {
   "cell_type": "markdown",
   "metadata": {},
   "source": [
    "This barplot compares the hourly wage per degree. It's interesting to see that even though WO is a \"higher\" degree it initially earns less than the so called \"lower\" degrees."
   ]
  }
 ],
 "metadata": {
  "kernelspec": {
   "display_name": "Python 3 (ipykernel)",
   "language": "python",
   "name": "python3"
  },
  "language_info": {
   "codemirror_mode": {
    "name": "ipython",
    "version": 3
   },
   "file_extension": ".py",
   "mimetype": "text/x-python",
   "name": "python",
   "nbconvert_exporter": "python",
   "pygments_lexer": "ipython3",
   "version": "3.10.14"
  },
  "widgets": {
   "application/vnd.jupyter.widget-state+json": {
    "state": {},
    "version_major": 2,
    "version_minor": 0
   }
  }
 },
 "nbformat": 4,
 "nbformat_minor": 4
}
