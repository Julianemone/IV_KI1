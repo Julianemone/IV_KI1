{
 "cells": [
  {
   "cell_type": "code",
   "execution_count": 1,
   "metadata": {},
   "outputs": [],
   "source": [
    "import pandas as pd\n",
    "import plotly.express as px\n",
    "import plotly.graph_objs as go"
   ]
  },
  {
   "cell_type": "code",
   "execution_count": 3,
   "metadata": {},
   "outputs": [],
   "source": [
    "label_mapping = {\n",
    "    'Recht': 'Law',\n",
    "    'Gedrag en Maatschappij': 'Behaviour & society',\n",
    "    'Gezondheidszorg': 'Healthcare',\n",
    "    'Onderwijs': 'Education',\n",
    "    'Economie': 'Economics',\n",
    "    'Natuur': 'Nature',\n",
    "    'Techniek': 'STEM',\n",
    "    'Onderwijs': 'Education',\n",
    "    'Sectoroverstijgend': 'Other',\n",
    "    'Landbouw en natuurlijke omgeving': 'Agriculture',\n",
    "    'Taal en cultuur': 'Language & culture',\n",
    "    'Vrouwen': 'Women',\n",
    "    'Mannen': 'Men'\n",
    "}\n",
    "\n",
    "df_uurloon = pd.read_csv('../data/uurloon.csv', sep = ';')\n",
    "\n",
    "studierichtingen = [\n",
    "    'Economics',\n",
    "    'Other',\n",
    "    'Agriculture',\n",
    "    'Law',\n",
    "    'Nature',\n",
    "    'STEM',\n",
    "    'Language and culture',\n",
    "    'Education',\n",
    "    'Behaviour and society',\n",
    "    'Healthcare'\n",
    "]\n",
    "\n",
    "df_uurloon['Peilmoment_ordered'] = pd.Categorical(df_uurloon['Peilmoment'], categories = [\n",
    "    'Direct na verlaten onderwijs',\n",
    "    '1 jaar na verlaten onderwijs',\n",
    "    '2 jaar na verlaten onderwijs',\n",
    "    '3 jaar na verlaten onderwijs',\n",
    "    '4 jaar na verlaten onderwijs',\n",
    "    '5 jaar na verlaten onderwijs'\n",
    "], ordered = True)\n",
    "\n",
    "df_uurloon = df_uurloon.sort_values('Peilmoment_ordered')"
   ]
  },
  {
   "cell_type": "code",
   "execution_count": 12,
   "metadata": {},
   "outputs": [
    {
     "data": {
      "application/vnd.plotly.v1+json": {
       "config": {
        "plotlyServerURL": "https://plot.ly"
       },
       "data": [
        {
         "mode": "lines",
         "name": "Economics Hbo-bachelor",
         "type": "scatter",
         "x": [
          0,
          1,
          2,
          3,
          4,
          5
         ],
         "y": [
          "   13.21",
          "   13.99",
          "   14.50",
          "   15.33",
          "   17.16",
          "   16.24",
          "   19.04",
          "   17.74",
          "   19.34",
          "   20.95",
          "   22.73",
          "   20.84"
         ]
        },
        {
         "mode": "lines",
         "name": "Economics Hbo-master",
         "type": "scatter",
         "x": [
          0,
          1,
          2,
          3,
          4,
          5
         ],
         "y": [
          "       .",
          "       .",
          "       .",
          "       .",
          "       .",
          "       .",
          "       .",
          "       .",
          "       .",
          "       .",
          "       .",
          "       ."
         ]
        },
        {
         "mode": "lines",
         "name": "Economics Wo-bachelor",
         "type": "scatter",
         "x": [
          0,
          1,
          2,
          3,
          4,
          5
         ],
         "y": [
          "   13.75",
          "   11.93",
          "   16.41",
          "   16.06",
          "   17.87",
          "   18.31",
          "   20.51",
          "   20.76",
          "   23.62",
          "   22.82",
          "   25.60",
          "   25.29"
         ]
        },
        {
         "mode": "lines",
         "name": "Economics Wo-master",
         "type": "scatter",
         "x": [
          0,
          1,
          2,
          3,
          4,
          5
         ],
         "y": [
          "   17.12",
          "   16.32",
          "   18.11",
          "   18.38",
          "   20.37",
          "   21.13",
          "   23.11",
          "   23.60",
          "   25.47",
          "   26.49",
          "   28.45",
          "   29.67"
         ]
        },
        {
         "mode": "lines",
         "name": "Other Hbo-bachelor",
         "type": "scatter",
         "x": [
          0,
          1,
          2,
          3,
          4,
          5
         ],
         "y": [
          "       .",
          "       .",
          "       .",
          "       .",
          "       .",
          "       .",
          "       .",
          "       .",
          "       .",
          "       .",
          "       .",
          "       ."
         ]
        },
        {
         "mode": "lines",
         "name": "Other Hbo-master",
         "type": "scatter",
         "x": [
          0,
          1,
          2,
          3,
          4,
          5
         ],
         "y": [
          "       .",
          "       .",
          "       .",
          "       .",
          "       .",
          "       .",
          "       .",
          "       .",
          "       .",
          "       .",
          "       .",
          "       ."
         ]
        },
        {
         "mode": "lines",
         "name": "Other Wo-bachelor",
         "type": "scatter",
         "x": [
          0,
          1,
          2,
          3,
          4,
          5
         ],
         "y": [
          "   11.57",
          "   10.72",
          "   13.89",
          "   13.06",
          "   15.73",
          "   16.14",
          "   17.93",
          "   17.38",
          "   19.78",
          "   19.62",
          "   22.38",
          "   21.99"
         ]
        },
        {
         "mode": "lines",
         "name": "Other Wo-master",
         "type": "scatter",
         "x": [
          0,
          1,
          2,
          3,
          4,
          5
         ],
         "y": [
          "       .",
          "   12.09",
          "       .",
          "   17.38",
          "       .",
          "   18.75",
          "   21.75",
          "       .",
          "       .",
          "   23.01",
          "       .",
          "   25.46"
         ]
        },
        {
         "mode": "lines",
         "name": "Agriculture Hbo-bachelor",
         "type": "scatter",
         "x": [
          0,
          1,
          2,
          3,
          4,
          5
         ],
         "y": [
          "   13.57",
          "   14.54",
          "   15.36",
          "   16.10",
          "   16.75",
          "   17.71",
          "   19.18",
          "   17.95",
          "   20.94",
          "   19.54",
          "   22.44",
          "   20.69"
         ]
        },
        {
         "mode": "lines",
         "name": "Agriculture Hbo-master",
         "type": "scatter",
         "x": [
          0,
          1,
          2,
          3,
          4,
          5
         ],
         "y": [
          "       .",
          "       .",
          "       .",
          "       .",
          "       .",
          "       .",
          "       .",
          "       .",
          "       .",
          "       .",
          "       .",
          "       ."
         ]
        },
        {
         "mode": "lines",
         "name": "Agriculture Wo-bachelor",
         "type": "scatter",
         "x": [
          0,
          1,
          2,
          3,
          4,
          5
         ],
         "y": [
          "   12.26",
          "   11.85",
          "   15.13",
          "   15.22",
          "   16.20",
          "   16.49",
          "   17.92",
          "   18.40",
          "   20.63",
          "   20.21",
          "   21.78",
          "   22.23"
         ]
        },
        {
         "mode": "lines",
         "name": "Agriculture Wo-master",
         "type": "scatter",
         "x": [
          0,
          1,
          2,
          3,
          4,
          5
         ],
         "y": [
          "   15.91",
          "   15.34",
          "   18.11",
          "   17.88",
          "   19.37",
          "   19.43",
          "   20.80",
          "   20.81",
          "   22.81",
          "   22.51",
          "   24.09",
          "   25.06"
         ]
        },
        {
         "mode": "lines",
         "name": "Law Hbo-bachelor",
         "type": "scatter",
         "x": [
          0,
          1,
          2,
          3,
          4,
          5
         ],
         "y": [
          "       .",
          "       .",
          "       .",
          "       .",
          "       .",
          "       .",
          "       .",
          "       .",
          "       .",
          "       .",
          "       .",
          "       ."
         ]
        },
        {
         "mode": "lines",
         "name": "Law Hbo-master",
         "type": "scatter",
         "x": [
          0,
          1,
          2,
          3,
          4,
          5
         ],
         "y": [
          "       .",
          "       .",
          "       .",
          "       .",
          "       .",
          "       .",
          "       .",
          "       .",
          "       .",
          "       .",
          "       .",
          "       ."
         ]
        },
        {
         "mode": "lines",
         "name": "Law Wo-bachelor",
         "type": "scatter",
         "x": [
          0,
          1,
          2,
          3,
          4,
          5
         ],
         "y": [
          "   13.62",
          "   12.33",
          "   16.28",
          "   16.01",
          "   19.18",
          "   18.63",
          "   20.80",
          "   21.08",
          "   23.56",
          "   23.46",
          "   25.79",
          "   26.30"
         ]
        },
        {
         "mode": "lines",
         "name": "Law Wo-master",
         "type": "scatter",
         "x": [
          0,
          1,
          2,
          3,
          4,
          5
         ],
         "y": [
          "   16.50",
          "   16.92",
          "   18.89",
          "   18.11",
          "   20.98",
          "   20.37",
          "   22.87",
          "   23.48",
          "   26.84",
          "   25.87",
          "   28.16",
          "   29.50"
         ]
        },
        {
         "mode": "lines",
         "name": "Nature Hbo-bachelor",
         "type": "scatter",
         "x": [
          0,
          1,
          2,
          3,
          4,
          5
         ],
         "y": [
          "       .",
          "       .",
          "       .",
          "       .",
          "       .",
          "       .",
          "       .",
          "       .",
          "       .",
          "       .",
          "       .",
          "       ."
         ]
        },
        {
         "mode": "lines",
         "name": "Nature Hbo-master",
         "type": "scatter",
         "x": [
          0,
          1,
          2,
          3,
          4,
          5
         ],
         "y": [
          "       .",
          "       .",
          "       .",
          "       .",
          "       .",
          "       .",
          "       .",
          "       .",
          "       .",
          "       .",
          "       .",
          "       ."
         ]
        },
        {
         "mode": "lines",
         "name": "Nature Wo-bachelor",
         "type": "scatter",
         "x": [
          0,
          1,
          2,
          3,
          4,
          5
         ],
         "y": [
          "   12.46",
          "   13.91",
          "   16.47",
          "   15.48",
          "   18.76",
          "   18.24",
          "   20.80",
          "   20.18",
          "   22.56",
          "   21.66",
          "   24.72",
          "   23.77"
         ]
        },
        {
         "mode": "lines",
         "name": "Nature Wo-master",
         "type": "scatter",
         "x": [
          0,
          1,
          2,
          3,
          4,
          5
         ],
         "y": [
          "   16.21",
          "   16.62",
          "   18.11",
          "   18.16",
          "   19.78",
          "   20.37",
          "   21.65",
          "   22.42",
          "   23.68",
          "   25.34",
          "   26.24",
          "   28.07"
         ]
        },
        {
         "mode": "lines",
         "name": "STEM Hbo-bachelor",
         "type": "scatter",
         "x": [
          0,
          1,
          2,
          3,
          4,
          5
         ],
         "y": [
          "   13.96",
          "   15.32",
          "   15.28",
          "   16.59",
          "   16.86",
          "   18.43",
          "   20.22",
          "   18.44",
          "   22.22",
          "   20.08",
          "   23.80",
          "   21.40"
         ]
        },
        {
         "mode": "lines",
         "name": "STEM Hbo-master",
         "type": "scatter",
         "x": [
          0,
          1,
          2,
          3,
          4,
          5
         ],
         "y": [
          "       .",
          "       .",
          "       .",
          "       .",
          "       .",
          "       .",
          "       .",
          "       .",
          "       .",
          "       .",
          "       .",
          "       ."
         ]
        },
        {
         "mode": "lines",
         "name": "STEM Wo-bachelor",
         "type": "scatter",
         "x": [
          0,
          1,
          2,
          3,
          4,
          5
         ],
         "y": [
          "   14.86",
          "   12.68",
          "   18.37",
          "   17.82",
          "   20.34",
          "   19.87",
          "   21.57",
          "   21.68",
          "   24.29",
          "   24.28",
          "   26.67",
          "   26.78"
         ]
        },
        {
         "mode": "lines",
         "name": "STEM Wo-master",
         "type": "scatter",
         "x": [
          0,
          1,
          2,
          3,
          4,
          5
         ],
         "y": [
          "   17.41",
          "   17.72",
          "   18.73",
          "   19.04",
          "   20.57",
          "   21.12",
          "   23.41",
          "   22.69",
          "   25.85",
          "   25.27",
          "   27.53",
          "   28.51"
         ]
        },
        {
         "mode": "lines",
         "name": "Language and culture Hbo-bachelor",
         "type": "scatter",
         "x": [
          0,
          1,
          2,
          3,
          4,
          5
         ],
         "y": []
        },
        {
         "mode": "lines",
         "name": "Language and culture Hbo-master",
         "type": "scatter",
         "x": [
          0,
          1,
          2,
          3,
          4,
          5
         ],
         "y": []
        },
        {
         "mode": "lines",
         "name": "Language and culture Wo-bachelor",
         "type": "scatter",
         "x": [
          0,
          1,
          2,
          3,
          4,
          5
         ],
         "y": []
        },
        {
         "mode": "lines",
         "name": "Language and culture Wo-master",
         "type": "scatter",
         "x": [
          0,
          1,
          2,
          3,
          4,
          5
         ],
         "y": []
        },
        {
         "mode": "lines",
         "name": "Education Hbo-bachelor",
         "type": "scatter",
         "x": [
          0,
          1,
          2,
          3,
          4,
          5
         ],
         "y": [
          "   18.18",
          "   17.81",
          "   18.34",
          "   19.08",
          "   19.85",
          "   20.58",
          "   21.36",
          "   20.40",
          "   22.13",
          "   22.92",
          "   24.14",
          "   23.35"
         ]
        },
        {
         "mode": "lines",
         "name": "Education Hbo-master",
         "type": "scatter",
         "x": [
          0,
          1,
          2,
          3,
          4,
          5
         ],
         "y": [
          "       .",
          "   17.97",
          "   18.73",
          "       .",
          "       .",
          "   20.43",
          "   21.01",
          "       .",
          "       .",
          "   22.80",
          "       .",
          "   23.83"
         ]
        },
        {
         "mode": "lines",
         "name": "Education Wo-bachelor",
         "type": "scatter",
         "x": [
          0,
          1,
          2,
          3,
          4,
          5
         ],
         "y": [
          "       .",
          "       .",
          "       .",
          "       .",
          "       .",
          "       .",
          "       .",
          "       .",
          "       .",
          "       .",
          "       .",
          "       ."
         ]
        },
        {
         "mode": "lines",
         "name": "Education Wo-master",
         "type": "scatter",
         "x": [
          0,
          1,
          2,
          3,
          4,
          5
         ],
         "y": [
          "       .",
          "       .",
          "       .",
          "       .",
          "       .",
          "       .",
          "       .",
          "       .",
          "       .",
          "       .",
          "       .",
          "       ."
         ]
        },
        {
         "mode": "lines",
         "name": "Behaviour and society Hbo-bachelor",
         "type": "scatter",
         "x": [
          0,
          1,
          2,
          3,
          4,
          5
         ],
         "y": []
        },
        {
         "mode": "lines",
         "name": "Behaviour and society Hbo-master",
         "type": "scatter",
         "x": [
          0,
          1,
          2,
          3,
          4,
          5
         ],
         "y": []
        },
        {
         "mode": "lines",
         "name": "Behaviour and society Wo-bachelor",
         "type": "scatter",
         "x": [
          0,
          1,
          2,
          3,
          4,
          5
         ],
         "y": []
        },
        {
         "mode": "lines",
         "name": "Behaviour and society Wo-master",
         "type": "scatter",
         "x": [
          0,
          1,
          2,
          3,
          4,
          5
         ],
         "y": []
        },
        {
         "mode": "lines",
         "name": "Healthcare Hbo-bachelor",
         "type": "scatter",
         "x": [
          0,
          1,
          2,
          3,
          4,
          5
         ],
         "y": [
          "   17.08",
          "   17.14",
          "   18.93",
          "   18.93",
          "   20.60",
          "   20.56",
          "   22.00",
          "   21.67",
          "   23.73",
          "   23.46",
          "   24.93",
          "   25.09"
         ]
        },
        {
         "mode": "lines",
         "name": "Healthcare Hbo-master",
         "type": "scatter",
         "x": [
          0,
          1,
          2,
          3,
          4,
          5
         ],
         "y": [
          "       .",
          "       .",
          "       .",
          "       .",
          "       .",
          "       .",
          "       .",
          "       .",
          "       .",
          "       .",
          "       .",
          "       ."
         ]
        },
        {
         "mode": "lines",
         "name": "Healthcare Wo-bachelor",
         "type": "scatter",
         "x": [
          0,
          1,
          2,
          3,
          4,
          5
         ],
         "y": [
          "   13.95",
          "   13.81",
          "   20.13",
          "   18.72",
          "   22.84",
          "   20.73",
          "   23.73",
          "   23.53",
          "   25.34",
          "   25.34",
          "   26.20",
          "   26.79"
         ]
        },
        {
         "mode": "lines",
         "name": "Healthcare Wo-master",
         "type": "scatter",
         "x": [
          0,
          1,
          2,
          3,
          4,
          5
         ],
         "y": [
          "   16.21",
          "   16.29",
          "   18.75",
          "   18.35",
          "   20.37",
          "   20.32",
          "   22.42",
          "   22.42",
          "   24.71",
          "   24.35",
          "   26.58",
          "   27.51"
         ]
        }
       ],
       "layout": {
        "annotations": [
         {
          "align": "left",
          "font": {
           "size": 12
          },
          "showarrow": false,
          "text": "The line chart illustrates the difference in hourly wage per year after graduation. <br>Each line represents a different field of study per level of education. The dropdown<br>menu allows you to filter the data by field of study.",
          "x": 0,
          "xanchor": "left",
          "xref": "paper",
          "y": -0.3,
          "yanchor": "bottom",
          "yref": "paper"
         }
        ],
        "height": 700,
        "margin": {
         "b": 160
        },
        "template": {
         "data": {
          "bar": [
           {
            "error_x": {
             "color": "#2a3f5f"
            },
            "error_y": {
             "color": "#2a3f5f"
            },
            "marker": {
             "line": {
              "color": "#E5ECF6",
              "width": 0.5
             },
             "pattern": {
              "fillmode": "overlay",
              "size": 10,
              "solidity": 0.2
             }
            },
            "type": "bar"
           }
          ],
          "barpolar": [
           {
            "marker": {
             "line": {
              "color": "#E5ECF6",
              "width": 0.5
             },
             "pattern": {
              "fillmode": "overlay",
              "size": 10,
              "solidity": 0.2
             }
            },
            "type": "barpolar"
           }
          ],
          "carpet": [
           {
            "aaxis": {
             "endlinecolor": "#2a3f5f",
             "gridcolor": "white",
             "linecolor": "white",
             "minorgridcolor": "white",
             "startlinecolor": "#2a3f5f"
            },
            "baxis": {
             "endlinecolor": "#2a3f5f",
             "gridcolor": "white",
             "linecolor": "white",
             "minorgridcolor": "white",
             "startlinecolor": "#2a3f5f"
            },
            "type": "carpet"
           }
          ],
          "choropleth": [
           {
            "colorbar": {
             "outlinewidth": 0,
             "ticks": ""
            },
            "type": "choropleth"
           }
          ],
          "contour": [
           {
            "colorbar": {
             "outlinewidth": 0,
             "ticks": ""
            },
            "colorscale": [
             [
              0,
              "#0d0887"
             ],
             [
              0.1111111111111111,
              "#46039f"
             ],
             [
              0.2222222222222222,
              "#7201a8"
             ],
             [
              0.3333333333333333,
              "#9c179e"
             ],
             [
              0.4444444444444444,
              "#bd3786"
             ],
             [
              0.5555555555555556,
              "#d8576b"
             ],
             [
              0.6666666666666666,
              "#ed7953"
             ],
             [
              0.7777777777777778,
              "#fb9f3a"
             ],
             [
              0.8888888888888888,
              "#fdca26"
             ],
             [
              1,
              "#f0f921"
             ]
            ],
            "type": "contour"
           }
          ],
          "contourcarpet": [
           {
            "colorbar": {
             "outlinewidth": 0,
             "ticks": ""
            },
            "type": "contourcarpet"
           }
          ],
          "heatmap": [
           {
            "colorbar": {
             "outlinewidth": 0,
             "ticks": ""
            },
            "colorscale": [
             [
              0,
              "#0d0887"
             ],
             [
              0.1111111111111111,
              "#46039f"
             ],
             [
              0.2222222222222222,
              "#7201a8"
             ],
             [
              0.3333333333333333,
              "#9c179e"
             ],
             [
              0.4444444444444444,
              "#bd3786"
             ],
             [
              0.5555555555555556,
              "#d8576b"
             ],
             [
              0.6666666666666666,
              "#ed7953"
             ],
             [
              0.7777777777777778,
              "#fb9f3a"
             ],
             [
              0.8888888888888888,
              "#fdca26"
             ],
             [
              1,
              "#f0f921"
             ]
            ],
            "type": "heatmap"
           }
          ],
          "heatmapgl": [
           {
            "colorbar": {
             "outlinewidth": 0,
             "ticks": ""
            },
            "colorscale": [
             [
              0,
              "#0d0887"
             ],
             [
              0.1111111111111111,
              "#46039f"
             ],
             [
              0.2222222222222222,
              "#7201a8"
             ],
             [
              0.3333333333333333,
              "#9c179e"
             ],
             [
              0.4444444444444444,
              "#bd3786"
             ],
             [
              0.5555555555555556,
              "#d8576b"
             ],
             [
              0.6666666666666666,
              "#ed7953"
             ],
             [
              0.7777777777777778,
              "#fb9f3a"
             ],
             [
              0.8888888888888888,
              "#fdca26"
             ],
             [
              1,
              "#f0f921"
             ]
            ],
            "type": "heatmapgl"
           }
          ],
          "histogram": [
           {
            "marker": {
             "pattern": {
              "fillmode": "overlay",
              "size": 10,
              "solidity": 0.2
             }
            },
            "type": "histogram"
           }
          ],
          "histogram2d": [
           {
            "colorbar": {
             "outlinewidth": 0,
             "ticks": ""
            },
            "colorscale": [
             [
              0,
              "#0d0887"
             ],
             [
              0.1111111111111111,
              "#46039f"
             ],
             [
              0.2222222222222222,
              "#7201a8"
             ],
             [
              0.3333333333333333,
              "#9c179e"
             ],
             [
              0.4444444444444444,
              "#bd3786"
             ],
             [
              0.5555555555555556,
              "#d8576b"
             ],
             [
              0.6666666666666666,
              "#ed7953"
             ],
             [
              0.7777777777777778,
              "#fb9f3a"
             ],
             [
              0.8888888888888888,
              "#fdca26"
             ],
             [
              1,
              "#f0f921"
             ]
            ],
            "type": "histogram2d"
           }
          ],
          "histogram2dcontour": [
           {
            "colorbar": {
             "outlinewidth": 0,
             "ticks": ""
            },
            "colorscale": [
             [
              0,
              "#0d0887"
             ],
             [
              0.1111111111111111,
              "#46039f"
             ],
             [
              0.2222222222222222,
              "#7201a8"
             ],
             [
              0.3333333333333333,
              "#9c179e"
             ],
             [
              0.4444444444444444,
              "#bd3786"
             ],
             [
              0.5555555555555556,
              "#d8576b"
             ],
             [
              0.6666666666666666,
              "#ed7953"
             ],
             [
              0.7777777777777778,
              "#fb9f3a"
             ],
             [
              0.8888888888888888,
              "#fdca26"
             ],
             [
              1,
              "#f0f921"
             ]
            ],
            "type": "histogram2dcontour"
           }
          ],
          "mesh3d": [
           {
            "colorbar": {
             "outlinewidth": 0,
             "ticks": ""
            },
            "type": "mesh3d"
           }
          ],
          "parcoords": [
           {
            "line": {
             "colorbar": {
              "outlinewidth": 0,
              "ticks": ""
             }
            },
            "type": "parcoords"
           }
          ],
          "pie": [
           {
            "automargin": true,
            "type": "pie"
           }
          ],
          "scatter": [
           {
            "fillpattern": {
             "fillmode": "overlay",
             "size": 10,
             "solidity": 0.2
            },
            "type": "scatter"
           }
          ],
          "scatter3d": [
           {
            "line": {
             "colorbar": {
              "outlinewidth": 0,
              "ticks": ""
             }
            },
            "marker": {
             "colorbar": {
              "outlinewidth": 0,
              "ticks": ""
             }
            },
            "type": "scatter3d"
           }
          ],
          "scattercarpet": [
           {
            "marker": {
             "colorbar": {
              "outlinewidth": 0,
              "ticks": ""
             }
            },
            "type": "scattercarpet"
           }
          ],
          "scattergeo": [
           {
            "marker": {
             "colorbar": {
              "outlinewidth": 0,
              "ticks": ""
             }
            },
            "type": "scattergeo"
           }
          ],
          "scattergl": [
           {
            "marker": {
             "colorbar": {
              "outlinewidth": 0,
              "ticks": ""
             }
            },
            "type": "scattergl"
           }
          ],
          "scattermapbox": [
           {
            "marker": {
             "colorbar": {
              "outlinewidth": 0,
              "ticks": ""
             }
            },
            "type": "scattermapbox"
           }
          ],
          "scatterpolar": [
           {
            "marker": {
             "colorbar": {
              "outlinewidth": 0,
              "ticks": ""
             }
            },
            "type": "scatterpolar"
           }
          ],
          "scatterpolargl": [
           {
            "marker": {
             "colorbar": {
              "outlinewidth": 0,
              "ticks": ""
             }
            },
            "type": "scatterpolargl"
           }
          ],
          "scatterternary": [
           {
            "marker": {
             "colorbar": {
              "outlinewidth": 0,
              "ticks": ""
             }
            },
            "type": "scatterternary"
           }
          ],
          "surface": [
           {
            "colorbar": {
             "outlinewidth": 0,
             "ticks": ""
            },
            "colorscale": [
             [
              0,
              "#0d0887"
             ],
             [
              0.1111111111111111,
              "#46039f"
             ],
             [
              0.2222222222222222,
              "#7201a8"
             ],
             [
              0.3333333333333333,
              "#9c179e"
             ],
             [
              0.4444444444444444,
              "#bd3786"
             ],
             [
              0.5555555555555556,
              "#d8576b"
             ],
             [
              0.6666666666666666,
              "#ed7953"
             ],
             [
              0.7777777777777778,
              "#fb9f3a"
             ],
             [
              0.8888888888888888,
              "#fdca26"
             ],
             [
              1,
              "#f0f921"
             ]
            ],
            "type": "surface"
           }
          ],
          "table": [
           {
            "cells": {
             "fill": {
              "color": "#EBF0F8"
             },
             "line": {
              "color": "white"
             }
            },
            "header": {
             "fill": {
              "color": "#C8D4E3"
             },
             "line": {
              "color": "white"
             }
            },
            "type": "table"
           }
          ]
         },
         "layout": {
          "annotationdefaults": {
           "arrowcolor": "#2a3f5f",
           "arrowhead": 0,
           "arrowwidth": 1
          },
          "autotypenumbers": "strict",
          "coloraxis": {
           "colorbar": {
            "outlinewidth": 0,
            "ticks": ""
           }
          },
          "colorscale": {
           "diverging": [
            [
             0,
             "#8e0152"
            ],
            [
             0.1,
             "#c51b7d"
            ],
            [
             0.2,
             "#de77ae"
            ],
            [
             0.3,
             "#f1b6da"
            ],
            [
             0.4,
             "#fde0ef"
            ],
            [
             0.5,
             "#f7f7f7"
            ],
            [
             0.6,
             "#e6f5d0"
            ],
            [
             0.7,
             "#b8e186"
            ],
            [
             0.8,
             "#7fbc41"
            ],
            [
             0.9,
             "#4d9221"
            ],
            [
             1,
             "#276419"
            ]
           ],
           "sequential": [
            [
             0,
             "#0d0887"
            ],
            [
             0.1111111111111111,
             "#46039f"
            ],
            [
             0.2222222222222222,
             "#7201a8"
            ],
            [
             0.3333333333333333,
             "#9c179e"
            ],
            [
             0.4444444444444444,
             "#bd3786"
            ],
            [
             0.5555555555555556,
             "#d8576b"
            ],
            [
             0.6666666666666666,
             "#ed7953"
            ],
            [
             0.7777777777777778,
             "#fb9f3a"
            ],
            [
             0.8888888888888888,
             "#fdca26"
            ],
            [
             1,
             "#f0f921"
            ]
           ],
           "sequentialminus": [
            [
             0,
             "#0d0887"
            ],
            [
             0.1111111111111111,
             "#46039f"
            ],
            [
             0.2222222222222222,
             "#7201a8"
            ],
            [
             0.3333333333333333,
             "#9c179e"
            ],
            [
             0.4444444444444444,
             "#bd3786"
            ],
            [
             0.5555555555555556,
             "#d8576b"
            ],
            [
             0.6666666666666666,
             "#ed7953"
            ],
            [
             0.7777777777777778,
             "#fb9f3a"
            ],
            [
             0.8888888888888888,
             "#fdca26"
            ],
            [
             1,
             "#f0f921"
            ]
           ]
          },
          "colorway": [
           "#636efa",
           "#EF553B",
           "#00cc96",
           "#ab63fa",
           "#FFA15A",
           "#19d3f3",
           "#FF6692",
           "#B6E880",
           "#FF97FF",
           "#FECB52"
          ],
          "font": {
           "color": "#2a3f5f"
          },
          "geo": {
           "bgcolor": "white",
           "lakecolor": "white",
           "landcolor": "#E5ECF6",
           "showlakes": true,
           "showland": true,
           "subunitcolor": "white"
          },
          "hoverlabel": {
           "align": "left"
          },
          "hovermode": "closest",
          "mapbox": {
           "style": "light"
          },
          "paper_bgcolor": "white",
          "plot_bgcolor": "#E5ECF6",
          "polar": {
           "angularaxis": {
            "gridcolor": "white",
            "linecolor": "white",
            "ticks": ""
           },
           "bgcolor": "#E5ECF6",
           "radialaxis": {
            "gridcolor": "white",
            "linecolor": "white",
            "ticks": ""
           }
          },
          "scene": {
           "xaxis": {
            "backgroundcolor": "#E5ECF6",
            "gridcolor": "white",
            "gridwidth": 2,
            "linecolor": "white",
            "showbackground": true,
            "ticks": "",
            "zerolinecolor": "white"
           },
           "yaxis": {
            "backgroundcolor": "#E5ECF6",
            "gridcolor": "white",
            "gridwidth": 2,
            "linecolor": "white",
            "showbackground": true,
            "ticks": "",
            "zerolinecolor": "white"
           },
           "zaxis": {
            "backgroundcolor": "#E5ECF6",
            "gridcolor": "white",
            "gridwidth": 2,
            "linecolor": "white",
            "showbackground": true,
            "ticks": "",
            "zerolinecolor": "white"
           }
          },
          "shapedefaults": {
           "line": {
            "color": "#2a3f5f"
           }
          },
          "ternary": {
           "aaxis": {
            "gridcolor": "white",
            "linecolor": "white",
            "ticks": ""
           },
           "baxis": {
            "gridcolor": "white",
            "linecolor": "white",
            "ticks": ""
           },
           "bgcolor": "#E5ECF6",
           "caxis": {
            "gridcolor": "white",
            "linecolor": "white",
            "ticks": ""
           }
          },
          "title": {
           "x": 0.05
          },
          "xaxis": {
           "automargin": true,
           "gridcolor": "white",
           "linecolor": "white",
           "ticks": "",
           "title": {
            "standoff": 15
           },
           "zerolinecolor": "white",
           "zerolinewidth": 2
          },
          "yaxis": {
           "automargin": true,
           "gridcolor": "white",
           "linecolor": "white",
           "ticks": "",
           "title": {
            "standoff": 15
           },
           "zerolinecolor": "white",
           "zerolinewidth": 2
          }
         }
        },
        "title": {
         "text": "Hourly wages per Level of education and Field of study over the years<br><sub>On average, Wo students start with and maintain a higher hourly wage</sub>"
        },
        "updatemenus": [
         {
          "buttons": [
           {
            "args": [
             {
              "visible": [
               true,
               true,
               true,
               true,
               true,
               true,
               true,
               true,
               true,
               true,
               true,
               true,
               true,
               true,
               true,
               true,
               true,
               true,
               true,
               true,
               true,
               true,
               true,
               true,
               true,
               true,
               true,
               true,
               true,
               true,
               true,
               true,
               true,
               true,
               true,
               true,
               true,
               true,
               true,
               true
              ]
             },
             {
              "title": "Hourly wages per Level of education and Field of study over the years<br><sub>In the majority of fields of study a Wo student would start and maintain a higher hourly wage</sub>"
             }
            ],
            "label": "All",
            "method": "update"
           },
           {
            "args": [
             {
              "visible": [
               true,
               true,
               true,
               true,
               false,
               false,
               false,
               false,
               false,
               false,
               false,
               false,
               false,
               false,
               false,
               false,
               false,
               false,
               false,
               false,
               false,
               false,
               false,
               false,
               false,
               false,
               false,
               false,
               false,
               false,
               false,
               false,
               false,
               false,
               false,
               false,
               false,
               false,
               false,
               false
              ]
             },
             {
              "title": "Hourly wages of Economics studies<br><sub>In the majority of fields of study a Wo student would start and maintain a higher hourly wage</sub>"
             }
            ],
            "label": "Economics",
            "method": "update"
           },
           {
            "args": [
             {
              "visible": [
               false,
               false,
               false,
               false,
               true,
               true,
               true,
               true,
               false,
               false,
               false,
               false,
               false,
               false,
               false,
               false,
               false,
               false,
               false,
               false,
               false,
               false,
               false,
               false,
               false,
               false,
               false,
               false,
               false,
               false,
               false,
               false,
               false,
               false,
               false,
               false,
               false,
               false,
               false,
               false
              ]
             },
             {
              "title": "Hourly wages of the rest studies<br><sub>In the majority of fields of study a Wo student would start and maintain a higher hourly wage</sub>"
             }
            ],
            "label": "Other",
            "method": "update"
           },
           {
            "args": [
             {
              "visible": [
               false,
               false,
               false,
               false,
               false,
               false,
               false,
               false,
               true,
               true,
               true,
               true,
               false,
               false,
               false,
               false,
               false,
               false,
               false,
               false,
               false,
               false,
               false,
               false,
               false,
               false,
               false,
               false,
               false,
               false,
               false,
               false,
               false,
               false,
               false,
               false,
               false,
               false,
               false,
               false
              ]
             },
             {
              "title": "Hourly wages of Agriculture studies<br><sub>In the majority of fields of study a Wo student would start and maintain a higher hourly wage</sub>"
             }
            ],
            "label": "Agriculture",
            "method": "update"
           },
           {
            "args": [
             {
              "visible": [
               false,
               false,
               false,
               false,
               false,
               false,
               false,
               false,
               false,
               false,
               false,
               false,
               true,
               true,
               true,
               true,
               false,
               false,
               false,
               false,
               false,
               false,
               false,
               false,
               false,
               false,
               false,
               false,
               false,
               false,
               false,
               false,
               false,
               false,
               false,
               false,
               false,
               false,
               false,
               false
              ]
             },
             {
              "title": "Hourly wages of Law studies<br><sub>In the majority of fields of study a Wo student would start and maintain a higher hourly wage</sub>"
             }
            ],
            "label": "Law",
            "method": "update"
           },
           {
            "args": [
             {
              "visible": [
               false,
               false,
               false,
               false,
               false,
               false,
               false,
               false,
               false,
               false,
               false,
               false,
               false,
               false,
               false,
               false,
               true,
               true,
               true,
               true,
               false,
               false,
               false,
               false,
               false,
               false,
               false,
               false,
               false,
               false,
               false,
               false,
               false,
               false,
               false,
               false,
               false,
               false,
               false,
               false
              ]
             },
             {
              "title": "Hourly wages of Nature studies<br><sub>In the majority of fields of study a Wo student would start and maintain a higher hourly wage</sub>"
             }
            ],
            "label": "Nature",
            "method": "update"
           },
           {
            "args": [
             {
              "visible": [
               false,
               false,
               false,
               false,
               false,
               false,
               false,
               false,
               false,
               false,
               false,
               false,
               false,
               false,
               false,
               false,
               false,
               false,
               false,
               false,
               true,
               true,
               true,
               true,
               false,
               false,
               false,
               false,
               false,
               false,
               false,
               false,
               false,
               false,
               false,
               false,
               false,
               false,
               false,
               false
              ]
             },
             {
              "title": "Hourly wages of STEM studies<br><sub>In the majority of fields of study a Wo student would start and maintain a higher hourly wage</sub>"
             }
            ],
            "label": "STEM",
            "method": "update"
           },
           {
            "args": [
             {
              "visible": [
               false,
               false,
               false,
               false,
               false,
               false,
               false,
               false,
               false,
               false,
               false,
               false,
               false,
               false,
               false,
               false,
               false,
               false,
               false,
               false,
               false,
               false,
               false,
               false,
               true,
               true,
               true,
               true,
               false,
               false,
               false,
               false,
               false,
               false,
               false,
               false,
               false,
               false,
               false,
               false
              ]
             },
             {
              "title": "Hourly wages of Language and culture studies<br><sub>In the majority of fields of study a Wo student would start and maintain a higher hourly wage</sub>"
             }
            ],
            "label": "Language and culture",
            "method": "update"
           },
           {
            "args": [
             {
              "visible": [
               false,
               false,
               false,
               false,
               false,
               false,
               false,
               false,
               false,
               false,
               false,
               false,
               false,
               false,
               false,
               false,
               false,
               false,
               false,
               false,
               false,
               false,
               false,
               false,
               false,
               false,
               false,
               false,
               true,
               true,
               true,
               true,
               false,
               false,
               false,
               false,
               false,
               false,
               false,
               false
              ]
             },
             {
              "title": "Hourly wages of Education studies<br><sub>In the majority of fields of study a Wo student would start and maintain a higher hourly wage</sub>"
             }
            ],
            "label": "Education",
            "method": "update"
           },
           {
            "args": [
             {
              "visible": [
               false,
               false,
               false,
               false,
               false,
               false,
               false,
               false,
               false,
               false,
               false,
               false,
               false,
               false,
               false,
               false,
               false,
               false,
               false,
               false,
               false,
               false,
               false,
               false,
               false,
               false,
               false,
               false,
               false,
               false,
               false,
               false,
               true,
               true,
               true,
               true,
               false,
               false,
               false,
               false
              ]
             },
             {
              "title": "Hourly wages of Behaviour and society studies<br><sub>In the majority of fields of study a Wo student would start and maintain a higher hourly wage</sub>"
             }
            ],
            "label": "Behaviour and society",
            "method": "update"
           },
           {
            "args": [
             {
              "visible": [
               false,
               false,
               false,
               false,
               false,
               false,
               false,
               false,
               false,
               false,
               false,
               false,
               false,
               false,
               false,
               false,
               false,
               false,
               false,
               false,
               false,
               false,
               false,
               false,
               false,
               false,
               false,
               false,
               false,
               false,
               false,
               false,
               false,
               false,
               false,
               false,
               true,
               true,
               true,
               true
              ]
             },
             {
              "title": "Hourly wages of Healthcare studies<br><sub>In the majority of fields of study a Wo student would start and maintain a higher hourly wage</sub>"
             }
            ],
            "label": "Healthcare",
            "method": "update"
           }
          ],
          "direction": "down",
          "showactive": true
         }
        ],
        "xaxis": {
         "title": {
          "text": "Years after leaving college"
         }
        },
        "yaxis": {
         "title": {
          "text": "Hourly wage (euro)"
         },
         "type": "linear"
        }
       }
      }
     },
     "metadata": {},
     "output_type": "display_data"
    }
   ],
   "source": [
    "dropdown_buttons = list([\n",
    "    dict(label=\"All\",\n",
    "         method=\"update\",\n",
    "         args=[{\"visible\": [True] * 40},\n",
    "               {\"title\": \"Hourly wages per Level of education and Field of study over the years<br><sub>In the majority of fields of study a Wo student would start and maintain a higher hourly wage</sub>\"}]),\n",
    "    dict(label=\"Economics\",\n",
    "         method=\"update\",\n",
    "         args=[{\"visible\": [True] * 4 + [False] * 36},\n",
    "               {\"title\": \"Hourly wages of Economics studies<br><sub>In the majority of fields of study a Wo student would start and maintain a higher hourly wage</sub>\"}]),\n",
    "    dict(label=\"Other\",\n",
    "         method=\"update\",\n",
    "         args=[{\"visible\": [False] * 4 + [True] * 4 + [False] * 32},\n",
    "               {\"title\": \"Hourly wages of the rest studies<br><sub>In the majority of fields of study a Wo student would start and maintain a higher hourly wage</sub>\"}]),\n",
    "    dict(label=\"Agriculture\",\n",
    "         method=\"update\",\n",
    "         args=[{\"visible\": [False] * 8 + [True] * 4 + [False] * 28},\n",
    "               {\"title\": \"Hourly wages of Agriculture studies<br><sub>In the majority of fields of study a Wo student would start and maintain a higher hourly wage</sub>\"}]),\n",
    "    dict(label=\"Law\",\n",
    "         method=\"update\",\n",
    "         args=[{\"visible\": [False] * 12 + [True] * 4 + [False] * 24},\n",
    "               {\"title\": \"Hourly wages of Law studies<br><sub>In the majority of fields of study a Wo student would start and maintain a higher hourly wage</sub>\"}]),\n",
    "    dict(label=\"Nature\",\n",
    "         method=\"update\",\n",
    "         args=[{\"visible\": [False] * 16 + [True] * 4 + [False] * 20},\n",
    "               {\"title\": \"Hourly wages of Nature studies<br><sub>In the majority of fields of study a Wo student would start and maintain a higher hourly wage</sub>\"}]),\n",
    "    dict(label=\"STEM\",\n",
    "         method=\"update\",\n",
    "         args=[{\"visible\": [False] * 20 + [True] * 4 + [False] * 16},\n",
    "               {\"title\": \"Hourly wages of STEM studies<br><sub>In the majority of fields of study a Wo student would start and maintain a higher hourly wage</sub>\"}]),\n",
    "    dict(label=\"Language and culture\",\n",
    "         method=\"update\",\n",
    "         args=[{\"visible\": [False] * 24 + [True] * 4 + [False] * 12},\n",
    "               {\"title\": \"Hourly wages of Language and culture studies<br><sub>In the majority of fields of study a Wo student would start and maintain a higher hourly wage</sub>\"}]),\n",
    "    dict(label=\"Education\",\n",
    "         method=\"update\",\n",
    "         args=[{\"visible\": [False] * 28 + [True] * 4 + [False] * 8},\n",
    "               {\"title\": \"Hourly wages of Education studies<br><sub>In the majority of fields of study a Wo student would start and maintain a higher hourly wage</sub>\"}]),\n",
    "    dict(label=\"Behaviour and society\",\n",
    "         method=\"update\",\n",
    "         args=[{\"visible\": [False] * 32 + [True] * 4 + [False] * 4},\n",
    "               {\"title\": \"Hourly wages of Behaviour and society studies<br><sub>In the majority of fields of study a Wo student would start and maintain a higher hourly wage</sub>\"}]),\n",
    "    dict(label=\"Healthcare\",\n",
    "         method=\"update\",\n",
    "         args=[{\"visible\": [False] * 36 + [True] * 4},\n",
    "               {\"title\": \"Hourly wages of Healthcare studies<br><sub>In the majority of fields of study a Wo student would start and maintain a higher hourly wage</sub>\"}]),\n",
    "])\n",
    "\n",
    "fig = go.Figure()\n",
    "\n",
    "df_uurloon['Studierichting_mapped'] = df_uurloon['Studierichting'].map(label_mapping)\n",
    "\n",
    "for studierichting in studierichtingen:\n",
    "    df_selected_hbo_bach = df_uurloon[df_uurloon['Studierichting_mapped'] == studierichting].loc[df_uurloon['Uitstromers ho met en zonder diploma'] == 'Hbo-bachelor']\n",
    "    df_selected_hbo_master = df_uurloon[df_uurloon['Studierichting_mapped'] == studierichting].loc[df_uurloon['Uitstromers ho met en zonder diploma'] == 'Hbo-master']\n",
    "    df_selected_wo_bach = df_uurloon[df_uurloon['Studierichting_mapped'] == studierichting].loc[df_uurloon['Uitstromers ho met en zonder diploma'] == 'Wo-bachelor']\n",
    "    df_selected_wo_master = df_uurloon[df_uurloon['Studierichting_mapped'] == studierichting].loc[df_uurloon['Uitstromers ho met en zonder diploma'] == 'Wo-master']\n",
    "    fig.add_trace(\n",
    "        go.Scatter(\n",
    "            mode = 'lines',\n",
    "            x = [0,1,2,3,4,5],\n",
    "            y = df_selected_hbo_bach['Uurloon werknemers na verlaten ho (euro)'],\n",
    "            name = studierichting + ' Hbo-bachelor'\n",
    "        )\n",
    "    )\n",
    "    fig.add_trace(\n",
    "        go.Scatter(\n",
    "            mode = 'lines',\n",
    "            x = [0,1,2,3,4,5],\n",
    "            y = df_selected_hbo_master['Uurloon werknemers na verlaten ho (euro)'],\n",
    "            name = studierichting + ' Hbo-master'\n",
    "        )\n",
    "    )\n",
    "    fig.add_trace(\n",
    "        go.Scatter(\n",
    "            mode = 'lines',\n",
    "            x = [0,1,2,3,4,5],\n",
    "            y = df_selected_wo_bach['Uurloon werknemers na verlaten ho (euro)'],\n",
    "            name = studierichting + ' Wo-bachelor'\n",
    "        )\n",
    "    )\n",
    "    fig.add_trace(\n",
    "        go.Scatter(\n",
    "            mode = 'lines',\n",
    "            x = [0,1,2,3,4,5],\n",
    "            y = df_selected_wo_master['Uurloon werknemers na verlaten ho (euro)'],\n",
    "            name = studierichting + ' Wo-master'\n",
    "        )\n",
    "    )\n",
    "\n",
    "fig.update_layout(\n",
    "    updatemenus=[{\n",
    "        'buttons': dropdown_buttons,\n",
    "        'direction': 'down',\n",
    "        'showactive': True,\n",
    "    }],\n",
    "    title_text = 'Hourly wages per Level of education and Field of study over the years<br><sub>On average, Wo students start with and maintain a higher hourly wage</sub>',\n",
    "    annotations=[\n",
    "        go.layout.Annotation(\n",
    "            text=\"The line chart illustrates the difference in hourly wage per year after graduation. <br>Each line represents a different field of study per level of education. The dropdown<br>menu allows you to filter the data by field of study.\",\n",
    "            xref=\"paper\", yref=\"paper\",\n",
    "            x=0, y=-0.3,\n",
    "            showarrow=False,\n",
    "            font=dict(size=12),\n",
    "            xanchor='left',\n",
    "            yanchor='bottom',\n",
    "            align = 'left'\n",
    "        )\n",
    "    ],\n",
    "    margin=dict(\n",
    "        b = 160\n",
    "    ),\n",
    "    height = 700,\n",
    "    xaxis_title = 'Years after leaving college',\n",
    "    yaxis_title = 'Hourly wage (euro)',\n",
    "    yaxis = dict(type = 'linear')\n",
    ")\n",
    "\n",
    "fig.show()"
   ]
  }
 ],
 "metadata": {
  "kernelspec": {
   "display_name": "jupyterbook",
   "language": "python",
   "name": "python3"
  },
  "language_info": {
   "codemirror_mode": {
    "name": "ipython",
    "version": 3
   },
   "file_extension": ".py",
   "mimetype": "text/x-python",
   "name": "python",
   "nbconvert_exporter": "python",
   "pygments_lexer": "ipython3",
   "version": "3.10.14"
  }
 },
 "nbformat": 4,
 "nbformat_minor": 2
}
