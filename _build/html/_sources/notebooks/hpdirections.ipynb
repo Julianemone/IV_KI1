{
 "cells": [
  {
   "cell_type": "code",
   "execution_count": 3,
   "metadata": {},
   "outputs": [],
   "source": [
    "import plotly.graph_objs as go\n",
    "import pandas as pd"
   ]
  },
  {
   "cell_type": "code",
   "execution_count": 4,
   "metadata": {},
   "outputs": [],
   "source": [
    "arbeidsmarkt = pd.read_csv(\"../data/arbeidsmarkt.csv\", sep=';')\n",
    "uurloon = pd.read_csv(\"../data/uurloon.csv\", sep=';')\n",
    "uurloon['Uurloon werknemers na verlaten ho (euro)']  = pd.to_numeric(uurloon['Uurloon werknemers na verlaten ho (euro)'] , errors='coerce')\n",
    "arbeidsmarkt['Uitstromers ho (aantal)']  = pd.to_numeric(arbeidsmarkt['Uitstromers ho (aantal)'] , errors='coerce')\n",
    "arbeidsmarkt.fillna(0, inplace = True)\n",
    "peilmoment1 = arbeidsmarkt.loc[arbeidsmarkt['Peilmoment'] == 'Direct na verlaten onderwijs']"
   ]
  },
  {
   "cell_type": "code",
   "execution_count": 5,
   "metadata": {},
   "outputs": [],
   "source": [
    "total_counts_niveau = peilmoment1.groupby('Uitstromers ho met en zonder diploma')['Uitstromers ho (aantal)'].sum().reset_index()\n",
    "total_counts_niveau.rename(columns={'Uitstromers ho (aantal)': 'Total degree level'}, inplace=True)\n",
    "\n",
    "arbeidsmarkt = arbeidsmarkt.merge(total_counts_niveau, on='Uitstromers ho met en zonder diploma')\n",
    "\n",
    "total_counts = peilmoment1.groupby('Studierichting')['Uitstromers ho (aantal)'].sum().reset_index()\n",
    "total_counts.rename(columns={'Uitstromers ho (aantal)': 'Total studierichting'}, inplace=True)\n",
    "\n",
    "arbeidsmarkt = arbeidsmarkt.merge(total_counts, on='Studierichting')\n",
    "\n",
    "arbeidsmarkt['Percentage studierichting'] = arbeidsmarkt['Uitstromers ho (aantal)'] / arbeidsmarkt['Total studierichting'] * 100\n",
    "arbeidsmarkt['Percentage degree level'] = arbeidsmarkt['Uitstromers ho (aantal)'] / arbeidsmarkt['Total degree level'] * 100"
   ]
  },
  {
   "cell_type": "code",
   "execution_count": 6,
   "metadata": {},
   "outputs": [],
   "source": [
    "arbeidsmarktp0 = arbeidsmarkt.loc[arbeidsmarkt['Peilmoment'] == 'Direct na verlaten onderwijs']\n",
    "arbeidsmarktp1 = arbeidsmarkt.loc[arbeidsmarkt['Peilmoment'] == '1 jaar na verlaten onderwijs']\n",
    "arbeidsmarktp2 = arbeidsmarkt.loc[arbeidsmarkt['Peilmoment'] == '2 jaar na verlaten onderwijs']\n",
    "arbeidsmarktp3 = arbeidsmarkt.loc[arbeidsmarkt['Peilmoment'] == '3 jaar na verlaten onderwijs']\n",
    "arbeidsmarktp4 = arbeidsmarkt.loc[arbeidsmarkt['Peilmoment'] == '4 jaar na verlaten onderwijs']\n",
    "arbeidsmarktp5 = arbeidsmarkt.loc[arbeidsmarkt['Peilmoment'] == '5 jaar na verlaten onderwijs']\n",
    "\n",
    "data = [arbeidsmarktp0, arbeidsmarktp1, arbeidsmarktp2, arbeidsmarktp3, arbeidsmarktp4, arbeidsmarktp5]"
   ]
  },
  {
   "cell_type": "code",
   "execution_count": 35,
   "metadata": {},
   "outputs": [
    {
     "data": {
      "application/vnd.plotly.v1+json": {
       "config": {
        "plotlyServerURL": "https://plot.ly"
       },
       "data": [
        {
         "colorbar": {
          "tickformat": "%d%",
          "title": {
           "text": "% within field"
          }
         },
         "colorscale": [
          [
           0,
           "rgb(247,251,255)"
          ],
          [
           0.125,
           "rgb(222,235,247)"
          ],
          [
           0.25,
           "rgb(198,219,239)"
          ],
          [
           0.375,
           "rgb(158,202,225)"
          ],
          [
           0.5,
           "rgb(107,174,214)"
          ],
          [
           0.625,
           "rgb(66,146,198)"
          ],
          [
           0.75,
           "rgb(33,113,181)"
          ],
          [
           0.875,
           "rgb(8,81,156)"
          ],
          [
           1,
           "rgb(8,48,107)"
          ]
         ],
         "hoverinfo": "text+x",
         "hoverongaps": false,
         "text": [
          [
           "1%",
           "2%",
           "1%",
           "1%",
           "1%",
           "3%",
           "2%",
           "0%",
           "2%",
           "1%"
          ],
          [
           "84%",
           "84%",
           "85%",
           "77%",
           "74%",
           "92%",
           "79%",
           "61%",
           "75%",
           "83%"
          ],
          [
           "0%",
           "0%",
           "0%",
           "0%",
           "0%",
           "0%",
           "0%",
           "0%",
           "0%",
           "0%"
          ],
          [
           "1%",
           "2%",
           "1%",
           "2%",
           "2%",
           "1%",
           "3%",
           "0%",
           "3%",
           "1%"
          ],
          [
           "13%",
           "12%",
           "13%",
           "20%",
           "23%",
           "5%",
           "16%",
           "39%",
           "20%",
           "15%"
          ]
         ],
         "type": "heatmap",
         "visible": true,
         "x": [
          "Economics",
          "Behaviour & society",
          "Healthcare",
          "Agriculture",
          "Nature",
          "Education",
          "Law",
          "Other",
          "Language & culture",
          "STEM"
         ],
         "y": [
          "Met werk, met uitkering",
          "Met werk, zonder uitkering",
          "Terug in onderwijs",
          "Zonder werk, met uitkering",
          "Zonder werk, zonder uitkering"
         ],
         "z": [
          [
           1.4890646812470918,
           2.238354506957048,
           1.062573789846517,
           0.9259259259259258,
           1.102941176470588,
           2.514506769825919,
           1.902173913043478,
           0,
           2.2801302931596092,
           0.8163265306122449
          ],
          [
           84.03908794788273,
           83.7265577737447,
           85.47815820543093,
           77.31481481481481,
           73.89705882352942,
           92.06963249516441,
           79.34782608695653,
           60.714285714285715,
           75.0814332247557,
           83.26530612244898
          ],
          [
           0,
           0,
           0,
           0,
           0,
           0,
           0,
           0,
           0,
           0
          ],
          [
           1.3959981386691487,
           1.9963702359346642,
           0.9445100354191263,
           1.8518518518518516,
           2.205882352941176,
           0.7736943907156674,
           2.717391304347826,
           0,
           2.931596091205212,
           1.2244897959183674
          ],
          [
           13.075849232201024,
           12.03871748336358,
           12.514757969303425,
           19.907407407407405,
           22.794117647058822,
           4.642166344294004,
           16.032608695652172,
           39.28571428571429,
           19.706840390879478,
           14.693877551020408
          ]
         ],
         "zmax": 100,
         "zmin": 0
        },
        {
         "colorbar": {
          "tickformat": "%d%",
          "title": {
           "text": "% within field"
          }
         },
         "colorscale": [
          [
           0,
           "rgb(247,251,255)"
          ],
          [
           0.125,
           "rgb(222,235,247)"
          ],
          [
           0.25,
           "rgb(198,219,239)"
          ],
          [
           0.375,
           "rgb(158,202,225)"
          ],
          [
           0.5,
           "rgb(107,174,214)"
          ],
          [
           0.625,
           "rgb(66,146,198)"
          ],
          [
           0.75,
           "rgb(33,113,181)"
          ],
          [
           0.875,
           "rgb(8,81,156)"
          ],
          [
           1,
           "rgb(8,48,107)"
          ]
         ],
         "hoverinfo": "text+x",
         "hoverongaps": false,
         "text": [
          [
           "2%",
           "2%",
           "1%",
           "1%",
           "1%",
           "3%",
           "2%",
           "0%",
           "3%",
           "1%"
          ],
          [
           "85%",
           "82%",
           "78%",
           "83%",
           "74%",
           "86%",
           "83%",
           "32%",
           "74%",
           "87%"
          ],
          [
           "6%",
           "9%",
           "16%",
           "6%",
           "13%",
           "6%",
           "7%",
           "43%",
           "9%",
           "5%"
          ],
          [
           "1%",
           "2%",
           "1%",
           "2%",
           "1%",
           "1%",
           "2%",
           "0%",
           "2%",
           "1%"
          ],
          [
           "5%",
           "4%",
           "3%",
           "6%",
           "7%",
           "3%",
           "5%",
           "20%",
           "9%",
           "4%"
          ]
         ],
         "type": "heatmap",
         "visible": false,
         "x": [
          "Economics",
          "Behaviour & society",
          "Healthcare",
          "Agriculture",
          "Nature",
          "Education",
          "Law",
          "Other",
          "Language & culture",
          "STEM"
         ],
         "y": [
          "Met werk, met uitkering",
          "Met werk, zonder uitkering",
          "Terug in onderwijs",
          "Zonder werk, met uitkering",
          "Zonder werk, zonder uitkering"
         ],
         "z": [
          [
           1.582131223825035,
           2.1173623714458563,
           1.1806375442739079,
           1.3888888888888888,
           1.4705882352941175,
           2.9013539651837523,
           1.6304347826086956,
           0,
           2.931596091205212,
           0.9795918367346939
          ],
          [
           84.87668683108423,
           81.85117967332124,
           77.80401416765054,
           83.33333333333334,
           74.26470588235293,
           86.46034816247582,
           82.88043478260869,
           32.14285714285714,
           74.1042345276873,
           87.42857142857143
          ],
          [
           5.537459283387623,
           8.892921960072595,
           16.05667060212515,
           6.481481481481481,
           13.235294117647058,
           6.189555125725339,
           7.336956521739129,
           42.857142857142854,
           9.283387622149839,
           5.142857142857142
          ],
          [
           1.4425314099581201,
           1.8753781004234726,
           0.8264462809917354,
           1.8518518518518516,
           1.102941176470588,
           1.160541586073501,
           2.4456521739130435,
           0,
           2.2801302931596092,
           1.0612244897959184
          ],
          [
           5.397859469520707,
           4.4162129461585,
           3.0696576151121606,
           6.481481481481481,
           6.985294117647059,
           2.514506769825919,
           4.619565217391305,
           19.642857142857142,
           8.794788273615636,
           4.163265306122449
          ]
         ],
         "zmax": 100,
         "zmin": 0
        },
        {
         "colorbar": {
          "tickformat": "%d%",
          "title": {
           "text": "% within field"
          }
         },
         "colorscale": [
          [
           0,
           "rgb(247,251,255)"
          ],
          [
           0.125,
           "rgb(222,235,247)"
          ],
          [
           0.25,
           "rgb(198,219,239)"
          ],
          [
           0.375,
           "rgb(158,202,225)"
          ],
          [
           0.5,
           "rgb(107,174,214)"
          ],
          [
           0.625,
           "rgb(66,146,198)"
          ],
          [
           0.75,
           "rgb(33,113,181)"
          ],
          [
           0.875,
           "rgb(8,81,156)"
          ],
          [
           1,
           "rgb(8,48,107)"
          ]
         ],
         "hoverinfo": "text+x",
         "hoverongaps": false,
         "text": [
          [
           "1%",
           "2%",
           "1%",
           "1%",
           "1%",
           "2%",
           "1%",
           "0%",
           "2%",
           "1%"
          ],
          [
           "85%",
           "81%",
           "76%",
           "82%",
           "74%",
           "85%",
           "84%",
           "32%",
           "74%",
           "87%"
          ],
          [
           "7%",
           "11%",
           "19%",
           "8%",
           "15%",
           "10%",
           "9%",
           "54%",
           "12%",
           "6%"
          ],
          [
           "2%",
           "2%",
           "1%",
           "2%",
           "1%",
           "1%",
           "2%",
           "0%",
           "2%",
           "1%"
          ],
          [
           "4%",
           "3%",
           "2%",
           "4%",
           "5%",
           "2%",
           "3%",
           "14%",
           "6%",
           "3%"
          ]
         ],
         "type": "heatmap",
         "visible": false,
         "x": [
          "Economics",
          "Behaviour & society",
          "Healthcare",
          "Agriculture",
          "Nature",
          "Education",
          "Law",
          "Other",
          "Language & culture",
          "STEM"
         ],
         "y": [
          "Met werk, met uitkering",
          "Met werk, zonder uitkering",
          "Terug in onderwijs",
          "Zonder werk, met uitkering",
          "Zonder werk, zonder uitkering"
         ],
         "z": [
          [
           1.1633317822242903,
           1.693889897156685,
           0.9445100354191264,
           0.9259259259259258,
           0.7352941176470588,
           1.5473887814313347,
           1.358695652173913,
           0,
           2.2801302931596092,
           0.7346938775510204
          ],
          [
           84.83015355979525,
           80.7017543859649,
           76.03305785123968,
           82.4074074074074,
           73.52941176470588,
           84.71953578336556,
           83.69565217391305,
           32.14285714285714,
           73.61563517915309,
           87.10204081632652
          ],
          [
           7.119590507212657,
           11.373260738052027,
           18.536009445100355,
           7.87037037037037,
           15.073529411764707,
           10.251450676982593,
           8.695652173913043,
           53.57142857142858,
           12.214983713355048,
           6.448979591836735
          ],
          [
           1.6286644951140068,
           1.9358741681790685,
           1.062573789846517,
           1.8518518518518516,
           1.102941176470588,
           1.160541586073501,
           1.902173913043478,
           0,
           2.44299674267101,
           0.9795918367346939
          ],
          [
           3.5830618892508146,
           3.0248033877797944,
           2.007083825265643,
           4.166666666666666,
           5.147058823529411,
           1.5473887814313347,
           3.2608695652173916,
           14.285714285714285,
           6.188925081433225,
           3.0204081632653064
          ]
         ],
         "zmax": 100,
         "zmin": 0
        },
        {
         "colorbar": {
          "tickformat": "%d%",
          "title": {
           "text": "% within field"
          }
         },
         "colorscale": [
          [
           0,
           "rgb(247,251,255)"
          ],
          [
           0.125,
           "rgb(222,235,247)"
          ],
          [
           0.25,
           "rgb(198,219,239)"
          ],
          [
           0.375,
           "rgb(158,202,225)"
          ],
          [
           0.5,
           "rgb(107,174,214)"
          ],
          [
           0.625,
           "rgb(66,146,198)"
          ],
          [
           0.75,
           "rgb(33,113,181)"
          ],
          [
           0.875,
           "rgb(8,81,156)"
          ],
          [
           1,
           "rgb(8,48,107)"
          ]
         ],
         "hoverinfo": "text+x",
         "hoverongaps": false,
         "text": [
          [
           "1%",
           "2%",
           "1%",
           "2%",
           "0%",
           "1%",
           "1%",
           "0%",
           "2%",
           "1%"
          ],
          [
           "85%",
           "80%",
           "74%",
           "82%",
           "74%",
           "83%",
           "84%",
           "36%",
           "72%",
           "87%"
          ],
          [
           "8%",
           "13%",
           "20%",
           "9%",
           "15%",
           "13%",
           "9%",
           "55%",
           "14%",
           "7%"
          ],
          [
           "1%",
           "2%",
           "1%",
           "1%",
           "1%",
           "1%",
           "2%",
           "0%",
           "3%",
           "1%"
          ],
          [
           "3%",
           "3%",
           "2%",
           "4%",
           "4%",
           "1%",
           "2%",
           "9%",
           "5%",
           "3%"
          ]
         ],
         "type": "heatmap",
         "visible": false,
         "x": [
          "Economics",
          "Behaviour & society",
          "Healthcare",
          "Agriculture",
          "Nature",
          "Education",
          "Law",
          "Other",
          "Language & culture",
          "STEM"
         ],
         "y": [
          "Met werk, met uitkering",
          "Met werk, zonder uitkering",
          "Terug in onderwijs",
          "Zonder werk, met uitkering",
          "Zonder werk, zonder uitkering"
         ],
         "z": [
          [
           1.116798510935319,
           1.5124016938898972,
           1.1806375442739079,
           1.8518518518518516,
           0.3676470588235294,
           0.7736943907156674,
           0.8152173913043478,
           0,
           2.44299674267101,
           0.653061224489796
          ],
          [
           84.69055374592833,
           79.79431336963097,
           74.14403778040142,
           81.94444444444444,
           74.26470588235293,
           82.7852998065764,
           83.96739130434783,
           35.714285714285715,
           72.47557003257329,
           86.6938775510204
          ],
          [
           7.910656119125175,
           12.764670296430733,
           20.188902007083826,
           8.796296296296296,
           15.441176470588236,
           13.34622823984526,
           9.23913043478261,
           55.35714285714286,
           13.843648208469055,
           6.857142857142857
          ],
          [
           1.4890646812470918,
           1.9963702359346642,
           1.062573789846517,
           0.9259259259259258,
           1.102941176470588,
           0.9671179883945842,
           1.902173913043478,
           0,
           2.6058631921824107,
           1.0612244897959184
          ],
          [
           2.6058631921824102,
           2.722323049001815,
           1.8890200708382525,
           3.7037037037037033,
           3.6764705882352944,
           1.3539651837524178,
           2.1739130434782608,
           8.928571428571427,
           4.723127035830619,
           2.5306122448979593
          ]
         ],
         "zmax": 100,
         "zmin": 0
        },
        {
         "colorbar": {
          "tickformat": "%d%",
          "title": {
           "text": "% within field"
          }
         },
         "colorscale": [
          [
           0,
           "rgb(247,251,255)"
          ],
          [
           0.125,
           "rgb(222,235,247)"
          ],
          [
           0.25,
           "rgb(198,219,239)"
          ],
          [
           0.375,
           "rgb(158,202,225)"
          ],
          [
           0.5,
           "rgb(107,174,214)"
          ],
          [
           0.625,
           "rgb(66,146,198)"
          ],
          [
           0.75,
           "rgb(33,113,181)"
          ],
          [
           0.875,
           "rgb(8,81,156)"
          ],
          [
           1,
           "rgb(8,48,107)"
          ]
         ],
         "hoverinfo": "text+x",
         "hoverongaps": false,
         "text": [
          [
           "5%",
           "5%",
           "5%",
           "3%",
           "3%",
           "4%",
           "4%",
           "2%",
           "15%",
           "4%"
          ],
          [
           "80%",
           "76%",
           "70%",
           "81%",
           "70%",
           "79%",
           "81%",
           "36%",
           "58%",
           "83%"
          ],
          [
           "9%",
           "14%",
           "21%",
           "9%",
           "16%",
           "15%",
           "9%",
           "55%",
           "15%",
           "7%"
          ],
          [
           "2%",
           "2%",
           "1%",
           "2%",
           "3%",
           "1%",
           "2%",
           "0%",
           "3%",
           "2%"
          ],
          [
           "2%",
           "2%",
           "1%",
           "3%",
           "4%",
           "1%",
           "2%",
           "7%",
           "4%",
           "2%"
          ]
         ],
         "type": "heatmap",
         "visible": false,
         "x": [
          "Economics",
          "Behaviour & society",
          "Healthcare",
          "Agriculture",
          "Nature",
          "Education",
          "Law",
          "Other",
          "Language & culture",
          "STEM"
         ],
         "y": [
          "Met werk, met uitkering",
          "Met werk, zonder uitkering",
          "Terug in onderwijs",
          "Zonder werk, met uitkering",
          "Zonder werk, zonder uitkering"
         ],
         "z": [
          [
           4.979060027919963,
           4.537205081669692,
           4.7225501770956315,
           3.2407407407407405,
           2.941176470588235,
           4.061895551257253,
           3.5326086956521743,
           1.7857142857142856,
           15.309446254071663,
           3.7551020408163267
          ],
          [
           80.22335970218707,
           76.346037507562,
           69.77567886658795,
           80.55555555555556,
           70.22058823529412,
           78.52998065764022,
           80.70652173913044,
           35.714285714285715,
           58.46905537459283,
           83.26530612244898
          ],
          [
           8.562121917170778,
           13.611615245009075,
           21.487603305785125,
           8.796296296296296,
           16.176470588235293,
           15.087040618955513,
           9.23913043478261,
           55.35714285714286,
           15.146579804560261,
           7.183673469387755
          ],
          [
           2.3731968357375526,
           2.238354506957048,
           1.2987012987012987,
           2.3148148148148144,
           2.5735294117647056,
           1.160541586073501,
           2.1739130434782608,
           0,
           3.257328990228013,
           1.5510204081632653
          ],
          [
           1.7682643089809216,
           1.9358741681790683,
           1.2987012987012987,
           2.7777777777777777,
           4.044117647058824,
           0.7736943907156674,
           1.6304347826086956,
           7.142857142857142,
           3.583061889250814,
           1.9591836734693877
          ]
         ],
         "zmax": 100,
         "zmin": 0
        },
        {
         "colorbar": {
          "tickformat": "%d%",
          "title": {
           "text": "% within field"
          }
         },
         "colorscale": [
          [
           0,
           "rgb(247,251,255)"
          ],
          [
           0.125,
           "rgb(222,235,247)"
          ],
          [
           0.25,
           "rgb(198,219,239)"
          ],
          [
           0.375,
           "rgb(158,202,225)"
          ],
          [
           0.5,
           "rgb(107,174,214)"
          ],
          [
           0.625,
           "rgb(66,146,198)"
          ],
          [
           0.75,
           "rgb(33,113,181)"
          ],
          [
           0.875,
           "rgb(8,81,156)"
          ],
          [
           1,
           "rgb(8,48,107)"
          ]
         ],
         "hoverinfo": "text+x",
         "hoverongaps": false,
         "text": [
          [
           "3%",
           "2%",
           "2%",
           "2%",
           "2%",
           "2%",
           "2%",
           "0%",
           "8%",
           "2%"
          ],
          [
           "83%",
           "78%",
           "72%",
           "80%",
           "69%",
           "79%",
           "82%",
           "36%",
           "65%",
           "85%"
          ],
          [
           "9%",
           "14%",
           "23%",
           "10%",
           "17%",
           "17%",
           "10%",
           "59%",
           "17%",
           "7%"
          ],
          [
           "1%",
           "2%",
           "1%",
           "2%",
           "3%",
           "1%",
           "2%",
           "0%",
           "2%",
           "1%"
          ],
          [
           "2%",
           "2%",
           "1%",
           "3%",
           "4%",
           "1%",
           "2%",
           "5%",
           "3%",
           "2%"
          ]
         ],
         "type": "heatmap",
         "visible": false,
         "x": [
          "Economics",
          "Behaviour & society",
          "Healthcare",
          "Agriculture",
          "Nature",
          "Education",
          "Law",
          "Other",
          "Language & culture",
          "STEM"
         ],
         "y": [
          "Met werk, met uitkering",
          "Met werk, zonder uitkering",
          "Terug in onderwijs",
          "Zonder werk, met uitkering",
          "Zonder werk, zonder uitkering"
         ],
         "z": [
          [
           2.6523964634713826,
           2.177858439201452,
           1.770956316410862,
           1.8518518518518516,
           2.2058823529411766,
           2.127659574468085,
           1.6304347826086956,
           0,
           8.469055374592834,
           1.8775510204081634
          ],
          [
           82.92228943694741,
           78.0399274047187,
           71.66469893742621,
           79.62962962962963,
           69.48529411764706,
           78.72340425531915,
           82.06521739130434,
           35.714285714285715,
           65.30944625407166,
           85.38775510204081
          ],
          [
           8.980921358771521,
           14.277071990320628,
           22.668240850059032,
           9.722222222222221,
           16.544117647058822,
           16.827852998065765,
           10.054347826086957,
           58.92857142857142,
           16.775244299674267,
           7.428571428571428
          ],
          [
           1.4890646812470918,
           1.8753781004234726,
           1.1806375442739079,
           2.3148148148148144,
           2.5735294117647056,
           1.160541586073501,
           1.6304347826086956,
           0,
           2.4429967426710095,
           1.0612244897959184
          ],
          [
           1.954397394136808,
           1.8148820326678765,
           1.2987012987012987,
           2.7777777777777777,
           3.6764705882352944,
           0.9671179883945842,
           2.1739130434782608,
           5.357142857142857,
           3.0944625407166124,
           1.959183673469388
          ]
         ],
         "zmax": 100,
         "zmin": 0
        }
       ],
       "layout": {
        "height": 600,
        "margin": {
         "b": 10,
         "l": 20,
         "r": 20,
         "t": 80
        },
        "sliders": [
         {
          "active": 0,
          "currentvalue": {
           "prefix": "Years after leaving university: "
          },
          "pad": {
           "r": 10,
           "t": 150
          },
          "steps": [
           {
            "args": [
             "visible",
             [
              true,
              false,
              false,
              false,
              false,
              false
             ]
            ],
            "label": "0",
            "method": "restyle"
           },
           {
            "args": [
             "visible",
             [
              false,
              true,
              false,
              false,
              false,
              false
             ]
            ],
            "label": "1",
            "method": "restyle"
           },
           {
            "args": [
             "visible",
             [
              false,
              false,
              true,
              false,
              false,
              false
             ]
            ],
            "label": "2",
            "method": "restyle"
           },
           {
            "args": [
             "visible",
             [
              false,
              false,
              false,
              true,
              false,
              false
             ]
            ],
            "label": "3",
            "method": "restyle"
           },
           {
            "args": [
             "visible",
             [
              false,
              false,
              false,
              false,
              true,
              false
             ]
            ],
            "label": "4",
            "method": "restyle"
           },
           {
            "args": [
             "visible",
             [
              false,
              false,
              false,
              false,
              false,
              true
             ]
            ],
            "label": "5",
            "method": "restyle"
           }
          ]
         }
        ],
        "template": {
         "data": {
          "bar": [
           {
            "error_x": {
             "color": "#2a3f5f"
            },
            "error_y": {
             "color": "#2a3f5f"
            },
            "marker": {
             "line": {
              "color": "#E5ECF6",
              "width": 0.5
             },
             "pattern": {
              "fillmode": "overlay",
              "size": 10,
              "solidity": 0.2
             }
            },
            "type": "bar"
           }
          ],
          "barpolar": [
           {
            "marker": {
             "line": {
              "color": "#E5ECF6",
              "width": 0.5
             },
             "pattern": {
              "fillmode": "overlay",
              "size": 10,
              "solidity": 0.2
             }
            },
            "type": "barpolar"
           }
          ],
          "carpet": [
           {
            "aaxis": {
             "endlinecolor": "#2a3f5f",
             "gridcolor": "white",
             "linecolor": "white",
             "minorgridcolor": "white",
             "startlinecolor": "#2a3f5f"
            },
            "baxis": {
             "endlinecolor": "#2a3f5f",
             "gridcolor": "white",
             "linecolor": "white",
             "minorgridcolor": "white",
             "startlinecolor": "#2a3f5f"
            },
            "type": "carpet"
           }
          ],
          "choropleth": [
           {
            "colorbar": {
             "outlinewidth": 0,
             "ticks": ""
            },
            "type": "choropleth"
           }
          ],
          "contour": [
           {
            "colorbar": {
             "outlinewidth": 0,
             "ticks": ""
            },
            "colorscale": [
             [
              0,
              "#0d0887"
             ],
             [
              0.1111111111111111,
              "#46039f"
             ],
             [
              0.2222222222222222,
              "#7201a8"
             ],
             [
              0.3333333333333333,
              "#9c179e"
             ],
             [
              0.4444444444444444,
              "#bd3786"
             ],
             [
              0.5555555555555556,
              "#d8576b"
             ],
             [
              0.6666666666666666,
              "#ed7953"
             ],
             [
              0.7777777777777778,
              "#fb9f3a"
             ],
             [
              0.8888888888888888,
              "#fdca26"
             ],
             [
              1,
              "#f0f921"
             ]
            ],
            "type": "contour"
           }
          ],
          "contourcarpet": [
           {
            "colorbar": {
             "outlinewidth": 0,
             "ticks": ""
            },
            "type": "contourcarpet"
           }
          ],
          "heatmap": [
           {
            "colorbar": {
             "outlinewidth": 0,
             "ticks": ""
            },
            "colorscale": [
             [
              0,
              "#0d0887"
             ],
             [
              0.1111111111111111,
              "#46039f"
             ],
             [
              0.2222222222222222,
              "#7201a8"
             ],
             [
              0.3333333333333333,
              "#9c179e"
             ],
             [
              0.4444444444444444,
              "#bd3786"
             ],
             [
              0.5555555555555556,
              "#d8576b"
             ],
             [
              0.6666666666666666,
              "#ed7953"
             ],
             [
              0.7777777777777778,
              "#fb9f3a"
             ],
             [
              0.8888888888888888,
              "#fdca26"
             ],
             [
              1,
              "#f0f921"
             ]
            ],
            "type": "heatmap"
           }
          ],
          "heatmapgl": [
           {
            "colorbar": {
             "outlinewidth": 0,
             "ticks": ""
            },
            "colorscale": [
             [
              0,
              "#0d0887"
             ],
             [
              0.1111111111111111,
              "#46039f"
             ],
             [
              0.2222222222222222,
              "#7201a8"
             ],
             [
              0.3333333333333333,
              "#9c179e"
             ],
             [
              0.4444444444444444,
              "#bd3786"
             ],
             [
              0.5555555555555556,
              "#d8576b"
             ],
             [
              0.6666666666666666,
              "#ed7953"
             ],
             [
              0.7777777777777778,
              "#fb9f3a"
             ],
             [
              0.8888888888888888,
              "#fdca26"
             ],
             [
              1,
              "#f0f921"
             ]
            ],
            "type": "heatmapgl"
           }
          ],
          "histogram": [
           {
            "marker": {
             "pattern": {
              "fillmode": "overlay",
              "size": 10,
              "solidity": 0.2
             }
            },
            "type": "histogram"
           }
          ],
          "histogram2d": [
           {
            "colorbar": {
             "outlinewidth": 0,
             "ticks": ""
            },
            "colorscale": [
             [
              0,
              "#0d0887"
             ],
             [
              0.1111111111111111,
              "#46039f"
             ],
             [
              0.2222222222222222,
              "#7201a8"
             ],
             [
              0.3333333333333333,
              "#9c179e"
             ],
             [
              0.4444444444444444,
              "#bd3786"
             ],
             [
              0.5555555555555556,
              "#d8576b"
             ],
             [
              0.6666666666666666,
              "#ed7953"
             ],
             [
              0.7777777777777778,
              "#fb9f3a"
             ],
             [
              0.8888888888888888,
              "#fdca26"
             ],
             [
              1,
              "#f0f921"
             ]
            ],
            "type": "histogram2d"
           }
          ],
          "histogram2dcontour": [
           {
            "colorbar": {
             "outlinewidth": 0,
             "ticks": ""
            },
            "colorscale": [
             [
              0,
              "#0d0887"
             ],
             [
              0.1111111111111111,
              "#46039f"
             ],
             [
              0.2222222222222222,
              "#7201a8"
             ],
             [
              0.3333333333333333,
              "#9c179e"
             ],
             [
              0.4444444444444444,
              "#bd3786"
             ],
             [
              0.5555555555555556,
              "#d8576b"
             ],
             [
              0.6666666666666666,
              "#ed7953"
             ],
             [
              0.7777777777777778,
              "#fb9f3a"
             ],
             [
              0.8888888888888888,
              "#fdca26"
             ],
             [
              1,
              "#f0f921"
             ]
            ],
            "type": "histogram2dcontour"
           }
          ],
          "mesh3d": [
           {
            "colorbar": {
             "outlinewidth": 0,
             "ticks": ""
            },
            "type": "mesh3d"
           }
          ],
          "parcoords": [
           {
            "line": {
             "colorbar": {
              "outlinewidth": 0,
              "ticks": ""
             }
            },
            "type": "parcoords"
           }
          ],
          "pie": [
           {
            "automargin": true,
            "type": "pie"
           }
          ],
          "scatter": [
           {
            "fillpattern": {
             "fillmode": "overlay",
             "size": 10,
             "solidity": 0.2
            },
            "type": "scatter"
           }
          ],
          "scatter3d": [
           {
            "line": {
             "colorbar": {
              "outlinewidth": 0,
              "ticks": ""
             }
            },
            "marker": {
             "colorbar": {
              "outlinewidth": 0,
              "ticks": ""
             }
            },
            "type": "scatter3d"
           }
          ],
          "scattercarpet": [
           {
            "marker": {
             "colorbar": {
              "outlinewidth": 0,
              "ticks": ""
             }
            },
            "type": "scattercarpet"
           }
          ],
          "scattergeo": [
           {
            "marker": {
             "colorbar": {
              "outlinewidth": 0,
              "ticks": ""
             }
            },
            "type": "scattergeo"
           }
          ],
          "scattergl": [
           {
            "marker": {
             "colorbar": {
              "outlinewidth": 0,
              "ticks": ""
             }
            },
            "type": "scattergl"
           }
          ],
          "scattermapbox": [
           {
            "marker": {
             "colorbar": {
              "outlinewidth": 0,
              "ticks": ""
             }
            },
            "type": "scattermapbox"
           }
          ],
          "scatterpolar": [
           {
            "marker": {
             "colorbar": {
              "outlinewidth": 0,
              "ticks": ""
             }
            },
            "type": "scatterpolar"
           }
          ],
          "scatterpolargl": [
           {
            "marker": {
             "colorbar": {
              "outlinewidth": 0,
              "ticks": ""
             }
            },
            "type": "scatterpolargl"
           }
          ],
          "scatterternary": [
           {
            "marker": {
             "colorbar": {
              "outlinewidth": 0,
              "ticks": ""
             }
            },
            "type": "scatterternary"
           }
          ],
          "surface": [
           {
            "colorbar": {
             "outlinewidth": 0,
             "ticks": ""
            },
            "colorscale": [
             [
              0,
              "#0d0887"
             ],
             [
              0.1111111111111111,
              "#46039f"
             ],
             [
              0.2222222222222222,
              "#7201a8"
             ],
             [
              0.3333333333333333,
              "#9c179e"
             ],
             [
              0.4444444444444444,
              "#bd3786"
             ],
             [
              0.5555555555555556,
              "#d8576b"
             ],
             [
              0.6666666666666666,
              "#ed7953"
             ],
             [
              0.7777777777777778,
              "#fb9f3a"
             ],
             [
              0.8888888888888888,
              "#fdca26"
             ],
             [
              1,
              "#f0f921"
             ]
            ],
            "type": "surface"
           }
          ],
          "table": [
           {
            "cells": {
             "fill": {
              "color": "#EBF0F8"
             },
             "line": {
              "color": "white"
             }
            },
            "header": {
             "fill": {
              "color": "#C8D4E3"
             },
             "line": {
              "color": "white"
             }
            },
            "type": "table"
           }
          ]
         },
         "layout": {
          "annotationdefaults": {
           "arrowcolor": "#2a3f5f",
           "arrowhead": 0,
           "arrowwidth": 1
          },
          "autotypenumbers": "strict",
          "coloraxis": {
           "colorbar": {
            "outlinewidth": 0,
            "ticks": ""
           }
          },
          "colorscale": {
           "diverging": [
            [
             0,
             "#8e0152"
            ],
            [
             0.1,
             "#c51b7d"
            ],
            [
             0.2,
             "#de77ae"
            ],
            [
             0.3,
             "#f1b6da"
            ],
            [
             0.4,
             "#fde0ef"
            ],
            [
             0.5,
             "#f7f7f7"
            ],
            [
             0.6,
             "#e6f5d0"
            ],
            [
             0.7,
             "#b8e186"
            ],
            [
             0.8,
             "#7fbc41"
            ],
            [
             0.9,
             "#4d9221"
            ],
            [
             1,
             "#276419"
            ]
           ],
           "sequential": [
            [
             0,
             "#0d0887"
            ],
            [
             0.1111111111111111,
             "#46039f"
            ],
            [
             0.2222222222222222,
             "#7201a8"
            ],
            [
             0.3333333333333333,
             "#9c179e"
            ],
            [
             0.4444444444444444,
             "#bd3786"
            ],
            [
             0.5555555555555556,
             "#d8576b"
            ],
            [
             0.6666666666666666,
             "#ed7953"
            ],
            [
             0.7777777777777778,
             "#fb9f3a"
            ],
            [
             0.8888888888888888,
             "#fdca26"
            ],
            [
             1,
             "#f0f921"
            ]
           ],
           "sequentialminus": [
            [
             0,
             "#0d0887"
            ],
            [
             0.1111111111111111,
             "#46039f"
            ],
            [
             0.2222222222222222,
             "#7201a8"
            ],
            [
             0.3333333333333333,
             "#9c179e"
            ],
            [
             0.4444444444444444,
             "#bd3786"
            ],
            [
             0.5555555555555556,
             "#d8576b"
            ],
            [
             0.6666666666666666,
             "#ed7953"
            ],
            [
             0.7777777777777778,
             "#fb9f3a"
            ],
            [
             0.8888888888888888,
             "#fdca26"
            ],
            [
             1,
             "#f0f921"
            ]
           ]
          },
          "colorway": [
           "#636efa",
           "#EF553B",
           "#00cc96",
           "#ab63fa",
           "#FFA15A",
           "#19d3f3",
           "#FF6692",
           "#B6E880",
           "#FF97FF",
           "#FECB52"
          ],
          "font": {
           "color": "#2a3f5f"
          },
          "geo": {
           "bgcolor": "white",
           "lakecolor": "white",
           "landcolor": "#E5ECF6",
           "showlakes": true,
           "showland": true,
           "subunitcolor": "white"
          },
          "hoverlabel": {
           "align": "left"
          },
          "hovermode": "closest",
          "mapbox": {
           "style": "light"
          },
          "paper_bgcolor": "white",
          "plot_bgcolor": "#E5ECF6",
          "polar": {
           "angularaxis": {
            "gridcolor": "white",
            "linecolor": "white",
            "ticks": ""
           },
           "bgcolor": "#E5ECF6",
           "radialaxis": {
            "gridcolor": "white",
            "linecolor": "white",
            "ticks": ""
           }
          },
          "scene": {
           "xaxis": {
            "backgroundcolor": "#E5ECF6",
            "gridcolor": "white",
            "gridwidth": 2,
            "linecolor": "white",
            "showbackground": true,
            "ticks": "",
            "zerolinecolor": "white"
           },
           "yaxis": {
            "backgroundcolor": "#E5ECF6",
            "gridcolor": "white",
            "gridwidth": 2,
            "linecolor": "white",
            "showbackground": true,
            "ticks": "",
            "zerolinecolor": "white"
           },
           "zaxis": {
            "backgroundcolor": "#E5ECF6",
            "gridcolor": "white",
            "gridwidth": 2,
            "linecolor": "white",
            "showbackground": true,
            "ticks": "",
            "zerolinecolor": "white"
           }
          },
          "shapedefaults": {
           "line": {
            "color": "#2a3f5f"
           }
          },
          "ternary": {
           "aaxis": {
            "gridcolor": "white",
            "linecolor": "white",
            "ticks": ""
           },
           "baxis": {
            "gridcolor": "white",
            "linecolor": "white",
            "ticks": ""
           },
           "bgcolor": "#E5ECF6",
           "caxis": {
            "gridcolor": "white",
            "linecolor": "white",
            "ticks": ""
           }
          },
          "title": {
           "x": 0.05
          },
          "xaxis": {
           "automargin": true,
           "gridcolor": "white",
           "linecolor": "white",
           "ticks": "",
           "title": {
            "standoff": 15
           },
           "zerolinecolor": "white",
           "zerolinewidth": 2
          },
          "yaxis": {
           "automargin": true,
           "gridcolor": "white",
           "linecolor": "white",
           "ticks": "",
           "title": {
            "standoff": 15
           },
           "zerolinecolor": "white",
           "zerolinewidth": 2
          }
         }
        },
        "title": {
         "text": "Labor market position per field of study<br><sup>STEM students have the overall highest and most stable labor market position throughout the years</sup>"
        },
        "xaxis": {
         "linecolor": "#7785A9",
         "linewidth": 2,
         "mirror": true,
         "showline": true,
         "title": {
          "text": "Field of study"
         }
        },
        "yaxis": {
         "linecolor": "#7785A9",
         "linewidth": 2,
         "mirror": true,
         "showline": true,
         "ticktext": [
          "✔ job, ✔ benefits",
          "✔ job, ✗ benefits",
          "Back to university",
          "✗ job, ✔ benefits",
          "✗ job, ✗ benefits"
         ],
         "tickvals": [
          "Met werk, met uitkering",
          "Met werk, zonder uitkering",
          "Terug in onderwijs",
          "Zonder werk, met uitkering",
          "Zonder werk, zonder uitkering"
         ],
         "title": {
          "text": "Labor market position"
         }
        }
       }
      }
     },
     "metadata": {},
     "output_type": "display_data"
    }
   ],
   "source": [
    "fig = go.Figure()\n",
    "\n",
    "label_map = {\n",
    "    'Recht': 'Law',\n",
    "    'Gedrag en Maatschappij': 'Behaviour & society',\n",
    "    'Gezondheidszorg': 'Healthcare',\n",
    "    'Onderwijs': 'Education',\n",
    "    'Economie': 'Economics',\n",
    "    'Natuur': 'Nature',\n",
    "    'Techniek': 'STEM',\n",
    "    'Onderwijs': 'Education',\n",
    "    'Sectoroverstijgend': 'Other',\n",
    "    'Landbouw en natuurlijke omgeving': 'Agriculture',\n",
    "    'Taal en cultuur': 'Language & culture',\n",
    "    'Vrouwen': 'Women',\n",
    "    'Mannen': 'Men'\n",
    "}\n",
    "\n",
    "for i in data:\n",
    "    heatmap_data = i.pivot_table(values='Percentage studierichting', index='Arbeidsmarktpositie', columns='Studierichting', aggfunc='sum')\n",
    "    heatmap_annotations = heatmap_data.map(lambda x: '{:.0f}%'.format(x))\n",
    "    tracey = go.Heatmap(\n",
    "        z=heatmap_data.values,\n",
    "        x=[label_map[i] for i in heatmap_data.columns.tolist()],\n",
    "        y=heatmap_data.index.tolist(),\n",
    "        colorscale='Blues',\n",
    "        zmin=0,\n",
    "        zmax=100,\n",
    "        visible=False,\n",
    "        colorbar=dict(\n",
    "            title='% within field',  \n",
    "            tickformat='%d%',\n",
    "        ),\n",
    "        hoverongaps=False,\n",
    "        hoverinfo='text+x',\n",
    "        text=heatmap_annotations.values.tolist()\n",
    "    )\n",
    "    fig.add_trace(tracey)\n",
    "\n",
    "fig.data[0].visible = True\n",
    "\n",
    "layout = go.Layout(\n",
    "    title='Labor market position per field of study<br><sup>STEM students have the best and most stable labor market position throughout the years</sup>',\n",
    "    xaxis=go.layout.XAxis(\n",
    "        title='Field of study',\n",
    "        linewidth=2,\n",
    "        showline=True,\n",
    "        linecolor='#7785A9',\n",
    "        mirror=True\n",
    "    ),\n",
    "    yaxis=go.layout.YAxis(\n",
    "        title='Labor market position',\n",
    "        linewidth=2,\n",
    "        showline=True,\n",
    "        linecolor='#7785A9',\n",
    "        mirror=True,\n",
    "        tickvals = heatmap_data.index.tolist(),\n",
    "        ticktext=['✔ job, ✔ benefits', '✔ job, ✗ benefits',  'Back to university', '✗ job, ✔ benefits', '✗ job, ✗ benefits']\n",
    "    )\n",
    ")\n",
    "\n",
    "steps = []\n",
    "for i in range(len(fig.data)):\n",
    "    step = dict(\n",
    "        method=\"restyle\",\n",
    "        args=[\"visible\", [False] * len(fig.data)],\n",
    "        label=str(i),\n",
    "    )\n",
    "    step[\"args\"][1][i] = True\n",
    "    steps.append(step)\n",
    "\n",
    "sliders = [dict(\n",
    "    active=0,\n",
    "    currentvalue={\"prefix\": \"Years after leaving university: \"},\n",
    "    pad={\"t\": 50},\n",
    "    steps=steps\n",
    ")]\n",
    "\n",
    "fig.update_layout(\n",
    "    sliders=sliders,\n",
    "    height=600\n",
    ")\n",
    "\n",
    "fig.update_layout(layout)\n",
    "\n",
    "fig.update_layout(margin=dict(l=20, r=20, t=80, b=10))\n",
    "fig['layout']['sliders'][0]['pad']=dict(r=10, t=150,)\n",
    "\n",
    "fig.show()"
   ]
  }
 ],
 "metadata": {
  "kernelspec": {
   "display_name": "jupyterbook",
   "language": "python",
   "name": "python3"
  },
  "language_info": {
   "codemirror_mode": {
    "name": "ipython",
    "version": 3
   },
   "file_extension": ".py",
   "mimetype": "text/x-python",
   "name": "python",
   "nbconvert_exporter": "python",
   "pygments_lexer": "ipython3",
   "version": "3.10.14"
  }
 },
 "nbformat": 4,
 "nbformat_minor": 2
}
