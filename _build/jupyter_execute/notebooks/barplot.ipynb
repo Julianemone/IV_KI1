{
 "cells": [
  {
   "cell_type": "code",
   "execution_count": 1,
   "metadata": {},
   "outputs": [],
   "source": [
    "import plotly.graph_objs as go\n",
    "import plotly.express as px\n",
    "import pandas as pd\n",
    "import numpy as np\n",
    "import matplotlib.pyplot as plt\n",
    "import seaborn as sns"
   ]
  },
  {
   "cell_type": "code",
   "execution_count": 2,
   "metadata": {},
   "outputs": [],
   "source": [
    "uurloongem = pd.read_csv(\"../data/uurloongem.csv\", sep=';')\n",
    "hbo_bachelor = uurloongem.loc[uurloongem['Uitstromers ho met en zonder diploma'] == 'Hbo-bachelor']\n",
    "hbo_master = uurloongem.loc[uurloongem['Uitstromers ho met en zonder diploma'] == 'Hbo-master']\n",
    "wo_bachelor = uurloongem.loc[uurloongem['Uitstromers ho met en zonder diploma'] == 'Wo-bachelor']\n",
    "wo_master = uurloongem.loc[uurloongem['Uitstromers ho met en zonder diploma'] == 'Wo-master']"
   ]
  },
  {
   "cell_type": "code",
   "execution_count": 3,
   "metadata": {},
   "outputs": [
    {
     "ename": "NameError",
     "evalue": "name 'uurloon' is not defined",
     "output_type": "error",
     "traceback": [
      "\u001b[0;31m---------------------------------------------------------------------------\u001b[0m",
      "\u001b[0;31mNameError\u001b[0m                                 Traceback (most recent call last)",
      "Cell \u001b[0;32mIn[3], line 2\u001b[0m\n\u001b[1;32m      1\u001b[0m trace \u001b[38;5;241m=\u001b[39m [go\u001b[38;5;241m.\u001b[39mBar(\n\u001b[0;32m----> 2\u001b[0m     x\u001b[38;5;241m=\u001b[39m\u001b[43muurloon\u001b[49m[\u001b[38;5;124m'\u001b[39m\u001b[38;5;124mPeilmoment\u001b[39m\u001b[38;5;124m'\u001b[39m],\n\u001b[1;32m      3\u001b[0m     y\u001b[38;5;241m=\u001b[39mhbo_bachelor[\u001b[38;5;124m'\u001b[39m\u001b[38;5;124mUurloon werknemers na verlaten ho (euro)\u001b[39m\u001b[38;5;124m'\u001b[39m],\n\u001b[1;32m      4\u001b[0m     name\u001b[38;5;241m=\u001b[39m\u001b[38;5;124m'\u001b[39m\u001b[38;5;124mHbo-bachelor\u001b[39m\u001b[38;5;124m'\u001b[39m,\n\u001b[1;32m      5\u001b[0m     marker_color\u001b[38;5;241m=\u001b[39m\u001b[38;5;124m'\u001b[39m\u001b[38;5;124mrgb(102,194,165)\u001b[39m\u001b[38;5;124m'\u001b[39m,\n\u001b[1;32m      6\u001b[0m     hoverinfo\u001b[38;5;241m=\u001b[39m\u001b[38;5;124m'\u001b[39m\u001b[38;5;124my+name\u001b[39m\u001b[38;5;124m'\u001b[39m\n\u001b[1;32m      7\u001b[0m     ),\n\u001b[1;32m      8\u001b[0m     go\u001b[38;5;241m.\u001b[39mBar(\n\u001b[1;32m      9\u001b[0m     x\u001b[38;5;241m=\u001b[39muurloon[\u001b[38;5;124m'\u001b[39m\u001b[38;5;124mPeilmoment\u001b[39m\u001b[38;5;124m'\u001b[39m],\n\u001b[1;32m     10\u001b[0m     y\u001b[38;5;241m=\u001b[39mhbo_master[\u001b[38;5;124m'\u001b[39m\u001b[38;5;124mUurloon werknemers na verlaten ho (euro)\u001b[39m\u001b[38;5;124m'\u001b[39m],\n\u001b[1;32m     11\u001b[0m     name\u001b[38;5;241m=\u001b[39m\u001b[38;5;124m'\u001b[39m\u001b[38;5;124mHbo-master\u001b[39m\u001b[38;5;124m'\u001b[39m,\n\u001b[1;32m     12\u001b[0m     marker_color\u001b[38;5;241m=\u001b[39m\u001b[38;5;124m'\u001b[39m\u001b[38;5;124mrgb(252,141,98)\u001b[39m\u001b[38;5;124m'\u001b[39m,\n\u001b[1;32m     13\u001b[0m     hoverinfo\u001b[38;5;241m=\u001b[39m\u001b[38;5;124m'\u001b[39m\u001b[38;5;124my+name\u001b[39m\u001b[38;5;124m'\u001b[39m\n\u001b[1;32m     14\u001b[0m     ),\n\u001b[1;32m     15\u001b[0m     go\u001b[38;5;241m.\u001b[39mBar(\n\u001b[1;32m     16\u001b[0m     x\u001b[38;5;241m=\u001b[39muurloon[\u001b[38;5;124m'\u001b[39m\u001b[38;5;124mPeilmoment\u001b[39m\u001b[38;5;124m'\u001b[39m],\n\u001b[1;32m     17\u001b[0m     y\u001b[38;5;241m=\u001b[39mwo_bachelor[\u001b[38;5;124m'\u001b[39m\u001b[38;5;124mUurloon werknemers na verlaten ho (euro)\u001b[39m\u001b[38;5;124m'\u001b[39m],\n\u001b[1;32m     18\u001b[0m     name\u001b[38;5;241m=\u001b[39m\u001b[38;5;124m'\u001b[39m\u001b[38;5;124mWo-bachelor\u001b[39m\u001b[38;5;124m'\u001b[39m,\n\u001b[1;32m     19\u001b[0m     marker_color\u001b[38;5;241m=\u001b[39m\u001b[38;5;124m'\u001b[39m\u001b[38;5;124mrgb(141,160,203)\u001b[39m\u001b[38;5;124m'\u001b[39m,\n\u001b[1;32m     20\u001b[0m     hoverinfo\u001b[38;5;241m=\u001b[39m\u001b[38;5;124m'\u001b[39m\u001b[38;5;124my+name\u001b[39m\u001b[38;5;124m'\u001b[39m\n\u001b[1;32m     21\u001b[0m     ),\n\u001b[1;32m     22\u001b[0m     go\u001b[38;5;241m.\u001b[39mBar(\n\u001b[1;32m     23\u001b[0m     x\u001b[38;5;241m=\u001b[39muurloon[\u001b[38;5;124m'\u001b[39m\u001b[38;5;124mPeilmoment\u001b[39m\u001b[38;5;124m'\u001b[39m],\n\u001b[1;32m     24\u001b[0m     y\u001b[38;5;241m=\u001b[39mwo_master[\u001b[38;5;124m'\u001b[39m\u001b[38;5;124mUurloon werknemers na verlaten ho (euro)\u001b[39m\u001b[38;5;124m'\u001b[39m],\n\u001b[1;32m     25\u001b[0m     name\u001b[38;5;241m=\u001b[39m\u001b[38;5;124m'\u001b[39m\u001b[38;5;124mWo-master\u001b[39m\u001b[38;5;124m'\u001b[39m,\n\u001b[1;32m     26\u001b[0m     marker_color\u001b[38;5;241m=\u001b[39m\u001b[38;5;124m'\u001b[39m\u001b[38;5;124mrgb(231,138,195)\u001b[39m\u001b[38;5;124m'\u001b[39m,\n\u001b[1;32m     27\u001b[0m     hoverinfo\u001b[38;5;241m=\u001b[39m\u001b[38;5;124m'\u001b[39m\u001b[38;5;124my+name\u001b[39m\u001b[38;5;124m'\u001b[39m\n\u001b[1;32m     28\u001b[0m     )]\n\u001b[1;32m     30\u001b[0m layout \u001b[38;5;241m=\u001b[39m go\u001b[38;5;241m.\u001b[39mLayout(\n\u001b[1;32m     31\u001b[0m     title\u001b[38;5;241m=\u001b[39m\u001b[38;5;124m'\u001b[39m\u001b[38;5;124mHourly wage after leaving university per degree\u001b[39m\u001b[38;5;124m'\u001b[39m,\n\u001b[1;32m     32\u001b[0m     height\u001b[38;5;241m=\u001b[39m\u001b[38;5;241m400\u001b[39m,\n\u001b[0;32m   (...)\u001b[0m\n\u001b[1;32m     52\u001b[0m     bargroupgap\u001b[38;5;241m=\u001b[39m\u001b[38;5;241m0.1\u001b[39m,\n\u001b[1;32m     53\u001b[0m )\n\u001b[1;32m     55\u001b[0m fig \u001b[38;5;241m=\u001b[39m go\u001b[38;5;241m.\u001b[39mFigure(data\u001b[38;5;241m=\u001b[39mtrace, layout\u001b[38;5;241m=\u001b[39mlayout)\n",
      "\u001b[0;31mNameError\u001b[0m: name 'uurloon' is not defined"
     ]
    }
   ],
   "source": [
    "trace = [go.Bar(\n",
    "    x=uurloon['Peilmoment'],\n",
    "    y=hbo_bachelor['Uurloon werknemers na verlaten ho (euro)'],\n",
    "    name='Hbo-bachelor',\n",
    "    marker_color='rgb(102,194,165)',\n",
    "    hoverinfo='y+name'\n",
    "    ),\n",
    "    go.Bar(\n",
    "    x=uurloon['Peilmoment'],\n",
    "    y=hbo_master['Uurloon werknemers na verlaten ho (euro)'],\n",
    "    name='Hbo-master',\n",
    "    marker_color='rgb(252,141,98)',\n",
    "    hoverinfo='y+name'\n",
    "    ),\n",
    "    go.Bar(\n",
    "    x=uurloon['Peilmoment'],\n",
    "    y=wo_bachelor['Uurloon werknemers na verlaten ho (euro)'],\n",
    "    name='Wo-bachelor',\n",
    "    marker_color='rgb(141,160,203)',\n",
    "    hoverinfo='y+name'\n",
    "    ),\n",
    "    go.Bar(\n",
    "    x=uurloon['Peilmoment'],\n",
    "    y=wo_master['Uurloon werknemers na verlaten ho (euro)'],\n",
    "    name='Wo-master',\n",
    "    marker_color='rgb(231,138,195)',\n",
    "    hoverinfo='y+name'\n",
    "    )]\n",
    "\n",
    "layout = go.Layout(\n",
    "    title='Hourly wage after leaving university per degree',\n",
    "    height=400,\n",
    "    xaxis=go.layout.XAxis(\n",
    "        title='Benchmark',\n",
    "        type='category',\n",
    "        tickvals = uurloongem['Peilmoment'].unique(),\n",
    "        ticktext=['Directly after', '1 year after', '2 years after', '3 years after', '4 years after', '5 years after']\n",
    "    ),\n",
    "    yaxis=go.layout.YAxis(\n",
    "        title='Hourly wage',\n",
    "        tickprefix = '€', \n",
    "        tickformat = ',.'\n",
    "    ),\n",
    "    legend=dict(\n",
    "            x=1.0,\n",
    "            y=1.0,\n",
    "            bgcolor='rgba(255, 255, 255, 0)',\n",
    "            bordercolor='rgba(255, 255, 255, 0)'\n",
    "    ),\n",
    "    barmode='group',\n",
    "    bargap=0.15,\n",
    "    bargroupgap=0.1,\n",
    ")\n",
    "\n",
    "fig = go.Figure(data=trace, layout=layout)\n",
    "fig.show()"
   ]
  }
 ],
 "metadata": {
  "kernelspec": {
   "display_name": "jupyterbook",
   "language": "python",
   "name": "python3"
  },
  "language_info": {
   "codemirror_mode": {
    "name": "ipython",
    "version": 3
   },
   "file_extension": ".py",
   "mimetype": "text/x-python",
   "name": "python",
   "nbconvert_exporter": "python",
   "pygments_lexer": "ipython3",
   "version": "3.12.3"
  }
 },
 "nbformat": 4,
 "nbformat_minor": 2
}