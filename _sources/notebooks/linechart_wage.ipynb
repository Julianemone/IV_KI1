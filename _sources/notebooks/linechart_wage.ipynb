{
 "cells": [
  {
   "cell_type": "code",
   "execution_count": 35,
   "metadata": {},
   "outputs": [],
   "source": [
    "import pandas as pd\n",
    "import plotly.express as px\n",
    "import plotly.graph_objs as go"
   ]
  },
  {
   "cell_type": "code",
   "execution_count": 37,
   "metadata": {},
   "outputs": [],
   "source": [
    "df_uurloon = pd.read_csv('../data/uurloongemstudie.csv', sep = ';')\n",
    "\n",
    "colors1 = px.colors.qualitative.G10\n",
    "colors2 = px.colors.qualitative.D3\n",
    "colors3 = px.colors.qualitative.Vivid\n",
    "colors4 = px.colors.qualitative.Pastel\n",
    "\n",
    "label_mapping = {\n",
    "    'Recht': 'Law',\n",
    "    'Gedrag en Maatschappij': 'Behaviour & Society',\n",
    "    'Gezondheidszorg': 'Healthcare',\n",
    "    'Onderwijs': 'Education',\n",
    "    'Economie': 'Economics',\n",
    "    'Natuur': 'Nature',\n",
    "    'Techniek': 'STEM',\n",
    "    'Onderwijs': 'Education',\n",
    "    'Sectoroverstijgend': 'Interdisciplinary',\n",
    "    'Landbouw en natuurlijke omgeving': 'Agriculture',\n",
    "    'Taal en cultuur': 'Language & Culture',\n",
    "    'Vrouwen': 'Women',\n",
    "    'Mannen': 'Men'\n",
    "}\n",
    "\n",
    "studierichtingen = [\n",
    "    'Economics',\n",
    "    'Interdisciplinary',\n",
    "    'Agriculture',\n",
    "    'Law',\n",
    "    'Nature',\n",
    "    'STEM',\n",
    "    'Language & Culture',\n",
    "    'Education',\n",
    "    'Behaviour & Society',\n",
    "    'Healthcare'\n",
    "]\n",
    "\n",
    "df_uurloon['Peilmoment_ordered'] = pd.Categorical(df_uurloon['Peilmoment'], categories = [\n",
    "    'Direct na verlaten onderwijs',\n",
    "    '1 jaar na verlaten onderwijs',\n",
    "    '2 jaar na verlaten onderwijs',\n",
    "    '3 jaar na verlaten onderwijs',\n",
    "    '4 jaar na verlaten onderwijs',\n",
    "    '5 jaar na verlaten onderwijs'\n",
    "], ordered = True)\n",
    "\n",
    "df_uurloon = df_uurloon.sort_values('Peilmoment_ordered')\n",
    "df_uurloon['Uurloon werknemers na verlaten ho (euro)'] = pd.to_numeric(df_uurloon['Uurloon werknemers na verlaten ho (euro)'], errors='coerce')\n",
    "\n",
    "average_wages = df_uurloon.groupby('Peilmoment_ordered', observed=True)['Uurloon werknemers na verlaten ho (euro)'].mean().reset_index()\n",
    "average_wages = average_wages.sort_values('Peilmoment_ordered')['Uurloon werknemers na verlaten ho (euro)']\n"
   ]
  },
  {
   "cell_type": "code",
   "execution_count": 107,
   "metadata": {},
   "outputs": [
    {
     "data": {
      "application/vnd.plotly.v1+json": {
       "config": {
        "plotlyServerURL": "https://plot.ly"
       },
       "data": [
        {
         "hovertemplate": "%{meta}<br>%{x} years after graduation <br>Hourly wage: € %{y:.2f} <extra></extra>",
         "line": {
          "color": "#3366CC"
         },
         "meta": "Economics Hbo-bachelor",
         "mode": "lines+markers",
         "name": "Economics Hbo-bachelor",
         "type": "scatter",
         "visible": "legendonly",
         "x": [
          0,
          1,
          2,
          3,
          4,
          5
         ],
         "y": [
          13.57,
          14.92,
          16.66,
          18.33,
          20.11,
          21.75
         ]
        },
        {
         "hovertemplate": "%{meta}<br>%{x} years after graduation <br>Hourly wage: € %{y:.2f}<extra></extra>",
         "line": {
          "color": "#1F77B4"
         },
         "meta": "Economics Hbo-master",
         "mode": "lines+markers",
         "name": "Economics Hbo-master",
         "type": "scatter",
         "visible": "legendonly",
         "x": [
          0,
          1,
          2,
          3,
          4,
          5
         ],
         "y": [
          null,
          null,
          null,
          null,
          null,
          null
         ]
        },
        {
         "hovertemplate": "%{meta}<br>%{x} years after graduation <br>Hourly wage: € %{y:.2f}<extra></extra>",
         "line": {
          "color": "rgb(229, 134, 6)"
         },
         "meta": "Economics Wo-bachelor",
         "mode": "lines+markers",
         "name": "Economics Wo-bachelor",
         "type": "scatter",
         "visible": "legendonly",
         "x": [
          0,
          1,
          2,
          3,
          4,
          5
         ],
         "y": [
          13.02,
          16.19,
          18.16,
          20.66,
          23.3,
          25.57
         ]
        },
        {
         "hovertemplate": "%{meta}<br>%{x} years after graduation <br>Hourly wage: € %{y:.2f}<extra></extra>",
         "line": {
          "color": "rgb(102, 197, 204)"
         },
         "meta": "Economics Wo-master",
         "mode": "lines+markers",
         "name": "Economics Wo-master",
         "type": "scatter",
         "visible": true,
         "x": [
          0,
          1,
          2,
          3,
          4,
          5
         ],
         "y": [
          16.88,
          18.21,
          20.76,
          23.5,
          26.1,
          29.25
         ]
        },
        {
         "hovertemplate": "%{meta}<br>%{x} years after graduation <br>Hourly wage: € %{y:.2f} <extra></extra>",
         "line": {
          "color": "#DC3912"
         },
         "meta": "Interdisciplinary Hbo-bachelor",
         "mode": "lines+markers",
         "name": "Interdisciplinary Hbo-bachelor",
         "type": "scatter",
         "visible": "legendonly",
         "x": [
          0,
          1,
          2,
          3,
          4,
          5
         ],
         "y": [
          null,
          null,
          null,
          null,
          null,
          null
         ]
        },
        {
         "hovertemplate": "%{meta}<br>%{x} years after graduation <br>Hourly wage: € %{y:.2f}<extra></extra>",
         "line": {
          "color": "#FF7F0E"
         },
         "meta": "Interdisciplinary Hbo-master",
         "mode": "lines+markers",
         "name": "Interdisciplinary Hbo-master",
         "type": "scatter",
         "visible": true,
         "x": [
          0,
          1,
          2,
          3,
          4,
          5
         ],
         "y": [
          null,
          16.89,
          23.02,
          24.57,
          27.03,
          30.28
         ]
        },
        {
         "hovertemplate": "%{meta}<br>%{x} years after graduation <br>Hourly wage: € %{y:.2f}<extra></extra>",
         "line": {
          "color": "rgb(93, 105, 177)"
         },
         "meta": "Interdisciplinary Wo-bachelor",
         "mode": "lines+markers",
         "name": "Interdisciplinary Wo-bachelor",
         "type": "scatter",
         "visible": "legendonly",
         "x": [
          0,
          1,
          2,
          3,
          4,
          5
         ],
         "y": [
          11.01,
          13.53,
          15.93,
          17.48,
          19.73,
          22.32
         ]
        },
        {
         "hovertemplate": "%{meta}<br>%{x} years after graduation <br>Hourly wage: € %{y:.2f}<extra></extra>",
         "line": {
          "color": "rgb(246, 207, 113)"
         },
         "meta": "Interdisciplinary Wo-master",
         "mode": "lines+markers",
         "name": "Interdisciplinary Wo-master",
         "type": "scatter",
         "visible": "legendonly",
         "x": [
          0,
          1,
          2,
          3,
          4,
          5
         ],
         "y": [
          12.68,
          16.5,
          18.59,
          21.68,
          22.1,
          25.99
         ]
        },
        {
         "hovertemplate": "%{meta}<br>%{x} years after graduation <br>Hourly wage: € %{y:.2f} <extra></extra>",
         "line": {
          "color": "#FF9900"
         },
         "meta": "Agriculture Hbo-bachelor",
         "mode": "lines+markers",
         "name": "Agriculture Hbo-bachelor",
         "type": "scatter",
         "visible": true,
         "x": [
          0,
          1,
          2,
          3,
          4,
          5
         ],
         "y": [
          14.16,
          15.83,
          17.36,
          18.66,
          20.33,
          21.66
         ]
        },
        {
         "hovertemplate": "%{meta}<br>%{x} years after graduation <br>Hourly wage: € %{y:.2f}<extra></extra>",
         "line": {
          "color": "#2CA02C"
         },
         "meta": "Agriculture Hbo-master",
         "mode": "lines+markers",
         "name": "Agriculture Hbo-master",
         "type": "scatter",
         "visible": "legendonly",
         "x": [
          0,
          1,
          2,
          3,
          4,
          5
         ],
         "y": [
          null,
          null,
          null,
          null,
          null,
          null
         ]
        },
        {
         "hovertemplate": "%{meta}<br>%{x} years after graduation <br>Hourly wage: € %{y:.2f}<extra></extra>",
         "line": {
          "color": "rgb(82, 188, 163)"
         },
         "meta": "Agriculture Wo-bachelor",
         "mode": "lines+markers",
         "name": "Agriculture Wo-bachelor",
         "type": "scatter",
         "visible": "legendonly",
         "x": [
          0,
          1,
          2,
          3,
          4,
          5
         ],
         "y": [
          11.99,
          15.18,
          16.35,
          18.3,
          20.26,
          21.79
         ]
        },
        {
         "hovertemplate": "%{meta}<br>%{x} years after graduation <br>Hourly wage: € %{y:.2f}<extra></extra>",
         "line": {
          "color": "rgb(248, 156, 116)"
         },
         "meta": "Agriculture Wo-master",
         "mode": "lines+markers",
         "name": "Agriculture Wo-master",
         "type": "scatter",
         "visible": "legendonly",
         "x": [
          0,
          1,
          2,
          3,
          4,
          5
         ],
         "y": [
          15.37,
          17.96,
          19.43,
          20.8,
          22.63,
          24.55
         ]
        },
        {
         "hovertemplate": "%{meta}<br>%{x} years after graduation <br>Hourly wage: € %{y:.2f} <extra></extra>",
         "line": {
          "color": "#109618"
         },
         "meta": "Law Hbo-bachelor",
         "mode": "lines+markers",
         "name": "Law Hbo-bachelor",
         "type": "scatter",
         "visible": "legendonly",
         "x": [
          0,
          1,
          2,
          3,
          4,
          5
         ],
         "y": [
          null,
          null,
          null,
          null,
          null,
          null
         ]
        },
        {
         "hovertemplate": "%{meta}<br>%{x} years after graduation <br>Hourly wage: € %{y:.2f}<extra></extra>",
         "line": {
          "color": "#D62728"
         },
         "meta": "Law Hbo-master",
         "mode": "lines+markers",
         "name": "Law Hbo-master",
         "type": "scatter",
         "visible": "legendonly",
         "x": [
          0,
          1,
          2,
          3,
          4,
          5
         ],
         "y": [
          null,
          null,
          null,
          null,
          null,
          null
         ]
        },
        {
         "hovertemplate": "%{meta}<br>%{x} years after graduation <br>Hourly wage: € %{y:.2f}<extra></extra>",
         "line": {
          "color": "rgb(153, 201, 69)"
         },
         "meta": "Law Wo-bachelor",
         "mode": "lines+markers",
         "name": "Law Wo-bachelor",
         "type": "scatter",
         "visible": "legendonly",
         "x": [
          0,
          1,
          2,
          3,
          4,
          5
         ],
         "y": [
          12.54,
          16.16,
          19.01,
          20.83,
          23.56,
          25.86
         ]
        },
        {
         "hovertemplate": "%{meta}<br>%{x} years after graduation <br>Hourly wage: € %{y:.2f}<extra></extra>",
         "line": {
          "color": "rgb(220, 176, 242)"
         },
         "meta": "Law Wo-master",
         "mode": "lines+markers",
         "name": "Law Wo-master",
         "type": "scatter",
         "visible": true,
         "x": [
          0,
          1,
          2,
          3,
          4,
          5
         ],
         "y": [
          16.57,
          18.37,
          20.46,
          23.04,
          26.26,
          28.65
         ]
        },
        {
         "hovertemplate": "%{meta}<br>%{x} years after graduation <br>Hourly wage: € %{y:.2f} <extra></extra>",
         "line": {
          "color": "#990099"
         },
         "meta": "Nature Hbo-bachelor",
         "mode": "lines+markers",
         "name": "Nature Hbo-bachelor",
         "type": "scatter",
         "visible": "legendonly",
         "x": [
          0,
          1,
          2,
          3,
          4,
          5
         ],
         "y": [
          null,
          null,
          null,
          null,
          null,
          null
         ]
        },
        {
         "hovertemplate": "%{meta}<br>%{x} years after graduation <br>Hourly wage: € %{y:.2f}<extra></extra>",
         "line": {
          "color": "#9467BD"
         },
         "meta": "Nature Hbo-master",
         "mode": "lines+markers",
         "name": "Nature Hbo-master",
         "type": "scatter",
         "visible": "legendonly",
         "x": [
          0,
          1,
          2,
          3,
          4,
          5
         ],
         "y": [
          null,
          null,
          null,
          null,
          null,
          null
         ]
        },
        {
         "hovertemplate": "%{meta}<br>%{x} years after graduation <br>Hourly wage: € %{y:.2f}<extra></extra>",
         "line": {
          "color": "rgb(204, 97, 176)"
         },
         "meta": "Nature Wo-bachelor",
         "mode": "lines+markers",
         "name": "Nature Wo-bachelor",
         "type": "scatter",
         "visible": "legendonly",
         "x": [
          0,
          1,
          2,
          3,
          4,
          5
         ],
         "y": [
          13.43,
          16.34,
          18.64,
          20.62,
          22.25,
          24.51
         ]
        },
        {
         "hovertemplate": "%{meta}<br>%{x} years after graduation <br>Hourly wage: € %{y:.2f}<extra></extra>",
         "line": {
          "color": "rgb(135, 197, 95)"
         },
         "meta": "Nature Wo-master",
         "mode": "lines+markers",
         "name": "Nature Wo-master",
         "type": "scatter",
         "visible": "legendonly",
         "x": [
          0,
          1,
          2,
          3,
          4,
          5
         ],
         "y": [
          16.38,
          18.11,
          20.16,
          22.16,
          24.6,
          27.2
         ]
        },
        {
         "hovertemplate": "%{meta}<br>%{x} years after graduation <br>Hourly wage: € %{y:.2f} <extra></extra>",
         "line": {
          "color": "#0099C6"
         },
         "meta": "STEM Hbo-bachelor",
         "mode": "lines+markers",
         "name": "STEM Hbo-bachelor",
         "type": "scatter",
         "visible": "legendonly",
         "x": [
          0,
          1,
          2,
          3,
          4,
          5
         ],
         "y": [
          15.1,
          16.34,
          18.13,
          19.89,
          21.75,
          23.39
         ]
        },
        {
         "hovertemplate": "%{meta}<br>%{x} years after graduation <br>Hourly wage: € %{y:.2f}<extra></extra>",
         "line": {
          "color": "#8C564B"
         },
         "meta": "STEM Hbo-master",
         "mode": "lines+markers",
         "name": "STEM Hbo-master",
         "type": "scatter",
         "visible": "legendonly",
         "x": [
          0,
          1,
          2,
          3,
          4,
          5
         ],
         "y": [
          null,
          null,
          null,
          null,
          null,
          null
         ]
        },
        {
         "hovertemplate": "%{meta}<br>%{x} years after graduation <br>Hourly wage: € %{y:.2f}<extra></extra>",
         "line": {
          "color": "rgb(36, 121, 108)"
         },
         "meta": "STEM Wo-bachelor",
         "mode": "lines+markers",
         "name": "STEM Wo-bachelor",
         "type": "scatter",
         "visible": "legendonly",
         "x": [
          0,
          1,
          2,
          3,
          4,
          5
         ],
         "y": [
          14.23,
          17.88,
          19.98,
          21.62,
          24.29,
          26.75
         ]
        },
        {
         "hovertemplate": "%{meta}<br>%{x} years after graduation <br>Hourly wage: € %{y:.2f}<extra></extra>",
         "line": {
          "color": "rgb(158, 185, 243)"
         },
         "meta": "STEM Wo-master",
         "mode": "lines+markers",
         "name": "STEM Wo-master",
         "type": "scatter",
         "visible": "legendonly",
         "x": [
          0,
          1,
          2,
          3,
          4,
          5
         ],
         "y": [
          17.65,
          18.96,
          21.02,
          23.26,
          25.7,
          28.25
         ]
        },
        {
         "hovertemplate": "%{meta}<br>%{x} years after graduation <br>Hourly wage: € %{y:.2f} <extra></extra>",
         "line": {
          "color": "#DD4477"
         },
         "meta": "Language & culture Hbo-bachelor",
         "mode": "lines+markers",
         "name": "Language & culture Hbo-bachelor",
         "type": "scatter",
         "visible": true,
         "x": [
          0,
          1,
          2,
          3,
          4,
          5
         ],
         "y": [
          11.98,
          12.71,
          14.18,
          15.62,
          17.2,
          18.88
         ]
        },
        {
         "hovertemplate": "%{meta}<br>%{x} years after graduation <br>Hourly wage: € %{y:.2f}<extra></extra>",
         "line": {
          "color": "#E377C2"
         },
         "meta": "Language & culture Hbo-master",
         "mode": "lines+markers",
         "name": "Language & culture Hbo-master",
         "type": "scatter",
         "visible": "legendonly",
         "x": [
          0,
          1,
          2,
          3,
          4,
          5
         ],
         "y": [
          14.02,
          15.86,
          17.59,
          20.33,
          22.01,
          24.52
         ]
        },
        {
         "hovertemplate": "%{meta}<br>%{x} years after graduation <br>Hourly wage: € %{y:.2f}<extra></extra>",
         "line": {
          "color": "rgb(218, 165, 27)"
         },
         "meta": "Language & culture Wo-bachelor",
         "mode": "lines+markers",
         "name": "Language & culture Wo-bachelor",
         "type": "scatter",
         "visible": true,
         "x": [
          0,
          1,
          2,
          3,
          4,
          5
         ],
         "y": [
          12.81,
          14.26,
          16,
          17.48,
          19.53,
          21.03
         ]
        },
        {
         "hovertemplate": "%{meta}<br>%{x} years after graduation <br>Hourly wage: € %{y:.2f}<extra></extra>",
         "line": {
          "color": "rgb(254, 136, 177)"
         },
         "meta": "Language & culture Wo-master",
         "mode": "lines+markers",
         "name": "Language & culture Wo-master",
         "type": "scatter",
         "visible": "legendonly",
         "x": [
          0,
          1,
          2,
          3,
          4,
          5
         ],
         "y": [
          14.44,
          16,
          18.42,
          20.19,
          22.19,
          24.02
         ]
        },
        {
         "hovertemplate": "%{meta}<br>%{x} years after graduation <br>Hourly wage: € %{y:.2f} <extra></extra>",
         "line": {
          "color": "#66AA00"
         },
         "meta": "Education Hbo-bachelor",
         "mode": "lines+markers",
         "name": "Education Hbo-bachelor",
         "type": "scatter",
         "visible": "legendonly",
         "x": [
          0,
          1,
          2,
          3,
          4,
          5
         ],
         "y": [
          17.83,
          18.35,
          19.86,
          20.54,
          22.27,
          23.76
         ]
        },
        {
         "hovertemplate": "%{meta}<br>%{x} years after graduation <br>Hourly wage: € %{y:.2f}<extra></extra>",
         "line": {
          "color": "#7F7F7F"
         },
         "meta": "Education Hbo-master",
         "mode": "lines+markers",
         "name": "Education Hbo-master",
         "type": "scatter",
         "visible": "legendonly",
         "x": [
          0,
          1,
          2,
          3,
          4,
          5
         ],
         "y": [
          18.03,
          18.73,
          20.43,
          21.01,
          22.8,
          23.83
         ]
        },
        {
         "hovertemplate": "%{meta}<br>%{x} years after graduation <br>Hourly wage: € %{y:.2f}<extra></extra>",
         "line": {
          "color": "rgb(47, 138, 196)"
         },
         "meta": "Education Wo-bachelor",
         "mode": "lines+markers",
         "name": "Education Wo-bachelor",
         "type": "scatter",
         "visible": "legendonly",
         "x": [
          0,
          1,
          2,
          3,
          4,
          5
         ],
         "y": [
          null,
          null,
          null,
          null,
          null,
          null
         ]
        },
        {
         "hovertemplate": "%{meta}<br>%{x} years after graduation <br>Hourly wage: € %{y:.2f}<extra></extra>",
         "line": {
          "color": "rgb(201, 219, 116)"
         },
         "meta": "Education Wo-master",
         "mode": "lines+markers",
         "name": "Education Wo-master",
         "type": "scatter",
         "visible": "legendonly",
         "x": [
          0,
          1,
          2,
          3,
          4,
          5
         ],
         "y": [
          null,
          null,
          null,
          null,
          null,
          null
         ]
        },
        {
         "hovertemplate": "%{meta}<br>%{x} years after graduation <br>Hourly wage: € %{y:.2f} <extra></extra>",
         "line": {
          "color": "#B82E2E"
         },
         "meta": "Behaviour & society Hbo-bachelor",
         "mode": "lines+markers",
         "name": "Behaviour & society Hbo-bachelor",
         "type": "scatter",
         "visible": "legendonly",
         "x": [
          0,
          1,
          2,
          3,
          4,
          5
         ],
         "y": [
          14.47,
          16.27,
          18.22,
          19.56,
          21.12,
          22.35
         ]
        },
        {
         "hovertemplate": "%{meta}<br>%{x} years after graduation <br>Hourly wage: € %{y:.2f}<extra></extra>",
         "line": {
          "color": "#BCBD22"
         },
         "meta": "Behaviour & society Hbo-master",
         "mode": "lines+markers",
         "name": "Behaviour & society Hbo-master",
         "type": "scatter",
         "visible": "legendonly",
         "x": [
          0,
          1,
          2,
          3,
          4,
          5
         ],
         "y": [
          null,
          null,
          null,
          null,
          null,
          null
         ]
        },
        {
         "hovertemplate": "%{meta}<br>%{x} years after graduation <br>Hourly wage: € %{y:.2f}<extra></extra>",
         "line": {
          "color": "rgb(118, 78, 159)"
         },
         "meta": "Behaviour & society Wo-bachelor",
         "mode": "lines+markers",
         "name": "Behaviour & society Wo-bachelor",
         "type": "scatter",
         "visible": "legendonly",
         "x": [
          0,
          1,
          2,
          3,
          4,
          5
         ],
         "y": [
          12.09,
          15.23,
          17.56,
          19.99,
          22.07,
          23.99
         ]
        },
        {
         "hovertemplate": "%{meta}<br>%{x} years after graduation <br>Hourly wage: € %{y:.2f}<extra></extra>",
         "line": {
          "color": "rgb(139, 224, 164)"
         },
         "meta": "Behaviour & society Wo-master",
         "mode": "lines+markers",
         "name": "Behaviour & society Wo-master",
         "type": "scatter",
         "visible": "legendonly",
         "x": [
          0,
          1,
          2,
          3,
          4,
          5
         ],
         "y": [
          15.57,
          18.1,
          20.18,
          22.54,
          25.16,
          27.23
         ]
        },
        {
         "hovertemplate": "%{meta}<br>%{x} years after graduation <br>Hourly wage: € %{y:.2f} <extra></extra>",
         "line": {
          "color": "#316395"
         },
         "meta": "Healthcare Hbo-bachelor",
         "mode": "lines+markers",
         "name": "Healthcare Hbo-bachelor",
         "type": "scatter",
         "visible": "legendonly",
         "x": [
          0,
          1,
          2,
          3,
          4,
          5
         ],
         "y": [
          17.09,
          18.93,
          20.59,
          21.69,
          23.7,
          25.06
         ]
        },
        {
         "hovertemplate": "%{meta}<br>%{x} years after graduation <br>Hourly wage: € %{y:.2f}<extra></extra>",
         "line": {
          "color": "#17BECF"
         },
         "meta": "Healthcare Hbo-master",
         "mode": "lines+markers",
         "name": "Healthcare Hbo-master",
         "type": "scatter",
         "visible": "legendonly",
         "x": [
          0,
          1,
          2,
          3,
          4,
          5
         ],
         "y": [
          null,
          null,
          null,
          null,
          null,
          null
         ]
        },
        {
         "hovertemplate": "%{meta}<br>%{x} years after graduation <br>Hourly wage: € %{y:.2f}<extra></extra>",
         "line": {
          "color": "rgb(237, 100, 90)"
         },
         "meta": "Healthcare Wo-bachelor",
         "mode": "lines+markers",
         "name": "Healthcare Wo-bachelor",
         "type": "scatter",
         "visible": "legendonly",
         "x": [
          0,
          1,
          2,
          3,
          4,
          5
         ],
         "y": [
          13.83,
          19.21,
          22.67,
          23.71,
          25.34,
          26.73
         ]
        },
        {
         "hovertemplate": "%{meta}<br>%{x} years after graduation <br>Hourly wage: € %{y:.2f}<extra></extra>",
         "line": {
          "color": "rgb(180, 151, 231)"
         },
         "meta": "Healthcare Wo-master",
         "mode": "lines+markers",
         "name": "Healthcare Wo-master",
         "type": "scatter",
         "visible": "legendonly",
         "x": [
          0,
          1,
          2,
          3,
          4,
          5
         ],
         "y": [
          16.21,
          18.6,
          20.37,
          22.42,
          24.39,
          26.79
         ]
        },
        {
         "hovertemplate": "%{meta}<br>%{x} years after graduation <br>Hourly wage: € %{y:.2f}<extra></extra>",
         "line": {
          "color": "black",
          "dash": "dash",
          "width": 2
         },
         "meta": "Mean",
         "mode": "lines+markers",
         "name": "Mean",
         "type": "scatter",
         "x": [
          0,
          1,
          2,
          3,
          4,
          5
         ],
         "y": [
          14.553703703703704,
          16.772142857142857,
          18.918928571428573,
          20.731428571428573,
          22.77785714285714,
          24.85571428571429
         ]
        }
       ],
       "layout": {
        "annotations": [
         {
          "align": "left",
          "font": {
           "size": 12
          },
          "showarrow": false,
          "text": "The line chart illustrates the difference in hourly wage per year after graduation. <br>Each line represents a different field of study per level of education. The dropdown<br>menu allows you to filter the data by field of study.",
          "x": 0,
          "xanchor": "left",
          "xref": "paper",
          "y": -0.3,
          "yanchor": "bottom",
          "yref": "paper"
         },
         {
          "font": {
           "color": "Black",
           "size": 14
          },
          "showarrow": false,
          "text": "mean wage",
          "textangle": -24,
          "x": 4.5,
          "xanchor": "right",
          "y": 23.8
         },
         {
          "arrowhead": 1,
          "font": {
           "size": 12
          },
          "showarrow": true,
          "text": "click to compare",
          "x": 1.1,
          "xanchor": "center",
          "xref": "paper",
          "y": 1,
          "yref": "paper"
         }
        ],
        "height": 800,
        "margin": {
         "b": 160,
         "t": 180
        },
        "template": {
         "data": {
          "bar": [
           {
            "error_x": {
             "color": "#2a3f5f"
            },
            "error_y": {
             "color": "#2a3f5f"
            },
            "marker": {
             "line": {
              "color": "#E5ECF6",
              "width": 0.5
             },
             "pattern": {
              "fillmode": "overlay",
              "size": 10,
              "solidity": 0.2
             }
            },
            "type": "bar"
           }
          ],
          "barpolar": [
           {
            "marker": {
             "line": {
              "color": "#E5ECF6",
              "width": 0.5
             },
             "pattern": {
              "fillmode": "overlay",
              "size": 10,
              "solidity": 0.2
             }
            },
            "type": "barpolar"
           }
          ],
          "carpet": [
           {
            "aaxis": {
             "endlinecolor": "#2a3f5f",
             "gridcolor": "white",
             "linecolor": "white",
             "minorgridcolor": "white",
             "startlinecolor": "#2a3f5f"
            },
            "baxis": {
             "endlinecolor": "#2a3f5f",
             "gridcolor": "white",
             "linecolor": "white",
             "minorgridcolor": "white",
             "startlinecolor": "#2a3f5f"
            },
            "type": "carpet"
           }
          ],
          "choropleth": [
           {
            "colorbar": {
             "outlinewidth": 0,
             "ticks": ""
            },
            "type": "choropleth"
           }
          ],
          "contour": [
           {
            "colorbar": {
             "outlinewidth": 0,
             "ticks": ""
            },
            "colorscale": [
             [
              0,
              "#0d0887"
             ],
             [
              0.1111111111111111,
              "#46039f"
             ],
             [
              0.2222222222222222,
              "#7201a8"
             ],
             [
              0.3333333333333333,
              "#9c179e"
             ],
             [
              0.4444444444444444,
              "#bd3786"
             ],
             [
              0.5555555555555556,
              "#d8576b"
             ],
             [
              0.6666666666666666,
              "#ed7953"
             ],
             [
              0.7777777777777778,
              "#fb9f3a"
             ],
             [
              0.8888888888888888,
              "#fdca26"
             ],
             [
              1,
              "#f0f921"
             ]
            ],
            "type": "contour"
           }
          ],
          "contourcarpet": [
           {
            "colorbar": {
             "outlinewidth": 0,
             "ticks": ""
            },
            "type": "contourcarpet"
           }
          ],
          "heatmap": [
           {
            "colorbar": {
             "outlinewidth": 0,
             "ticks": ""
            },
            "colorscale": [
             [
              0,
              "#0d0887"
             ],
             [
              0.1111111111111111,
              "#46039f"
             ],
             [
              0.2222222222222222,
              "#7201a8"
             ],
             [
              0.3333333333333333,
              "#9c179e"
             ],
             [
              0.4444444444444444,
              "#bd3786"
             ],
             [
              0.5555555555555556,
              "#d8576b"
             ],
             [
              0.6666666666666666,
              "#ed7953"
             ],
             [
              0.7777777777777778,
              "#fb9f3a"
             ],
             [
              0.8888888888888888,
              "#fdca26"
             ],
             [
              1,
              "#f0f921"
             ]
            ],
            "type": "heatmap"
           }
          ],
          "heatmapgl": [
           {
            "colorbar": {
             "outlinewidth": 0,
             "ticks": ""
            },
            "colorscale": [
             [
              0,
              "#0d0887"
             ],
             [
              0.1111111111111111,
              "#46039f"
             ],
             [
              0.2222222222222222,
              "#7201a8"
             ],
             [
              0.3333333333333333,
              "#9c179e"
             ],
             [
              0.4444444444444444,
              "#bd3786"
             ],
             [
              0.5555555555555556,
              "#d8576b"
             ],
             [
              0.6666666666666666,
              "#ed7953"
             ],
             [
              0.7777777777777778,
              "#fb9f3a"
             ],
             [
              0.8888888888888888,
              "#fdca26"
             ],
             [
              1,
              "#f0f921"
             ]
            ],
            "type": "heatmapgl"
           }
          ],
          "histogram": [
           {
            "marker": {
             "pattern": {
              "fillmode": "overlay",
              "size": 10,
              "solidity": 0.2
             }
            },
            "type": "histogram"
           }
          ],
          "histogram2d": [
           {
            "colorbar": {
             "outlinewidth": 0,
             "ticks": ""
            },
            "colorscale": [
             [
              0,
              "#0d0887"
             ],
             [
              0.1111111111111111,
              "#46039f"
             ],
             [
              0.2222222222222222,
              "#7201a8"
             ],
             [
              0.3333333333333333,
              "#9c179e"
             ],
             [
              0.4444444444444444,
              "#bd3786"
             ],
             [
              0.5555555555555556,
              "#d8576b"
             ],
             [
              0.6666666666666666,
              "#ed7953"
             ],
             [
              0.7777777777777778,
              "#fb9f3a"
             ],
             [
              0.8888888888888888,
              "#fdca26"
             ],
             [
              1,
              "#f0f921"
             ]
            ],
            "type": "histogram2d"
           }
          ],
          "histogram2dcontour": [
           {
            "colorbar": {
             "outlinewidth": 0,
             "ticks": ""
            },
            "colorscale": [
             [
              0,
              "#0d0887"
             ],
             [
              0.1111111111111111,
              "#46039f"
             ],
             [
              0.2222222222222222,
              "#7201a8"
             ],
             [
              0.3333333333333333,
              "#9c179e"
             ],
             [
              0.4444444444444444,
              "#bd3786"
             ],
             [
              0.5555555555555556,
              "#d8576b"
             ],
             [
              0.6666666666666666,
              "#ed7953"
             ],
             [
              0.7777777777777778,
              "#fb9f3a"
             ],
             [
              0.8888888888888888,
              "#fdca26"
             ],
             [
              1,
              "#f0f921"
             ]
            ],
            "type": "histogram2dcontour"
           }
          ],
          "mesh3d": [
           {
            "colorbar": {
             "outlinewidth": 0,
             "ticks": ""
            },
            "type": "mesh3d"
           }
          ],
          "parcoords": [
           {
            "line": {
             "colorbar": {
              "outlinewidth": 0,
              "ticks": ""
             }
            },
            "type": "parcoords"
           }
          ],
          "pie": [
           {
            "automargin": true,
            "type": "pie"
           }
          ],
          "scatter": [
           {
            "fillpattern": {
             "fillmode": "overlay",
             "size": 10,
             "solidity": 0.2
            },
            "type": "scatter"
           }
          ],
          "scatter3d": [
           {
            "line": {
             "colorbar": {
              "outlinewidth": 0,
              "ticks": ""
             }
            },
            "marker": {
             "colorbar": {
              "outlinewidth": 0,
              "ticks": ""
             }
            },
            "type": "scatter3d"
           }
          ],
          "scattercarpet": [
           {
            "marker": {
             "colorbar": {
              "outlinewidth": 0,
              "ticks": ""
             }
            },
            "type": "scattercarpet"
           }
          ],
          "scattergeo": [
           {
            "marker": {
             "colorbar": {
              "outlinewidth": 0,
              "ticks": ""
             }
            },
            "type": "scattergeo"
           }
          ],
          "scattergl": [
           {
            "marker": {
             "colorbar": {
              "outlinewidth": 0,
              "ticks": ""
             }
            },
            "type": "scattergl"
           }
          ],
          "scattermapbox": [
           {
            "marker": {
             "colorbar": {
              "outlinewidth": 0,
              "ticks": ""
             }
            },
            "type": "scattermapbox"
           }
          ],
          "scatterpolar": [
           {
            "marker": {
             "colorbar": {
              "outlinewidth": 0,
              "ticks": ""
             }
            },
            "type": "scatterpolar"
           }
          ],
          "scatterpolargl": [
           {
            "marker": {
             "colorbar": {
              "outlinewidth": 0,
              "ticks": ""
             }
            },
            "type": "scatterpolargl"
           }
          ],
          "scatterternary": [
           {
            "marker": {
             "colorbar": {
              "outlinewidth": 0,
              "ticks": ""
             }
            },
            "type": "scatterternary"
           }
          ],
          "surface": [
           {
            "colorbar": {
             "outlinewidth": 0,
             "ticks": ""
            },
            "colorscale": [
             [
              0,
              "#0d0887"
             ],
             [
              0.1111111111111111,
              "#46039f"
             ],
             [
              0.2222222222222222,
              "#7201a8"
             ],
             [
              0.3333333333333333,
              "#9c179e"
             ],
             [
              0.4444444444444444,
              "#bd3786"
             ],
             [
              0.5555555555555556,
              "#d8576b"
             ],
             [
              0.6666666666666666,
              "#ed7953"
             ],
             [
              0.7777777777777778,
              "#fb9f3a"
             ],
             [
              0.8888888888888888,
              "#fdca26"
             ],
             [
              1,
              "#f0f921"
             ]
            ],
            "type": "surface"
           }
          ],
          "table": [
           {
            "cells": {
             "fill": {
              "color": "#EBF0F8"
             },
             "line": {
              "color": "white"
             }
            },
            "header": {
             "fill": {
              "color": "#C8D4E3"
             },
             "line": {
              "color": "white"
             }
            },
            "type": "table"
           }
          ]
         },
         "layout": {
          "annotationdefaults": {
           "arrowcolor": "#2a3f5f",
           "arrowhead": 0,
           "arrowwidth": 1
          },
          "autotypenumbers": "strict",
          "coloraxis": {
           "colorbar": {
            "outlinewidth": 0,
            "ticks": ""
           }
          },
          "colorscale": {
           "diverging": [
            [
             0,
             "#8e0152"
            ],
            [
             0.1,
             "#c51b7d"
            ],
            [
             0.2,
             "#de77ae"
            ],
            [
             0.3,
             "#f1b6da"
            ],
            [
             0.4,
             "#fde0ef"
            ],
            [
             0.5,
             "#f7f7f7"
            ],
            [
             0.6,
             "#e6f5d0"
            ],
            [
             0.7,
             "#b8e186"
            ],
            [
             0.8,
             "#7fbc41"
            ],
            [
             0.9,
             "#4d9221"
            ],
            [
             1,
             "#276419"
            ]
           ],
           "sequential": [
            [
             0,
             "#0d0887"
            ],
            [
             0.1111111111111111,
             "#46039f"
            ],
            [
             0.2222222222222222,
             "#7201a8"
            ],
            [
             0.3333333333333333,
             "#9c179e"
            ],
            [
             0.4444444444444444,
             "#bd3786"
            ],
            [
             0.5555555555555556,
             "#d8576b"
            ],
            [
             0.6666666666666666,
             "#ed7953"
            ],
            [
             0.7777777777777778,
             "#fb9f3a"
            ],
            [
             0.8888888888888888,
             "#fdca26"
            ],
            [
             1,
             "#f0f921"
            ]
           ],
           "sequentialminus": [
            [
             0,
             "#0d0887"
            ],
            [
             0.1111111111111111,
             "#46039f"
            ],
            [
             0.2222222222222222,
             "#7201a8"
            ],
            [
             0.3333333333333333,
             "#9c179e"
            ],
            [
             0.4444444444444444,
             "#bd3786"
            ],
            [
             0.5555555555555556,
             "#d8576b"
            ],
            [
             0.6666666666666666,
             "#ed7953"
            ],
            [
             0.7777777777777778,
             "#fb9f3a"
            ],
            [
             0.8888888888888888,
             "#fdca26"
            ],
            [
             1,
             "#f0f921"
            ]
           ]
          },
          "colorway": [
           "#636efa",
           "#EF553B",
           "#00cc96",
           "#ab63fa",
           "#FFA15A",
           "#19d3f3",
           "#FF6692",
           "#B6E880",
           "#FF97FF",
           "#FECB52"
          ],
          "font": {
           "color": "#2a3f5f"
          },
          "geo": {
           "bgcolor": "white",
           "lakecolor": "white",
           "landcolor": "#E5ECF6",
           "showlakes": true,
           "showland": true,
           "subunitcolor": "white"
          },
          "hoverlabel": {
           "align": "left"
          },
          "hovermode": "closest",
          "mapbox": {
           "style": "light"
          },
          "paper_bgcolor": "white",
          "plot_bgcolor": "#E5ECF6",
          "polar": {
           "angularaxis": {
            "gridcolor": "white",
            "linecolor": "white",
            "ticks": ""
           },
           "bgcolor": "#E5ECF6",
           "radialaxis": {
            "gridcolor": "white",
            "linecolor": "white",
            "ticks": ""
           }
          },
          "scene": {
           "xaxis": {
            "backgroundcolor": "#E5ECF6",
            "gridcolor": "white",
            "gridwidth": 2,
            "linecolor": "white",
            "showbackground": true,
            "ticks": "",
            "zerolinecolor": "white"
           },
           "yaxis": {
            "backgroundcolor": "#E5ECF6",
            "gridcolor": "white",
            "gridwidth": 2,
            "linecolor": "white",
            "showbackground": true,
            "ticks": "",
            "zerolinecolor": "white"
           },
           "zaxis": {
            "backgroundcolor": "#E5ECF6",
            "gridcolor": "white",
            "gridwidth": 2,
            "linecolor": "white",
            "showbackground": true,
            "ticks": "",
            "zerolinecolor": "white"
           }
          },
          "shapedefaults": {
           "line": {
            "color": "#2a3f5f"
           }
          },
          "ternary": {
           "aaxis": {
            "gridcolor": "white",
            "linecolor": "white",
            "ticks": ""
           },
           "baxis": {
            "gridcolor": "white",
            "linecolor": "white",
            "ticks": ""
           },
           "bgcolor": "#E5ECF6",
           "caxis": {
            "gridcolor": "white",
            "linecolor": "white",
            "ticks": ""
           }
          },
          "title": {
           "x": 0.05
          },
          "xaxis": {
           "automargin": true,
           "gridcolor": "white",
           "linecolor": "white",
           "ticks": "",
           "title": {
            "standoff": 15
           },
           "zerolinecolor": "white",
           "zerolinewidth": 2
          },
          "yaxis": {
           "automargin": true,
           "gridcolor": "white",
           "linecolor": "white",
           "ticks": "",
           "title": {
            "standoff": 15
           },
           "zerolinecolor": "white",
           "zerolinewidth": 2
          }
         }
        },
        "title": {
         "text": "Hourly wages per Level of education and Field of study over the years<br><sub>On average, Wo students start with and maintain a higher hourly wage</sub>",
         "x": 0,
         "xanchor": "left",
         "y": 0.9,
         "yanchor": "bottom"
        },
        "updatemenus": [
         {
          "buttons": [
           {
            "args": [
             {
              "visible": [
               true,
               true,
               true,
               true,
               true,
               true,
               true,
               true,
               true,
               true,
               true,
               true,
               true,
               true,
               true,
               true,
               true,
               true,
               true,
               true,
               true,
               true,
               true,
               true,
               true,
               true,
               true,
               true,
               true,
               true,
               true,
               true,
               true,
               true,
               true,
               true,
               true,
               true,
               true,
               true,
               true
              ]
             },
             {
              "title": "Hourly wages per Level of education and Field of study over the years<br><sub>In the majority of fields of study a Wo student would start and maintain a higher hourly wage</sub>"
             }
            ],
            "label": "All",
            "method": "update"
           },
           {
            "args": [
             {
              "visible": [
               true,
               true,
               true,
               true,
               false,
               false,
               false,
               false,
               false,
               false,
               false,
               false,
               false,
               false,
               false,
               false,
               false,
               false,
               false,
               false,
               false,
               false,
               false,
               false,
               false,
               false,
               false,
               false,
               false,
               false,
               false,
               false,
               false,
               false,
               false,
               false,
               false,
               false,
               false,
               false,
               true
              ]
             },
             {
              "title": "Hourly wages of Economics studies<br><sub>In the majority of fields of study a Wo student would start and maintain a higher hourly wage</sub>"
             }
            ],
            "label": "Economics",
            "method": "update"
           },
           {
            "args": [
             {
              "visible": [
               false,
               false,
               false,
               false,
               true,
               true,
               true,
               true,
               false,
               false,
               false,
               false,
               false,
               false,
               false,
               false,
               false,
               false,
               false,
               false,
               false,
               false,
               false,
               false,
               false,
               false,
               false,
               false,
               false,
               false,
               false,
               false,
               false,
               false,
               false,
               false,
               false,
               false,
               false,
               false,
               true
              ]
             },
             {
              "title": "Hourly wages of Interdisciplinary studies<br><sub>In the majority of fields of study a Wo student would start and maintain a higher hourly wage</sub>"
             }
            ],
            "label": "Interdisciplinary",
            "method": "update"
           },
           {
            "args": [
             {
              "visible": [
               false,
               false,
               false,
               false,
               false,
               false,
               false,
               false,
               true,
               true,
               true,
               true,
               false,
               false,
               false,
               false,
               false,
               false,
               false,
               false,
               false,
               false,
               false,
               false,
               false,
               false,
               false,
               false,
               false,
               false,
               false,
               false,
               false,
               false,
               false,
               false,
               false,
               false,
               false,
               false,
               true
              ]
             },
             {
              "title": "Hourly wages of Agriculture studies<br><sub>In the majority of fields of study a Wo student would start and maintain a higher hourly wage</sub>"
             }
            ],
            "label": "Agriculture",
            "method": "update"
           },
           {
            "args": [
             {
              "visible": [
               false,
               false,
               false,
               false,
               false,
               false,
               false,
               false,
               false,
               false,
               false,
               false,
               true,
               true,
               true,
               true,
               false,
               false,
               false,
               false,
               false,
               false,
               false,
               false,
               false,
               false,
               false,
               false,
               false,
               false,
               false,
               false,
               false,
               false,
               false,
               false,
               false,
               false,
               false,
               false,
               true
              ]
             },
             {
              "title": "Hourly wages of Law studies<br><sub>In the majority of fields of study a Wo student would start and maintain a higher hourly wage</sub>"
             }
            ],
            "label": "Law",
            "method": "update"
           },
           {
            "args": [
             {
              "visible": [
               false,
               false,
               false,
               false,
               false,
               false,
               false,
               false,
               false,
               false,
               false,
               false,
               false,
               false,
               false,
               false,
               true,
               true,
               true,
               true,
               false,
               false,
               false,
               false,
               false,
               false,
               false,
               false,
               false,
               false,
               false,
               false,
               false,
               false,
               false,
               false,
               false,
               false,
               false,
               false,
               true
              ]
             },
             {
              "title": "Hourly wages of Nature studies<br><sub>In the majority of fields of study a Wo student would start and maintain a higher hourly wage</sub>"
             }
            ],
            "label": "Nature",
            "method": "update"
           },
           {
            "args": [
             {
              "visible": [
               false,
               false,
               false,
               false,
               false,
               false,
               false,
               false,
               false,
               false,
               false,
               false,
               false,
               false,
               false,
               false,
               false,
               false,
               false,
               false,
               true,
               true,
               true,
               true,
               false,
               false,
               false,
               false,
               false,
               false,
               false,
               false,
               false,
               false,
               false,
               false,
               false,
               false,
               false,
               false,
               true
              ]
             },
             {
              "title": "Hourly wages of STEM studies<br><sub>In the majority of fields of study a Wo student would start and maintain a higher hourly wage</sub>"
             }
            ],
            "label": "STEM",
            "method": "update"
           },
           {
            "args": [
             {
              "visible": [
               false,
               false,
               false,
               false,
               false,
               false,
               false,
               false,
               false,
               false,
               false,
               false,
               false,
               false,
               false,
               false,
               false,
               false,
               false,
               false,
               false,
               false,
               false,
               false,
               true,
               true,
               true,
               true,
               false,
               false,
               false,
               false,
               false,
               false,
               false,
               false,
               false,
               false,
               false,
               false,
               true
              ]
             },
             {
              "title": "Hourly wages of Language & Culture studies<br><sub>In the majority of fields of study a Wo student would start and maintain a higher hourly wage</sub>"
             }
            ],
            "label": "Language & Culture",
            "method": "update"
           },
           {
            "args": [
             {
              "visible": [
               false,
               false,
               false,
               false,
               false,
               false,
               false,
               false,
               false,
               false,
               false,
               false,
               false,
               false,
               false,
               false,
               false,
               false,
               false,
               false,
               false,
               false,
               false,
               false,
               false,
               false,
               false,
               false,
               true,
               true,
               true,
               true,
               false,
               false,
               false,
               false,
               false,
               false,
               false,
               false,
               true
              ]
             },
             {
              "title": "Hourly wages of Education studies<br><sub>In the majority of fields of study a Wo student would start and maintain a higher hourly wage</sub>"
             }
            ],
            "label": "Education",
            "method": "update"
           },
           {
            "args": [
             {
              "visible": [
               false,
               false,
               false,
               false,
               false,
               false,
               false,
               false,
               false,
               false,
               false,
               false,
               false,
               false,
               false,
               false,
               false,
               false,
               false,
               false,
               false,
               false,
               false,
               false,
               false,
               false,
               false,
               false,
               false,
               false,
               false,
               false,
               true,
               true,
               true,
               true,
               false,
               false,
               false,
               false,
               true
              ]
             },
             {
              "title": "Hourly wages of Behaviour & Society studies<br><sub>In the majority of fields of study a Wo student would start and maintain a higher hourly wage</sub>"
             }
            ],
            "label": "Behaviour & Society",
            "method": "update"
           },
           {
            "args": [
             {
              "visible": [
               false,
               false,
               false,
               false,
               false,
               false,
               false,
               false,
               false,
               false,
               false,
               false,
               false,
               false,
               false,
               false,
               false,
               false,
               false,
               false,
               false,
               false,
               false,
               false,
               false,
               false,
               false,
               false,
               false,
               false,
               false,
               false,
               false,
               false,
               false,
               false,
               true,
               true,
               true,
               true,
               true
              ]
             },
             {
              "title": "Hourly wages of Healthcare studies<br><sub>In the majority of fields of study a Wo student would start and maintain a higher hourly wage</sub>"
             }
            ],
            "label": "Healthcare",
            "method": "update"
           }
          ],
          "direction": "down",
          "showactive": true,
          "x": 0,
          "xanchor": "left",
          "y": 1.1,
          "yanchor": "top"
         }
        ],
        "xaxis": {
         "title": {
          "text": "Years after leaving university"
         }
        },
        "yaxis": {
         "tickformat": ",.",
         "tickprefix": "€",
         "title": {
          "text": "Hourly wage"
         },
         "type": "linear"
        }
       }
      }
     },
     "metadata": {},
     "output_type": "display_data"
    }
   ],
   "source": [
    "dropdown_buttons = list([\n",
    "    dict(label=\"All\",\n",
    "         method=\"update\",\n",
    "         args=[{\"visible\": [True] * 41},\n",
    "               {\"title\": \"Hourly wages per Level of education and Field of study over the years<br><sub>In the majority of fields of study a Wo student would start and maintain a higher hourly wage</sub>\"}]),\n",
    "    dict(label=\"Economics\",\n",
    "         method=\"update\",\n",
    "         args=[{\"visible\": [True] * 4 + [False] * 36 + [True]},\n",
    "               {\"title\": \"Hourly wages of Economics studies<br><sub>In the majority of fields of study a Wo student would start and maintain a higher hourly wage</sub>\"}]),\n",
    "    dict(label=\"Interdisciplinary\",\n",
    "         method=\"update\",\n",
    "         args=[{\"visible\": [False] * 4 + [True] * 4 + [False] * 32 + [True]},\n",
    "               {\"title\": \"Hourly wages of Interdisciplinary studies<br><sub>In the majority of fields of study a Wo student would start and maintain a higher hourly wage</sub>\"}]),\n",
    "    dict(label=\"Agriculture\",\n",
    "         method=\"update\",\n",
    "         args=[{\"visible\": [False] * 8 + [True] * 4 + [False] * 28 + [True]},\n",
    "               {\"title\": \"Hourly wages of Agriculture studies<br><sub>In the majority of fields of study a Wo student would start and maintain a higher hourly wage</sub>\"}]),\n",
    "    dict(label=\"Law\",\n",
    "         method=\"update\",\n",
    "         args=[{\"visible\": [False] * 12 + [True] * 4 + [False] * 24 + [True]},\n",
    "               {\"title\": \"Hourly wages of Law studies<br><sub>In the majority of fields of study a Wo student would start and maintain a higher hourly wage</sub>\"}]),\n",
    "    dict(label=\"Nature\",\n",
    "         method=\"update\",\n",
    "         args=[{\"visible\": [False] * 16 + [True] * 4 + [False] * 20 + [True]},\n",
    "               {\"title\": \"Hourly wages of Nature studies<br><sub>In the majority of fields of study a Wo student would start and maintain a higher hourly wage</sub>\"}]),\n",
    "    dict(label=\"STEM\",\n",
    "         method=\"update\",\n",
    "         args=[{\"visible\": [False] * 20 + [True] * 4 + [False] * 16 + [True]},\n",
    "               {\"title\": \"Hourly wages of STEM studies<br><sub>In the majority of fields of study a Wo student would start and maintain a higher hourly wage</sub>\"}]),\n",
    "    dict(label=\"Language & Culture\",\n",
    "         method=\"update\",\n",
    "         args=[{\"visible\": [False] * 24 + [True] * 4 + [False] * 12 + [True]},\n",
    "               {\"title\": \"Hourly wages of Language & Culture studies<br><sub>In the majority of fields of study a Wo student would start and maintain a higher hourly wage</sub>\"}]),\n",
    "    dict(label=\"Education\",\n",
    "         method=\"update\",\n",
    "         args=[{\"visible\": [False] * 28 + [True] * 4 + [False] * 8 + [True]},\n",
    "               {\"title\": \"Hourly wages of Education studies<br><sub>In the majority of fields of study a Wo student would start and maintain a higher hourly wage</sub>\"}]),\n",
    "    dict(label=\"Behaviour & Society\",\n",
    "         method=\"update\",\n",
    "         args=[{\"visible\": [False] * 32 + [True] * 4 + [False] * 4 + [True]},\n",
    "               {\"title\": \"Hourly wages of Behaviour & Society studies<br><sub>In the majority of fields of study a Wo student would start and maintain a higher hourly wage</sub>\"}]),\n",
    "    dict(label=\"Healthcare\",\n",
    "         method=\"update\",\n",
    "         args=[{\"visible\": [False] * 36 + [True] * 5},\n",
    "               {\"title\": \"Hourly wages of Healthcare studies<br><sub>In the majority of fields of study a Wo student would start and maintain a higher hourly wage</sub>\"}]),\n",
    "])\n",
    "\n",
    "fig = go.Figure()\n",
    "\n",
    "df_uurloon['Studierichting_mapped'] = df_uurloon['Studierichting'].map(label_mapping)\n",
    "\n",
    "for i,  studierichting in enumerate(studierichtingen):\n",
    "    df_selected_hbo_bach = df_uurloon[df_uurloon['Studierichting_mapped'] == studierichting].loc[df_uurloon['Uitstromers ho met en zonder diploma'] == 'Hbo-bachelor']\n",
    "    df_selected_hbo_master = df_uurloon[df_uurloon['Studierichting_mapped'] == studierichting].loc[df_uurloon['Uitstromers ho met en zonder diploma'] == 'Hbo-master']\n",
    "    df_selected_wo_bach = df_uurloon[df_uurloon['Studierichting_mapped'] == studierichting].loc[df_uurloon['Uitstromers ho met en zonder diploma'] == 'Wo-bachelor']\n",
    "    df_selected_wo_master = df_uurloon[df_uurloon['Studierichting_mapped'] == studierichting].loc[df_uurloon['Uitstromers ho met en zonder diploma'] == 'Wo-master']\n",
    "    \n",
    "    if (studierichting != 'Language & culture' and studierichting != 'Agriculture'):\n",
    "        hbo_bachelor_vis = 'legendonly'\n",
    "    else:\n",
    "        hbo_bachelor_vis = True\n",
    "    fig.add_trace(\n",
    "        go.Scatter(\n",
    "            mode = 'lines+markers',\n",
    "            x = [0,1,2,3,4,5],\n",
    "            y = df_selected_hbo_bach['Uurloon werknemers na verlaten ho (euro)'],\n",
    "            name = studierichting + ' Hbo-bachelor',\n",
    "            meta = studierichting + ' Hbo-bachelor',\n",
    "            visible = hbo_bachelor_vis,\n",
    "            hovertemplate = '%{meta}<br>%{x} years after graduation <br>Hourly wage: € %{y:.2f} <extra></extra>',\n",
    "            line=dict(color = colors1[i % len(colors1)])\n",
    "        )\n",
    "    )\n",
    "    \n",
    "    if (studierichting != 'Interdisciplinary'):\n",
    "        hbo_master_vis = 'legendonly'\n",
    "    else:\n",
    "        hbo_master_vis = True\n",
    "    fig.add_trace(\n",
    "        go.Scatter(\n",
    "            mode = 'lines+markers',\n",
    "            x = [0,1,2,3,4,5],\n",
    "            y = df_selected_hbo_master['Uurloon werknemers na verlaten ho (euro)'],\n",
    "            name = studierichting + ' Hbo-master',\n",
    "            meta = studierichting + ' Hbo-master',\n",
    "            visible = hbo_master_vis,\n",
    "            hovertemplate = '%{meta}<br>%{x} years after graduation <br>Hourly wage: € %{y:.2f}<extra></extra>',\n",
    "            line=dict(color = colors2[i % len(colors2)])\n",
    "        )\n",
    "    )\n",
    "    \n",
    "    if (studierichting != 'Language & culture'):\n",
    "        wo_bachelor_vis = 'legendonly'\n",
    "    else:\n",
    "        wo_bachelor_vis = True\n",
    "    fig.add_trace(\n",
    "        go.Scatter(\n",
    "            mode = 'lines+markers',\n",
    "            x = [0,1,2,3,4,5],\n",
    "            y = df_selected_wo_bach['Uurloon werknemers na verlaten ho (euro)'],\n",
    "            name = studierichting + ' Wo-bachelor',\n",
    "            meta = studierichting + ' Wo-bachelor',\n",
    "            visible = wo_bachelor_vis,\n",
    "            hovertemplate = '%{meta}<br>%{x} years after graduation <br>Hourly wage: € %{y:.2f}<extra></extra>',\n",
    "            line=dict(color = colors3[i % len(colors3)])\n",
    "        )\n",
    "    )\n",
    "    \n",
    "    if (studierichting != 'Law' and studierichting != 'Economics'):\n",
    "        wo_bachelor_vis = 'legendonly'\n",
    "    else:\n",
    "        wo_bachelor_vis = True\n",
    "    fig.add_trace(\n",
    "        go.Scatter(\n",
    "            mode = 'lines+markers',\n",
    "            x = [0,1,2,3,4,5],\n",
    "            y = df_selected_wo_master['Uurloon werknemers na verlaten ho (euro)'],\n",
    "            name = studierichting + ' Wo-master',\n",
    "            meta = studierichting + ' Wo-master',\n",
    "            visible=wo_bachelor_vis,\n",
    "            hovertemplate = '%{meta}<br>%{x} years after graduation <br>Hourly wage: € %{y:.2f}<extra></extra>',\n",
    "            line=dict(color = colors4[i % len(colors4)])\n",
    "        )\n",
    "    )\n",
    "\n",
    "fig.add_trace(\n",
    "    go.Scatter(\n",
    "        mode = 'lines+markers',\n",
    "        x = [0, 1, 2, 3, 4, 5],\n",
    "        y = average_wages,\n",
    "        name = 'Mean',\n",
    "        meta = 'Mean',\n",
    "        line = dict(color='black', width=2, dash='dash'),\n",
    "        hovertemplate = '%{meta}<br>%{x} years after graduation <br>Hourly wage: € %{y:.2f}<extra></extra>'\n",
    "    )\n",
    ")\n",
    "\n",
    "fig.update_layout(\n",
    "    updatemenus=[{\n",
    "        'buttons': dropdown_buttons,\n",
    "        'direction': 'down',\n",
    "        'showactive': True,\n",
    "        'x': 0,\n",
    "        'y': 1.1,\n",
    "        'xanchor': 'left',\n",
    "        'yanchor': 'top',\n",
    "    }],\n",
    "    title = dict(\n",
    "        text  = 'Hourly wages per Level of education and Field of study over the years<br><sub>On average, Wo students start with and maintain a higher hourly wage</sub>',\n",
    "        y = 0.9,\n",
    "        x = 0,\n",
    "        xanchor='left',\n",
    "        yanchor='bottom'\n",
    "    ), \n",
    "    height = 800,\n",
    "    xaxis_title = 'Years after leaving university',\n",
    "    yaxis=go.layout.YAxis(\n",
    "        title='Hourly wage',\n",
    "        type= 'linear',\n",
    "        tickprefix = '€', \n",
    "        tickformat = ',.'\n",
    "    ),\n",
    "    annotations=[\n",
    "        go.layout.Annotation(\n",
    "            text=\"The line chart illustrates the difference in hourly wage per year after graduation. <br>Each line represents a different field of study per level of education. The dropdown<br>menu allows you to filter the data by field of study.\",\n",
    "            xref=\"paper\", yref=\"paper\",\n",
    "            x=0, y=-0.3,\n",
    "            showarrow=False,\n",
    "            font=dict(size=12),\n",
    "            xanchor='left',\n",
    "            yanchor='bottom',\n",
    "            align = 'left'\n",
    "        ),\n",
    "        go.layout.Annotation(\n",
    "            x = 4.5,\n",
    "            y = 23.8,\n",
    "            textangle = -24,\n",
    "            text = \"mean wage\",\n",
    "            showarrow = False,\n",
    "            xanchor = 'right',\n",
    "            font = dict(color='Black', size = 14)\n",
    "        ),\n",
    "        go.layout.Annotation(\n",
    "            xref=\"paper\", yref=\"paper\",\n",
    "            x = 1.1,\n",
    "            y = 1,\n",
    "            text = \"click to compare\",\n",
    "            showarrow = True,\n",
    "            arrowhead= 1,\n",
    "            xanchor = 'center',\n",
    "            font = dict(size = 12)\n",
    "        ),\n",
    "    ],\n",
    "    margin=dict(\n",
    "        t = 180,\n",
    "        b = 160\n",
    "    ),\n",
    ")\n",
    "\n",
    "fig.show()"
   ]
  }
 ],
 "metadata": {
  "kernelspec": {
   "display_name": "jupyterbook",
   "language": "python",
   "name": "python3"
  },
  "language_info": {
   "codemirror_mode": {
    "name": "ipython",
    "version": 3
   },
   "file_extension": ".py",
   "mimetype": "text/x-python",
   "name": "python",
   "nbconvert_exporter": "python",
   "pygments_lexer": "ipython3",
   "version": "3.10.14"
  }
 },
 "nbformat": 4,
 "nbformat_minor": 2
}
