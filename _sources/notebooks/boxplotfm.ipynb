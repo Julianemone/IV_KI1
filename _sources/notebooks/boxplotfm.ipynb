{
 "cells": [
  {
   "cell_type": "code",
   "execution_count": 2,
   "metadata": {},
   "outputs": [],
   "source": [
    "import pandas as pd\n",
    "import plotly.express as px\n",
    "import plotly.graph_objs as go\n",
    "from plotly.subplots import make_subplots"
   ]
  },
  {
   "cell_type": "code",
   "execution_count": 3,
   "metadata": {},
   "outputs": [],
   "source": [
    "arbeidsmarkt = pd.read_csv(\"../data/arbeidsmarkt.csv\", sep=';')\n",
    "uurloon = pd.read_csv(\"../data/uurloon.csv\", sep=';')\n",
    "uurloon['Uurloon werknemers na verlaten ho (euro)']  = pd.to_numeric(uurloon['Uurloon werknemers na verlaten ho (euro)'] , errors='coerce')\n",
    "arbeidsmarkt['Uitstromers ho (aantal)']  = pd.to_numeric(arbeidsmarkt['Uitstromers ho (aantal)'] , errors='coerce')\n",
    "arbeidsmarkt.fillna(0, inplace = True)"
   ]
  },
  {
   "cell_type": "code",
   "execution_count": 4,
   "metadata": {},
   "outputs": [
    {
     "data": {
      "application/vnd.plotly.v1+json": {
       "config": {
        "plotlyServerURL": "https://plot.ly"
       },
       "data": [
        {
         "name": "Male",
         "type": "box",
         "y": [
          18.18,
          19.08,
          20.58,
          21.36,
          22.92,
          24.14,
          14.54,
          16.1,
          17.71,
          19.18,
          20.94,
          22.44,
          null,
          null,
          null,
          null,
          null,
          null,
          15.32,
          16.59,
          18.43,
          20.22,
          22.22,
          23.8,
          17.14,
          18.93,
          20.56,
          22,
          23.46,
          24.93,
          13.99,
          15.33,
          17.16,
          19.04,
          20.95,
          22.73,
          null,
          null,
          null,
          null,
          null,
          null,
          14.51,
          16.37,
          18.28,
          19.84,
          21.37,
          22.92,
          12.18,
          13.27,
          14.95,
          16.55,
          17.96,
          19.69,
          null,
          null,
          null,
          null,
          null,
          null,
          null,
          null,
          null,
          null,
          null,
          null,
          null,
          null,
          null,
          null,
          null,
          null,
          null,
          null,
          null,
          null,
          null,
          null,
          null,
          null,
          null,
          null,
          null,
          null,
          null,
          null,
          null,
          null,
          null,
          null,
          null,
          null,
          null,
          null,
          null,
          null,
          null,
          null,
          null,
          null,
          null,
          null,
          null,
          null,
          null,
          null,
          null,
          null,
          14.42,
          16.37,
          18.08,
          21.51,
          22.18,
          24.52,
          null,
          null,
          null,
          null,
          null,
          null,
          null,
          null,
          null,
          null,
          null,
          null,
          12.26,
          15.22,
          16.49,
          17.92,
          20.21,
          21.78,
          13.91,
          16.47,
          18.76,
          20.8,
          22.56,
          24.72,
          14.86,
          17.82,
          19.87,
          21.57,
          24.29,
          26.67,
          13.95,
          18.72,
          20.73,
          23.53,
          25.34,
          26.2,
          13.75,
          16.41,
          18.31,
          20.76,
          23.62,
          25.6,
          13.62,
          16.28,
          18.63,
          21.08,
          23.46,
          26.3,
          12.63,
          15.37,
          17.26,
          20,
          22.06,
          24.12,
          13.27,
          14.55,
          16.05,
          17.48,
          19.53,
          21.09,
          11.57,
          13.06,
          16.14,
          17.93,
          19.62,
          21.99,
          null,
          null,
          null,
          null,
          null,
          null,
          15.91,
          18.11,
          19.43,
          20.81,
          22.81,
          25.06,
          16.62,
          18.16,
          20.37,
          22.42,
          25.34,
          28.07,
          17.72,
          19.04,
          21.12,
          23.41,
          25.85,
          28.51,
          16.29,
          18.35,
          20.32,
          22.42,
          24.71,
          27.51,
          17.12,
          18.38,
          21.13,
          23.6,
          26.49,
          29.67,
          16.92,
          18.89,
          20.98,
          23.48,
          26.84,
          29.5,
          15.34,
          17.7,
          19.71,
          22.3,
          25.17,
          27.41,
          14.84,
          16.38,
          18.74,
          20.78,
          22.93,
          24.73,
          null,
          null,
          null,
          null,
          null,
          null
         ]
        },
        {
         "name": "Female",
         "type": "box",
         "y": [
          17.81,
          18.34,
          19.85,
          20.4,
          22.13,
          23.35,
          13.57,
          15.36,
          16.75,
          17.95,
          19.54,
          20.69,
          null,
          null,
          null,
          null,
          null,
          null,
          13.96,
          15.28,
          16.86,
          18.44,
          20.08,
          21.4,
          17.08,
          18.93,
          20.6,
          21.67,
          23.73,
          25.09,
          13.21,
          14.5,
          16.24,
          17.74,
          19.34,
          20.84,
          null,
          null,
          null,
          null,
          null,
          null,
          14.47,
          16.24,
          18.21,
          19.51,
          21.08,
          22.24,
          11.92,
          12.57,
          13.84,
          14.96,
          16.48,
          18.44,
          null,
          null,
          null,
          null,
          null,
          null,
          17.97,
          18.73,
          20.43,
          21.01,
          22.8,
          23.83,
          null,
          null,
          null,
          null,
          null,
          null,
          null,
          null,
          null,
          null,
          null,
          null,
          null,
          null,
          null,
          null,
          null,
          null,
          null,
          null,
          null,
          null,
          null,
          null,
          null,
          null,
          null,
          null,
          null,
          null,
          null,
          null,
          null,
          null,
          null,
          null,
          null,
          null,
          null,
          null,
          null,
          null,
          13.83,
          15.75,
          17.33,
          19.81,
          21.76,
          24.26,
          null,
          null,
          null,
          null,
          null,
          null,
          null,
          null,
          null,
          null,
          null,
          null,
          11.85,
          15.13,
          16.2,
          18.4,
          20.63,
          22.23,
          12.46,
          15.48,
          18.24,
          20.18,
          21.66,
          23.77,
          12.68,
          18.37,
          20.34,
          21.68,
          24.28,
          26.78,
          13.81,
          20.13,
          22.84,
          23.73,
          25.34,
          26.79,
          11.93,
          16.06,
          17.87,
          20.51,
          22.82,
          25.29,
          12.33,
          16.01,
          19.18,
          20.8,
          23.56,
          25.79,
          11.81,
          15.14,
          17.85,
          19.97,
          22.1,
          23.84,
          12.61,
          14.09,
          15.78,
          17.4,
          19.52,
          20.82,
          10.72,
          13.89,
          15.73,
          17.38,
          19.78,
          22.38,
          null,
          null,
          null,
          null,
          null,
          null,
          15.34,
          17.88,
          19.37,
          20.8,
          22.51,
          24.09,
          16.21,
          18.11,
          19.78,
          21.65,
          23.68,
          26.24,
          17.41,
          18.73,
          20.57,
          22.69,
          25.27,
          27.53,
          16.21,
          18.75,
          20.37,
          22.42,
          24.35,
          26.58,
          16.32,
          18.11,
          20.37,
          23.11,
          25.47,
          28.45,
          16.5,
          18.11,
          20.37,
          22.87,
          25.87,
          28.16,
          15.61,
          18.12,
          20.37,
          22.64,
          25.16,
          27.15,
          14.3,
          15.91,
          18.23,
          19.93,
          21.85,
          23.7,
          12.09,
          17.38,
          18.75,
          21.75,
          23.01,
          25.46
         ]
        }
       ],
       "layout": {
        "height": 600,
        "template": {
         "data": {
          "bar": [
           {
            "error_x": {
             "color": "#2a3f5f"
            },
            "error_y": {
             "color": "#2a3f5f"
            },
            "marker": {
             "line": {
              "color": "#E5ECF6",
              "width": 0.5
             },
             "pattern": {
              "fillmode": "overlay",
              "size": 10,
              "solidity": 0.2
             }
            },
            "type": "bar"
           }
          ],
          "barpolar": [
           {
            "marker": {
             "line": {
              "color": "#E5ECF6",
              "width": 0.5
             },
             "pattern": {
              "fillmode": "overlay",
              "size": 10,
              "solidity": 0.2
             }
            },
            "type": "barpolar"
           }
          ],
          "carpet": [
           {
            "aaxis": {
             "endlinecolor": "#2a3f5f",
             "gridcolor": "white",
             "linecolor": "white",
             "minorgridcolor": "white",
             "startlinecolor": "#2a3f5f"
            },
            "baxis": {
             "endlinecolor": "#2a3f5f",
             "gridcolor": "white",
             "linecolor": "white",
             "minorgridcolor": "white",
             "startlinecolor": "#2a3f5f"
            },
            "type": "carpet"
           }
          ],
          "choropleth": [
           {
            "colorbar": {
             "outlinewidth": 0,
             "ticks": ""
            },
            "type": "choropleth"
           }
          ],
          "contour": [
           {
            "colorbar": {
             "outlinewidth": 0,
             "ticks": ""
            },
            "colorscale": [
             [
              0,
              "#0d0887"
             ],
             [
              0.1111111111111111,
              "#46039f"
             ],
             [
              0.2222222222222222,
              "#7201a8"
             ],
             [
              0.3333333333333333,
              "#9c179e"
             ],
             [
              0.4444444444444444,
              "#bd3786"
             ],
             [
              0.5555555555555556,
              "#d8576b"
             ],
             [
              0.6666666666666666,
              "#ed7953"
             ],
             [
              0.7777777777777778,
              "#fb9f3a"
             ],
             [
              0.8888888888888888,
              "#fdca26"
             ],
             [
              1,
              "#f0f921"
             ]
            ],
            "type": "contour"
           }
          ],
          "contourcarpet": [
           {
            "colorbar": {
             "outlinewidth": 0,
             "ticks": ""
            },
            "type": "contourcarpet"
           }
          ],
          "heatmap": [
           {
            "colorbar": {
             "outlinewidth": 0,
             "ticks": ""
            },
            "colorscale": [
             [
              0,
              "#0d0887"
             ],
             [
              0.1111111111111111,
              "#46039f"
             ],
             [
              0.2222222222222222,
              "#7201a8"
             ],
             [
              0.3333333333333333,
              "#9c179e"
             ],
             [
              0.4444444444444444,
              "#bd3786"
             ],
             [
              0.5555555555555556,
              "#d8576b"
             ],
             [
              0.6666666666666666,
              "#ed7953"
             ],
             [
              0.7777777777777778,
              "#fb9f3a"
             ],
             [
              0.8888888888888888,
              "#fdca26"
             ],
             [
              1,
              "#f0f921"
             ]
            ],
            "type": "heatmap"
           }
          ],
          "heatmapgl": [
           {
            "colorbar": {
             "outlinewidth": 0,
             "ticks": ""
            },
            "colorscale": [
             [
              0,
              "#0d0887"
             ],
             [
              0.1111111111111111,
              "#46039f"
             ],
             [
              0.2222222222222222,
              "#7201a8"
             ],
             [
              0.3333333333333333,
              "#9c179e"
             ],
             [
              0.4444444444444444,
              "#bd3786"
             ],
             [
              0.5555555555555556,
              "#d8576b"
             ],
             [
              0.6666666666666666,
              "#ed7953"
             ],
             [
              0.7777777777777778,
              "#fb9f3a"
             ],
             [
              0.8888888888888888,
              "#fdca26"
             ],
             [
              1,
              "#f0f921"
             ]
            ],
            "type": "heatmapgl"
           }
          ],
          "histogram": [
           {
            "marker": {
             "pattern": {
              "fillmode": "overlay",
              "size": 10,
              "solidity": 0.2
             }
            },
            "type": "histogram"
           }
          ],
          "histogram2d": [
           {
            "colorbar": {
             "outlinewidth": 0,
             "ticks": ""
            },
            "colorscale": [
             [
              0,
              "#0d0887"
             ],
             [
              0.1111111111111111,
              "#46039f"
             ],
             [
              0.2222222222222222,
              "#7201a8"
             ],
             [
              0.3333333333333333,
              "#9c179e"
             ],
             [
              0.4444444444444444,
              "#bd3786"
             ],
             [
              0.5555555555555556,
              "#d8576b"
             ],
             [
              0.6666666666666666,
              "#ed7953"
             ],
             [
              0.7777777777777778,
              "#fb9f3a"
             ],
             [
              0.8888888888888888,
              "#fdca26"
             ],
             [
              1,
              "#f0f921"
             ]
            ],
            "type": "histogram2d"
           }
          ],
          "histogram2dcontour": [
           {
            "colorbar": {
             "outlinewidth": 0,
             "ticks": ""
            },
            "colorscale": [
             [
              0,
              "#0d0887"
             ],
             [
              0.1111111111111111,
              "#46039f"
             ],
             [
              0.2222222222222222,
              "#7201a8"
             ],
             [
              0.3333333333333333,
              "#9c179e"
             ],
             [
              0.4444444444444444,
              "#bd3786"
             ],
             [
              0.5555555555555556,
              "#d8576b"
             ],
             [
              0.6666666666666666,
              "#ed7953"
             ],
             [
              0.7777777777777778,
              "#fb9f3a"
             ],
             [
              0.8888888888888888,
              "#fdca26"
             ],
             [
              1,
              "#f0f921"
             ]
            ],
            "type": "histogram2dcontour"
           }
          ],
          "mesh3d": [
           {
            "colorbar": {
             "outlinewidth": 0,
             "ticks": ""
            },
            "type": "mesh3d"
           }
          ],
          "parcoords": [
           {
            "line": {
             "colorbar": {
              "outlinewidth": 0,
              "ticks": ""
             }
            },
            "type": "parcoords"
           }
          ],
          "pie": [
           {
            "automargin": true,
            "type": "pie"
           }
          ],
          "scatter": [
           {
            "fillpattern": {
             "fillmode": "overlay",
             "size": 10,
             "solidity": 0.2
            },
            "type": "scatter"
           }
          ],
          "scatter3d": [
           {
            "line": {
             "colorbar": {
              "outlinewidth": 0,
              "ticks": ""
             }
            },
            "marker": {
             "colorbar": {
              "outlinewidth": 0,
              "ticks": ""
             }
            },
            "type": "scatter3d"
           }
          ],
          "scattercarpet": [
           {
            "marker": {
             "colorbar": {
              "outlinewidth": 0,
              "ticks": ""
             }
            },
            "type": "scattercarpet"
           }
          ],
          "scattergeo": [
           {
            "marker": {
             "colorbar": {
              "outlinewidth": 0,
              "ticks": ""
             }
            },
            "type": "scattergeo"
           }
          ],
          "scattergl": [
           {
            "marker": {
             "colorbar": {
              "outlinewidth": 0,
              "ticks": ""
             }
            },
            "type": "scattergl"
           }
          ],
          "scattermapbox": [
           {
            "marker": {
             "colorbar": {
              "outlinewidth": 0,
              "ticks": ""
             }
            },
            "type": "scattermapbox"
           }
          ],
          "scatterpolar": [
           {
            "marker": {
             "colorbar": {
              "outlinewidth": 0,
              "ticks": ""
             }
            },
            "type": "scatterpolar"
           }
          ],
          "scatterpolargl": [
           {
            "marker": {
             "colorbar": {
              "outlinewidth": 0,
              "ticks": ""
             }
            },
            "type": "scatterpolargl"
           }
          ],
          "scatterternary": [
           {
            "marker": {
             "colorbar": {
              "outlinewidth": 0,
              "ticks": ""
             }
            },
            "type": "scatterternary"
           }
          ],
          "surface": [
           {
            "colorbar": {
             "outlinewidth": 0,
             "ticks": ""
            },
            "colorscale": [
             [
              0,
              "#0d0887"
             ],
             [
              0.1111111111111111,
              "#46039f"
             ],
             [
              0.2222222222222222,
              "#7201a8"
             ],
             [
              0.3333333333333333,
              "#9c179e"
             ],
             [
              0.4444444444444444,
              "#bd3786"
             ],
             [
              0.5555555555555556,
              "#d8576b"
             ],
             [
              0.6666666666666666,
              "#ed7953"
             ],
             [
              0.7777777777777778,
              "#fb9f3a"
             ],
             [
              0.8888888888888888,
              "#fdca26"
             ],
             [
              1,
              "#f0f921"
             ]
            ],
            "type": "surface"
           }
          ],
          "table": [
           {
            "cells": {
             "fill": {
              "color": "#EBF0F8"
             },
             "line": {
              "color": "white"
             }
            },
            "header": {
             "fill": {
              "color": "#C8D4E3"
             },
             "line": {
              "color": "white"
             }
            },
            "type": "table"
           }
          ]
         },
         "layout": {
          "annotationdefaults": {
           "arrowcolor": "#2a3f5f",
           "arrowhead": 0,
           "arrowwidth": 1
          },
          "autotypenumbers": "strict",
          "coloraxis": {
           "colorbar": {
            "outlinewidth": 0,
            "ticks": ""
           }
          },
          "colorscale": {
           "diverging": [
            [
             0,
             "#8e0152"
            ],
            [
             0.1,
             "#c51b7d"
            ],
            [
             0.2,
             "#de77ae"
            ],
            [
             0.3,
             "#f1b6da"
            ],
            [
             0.4,
             "#fde0ef"
            ],
            [
             0.5,
             "#f7f7f7"
            ],
            [
             0.6,
             "#e6f5d0"
            ],
            [
             0.7,
             "#b8e186"
            ],
            [
             0.8,
             "#7fbc41"
            ],
            [
             0.9,
             "#4d9221"
            ],
            [
             1,
             "#276419"
            ]
           ],
           "sequential": [
            [
             0,
             "#0d0887"
            ],
            [
             0.1111111111111111,
             "#46039f"
            ],
            [
             0.2222222222222222,
             "#7201a8"
            ],
            [
             0.3333333333333333,
             "#9c179e"
            ],
            [
             0.4444444444444444,
             "#bd3786"
            ],
            [
             0.5555555555555556,
             "#d8576b"
            ],
            [
             0.6666666666666666,
             "#ed7953"
            ],
            [
             0.7777777777777778,
             "#fb9f3a"
            ],
            [
             0.8888888888888888,
             "#fdca26"
            ],
            [
             1,
             "#f0f921"
            ]
           ],
           "sequentialminus": [
            [
             0,
             "#0d0887"
            ],
            [
             0.1111111111111111,
             "#46039f"
            ],
            [
             0.2222222222222222,
             "#7201a8"
            ],
            [
             0.3333333333333333,
             "#9c179e"
            ],
            [
             0.4444444444444444,
             "#bd3786"
            ],
            [
             0.5555555555555556,
             "#d8576b"
            ],
            [
             0.6666666666666666,
             "#ed7953"
            ],
            [
             0.7777777777777778,
             "#fb9f3a"
            ],
            [
             0.8888888888888888,
             "#fdca26"
            ],
            [
             1,
             "#f0f921"
            ]
           ]
          },
          "colorway": [
           "#636efa",
           "#EF553B",
           "#00cc96",
           "#ab63fa",
           "#FFA15A",
           "#19d3f3",
           "#FF6692",
           "#B6E880",
           "#FF97FF",
           "#FECB52"
          ],
          "font": {
           "color": "#2a3f5f"
          },
          "geo": {
           "bgcolor": "white",
           "lakecolor": "white",
           "landcolor": "#E5ECF6",
           "showlakes": true,
           "showland": true,
           "subunitcolor": "white"
          },
          "hoverlabel": {
           "align": "left"
          },
          "hovermode": "closest",
          "mapbox": {
           "style": "light"
          },
          "paper_bgcolor": "white",
          "plot_bgcolor": "#E5ECF6",
          "polar": {
           "angularaxis": {
            "gridcolor": "white",
            "linecolor": "white",
            "ticks": ""
           },
           "bgcolor": "#E5ECF6",
           "radialaxis": {
            "gridcolor": "white",
            "linecolor": "white",
            "ticks": ""
           }
          },
          "scene": {
           "xaxis": {
            "backgroundcolor": "#E5ECF6",
            "gridcolor": "white",
            "gridwidth": 2,
            "linecolor": "white",
            "showbackground": true,
            "ticks": "",
            "zerolinecolor": "white"
           },
           "yaxis": {
            "backgroundcolor": "#E5ECF6",
            "gridcolor": "white",
            "gridwidth": 2,
            "linecolor": "white",
            "showbackground": true,
            "ticks": "",
            "zerolinecolor": "white"
           },
           "zaxis": {
            "backgroundcolor": "#E5ECF6",
            "gridcolor": "white",
            "gridwidth": 2,
            "linecolor": "white",
            "showbackground": true,
            "ticks": "",
            "zerolinecolor": "white"
           }
          },
          "shapedefaults": {
           "line": {
            "color": "#2a3f5f"
           }
          },
          "ternary": {
           "aaxis": {
            "gridcolor": "white",
            "linecolor": "white",
            "ticks": ""
           },
           "baxis": {
            "gridcolor": "white",
            "linecolor": "white",
            "ticks": ""
           },
           "bgcolor": "#E5ECF6",
           "caxis": {
            "gridcolor": "white",
            "linecolor": "white",
            "ticks": ""
           }
          },
          "title": {
           "x": 0.05
          },
          "xaxis": {
           "automargin": true,
           "gridcolor": "white",
           "linecolor": "white",
           "ticks": "",
           "title": {
            "standoff": 15
           },
           "zerolinecolor": "white",
           "zerolinewidth": 2
          },
          "yaxis": {
           "automargin": true,
           "gridcolor": "white",
           "linecolor": "white",
           "ticks": "",
           "title": {
            "standoff": 15
           },
           "zerolinecolor": "white",
           "zerolinewidth": 2
          }
         }
        },
        "title": {
         "text": "Hourly wages for male and female"
        },
        "updatemenus": [
         {
          "buttons": [
           {
            "args": [
             {
              "y": [
               [
                18.18,
                19.08,
                20.58,
                21.36,
                22.92,
                24.14,
                14.54,
                16.1,
                17.71,
                19.18,
                20.94,
                22.44,
                null,
                null,
                null,
                null,
                null,
                null,
                15.32,
                16.59,
                18.43,
                20.22,
                22.22,
                23.8,
                17.14,
                18.93,
                20.56,
                22,
                23.46,
                24.93,
                13.99,
                15.33,
                17.16,
                19.04,
                20.95,
                22.73,
                null,
                null,
                null,
                null,
                null,
                null,
                14.51,
                16.37,
                18.28,
                19.84,
                21.37,
                22.92,
                12.18,
                13.27,
                14.95,
                16.55,
                17.96,
                19.69,
                null,
                null,
                null,
                null,
                null,
                null,
                null,
                null,
                null,
                null,
                null,
                null,
                null,
                null,
                null,
                null,
                null,
                null,
                null,
                null,
                null,
                null,
                null,
                null,
                null,
                null,
                null,
                null,
                null,
                null,
                null,
                null,
                null,
                null,
                null,
                null,
                null,
                null,
                null,
                null,
                null,
                null,
                null,
                null,
                null,
                null,
                null,
                null,
                null,
                null,
                null,
                null,
                null,
                null,
                14.42,
                16.37,
                18.08,
                21.51,
                22.18,
                24.52,
                null,
                null,
                null,
                null,
                null,
                null,
                null,
                null,
                null,
                null,
                null,
                null,
                12.26,
                15.22,
                16.49,
                17.92,
                20.21,
                21.78,
                13.91,
                16.47,
                18.76,
                20.8,
                22.56,
                24.72,
                14.86,
                17.82,
                19.87,
                21.57,
                24.29,
                26.67,
                13.95,
                18.72,
                20.73,
                23.53,
                25.34,
                26.2,
                13.75,
                16.41,
                18.31,
                20.76,
                23.62,
                25.6,
                13.62,
                16.28,
                18.63,
                21.08,
                23.46,
                26.3,
                12.63,
                15.37,
                17.26,
                20,
                22.06,
                24.12,
                13.27,
                14.55,
                16.05,
                17.48,
                19.53,
                21.09,
                11.57,
                13.06,
                16.14,
                17.93,
                19.62,
                21.99,
                null,
                null,
                null,
                null,
                null,
                null,
                15.91,
                18.11,
                19.43,
                20.81,
                22.81,
                25.06,
                16.62,
                18.16,
                20.37,
                22.42,
                25.34,
                28.07,
                17.72,
                19.04,
                21.12,
                23.41,
                25.85,
                28.51,
                16.29,
                18.35,
                20.32,
                22.42,
                24.71,
                27.51,
                17.12,
                18.38,
                21.13,
                23.6,
                26.49,
                29.67,
                16.92,
                18.89,
                20.98,
                23.48,
                26.84,
                29.5,
                15.34,
                17.7,
                19.71,
                22.3,
                25.17,
                27.41,
                14.84,
                16.38,
                18.74,
                20.78,
                22.93,
                24.73,
                null,
                null,
                null,
                null,
                null,
                null
               ],
               [
                17.81,
                18.34,
                19.85,
                20.4,
                22.13,
                23.35,
                13.57,
                15.36,
                16.75,
                17.95,
                19.54,
                20.69,
                null,
                null,
                null,
                null,
                null,
                null,
                13.96,
                15.28,
                16.86,
                18.44,
                20.08,
                21.4,
                17.08,
                18.93,
                20.6,
                21.67,
                23.73,
                25.09,
                13.21,
                14.5,
                16.24,
                17.74,
                19.34,
                20.84,
                null,
                null,
                null,
                null,
                null,
                null,
                14.47,
                16.24,
                18.21,
                19.51,
                21.08,
                22.24,
                11.92,
                12.57,
                13.84,
                14.96,
                16.48,
                18.44,
                null,
                null,
                null,
                null,
                null,
                null,
                17.97,
                18.73,
                20.43,
                21.01,
                22.8,
                23.83,
                null,
                null,
                null,
                null,
                null,
                null,
                null,
                null,
                null,
                null,
                null,
                null,
                null,
                null,
                null,
                null,
                null,
                null,
                null,
                null,
                null,
                null,
                null,
                null,
                null,
                null,
                null,
                null,
                null,
                null,
                null,
                null,
                null,
                null,
                null,
                null,
                null,
                null,
                null,
                null,
                null,
                null,
                13.83,
                15.75,
                17.33,
                19.81,
                21.76,
                24.26,
                null,
                null,
                null,
                null,
                null,
                null,
                null,
                null,
                null,
                null,
                null,
                null,
                11.85,
                15.13,
                16.2,
                18.4,
                20.63,
                22.23,
                12.46,
                15.48,
                18.24,
                20.18,
                21.66,
                23.77,
                12.68,
                18.37,
                20.34,
                21.68,
                24.28,
                26.78,
                13.81,
                20.13,
                22.84,
                23.73,
                25.34,
                26.79,
                11.93,
                16.06,
                17.87,
                20.51,
                22.82,
                25.29,
                12.33,
                16.01,
                19.18,
                20.8,
                23.56,
                25.79,
                11.81,
                15.14,
                17.85,
                19.97,
                22.1,
                23.84,
                12.61,
                14.09,
                15.78,
                17.4,
                19.52,
                20.82,
                10.72,
                13.89,
                15.73,
                17.38,
                19.78,
                22.38,
                null,
                null,
                null,
                null,
                null,
                null,
                15.34,
                17.88,
                19.37,
                20.8,
                22.51,
                24.09,
                16.21,
                18.11,
                19.78,
                21.65,
                23.68,
                26.24,
                17.41,
                18.73,
                20.57,
                22.69,
                25.27,
                27.53,
                16.21,
                18.75,
                20.37,
                22.42,
                24.35,
                26.58,
                16.32,
                18.11,
                20.37,
                23.11,
                25.47,
                28.45,
                16.5,
                18.11,
                20.37,
                22.87,
                25.87,
                28.16,
                15.61,
                18.12,
                20.37,
                22.64,
                25.16,
                27.15,
                14.3,
                15.91,
                18.23,
                19.93,
                21.85,
                23.7,
                12.09,
                17.38,
                18.75,
                21.75,
                23.01,
                25.46
               ]
              ]
             },
             {
              "title": "Hourly wages for male and female",
              "yaxis": {
               "range": [
                8,
                32
               ],
               "type": "linear"
              }
             }
            ],
            "label": "Total",
            "method": "update"
           },
           {
            "args": [
             {
              "y": [
               [
                18.18,
                19.08,
                20.58,
                21.36,
                22.92,
                24.14,
                null,
                null,
                null,
                null,
                null,
                null,
                null,
                null,
                null,
                null,
                null,
                null,
                null,
                null,
                null,
                null,
                null,
                null
               ],
               [
                17.81,
                18.34,
                19.85,
                20.4,
                22.13,
                23.35,
                17.97,
                18.73,
                20.43,
                21.01,
                22.8,
                23.83,
                null,
                null,
                null,
                null,
                null,
                null,
                null,
                null,
                null,
                null,
                null,
                null
               ]
              ]
             },
             {
              "title": "Hourly wages for male and female in Education studies",
              "yaxis": {
               "range": [
                8,
                32
               ],
               "type": "linear"
              }
             }
            ],
            "label": "Education",
            "method": "update"
           },
           {
            "args": [
             {
              "y": [
               [
                14.54,
                16.1,
                17.71,
                19.18,
                20.94,
                22.44,
                null,
                null,
                null,
                null,
                null,
                null,
                12.26,
                15.22,
                16.49,
                17.92,
                20.21,
                21.78,
                15.91,
                18.11,
                19.43,
                20.81,
                22.81,
                25.06
               ],
               [
                13.57,
                15.36,
                16.75,
                17.95,
                19.54,
                20.69,
                null,
                null,
                null,
                null,
                null,
                null,
                11.85,
                15.13,
                16.2,
                18.4,
                20.63,
                22.23,
                15.34,
                17.88,
                19.37,
                20.8,
                22.51,
                24.09
               ]
              ]
             },
             {
              "title": "Hourly wages for male and female in Agriculture studies",
              "yaxis": {
               "range": [
                8,
                32
               ],
               "type": "linear"
              }
             }
            ],
            "label": "Agriculture and natural environment",
            "method": "update"
           },
           {
            "args": [
             {
              "y": [
               [
                null,
                null,
                null,
                null,
                null,
                null,
                null,
                null,
                null,
                null,
                null,
                null,
                13.91,
                16.47,
                18.76,
                20.8,
                22.56,
                24.72,
                16.62,
                18.16,
                20.37,
                22.42,
                25.34,
                28.07
               ],
               [
                null,
                null,
                null,
                null,
                null,
                null,
                null,
                null,
                null,
                null,
                null,
                null,
                12.46,
                15.48,
                18.24,
                20.18,
                21.66,
                23.77,
                16.21,
                18.11,
                19.78,
                21.65,
                23.68,
                26.24
               ]
              ]
             },
             {
              "title": "Hourly wages for male and female in Nature studies",
              "yaxis": {
               "range": [
                8,
                32
               ],
               "type": "linear"
              }
             }
            ],
            "label": "Nature",
            "method": "update"
           },
           {
            "args": [
             {
              "y": [
               [
                15.32,
                16.59,
                18.43,
                20.22,
                22.22,
                23.8,
                null,
                null,
                null,
                null,
                null,
                null,
                14.86,
                17.82,
                19.87,
                21.57,
                24.29,
                26.67,
                17.72,
                19.04,
                21.12,
                23.41,
                25.85,
                28.51
               ],
               [
                13.96,
                15.28,
                16.86,
                18.44,
                20.08,
                21.4,
                null,
                null,
                null,
                null,
                null,
                null,
                12.68,
                18.37,
                20.34,
                21.68,
                24.28,
                26.78,
                17.41,
                18.73,
                20.57,
                22.69,
                25.27,
                27.53
               ]
              ]
             },
             {
              "title": "Hourly wages for male and female in Technical studies",
              "yaxis": {
               "range": [
                8,
                32
               ],
               "type": "linear"
              }
             }
            ],
            "label": "Technics",
            "method": "update"
           },
           {
            "args": [
             {
              "y": [
               [
                17.14,
                18.93,
                20.56,
                22,
                23.46,
                24.93,
                null,
                null,
                null,
                null,
                null,
                null,
                13.95,
                18.72,
                20.73,
                23.53,
                25.34,
                26.2,
                16.29,
                18.35,
                20.32,
                22.42,
                24.71,
                27.51
               ],
               [
                17.08,
                18.93,
                20.6,
                21.67,
                23.73,
                25.09,
                null,
                null,
                null,
                null,
                null,
                null,
                13.81,
                20.13,
                22.84,
                23.73,
                25.34,
                26.79,
                16.21,
                18.75,
                20.37,
                22.42,
                24.35,
                26.58
               ]
              ]
             },
             {
              "title": "Hourly wages for male and female in Healthcare studies",
              "yaxis": {
               "range": [
                8,
                32
               ],
               "type": "linear"
              }
             }
            ],
            "label": "Healthcare",
            "method": "update"
           },
           {
            "args": [
             {
              "y": [
               [
                13.99,
                15.33,
                17.16,
                19.04,
                20.95,
                22.73,
                null,
                null,
                null,
                null,
                null,
                null,
                13.75,
                16.41,
                18.31,
                20.76,
                23.62,
                25.6,
                17.12,
                18.38,
                21.13,
                23.6,
                26.49,
                29.67
               ],
               [
                13.21,
                14.5,
                16.24,
                17.74,
                19.34,
                20.84,
                null,
                null,
                null,
                null,
                null,
                null,
                11.93,
                16.06,
                17.87,
                20.51,
                22.82,
                25.29,
                16.32,
                18.11,
                20.37,
                23.11,
                25.47,
                28.45
               ]
              ]
             },
             {
              "title": "Hourly wages for male and female in Economics studies",
              "yaxis": {
               "range": [
                8,
                32
               ],
               "type": "linear"
              }
             }
            ],
            "label": "Economics",
            "method": "update"
           },
           {
            "args": [
             {
              "y": [
               [
                null,
                null,
                null,
                null,
                null,
                null,
                null,
                null,
                null,
                null,
                null,
                null,
                13.62,
                16.28,
                18.63,
                21.08,
                23.46,
                26.3,
                16.92,
                18.89,
                20.98,
                23.48,
                26.84,
                29.5
               ],
               [
                null,
                null,
                null,
                null,
                null,
                null,
                null,
                null,
                null,
                null,
                null,
                null,
                12.33,
                16.01,
                19.18,
                20.8,
                23.56,
                25.79,
                16.5,
                18.11,
                20.37,
                22.87,
                25.87,
                28.16
               ]
              ]
             },
             {
              "title": "Hourly wages for male and female in Law studies",
              "yaxis": {
               "range": [
                8,
                32
               ],
               "type": "linear"
              }
             }
            ],
            "label": "Law",
            "method": "update"
           },
           {
            "args": [
             {
              "y": [
               [
                14.51,
                16.37,
                18.28,
                19.84,
                21.37,
                22.92,
                null,
                null,
                null,
                null,
                null,
                null,
                12.63,
                15.37,
                17.26,
                20,
                22.06,
                24.12,
                15.34,
                17.7,
                19.71,
                22.3,
                25.17,
                27.41
               ],
               [
                14.47,
                16.24,
                18.21,
                19.51,
                21.08,
                22.24,
                null,
                null,
                null,
                null,
                null,
                null,
                11.81,
                15.14,
                17.85,
                19.97,
                22.1,
                23.84,
                15.61,
                18.12,
                20.37,
                22.64,
                25.16,
                27.15
               ]
              ]
             },
             {
              "title": "Hourly wages for male and female in Behaviour and Society studies",
              "yaxis": {
               "range": [
                8,
                32
               ],
               "type": "linear"
              }
             }
            ],
            "label": "Behaviour and Society",
            "method": "update"
           },
           {
            "args": [
             {
              "y": [
               [
                12.18,
                13.27,
                14.95,
                16.55,
                17.96,
                19.69,
                14.42,
                16.37,
                18.08,
                21.51,
                22.18,
                24.52,
                13.27,
                14.55,
                16.05,
                17.48,
                19.53,
                21.09,
                14.84,
                16.38,
                18.74,
                20.78,
                22.93,
                24.73
               ],
               [
                11.92,
                12.57,
                13.84,
                14.96,
                16.48,
                18.44,
                13.83,
                15.75,
                17.33,
                19.81,
                21.76,
                24.26,
                12.61,
                14.09,
                15.78,
                17.4,
                19.52,
                20.82,
                14.3,
                15.91,
                18.23,
                19.93,
                21.85,
                23.7
               ]
              ]
             },
             {
              "title": "Hourly wages for male and female in Language and culture studies",
              "yaxis": {
               "range": [
                8,
                32
               ],
               "type": "linear"
              }
             }
            ],
            "label": "Language and culture",
            "method": "update"
           },
           {
            "args": [
             {
              "y": [
               [
                null,
                null,
                null,
                null,
                null,
                null,
                null,
                null,
                null,
                null,
                null,
                null,
                11.57,
                13.06,
                16.14,
                17.93,
                19.62,
                21.99,
                null,
                null,
                null,
                null,
                null,
                null
               ],
               [
                null,
                null,
                null,
                null,
                null,
                null,
                null,
                null,
                null,
                null,
                null,
                null,
                10.72,
                13.89,
                15.73,
                17.38,
                19.78,
                22.38,
                12.09,
                17.38,
                18.75,
                21.75,
                23.01,
                25.46
               ]
              ]
             },
             {
              "title": "Hourly wages for male and female in Cross-sectoral studies",
              "yaxis": {
               "range": [
                8,
                32
               ],
               "type": "linear"
              }
             }
            ],
            "label": "Cross-sectoral",
            "method": "update"
           }
          ],
          "direction": "down",
          "showactive": true
         }
        ],
        "xaxis": {
         "title": {
          "text": "sex"
         }
        },
        "yaxis": {
         "range": [
          8,
          32
         ],
         "title": {
          "text": "Hourly pay"
         },
         "type": "linear"
        }
       }
      }
     },
     "metadata": {},
     "output_type": "display_data"
    }
   ],
   "source": [
    "Total_data_male = uurloon['Uurloon werknemers na verlaten ho (euro)'].loc[uurloon['Geslacht'] == 'Mannen']\n",
    "Total_data_female = uurloon['Uurloon werknemers na verlaten ho (euro)'].loc[uurloon['Geslacht'] == 'Vrouwen']\n",
    "\n",
    "Education_data_male = Total_data_male.loc[uurloon['Studierichting'] == 'Onderwijs']\n",
    "Education_data_female = Total_data_female.loc[uurloon['Studierichting'] == 'Onderwijs']\n",
    "\n",
    "Agriculture_data_male = Total_data_male.loc[uurloon['Studierichting'] == 'Landbouw en natuurlijke omgeving']\n",
    "Agriculture_data_female = Total_data_female.loc[uurloon['Studierichting'] == 'Landbouw en natuurlijke omgeving']\n",
    "\n",
    "Nature_data_male = Total_data_male.loc[uurloon['Studierichting'] == 'Natuur']\n",
    "Nature_data_female = Total_data_female.loc[uurloon['Studierichting'] == 'Natuur']\n",
    "\n",
    "Technology_data_male = Total_data_male.loc[uurloon['Studierichting'] == 'Techniek']\n",
    "Technology_data_female = Total_data_female.loc[uurloon['Studierichting'] == 'Techniek']\n",
    "\n",
    "Healthcare_data_male = Total_data_male.loc[uurloon['Studierichting'] == 'Gezondheidszorg']\n",
    "Healthcare_data_female = Total_data_female.loc[uurloon['Studierichting'] == 'Gezondheidszorg']\n",
    "\n",
    "Economy_data_male = Total_data_male.loc[uurloon['Studierichting'] == 'Economie']\n",
    "Economy_data_female = Total_data_female.loc[uurloon['Studierichting'] == 'Economie']\n",
    "\n",
    "Law_data_male = Total_data_male.loc[uurloon['Studierichting'] == 'Recht']\n",
    "Law_data_female = Total_data_female.loc[uurloon['Studierichting'] == 'Recht']\n",
    "\n",
    "Behaviour_data_male = Total_data_male.loc[uurloon['Studierichting'] == 'Gedrag en Maatschappij']\n",
    "Behaviour_data_female = Total_data_female.loc[uurloon['Studierichting'] == 'Gedrag en Maatschappij']\n",
    "\n",
    "Language_data_male = Total_data_male.loc[uurloon['Studierichting'] == 'Taal en cultuur']\n",
    "Language_data_female = Total_data_female.loc[uurloon['Studierichting'] == 'Taal en cultuur']\n",
    "\n",
    "Crosssectoral_data_male = Total_data_male.loc[uurloon['Studierichting'] == 'Sectoroverstijgend']\n",
    "Crosssectoral_data_female = Total_data_female.loc[uurloon['Studierichting'] == 'Sectoroverstijgend']\n",
    "\n",
    "fig = go.Figure()\n",
    "\n",
    "fig.add_trace(\n",
    "    go.Box(\n",
    "        y = Total_data_male,\n",
    "        name = 'Male'\n",
    "    )\n",
    ")\n",
    "fig.add_trace(\n",
    "    go.Box(\n",
    "        y = Total_data_female,\n",
    "        name = 'Female'\n",
    "    )\n",
    ")\n",
    "\n",
    "dropdown_buttons = [\n",
    "    {\n",
    "        'label': 'Total',\n",
    "        'method': 'update',\n",
    "        'args': [\n",
    "            {'y': [Total_data_male, Total_data_female]},\n",
    "            {'title': 'Hourly wages for male and female', 'yaxis': {'type': 'linear', 'range': [8, 32]}}\n",
    "        ]\n",
    "    },\n",
    "    {\n",
    "        'label': 'Education',\n",
    "        'method': 'update',\n",
    "        'args': [\n",
    "            {'y': [Education_data_male, Education_data_female]},\n",
    "            {'title': 'Hourly wages for male and female in Education studies', 'yaxis': {'type': 'linear', 'range': [8, 32]}}\n",
    "        ]\n",
    "    },\n",
    "    {\n",
    "        'label': 'Agriculture and natural environment',\n",
    "        'method': 'update',\n",
    "        'args': [\n",
    "            {'y': [Agriculture_data_male, Agriculture_data_female]},\n",
    "            {'title': 'Hourly wages for male and female in Agriculture studies', 'yaxis': {'type': 'linear', 'range': [8, 32]}}\n",
    "        ]\n",
    "    },\n",
    "    {\n",
    "        'label': 'Nature',\n",
    "        'method': 'update',\n",
    "        'args': [\n",
    "            {'y': [Nature_data_male, Nature_data_female]},\n",
    "            {'title': 'Hourly wages for male and female in Nature studies', 'yaxis': {'type': 'linear', 'range': [8, 32]}}\n",
    "        ]\n",
    "    },\n",
    "    {\n",
    "        'label': 'Technics',\n",
    "        'method': 'update',\n",
    "        'args': [\n",
    "            {'y': [Technology_data_male, Technology_data_female]},\n",
    "            {'title': 'Hourly wages for male and female in Technical studies', 'yaxis': {'type': 'linear', 'range': [8, 32]}}\n",
    "        ]\n",
    "    },\n",
    "    {\n",
    "        'label': 'Healthcare',\n",
    "        'method': 'update',\n",
    "        'args': [\n",
    "            {'y': [Healthcare_data_male, Healthcare_data_female]},\n",
    "            {'title': 'Hourly wages for male and female in Healthcare studies', 'yaxis': {'type': 'linear', 'range': [8, 32]}}\n",
    "        ]\n",
    "    },\n",
    "    {\n",
    "        'label': 'Economics',\n",
    "        'method': 'update',\n",
    "        'args': [\n",
    "            {'y': [Economy_data_male, Economy_data_female]},\n",
    "            {'title': 'Hourly wages for male and female in Economics studies', 'yaxis': {'type': 'linear', 'range': [8, 32]}}\n",
    "        ]\n",
    "    },\n",
    "    {\n",
    "        'label': 'Law',\n",
    "        'method': 'update',\n",
    "        'args': [\n",
    "            {'y': [Law_data_male, Law_data_female]},\n",
    "            {'title': 'Hourly wages for male and female in Law studies', 'yaxis': {'type': 'linear', 'range': [8, 32]}}\n",
    "        ]\n",
    "    },\n",
    "    {\n",
    "        'label': 'Behaviour and Society',\n",
    "        'method': 'update',\n",
    "        'args': [\n",
    "            {'y': [Behaviour_data_male, Behaviour_data_female]},\n",
    "            {'title': 'Hourly wages for male and female in Behaviour and Society studies', 'yaxis': {'type': 'linear', 'range': [8, 32]}}\n",
    "        ]\n",
    "    },\n",
    "    {\n",
    "        'label': 'Language and culture',\n",
    "        'method': 'update',\n",
    "        'args': [\n",
    "            {'y': [Language_data_male, Language_data_female]},\n",
    "            {'title': 'Hourly wages for male and female in Language and culture studies', 'yaxis': {'type': 'linear', 'range': [8, 32]}}\n",
    "        ]\n",
    "    },\n",
    "    {\n",
    "        'label': 'Cross-sectoral',\n",
    "        'method': 'update',\n",
    "        'args': [\n",
    "            {'y': [Crosssectoral_data_male, Crosssectoral_data_female]},\n",
    "            {'title': 'Hourly wages for male and female in Cross-sectoral studies', 'yaxis': {'type': 'linear', 'range': [8, 32]}}\n",
    "        ]\n",
    "    }\n",
    "]\n",
    "\n",
    "fig.update_layout(\n",
    "    yaxis=dict(type='linear', range = [8, 32]),\n",
    "    updatemenus=[\n",
    "        {\n",
    "            'buttons': dropdown_buttons,\n",
    "            'direction': 'down',\n",
    "            'showactive': True,\n",
    "        }\n",
    "    ]\n",
    ")\n",
    "\n",
    "fig.update_layout(\n",
    "    title = 'Hourly wages for male and female',\n",
    "    yaxis_title = \"Hourly pay\",\n",
    "    xaxis_title = \"sex\",\n",
    "    height = 600\n",
    ")\n",
    "\n",
    "fig.show()"
   ]
  }
 ],
 "metadata": {
  "kernelspec": {
   "display_name": "jupyterbook",
   "language": "python",
   "name": "python3"
  },
  "language_info": {
   "codemirror_mode": {
    "name": "ipython",
    "version": 3
   },
   "file_extension": ".py",
   "mimetype": "text/x-python",
   "name": "python",
   "nbconvert_exporter": "python",
   "pygments_lexer": "ipython3",
   "version": "3.10.14"
  }
 },
 "nbformat": 4,
 "nbformat_minor": 2
}
