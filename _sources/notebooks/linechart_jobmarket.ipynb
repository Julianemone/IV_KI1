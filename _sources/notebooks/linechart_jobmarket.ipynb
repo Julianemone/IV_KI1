{
 "cells": [
  {
   "cell_type": "code",
   "execution_count": 7,
   "metadata": {
    "id": "flsNQ0Wy-KaV"
   },
   "outputs": [],
   "source": [
    "import pandas as pd\n",
    "import plotly.express as px\n",
    "import plotly.graph_objs as go\n",
    "from plotly.subplots import make_subplots"
   ]
  },
  {
   "cell_type": "code",
   "execution_count": 8,
   "metadata": {
    "id": "5DWQl3BColm6"
   },
   "outputs": [],
   "source": [
    "arbeidsmarkt = pd.read_csv(\"../data/arbeidsmarkt.csv\", sep=';')\n",
    "uurloon = pd.read_csv(\"../data/uurloon.csv\", sep=';')\n",
    "uurloon['Uurloon werknemers na verlaten ho (euro)']  = pd.to_numeric(uurloon['Uurloon werknemers na verlaten ho (euro)'] , errors='coerce')\n",
    "arbeidsmarkt['Uitstromers ho (aantal)']  = pd.to_numeric(arbeidsmarkt['Uitstromers ho (aantal)'] , errors='coerce')\n",
    "arbeidsmarkt.fillna(0, inplace = True)\n",
    "\n",
    "peilmoment1 = arbeidsmarkt.loc[arbeidsmarkt['Peilmoment'] == 'Direct na verlaten onderwijs']"
   ]
  },
  {
   "cell_type": "code",
   "execution_count": 9,
   "metadata": {},
   "outputs": [],
   "source": [
    "total_counts_niveau = peilmoment1.groupby('Uitstromers ho met en zonder diploma')['Uitstromers ho (aantal)'].sum().reset_index()\n",
    "total_counts_niveau.rename(columns={'Uitstromers ho (aantal)': 'Total degree level'}, inplace=True)\n",
    "\n",
    "arbeidsmarkt = arbeidsmarkt.merge(total_counts_niveau, on='Uitstromers ho met en zonder diploma')\n",
    "\n",
    "total_counts = peilmoment1.groupby('Studierichting')['Uitstromers ho (aantal)'].sum().reset_index()\n",
    "total_counts.rename(columns={'Uitstromers ho (aantal)': 'Total studierichting'}, inplace=True)\n",
    "\n",
    "arbeidsmarkt = arbeidsmarkt.merge(total_counts, on='Studierichting')\n",
    "\n",
    "arbeidsmarkt['Percentage studierichting'] = arbeidsmarkt['Uitstromers ho (aantal)'] / arbeidsmarkt['Total studierichting'] * 100\n",
    "arbeidsmarkt['Percentage degree level'] = arbeidsmarkt['Uitstromers ho (aantal)'] / arbeidsmarkt['Total degree level'] * 100"
   ]
  },
  {
   "cell_type": "code",
   "execution_count": 19,
   "metadata": {
    "colab": {
     "base_uri": "https://localhost:8080/",
     "height": 617
    },
    "id": "Eo-YfqFBa1HL",
    "outputId": "3b8caea1-6ece-4301-ac81-dbc0b85497aa",
    "scrolled": false
   },
   "outputs": [
    {
     "data": {
      "application/vnd.plotly.v1+json": {
       "config": {
        "plotlyServerURL": "https://plot.ly"
       },
       "data": [
        {
         "mode": "lines",
         "name": "Hbo bachelor",
         "type": "scatter",
         "x": [
          0,
          1,
          2,
          3,
          4,
          5
         ],
         "y": [
          88.39851431068385,
          88.6169980336465,
          87.30609569587065,
          86.27922219794625,
          85.44898405068822,
          84.96831986017042
         ]
        },
        {
         "mode": "lines",
         "name": "Hbo master",
         "type": "scatter",
         "x": [
          0,
          1,
          2,
          3,
          4,
          5
         ],
         "y": [
          91.66666666666667,
          91.66666666666667,
          91.66666666666667,
          88.88888888888889,
          86.11111111111111,
          86.11111111111111
         ]
        },
        {
         "mode": "lines",
         "name": "Wo bachelor",
         "type": "scatter",
         "x": [
          0,
          1,
          2,
          3,
          4,
          5
         ],
         "y": [
          68.79049676025917,
          40.92872570194385,
          38.120950323974085,
          37.79697624190065,
          38.012958963282934,
          37.79697624190065
         ]
        },
        {
         "mode": "lines",
         "name": "Wo master",
         "type": "scatter",
         "x": [
          0,
          1,
          2,
          3,
          4,
          5
         ],
         "y": [
          83.0950378469302,
          91.79983179142137,
          91.71572750210261,
          91.37931034482757,
          90.91673675357443,
          90.66442388561816
         ]
        },
        {
         "mode": "lines",
         "name": "Economics",
         "type": "scatter",
         "x": [
          0,
          1,
          2,
          3,
          4,
          5
         ],
         "y": [
          85.52815262912983,
          86.45881805490926,
          85.99348534201954,
          85.80735225686365,
          85.20241973010702,
          85.5746859004188
         ]
        },
        {
         "mode": "lines",
         "name": "Agriculture",
         "type": "scatter",
         "x": [
          0,
          1,
          2,
          3,
          4,
          5
         ],
         "y": [
          78.24074074074073,
          84.72222222222223,
          83.33333333333333,
          83.79629629629629,
          83.79629629629629,
          81.48148148148148
         ]
        },
        {
         "mode": "lines",
         "name": "STEM",
         "type": "scatter",
         "x": [
          0,
          1,
          2,
          3,
          4,
          5
         ],
         "y": [
          84.08163265306123,
          88.40816326530613,
          87.83673469387755,
          87.34693877551021,
          87.0204081632653,
          87.26530612244898
         ]
        },
        {
         "mode": "lines",
         "name": "Language & culture",
         "type": "scatter",
         "x": [
          0,
          1,
          2,
          3,
          4,
          5
         ],
         "y": [
          77.36156351791531,
          77.0358306188925,
          75.8957654723127,
          74.9185667752443,
          73.7785016286645,
          73.77850162866449
         ]
        },
        {
         "mode": "lines",
         "name": "Education",
         "type": "scatter",
         "x": [
          0,
          1,
          2,
          3,
          4,
          5
         ],
         "y": [
          94.58413926499033,
          89.36170212765957,
          86.26692456479691,
          83.55899419729207,
          82.59187620889749,
          80.85106382978724
         ]
        },
        {
         "mode": "lines",
         "name": "Interdisciplinary",
         "type": "scatter",
         "x": [
          0,
          1,
          2,
          3,
          4,
          5
         ],
         "y": [
          60.714285714285715,
          32.14285714285714,
          32.14285714285714,
          35.714285714285715,
          37.5,
          35.714285714285715
         ]
        },
        {
         "mode": "lines",
         "name": "Nature",
         "type": "scatter",
         "x": [
          0,
          1,
          2,
          3,
          4,
          5
         ],
         "y": [
          75,
          75.73529411764706,
          74.26470588235294,
          74.63235294117646,
          73.16176470588236,
          71.69117647058825
         ]
        },
        {
         "mode": "lines",
         "name": "Healthcare",
         "type": "scatter",
         "x": [
          0,
          1,
          2,
          3,
          4,
          5
         ],
         "y": [
          86.54073199527744,
          78.98465171192444,
          76.97756788665879,
          75.32467532467533,
          74.49822904368358,
          73.43565525383708
         ]
        },
        {
         "mode": "lines",
         "name": "Law",
         "type": "scatter",
         "x": [
          0,
          1,
          2,
          3,
          4,
          5
         ],
         "y": [
          81.25,
          84.51086956521739,
          85.05434782608695,
          84.78260869565217,
          84.23913043478261,
          83.69565217391305
         ]
        },
        {
         "mode": "lines",
         "name": "Behaviour & society",
         "type": "scatter",
         "x": [
          0,
          1,
          2,
          3,
          4,
          5
         ],
         "y": [
          85.96491228070175,
          83.96854204476709,
          82.3956442831216,
          81.30671506352087,
          80.8832425892317,
          80.21778584392015
         ]
        }
       ],
       "layout": {
        "annotations": [
         {
          "align": "left",
          "font": {
           "size": 12
          },
          "showarrow": false,
          "text": "The line chart illustrates the percentage of students employed per year after graduation.<br>Each line represents a different field of study or level of education. The dropdown menu<br>allows you to filter the data based on field of study and level of education.",
          "x": 0,
          "xanchor": "left",
          "xref": "paper",
          "y": -0.3,
          "yanchor": "bottom",
          "yref": "paper"
         }
        ],
        "height": 700,
        "margin": {
         "b": 160
        },
        "template": {
         "data": {
          "bar": [
           {
            "error_x": {
             "color": "#2a3f5f"
            },
            "error_y": {
             "color": "#2a3f5f"
            },
            "marker": {
             "line": {
              "color": "#E5ECF6",
              "width": 0.5
             },
             "pattern": {
              "fillmode": "overlay",
              "size": 10,
              "solidity": 0.2
             }
            },
            "type": "bar"
           }
          ],
          "barpolar": [
           {
            "marker": {
             "line": {
              "color": "#E5ECF6",
              "width": 0.5
             },
             "pattern": {
              "fillmode": "overlay",
              "size": 10,
              "solidity": 0.2
             }
            },
            "type": "barpolar"
           }
          ],
          "carpet": [
           {
            "aaxis": {
             "endlinecolor": "#2a3f5f",
             "gridcolor": "white",
             "linecolor": "white",
             "minorgridcolor": "white",
             "startlinecolor": "#2a3f5f"
            },
            "baxis": {
             "endlinecolor": "#2a3f5f",
             "gridcolor": "white",
             "linecolor": "white",
             "minorgridcolor": "white",
             "startlinecolor": "#2a3f5f"
            },
            "type": "carpet"
           }
          ],
          "choropleth": [
           {
            "colorbar": {
             "outlinewidth": 0,
             "ticks": ""
            },
            "type": "choropleth"
           }
          ],
          "contour": [
           {
            "colorbar": {
             "outlinewidth": 0,
             "ticks": ""
            },
            "colorscale": [
             [
              0,
              "#0d0887"
             ],
             [
              0.1111111111111111,
              "#46039f"
             ],
             [
              0.2222222222222222,
              "#7201a8"
             ],
             [
              0.3333333333333333,
              "#9c179e"
             ],
             [
              0.4444444444444444,
              "#bd3786"
             ],
             [
              0.5555555555555556,
              "#d8576b"
             ],
             [
              0.6666666666666666,
              "#ed7953"
             ],
             [
              0.7777777777777778,
              "#fb9f3a"
             ],
             [
              0.8888888888888888,
              "#fdca26"
             ],
             [
              1,
              "#f0f921"
             ]
            ],
            "type": "contour"
           }
          ],
          "contourcarpet": [
           {
            "colorbar": {
             "outlinewidth": 0,
             "ticks": ""
            },
            "type": "contourcarpet"
           }
          ],
          "heatmap": [
           {
            "colorbar": {
             "outlinewidth": 0,
             "ticks": ""
            },
            "colorscale": [
             [
              0,
              "#0d0887"
             ],
             [
              0.1111111111111111,
              "#46039f"
             ],
             [
              0.2222222222222222,
              "#7201a8"
             ],
             [
              0.3333333333333333,
              "#9c179e"
             ],
             [
              0.4444444444444444,
              "#bd3786"
             ],
             [
              0.5555555555555556,
              "#d8576b"
             ],
             [
              0.6666666666666666,
              "#ed7953"
             ],
             [
              0.7777777777777778,
              "#fb9f3a"
             ],
             [
              0.8888888888888888,
              "#fdca26"
             ],
             [
              1,
              "#f0f921"
             ]
            ],
            "type": "heatmap"
           }
          ],
          "heatmapgl": [
           {
            "colorbar": {
             "outlinewidth": 0,
             "ticks": ""
            },
            "colorscale": [
             [
              0,
              "#0d0887"
             ],
             [
              0.1111111111111111,
              "#46039f"
             ],
             [
              0.2222222222222222,
              "#7201a8"
             ],
             [
              0.3333333333333333,
              "#9c179e"
             ],
             [
              0.4444444444444444,
              "#bd3786"
             ],
             [
              0.5555555555555556,
              "#d8576b"
             ],
             [
              0.6666666666666666,
              "#ed7953"
             ],
             [
              0.7777777777777778,
              "#fb9f3a"
             ],
             [
              0.8888888888888888,
              "#fdca26"
             ],
             [
              1,
              "#f0f921"
             ]
            ],
            "type": "heatmapgl"
           }
          ],
          "histogram": [
           {
            "marker": {
             "pattern": {
              "fillmode": "overlay",
              "size": 10,
              "solidity": 0.2
             }
            },
            "type": "histogram"
           }
          ],
          "histogram2d": [
           {
            "colorbar": {
             "outlinewidth": 0,
             "ticks": ""
            },
            "colorscale": [
             [
              0,
              "#0d0887"
             ],
             [
              0.1111111111111111,
              "#46039f"
             ],
             [
              0.2222222222222222,
              "#7201a8"
             ],
             [
              0.3333333333333333,
              "#9c179e"
             ],
             [
              0.4444444444444444,
              "#bd3786"
             ],
             [
              0.5555555555555556,
              "#d8576b"
             ],
             [
              0.6666666666666666,
              "#ed7953"
             ],
             [
              0.7777777777777778,
              "#fb9f3a"
             ],
             [
              0.8888888888888888,
              "#fdca26"
             ],
             [
              1,
              "#f0f921"
             ]
            ],
            "type": "histogram2d"
           }
          ],
          "histogram2dcontour": [
           {
            "colorbar": {
             "outlinewidth": 0,
             "ticks": ""
            },
            "colorscale": [
             [
              0,
              "#0d0887"
             ],
             [
              0.1111111111111111,
              "#46039f"
             ],
             [
              0.2222222222222222,
              "#7201a8"
             ],
             [
              0.3333333333333333,
              "#9c179e"
             ],
             [
              0.4444444444444444,
              "#bd3786"
             ],
             [
              0.5555555555555556,
              "#d8576b"
             ],
             [
              0.6666666666666666,
              "#ed7953"
             ],
             [
              0.7777777777777778,
              "#fb9f3a"
             ],
             [
              0.8888888888888888,
              "#fdca26"
             ],
             [
              1,
              "#f0f921"
             ]
            ],
            "type": "histogram2dcontour"
           }
          ],
          "mesh3d": [
           {
            "colorbar": {
             "outlinewidth": 0,
             "ticks": ""
            },
            "type": "mesh3d"
           }
          ],
          "parcoords": [
           {
            "line": {
             "colorbar": {
              "outlinewidth": 0,
              "ticks": ""
             }
            },
            "type": "parcoords"
           }
          ],
          "pie": [
           {
            "automargin": true,
            "type": "pie"
           }
          ],
          "scatter": [
           {
            "fillpattern": {
             "fillmode": "overlay",
             "size": 10,
             "solidity": 0.2
            },
            "type": "scatter"
           }
          ],
          "scatter3d": [
           {
            "line": {
             "colorbar": {
              "outlinewidth": 0,
              "ticks": ""
             }
            },
            "marker": {
             "colorbar": {
              "outlinewidth": 0,
              "ticks": ""
             }
            },
            "type": "scatter3d"
           }
          ],
          "scattercarpet": [
           {
            "marker": {
             "colorbar": {
              "outlinewidth": 0,
              "ticks": ""
             }
            },
            "type": "scattercarpet"
           }
          ],
          "scattergeo": [
           {
            "marker": {
             "colorbar": {
              "outlinewidth": 0,
              "ticks": ""
             }
            },
            "type": "scattergeo"
           }
          ],
          "scattergl": [
           {
            "marker": {
             "colorbar": {
              "outlinewidth": 0,
              "ticks": ""
             }
            },
            "type": "scattergl"
           }
          ],
          "scattermapbox": [
           {
            "marker": {
             "colorbar": {
              "outlinewidth": 0,
              "ticks": ""
             }
            },
            "type": "scattermapbox"
           }
          ],
          "scatterpolar": [
           {
            "marker": {
             "colorbar": {
              "outlinewidth": 0,
              "ticks": ""
             }
            },
            "type": "scatterpolar"
           }
          ],
          "scatterpolargl": [
           {
            "marker": {
             "colorbar": {
              "outlinewidth": 0,
              "ticks": ""
             }
            },
            "type": "scatterpolargl"
           }
          ],
          "scatterternary": [
           {
            "marker": {
             "colorbar": {
              "outlinewidth": 0,
              "ticks": ""
             }
            },
            "type": "scatterternary"
           }
          ],
          "surface": [
           {
            "colorbar": {
             "outlinewidth": 0,
             "ticks": ""
            },
            "colorscale": [
             [
              0,
              "#0d0887"
             ],
             [
              0.1111111111111111,
              "#46039f"
             ],
             [
              0.2222222222222222,
              "#7201a8"
             ],
             [
              0.3333333333333333,
              "#9c179e"
             ],
             [
              0.4444444444444444,
              "#bd3786"
             ],
             [
              0.5555555555555556,
              "#d8576b"
             ],
             [
              0.6666666666666666,
              "#ed7953"
             ],
             [
              0.7777777777777778,
              "#fb9f3a"
             ],
             [
              0.8888888888888888,
              "#fdca26"
             ],
             [
              1,
              "#f0f921"
             ]
            ],
            "type": "surface"
           }
          ],
          "table": [
           {
            "cells": {
             "fill": {
              "color": "#EBF0F8"
             },
             "line": {
              "color": "white"
             }
            },
            "header": {
             "fill": {
              "color": "#C8D4E3"
             },
             "line": {
              "color": "white"
             }
            },
            "type": "table"
           }
          ]
         },
         "layout": {
          "annotationdefaults": {
           "arrowcolor": "#2a3f5f",
           "arrowhead": 0,
           "arrowwidth": 1
          },
          "autotypenumbers": "strict",
          "coloraxis": {
           "colorbar": {
            "outlinewidth": 0,
            "ticks": ""
           }
          },
          "colorscale": {
           "diverging": [
            [
             0,
             "#8e0152"
            ],
            [
             0.1,
             "#c51b7d"
            ],
            [
             0.2,
             "#de77ae"
            ],
            [
             0.3,
             "#f1b6da"
            ],
            [
             0.4,
             "#fde0ef"
            ],
            [
             0.5,
             "#f7f7f7"
            ],
            [
             0.6,
             "#e6f5d0"
            ],
            [
             0.7,
             "#b8e186"
            ],
            [
             0.8,
             "#7fbc41"
            ],
            [
             0.9,
             "#4d9221"
            ],
            [
             1,
             "#276419"
            ]
           ],
           "sequential": [
            [
             0,
             "#0d0887"
            ],
            [
             0.1111111111111111,
             "#46039f"
            ],
            [
             0.2222222222222222,
             "#7201a8"
            ],
            [
             0.3333333333333333,
             "#9c179e"
            ],
            [
             0.4444444444444444,
             "#bd3786"
            ],
            [
             0.5555555555555556,
             "#d8576b"
            ],
            [
             0.6666666666666666,
             "#ed7953"
            ],
            [
             0.7777777777777778,
             "#fb9f3a"
            ],
            [
             0.8888888888888888,
             "#fdca26"
            ],
            [
             1,
             "#f0f921"
            ]
           ],
           "sequentialminus": [
            [
             0,
             "#0d0887"
            ],
            [
             0.1111111111111111,
             "#46039f"
            ],
            [
             0.2222222222222222,
             "#7201a8"
            ],
            [
             0.3333333333333333,
             "#9c179e"
            ],
            [
             0.4444444444444444,
             "#bd3786"
            ],
            [
             0.5555555555555556,
             "#d8576b"
            ],
            [
             0.6666666666666666,
             "#ed7953"
            ],
            [
             0.7777777777777778,
             "#fb9f3a"
            ],
            [
             0.8888888888888888,
             "#fdca26"
            ],
            [
             1,
             "#f0f921"
            ]
           ]
          },
          "colorway": [
           "#636efa",
           "#EF553B",
           "#00cc96",
           "#ab63fa",
           "#FFA15A",
           "#19d3f3",
           "#FF6692",
           "#B6E880",
           "#FF97FF",
           "#FECB52"
          ],
          "font": {
           "color": "#2a3f5f"
          },
          "geo": {
           "bgcolor": "white",
           "lakecolor": "white",
           "landcolor": "#E5ECF6",
           "showlakes": true,
           "showland": true,
           "subunitcolor": "white"
          },
          "hoverlabel": {
           "align": "left"
          },
          "hovermode": "closest",
          "mapbox": {
           "style": "light"
          },
          "paper_bgcolor": "white",
          "plot_bgcolor": "#E5ECF6",
          "polar": {
           "angularaxis": {
            "gridcolor": "white",
            "linecolor": "white",
            "ticks": ""
           },
           "bgcolor": "#E5ECF6",
           "radialaxis": {
            "gridcolor": "white",
            "linecolor": "white",
            "ticks": ""
           }
          },
          "scene": {
           "xaxis": {
            "backgroundcolor": "#E5ECF6",
            "gridcolor": "white",
            "gridwidth": 2,
            "linecolor": "white",
            "showbackground": true,
            "ticks": "",
            "zerolinecolor": "white"
           },
           "yaxis": {
            "backgroundcolor": "#E5ECF6",
            "gridcolor": "white",
            "gridwidth": 2,
            "linecolor": "white",
            "showbackground": true,
            "ticks": "",
            "zerolinecolor": "white"
           },
           "zaxis": {
            "backgroundcolor": "#E5ECF6",
            "gridcolor": "white",
            "gridwidth": 2,
            "linecolor": "white",
            "showbackground": true,
            "ticks": "",
            "zerolinecolor": "white"
           }
          },
          "shapedefaults": {
           "line": {
            "color": "#2a3f5f"
           }
          },
          "ternary": {
           "aaxis": {
            "gridcolor": "white",
            "linecolor": "white",
            "ticks": ""
           },
           "baxis": {
            "gridcolor": "white",
            "linecolor": "white",
            "ticks": ""
           },
           "bgcolor": "#E5ECF6",
           "caxis": {
            "gridcolor": "white",
            "linecolor": "white",
            "ticks": ""
           }
          },
          "title": {
           "x": 0.05
          },
          "xaxis": {
           "automargin": true,
           "gridcolor": "white",
           "linecolor": "white",
           "ticks": "",
           "title": {
            "standoff": 15
           },
           "zerolinecolor": "white",
           "zerolinewidth": 2
          },
          "yaxis": {
           "automargin": true,
           "gridcolor": "white",
           "linecolor": "white",
           "ticks": "",
           "title": {
            "standoff": 15
           },
           "zerolinecolor": "white",
           "zerolinewidth": 2
          }
         }
        },
        "title": {
         "text": "Employment Rates based on level of education or field of study<br><sub>Hbo students are the majority of students employed each year</sub>"
        },
        "updatemenus": [
         {
          "active": 0,
          "buttons": [
           {
            "args": [
             {
              "visible": [
               true,
               true,
               true,
               true,
               true,
               true,
               true,
               true,
               true,
               true,
               true,
               true,
               true,
               true
              ]
             },
             {
              "title": "Employment Rates based on level of education or field of study"
             }
            ],
            "label": "All",
            "method": "update"
           },
           {
            "args": [
             {
              "visible": [
               true,
               true,
               true,
               true,
               false,
               false,
               false,
               false,
               false,
               false,
               false,
               false,
               false,
               false
              ]
             },
             {
              "title": "Employment rate based on level of education"
             }
            ],
            "label": "Level of education",
            "method": "update"
           },
           {
            "args": [
             {
              "visible": [
               false,
               false,
               false,
               false,
               true,
               true,
               true,
               true,
               true,
               true,
               true,
               true,
               true,
               true
              ]
             },
             {
              "title": "Employment rate based on field of study"
             }
            ],
            "label": "Field of study",
            "method": "update"
           }
          ]
         }
        ],
        "xaxis": {
         "title": {
          "text": "Years after leaving college"
         }
        },
        "yaxis": {
         "title": {
          "text": "Percentage of students employed per year"
         }
        }
       }
      }
     },
     "metadata": {},
     "output_type": "display_data"
    }
   ],
   "source": [
    "Studierichting_data = arbeidsmarkt['Percentage studierichting'].loc[(arbeidsmarkt['Arbeidsmarktpositie'] == 'Met werk, zonder uitkering') | (arbeidsmarkt['Arbeidsmarktpositie'] == 'Met werk, met uitkering')]\n",
    "hbo_bachelor_data = arbeidsmarkt['Percentage degree level'].loc[arbeidsmarkt['Uitstromers ho met en zonder diploma'] == 'Hbo-bachelor'].loc[(arbeidsmarkt['Arbeidsmarktpositie'] == 'Met werk, zonder uitkering') | (arbeidsmarkt['Arbeidsmarktpositie'] == 'Met werk, met uitkering')]\n",
    "hbo_master_data = arbeidsmarkt['Percentage degree level'].loc[arbeidsmarkt['Uitstromers ho met en zonder diploma'] == 'Hbo-master'].loc[(arbeidsmarkt['Arbeidsmarktpositie'] == 'Met werk, zonder uitkering') | (arbeidsmarkt['Arbeidsmarktpositie'] == 'Met werk, met uitkering')]\n",
    "wo_bachelor_data = arbeidsmarkt['Percentage degree level'].loc[arbeidsmarkt['Uitstromers ho met en zonder diploma'] == 'Wo-bachelor'].loc[(arbeidsmarkt['Arbeidsmarktpositie'] == 'Met werk, zonder uitkering') | (arbeidsmarkt['Arbeidsmarktpositie'] == 'Met werk, met uitkering')]\n",
    "wo_master_data = arbeidsmarkt['Percentage degree level'].loc[arbeidsmarkt['Uitstromers ho met en zonder diploma'] == 'Wo-master'].loc[(arbeidsmarkt['Arbeidsmarktpositie'] == 'Met werk, zonder uitkering') | (arbeidsmarkt['Arbeidsmarktpositie'] == 'Met werk, met uitkering')]\n",
    "\n",
    "specific_order = ['Direct na verlaten onderwijs', '1 jaar na verlaten onderwijs', '2 jaar na verlaten onderwijs', '3 jaar na verlaten onderwijs', '4 jaar na verlaten onderwijs', '5 jaar na verlaten onderwijs']\n",
    "order_mapping = {value: index for index, value in enumerate(specific_order)}\n",
    "\n",
    "hbo_bachelor_summed_data = hbo_bachelor_data.groupby(arbeidsmarkt['Peilmoment']).sum().sort_values(key=lambda x: x.index.map(order_mapping))\n",
    "hbo_master_summed_data = hbo_master_data.groupby(arbeidsmarkt['Peilmoment']).sum().sort_values(key=lambda x: x.index.map(order_mapping))\n",
    "wo_bachelor_summed_data = wo_bachelor_data.groupby(arbeidsmarkt['Peilmoment']).sum().sort_values(key=lambda x: x.index.map(order_mapping))\n",
    "wo_master_summed_data = wo_master_data.groupby(arbeidsmarkt['Peilmoment']).sum().sort_values(key=lambda x: x.index.map(order_mapping))\n",
    "\n",
    "label_mapping = {\n",
    "    'Recht': 'Law',\n",
    "    'Gedrag en Maatschappij': 'Behaviour & society',\n",
    "    'Gezondheidszorg': 'Healthcare',\n",
    "    'Onderwijs': 'Education',\n",
    "    'Economie': 'Economics',\n",
    "    'Natuur': 'Nature',\n",
    "    'Techniek': 'STEM',\n",
    "    'Onderwijs': 'Education',\n",
    "    'Sectoroverstijgend': 'Interdisciplinary',\n",
    "    'Landbouw en natuurlijke omgeving': 'Agriculture',\n",
    "    'Taal en cultuur': 'Language & culture',\n",
    "    'Vrouwen': 'Women',\n",
    "    'Mannen': 'Men'\n",
    "}\n",
    "\n",
    "fig = go.Figure()\n",
    "\n",
    "fig.add_trace(\n",
    "    go.Scatter(\n",
    "        x = [0,1,2,3,4,5],\n",
    "        y = hbo_bachelor_summed_data,\n",
    "        mode='lines',\n",
    "        name='Hbo bachelor'\n",
    "    )\n",
    ")\n",
    "\n",
    "fig.add_trace(\n",
    "    go.Scatter(\n",
    "        x = [0,1,2,3,4,5],\n",
    "        y = hbo_master_summed_data,\n",
    "        mode='lines',\n",
    "        name='Hbo master'\n",
    "    )\n",
    ")\n",
    "\n",
    "fig.add_trace(\n",
    "    go.Scatter(\n",
    "        x = [0,1,2,3,4,5],\n",
    "        y = wo_bachelor_summed_data,\n",
    "        mode='lines',\n",
    "        name='Wo bachelor'\n",
    "    )\n",
    ")\n",
    "\n",
    "fig.add_trace(\n",
    "    go.Scatter(\n",
    "        x = [0,1,2,3,4,5],\n",
    "        y = wo_master_summed_data,\n",
    "        mode='lines',\n",
    "        name='Wo master'\n",
    "    )\n",
    ")\n",
    "\n",
    "arbeidsmarkt['Studierichting_mapped'] = arbeidsmarkt['Studierichting'].map(label_mapping)\n",
    "\n",
    "Market_data_set = set(arbeidsmarkt['Studierichting_mapped'])\n",
    "\n",
    "for studierichting in Market_data_set:\n",
    "    Study_data = Studierichting_data.loc[arbeidsmarkt['Studierichting_mapped'] == studierichting]\n",
    "    grouped = Study_data.groupby(arbeidsmarkt['Peilmoment'])\n",
    "    Study_summed_data = Study_data.groupby(arbeidsmarkt['Peilmoment']).sum().sort_values(key=lambda x: x.index.map(order_mapping))\n",
    "\n",
    "    fig.add_trace(\n",
    "        go.Scatter(\n",
    "            x = [0,1,2,3,4,5],\n",
    "            y = Study_summed_data,\n",
    "            mode='lines',\n",
    "            name= str(studierichting)\n",
    "        )\n",
    "    )\n",
    "\n",
    "fig.update_layout(\n",
    "    updatemenus = [\n",
    "        dict(\n",
    "            active = 0,\n",
    "            buttons = list([\n",
    "                dict(label = \"All\",\n",
    "                     method = \"update\",\n",
    "                     args = [{\"visible\": [True] * 14},\n",
    "                           {\"title\": \"Employment Rates based on level of education or field of study\"}]),\n",
    "                dict(label= \"Level of education\",\n",
    "                     method = \"update\",\n",
    "                     args = [{\"visible\": [True] * 4 + [False] * 10},\n",
    "                           {\"title\": \"Employment rate based on level of education\"}]),\n",
    "                dict(label = \"Field of study\",\n",
    "                     method = \"update\",\n",
    "                     args = [{\"visible\": [False] * 4 + [True] * 10},\n",
    "                           {\"title\": \"Employment rate based on field of study\"}]),\n",
    "            ]),\n",
    "        )\n",
    "    ])\n",
    "\n",
    "fig.update_layout(\n",
    "    title_text = 'Employment Rates based on level of education or field of study<br><sub>Hbo students are the majority of students employed each year</sub>',\n",
    "    annotations=[\n",
    "        go.layout.Annotation(\n",
    "            text = \"The line chart illustrates the percentage of students employed per year after graduation.<br>Each line represents a different field of study or level of education. The dropdown menu<br>allows you to filter the data based on field of study and level of education.\",\n",
    "            xref = \"paper\", yref = \"paper\",\n",
    "            x=0, y=-0.3,\n",
    "            showarrow=False,\n",
    "            font=dict(size=12),\n",
    "            xanchor='left',\n",
    "            yanchor='bottom',\n",
    "            align='left'\n",
    "        )\n",
    "    ],\n",
    "    margin=dict(\n",
    "        b = 160\n",
    "    ),\n",
    "    xaxis_title = 'Years after leaving college',\n",
    "    yaxis_title = 'Percentage of students employed per year',\n",
    "    height = 700\n",
    ")\n",
    "\n",
    "fig.show()"
   ]
  }
 ],
 "metadata": {
  "colab": {
   "provenance": []
  },
  "kernelspec": {
   "display_name": "Python 3 (ipykernel)",
   "language": "python",
   "name": "python3"
  },
  "language_info": {
   "codemirror_mode": {
    "name": "ipython",
    "version": 3
   },
   "file_extension": ".py",
   "mimetype": "text/x-python",
   "name": "python",
   "nbconvert_exporter": "python",
   "pygments_lexer": "ipython3",
   "version": "3.10.14"
  }
 },
 "nbformat": 4,
 "nbformat_minor": 1
}
