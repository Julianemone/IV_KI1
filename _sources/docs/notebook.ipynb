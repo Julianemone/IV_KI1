{
 "cells": [
  {
   "cell_type": "markdown",
   "metadata": {},
   "source": [
    "# Example Notebook\n",
    "\n",
    "(Last updated: May 22, 2023)\n",
    "\n",
    "You can also create content with Jupyter Notebooks.\n",
    "This means that you can include code blocks and their outputs in your book.\n",
    "In this notebook, we show some examples of loading and plotting data.\n",
    "Check [this documentation](https://jupyterbook.org/en/stable/content/executable/index.html) about how to write executable content."
   ]
  },
  {
   "cell_type": "code",
   "execution_count": 2,
   "metadata": {},
   "outputs": [],
   "source": [
    "# Import packages\n",
    "import plotly.graph_objs as go\n",
    "import plotly.express as px\n",
    "import pandas as pd\n",
    "import numpy as np\n",
    "import matplotlib.pyplot as plt\n",
    "import seaborn as sns"
   ]
  },
  {
   "cell_type": "markdown",
   "metadata": {},
   "source": [
    "## Load data\n",
    "\n",
    "You can put your data at the same directory as the notebook file and then use `pandas` to load the data."
   ]
  },
  {
   "cell_type": "code",
   "execution_count": 6,
   "metadata": {},
   "outputs": [],
   "source": [
    "arbeidsmarkt = pd.read_csv(\"../data/arbeidsmarkt.csv\", sep=';')\n",
    "uurloon = pd.read_csv(\"../data/uurloon.csv\", sep=';')\n",
    "uurloon['Uurloon werknemers na verlaten ho (euro)']  = pd.to_numeric(uurloon['Uurloon werknemers na verlaten ho (euro)'] , errors='coerce')\n",
    "arbeidsmarkt['Uitstromers ho (aantal)']  = pd.to_numeric(arbeidsmarkt['Uitstromers ho (aantal)'] , errors='coerce')\n",
    "arbeidsmarkt.fillna(0, inplace = True)\n",
    "\n",
    "peilmoment1 = arbeidsmarkt.loc[arbeidsmarkt['Peilmoment'] == 'Direct na verlaten onderwijs']\n",
    "\n",
    "verdeling = peilmoment1.groupby(['Geslacht','Studierichting'])['Uitstromers ho (aantal)'].sum().reset_index()\n",
    "verdeling.rename(columns={'Uitstromers ho (aantal)': 'Total studierichting'}, inplace=True)"
   ]
  },
  {
   "cell_type": "code",
   "execution_count": 7,
   "metadata": {},
   "outputs": [
    {
     "data": {
      "application/vnd.plotly.v1+json": {
       "config": {
        "plotlyServerURL": "https://plot.ly"
       },
       "data": [
        {
         "branchvalues": "total",
         "insidetextfont": {
          "size": 20
         },
         "labels": [
          "Men",
          "Economics ♂",
          "Behaviour and society ♂",
          "Healthcare ♂",
          "Agriculture ♂",
          "Nature ♂",
          "Education ♂",
          "Law ♂",
          "Other ♂",
          "Language & culture ♂",
          "Technics ♂",
          "Women",
          "Economics ♀",
          "Behaviour and society ♀",
          "Healthcare ♀",
          "Agriculture ♀",
          "Nature ♀",
          "Education ♀",
          "Law ♀",
          "Other ♀",
          "Language & culture ♀",
          "Technics ♀"
         ],
         "parents": [
          "",
          "Men",
          "Men",
          "Men",
          "Men",
          "Men",
          "Men",
          "Men",
          "Men",
          "Men",
          "Men",
          "",
          "Women",
          "Women",
          "Women",
          "Women",
          "Women",
          "Women",
          "Women",
          "Women",
          "Women",
          "Women"
         ],
         "type": "sunburst",
         "values": [
          35170,
          11690,
          3830,
          1930,
          1050,
          1730,
          1340,
          1400,
          200,
          2300,
          9700,
          44000,
          9800,
          12700,
          6540,
          1110,
          990,
          3830,
          2280,
          360,
          3840,
          2550
         ]
        }
       ],
       "layout": {
        "height": 600,
        "margin": {
         "b": 25,
         "l": 25,
         "r": 25,
         "t": 50
        },
        "template": {
         "data": {
          "bar": [
           {
            "error_x": {
             "color": "#2a3f5f"
            },
            "error_y": {
             "color": "#2a3f5f"
            },
            "marker": {
             "line": {
              "color": "#E5ECF6",
              "width": 0.5
             },
             "pattern": {
              "fillmode": "overlay",
              "size": 10,
              "solidity": 0.2
             }
            },
            "type": "bar"
           }
          ],
          "barpolar": [
           {
            "marker": {
             "line": {
              "color": "#E5ECF6",
              "width": 0.5
             },
             "pattern": {
              "fillmode": "overlay",
              "size": 10,
              "solidity": 0.2
             }
            },
            "type": "barpolar"
           }
          ],
          "carpet": [
           {
            "aaxis": {
             "endlinecolor": "#2a3f5f",
             "gridcolor": "white",
             "linecolor": "white",
             "minorgridcolor": "white",
             "startlinecolor": "#2a3f5f"
            },
            "baxis": {
             "endlinecolor": "#2a3f5f",
             "gridcolor": "white",
             "linecolor": "white",
             "minorgridcolor": "white",
             "startlinecolor": "#2a3f5f"
            },
            "type": "carpet"
           }
          ],
          "choropleth": [
           {
            "colorbar": {
             "outlinewidth": 0,
             "ticks": ""
            },
            "type": "choropleth"
           }
          ],
          "contour": [
           {
            "colorbar": {
             "outlinewidth": 0,
             "ticks": ""
            },
            "colorscale": [
             [
              0,
              "#0d0887"
             ],
             [
              0.1111111111111111,
              "#46039f"
             ],
             [
              0.2222222222222222,
              "#7201a8"
             ],
             [
              0.3333333333333333,
              "#9c179e"
             ],
             [
              0.4444444444444444,
              "#bd3786"
             ],
             [
              0.5555555555555556,
              "#d8576b"
             ],
             [
              0.6666666666666666,
              "#ed7953"
             ],
             [
              0.7777777777777778,
              "#fb9f3a"
             ],
             [
              0.8888888888888888,
              "#fdca26"
             ],
             [
              1,
              "#f0f921"
             ]
            ],
            "type": "contour"
           }
          ],
          "contourcarpet": [
           {
            "colorbar": {
             "outlinewidth": 0,
             "ticks": ""
            },
            "type": "contourcarpet"
           }
          ],
          "heatmap": [
           {
            "colorbar": {
             "outlinewidth": 0,
             "ticks": ""
            },
            "colorscale": [
             [
              0,
              "#0d0887"
             ],
             [
              0.1111111111111111,
              "#46039f"
             ],
             [
              0.2222222222222222,
              "#7201a8"
             ],
             [
              0.3333333333333333,
              "#9c179e"
             ],
             [
              0.4444444444444444,
              "#bd3786"
             ],
             [
              0.5555555555555556,
              "#d8576b"
             ],
             [
              0.6666666666666666,
              "#ed7953"
             ],
             [
              0.7777777777777778,
              "#fb9f3a"
             ],
             [
              0.8888888888888888,
              "#fdca26"
             ],
             [
              1,
              "#f0f921"
             ]
            ],
            "type": "heatmap"
           }
          ],
          "heatmapgl": [
           {
            "colorbar": {
             "outlinewidth": 0,
             "ticks": ""
            },
            "colorscale": [
             [
              0,
              "#0d0887"
             ],
             [
              0.1111111111111111,
              "#46039f"
             ],
             [
              0.2222222222222222,
              "#7201a8"
             ],
             [
              0.3333333333333333,
              "#9c179e"
             ],
             [
              0.4444444444444444,
              "#bd3786"
             ],
             [
              0.5555555555555556,
              "#d8576b"
             ],
             [
              0.6666666666666666,
              "#ed7953"
             ],
             [
              0.7777777777777778,
              "#fb9f3a"
             ],
             [
              0.8888888888888888,
              "#fdca26"
             ],
             [
              1,
              "#f0f921"
             ]
            ],
            "type": "heatmapgl"
           }
          ],
          "histogram": [
           {
            "marker": {
             "pattern": {
              "fillmode": "overlay",
              "size": 10,
              "solidity": 0.2
             }
            },
            "type": "histogram"
           }
          ],
          "histogram2d": [
           {
            "colorbar": {
             "outlinewidth": 0,
             "ticks": ""
            },
            "colorscale": [
             [
              0,
              "#0d0887"
             ],
             [
              0.1111111111111111,
              "#46039f"
             ],
             [
              0.2222222222222222,
              "#7201a8"
             ],
             [
              0.3333333333333333,
              "#9c179e"
             ],
             [
              0.4444444444444444,
              "#bd3786"
             ],
             [
              0.5555555555555556,
              "#d8576b"
             ],
             [
              0.6666666666666666,
              "#ed7953"
             ],
             [
              0.7777777777777778,
              "#fb9f3a"
             ],
             [
              0.8888888888888888,
              "#fdca26"
             ],
             [
              1,
              "#f0f921"
             ]
            ],
            "type": "histogram2d"
           }
          ],
          "histogram2dcontour": [
           {
            "colorbar": {
             "outlinewidth": 0,
             "ticks": ""
            },
            "colorscale": [
             [
              0,
              "#0d0887"
             ],
             [
              0.1111111111111111,
              "#46039f"
             ],
             [
              0.2222222222222222,
              "#7201a8"
             ],
             [
              0.3333333333333333,
              "#9c179e"
             ],
             [
              0.4444444444444444,
              "#bd3786"
             ],
             [
              0.5555555555555556,
              "#d8576b"
             ],
             [
              0.6666666666666666,
              "#ed7953"
             ],
             [
              0.7777777777777778,
              "#fb9f3a"
             ],
             [
              0.8888888888888888,
              "#fdca26"
             ],
             [
              1,
              "#f0f921"
             ]
            ],
            "type": "histogram2dcontour"
           }
          ],
          "mesh3d": [
           {
            "colorbar": {
             "outlinewidth": 0,
             "ticks": ""
            },
            "type": "mesh3d"
           }
          ],
          "parcoords": [
           {
            "line": {
             "colorbar": {
              "outlinewidth": 0,
              "ticks": ""
             }
            },
            "type": "parcoords"
           }
          ],
          "pie": [
           {
            "automargin": true,
            "type": "pie"
           }
          ],
          "scatter": [
           {
            "fillpattern": {
             "fillmode": "overlay",
             "size": 10,
             "solidity": 0.2
            },
            "type": "scatter"
           }
          ],
          "scatter3d": [
           {
            "line": {
             "colorbar": {
              "outlinewidth": 0,
              "ticks": ""
             }
            },
            "marker": {
             "colorbar": {
              "outlinewidth": 0,
              "ticks": ""
             }
            },
            "type": "scatter3d"
           }
          ],
          "scattercarpet": [
           {
            "marker": {
             "colorbar": {
              "outlinewidth": 0,
              "ticks": ""
             }
            },
            "type": "scattercarpet"
           }
          ],
          "scattergeo": [
           {
            "marker": {
             "colorbar": {
              "outlinewidth": 0,
              "ticks": ""
             }
            },
            "type": "scattergeo"
           }
          ],
          "scattergl": [
           {
            "marker": {
             "colorbar": {
              "outlinewidth": 0,
              "ticks": ""
             }
            },
            "type": "scattergl"
           }
          ],
          "scattermapbox": [
           {
            "marker": {
             "colorbar": {
              "outlinewidth": 0,
              "ticks": ""
             }
            },
            "type": "scattermapbox"
           }
          ],
          "scatterpolar": [
           {
            "marker": {
             "colorbar": {
              "outlinewidth": 0,
              "ticks": ""
             }
            },
            "type": "scatterpolar"
           }
          ],
          "scatterpolargl": [
           {
            "marker": {
             "colorbar": {
              "outlinewidth": 0,
              "ticks": ""
             }
            },
            "type": "scatterpolargl"
           }
          ],
          "scatterternary": [
           {
            "marker": {
             "colorbar": {
              "outlinewidth": 0,
              "ticks": ""
             }
            },
            "type": "scatterternary"
           }
          ],
          "surface": [
           {
            "colorbar": {
             "outlinewidth": 0,
             "ticks": ""
            },
            "colorscale": [
             [
              0,
              "#0d0887"
             ],
             [
              0.1111111111111111,
              "#46039f"
             ],
             [
              0.2222222222222222,
              "#7201a8"
             ],
             [
              0.3333333333333333,
              "#9c179e"
             ],
             [
              0.4444444444444444,
              "#bd3786"
             ],
             [
              0.5555555555555556,
              "#d8576b"
             ],
             [
              0.6666666666666666,
              "#ed7953"
             ],
             [
              0.7777777777777778,
              "#fb9f3a"
             ],
             [
              0.8888888888888888,
              "#fdca26"
             ],
             [
              1,
              "#f0f921"
             ]
            ],
            "type": "surface"
           }
          ],
          "table": [
           {
            "cells": {
             "fill": {
              "color": "#EBF0F8"
             },
             "line": {
              "color": "white"
             }
            },
            "header": {
             "fill": {
              "color": "#C8D4E3"
             },
             "line": {
              "color": "white"
             }
            },
            "type": "table"
           }
          ]
         },
         "layout": {
          "annotationdefaults": {
           "arrowcolor": "#2a3f5f",
           "arrowhead": 0,
           "arrowwidth": 1
          },
          "autotypenumbers": "strict",
          "coloraxis": {
           "colorbar": {
            "outlinewidth": 0,
            "ticks": ""
           }
          },
          "colorscale": {
           "diverging": [
            [
             0,
             "#8e0152"
            ],
            [
             0.1,
             "#c51b7d"
            ],
            [
             0.2,
             "#de77ae"
            ],
            [
             0.3,
             "#f1b6da"
            ],
            [
             0.4,
             "#fde0ef"
            ],
            [
             0.5,
             "#f7f7f7"
            ],
            [
             0.6,
             "#e6f5d0"
            ],
            [
             0.7,
             "#b8e186"
            ],
            [
             0.8,
             "#7fbc41"
            ],
            [
             0.9,
             "#4d9221"
            ],
            [
             1,
             "#276419"
            ]
           ],
           "sequential": [
            [
             0,
             "#0d0887"
            ],
            [
             0.1111111111111111,
             "#46039f"
            ],
            [
             0.2222222222222222,
             "#7201a8"
            ],
            [
             0.3333333333333333,
             "#9c179e"
            ],
            [
             0.4444444444444444,
             "#bd3786"
            ],
            [
             0.5555555555555556,
             "#d8576b"
            ],
            [
             0.6666666666666666,
             "#ed7953"
            ],
            [
             0.7777777777777778,
             "#fb9f3a"
            ],
            [
             0.8888888888888888,
             "#fdca26"
            ],
            [
             1,
             "#f0f921"
            ]
           ],
           "sequentialminus": [
            [
             0,
             "#0d0887"
            ],
            [
             0.1111111111111111,
             "#46039f"
            ],
            [
             0.2222222222222222,
             "#7201a8"
            ],
            [
             0.3333333333333333,
             "#9c179e"
            ],
            [
             0.4444444444444444,
             "#bd3786"
            ],
            [
             0.5555555555555556,
             "#d8576b"
            ],
            [
             0.6666666666666666,
             "#ed7953"
            ],
            [
             0.7777777777777778,
             "#fb9f3a"
            ],
            [
             0.8888888888888888,
             "#fdca26"
            ],
            [
             1,
             "#f0f921"
            ]
           ]
          },
          "colorway": [
           "#636efa",
           "#EF553B",
           "#00cc96",
           "#ab63fa",
           "#FFA15A",
           "#19d3f3",
           "#FF6692",
           "#B6E880",
           "#FF97FF",
           "#FECB52"
          ],
          "font": {
           "color": "#2a3f5f"
          },
          "geo": {
           "bgcolor": "white",
           "lakecolor": "white",
           "landcolor": "#E5ECF6",
           "showlakes": true,
           "showland": true,
           "subunitcolor": "white"
          },
          "hoverlabel": {
           "align": "left"
          },
          "hovermode": "closest",
          "mapbox": {
           "style": "light"
          },
          "paper_bgcolor": "white",
          "plot_bgcolor": "#E5ECF6",
          "polar": {
           "angularaxis": {
            "gridcolor": "white",
            "linecolor": "white",
            "ticks": ""
           },
           "bgcolor": "#E5ECF6",
           "radialaxis": {
            "gridcolor": "white",
            "linecolor": "white",
            "ticks": ""
           }
          },
          "scene": {
           "xaxis": {
            "backgroundcolor": "#E5ECF6",
            "gridcolor": "white",
            "gridwidth": 2,
            "linecolor": "white",
            "showbackground": true,
            "ticks": "",
            "zerolinecolor": "white"
           },
           "yaxis": {
            "backgroundcolor": "#E5ECF6",
            "gridcolor": "white",
            "gridwidth": 2,
            "linecolor": "white",
            "showbackground": true,
            "ticks": "",
            "zerolinecolor": "white"
           },
           "zaxis": {
            "backgroundcolor": "#E5ECF6",
            "gridcolor": "white",
            "gridwidth": 2,
            "linecolor": "white",
            "showbackground": true,
            "ticks": "",
            "zerolinecolor": "white"
           }
          },
          "shapedefaults": {
           "line": {
            "color": "#2a3f5f"
           }
          },
          "ternary": {
           "aaxis": {
            "gridcolor": "white",
            "linecolor": "white",
            "ticks": ""
           },
           "baxis": {
            "gridcolor": "white",
            "linecolor": "white",
            "ticks": ""
           },
           "bgcolor": "#E5ECF6",
           "caxis": {
            "gridcolor": "white",
            "linecolor": "white",
            "ticks": ""
           }
          },
          "title": {
           "x": 0.05
          },
          "xaxis": {
           "automargin": true,
           "gridcolor": "white",
           "linecolor": "white",
           "ticks": "",
           "title": {
            "standoff": 15
           },
           "zerolinecolor": "white",
           "zerolinewidth": 2
          },
          "yaxis": {
           "automargin": true,
           "gridcolor": "white",
           "linecolor": "white",
           "ticks": "",
           "title": {
            "standoff": 15
           },
           "zerolinecolor": "white",
           "zerolinewidth": 2
          }
         }
        },
        "title": {
         "text": "Study subject by sex"
        }
       }
      }
     },
     "metadata": {},
     "output_type": "display_data"
    }
   ],
   "source": [
    "labels = []\n",
    "parents = []\n",
    "values = []\n",
    "\n",
    "unique_geslacht = set()\n",
    "\n",
    "label_map = {\n",
    "    'Recht': 'Law',\n",
    "    'Gedrag en Maatschappij': 'Behaviour and society',\n",
    "    'Gezondheidszorg': 'Healthcare',\n",
    "    'Onderwijs': 'Education',\n",
    "    'Economie': 'Economics',\n",
    "    'Natuur': 'Nature',\n",
    "    'Techniek': 'Technics',\n",
    "    'Onderwijs': 'Education',\n",
    "    'Sectoroverstijgend': 'Other',\n",
    "    'Landbouw en natuurlijke omgeving': 'Agriculture',\n",
    "    'Taal en cultuur': 'Language & culture',\n",
    "    'Vrouwen': 'Women',\n",
    "    'Mannen': 'Men'\n",
    "}\n",
    "\n",
    "for _, row in verdeling.iterrows():\n",
    "    geslacht = row['Geslacht']\n",
    "    studierichting = row['Studierichting']\n",
    "    aantal = row['Total studierichting']\n",
    "\n",
    "    if label_map[geslacht] not in unique_geslacht:\n",
    "        labels.append(label_map[geslacht])\n",
    "        parents.append(\"\")\n",
    "        if geslacht == 'Vrouwen':\n",
    "            values.append(44000.0)\n",
    "        elif geslacht == 'Mannen':\n",
    "            values.append(35170.0)\n",
    "        unique_geslacht.add(label_map[geslacht])\n",
    "\n",
    "    if geslacht == 'Mannen':\n",
    "        labels.append(label_map[studierichting] + ' ♂')\n",
    "    elif geslacht == 'Vrouwen':\n",
    "        labels.append(label_map[studierichting] + ' ♀')\n",
    "    parents.append(label_map[geslacht])\n",
    "    values.append(aantal)\n",
    "\n",
    "fig = go.Figure(go.Sunburst(\n",
    "    labels=labels,\n",
    "    parents=parents,\n",
    "    values=values,\n",
    "    branchvalues='total',\n",
    "    insidetextfont=dict(size=20),\n",
    "))\n",
    "\n",
    "fig.update_layout(\n",
    "    title='Study subject by sex',\n",
    "    margin=dict(t=50, l=25, r=25, b=25),\n",
    "    height=600\n",
    ")\n",
    "\n",
    "fig.show()"
   ]
  },
  {
   "cell_type": "markdown",
   "metadata": {},
   "source": [
    "The sunburst chart shows which degree subjects women and men study most. We can compare how these differ between the sexes. To follow this up we will look at the difference in wage between sexes per study subject."
   ]
  },
  {
   "cell_type": "code",
   "execution_count": 9,
   "metadata": {},
   "outputs": [],
   "source": [
    "uurloongem = pd.read_csv(\"../data/uurloongem.csv\", sep=';')\n",
    "hbo_bachelor = uurloongem.loc[uurloongem['Uitstromers ho met en zonder diploma'] == 'Hbo-bachelor']\n",
    "hbo_master = uurloongem.loc[uurloongem['Uitstromers ho met en zonder diploma'] == 'Hbo-master']\n",
    "wo_bachelor = uurloongem.loc[uurloongem['Uitstromers ho met en zonder diploma'] == 'Wo-bachelor']\n",
    "wo_master = uurloongem.loc[uurloongem['Uitstromers ho met en zonder diploma'] == 'Wo-master']"
   ]
  },
  {
   "cell_type": "code",
   "execution_count": 10,
   "metadata": {},
   "outputs": [
    {
     "data": {
      "application/vnd.plotly.v1+json": {
       "config": {
        "plotlyServerURL": "https://plot.ly"
       },
       "data": [
        {
         "hoverinfo": "y+name",
         "marker": {
          "color": "rgb(102,194,165)"
         },
         "name": "Hbo-bachelor",
         "type": "bar",
         "x": [
          "Direct na verlaten onderwijs",
          "1 jaar na verlaten onderwijs",
          "2 jaar na verlaten onderwijs",
          "3 jaar na verlaten onderwijs",
          "4 jaar na verlaten onderwijs",
          "5 jaar na verlaten onderwijs",
          "Direct na verlaten onderwijs",
          "1 jaar na verlaten onderwijs",
          "2 jaar na verlaten onderwijs",
          "3 jaar na verlaten onderwijs",
          "4 jaar na verlaten onderwijs",
          "5 jaar na verlaten onderwijs",
          "Direct na verlaten onderwijs",
          "1 jaar na verlaten onderwijs",
          "2 jaar na verlaten onderwijs",
          "3 jaar na verlaten onderwijs",
          "4 jaar na verlaten onderwijs",
          "5 jaar na verlaten onderwijs",
          "Direct na verlaten onderwijs",
          "1 jaar na verlaten onderwijs",
          "2 jaar na verlaten onderwijs",
          "3 jaar na verlaten onderwijs",
          "4 jaar na verlaten onderwijs",
          "5 jaar na verlaten onderwijs",
          "Direct na verlaten onderwijs",
          "1 jaar na verlaten onderwijs",
          "2 jaar na verlaten onderwijs",
          "3 jaar na verlaten onderwijs",
          "4 jaar na verlaten onderwijs",
          "5 jaar na verlaten onderwijs",
          "Direct na verlaten onderwijs",
          "1 jaar na verlaten onderwijs",
          "2 jaar na verlaten onderwijs",
          "3 jaar na verlaten onderwijs",
          "4 jaar na verlaten onderwijs",
          "5 jaar na verlaten onderwijs",
          "Direct na verlaten onderwijs",
          "1 jaar na verlaten onderwijs",
          "2 jaar na verlaten onderwijs",
          "3 jaar na verlaten onderwijs",
          "4 jaar na verlaten onderwijs",
          "5 jaar na verlaten onderwijs",
          "Direct na verlaten onderwijs",
          "1 jaar na verlaten onderwijs",
          "2 jaar na verlaten onderwijs",
          "3 jaar na verlaten onderwijs",
          "4 jaar na verlaten onderwijs",
          "5 jaar na verlaten onderwijs",
          "Direct na verlaten onderwijs",
          "1 jaar na verlaten onderwijs",
          "2 jaar na verlaten onderwijs",
          "3 jaar na verlaten onderwijs",
          "4 jaar na verlaten onderwijs",
          "5 jaar na verlaten onderwijs",
          "Direct na verlaten onderwijs",
          "1 jaar na verlaten onderwijs",
          "2 jaar na verlaten onderwijs",
          "3 jaar na verlaten onderwijs",
          "4 jaar na verlaten onderwijs",
          "5 jaar na verlaten onderwijs",
          "Direct na verlaten onderwijs",
          "1 jaar na verlaten onderwijs",
          "2 jaar na verlaten onderwijs",
          "3 jaar na verlaten onderwijs",
          "4 jaar na verlaten onderwijs",
          "5 jaar na verlaten onderwijs",
          "Direct na verlaten onderwijs",
          "1 jaar na verlaten onderwijs",
          "2 jaar na verlaten onderwijs",
          "3 jaar na verlaten onderwijs",
          "4 jaar na verlaten onderwijs",
          "5 jaar na verlaten onderwijs",
          "Direct na verlaten onderwijs",
          "1 jaar na verlaten onderwijs",
          "2 jaar na verlaten onderwijs",
          "3 jaar na verlaten onderwijs",
          "4 jaar na verlaten onderwijs",
          "5 jaar na verlaten onderwijs",
          "Direct na verlaten onderwijs",
          "1 jaar na verlaten onderwijs",
          "2 jaar na verlaten onderwijs",
          "3 jaar na verlaten onderwijs",
          "4 jaar na verlaten onderwijs",
          "5 jaar na verlaten onderwijs",
          "Direct na verlaten onderwijs",
          "1 jaar na verlaten onderwijs",
          "2 jaar na verlaten onderwijs",
          "3 jaar na verlaten onderwijs",
          "4 jaar na verlaten onderwijs",
          "5 jaar na verlaten onderwijs",
          "Direct na verlaten onderwijs",
          "1 jaar na verlaten onderwijs",
          "2 jaar na verlaten onderwijs",
          "3 jaar na verlaten onderwijs",
          "4 jaar na verlaten onderwijs",
          "5 jaar na verlaten onderwijs",
          "Direct na verlaten onderwijs",
          "1 jaar na verlaten onderwijs",
          "2 jaar na verlaten onderwijs",
          "3 jaar na verlaten onderwijs",
          "4 jaar na verlaten onderwijs",
          "5 jaar na verlaten onderwijs",
          "Direct na verlaten onderwijs",
          "1 jaar na verlaten onderwijs",
          "2 jaar na verlaten onderwijs",
          "3 jaar na verlaten onderwijs",
          "4 jaar na verlaten onderwijs",
          "5 jaar na verlaten onderwijs",
          "Direct na verlaten onderwijs",
          "1 jaar na verlaten onderwijs",
          "2 jaar na verlaten onderwijs",
          "3 jaar na verlaten onderwijs",
          "4 jaar na verlaten onderwijs",
          "5 jaar na verlaten onderwijs",
          "Direct na verlaten onderwijs",
          "1 jaar na verlaten onderwijs",
          "2 jaar na verlaten onderwijs",
          "3 jaar na verlaten onderwijs",
          "4 jaar na verlaten onderwijs",
          "5 jaar na verlaten onderwijs",
          "Direct na verlaten onderwijs",
          "1 jaar na verlaten onderwijs",
          "2 jaar na verlaten onderwijs",
          "3 jaar na verlaten onderwijs",
          "4 jaar na verlaten onderwijs",
          "5 jaar na verlaten onderwijs",
          "Direct na verlaten onderwijs",
          "1 jaar na verlaten onderwijs",
          "2 jaar na verlaten onderwijs",
          "3 jaar na verlaten onderwijs",
          "4 jaar na verlaten onderwijs",
          "5 jaar na verlaten onderwijs",
          "Direct na verlaten onderwijs",
          "1 jaar na verlaten onderwijs",
          "2 jaar na verlaten onderwijs",
          "3 jaar na verlaten onderwijs",
          "4 jaar na verlaten onderwijs",
          "5 jaar na verlaten onderwijs",
          "Direct na verlaten onderwijs",
          "1 jaar na verlaten onderwijs",
          "2 jaar na verlaten onderwijs",
          "3 jaar na verlaten onderwijs",
          "4 jaar na verlaten onderwijs",
          "5 jaar na verlaten onderwijs",
          "Direct na verlaten onderwijs",
          "1 jaar na verlaten onderwijs",
          "2 jaar na verlaten onderwijs",
          "3 jaar na verlaten onderwijs",
          "4 jaar na verlaten onderwijs",
          "5 jaar na verlaten onderwijs",
          "Direct na verlaten onderwijs",
          "1 jaar na verlaten onderwijs",
          "2 jaar na verlaten onderwijs",
          "3 jaar na verlaten onderwijs",
          "4 jaar na verlaten onderwijs",
          "5 jaar na verlaten onderwijs",
          "Direct na verlaten onderwijs",
          "1 jaar na verlaten onderwijs",
          "2 jaar na verlaten onderwijs",
          "3 jaar na verlaten onderwijs",
          "4 jaar na verlaten onderwijs",
          "5 jaar na verlaten onderwijs",
          "Direct na verlaten onderwijs",
          "1 jaar na verlaten onderwijs",
          "2 jaar na verlaten onderwijs",
          "3 jaar na verlaten onderwijs",
          "4 jaar na verlaten onderwijs",
          "5 jaar na verlaten onderwijs",
          "Direct na verlaten onderwijs",
          "1 jaar na verlaten onderwijs",
          "2 jaar na verlaten onderwijs",
          "3 jaar na verlaten onderwijs",
          "4 jaar na verlaten onderwijs",
          "5 jaar na verlaten onderwijs",
          "Direct na verlaten onderwijs",
          "1 jaar na verlaten onderwijs",
          "2 jaar na verlaten onderwijs",
          "3 jaar na verlaten onderwijs",
          "4 jaar na verlaten onderwijs",
          "5 jaar na verlaten onderwijs",
          "Direct na verlaten onderwijs",
          "1 jaar na verlaten onderwijs",
          "2 jaar na verlaten onderwijs",
          "3 jaar na verlaten onderwijs",
          "4 jaar na verlaten onderwijs",
          "5 jaar na verlaten onderwijs",
          "Direct na verlaten onderwijs",
          "1 jaar na verlaten onderwijs",
          "2 jaar na verlaten onderwijs",
          "3 jaar na verlaten onderwijs",
          "4 jaar na verlaten onderwijs",
          "5 jaar na verlaten onderwijs",
          "Direct na verlaten onderwijs",
          "1 jaar na verlaten onderwijs",
          "2 jaar na verlaten onderwijs",
          "3 jaar na verlaten onderwijs",
          "4 jaar na verlaten onderwijs",
          "5 jaar na verlaten onderwijs",
          "Direct na verlaten onderwijs",
          "1 jaar na verlaten onderwijs",
          "2 jaar na verlaten onderwijs",
          "3 jaar na verlaten onderwijs",
          "4 jaar na verlaten onderwijs",
          "5 jaar na verlaten onderwijs",
          "Direct na verlaten onderwijs",
          "1 jaar na verlaten onderwijs",
          "2 jaar na verlaten onderwijs",
          "3 jaar na verlaten onderwijs",
          "4 jaar na verlaten onderwijs",
          "5 jaar na verlaten onderwijs",
          "Direct na verlaten onderwijs",
          "1 jaar na verlaten onderwijs",
          "2 jaar na verlaten onderwijs",
          "3 jaar na verlaten onderwijs",
          "4 jaar na verlaten onderwijs",
          "5 jaar na verlaten onderwijs",
          "Direct na verlaten onderwijs",
          "1 jaar na verlaten onderwijs",
          "2 jaar na verlaten onderwijs",
          "3 jaar na verlaten onderwijs",
          "4 jaar na verlaten onderwijs",
          "5 jaar na verlaten onderwijs",
          "Direct na verlaten onderwijs",
          "1 jaar na verlaten onderwijs",
          "2 jaar na verlaten onderwijs",
          "3 jaar na verlaten onderwijs",
          "4 jaar na verlaten onderwijs",
          "5 jaar na verlaten onderwijs",
          "Direct na verlaten onderwijs",
          "1 jaar na verlaten onderwijs",
          "2 jaar na verlaten onderwijs",
          "3 jaar na verlaten onderwijs",
          "4 jaar na verlaten onderwijs",
          "5 jaar na verlaten onderwijs",
          "Direct na verlaten onderwijs",
          "1 jaar na verlaten onderwijs",
          "2 jaar na verlaten onderwijs",
          "3 jaar na verlaten onderwijs",
          "4 jaar na verlaten onderwijs",
          "5 jaar na verlaten onderwijs",
          "Direct na verlaten onderwijs",
          "1 jaar na verlaten onderwijs",
          "2 jaar na verlaten onderwijs",
          "3 jaar na verlaten onderwijs",
          "4 jaar na verlaten onderwijs",
          "5 jaar na verlaten onderwijs",
          "Direct na verlaten onderwijs",
          "1 jaar na verlaten onderwijs",
          "2 jaar na verlaten onderwijs",
          "3 jaar na verlaten onderwijs",
          "4 jaar na verlaten onderwijs",
          "5 jaar na verlaten onderwijs",
          "Direct na verlaten onderwijs",
          "1 jaar na verlaten onderwijs",
          "2 jaar na verlaten onderwijs",
          "3 jaar na verlaten onderwijs",
          "4 jaar na verlaten onderwijs",
          "5 jaar na verlaten onderwijs",
          "Direct na verlaten onderwijs",
          "1 jaar na verlaten onderwijs",
          "2 jaar na verlaten onderwijs",
          "3 jaar na verlaten onderwijs",
          "4 jaar na verlaten onderwijs",
          "5 jaar na verlaten onderwijs",
          "Direct na verlaten onderwijs",
          "1 jaar na verlaten onderwijs",
          "2 jaar na verlaten onderwijs",
          "3 jaar na verlaten onderwijs",
          "4 jaar na verlaten onderwijs",
          "5 jaar na verlaten onderwijs",
          "Direct na verlaten onderwijs",
          "1 jaar na verlaten onderwijs",
          "2 jaar na verlaten onderwijs",
          "3 jaar na verlaten onderwijs",
          "4 jaar na verlaten onderwijs",
          "5 jaar na verlaten onderwijs",
          "Direct na verlaten onderwijs",
          "1 jaar na verlaten onderwijs",
          "2 jaar na verlaten onderwijs",
          "3 jaar na verlaten onderwijs",
          "4 jaar na verlaten onderwijs",
          "5 jaar na verlaten onderwijs",
          "Direct na verlaten onderwijs",
          "1 jaar na verlaten onderwijs",
          "2 jaar na verlaten onderwijs",
          "3 jaar na verlaten onderwijs",
          "4 jaar na verlaten onderwijs",
          "5 jaar na verlaten onderwijs",
          "Direct na verlaten onderwijs",
          "1 jaar na verlaten onderwijs",
          "2 jaar na verlaten onderwijs",
          "3 jaar na verlaten onderwijs",
          "4 jaar na verlaten onderwijs",
          "5 jaar na verlaten onderwijs",
          "Direct na verlaten onderwijs",
          "1 jaar na verlaten onderwijs",
          "2 jaar na verlaten onderwijs",
          "3 jaar na verlaten onderwijs",
          "4 jaar na verlaten onderwijs",
          "5 jaar na verlaten onderwijs",
          "Direct na verlaten onderwijs",
          "1 jaar na verlaten onderwijs",
          "2 jaar na verlaten onderwijs",
          "3 jaar na verlaten onderwijs",
          "4 jaar na verlaten onderwijs",
          "5 jaar na verlaten onderwijs",
          "Direct na verlaten onderwijs",
          "1 jaar na verlaten onderwijs",
          "2 jaar na verlaten onderwijs",
          "3 jaar na verlaten onderwijs",
          "4 jaar na verlaten onderwijs",
          "5 jaar na verlaten onderwijs",
          "Direct na verlaten onderwijs",
          "1 jaar na verlaten onderwijs",
          "2 jaar na verlaten onderwijs",
          "3 jaar na verlaten onderwijs",
          "4 jaar na verlaten onderwijs",
          "5 jaar na verlaten onderwijs",
          "Direct na verlaten onderwijs",
          "1 jaar na verlaten onderwijs",
          "2 jaar na verlaten onderwijs",
          "3 jaar na verlaten onderwijs",
          "4 jaar na verlaten onderwijs",
          "5 jaar na verlaten onderwijs",
          "Direct na verlaten onderwijs",
          "1 jaar na verlaten onderwijs",
          "2 jaar na verlaten onderwijs",
          "3 jaar na verlaten onderwijs",
          "4 jaar na verlaten onderwijs",
          "5 jaar na verlaten onderwijs",
          "Direct na verlaten onderwijs",
          "1 jaar na verlaten onderwijs",
          "2 jaar na verlaten onderwijs",
          "3 jaar na verlaten onderwijs",
          "4 jaar na verlaten onderwijs",
          "5 jaar na verlaten onderwijs",
          "Direct na verlaten onderwijs",
          "1 jaar na verlaten onderwijs",
          "2 jaar na verlaten onderwijs",
          "3 jaar na verlaten onderwijs",
          "4 jaar na verlaten onderwijs",
          "5 jaar na verlaten onderwijs",
          "Direct na verlaten onderwijs",
          "1 jaar na verlaten onderwijs",
          "2 jaar na verlaten onderwijs",
          "3 jaar na verlaten onderwijs",
          "4 jaar na verlaten onderwijs",
          "5 jaar na verlaten onderwijs",
          "Direct na verlaten onderwijs",
          "1 jaar na verlaten onderwijs",
          "2 jaar na verlaten onderwijs",
          "3 jaar na verlaten onderwijs",
          "4 jaar na verlaten onderwijs",
          "5 jaar na verlaten onderwijs",
          "Direct na verlaten onderwijs",
          "1 jaar na verlaten onderwijs",
          "2 jaar na verlaten onderwijs",
          "3 jaar na verlaten onderwijs",
          "4 jaar na verlaten onderwijs",
          "5 jaar na verlaten onderwijs",
          "Direct na verlaten onderwijs",
          "1 jaar na verlaten onderwijs",
          "2 jaar na verlaten onderwijs",
          "3 jaar na verlaten onderwijs",
          "4 jaar na verlaten onderwijs",
          "5 jaar na verlaten onderwijs",
          "Direct na verlaten onderwijs",
          "1 jaar na verlaten onderwijs",
          "2 jaar na verlaten onderwijs",
          "3 jaar na verlaten onderwijs",
          "4 jaar na verlaten onderwijs",
          "5 jaar na verlaten onderwijs",
          "Direct na verlaten onderwijs",
          "1 jaar na verlaten onderwijs",
          "2 jaar na verlaten onderwijs",
          "3 jaar na verlaten onderwijs",
          "4 jaar na verlaten onderwijs",
          "5 jaar na verlaten onderwijs",
          "Direct na verlaten onderwijs",
          "1 jaar na verlaten onderwijs",
          "2 jaar na verlaten onderwijs",
          "3 jaar na verlaten onderwijs",
          "4 jaar na verlaten onderwijs",
          "5 jaar na verlaten onderwijs",
          "Direct na verlaten onderwijs",
          "1 jaar na verlaten onderwijs",
          "2 jaar na verlaten onderwijs",
          "3 jaar na verlaten onderwijs",
          "4 jaar na verlaten onderwijs",
          "5 jaar na verlaten onderwijs",
          "Direct na verlaten onderwijs",
          "1 jaar na verlaten onderwijs",
          "2 jaar na verlaten onderwijs",
          "3 jaar na verlaten onderwijs",
          "4 jaar na verlaten onderwijs",
          "5 jaar na verlaten onderwijs",
          "Direct na verlaten onderwijs",
          "1 jaar na verlaten onderwijs",
          "2 jaar na verlaten onderwijs",
          "3 jaar na verlaten onderwijs",
          "4 jaar na verlaten onderwijs",
          "5 jaar na verlaten onderwijs",
          "Direct na verlaten onderwijs",
          "1 jaar na verlaten onderwijs",
          "2 jaar na verlaten onderwijs",
          "3 jaar na verlaten onderwijs",
          "4 jaar na verlaten onderwijs",
          "5 jaar na verlaten onderwijs",
          "Direct na verlaten onderwijs",
          "1 jaar na verlaten onderwijs",
          "2 jaar na verlaten onderwijs",
          "3 jaar na verlaten onderwijs",
          "4 jaar na verlaten onderwijs",
          "5 jaar na verlaten onderwijs",
          "Direct na verlaten onderwijs",
          "1 jaar na verlaten onderwijs",
          "2 jaar na verlaten onderwijs",
          "3 jaar na verlaten onderwijs",
          "4 jaar na verlaten onderwijs",
          "5 jaar na verlaten onderwijs",
          "Direct na verlaten onderwijs",
          "1 jaar na verlaten onderwijs",
          "2 jaar na verlaten onderwijs",
          "3 jaar na verlaten onderwijs",
          "4 jaar na verlaten onderwijs",
          "5 jaar na verlaten onderwijs",
          "Direct na verlaten onderwijs",
          "1 jaar na verlaten onderwijs",
          "2 jaar na verlaten onderwijs",
          "3 jaar na verlaten onderwijs",
          "4 jaar na verlaten onderwijs",
          "5 jaar na verlaten onderwijs",
          "Direct na verlaten onderwijs",
          "1 jaar na verlaten onderwijs",
          "2 jaar na verlaten onderwijs",
          "3 jaar na verlaten onderwijs",
          "4 jaar na verlaten onderwijs",
          "5 jaar na verlaten onderwijs",
          "Direct na verlaten onderwijs",
          "1 jaar na verlaten onderwijs",
          "2 jaar na verlaten onderwijs",
          "3 jaar na verlaten onderwijs",
          "4 jaar na verlaten onderwijs",
          "5 jaar na verlaten onderwijs",
          "Direct na verlaten onderwijs",
          "1 jaar na verlaten onderwijs",
          "2 jaar na verlaten onderwijs",
          "3 jaar na verlaten onderwijs",
          "4 jaar na verlaten onderwijs",
          "5 jaar na verlaten onderwijs",
          "Direct na verlaten onderwijs",
          "1 jaar na verlaten onderwijs",
          "2 jaar na verlaten onderwijs",
          "3 jaar na verlaten onderwijs",
          "4 jaar na verlaten onderwijs",
          "5 jaar na verlaten onderwijs",
          "Direct na verlaten onderwijs",
          "1 jaar na verlaten onderwijs",
          "2 jaar na verlaten onderwijs",
          "3 jaar na verlaten onderwijs",
          "4 jaar na verlaten onderwijs",
          "5 jaar na verlaten onderwijs",
          "Direct na verlaten onderwijs",
          "1 jaar na verlaten onderwijs",
          "2 jaar na verlaten onderwijs",
          "3 jaar na verlaten onderwijs",
          "4 jaar na verlaten onderwijs",
          "5 jaar na verlaten onderwijs",
          "Direct na verlaten onderwijs",
          "1 jaar na verlaten onderwijs",
          "2 jaar na verlaten onderwijs",
          "3 jaar na verlaten onderwijs",
          "4 jaar na verlaten onderwijs",
          "5 jaar na verlaten onderwijs",
          "Direct na verlaten onderwijs",
          "1 jaar na verlaten onderwijs",
          "2 jaar na verlaten onderwijs",
          "3 jaar na verlaten onderwijs",
          "4 jaar na verlaten onderwijs",
          "5 jaar na verlaten onderwijs"
         ],
         "y": [
          14.79,
          16.3,
          18.14,
          19.61,
          21.4,
          22.84
         ]
        },
        {
         "hoverinfo": "y+name",
         "marker": {
          "color": "rgb(252,141,98)"
         },
         "name": "Hbo-master",
         "type": "bar",
         "x": [
          "Direct na verlaten onderwijs",
          "1 jaar na verlaten onderwijs",
          "2 jaar na verlaten onderwijs",
          "3 jaar na verlaten onderwijs",
          "4 jaar na verlaten onderwijs",
          "5 jaar na verlaten onderwijs",
          "Direct na verlaten onderwijs",
          "1 jaar na verlaten onderwijs",
          "2 jaar na verlaten onderwijs",
          "3 jaar na verlaten onderwijs",
          "4 jaar na verlaten onderwijs",
          "5 jaar na verlaten onderwijs",
          "Direct na verlaten onderwijs",
          "1 jaar na verlaten onderwijs",
          "2 jaar na verlaten onderwijs",
          "3 jaar na verlaten onderwijs",
          "4 jaar na verlaten onderwijs",
          "5 jaar na verlaten onderwijs",
          "Direct na verlaten onderwijs",
          "1 jaar na verlaten onderwijs",
          "2 jaar na verlaten onderwijs",
          "3 jaar na verlaten onderwijs",
          "4 jaar na verlaten onderwijs",
          "5 jaar na verlaten onderwijs",
          "Direct na verlaten onderwijs",
          "1 jaar na verlaten onderwijs",
          "2 jaar na verlaten onderwijs",
          "3 jaar na verlaten onderwijs",
          "4 jaar na verlaten onderwijs",
          "5 jaar na verlaten onderwijs",
          "Direct na verlaten onderwijs",
          "1 jaar na verlaten onderwijs",
          "2 jaar na verlaten onderwijs",
          "3 jaar na verlaten onderwijs",
          "4 jaar na verlaten onderwijs",
          "5 jaar na verlaten onderwijs",
          "Direct na verlaten onderwijs",
          "1 jaar na verlaten onderwijs",
          "2 jaar na verlaten onderwijs",
          "3 jaar na verlaten onderwijs",
          "4 jaar na verlaten onderwijs",
          "5 jaar na verlaten onderwijs",
          "Direct na verlaten onderwijs",
          "1 jaar na verlaten onderwijs",
          "2 jaar na verlaten onderwijs",
          "3 jaar na verlaten onderwijs",
          "4 jaar na verlaten onderwijs",
          "5 jaar na verlaten onderwijs",
          "Direct na verlaten onderwijs",
          "1 jaar na verlaten onderwijs",
          "2 jaar na verlaten onderwijs",
          "3 jaar na verlaten onderwijs",
          "4 jaar na verlaten onderwijs",
          "5 jaar na verlaten onderwijs",
          "Direct na verlaten onderwijs",
          "1 jaar na verlaten onderwijs",
          "2 jaar na verlaten onderwijs",
          "3 jaar na verlaten onderwijs",
          "4 jaar na verlaten onderwijs",
          "5 jaar na verlaten onderwijs",
          "Direct na verlaten onderwijs",
          "1 jaar na verlaten onderwijs",
          "2 jaar na verlaten onderwijs",
          "3 jaar na verlaten onderwijs",
          "4 jaar na verlaten onderwijs",
          "5 jaar na verlaten onderwijs",
          "Direct na verlaten onderwijs",
          "1 jaar na verlaten onderwijs",
          "2 jaar na verlaten onderwijs",
          "3 jaar na verlaten onderwijs",
          "4 jaar na verlaten onderwijs",
          "5 jaar na verlaten onderwijs",
          "Direct na verlaten onderwijs",
          "1 jaar na verlaten onderwijs",
          "2 jaar na verlaten onderwijs",
          "3 jaar na verlaten onderwijs",
          "4 jaar na verlaten onderwijs",
          "5 jaar na verlaten onderwijs",
          "Direct na verlaten onderwijs",
          "1 jaar na verlaten onderwijs",
          "2 jaar na verlaten onderwijs",
          "3 jaar na verlaten onderwijs",
          "4 jaar na verlaten onderwijs",
          "5 jaar na verlaten onderwijs",
          "Direct na verlaten onderwijs",
          "1 jaar na verlaten onderwijs",
          "2 jaar na verlaten onderwijs",
          "3 jaar na verlaten onderwijs",
          "4 jaar na verlaten onderwijs",
          "5 jaar na verlaten onderwijs",
          "Direct na verlaten onderwijs",
          "1 jaar na verlaten onderwijs",
          "2 jaar na verlaten onderwijs",
          "3 jaar na verlaten onderwijs",
          "4 jaar na verlaten onderwijs",
          "5 jaar na verlaten onderwijs",
          "Direct na verlaten onderwijs",
          "1 jaar na verlaten onderwijs",
          "2 jaar na verlaten onderwijs",
          "3 jaar na verlaten onderwijs",
          "4 jaar na verlaten onderwijs",
          "5 jaar na verlaten onderwijs",
          "Direct na verlaten onderwijs",
          "1 jaar na verlaten onderwijs",
          "2 jaar na verlaten onderwijs",
          "3 jaar na verlaten onderwijs",
          "4 jaar na verlaten onderwijs",
          "5 jaar na verlaten onderwijs",
          "Direct na verlaten onderwijs",
          "1 jaar na verlaten onderwijs",
          "2 jaar na verlaten onderwijs",
          "3 jaar na verlaten onderwijs",
          "4 jaar na verlaten onderwijs",
          "5 jaar na verlaten onderwijs",
          "Direct na verlaten onderwijs",
          "1 jaar na verlaten onderwijs",
          "2 jaar na verlaten onderwijs",
          "3 jaar na verlaten onderwijs",
          "4 jaar na verlaten onderwijs",
          "5 jaar na verlaten onderwijs",
          "Direct na verlaten onderwijs",
          "1 jaar na verlaten onderwijs",
          "2 jaar na verlaten onderwijs",
          "3 jaar na verlaten onderwijs",
          "4 jaar na verlaten onderwijs",
          "5 jaar na verlaten onderwijs",
          "Direct na verlaten onderwijs",
          "1 jaar na verlaten onderwijs",
          "2 jaar na verlaten onderwijs",
          "3 jaar na verlaten onderwijs",
          "4 jaar na verlaten onderwijs",
          "5 jaar na verlaten onderwijs",
          "Direct na verlaten onderwijs",
          "1 jaar na verlaten onderwijs",
          "2 jaar na verlaten onderwijs",
          "3 jaar na verlaten onderwijs",
          "4 jaar na verlaten onderwijs",
          "5 jaar na verlaten onderwijs",
          "Direct na verlaten onderwijs",
          "1 jaar na verlaten onderwijs",
          "2 jaar na verlaten onderwijs",
          "3 jaar na verlaten onderwijs",
          "4 jaar na verlaten onderwijs",
          "5 jaar na verlaten onderwijs",
          "Direct na verlaten onderwijs",
          "1 jaar na verlaten onderwijs",
          "2 jaar na verlaten onderwijs",
          "3 jaar na verlaten onderwijs",
          "4 jaar na verlaten onderwijs",
          "5 jaar na verlaten onderwijs",
          "Direct na verlaten onderwijs",
          "1 jaar na verlaten onderwijs",
          "2 jaar na verlaten onderwijs",
          "3 jaar na verlaten onderwijs",
          "4 jaar na verlaten onderwijs",
          "5 jaar na verlaten onderwijs",
          "Direct na verlaten onderwijs",
          "1 jaar na verlaten onderwijs",
          "2 jaar na verlaten onderwijs",
          "3 jaar na verlaten onderwijs",
          "4 jaar na verlaten onderwijs",
          "5 jaar na verlaten onderwijs",
          "Direct na verlaten onderwijs",
          "1 jaar na verlaten onderwijs",
          "2 jaar na verlaten onderwijs",
          "3 jaar na verlaten onderwijs",
          "4 jaar na verlaten onderwijs",
          "5 jaar na verlaten onderwijs",
          "Direct na verlaten onderwijs",
          "1 jaar na verlaten onderwijs",
          "2 jaar na verlaten onderwijs",
          "3 jaar na verlaten onderwijs",
          "4 jaar na verlaten onderwijs",
          "5 jaar na verlaten onderwijs",
          "Direct na verlaten onderwijs",
          "1 jaar na verlaten onderwijs",
          "2 jaar na verlaten onderwijs",
          "3 jaar na verlaten onderwijs",
          "4 jaar na verlaten onderwijs",
          "5 jaar na verlaten onderwijs",
          "Direct na verlaten onderwijs",
          "1 jaar na verlaten onderwijs",
          "2 jaar na verlaten onderwijs",
          "3 jaar na verlaten onderwijs",
          "4 jaar na verlaten onderwijs",
          "5 jaar na verlaten onderwijs",
          "Direct na verlaten onderwijs",
          "1 jaar na verlaten onderwijs",
          "2 jaar na verlaten onderwijs",
          "3 jaar na verlaten onderwijs",
          "4 jaar na verlaten onderwijs",
          "5 jaar na verlaten onderwijs",
          "Direct na verlaten onderwijs",
          "1 jaar na verlaten onderwijs",
          "2 jaar na verlaten onderwijs",
          "3 jaar na verlaten onderwijs",
          "4 jaar na verlaten onderwijs",
          "5 jaar na verlaten onderwijs",
          "Direct na verlaten onderwijs",
          "1 jaar na verlaten onderwijs",
          "2 jaar na verlaten onderwijs",
          "3 jaar na verlaten onderwijs",
          "4 jaar na verlaten onderwijs",
          "5 jaar na verlaten onderwijs",
          "Direct na verlaten onderwijs",
          "1 jaar na verlaten onderwijs",
          "2 jaar na verlaten onderwijs",
          "3 jaar na verlaten onderwijs",
          "4 jaar na verlaten onderwijs",
          "5 jaar na verlaten onderwijs",
          "Direct na verlaten onderwijs",
          "1 jaar na verlaten onderwijs",
          "2 jaar na verlaten onderwijs",
          "3 jaar na verlaten onderwijs",
          "4 jaar na verlaten onderwijs",
          "5 jaar na verlaten onderwijs",
          "Direct na verlaten onderwijs",
          "1 jaar na verlaten onderwijs",
          "2 jaar na verlaten onderwijs",
          "3 jaar na verlaten onderwijs",
          "4 jaar na verlaten onderwijs",
          "5 jaar na verlaten onderwijs",
          "Direct na verlaten onderwijs",
          "1 jaar na verlaten onderwijs",
          "2 jaar na verlaten onderwijs",
          "3 jaar na verlaten onderwijs",
          "4 jaar na verlaten onderwijs",
          "5 jaar na verlaten onderwijs",
          "Direct na verlaten onderwijs",
          "1 jaar na verlaten onderwijs",
          "2 jaar na verlaten onderwijs",
          "3 jaar na verlaten onderwijs",
          "4 jaar na verlaten onderwijs",
          "5 jaar na verlaten onderwijs",
          "Direct na verlaten onderwijs",
          "1 jaar na verlaten onderwijs",
          "2 jaar na verlaten onderwijs",
          "3 jaar na verlaten onderwijs",
          "4 jaar na verlaten onderwijs",
          "5 jaar na verlaten onderwijs",
          "Direct na verlaten onderwijs",
          "1 jaar na verlaten onderwijs",
          "2 jaar na verlaten onderwijs",
          "3 jaar na verlaten onderwijs",
          "4 jaar na verlaten onderwijs",
          "5 jaar na verlaten onderwijs",
          "Direct na verlaten onderwijs",
          "1 jaar na verlaten onderwijs",
          "2 jaar na verlaten onderwijs",
          "3 jaar na verlaten onderwijs",
          "4 jaar na verlaten onderwijs",
          "5 jaar na verlaten onderwijs",
          "Direct na verlaten onderwijs",
          "1 jaar na verlaten onderwijs",
          "2 jaar na verlaten onderwijs",
          "3 jaar na verlaten onderwijs",
          "4 jaar na verlaten onderwijs",
          "5 jaar na verlaten onderwijs",
          "Direct na verlaten onderwijs",
          "1 jaar na verlaten onderwijs",
          "2 jaar na verlaten onderwijs",
          "3 jaar na verlaten onderwijs",
          "4 jaar na verlaten onderwijs",
          "5 jaar na verlaten onderwijs",
          "Direct na verlaten onderwijs",
          "1 jaar na verlaten onderwijs",
          "2 jaar na verlaten onderwijs",
          "3 jaar na verlaten onderwijs",
          "4 jaar na verlaten onderwijs",
          "5 jaar na verlaten onderwijs",
          "Direct na verlaten onderwijs",
          "1 jaar na verlaten onderwijs",
          "2 jaar na verlaten onderwijs",
          "3 jaar na verlaten onderwijs",
          "4 jaar na verlaten onderwijs",
          "5 jaar na verlaten onderwijs",
          "Direct na verlaten onderwijs",
          "1 jaar na verlaten onderwijs",
          "2 jaar na verlaten onderwijs",
          "3 jaar na verlaten onderwijs",
          "4 jaar na verlaten onderwijs",
          "5 jaar na verlaten onderwijs",
          "Direct na verlaten onderwijs",
          "1 jaar na verlaten onderwijs",
          "2 jaar na verlaten onderwijs",
          "3 jaar na verlaten onderwijs",
          "4 jaar na verlaten onderwijs",
          "5 jaar na verlaten onderwijs",
          "Direct na verlaten onderwijs",
          "1 jaar na verlaten onderwijs",
          "2 jaar na verlaten onderwijs",
          "3 jaar na verlaten onderwijs",
          "4 jaar na verlaten onderwijs",
          "5 jaar na verlaten onderwijs",
          "Direct na verlaten onderwijs",
          "1 jaar na verlaten onderwijs",
          "2 jaar na verlaten onderwijs",
          "3 jaar na verlaten onderwijs",
          "4 jaar na verlaten onderwijs",
          "5 jaar na verlaten onderwijs",
          "Direct na verlaten onderwijs",
          "1 jaar na verlaten onderwijs",
          "2 jaar na verlaten onderwijs",
          "3 jaar na verlaten onderwijs",
          "4 jaar na verlaten onderwijs",
          "5 jaar na verlaten onderwijs",
          "Direct na verlaten onderwijs",
          "1 jaar na verlaten onderwijs",
          "2 jaar na verlaten onderwijs",
          "3 jaar na verlaten onderwijs",
          "4 jaar na verlaten onderwijs",
          "5 jaar na verlaten onderwijs",
          "Direct na verlaten onderwijs",
          "1 jaar na verlaten onderwijs",
          "2 jaar na verlaten onderwijs",
          "3 jaar na verlaten onderwijs",
          "4 jaar na verlaten onderwijs",
          "5 jaar na verlaten onderwijs",
          "Direct na verlaten onderwijs",
          "1 jaar na verlaten onderwijs",
          "2 jaar na verlaten onderwijs",
          "3 jaar na verlaten onderwijs",
          "4 jaar na verlaten onderwijs",
          "5 jaar na verlaten onderwijs",
          "Direct na verlaten onderwijs",
          "1 jaar na verlaten onderwijs",
          "2 jaar na verlaten onderwijs",
          "3 jaar na verlaten onderwijs",
          "4 jaar na verlaten onderwijs",
          "5 jaar na verlaten onderwijs",
          "Direct na verlaten onderwijs",
          "1 jaar na verlaten onderwijs",
          "2 jaar na verlaten onderwijs",
          "3 jaar na verlaten onderwijs",
          "4 jaar na verlaten onderwijs",
          "5 jaar na verlaten onderwijs",
          "Direct na verlaten onderwijs",
          "1 jaar na verlaten onderwijs",
          "2 jaar na verlaten onderwijs",
          "3 jaar na verlaten onderwijs",
          "4 jaar na verlaten onderwijs",
          "5 jaar na verlaten onderwijs",
          "Direct na verlaten onderwijs",
          "1 jaar na verlaten onderwijs",
          "2 jaar na verlaten onderwijs",
          "3 jaar na verlaten onderwijs",
          "4 jaar na verlaten onderwijs",
          "5 jaar na verlaten onderwijs",
          "Direct na verlaten onderwijs",
          "1 jaar na verlaten onderwijs",
          "2 jaar na verlaten onderwijs",
          "3 jaar na verlaten onderwijs",
          "4 jaar na verlaten onderwijs",
          "5 jaar na verlaten onderwijs",
          "Direct na verlaten onderwijs",
          "1 jaar na verlaten onderwijs",
          "2 jaar na verlaten onderwijs",
          "3 jaar na verlaten onderwijs",
          "4 jaar na verlaten onderwijs",
          "5 jaar na verlaten onderwijs",
          "Direct na verlaten onderwijs",
          "1 jaar na verlaten onderwijs",
          "2 jaar na verlaten onderwijs",
          "3 jaar na verlaten onderwijs",
          "4 jaar na verlaten onderwijs",
          "5 jaar na verlaten onderwijs",
          "Direct na verlaten onderwijs",
          "1 jaar na verlaten onderwijs",
          "2 jaar na verlaten onderwijs",
          "3 jaar na verlaten onderwijs",
          "4 jaar na verlaten onderwijs",
          "5 jaar na verlaten onderwijs",
          "Direct na verlaten onderwijs",
          "1 jaar na verlaten onderwijs",
          "2 jaar na verlaten onderwijs",
          "3 jaar na verlaten onderwijs",
          "4 jaar na verlaten onderwijs",
          "5 jaar na verlaten onderwijs",
          "Direct na verlaten onderwijs",
          "1 jaar na verlaten onderwijs",
          "2 jaar na verlaten onderwijs",
          "3 jaar na verlaten onderwijs",
          "4 jaar na verlaten onderwijs",
          "5 jaar na verlaten onderwijs",
          "Direct na verlaten onderwijs",
          "1 jaar na verlaten onderwijs",
          "2 jaar na verlaten onderwijs",
          "3 jaar na verlaten onderwijs",
          "4 jaar na verlaten onderwijs",
          "5 jaar na verlaten onderwijs",
          "Direct na verlaten onderwijs",
          "1 jaar na verlaten onderwijs",
          "2 jaar na verlaten onderwijs",
          "3 jaar na verlaten onderwijs",
          "4 jaar na verlaten onderwijs",
          "5 jaar na verlaten onderwijs",
          "Direct na verlaten onderwijs",
          "1 jaar na verlaten onderwijs",
          "2 jaar na verlaten onderwijs",
          "3 jaar na verlaten onderwijs",
          "4 jaar na verlaten onderwijs",
          "5 jaar na verlaten onderwijs",
          "Direct na verlaten onderwijs",
          "1 jaar na verlaten onderwijs",
          "2 jaar na verlaten onderwijs",
          "3 jaar na verlaten onderwijs",
          "4 jaar na verlaten onderwijs",
          "5 jaar na verlaten onderwijs",
          "Direct na verlaten onderwijs",
          "1 jaar na verlaten onderwijs",
          "2 jaar na verlaten onderwijs",
          "3 jaar na verlaten onderwijs",
          "4 jaar na verlaten onderwijs",
          "5 jaar na verlaten onderwijs",
          "Direct na verlaten onderwijs",
          "1 jaar na verlaten onderwijs",
          "2 jaar na verlaten onderwijs",
          "3 jaar na verlaten onderwijs",
          "4 jaar na verlaten onderwijs",
          "5 jaar na verlaten onderwijs",
          "Direct na verlaten onderwijs",
          "1 jaar na verlaten onderwijs",
          "2 jaar na verlaten onderwijs",
          "3 jaar na verlaten onderwijs",
          "4 jaar na verlaten onderwijs",
          "5 jaar na verlaten onderwijs",
          "Direct na verlaten onderwijs",
          "1 jaar na verlaten onderwijs",
          "2 jaar na verlaten onderwijs",
          "3 jaar na verlaten onderwijs",
          "4 jaar na verlaten onderwijs",
          "5 jaar na verlaten onderwijs",
          "Direct na verlaten onderwijs",
          "1 jaar na verlaten onderwijs",
          "2 jaar na verlaten onderwijs",
          "3 jaar na verlaten onderwijs",
          "4 jaar na verlaten onderwijs",
          "5 jaar na verlaten onderwijs",
          "Direct na verlaten onderwijs",
          "1 jaar na verlaten onderwijs",
          "2 jaar na verlaten onderwijs",
          "3 jaar na verlaten onderwijs",
          "4 jaar na verlaten onderwijs",
          "5 jaar na verlaten onderwijs",
          "Direct na verlaten onderwijs",
          "1 jaar na verlaten onderwijs",
          "2 jaar na verlaten onderwijs",
          "3 jaar na verlaten onderwijs",
          "4 jaar na verlaten onderwijs",
          "5 jaar na verlaten onderwijs",
          "Direct na verlaten onderwijs",
          "1 jaar na verlaten onderwijs",
          "2 jaar na verlaten onderwijs",
          "3 jaar na verlaten onderwijs",
          "4 jaar na verlaten onderwijs",
          "5 jaar na verlaten onderwijs",
          "Direct na verlaten onderwijs",
          "1 jaar na verlaten onderwijs",
          "2 jaar na verlaten onderwijs",
          "3 jaar na verlaten onderwijs",
          "4 jaar na verlaten onderwijs",
          "5 jaar na verlaten onderwijs",
          "Direct na verlaten onderwijs",
          "1 jaar na verlaten onderwijs",
          "2 jaar na verlaten onderwijs",
          "3 jaar na verlaten onderwijs",
          "4 jaar na verlaten onderwijs",
          "5 jaar na verlaten onderwijs",
          "Direct na verlaten onderwijs",
          "1 jaar na verlaten onderwijs",
          "2 jaar na verlaten onderwijs",
          "3 jaar na verlaten onderwijs",
          "4 jaar na verlaten onderwijs",
          "5 jaar na verlaten onderwijs",
          "Direct na verlaten onderwijs",
          "1 jaar na verlaten onderwijs",
          "2 jaar na verlaten onderwijs",
          "3 jaar na verlaten onderwijs",
          "4 jaar na verlaten onderwijs",
          "5 jaar na verlaten onderwijs"
         ],
         "y": [
          17.29,
          17.84,
          19.85,
          21.01,
          22.68,
          23.87
         ]
        },
        {
         "hoverinfo": "y+name",
         "marker": {
          "color": "rgb(141,160,203)"
         },
         "name": "Wo-bachelor",
         "type": "bar",
         "x": [
          "Direct na verlaten onderwijs",
          "1 jaar na verlaten onderwijs",
          "2 jaar na verlaten onderwijs",
          "3 jaar na verlaten onderwijs",
          "4 jaar na verlaten onderwijs",
          "5 jaar na verlaten onderwijs",
          "Direct na verlaten onderwijs",
          "1 jaar na verlaten onderwijs",
          "2 jaar na verlaten onderwijs",
          "3 jaar na verlaten onderwijs",
          "4 jaar na verlaten onderwijs",
          "5 jaar na verlaten onderwijs",
          "Direct na verlaten onderwijs",
          "1 jaar na verlaten onderwijs",
          "2 jaar na verlaten onderwijs",
          "3 jaar na verlaten onderwijs",
          "4 jaar na verlaten onderwijs",
          "5 jaar na verlaten onderwijs",
          "Direct na verlaten onderwijs",
          "1 jaar na verlaten onderwijs",
          "2 jaar na verlaten onderwijs",
          "3 jaar na verlaten onderwijs",
          "4 jaar na verlaten onderwijs",
          "5 jaar na verlaten onderwijs",
          "Direct na verlaten onderwijs",
          "1 jaar na verlaten onderwijs",
          "2 jaar na verlaten onderwijs",
          "3 jaar na verlaten onderwijs",
          "4 jaar na verlaten onderwijs",
          "5 jaar na verlaten onderwijs",
          "Direct na verlaten onderwijs",
          "1 jaar na verlaten onderwijs",
          "2 jaar na verlaten onderwijs",
          "3 jaar na verlaten onderwijs",
          "4 jaar na verlaten onderwijs",
          "5 jaar na verlaten onderwijs",
          "Direct na verlaten onderwijs",
          "1 jaar na verlaten onderwijs",
          "2 jaar na verlaten onderwijs",
          "3 jaar na verlaten onderwijs",
          "4 jaar na verlaten onderwijs",
          "5 jaar na verlaten onderwijs",
          "Direct na verlaten onderwijs",
          "1 jaar na verlaten onderwijs",
          "2 jaar na verlaten onderwijs",
          "3 jaar na verlaten onderwijs",
          "4 jaar na verlaten onderwijs",
          "5 jaar na verlaten onderwijs",
          "Direct na verlaten onderwijs",
          "1 jaar na verlaten onderwijs",
          "2 jaar na verlaten onderwijs",
          "3 jaar na verlaten onderwijs",
          "4 jaar na verlaten onderwijs",
          "5 jaar na verlaten onderwijs",
          "Direct na verlaten onderwijs",
          "1 jaar na verlaten onderwijs",
          "2 jaar na verlaten onderwijs",
          "3 jaar na verlaten onderwijs",
          "4 jaar na verlaten onderwijs",
          "5 jaar na verlaten onderwijs",
          "Direct na verlaten onderwijs",
          "1 jaar na verlaten onderwijs",
          "2 jaar na verlaten onderwijs",
          "3 jaar na verlaten onderwijs",
          "4 jaar na verlaten onderwijs",
          "5 jaar na verlaten onderwijs",
          "Direct na verlaten onderwijs",
          "1 jaar na verlaten onderwijs",
          "2 jaar na verlaten onderwijs",
          "3 jaar na verlaten onderwijs",
          "4 jaar na verlaten onderwijs",
          "5 jaar na verlaten onderwijs",
          "Direct na verlaten onderwijs",
          "1 jaar na verlaten onderwijs",
          "2 jaar na verlaten onderwijs",
          "3 jaar na verlaten onderwijs",
          "4 jaar na verlaten onderwijs",
          "5 jaar na verlaten onderwijs",
          "Direct na verlaten onderwijs",
          "1 jaar na verlaten onderwijs",
          "2 jaar na verlaten onderwijs",
          "3 jaar na verlaten onderwijs",
          "4 jaar na verlaten onderwijs",
          "5 jaar na verlaten onderwijs",
          "Direct na verlaten onderwijs",
          "1 jaar na verlaten onderwijs",
          "2 jaar na verlaten onderwijs",
          "3 jaar na verlaten onderwijs",
          "4 jaar na verlaten onderwijs",
          "5 jaar na verlaten onderwijs",
          "Direct na verlaten onderwijs",
          "1 jaar na verlaten onderwijs",
          "2 jaar na verlaten onderwijs",
          "3 jaar na verlaten onderwijs",
          "4 jaar na verlaten onderwijs",
          "5 jaar na verlaten onderwijs",
          "Direct na verlaten onderwijs",
          "1 jaar na verlaten onderwijs",
          "2 jaar na verlaten onderwijs",
          "3 jaar na verlaten onderwijs",
          "4 jaar na verlaten onderwijs",
          "5 jaar na verlaten onderwijs",
          "Direct na verlaten onderwijs",
          "1 jaar na verlaten onderwijs",
          "2 jaar na verlaten onderwijs",
          "3 jaar na verlaten onderwijs",
          "4 jaar na verlaten onderwijs",
          "5 jaar na verlaten onderwijs",
          "Direct na verlaten onderwijs",
          "1 jaar na verlaten onderwijs",
          "2 jaar na verlaten onderwijs",
          "3 jaar na verlaten onderwijs",
          "4 jaar na verlaten onderwijs",
          "5 jaar na verlaten onderwijs",
          "Direct na verlaten onderwijs",
          "1 jaar na verlaten onderwijs",
          "2 jaar na verlaten onderwijs",
          "3 jaar na verlaten onderwijs",
          "4 jaar na verlaten onderwijs",
          "5 jaar na verlaten onderwijs",
          "Direct na verlaten onderwijs",
          "1 jaar na verlaten onderwijs",
          "2 jaar na verlaten onderwijs",
          "3 jaar na verlaten onderwijs",
          "4 jaar na verlaten onderwijs",
          "5 jaar na verlaten onderwijs",
          "Direct na verlaten onderwijs",
          "1 jaar na verlaten onderwijs",
          "2 jaar na verlaten onderwijs",
          "3 jaar na verlaten onderwijs",
          "4 jaar na verlaten onderwijs",
          "5 jaar na verlaten onderwijs",
          "Direct na verlaten onderwijs",
          "1 jaar na verlaten onderwijs",
          "2 jaar na verlaten onderwijs",
          "3 jaar na verlaten onderwijs",
          "4 jaar na verlaten onderwijs",
          "5 jaar na verlaten onderwijs",
          "Direct na verlaten onderwijs",
          "1 jaar na verlaten onderwijs",
          "2 jaar na verlaten onderwijs",
          "3 jaar na verlaten onderwijs",
          "4 jaar na verlaten onderwijs",
          "5 jaar na verlaten onderwijs",
          "Direct na verlaten onderwijs",
          "1 jaar na verlaten onderwijs",
          "2 jaar na verlaten onderwijs",
          "3 jaar na verlaten onderwijs",
          "4 jaar na verlaten onderwijs",
          "5 jaar na verlaten onderwijs",
          "Direct na verlaten onderwijs",
          "1 jaar na verlaten onderwijs",
          "2 jaar na verlaten onderwijs",
          "3 jaar na verlaten onderwijs",
          "4 jaar na verlaten onderwijs",
          "5 jaar na verlaten onderwijs",
          "Direct na verlaten onderwijs",
          "1 jaar na verlaten onderwijs",
          "2 jaar na verlaten onderwijs",
          "3 jaar na verlaten onderwijs",
          "4 jaar na verlaten onderwijs",
          "5 jaar na verlaten onderwijs",
          "Direct na verlaten onderwijs",
          "1 jaar na verlaten onderwijs",
          "2 jaar na verlaten onderwijs",
          "3 jaar na verlaten onderwijs",
          "4 jaar na verlaten onderwijs",
          "5 jaar na verlaten onderwijs",
          "Direct na verlaten onderwijs",
          "1 jaar na verlaten onderwijs",
          "2 jaar na verlaten onderwijs",
          "3 jaar na verlaten onderwijs",
          "4 jaar na verlaten onderwijs",
          "5 jaar na verlaten onderwijs",
          "Direct na verlaten onderwijs",
          "1 jaar na verlaten onderwijs",
          "2 jaar na verlaten onderwijs",
          "3 jaar na verlaten onderwijs",
          "4 jaar na verlaten onderwijs",
          "5 jaar na verlaten onderwijs",
          "Direct na verlaten onderwijs",
          "1 jaar na verlaten onderwijs",
          "2 jaar na verlaten onderwijs",
          "3 jaar na verlaten onderwijs",
          "4 jaar na verlaten onderwijs",
          "5 jaar na verlaten onderwijs",
          "Direct na verlaten onderwijs",
          "1 jaar na verlaten onderwijs",
          "2 jaar na verlaten onderwijs",
          "3 jaar na verlaten onderwijs",
          "4 jaar na verlaten onderwijs",
          "5 jaar na verlaten onderwijs",
          "Direct na verlaten onderwijs",
          "1 jaar na verlaten onderwijs",
          "2 jaar na verlaten onderwijs",
          "3 jaar na verlaten onderwijs",
          "4 jaar na verlaten onderwijs",
          "5 jaar na verlaten onderwijs",
          "Direct na verlaten onderwijs",
          "1 jaar na verlaten onderwijs",
          "2 jaar na verlaten onderwijs",
          "3 jaar na verlaten onderwijs",
          "4 jaar na verlaten onderwijs",
          "5 jaar na verlaten onderwijs",
          "Direct na verlaten onderwijs",
          "1 jaar na verlaten onderwijs",
          "2 jaar na verlaten onderwijs",
          "3 jaar na verlaten onderwijs",
          "4 jaar na verlaten onderwijs",
          "5 jaar na verlaten onderwijs",
          "Direct na verlaten onderwijs",
          "1 jaar na verlaten onderwijs",
          "2 jaar na verlaten onderwijs",
          "3 jaar na verlaten onderwijs",
          "4 jaar na verlaten onderwijs",
          "5 jaar na verlaten onderwijs",
          "Direct na verlaten onderwijs",
          "1 jaar na verlaten onderwijs",
          "2 jaar na verlaten onderwijs",
          "3 jaar na verlaten onderwijs",
          "4 jaar na verlaten onderwijs",
          "5 jaar na verlaten onderwijs",
          "Direct na verlaten onderwijs",
          "1 jaar na verlaten onderwijs",
          "2 jaar na verlaten onderwijs",
          "3 jaar na verlaten onderwijs",
          "4 jaar na verlaten onderwijs",
          "5 jaar na verlaten onderwijs",
          "Direct na verlaten onderwijs",
          "1 jaar na verlaten onderwijs",
          "2 jaar na verlaten onderwijs",
          "3 jaar na verlaten onderwijs",
          "4 jaar na verlaten onderwijs",
          "5 jaar na verlaten onderwijs",
          "Direct na verlaten onderwijs",
          "1 jaar na verlaten onderwijs",
          "2 jaar na verlaten onderwijs",
          "3 jaar na verlaten onderwijs",
          "4 jaar na verlaten onderwijs",
          "5 jaar na verlaten onderwijs",
          "Direct na verlaten onderwijs",
          "1 jaar na verlaten onderwijs",
          "2 jaar na verlaten onderwijs",
          "3 jaar na verlaten onderwijs",
          "4 jaar na verlaten onderwijs",
          "5 jaar na verlaten onderwijs",
          "Direct na verlaten onderwijs",
          "1 jaar na verlaten onderwijs",
          "2 jaar na verlaten onderwijs",
          "3 jaar na verlaten onderwijs",
          "4 jaar na verlaten onderwijs",
          "5 jaar na verlaten onderwijs",
          "Direct na verlaten onderwijs",
          "1 jaar na verlaten onderwijs",
          "2 jaar na verlaten onderwijs",
          "3 jaar na verlaten onderwijs",
          "4 jaar na verlaten onderwijs",
          "5 jaar na verlaten onderwijs",
          "Direct na verlaten onderwijs",
          "1 jaar na verlaten onderwijs",
          "2 jaar na verlaten onderwijs",
          "3 jaar na verlaten onderwijs",
          "4 jaar na verlaten onderwijs",
          "5 jaar na verlaten onderwijs",
          "Direct na verlaten onderwijs",
          "1 jaar na verlaten onderwijs",
          "2 jaar na verlaten onderwijs",
          "3 jaar na verlaten onderwijs",
          "4 jaar na verlaten onderwijs",
          "5 jaar na verlaten onderwijs",
          "Direct na verlaten onderwijs",
          "1 jaar na verlaten onderwijs",
          "2 jaar na verlaten onderwijs",
          "3 jaar na verlaten onderwijs",
          "4 jaar na verlaten onderwijs",
          "5 jaar na verlaten onderwijs",
          "Direct na verlaten onderwijs",
          "1 jaar na verlaten onderwijs",
          "2 jaar na verlaten onderwijs",
          "3 jaar na verlaten onderwijs",
          "4 jaar na verlaten onderwijs",
          "5 jaar na verlaten onderwijs",
          "Direct na verlaten onderwijs",
          "1 jaar na verlaten onderwijs",
          "2 jaar na verlaten onderwijs",
          "3 jaar na verlaten onderwijs",
          "4 jaar na verlaten onderwijs",
          "5 jaar na verlaten onderwijs",
          "Direct na verlaten onderwijs",
          "1 jaar na verlaten onderwijs",
          "2 jaar na verlaten onderwijs",
          "3 jaar na verlaten onderwijs",
          "4 jaar na verlaten onderwijs",
          "5 jaar na verlaten onderwijs",
          "Direct na verlaten onderwijs",
          "1 jaar na verlaten onderwijs",
          "2 jaar na verlaten onderwijs",
          "3 jaar na verlaten onderwijs",
          "4 jaar na verlaten onderwijs",
          "5 jaar na verlaten onderwijs",
          "Direct na verlaten onderwijs",
          "1 jaar na verlaten onderwijs",
          "2 jaar na verlaten onderwijs",
          "3 jaar na verlaten onderwijs",
          "4 jaar na verlaten onderwijs",
          "5 jaar na verlaten onderwijs",
          "Direct na verlaten onderwijs",
          "1 jaar na verlaten onderwijs",
          "2 jaar na verlaten onderwijs",
          "3 jaar na verlaten onderwijs",
          "4 jaar na verlaten onderwijs",
          "5 jaar na verlaten onderwijs",
          "Direct na verlaten onderwijs",
          "1 jaar na verlaten onderwijs",
          "2 jaar na verlaten onderwijs",
          "3 jaar na verlaten onderwijs",
          "4 jaar na verlaten onderwijs",
          "5 jaar na verlaten onderwijs",
          "Direct na verlaten onderwijs",
          "1 jaar na verlaten onderwijs",
          "2 jaar na verlaten onderwijs",
          "3 jaar na verlaten onderwijs",
          "4 jaar na verlaten onderwijs",
          "5 jaar na verlaten onderwijs",
          "Direct na verlaten onderwijs",
          "1 jaar na verlaten onderwijs",
          "2 jaar na verlaten onderwijs",
          "3 jaar na verlaten onderwijs",
          "4 jaar na verlaten onderwijs",
          "5 jaar na verlaten onderwijs",
          "Direct na verlaten onderwijs",
          "1 jaar na verlaten onderwijs",
          "2 jaar na verlaten onderwijs",
          "3 jaar na verlaten onderwijs",
          "4 jaar na verlaten onderwijs",
          "5 jaar na verlaten onderwijs",
          "Direct na verlaten onderwijs",
          "1 jaar na verlaten onderwijs",
          "2 jaar na verlaten onderwijs",
          "3 jaar na verlaten onderwijs",
          "4 jaar na verlaten onderwijs",
          "5 jaar na verlaten onderwijs",
          "Direct na verlaten onderwijs",
          "1 jaar na verlaten onderwijs",
          "2 jaar na verlaten onderwijs",
          "3 jaar na verlaten onderwijs",
          "4 jaar na verlaten onderwijs",
          "5 jaar na verlaten onderwijs",
          "Direct na verlaten onderwijs",
          "1 jaar na verlaten onderwijs",
          "2 jaar na verlaten onderwijs",
          "3 jaar na verlaten onderwijs",
          "4 jaar na verlaten onderwijs",
          "5 jaar na verlaten onderwijs",
          "Direct na verlaten onderwijs",
          "1 jaar na verlaten onderwijs",
          "2 jaar na verlaten onderwijs",
          "3 jaar na verlaten onderwijs",
          "4 jaar na verlaten onderwijs",
          "5 jaar na verlaten onderwijs",
          "Direct na verlaten onderwijs",
          "1 jaar na verlaten onderwijs",
          "2 jaar na verlaten onderwijs",
          "3 jaar na verlaten onderwijs",
          "4 jaar na verlaten onderwijs",
          "5 jaar na verlaten onderwijs",
          "Direct na verlaten onderwijs",
          "1 jaar na verlaten onderwijs",
          "2 jaar na verlaten onderwijs",
          "3 jaar na verlaten onderwijs",
          "4 jaar na verlaten onderwijs",
          "5 jaar na verlaten onderwijs",
          "Direct na verlaten onderwijs",
          "1 jaar na verlaten onderwijs",
          "2 jaar na verlaten onderwijs",
          "3 jaar na verlaten onderwijs",
          "4 jaar na verlaten onderwijs",
          "5 jaar na verlaten onderwijs",
          "Direct na verlaten onderwijs",
          "1 jaar na verlaten onderwijs",
          "2 jaar na verlaten onderwijs",
          "3 jaar na verlaten onderwijs",
          "4 jaar na verlaten onderwijs",
          "5 jaar na verlaten onderwijs",
          "Direct na verlaten onderwijs",
          "1 jaar na verlaten onderwijs",
          "2 jaar na verlaten onderwijs",
          "3 jaar na verlaten onderwijs",
          "4 jaar na verlaten onderwijs",
          "5 jaar na verlaten onderwijs",
          "Direct na verlaten onderwijs",
          "1 jaar na verlaten onderwijs",
          "2 jaar na verlaten onderwijs",
          "3 jaar na verlaten onderwijs",
          "4 jaar na verlaten onderwijs",
          "5 jaar na verlaten onderwijs",
          "Direct na verlaten onderwijs",
          "1 jaar na verlaten onderwijs",
          "2 jaar na verlaten onderwijs",
          "3 jaar na verlaten onderwijs",
          "4 jaar na verlaten onderwijs",
          "5 jaar na verlaten onderwijs",
          "Direct na verlaten onderwijs",
          "1 jaar na verlaten onderwijs",
          "2 jaar na verlaten onderwijs",
          "3 jaar na verlaten onderwijs",
          "4 jaar na verlaten onderwijs",
          "5 jaar na verlaten onderwijs",
          "Direct na verlaten onderwijs",
          "1 jaar na verlaten onderwijs",
          "2 jaar na verlaten onderwijs",
          "3 jaar na verlaten onderwijs",
          "4 jaar na verlaten onderwijs",
          "5 jaar na verlaten onderwijs",
          "Direct na verlaten onderwijs",
          "1 jaar na verlaten onderwijs",
          "2 jaar na verlaten onderwijs",
          "3 jaar na verlaten onderwijs",
          "4 jaar na verlaten onderwijs",
          "5 jaar na verlaten onderwijs",
          "Direct na verlaten onderwijs",
          "1 jaar na verlaten onderwijs",
          "2 jaar na verlaten onderwijs",
          "3 jaar na verlaten onderwijs",
          "4 jaar na verlaten onderwijs",
          "5 jaar na verlaten onderwijs",
          "Direct na verlaten onderwijs",
          "1 jaar na verlaten onderwijs",
          "2 jaar na verlaten onderwijs",
          "3 jaar na verlaten onderwijs",
          "4 jaar na verlaten onderwijs",
          "5 jaar na verlaten onderwijs",
          "Direct na verlaten onderwijs",
          "1 jaar na verlaten onderwijs",
          "2 jaar na verlaten onderwijs",
          "3 jaar na verlaten onderwijs",
          "4 jaar na verlaten onderwijs",
          "5 jaar na verlaten onderwijs",
          "Direct na verlaten onderwijs",
          "1 jaar na verlaten onderwijs",
          "2 jaar na verlaten onderwijs",
          "3 jaar na verlaten onderwijs",
          "4 jaar na verlaten onderwijs",
          "5 jaar na verlaten onderwijs",
          "Direct na verlaten onderwijs",
          "1 jaar na verlaten onderwijs",
          "2 jaar na verlaten onderwijs",
          "3 jaar na verlaten onderwijs",
          "4 jaar na verlaten onderwijs",
          "5 jaar na verlaten onderwijs",
          "Direct na verlaten onderwijs",
          "1 jaar na verlaten onderwijs",
          "2 jaar na verlaten onderwijs",
          "3 jaar na verlaten onderwijs",
          "4 jaar na verlaten onderwijs",
          "5 jaar na verlaten onderwijs",
          "Direct na verlaten onderwijs",
          "1 jaar na verlaten onderwijs",
          "2 jaar na verlaten onderwijs",
          "3 jaar na verlaten onderwijs",
          "4 jaar na verlaten onderwijs",
          "5 jaar na verlaten onderwijs",
          "Direct na verlaten onderwijs",
          "1 jaar na verlaten onderwijs",
          "2 jaar na verlaten onderwijs",
          "3 jaar na verlaten onderwijs",
          "4 jaar na verlaten onderwijs",
          "5 jaar na verlaten onderwijs",
          "Direct na verlaten onderwijs",
          "1 jaar na verlaten onderwijs",
          "2 jaar na verlaten onderwijs",
          "3 jaar na verlaten onderwijs",
          "4 jaar na verlaten onderwijs",
          "5 jaar na verlaten onderwijs",
          "Direct na verlaten onderwijs",
          "1 jaar na verlaten onderwijs",
          "2 jaar na verlaten onderwijs",
          "3 jaar na verlaten onderwijs",
          "4 jaar na verlaten onderwijs",
          "5 jaar na verlaten onderwijs"
         ],
         "y": [
          12.84,
          15.87,
          18.17,
          20.19,
          22.21,
          24.32
         ]
        },
        {
         "hoverinfo": "y+name",
         "marker": {
          "color": "rgb(231,138,195)"
         },
         "name": "Wo-master",
         "type": "bar",
         "x": [
          "Direct na verlaten onderwijs",
          "1 jaar na verlaten onderwijs",
          "2 jaar na verlaten onderwijs",
          "3 jaar na verlaten onderwijs",
          "4 jaar na verlaten onderwijs",
          "5 jaar na verlaten onderwijs",
          "Direct na verlaten onderwijs",
          "1 jaar na verlaten onderwijs",
          "2 jaar na verlaten onderwijs",
          "3 jaar na verlaten onderwijs",
          "4 jaar na verlaten onderwijs",
          "5 jaar na verlaten onderwijs",
          "Direct na verlaten onderwijs",
          "1 jaar na verlaten onderwijs",
          "2 jaar na verlaten onderwijs",
          "3 jaar na verlaten onderwijs",
          "4 jaar na verlaten onderwijs",
          "5 jaar na verlaten onderwijs",
          "Direct na verlaten onderwijs",
          "1 jaar na verlaten onderwijs",
          "2 jaar na verlaten onderwijs",
          "3 jaar na verlaten onderwijs",
          "4 jaar na verlaten onderwijs",
          "5 jaar na verlaten onderwijs",
          "Direct na verlaten onderwijs",
          "1 jaar na verlaten onderwijs",
          "2 jaar na verlaten onderwijs",
          "3 jaar na verlaten onderwijs",
          "4 jaar na verlaten onderwijs",
          "5 jaar na verlaten onderwijs",
          "Direct na verlaten onderwijs",
          "1 jaar na verlaten onderwijs",
          "2 jaar na verlaten onderwijs",
          "3 jaar na verlaten onderwijs",
          "4 jaar na verlaten onderwijs",
          "5 jaar na verlaten onderwijs",
          "Direct na verlaten onderwijs",
          "1 jaar na verlaten onderwijs",
          "2 jaar na verlaten onderwijs",
          "3 jaar na verlaten onderwijs",
          "4 jaar na verlaten onderwijs",
          "5 jaar na verlaten onderwijs",
          "Direct na verlaten onderwijs",
          "1 jaar na verlaten onderwijs",
          "2 jaar na verlaten onderwijs",
          "3 jaar na verlaten onderwijs",
          "4 jaar na verlaten onderwijs",
          "5 jaar na verlaten onderwijs",
          "Direct na verlaten onderwijs",
          "1 jaar na verlaten onderwijs",
          "2 jaar na verlaten onderwijs",
          "3 jaar na verlaten onderwijs",
          "4 jaar na verlaten onderwijs",
          "5 jaar na verlaten onderwijs",
          "Direct na verlaten onderwijs",
          "1 jaar na verlaten onderwijs",
          "2 jaar na verlaten onderwijs",
          "3 jaar na verlaten onderwijs",
          "4 jaar na verlaten onderwijs",
          "5 jaar na verlaten onderwijs",
          "Direct na verlaten onderwijs",
          "1 jaar na verlaten onderwijs",
          "2 jaar na verlaten onderwijs",
          "3 jaar na verlaten onderwijs",
          "4 jaar na verlaten onderwijs",
          "5 jaar na verlaten onderwijs",
          "Direct na verlaten onderwijs",
          "1 jaar na verlaten onderwijs",
          "2 jaar na verlaten onderwijs",
          "3 jaar na verlaten onderwijs",
          "4 jaar na verlaten onderwijs",
          "5 jaar na verlaten onderwijs",
          "Direct na verlaten onderwijs",
          "1 jaar na verlaten onderwijs",
          "2 jaar na verlaten onderwijs",
          "3 jaar na verlaten onderwijs",
          "4 jaar na verlaten onderwijs",
          "5 jaar na verlaten onderwijs",
          "Direct na verlaten onderwijs",
          "1 jaar na verlaten onderwijs",
          "2 jaar na verlaten onderwijs",
          "3 jaar na verlaten onderwijs",
          "4 jaar na verlaten onderwijs",
          "5 jaar na verlaten onderwijs",
          "Direct na verlaten onderwijs",
          "1 jaar na verlaten onderwijs",
          "2 jaar na verlaten onderwijs",
          "3 jaar na verlaten onderwijs",
          "4 jaar na verlaten onderwijs",
          "5 jaar na verlaten onderwijs",
          "Direct na verlaten onderwijs",
          "1 jaar na verlaten onderwijs",
          "2 jaar na verlaten onderwijs",
          "3 jaar na verlaten onderwijs",
          "4 jaar na verlaten onderwijs",
          "5 jaar na verlaten onderwijs",
          "Direct na verlaten onderwijs",
          "1 jaar na verlaten onderwijs",
          "2 jaar na verlaten onderwijs",
          "3 jaar na verlaten onderwijs",
          "4 jaar na verlaten onderwijs",
          "5 jaar na verlaten onderwijs",
          "Direct na verlaten onderwijs",
          "1 jaar na verlaten onderwijs",
          "2 jaar na verlaten onderwijs",
          "3 jaar na verlaten onderwijs",
          "4 jaar na verlaten onderwijs",
          "5 jaar na verlaten onderwijs",
          "Direct na verlaten onderwijs",
          "1 jaar na verlaten onderwijs",
          "2 jaar na verlaten onderwijs",
          "3 jaar na verlaten onderwijs",
          "4 jaar na verlaten onderwijs",
          "5 jaar na verlaten onderwijs",
          "Direct na verlaten onderwijs",
          "1 jaar na verlaten onderwijs",
          "2 jaar na verlaten onderwijs",
          "3 jaar na verlaten onderwijs",
          "4 jaar na verlaten onderwijs",
          "5 jaar na verlaten onderwijs",
          "Direct na verlaten onderwijs",
          "1 jaar na verlaten onderwijs",
          "2 jaar na verlaten onderwijs",
          "3 jaar na verlaten onderwijs",
          "4 jaar na verlaten onderwijs",
          "5 jaar na verlaten onderwijs",
          "Direct na verlaten onderwijs",
          "1 jaar na verlaten onderwijs",
          "2 jaar na verlaten onderwijs",
          "3 jaar na verlaten onderwijs",
          "4 jaar na verlaten onderwijs",
          "5 jaar na verlaten onderwijs",
          "Direct na verlaten onderwijs",
          "1 jaar na verlaten onderwijs",
          "2 jaar na verlaten onderwijs",
          "3 jaar na verlaten onderwijs",
          "4 jaar na verlaten onderwijs",
          "5 jaar na verlaten onderwijs",
          "Direct na verlaten onderwijs",
          "1 jaar na verlaten onderwijs",
          "2 jaar na verlaten onderwijs",
          "3 jaar na verlaten onderwijs",
          "4 jaar na verlaten onderwijs",
          "5 jaar na verlaten onderwijs",
          "Direct na verlaten onderwijs",
          "1 jaar na verlaten onderwijs",
          "2 jaar na verlaten onderwijs",
          "3 jaar na verlaten onderwijs",
          "4 jaar na verlaten onderwijs",
          "5 jaar na verlaten onderwijs",
          "Direct na verlaten onderwijs",
          "1 jaar na verlaten onderwijs",
          "2 jaar na verlaten onderwijs",
          "3 jaar na verlaten onderwijs",
          "4 jaar na verlaten onderwijs",
          "5 jaar na verlaten onderwijs",
          "Direct na verlaten onderwijs",
          "1 jaar na verlaten onderwijs",
          "2 jaar na verlaten onderwijs",
          "3 jaar na verlaten onderwijs",
          "4 jaar na verlaten onderwijs",
          "5 jaar na verlaten onderwijs",
          "Direct na verlaten onderwijs",
          "1 jaar na verlaten onderwijs",
          "2 jaar na verlaten onderwijs",
          "3 jaar na verlaten onderwijs",
          "4 jaar na verlaten onderwijs",
          "5 jaar na verlaten onderwijs",
          "Direct na verlaten onderwijs",
          "1 jaar na verlaten onderwijs",
          "2 jaar na verlaten onderwijs",
          "3 jaar na verlaten onderwijs",
          "4 jaar na verlaten onderwijs",
          "5 jaar na verlaten onderwijs",
          "Direct na verlaten onderwijs",
          "1 jaar na verlaten onderwijs",
          "2 jaar na verlaten onderwijs",
          "3 jaar na verlaten onderwijs",
          "4 jaar na verlaten onderwijs",
          "5 jaar na verlaten onderwijs",
          "Direct na verlaten onderwijs",
          "1 jaar na verlaten onderwijs",
          "2 jaar na verlaten onderwijs",
          "3 jaar na verlaten onderwijs",
          "4 jaar na verlaten onderwijs",
          "5 jaar na verlaten onderwijs",
          "Direct na verlaten onderwijs",
          "1 jaar na verlaten onderwijs",
          "2 jaar na verlaten onderwijs",
          "3 jaar na verlaten onderwijs",
          "4 jaar na verlaten onderwijs",
          "5 jaar na verlaten onderwijs",
          "Direct na verlaten onderwijs",
          "1 jaar na verlaten onderwijs",
          "2 jaar na verlaten onderwijs",
          "3 jaar na verlaten onderwijs",
          "4 jaar na verlaten onderwijs",
          "5 jaar na verlaten onderwijs",
          "Direct na verlaten onderwijs",
          "1 jaar na verlaten onderwijs",
          "2 jaar na verlaten onderwijs",
          "3 jaar na verlaten onderwijs",
          "4 jaar na verlaten onderwijs",
          "5 jaar na verlaten onderwijs",
          "Direct na verlaten onderwijs",
          "1 jaar na verlaten onderwijs",
          "2 jaar na verlaten onderwijs",
          "3 jaar na verlaten onderwijs",
          "4 jaar na verlaten onderwijs",
          "5 jaar na verlaten onderwijs",
          "Direct na verlaten onderwijs",
          "1 jaar na verlaten onderwijs",
          "2 jaar na verlaten onderwijs",
          "3 jaar na verlaten onderwijs",
          "4 jaar na verlaten onderwijs",
          "5 jaar na verlaten onderwijs",
          "Direct na verlaten onderwijs",
          "1 jaar na verlaten onderwijs",
          "2 jaar na verlaten onderwijs",
          "3 jaar na verlaten onderwijs",
          "4 jaar na verlaten onderwijs",
          "5 jaar na verlaten onderwijs",
          "Direct na verlaten onderwijs",
          "1 jaar na verlaten onderwijs",
          "2 jaar na verlaten onderwijs",
          "3 jaar na verlaten onderwijs",
          "4 jaar na verlaten onderwijs",
          "5 jaar na verlaten onderwijs",
          "Direct na verlaten onderwijs",
          "1 jaar na verlaten onderwijs",
          "2 jaar na verlaten onderwijs",
          "3 jaar na verlaten onderwijs",
          "4 jaar na verlaten onderwijs",
          "5 jaar na verlaten onderwijs",
          "Direct na verlaten onderwijs",
          "1 jaar na verlaten onderwijs",
          "2 jaar na verlaten onderwijs",
          "3 jaar na verlaten onderwijs",
          "4 jaar na verlaten onderwijs",
          "5 jaar na verlaten onderwijs",
          "Direct na verlaten onderwijs",
          "1 jaar na verlaten onderwijs",
          "2 jaar na verlaten onderwijs",
          "3 jaar na verlaten onderwijs",
          "4 jaar na verlaten onderwijs",
          "5 jaar na verlaten onderwijs",
          "Direct na verlaten onderwijs",
          "1 jaar na verlaten onderwijs",
          "2 jaar na verlaten onderwijs",
          "3 jaar na verlaten onderwijs",
          "4 jaar na verlaten onderwijs",
          "5 jaar na verlaten onderwijs",
          "Direct na verlaten onderwijs",
          "1 jaar na verlaten onderwijs",
          "2 jaar na verlaten onderwijs",
          "3 jaar na verlaten onderwijs",
          "4 jaar na verlaten onderwijs",
          "5 jaar na verlaten onderwijs",
          "Direct na verlaten onderwijs",
          "1 jaar na verlaten onderwijs",
          "2 jaar na verlaten onderwijs",
          "3 jaar na verlaten onderwijs",
          "4 jaar na verlaten onderwijs",
          "5 jaar na verlaten onderwijs",
          "Direct na verlaten onderwijs",
          "1 jaar na verlaten onderwijs",
          "2 jaar na verlaten onderwijs",
          "3 jaar na verlaten onderwijs",
          "4 jaar na verlaten onderwijs",
          "5 jaar na verlaten onderwijs",
          "Direct na verlaten onderwijs",
          "1 jaar na verlaten onderwijs",
          "2 jaar na verlaten onderwijs",
          "3 jaar na verlaten onderwijs",
          "4 jaar na verlaten onderwijs",
          "5 jaar na verlaten onderwijs",
          "Direct na verlaten onderwijs",
          "1 jaar na verlaten onderwijs",
          "2 jaar na verlaten onderwijs",
          "3 jaar na verlaten onderwijs",
          "4 jaar na verlaten onderwijs",
          "5 jaar na verlaten onderwijs",
          "Direct na verlaten onderwijs",
          "1 jaar na verlaten onderwijs",
          "2 jaar na verlaten onderwijs",
          "3 jaar na verlaten onderwijs",
          "4 jaar na verlaten onderwijs",
          "5 jaar na verlaten onderwijs",
          "Direct na verlaten onderwijs",
          "1 jaar na verlaten onderwijs",
          "2 jaar na verlaten onderwijs",
          "3 jaar na verlaten onderwijs",
          "4 jaar na verlaten onderwijs",
          "5 jaar na verlaten onderwijs",
          "Direct na verlaten onderwijs",
          "1 jaar na verlaten onderwijs",
          "2 jaar na verlaten onderwijs",
          "3 jaar na verlaten onderwijs",
          "4 jaar na verlaten onderwijs",
          "5 jaar na verlaten onderwijs",
          "Direct na verlaten onderwijs",
          "1 jaar na verlaten onderwijs",
          "2 jaar na verlaten onderwijs",
          "3 jaar na verlaten onderwijs",
          "4 jaar na verlaten onderwijs",
          "5 jaar na verlaten onderwijs",
          "Direct na verlaten onderwijs",
          "1 jaar na verlaten onderwijs",
          "2 jaar na verlaten onderwijs",
          "3 jaar na verlaten onderwijs",
          "4 jaar na verlaten onderwijs",
          "5 jaar na verlaten onderwijs",
          "Direct na verlaten onderwijs",
          "1 jaar na verlaten onderwijs",
          "2 jaar na verlaten onderwijs",
          "3 jaar na verlaten onderwijs",
          "4 jaar na verlaten onderwijs",
          "5 jaar na verlaten onderwijs",
          "Direct na verlaten onderwijs",
          "1 jaar na verlaten onderwijs",
          "2 jaar na verlaten onderwijs",
          "3 jaar na verlaten onderwijs",
          "4 jaar na verlaten onderwijs",
          "5 jaar na verlaten onderwijs",
          "Direct na verlaten onderwijs",
          "1 jaar na verlaten onderwijs",
          "2 jaar na verlaten onderwijs",
          "3 jaar na verlaten onderwijs",
          "4 jaar na verlaten onderwijs",
          "5 jaar na verlaten onderwijs",
          "Direct na verlaten onderwijs",
          "1 jaar na verlaten onderwijs",
          "2 jaar na verlaten onderwijs",
          "3 jaar na verlaten onderwijs",
          "4 jaar na verlaten onderwijs",
          "5 jaar na verlaten onderwijs",
          "Direct na verlaten onderwijs",
          "1 jaar na verlaten onderwijs",
          "2 jaar na verlaten onderwijs",
          "3 jaar na verlaten onderwijs",
          "4 jaar na verlaten onderwijs",
          "5 jaar na verlaten onderwijs",
          "Direct na verlaten onderwijs",
          "1 jaar na verlaten onderwijs",
          "2 jaar na verlaten onderwijs",
          "3 jaar na verlaten onderwijs",
          "4 jaar na verlaten onderwijs",
          "5 jaar na verlaten onderwijs",
          "Direct na verlaten onderwijs",
          "1 jaar na verlaten onderwijs",
          "2 jaar na verlaten onderwijs",
          "3 jaar na verlaten onderwijs",
          "4 jaar na verlaten onderwijs",
          "5 jaar na verlaten onderwijs",
          "Direct na verlaten onderwijs",
          "1 jaar na verlaten onderwijs",
          "2 jaar na verlaten onderwijs",
          "3 jaar na verlaten onderwijs",
          "4 jaar na verlaten onderwijs",
          "5 jaar na verlaten onderwijs",
          "Direct na verlaten onderwijs",
          "1 jaar na verlaten onderwijs",
          "2 jaar na verlaten onderwijs",
          "3 jaar na verlaten onderwijs",
          "4 jaar na verlaten onderwijs",
          "5 jaar na verlaten onderwijs",
          "Direct na verlaten onderwijs",
          "1 jaar na verlaten onderwijs",
          "2 jaar na verlaten onderwijs",
          "3 jaar na verlaten onderwijs",
          "4 jaar na verlaten onderwijs",
          "5 jaar na verlaten onderwijs",
          "Direct na verlaten onderwijs",
          "1 jaar na verlaten onderwijs",
          "2 jaar na verlaten onderwijs",
          "3 jaar na verlaten onderwijs",
          "4 jaar na verlaten onderwijs",
          "5 jaar na verlaten onderwijs",
          "Direct na verlaten onderwijs",
          "1 jaar na verlaten onderwijs",
          "2 jaar na verlaten onderwijs",
          "3 jaar na verlaten onderwijs",
          "4 jaar na verlaten onderwijs",
          "5 jaar na verlaten onderwijs",
          "Direct na verlaten onderwijs",
          "1 jaar na verlaten onderwijs",
          "2 jaar na verlaten onderwijs",
          "3 jaar na verlaten onderwijs",
          "4 jaar na verlaten onderwijs",
          "5 jaar na verlaten onderwijs",
          "Direct na verlaten onderwijs",
          "1 jaar na verlaten onderwijs",
          "2 jaar na verlaten onderwijs",
          "3 jaar na verlaten onderwijs",
          "4 jaar na verlaten onderwijs",
          "5 jaar na verlaten onderwijs",
          "Direct na verlaten onderwijs",
          "1 jaar na verlaten onderwijs",
          "2 jaar na verlaten onderwijs",
          "3 jaar na verlaten onderwijs",
          "4 jaar na verlaten onderwijs",
          "5 jaar na verlaten onderwijs",
          "Direct na verlaten onderwijs",
          "1 jaar na verlaten onderwijs",
          "2 jaar na verlaten onderwijs",
          "3 jaar na verlaten onderwijs",
          "4 jaar na verlaten onderwijs",
          "5 jaar na verlaten onderwijs",
          "Direct na verlaten onderwijs",
          "1 jaar na verlaten onderwijs",
          "2 jaar na verlaten onderwijs",
          "3 jaar na verlaten onderwijs",
          "4 jaar na verlaten onderwijs",
          "5 jaar na verlaten onderwijs",
          "Direct na verlaten onderwijs",
          "1 jaar na verlaten onderwijs",
          "2 jaar na verlaten onderwijs",
          "3 jaar na verlaten onderwijs",
          "4 jaar na verlaten onderwijs",
          "5 jaar na verlaten onderwijs",
          "Direct na verlaten onderwijs",
          "1 jaar na verlaten onderwijs",
          "2 jaar na verlaten onderwijs",
          "3 jaar na verlaten onderwijs",
          "4 jaar na verlaten onderwijs",
          "5 jaar na verlaten onderwijs",
          "Direct na verlaten onderwijs",
          "1 jaar na verlaten onderwijs",
          "2 jaar na verlaten onderwijs",
          "3 jaar na verlaten onderwijs",
          "4 jaar na verlaten onderwijs",
          "5 jaar na verlaten onderwijs",
          "Direct na verlaten onderwijs",
          "1 jaar na verlaten onderwijs",
          "2 jaar na verlaten onderwijs",
          "3 jaar na verlaten onderwijs",
          "4 jaar na verlaten onderwijs",
          "5 jaar na verlaten onderwijs",
          "Direct na verlaten onderwijs",
          "1 jaar na verlaten onderwijs",
          "2 jaar na verlaten onderwijs",
          "3 jaar na verlaten onderwijs",
          "4 jaar na verlaten onderwijs",
          "5 jaar na verlaten onderwijs",
          "Direct na verlaten onderwijs",
          "1 jaar na verlaten onderwijs",
          "2 jaar na verlaten onderwijs",
          "3 jaar na verlaten onderwijs",
          "4 jaar na verlaten onderwijs",
          "5 jaar na verlaten onderwijs",
          "Direct na verlaten onderwijs",
          "1 jaar na verlaten onderwijs",
          "2 jaar na verlaten onderwijs",
          "3 jaar na verlaten onderwijs",
          "4 jaar na verlaten onderwijs",
          "5 jaar na verlaten onderwijs",
          "Direct na verlaten onderwijs",
          "1 jaar na verlaten onderwijs",
          "2 jaar na verlaten onderwijs",
          "3 jaar na verlaten onderwijs",
          "4 jaar na verlaten onderwijs",
          "5 jaar na verlaten onderwijs",
          "Direct na verlaten onderwijs",
          "1 jaar na verlaten onderwijs",
          "2 jaar na verlaten onderwijs",
          "3 jaar na verlaten onderwijs",
          "4 jaar na verlaten onderwijs",
          "5 jaar na verlaten onderwijs",
          "Direct na verlaten onderwijs",
          "1 jaar na verlaten onderwijs",
          "2 jaar na verlaten onderwijs",
          "3 jaar na verlaten onderwijs",
          "4 jaar na verlaten onderwijs",
          "5 jaar na verlaten onderwijs",
          "Direct na verlaten onderwijs",
          "1 jaar na verlaten onderwijs",
          "2 jaar na verlaten onderwijs",
          "3 jaar na verlaten onderwijs",
          "4 jaar na verlaten onderwijs",
          "5 jaar na verlaten onderwijs"
         ],
         "y": [
          16.29,
          18.12,
          20.28,
          22.6,
          25.1,
          27.48
         ]
        }
       ],
       "layout": {
        "bargap": 0.15,
        "bargroupgap": 0.1,
        "barmode": "group",
        "height": 400,
        "legend": {
         "bgcolor": "rgba(255, 255, 255, 0)",
         "bordercolor": "rgba(255, 255, 255, 0)",
         "x": 1,
         "y": 1
        },
        "template": {
         "data": {
          "bar": [
           {
            "error_x": {
             "color": "#2a3f5f"
            },
            "error_y": {
             "color": "#2a3f5f"
            },
            "marker": {
             "line": {
              "color": "#E5ECF6",
              "width": 0.5
             },
             "pattern": {
              "fillmode": "overlay",
              "size": 10,
              "solidity": 0.2
             }
            },
            "type": "bar"
           }
          ],
          "barpolar": [
           {
            "marker": {
             "line": {
              "color": "#E5ECF6",
              "width": 0.5
             },
             "pattern": {
              "fillmode": "overlay",
              "size": 10,
              "solidity": 0.2
             }
            },
            "type": "barpolar"
           }
          ],
          "carpet": [
           {
            "aaxis": {
             "endlinecolor": "#2a3f5f",
             "gridcolor": "white",
             "linecolor": "white",
             "minorgridcolor": "white",
             "startlinecolor": "#2a3f5f"
            },
            "baxis": {
             "endlinecolor": "#2a3f5f",
             "gridcolor": "white",
             "linecolor": "white",
             "minorgridcolor": "white",
             "startlinecolor": "#2a3f5f"
            },
            "type": "carpet"
           }
          ],
          "choropleth": [
           {
            "colorbar": {
             "outlinewidth": 0,
             "ticks": ""
            },
            "type": "choropleth"
           }
          ],
          "contour": [
           {
            "colorbar": {
             "outlinewidth": 0,
             "ticks": ""
            },
            "colorscale": [
             [
              0,
              "#0d0887"
             ],
             [
              0.1111111111111111,
              "#46039f"
             ],
             [
              0.2222222222222222,
              "#7201a8"
             ],
             [
              0.3333333333333333,
              "#9c179e"
             ],
             [
              0.4444444444444444,
              "#bd3786"
             ],
             [
              0.5555555555555556,
              "#d8576b"
             ],
             [
              0.6666666666666666,
              "#ed7953"
             ],
             [
              0.7777777777777778,
              "#fb9f3a"
             ],
             [
              0.8888888888888888,
              "#fdca26"
             ],
             [
              1,
              "#f0f921"
             ]
            ],
            "type": "contour"
           }
          ],
          "contourcarpet": [
           {
            "colorbar": {
             "outlinewidth": 0,
             "ticks": ""
            },
            "type": "contourcarpet"
           }
          ],
          "heatmap": [
           {
            "colorbar": {
             "outlinewidth": 0,
             "ticks": ""
            },
            "colorscale": [
             [
              0,
              "#0d0887"
             ],
             [
              0.1111111111111111,
              "#46039f"
             ],
             [
              0.2222222222222222,
              "#7201a8"
             ],
             [
              0.3333333333333333,
              "#9c179e"
             ],
             [
              0.4444444444444444,
              "#bd3786"
             ],
             [
              0.5555555555555556,
              "#d8576b"
             ],
             [
              0.6666666666666666,
              "#ed7953"
             ],
             [
              0.7777777777777778,
              "#fb9f3a"
             ],
             [
              0.8888888888888888,
              "#fdca26"
             ],
             [
              1,
              "#f0f921"
             ]
            ],
            "type": "heatmap"
           }
          ],
          "heatmapgl": [
           {
            "colorbar": {
             "outlinewidth": 0,
             "ticks": ""
            },
            "colorscale": [
             [
              0,
              "#0d0887"
             ],
             [
              0.1111111111111111,
              "#46039f"
             ],
             [
              0.2222222222222222,
              "#7201a8"
             ],
             [
              0.3333333333333333,
              "#9c179e"
             ],
             [
              0.4444444444444444,
              "#bd3786"
             ],
             [
              0.5555555555555556,
              "#d8576b"
             ],
             [
              0.6666666666666666,
              "#ed7953"
             ],
             [
              0.7777777777777778,
              "#fb9f3a"
             ],
             [
              0.8888888888888888,
              "#fdca26"
             ],
             [
              1,
              "#f0f921"
             ]
            ],
            "type": "heatmapgl"
           }
          ],
          "histogram": [
           {
            "marker": {
             "pattern": {
              "fillmode": "overlay",
              "size": 10,
              "solidity": 0.2
             }
            },
            "type": "histogram"
           }
          ],
          "histogram2d": [
           {
            "colorbar": {
             "outlinewidth": 0,
             "ticks": ""
            },
            "colorscale": [
             [
              0,
              "#0d0887"
             ],
             [
              0.1111111111111111,
              "#46039f"
             ],
             [
              0.2222222222222222,
              "#7201a8"
             ],
             [
              0.3333333333333333,
              "#9c179e"
             ],
             [
              0.4444444444444444,
              "#bd3786"
             ],
             [
              0.5555555555555556,
              "#d8576b"
             ],
             [
              0.6666666666666666,
              "#ed7953"
             ],
             [
              0.7777777777777778,
              "#fb9f3a"
             ],
             [
              0.8888888888888888,
              "#fdca26"
             ],
             [
              1,
              "#f0f921"
             ]
            ],
            "type": "histogram2d"
           }
          ],
          "histogram2dcontour": [
           {
            "colorbar": {
             "outlinewidth": 0,
             "ticks": ""
            },
            "colorscale": [
             [
              0,
              "#0d0887"
             ],
             [
              0.1111111111111111,
              "#46039f"
             ],
             [
              0.2222222222222222,
              "#7201a8"
             ],
             [
              0.3333333333333333,
              "#9c179e"
             ],
             [
              0.4444444444444444,
              "#bd3786"
             ],
             [
              0.5555555555555556,
              "#d8576b"
             ],
             [
              0.6666666666666666,
              "#ed7953"
             ],
             [
              0.7777777777777778,
              "#fb9f3a"
             ],
             [
              0.8888888888888888,
              "#fdca26"
             ],
             [
              1,
              "#f0f921"
             ]
            ],
            "type": "histogram2dcontour"
           }
          ],
          "mesh3d": [
           {
            "colorbar": {
             "outlinewidth": 0,
             "ticks": ""
            },
            "type": "mesh3d"
           }
          ],
          "parcoords": [
           {
            "line": {
             "colorbar": {
              "outlinewidth": 0,
              "ticks": ""
             }
            },
            "type": "parcoords"
           }
          ],
          "pie": [
           {
            "automargin": true,
            "type": "pie"
           }
          ],
          "scatter": [
           {
            "fillpattern": {
             "fillmode": "overlay",
             "size": 10,
             "solidity": 0.2
            },
            "type": "scatter"
           }
          ],
          "scatter3d": [
           {
            "line": {
             "colorbar": {
              "outlinewidth": 0,
              "ticks": ""
             }
            },
            "marker": {
             "colorbar": {
              "outlinewidth": 0,
              "ticks": ""
             }
            },
            "type": "scatter3d"
           }
          ],
          "scattercarpet": [
           {
            "marker": {
             "colorbar": {
              "outlinewidth": 0,
              "ticks": ""
             }
            },
            "type": "scattercarpet"
           }
          ],
          "scattergeo": [
           {
            "marker": {
             "colorbar": {
              "outlinewidth": 0,
              "ticks": ""
             }
            },
            "type": "scattergeo"
           }
          ],
          "scattergl": [
           {
            "marker": {
             "colorbar": {
              "outlinewidth": 0,
              "ticks": ""
             }
            },
            "type": "scattergl"
           }
          ],
          "scattermapbox": [
           {
            "marker": {
             "colorbar": {
              "outlinewidth": 0,
              "ticks": ""
             }
            },
            "type": "scattermapbox"
           }
          ],
          "scatterpolar": [
           {
            "marker": {
             "colorbar": {
              "outlinewidth": 0,
              "ticks": ""
             }
            },
            "type": "scatterpolar"
           }
          ],
          "scatterpolargl": [
           {
            "marker": {
             "colorbar": {
              "outlinewidth": 0,
              "ticks": ""
             }
            },
            "type": "scatterpolargl"
           }
          ],
          "scatterternary": [
           {
            "marker": {
             "colorbar": {
              "outlinewidth": 0,
              "ticks": ""
             }
            },
            "type": "scatterternary"
           }
          ],
          "surface": [
           {
            "colorbar": {
             "outlinewidth": 0,
             "ticks": ""
            },
            "colorscale": [
             [
              0,
              "#0d0887"
             ],
             [
              0.1111111111111111,
              "#46039f"
             ],
             [
              0.2222222222222222,
              "#7201a8"
             ],
             [
              0.3333333333333333,
              "#9c179e"
             ],
             [
              0.4444444444444444,
              "#bd3786"
             ],
             [
              0.5555555555555556,
              "#d8576b"
             ],
             [
              0.6666666666666666,
              "#ed7953"
             ],
             [
              0.7777777777777778,
              "#fb9f3a"
             ],
             [
              0.8888888888888888,
              "#fdca26"
             ],
             [
              1,
              "#f0f921"
             ]
            ],
            "type": "surface"
           }
          ],
          "table": [
           {
            "cells": {
             "fill": {
              "color": "#EBF0F8"
             },
             "line": {
              "color": "white"
             }
            },
            "header": {
             "fill": {
              "color": "#C8D4E3"
             },
             "line": {
              "color": "white"
             }
            },
            "type": "table"
           }
          ]
         },
         "layout": {
          "annotationdefaults": {
           "arrowcolor": "#2a3f5f",
           "arrowhead": 0,
           "arrowwidth": 1
          },
          "autotypenumbers": "strict",
          "coloraxis": {
           "colorbar": {
            "outlinewidth": 0,
            "ticks": ""
           }
          },
          "colorscale": {
           "diverging": [
            [
             0,
             "#8e0152"
            ],
            [
             0.1,
             "#c51b7d"
            ],
            [
             0.2,
             "#de77ae"
            ],
            [
             0.3,
             "#f1b6da"
            ],
            [
             0.4,
             "#fde0ef"
            ],
            [
             0.5,
             "#f7f7f7"
            ],
            [
             0.6,
             "#e6f5d0"
            ],
            [
             0.7,
             "#b8e186"
            ],
            [
             0.8,
             "#7fbc41"
            ],
            [
             0.9,
             "#4d9221"
            ],
            [
             1,
             "#276419"
            ]
           ],
           "sequential": [
            [
             0,
             "#0d0887"
            ],
            [
             0.1111111111111111,
             "#46039f"
            ],
            [
             0.2222222222222222,
             "#7201a8"
            ],
            [
             0.3333333333333333,
             "#9c179e"
            ],
            [
             0.4444444444444444,
             "#bd3786"
            ],
            [
             0.5555555555555556,
             "#d8576b"
            ],
            [
             0.6666666666666666,
             "#ed7953"
            ],
            [
             0.7777777777777778,
             "#fb9f3a"
            ],
            [
             0.8888888888888888,
             "#fdca26"
            ],
            [
             1,
             "#f0f921"
            ]
           ],
           "sequentialminus": [
            [
             0,
             "#0d0887"
            ],
            [
             0.1111111111111111,
             "#46039f"
            ],
            [
             0.2222222222222222,
             "#7201a8"
            ],
            [
             0.3333333333333333,
             "#9c179e"
            ],
            [
             0.4444444444444444,
             "#bd3786"
            ],
            [
             0.5555555555555556,
             "#d8576b"
            ],
            [
             0.6666666666666666,
             "#ed7953"
            ],
            [
             0.7777777777777778,
             "#fb9f3a"
            ],
            [
             0.8888888888888888,
             "#fdca26"
            ],
            [
             1,
             "#f0f921"
            ]
           ]
          },
          "colorway": [
           "#636efa",
           "#EF553B",
           "#00cc96",
           "#ab63fa",
           "#FFA15A",
           "#19d3f3",
           "#FF6692",
           "#B6E880",
           "#FF97FF",
           "#FECB52"
          ],
          "font": {
           "color": "#2a3f5f"
          },
          "geo": {
           "bgcolor": "white",
           "lakecolor": "white",
           "landcolor": "#E5ECF6",
           "showlakes": true,
           "showland": true,
           "subunitcolor": "white"
          },
          "hoverlabel": {
           "align": "left"
          },
          "hovermode": "closest",
          "mapbox": {
           "style": "light"
          },
          "paper_bgcolor": "white",
          "plot_bgcolor": "#E5ECF6",
          "polar": {
           "angularaxis": {
            "gridcolor": "white",
            "linecolor": "white",
            "ticks": ""
           },
           "bgcolor": "#E5ECF6",
           "radialaxis": {
            "gridcolor": "white",
            "linecolor": "white",
            "ticks": ""
           }
          },
          "scene": {
           "xaxis": {
            "backgroundcolor": "#E5ECF6",
            "gridcolor": "white",
            "gridwidth": 2,
            "linecolor": "white",
            "showbackground": true,
            "ticks": "",
            "zerolinecolor": "white"
           },
           "yaxis": {
            "backgroundcolor": "#E5ECF6",
            "gridcolor": "white",
            "gridwidth": 2,
            "linecolor": "white",
            "showbackground": true,
            "ticks": "",
            "zerolinecolor": "white"
           },
           "zaxis": {
            "backgroundcolor": "#E5ECF6",
            "gridcolor": "white",
            "gridwidth": 2,
            "linecolor": "white",
            "showbackground": true,
            "ticks": "",
            "zerolinecolor": "white"
           }
          },
          "shapedefaults": {
           "line": {
            "color": "#2a3f5f"
           }
          },
          "ternary": {
           "aaxis": {
            "gridcolor": "white",
            "linecolor": "white",
            "ticks": ""
           },
           "baxis": {
            "gridcolor": "white",
            "linecolor": "white",
            "ticks": ""
           },
           "bgcolor": "#E5ECF6",
           "caxis": {
            "gridcolor": "white",
            "linecolor": "white",
            "ticks": ""
           }
          },
          "title": {
           "x": 0.05
          },
          "xaxis": {
           "automargin": true,
           "gridcolor": "white",
           "linecolor": "white",
           "ticks": "",
           "title": {
            "standoff": 15
           },
           "zerolinecolor": "white",
           "zerolinewidth": 2
          },
          "yaxis": {
           "automargin": true,
           "gridcolor": "white",
           "linecolor": "white",
           "ticks": "",
           "title": {
            "standoff": 15
           },
           "zerolinecolor": "white",
           "zerolinewidth": 2
          }
         }
        },
        "title": {
         "text": "Hourly wage after leaving university per degree"
        },
        "xaxis": {
         "ticktext": [
          "Directly after",
          "1 year after",
          "2 years after",
          "3 years after",
          "4 years after",
          "5 years after"
         ],
         "tickvals": [
          "Direct na verlaten onderwijs",
          "1 jaar na verlaten onderwijs",
          "2 jaar na verlaten onderwijs",
          "3 jaar na verlaten onderwijs",
          "4 jaar na verlaten onderwijs",
          "5 jaar na verlaten onderwijs"
         ],
         "title": {
          "text": "Benchmark"
         },
         "type": "category"
        },
        "yaxis": {
         "tickformat": ",.",
         "tickprefix": "€",
         "title": {
          "text": "Hourly wage"
         }
        }
       }
      }
     },
     "metadata": {},
     "output_type": "display_data"
    }
   ],
   "source": [
    "trace = [go.Bar(\n",
    "    x=uurloon['Peilmoment'],\n",
    "    y=hbo_bachelor['Uurloon werknemers na verlaten ho (euro)'],\n",
    "    name='Hbo-bachelor',\n",
    "    marker_color='rgb(102,194,165)',\n",
    "    hoverinfo='y+name'\n",
    "    ),\n",
    "    go.Bar(\n",
    "    x=uurloon['Peilmoment'],\n",
    "    y=hbo_master['Uurloon werknemers na verlaten ho (euro)'],\n",
    "    name='Hbo-master',\n",
    "    marker_color='rgb(252,141,98)',\n",
    "    hoverinfo='y+name'\n",
    "    ),\n",
    "    go.Bar(\n",
    "    x=uurloon['Peilmoment'],\n",
    "    y=wo_bachelor['Uurloon werknemers na verlaten ho (euro)'],\n",
    "    name='Wo-bachelor',\n",
    "    marker_color='rgb(141,160,203)',\n",
    "    hoverinfo='y+name'\n",
    "    ),\n",
    "    go.Bar(\n",
    "    x=uurloon['Peilmoment'],\n",
    "    y=wo_master['Uurloon werknemers na verlaten ho (euro)'],\n",
    "    name='Wo-master',\n",
    "    marker_color='rgb(231,138,195)',\n",
    "    hoverinfo='y+name'\n",
    "    )]\n",
    "\n",
    "layout = go.Layout(\n",
    "    title='Hourly wage after leaving university per degree',\n",
    "    height=400,\n",
    "    xaxis=go.layout.XAxis(\n",
    "        title='Benchmark',\n",
    "        type='category',\n",
    "        tickvals = uurloongem['Peilmoment'].unique(),\n",
    "        ticktext=['Directly after', '1 year after', '2 years after', '3 years after', '4 years after', '5 years after']\n",
    "    ),\n",
    "    yaxis=go.layout.YAxis(\n",
    "        title='Hourly wage',\n",
    "        tickprefix = '€', \n",
    "        tickformat = ',.'\n",
    "    ),\n",
    "    legend=dict(\n",
    "            x=1.0,\n",
    "            y=1.0,\n",
    "            bgcolor='rgba(255, 255, 255, 0)',\n",
    "            bordercolor='rgba(255, 255, 255, 0)'\n",
    "    ),\n",
    "    barmode='group',\n",
    "    bargap=0.15,\n",
    "    bargroupgap=0.1,\n",
    ")\n",
    "\n",
    "fig = go.Figure(data=trace, layout=layout)\n",
    "fig.show()"
   ]
  },
  {
   "cell_type": "markdown",
   "metadata": {},
   "source": [
    "This barplot compares the hourly wage per degree. It's interesting to see that even though WO is a \"higher\" degree it initially earns less than the so called \"lower\" degrees."
   ]
  }
 ],
 "metadata": {
  "kernelspec": {
   "display_name": "Python 3 (ipykernel)",
   "language": "python",
   "name": "python3"
  },
  "language_info": {
   "codemirror_mode": {
    "name": "ipython",
    "version": 3
   },
   "file_extension": ".py",
   "mimetype": "text/x-python",
   "name": "python",
   "nbconvert_exporter": "python",
   "pygments_lexer": "ipython3",
   "version": "3.10.14"
  },
  "widgets": {
   "application/vnd.jupyter.widget-state+json": {
    "state": {},
    "version_major": 2,
    "version_minor": 0
   }
  }
 },
 "nbformat": 4,
 "nbformat_minor": 4
}
