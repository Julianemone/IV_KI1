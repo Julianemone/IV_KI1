{
 "cells": [
  {
   "cell_type": "markdown",
   "metadata": {},
   "source": [
    "# The job market after university\n",
    "---\n",
    "*Employment Positions and Salaries Among Graduates of Universities of Applied Sciences and Research Universities*"
   ]
  },
  {
   "cell_type": "code",
   "execution_count": 130,
   "metadata": {
    "tags": [
     "remove-input"
    ]
   },
   "outputs": [
    {
     "data": {
      "text/html": [
       "<style>\n",
       "html[data-theme=\"light\"] .cell_output {\n",
       "    filter: drop-shadow(0px 0px 8px rgba(39, 82, 125, 0.19));\n",
       "}\n",
       "\n",
       "html[data-theme=\"dark\"] .cell_output {\n",
       "    filter: drop-shadow(0px 0px 8px rgba(255, 255, 255, 0));\n",
       "}\n",
       "\n",
       "html[data-theme=dark] .bd-content div.cell_output .text_html:not(:has(table.dataframe)), html[data-theme=dark] .bd-content div.cell_output .widget-subarea, html[data-theme=dark] .bd-content div.cell_output img {\n",
       "  background-color: rgba(0, 0, 0, 0);\n",
       "  padding: 0;\n",
       "}\n",
       "\n",
       "main img,\n",
       ".plotly-graph-div {\n",
       "    border-radius: 10px;\n",
       "    overflow: hidden;\n",
       "    width:100%;\n",
       "    height:100%;\n",
       "}\n",
       "\n",
       "</style>\n"
      ],
      "text/plain": [
       "<IPython.core.display.HTML object>"
      ]
     },
     "metadata": {},
     "output_type": "display_data"
    }
   ],
   "source": [
    "%%html\n",
    "<style>\n",
    "html[data-theme=\"light\"] .cell_output {\n",
    "    filter: drop-shadow(0px 0px 8px rgba(39, 82, 125, 0.19));\n",
    "}\n",
    "\n",
    "html[data-theme=\"dark\"] .cell_output {\n",
    "    filter: drop-shadow(0px 0px 8px rgba(255, 255, 255, 0));\n",
    "}\n",
    "\n",
    "html[data-theme=dark] .bd-content div.cell_output .text_html:not(:has(table.dataframe)), html[data-theme=dark] .bd-content div.cell_output .widget-subarea, html[data-theme=dark] .bd-content div.cell_output img {\n",
    "  background-color: rgba(0, 0, 0, 0);\n",
    "  padding: 0;\n",
    "}\n",
    "\n",
    "main img,\n",
    ".plotly-graph-div {\n",
    "    border-radius: 10px;\n",
    "    overflow: hidden;\n",
    "    width:100%;\n",
    "    height:100%;\n",
    "}\n",
    "\n",
    "</style>"
   ]
  },
  {
   "cell_type": "code",
   "execution_count": 141,
   "metadata": {
    "tags": [
     "remove-input"
    ]
   },
   "outputs": [
    {
     "data": {
      "text/html": [
       "<img src=\"https://upload.wikimedia.org/wikipedia/commons/thumb/6/66/Amsterdam_science_park.jpg/1280px-Amsterdam_science_park.jpg\" width=\"600\" height=\"400\"/>"
      ],
      "text/plain": [
       "<IPython.core.display.Image object>"
      ]
     },
     "metadata": {},
     "output_type": "display_data"
    },
    {
     "name": "stdout",
     "output_type": "stream",
     "text": [
      "© Wikipedia / Jvhertum \n"
     ]
    }
   ],
   "source": [
    "url = 'https://upload.wikimedia.org/wikipedia/commons/thumb/6/66/Amsterdam_science_park.jpg/1280px-Amsterdam_science_park.jpg'\n",
    "\n",
    "from IPython.display import Image, display\n",
    "\n",
    "width = 600\n",
    "height = 400\n",
    "\n",
    "subtitle = \"© Wikipedia / Jvhertum \"\n",
    "\n",
    "image = Image(url=url, width=width, height=height)\n",
    "\n",
    "display(image)\n",
    "print(subtitle)"
   ]
  },
  {
   "cell_type": "markdown",
   "metadata": {},
   "source": [
    "## Wage per degree"
   ]
  },
  {
   "cell_type": "code",
   "execution_count": 132,
   "metadata": {
    "tags": [
     "remove-input"
    ]
   },
   "outputs": [
    {
     "data": {
      "application/vnd.plotly.v1+json": {
       "config": {
        "plotlyServerURL": "https://plot.ly"
       },
       "data": [
        {
         "hoverinfo": "y+name",
         "marker": {
          "color": "rgb(102,194,165)"
         },
         "name": "Hbo-bachelor",
         "type": "bar",
         "x": [
          "Direct na verlaten onderwijs",
          "1 jaar na verlaten onderwijs",
          "2 jaar na verlaten onderwijs",
          "3 jaar na verlaten onderwijs",
          "4 jaar na verlaten onderwijs",
          "5 jaar na verlaten onderwijs",
          "Direct na verlaten onderwijs",
          "1 jaar na verlaten onderwijs",
          "2 jaar na verlaten onderwijs",
          "3 jaar na verlaten onderwijs",
          "4 jaar na verlaten onderwijs",
          "5 jaar na verlaten onderwijs",
          "Direct na verlaten onderwijs",
          "1 jaar na verlaten onderwijs",
          "2 jaar na verlaten onderwijs",
          "3 jaar na verlaten onderwijs",
          "4 jaar na verlaten onderwijs",
          "5 jaar na verlaten onderwijs",
          "Direct na verlaten onderwijs",
          "1 jaar na verlaten onderwijs",
          "2 jaar na verlaten onderwijs",
          "3 jaar na verlaten onderwijs",
          "4 jaar na verlaten onderwijs",
          "5 jaar na verlaten onderwijs",
          "Direct na verlaten onderwijs",
          "1 jaar na verlaten onderwijs",
          "2 jaar na verlaten onderwijs",
          "3 jaar na verlaten onderwijs",
          "4 jaar na verlaten onderwijs",
          "5 jaar na verlaten onderwijs",
          "Direct na verlaten onderwijs",
          "1 jaar na verlaten onderwijs",
          "2 jaar na verlaten onderwijs",
          "3 jaar na verlaten onderwijs",
          "4 jaar na verlaten onderwijs",
          "5 jaar na verlaten onderwijs",
          "Direct na verlaten onderwijs",
          "1 jaar na verlaten onderwijs",
          "2 jaar na verlaten onderwijs",
          "3 jaar na verlaten onderwijs",
          "4 jaar na verlaten onderwijs",
          "5 jaar na verlaten onderwijs",
          "Direct na verlaten onderwijs",
          "1 jaar na verlaten onderwijs",
          "2 jaar na verlaten onderwijs",
          "3 jaar na verlaten onderwijs",
          "4 jaar na verlaten onderwijs",
          "5 jaar na verlaten onderwijs",
          "Direct na verlaten onderwijs",
          "1 jaar na verlaten onderwijs",
          "2 jaar na verlaten onderwijs",
          "3 jaar na verlaten onderwijs",
          "4 jaar na verlaten onderwijs",
          "5 jaar na verlaten onderwijs",
          "Direct na verlaten onderwijs",
          "1 jaar na verlaten onderwijs",
          "2 jaar na verlaten onderwijs",
          "3 jaar na verlaten onderwijs",
          "4 jaar na verlaten onderwijs",
          "5 jaar na verlaten onderwijs",
          "Direct na verlaten onderwijs",
          "1 jaar na verlaten onderwijs",
          "2 jaar na verlaten onderwijs",
          "3 jaar na verlaten onderwijs",
          "4 jaar na verlaten onderwijs",
          "5 jaar na verlaten onderwijs",
          "Direct na verlaten onderwijs",
          "1 jaar na verlaten onderwijs",
          "2 jaar na verlaten onderwijs",
          "3 jaar na verlaten onderwijs",
          "4 jaar na verlaten onderwijs",
          "5 jaar na verlaten onderwijs",
          "Direct na verlaten onderwijs",
          "1 jaar na verlaten onderwijs",
          "2 jaar na verlaten onderwijs",
          "3 jaar na verlaten onderwijs",
          "4 jaar na verlaten onderwijs",
          "5 jaar na verlaten onderwijs",
          "Direct na verlaten onderwijs",
          "1 jaar na verlaten onderwijs",
          "2 jaar na verlaten onderwijs",
          "3 jaar na verlaten onderwijs",
          "4 jaar na verlaten onderwijs",
          "5 jaar na verlaten onderwijs",
          "Direct na verlaten onderwijs",
          "1 jaar na verlaten onderwijs",
          "2 jaar na verlaten onderwijs",
          "3 jaar na verlaten onderwijs",
          "4 jaar na verlaten onderwijs",
          "5 jaar na verlaten onderwijs",
          "Direct na verlaten onderwijs",
          "1 jaar na verlaten onderwijs",
          "2 jaar na verlaten onderwijs",
          "3 jaar na verlaten onderwijs",
          "4 jaar na verlaten onderwijs",
          "5 jaar na verlaten onderwijs",
          "Direct na verlaten onderwijs",
          "1 jaar na verlaten onderwijs",
          "2 jaar na verlaten onderwijs",
          "3 jaar na verlaten onderwijs",
          "4 jaar na verlaten onderwijs",
          "5 jaar na verlaten onderwijs",
          "Direct na verlaten onderwijs",
          "1 jaar na verlaten onderwijs",
          "2 jaar na verlaten onderwijs",
          "3 jaar na verlaten onderwijs",
          "4 jaar na verlaten onderwijs",
          "5 jaar na verlaten onderwijs",
          "Direct na verlaten onderwijs",
          "1 jaar na verlaten onderwijs",
          "2 jaar na verlaten onderwijs",
          "3 jaar na verlaten onderwijs",
          "4 jaar na verlaten onderwijs",
          "5 jaar na verlaten onderwijs",
          "Direct na verlaten onderwijs",
          "1 jaar na verlaten onderwijs",
          "2 jaar na verlaten onderwijs",
          "3 jaar na verlaten onderwijs",
          "4 jaar na verlaten onderwijs",
          "5 jaar na verlaten onderwijs",
          "Direct na verlaten onderwijs",
          "1 jaar na verlaten onderwijs",
          "2 jaar na verlaten onderwijs",
          "3 jaar na verlaten onderwijs",
          "4 jaar na verlaten onderwijs",
          "5 jaar na verlaten onderwijs",
          "Direct na verlaten onderwijs",
          "1 jaar na verlaten onderwijs",
          "2 jaar na verlaten onderwijs",
          "3 jaar na verlaten onderwijs",
          "4 jaar na verlaten onderwijs",
          "5 jaar na verlaten onderwijs",
          "Direct na verlaten onderwijs",
          "1 jaar na verlaten onderwijs",
          "2 jaar na verlaten onderwijs",
          "3 jaar na verlaten onderwijs",
          "4 jaar na verlaten onderwijs",
          "5 jaar na verlaten onderwijs",
          "Direct na verlaten onderwijs",
          "1 jaar na verlaten onderwijs",
          "2 jaar na verlaten onderwijs",
          "3 jaar na verlaten onderwijs",
          "4 jaar na verlaten onderwijs",
          "5 jaar na verlaten onderwijs",
          "Direct na verlaten onderwijs",
          "1 jaar na verlaten onderwijs",
          "2 jaar na verlaten onderwijs",
          "3 jaar na verlaten onderwijs",
          "4 jaar na verlaten onderwijs",
          "5 jaar na verlaten onderwijs",
          "Direct na verlaten onderwijs",
          "1 jaar na verlaten onderwijs",
          "2 jaar na verlaten onderwijs",
          "3 jaar na verlaten onderwijs",
          "4 jaar na verlaten onderwijs",
          "5 jaar na verlaten onderwijs",
          "Direct na verlaten onderwijs",
          "1 jaar na verlaten onderwijs",
          "2 jaar na verlaten onderwijs",
          "3 jaar na verlaten onderwijs",
          "4 jaar na verlaten onderwijs",
          "5 jaar na verlaten onderwijs",
          "Direct na verlaten onderwijs",
          "1 jaar na verlaten onderwijs",
          "2 jaar na verlaten onderwijs",
          "3 jaar na verlaten onderwijs",
          "4 jaar na verlaten onderwijs",
          "5 jaar na verlaten onderwijs",
          "Direct na verlaten onderwijs",
          "1 jaar na verlaten onderwijs",
          "2 jaar na verlaten onderwijs",
          "3 jaar na verlaten onderwijs",
          "4 jaar na verlaten onderwijs",
          "5 jaar na verlaten onderwijs",
          "Direct na verlaten onderwijs",
          "1 jaar na verlaten onderwijs",
          "2 jaar na verlaten onderwijs",
          "3 jaar na verlaten onderwijs",
          "4 jaar na verlaten onderwijs",
          "5 jaar na verlaten onderwijs",
          "Direct na verlaten onderwijs",
          "1 jaar na verlaten onderwijs",
          "2 jaar na verlaten onderwijs",
          "3 jaar na verlaten onderwijs",
          "4 jaar na verlaten onderwijs",
          "5 jaar na verlaten onderwijs",
          "Direct na verlaten onderwijs",
          "1 jaar na verlaten onderwijs",
          "2 jaar na verlaten onderwijs",
          "3 jaar na verlaten onderwijs",
          "4 jaar na verlaten onderwijs",
          "5 jaar na verlaten onderwijs",
          "Direct na verlaten onderwijs",
          "1 jaar na verlaten onderwijs",
          "2 jaar na verlaten onderwijs",
          "3 jaar na verlaten onderwijs",
          "4 jaar na verlaten onderwijs",
          "5 jaar na verlaten onderwijs",
          "Direct na verlaten onderwijs",
          "1 jaar na verlaten onderwijs",
          "2 jaar na verlaten onderwijs",
          "3 jaar na verlaten onderwijs",
          "4 jaar na verlaten onderwijs",
          "5 jaar na verlaten onderwijs",
          "Direct na verlaten onderwijs",
          "1 jaar na verlaten onderwijs",
          "2 jaar na verlaten onderwijs",
          "3 jaar na verlaten onderwijs",
          "4 jaar na verlaten onderwijs",
          "5 jaar na verlaten onderwijs",
          "Direct na verlaten onderwijs",
          "1 jaar na verlaten onderwijs",
          "2 jaar na verlaten onderwijs",
          "3 jaar na verlaten onderwijs",
          "4 jaar na verlaten onderwijs",
          "5 jaar na verlaten onderwijs",
          "Direct na verlaten onderwijs",
          "1 jaar na verlaten onderwijs",
          "2 jaar na verlaten onderwijs",
          "3 jaar na verlaten onderwijs",
          "4 jaar na verlaten onderwijs",
          "5 jaar na verlaten onderwijs",
          "Direct na verlaten onderwijs",
          "1 jaar na verlaten onderwijs",
          "2 jaar na verlaten onderwijs",
          "3 jaar na verlaten onderwijs",
          "4 jaar na verlaten onderwijs",
          "5 jaar na verlaten onderwijs",
          "Direct na verlaten onderwijs",
          "1 jaar na verlaten onderwijs",
          "2 jaar na verlaten onderwijs",
          "3 jaar na verlaten onderwijs",
          "4 jaar na verlaten onderwijs",
          "5 jaar na verlaten onderwijs",
          "Direct na verlaten onderwijs",
          "1 jaar na verlaten onderwijs",
          "2 jaar na verlaten onderwijs",
          "3 jaar na verlaten onderwijs",
          "4 jaar na verlaten onderwijs",
          "5 jaar na verlaten onderwijs",
          "Direct na verlaten onderwijs",
          "1 jaar na verlaten onderwijs",
          "2 jaar na verlaten onderwijs",
          "3 jaar na verlaten onderwijs",
          "4 jaar na verlaten onderwijs",
          "5 jaar na verlaten onderwijs",
          "Direct na verlaten onderwijs",
          "1 jaar na verlaten onderwijs",
          "2 jaar na verlaten onderwijs",
          "3 jaar na verlaten onderwijs",
          "4 jaar na verlaten onderwijs",
          "5 jaar na verlaten onderwijs",
          "Direct na verlaten onderwijs",
          "1 jaar na verlaten onderwijs",
          "2 jaar na verlaten onderwijs",
          "3 jaar na verlaten onderwijs",
          "4 jaar na verlaten onderwijs",
          "5 jaar na verlaten onderwijs",
          "Direct na verlaten onderwijs",
          "1 jaar na verlaten onderwijs",
          "2 jaar na verlaten onderwijs",
          "3 jaar na verlaten onderwijs",
          "4 jaar na verlaten onderwijs",
          "5 jaar na verlaten onderwijs",
          "Direct na verlaten onderwijs",
          "1 jaar na verlaten onderwijs",
          "2 jaar na verlaten onderwijs",
          "3 jaar na verlaten onderwijs",
          "4 jaar na verlaten onderwijs",
          "5 jaar na verlaten onderwijs",
          "Direct na verlaten onderwijs",
          "1 jaar na verlaten onderwijs",
          "2 jaar na verlaten onderwijs",
          "3 jaar na verlaten onderwijs",
          "4 jaar na verlaten onderwijs",
          "5 jaar na verlaten onderwijs",
          "Direct na verlaten onderwijs",
          "1 jaar na verlaten onderwijs",
          "2 jaar na verlaten onderwijs",
          "3 jaar na verlaten onderwijs",
          "4 jaar na verlaten onderwijs",
          "5 jaar na verlaten onderwijs",
          "Direct na verlaten onderwijs",
          "1 jaar na verlaten onderwijs",
          "2 jaar na verlaten onderwijs",
          "3 jaar na verlaten onderwijs",
          "4 jaar na verlaten onderwijs",
          "5 jaar na verlaten onderwijs",
          "Direct na verlaten onderwijs",
          "1 jaar na verlaten onderwijs",
          "2 jaar na verlaten onderwijs",
          "3 jaar na verlaten onderwijs",
          "4 jaar na verlaten onderwijs",
          "5 jaar na verlaten onderwijs",
          "Direct na verlaten onderwijs",
          "1 jaar na verlaten onderwijs",
          "2 jaar na verlaten onderwijs",
          "3 jaar na verlaten onderwijs",
          "4 jaar na verlaten onderwijs",
          "5 jaar na verlaten onderwijs",
          "Direct na verlaten onderwijs",
          "1 jaar na verlaten onderwijs",
          "2 jaar na verlaten onderwijs",
          "3 jaar na verlaten onderwijs",
          "4 jaar na verlaten onderwijs",
          "5 jaar na verlaten onderwijs",
          "Direct na verlaten onderwijs",
          "1 jaar na verlaten onderwijs",
          "2 jaar na verlaten onderwijs",
          "3 jaar na verlaten onderwijs",
          "4 jaar na verlaten onderwijs",
          "5 jaar na verlaten onderwijs",
          "Direct na verlaten onderwijs",
          "1 jaar na verlaten onderwijs",
          "2 jaar na verlaten onderwijs",
          "3 jaar na verlaten onderwijs",
          "4 jaar na verlaten onderwijs",
          "5 jaar na verlaten onderwijs",
          "Direct na verlaten onderwijs",
          "1 jaar na verlaten onderwijs",
          "2 jaar na verlaten onderwijs",
          "3 jaar na verlaten onderwijs",
          "4 jaar na verlaten onderwijs",
          "5 jaar na verlaten onderwijs",
          "Direct na verlaten onderwijs",
          "1 jaar na verlaten onderwijs",
          "2 jaar na verlaten onderwijs",
          "3 jaar na verlaten onderwijs",
          "4 jaar na verlaten onderwijs",
          "5 jaar na verlaten onderwijs",
          "Direct na verlaten onderwijs",
          "1 jaar na verlaten onderwijs",
          "2 jaar na verlaten onderwijs",
          "3 jaar na verlaten onderwijs",
          "4 jaar na verlaten onderwijs",
          "5 jaar na verlaten onderwijs",
          "Direct na verlaten onderwijs",
          "1 jaar na verlaten onderwijs",
          "2 jaar na verlaten onderwijs",
          "3 jaar na verlaten onderwijs",
          "4 jaar na verlaten onderwijs",
          "5 jaar na verlaten onderwijs",
          "Direct na verlaten onderwijs",
          "1 jaar na verlaten onderwijs",
          "2 jaar na verlaten onderwijs",
          "3 jaar na verlaten onderwijs",
          "4 jaar na verlaten onderwijs",
          "5 jaar na verlaten onderwijs",
          "Direct na verlaten onderwijs",
          "1 jaar na verlaten onderwijs",
          "2 jaar na verlaten onderwijs",
          "3 jaar na verlaten onderwijs",
          "4 jaar na verlaten onderwijs",
          "5 jaar na verlaten onderwijs",
          "Direct na verlaten onderwijs",
          "1 jaar na verlaten onderwijs",
          "2 jaar na verlaten onderwijs",
          "3 jaar na verlaten onderwijs",
          "4 jaar na verlaten onderwijs",
          "5 jaar na verlaten onderwijs",
          "Direct na verlaten onderwijs",
          "1 jaar na verlaten onderwijs",
          "2 jaar na verlaten onderwijs",
          "3 jaar na verlaten onderwijs",
          "4 jaar na verlaten onderwijs",
          "5 jaar na verlaten onderwijs",
          "Direct na verlaten onderwijs",
          "1 jaar na verlaten onderwijs",
          "2 jaar na verlaten onderwijs",
          "3 jaar na verlaten onderwijs",
          "4 jaar na verlaten onderwijs",
          "5 jaar na verlaten onderwijs",
          "Direct na verlaten onderwijs",
          "1 jaar na verlaten onderwijs",
          "2 jaar na verlaten onderwijs",
          "3 jaar na verlaten onderwijs",
          "4 jaar na verlaten onderwijs",
          "5 jaar na verlaten onderwijs",
          "Direct na verlaten onderwijs",
          "1 jaar na verlaten onderwijs",
          "2 jaar na verlaten onderwijs",
          "3 jaar na verlaten onderwijs",
          "4 jaar na verlaten onderwijs",
          "5 jaar na verlaten onderwijs",
          "Direct na verlaten onderwijs",
          "1 jaar na verlaten onderwijs",
          "2 jaar na verlaten onderwijs",
          "3 jaar na verlaten onderwijs",
          "4 jaar na verlaten onderwijs",
          "5 jaar na verlaten onderwijs",
          "Direct na verlaten onderwijs",
          "1 jaar na verlaten onderwijs",
          "2 jaar na verlaten onderwijs",
          "3 jaar na verlaten onderwijs",
          "4 jaar na verlaten onderwijs",
          "5 jaar na verlaten onderwijs",
          "Direct na verlaten onderwijs",
          "1 jaar na verlaten onderwijs",
          "2 jaar na verlaten onderwijs",
          "3 jaar na verlaten onderwijs",
          "4 jaar na verlaten onderwijs",
          "5 jaar na verlaten onderwijs",
          "Direct na verlaten onderwijs",
          "1 jaar na verlaten onderwijs",
          "2 jaar na verlaten onderwijs",
          "3 jaar na verlaten onderwijs",
          "4 jaar na verlaten onderwijs",
          "5 jaar na verlaten onderwijs",
          "Direct na verlaten onderwijs",
          "1 jaar na verlaten onderwijs",
          "2 jaar na verlaten onderwijs",
          "3 jaar na verlaten onderwijs",
          "4 jaar na verlaten onderwijs",
          "5 jaar na verlaten onderwijs",
          "Direct na verlaten onderwijs",
          "1 jaar na verlaten onderwijs",
          "2 jaar na verlaten onderwijs",
          "3 jaar na verlaten onderwijs",
          "4 jaar na verlaten onderwijs",
          "5 jaar na verlaten onderwijs",
          "Direct na verlaten onderwijs",
          "1 jaar na verlaten onderwijs",
          "2 jaar na verlaten onderwijs",
          "3 jaar na verlaten onderwijs",
          "4 jaar na verlaten onderwijs",
          "5 jaar na verlaten onderwijs",
          "Direct na verlaten onderwijs",
          "1 jaar na verlaten onderwijs",
          "2 jaar na verlaten onderwijs",
          "3 jaar na verlaten onderwijs",
          "4 jaar na verlaten onderwijs",
          "5 jaar na verlaten onderwijs",
          "Direct na verlaten onderwijs",
          "1 jaar na verlaten onderwijs",
          "2 jaar na verlaten onderwijs",
          "3 jaar na verlaten onderwijs",
          "4 jaar na verlaten onderwijs",
          "5 jaar na verlaten onderwijs",
          "Direct na verlaten onderwijs",
          "1 jaar na verlaten onderwijs",
          "2 jaar na verlaten onderwijs",
          "3 jaar na verlaten onderwijs",
          "4 jaar na verlaten onderwijs",
          "5 jaar na verlaten onderwijs",
          "Direct na verlaten onderwijs",
          "1 jaar na verlaten onderwijs",
          "2 jaar na verlaten onderwijs",
          "3 jaar na verlaten onderwijs",
          "4 jaar na verlaten onderwijs",
          "5 jaar na verlaten onderwijs",
          "Direct na verlaten onderwijs",
          "1 jaar na verlaten onderwijs",
          "2 jaar na verlaten onderwijs",
          "3 jaar na verlaten onderwijs",
          "4 jaar na verlaten onderwijs",
          "5 jaar na verlaten onderwijs",
          "Direct na verlaten onderwijs",
          "1 jaar na verlaten onderwijs",
          "2 jaar na verlaten onderwijs",
          "3 jaar na verlaten onderwijs",
          "4 jaar na verlaten onderwijs",
          "5 jaar na verlaten onderwijs",
          "Direct na verlaten onderwijs",
          "1 jaar na verlaten onderwijs",
          "2 jaar na verlaten onderwijs",
          "3 jaar na verlaten onderwijs",
          "4 jaar na verlaten onderwijs",
          "5 jaar na verlaten onderwijs",
          "Direct na verlaten onderwijs",
          "1 jaar na verlaten onderwijs",
          "2 jaar na verlaten onderwijs",
          "3 jaar na verlaten onderwijs",
          "4 jaar na verlaten onderwijs",
          "5 jaar na verlaten onderwijs",
          "Direct na verlaten onderwijs",
          "1 jaar na verlaten onderwijs",
          "2 jaar na verlaten onderwijs",
          "3 jaar na verlaten onderwijs",
          "4 jaar na verlaten onderwijs",
          "5 jaar na verlaten onderwijs"
         ],
         "y": [
          14.79,
          16.3,
          18.14,
          19.61,
          21.4,
          22.84
         ]
        },
        {
         "hoverinfo": "y+name",
         "marker": {
          "color": "rgb(252,141,98)"
         },
         "name": "Hbo-master",
         "type": "bar",
         "x": [
          "Direct na verlaten onderwijs",
          "1 jaar na verlaten onderwijs",
          "2 jaar na verlaten onderwijs",
          "3 jaar na verlaten onderwijs",
          "4 jaar na verlaten onderwijs",
          "5 jaar na verlaten onderwijs",
          "Direct na verlaten onderwijs",
          "1 jaar na verlaten onderwijs",
          "2 jaar na verlaten onderwijs",
          "3 jaar na verlaten onderwijs",
          "4 jaar na verlaten onderwijs",
          "5 jaar na verlaten onderwijs",
          "Direct na verlaten onderwijs",
          "1 jaar na verlaten onderwijs",
          "2 jaar na verlaten onderwijs",
          "3 jaar na verlaten onderwijs",
          "4 jaar na verlaten onderwijs",
          "5 jaar na verlaten onderwijs",
          "Direct na verlaten onderwijs",
          "1 jaar na verlaten onderwijs",
          "2 jaar na verlaten onderwijs",
          "3 jaar na verlaten onderwijs",
          "4 jaar na verlaten onderwijs",
          "5 jaar na verlaten onderwijs",
          "Direct na verlaten onderwijs",
          "1 jaar na verlaten onderwijs",
          "2 jaar na verlaten onderwijs",
          "3 jaar na verlaten onderwijs",
          "4 jaar na verlaten onderwijs",
          "5 jaar na verlaten onderwijs",
          "Direct na verlaten onderwijs",
          "1 jaar na verlaten onderwijs",
          "2 jaar na verlaten onderwijs",
          "3 jaar na verlaten onderwijs",
          "4 jaar na verlaten onderwijs",
          "5 jaar na verlaten onderwijs",
          "Direct na verlaten onderwijs",
          "1 jaar na verlaten onderwijs",
          "2 jaar na verlaten onderwijs",
          "3 jaar na verlaten onderwijs",
          "4 jaar na verlaten onderwijs",
          "5 jaar na verlaten onderwijs",
          "Direct na verlaten onderwijs",
          "1 jaar na verlaten onderwijs",
          "2 jaar na verlaten onderwijs",
          "3 jaar na verlaten onderwijs",
          "4 jaar na verlaten onderwijs",
          "5 jaar na verlaten onderwijs",
          "Direct na verlaten onderwijs",
          "1 jaar na verlaten onderwijs",
          "2 jaar na verlaten onderwijs",
          "3 jaar na verlaten onderwijs",
          "4 jaar na verlaten onderwijs",
          "5 jaar na verlaten onderwijs",
          "Direct na verlaten onderwijs",
          "1 jaar na verlaten onderwijs",
          "2 jaar na verlaten onderwijs",
          "3 jaar na verlaten onderwijs",
          "4 jaar na verlaten onderwijs",
          "5 jaar na verlaten onderwijs",
          "Direct na verlaten onderwijs",
          "1 jaar na verlaten onderwijs",
          "2 jaar na verlaten onderwijs",
          "3 jaar na verlaten onderwijs",
          "4 jaar na verlaten onderwijs",
          "5 jaar na verlaten onderwijs",
          "Direct na verlaten onderwijs",
          "1 jaar na verlaten onderwijs",
          "2 jaar na verlaten onderwijs",
          "3 jaar na verlaten onderwijs",
          "4 jaar na verlaten onderwijs",
          "5 jaar na verlaten onderwijs",
          "Direct na verlaten onderwijs",
          "1 jaar na verlaten onderwijs",
          "2 jaar na verlaten onderwijs",
          "3 jaar na verlaten onderwijs",
          "4 jaar na verlaten onderwijs",
          "5 jaar na verlaten onderwijs",
          "Direct na verlaten onderwijs",
          "1 jaar na verlaten onderwijs",
          "2 jaar na verlaten onderwijs",
          "3 jaar na verlaten onderwijs",
          "4 jaar na verlaten onderwijs",
          "5 jaar na verlaten onderwijs",
          "Direct na verlaten onderwijs",
          "1 jaar na verlaten onderwijs",
          "2 jaar na verlaten onderwijs",
          "3 jaar na verlaten onderwijs",
          "4 jaar na verlaten onderwijs",
          "5 jaar na verlaten onderwijs",
          "Direct na verlaten onderwijs",
          "1 jaar na verlaten onderwijs",
          "2 jaar na verlaten onderwijs",
          "3 jaar na verlaten onderwijs",
          "4 jaar na verlaten onderwijs",
          "5 jaar na verlaten onderwijs",
          "Direct na verlaten onderwijs",
          "1 jaar na verlaten onderwijs",
          "2 jaar na verlaten onderwijs",
          "3 jaar na verlaten onderwijs",
          "4 jaar na verlaten onderwijs",
          "5 jaar na verlaten onderwijs",
          "Direct na verlaten onderwijs",
          "1 jaar na verlaten onderwijs",
          "2 jaar na verlaten onderwijs",
          "3 jaar na verlaten onderwijs",
          "4 jaar na verlaten onderwijs",
          "5 jaar na verlaten onderwijs",
          "Direct na verlaten onderwijs",
          "1 jaar na verlaten onderwijs",
          "2 jaar na verlaten onderwijs",
          "3 jaar na verlaten onderwijs",
          "4 jaar na verlaten onderwijs",
          "5 jaar na verlaten onderwijs",
          "Direct na verlaten onderwijs",
          "1 jaar na verlaten onderwijs",
          "2 jaar na verlaten onderwijs",
          "3 jaar na verlaten onderwijs",
          "4 jaar na verlaten onderwijs",
          "5 jaar na verlaten onderwijs",
          "Direct na verlaten onderwijs",
          "1 jaar na verlaten onderwijs",
          "2 jaar na verlaten onderwijs",
          "3 jaar na verlaten onderwijs",
          "4 jaar na verlaten onderwijs",
          "5 jaar na verlaten onderwijs",
          "Direct na verlaten onderwijs",
          "1 jaar na verlaten onderwijs",
          "2 jaar na verlaten onderwijs",
          "3 jaar na verlaten onderwijs",
          "4 jaar na verlaten onderwijs",
          "5 jaar na verlaten onderwijs",
          "Direct na verlaten onderwijs",
          "1 jaar na verlaten onderwijs",
          "2 jaar na verlaten onderwijs",
          "3 jaar na verlaten onderwijs",
          "4 jaar na verlaten onderwijs",
          "5 jaar na verlaten onderwijs",
          "Direct na verlaten onderwijs",
          "1 jaar na verlaten onderwijs",
          "2 jaar na verlaten onderwijs",
          "3 jaar na verlaten onderwijs",
          "4 jaar na verlaten onderwijs",
          "5 jaar na verlaten onderwijs",
          "Direct na verlaten onderwijs",
          "1 jaar na verlaten onderwijs",
          "2 jaar na verlaten onderwijs",
          "3 jaar na verlaten onderwijs",
          "4 jaar na verlaten onderwijs",
          "5 jaar na verlaten onderwijs",
          "Direct na verlaten onderwijs",
          "1 jaar na verlaten onderwijs",
          "2 jaar na verlaten onderwijs",
          "3 jaar na verlaten onderwijs",
          "4 jaar na verlaten onderwijs",
          "5 jaar na verlaten onderwijs",
          "Direct na verlaten onderwijs",
          "1 jaar na verlaten onderwijs",
          "2 jaar na verlaten onderwijs",
          "3 jaar na verlaten onderwijs",
          "4 jaar na verlaten onderwijs",
          "5 jaar na verlaten onderwijs",
          "Direct na verlaten onderwijs",
          "1 jaar na verlaten onderwijs",
          "2 jaar na verlaten onderwijs",
          "3 jaar na verlaten onderwijs",
          "4 jaar na verlaten onderwijs",
          "5 jaar na verlaten onderwijs",
          "Direct na verlaten onderwijs",
          "1 jaar na verlaten onderwijs",
          "2 jaar na verlaten onderwijs",
          "3 jaar na verlaten onderwijs",
          "4 jaar na verlaten onderwijs",
          "5 jaar na verlaten onderwijs",
          "Direct na verlaten onderwijs",
          "1 jaar na verlaten onderwijs",
          "2 jaar na verlaten onderwijs",
          "3 jaar na verlaten onderwijs",
          "4 jaar na verlaten onderwijs",
          "5 jaar na verlaten onderwijs",
          "Direct na verlaten onderwijs",
          "1 jaar na verlaten onderwijs",
          "2 jaar na verlaten onderwijs",
          "3 jaar na verlaten onderwijs",
          "4 jaar na verlaten onderwijs",
          "5 jaar na verlaten onderwijs",
          "Direct na verlaten onderwijs",
          "1 jaar na verlaten onderwijs",
          "2 jaar na verlaten onderwijs",
          "3 jaar na verlaten onderwijs",
          "4 jaar na verlaten onderwijs",
          "5 jaar na verlaten onderwijs",
          "Direct na verlaten onderwijs",
          "1 jaar na verlaten onderwijs",
          "2 jaar na verlaten onderwijs",
          "3 jaar na verlaten onderwijs",
          "4 jaar na verlaten onderwijs",
          "5 jaar na verlaten onderwijs",
          "Direct na verlaten onderwijs",
          "1 jaar na verlaten onderwijs",
          "2 jaar na verlaten onderwijs",
          "3 jaar na verlaten onderwijs",
          "4 jaar na verlaten onderwijs",
          "5 jaar na verlaten onderwijs",
          "Direct na verlaten onderwijs",
          "1 jaar na verlaten onderwijs",
          "2 jaar na verlaten onderwijs",
          "3 jaar na verlaten onderwijs",
          "4 jaar na verlaten onderwijs",
          "5 jaar na verlaten onderwijs",
          "Direct na verlaten onderwijs",
          "1 jaar na verlaten onderwijs",
          "2 jaar na verlaten onderwijs",
          "3 jaar na verlaten onderwijs",
          "4 jaar na verlaten onderwijs",
          "5 jaar na verlaten onderwijs",
          "Direct na verlaten onderwijs",
          "1 jaar na verlaten onderwijs",
          "2 jaar na verlaten onderwijs",
          "3 jaar na verlaten onderwijs",
          "4 jaar na verlaten onderwijs",
          "5 jaar na verlaten onderwijs",
          "Direct na verlaten onderwijs",
          "1 jaar na verlaten onderwijs",
          "2 jaar na verlaten onderwijs",
          "3 jaar na verlaten onderwijs",
          "4 jaar na verlaten onderwijs",
          "5 jaar na verlaten onderwijs",
          "Direct na verlaten onderwijs",
          "1 jaar na verlaten onderwijs",
          "2 jaar na verlaten onderwijs",
          "3 jaar na verlaten onderwijs",
          "4 jaar na verlaten onderwijs",
          "5 jaar na verlaten onderwijs",
          "Direct na verlaten onderwijs",
          "1 jaar na verlaten onderwijs",
          "2 jaar na verlaten onderwijs",
          "3 jaar na verlaten onderwijs",
          "4 jaar na verlaten onderwijs",
          "5 jaar na verlaten onderwijs",
          "Direct na verlaten onderwijs",
          "1 jaar na verlaten onderwijs",
          "2 jaar na verlaten onderwijs",
          "3 jaar na verlaten onderwijs",
          "4 jaar na verlaten onderwijs",
          "5 jaar na verlaten onderwijs",
          "Direct na verlaten onderwijs",
          "1 jaar na verlaten onderwijs",
          "2 jaar na verlaten onderwijs",
          "3 jaar na verlaten onderwijs",
          "4 jaar na verlaten onderwijs",
          "5 jaar na verlaten onderwijs",
          "Direct na verlaten onderwijs",
          "1 jaar na verlaten onderwijs",
          "2 jaar na verlaten onderwijs",
          "3 jaar na verlaten onderwijs",
          "4 jaar na verlaten onderwijs",
          "5 jaar na verlaten onderwijs",
          "Direct na verlaten onderwijs",
          "1 jaar na verlaten onderwijs",
          "2 jaar na verlaten onderwijs",
          "3 jaar na verlaten onderwijs",
          "4 jaar na verlaten onderwijs",
          "5 jaar na verlaten onderwijs",
          "Direct na verlaten onderwijs",
          "1 jaar na verlaten onderwijs",
          "2 jaar na verlaten onderwijs",
          "3 jaar na verlaten onderwijs",
          "4 jaar na verlaten onderwijs",
          "5 jaar na verlaten onderwijs",
          "Direct na verlaten onderwijs",
          "1 jaar na verlaten onderwijs",
          "2 jaar na verlaten onderwijs",
          "3 jaar na verlaten onderwijs",
          "4 jaar na verlaten onderwijs",
          "5 jaar na verlaten onderwijs",
          "Direct na verlaten onderwijs",
          "1 jaar na verlaten onderwijs",
          "2 jaar na verlaten onderwijs",
          "3 jaar na verlaten onderwijs",
          "4 jaar na verlaten onderwijs",
          "5 jaar na verlaten onderwijs",
          "Direct na verlaten onderwijs",
          "1 jaar na verlaten onderwijs",
          "2 jaar na verlaten onderwijs",
          "3 jaar na verlaten onderwijs",
          "4 jaar na verlaten onderwijs",
          "5 jaar na verlaten onderwijs",
          "Direct na verlaten onderwijs",
          "1 jaar na verlaten onderwijs",
          "2 jaar na verlaten onderwijs",
          "3 jaar na verlaten onderwijs",
          "4 jaar na verlaten onderwijs",
          "5 jaar na verlaten onderwijs",
          "Direct na verlaten onderwijs",
          "1 jaar na verlaten onderwijs",
          "2 jaar na verlaten onderwijs",
          "3 jaar na verlaten onderwijs",
          "4 jaar na verlaten onderwijs",
          "5 jaar na verlaten onderwijs",
          "Direct na verlaten onderwijs",
          "1 jaar na verlaten onderwijs",
          "2 jaar na verlaten onderwijs",
          "3 jaar na verlaten onderwijs",
          "4 jaar na verlaten onderwijs",
          "5 jaar na verlaten onderwijs",
          "Direct na verlaten onderwijs",
          "1 jaar na verlaten onderwijs",
          "2 jaar na verlaten onderwijs",
          "3 jaar na verlaten onderwijs",
          "4 jaar na verlaten onderwijs",
          "5 jaar na verlaten onderwijs",
          "Direct na verlaten onderwijs",
          "1 jaar na verlaten onderwijs",
          "2 jaar na verlaten onderwijs",
          "3 jaar na verlaten onderwijs",
          "4 jaar na verlaten onderwijs",
          "5 jaar na verlaten onderwijs",
          "Direct na verlaten onderwijs",
          "1 jaar na verlaten onderwijs",
          "2 jaar na verlaten onderwijs",
          "3 jaar na verlaten onderwijs",
          "4 jaar na verlaten onderwijs",
          "5 jaar na verlaten onderwijs",
          "Direct na verlaten onderwijs",
          "1 jaar na verlaten onderwijs",
          "2 jaar na verlaten onderwijs",
          "3 jaar na verlaten onderwijs",
          "4 jaar na verlaten onderwijs",
          "5 jaar na verlaten onderwijs",
          "Direct na verlaten onderwijs",
          "1 jaar na verlaten onderwijs",
          "2 jaar na verlaten onderwijs",
          "3 jaar na verlaten onderwijs",
          "4 jaar na verlaten onderwijs",
          "5 jaar na verlaten onderwijs",
          "Direct na verlaten onderwijs",
          "1 jaar na verlaten onderwijs",
          "2 jaar na verlaten onderwijs",
          "3 jaar na verlaten onderwijs",
          "4 jaar na verlaten onderwijs",
          "5 jaar na verlaten onderwijs",
          "Direct na verlaten onderwijs",
          "1 jaar na verlaten onderwijs",
          "2 jaar na verlaten onderwijs",
          "3 jaar na verlaten onderwijs",
          "4 jaar na verlaten onderwijs",
          "5 jaar na verlaten onderwijs",
          "Direct na verlaten onderwijs",
          "1 jaar na verlaten onderwijs",
          "2 jaar na verlaten onderwijs",
          "3 jaar na verlaten onderwijs",
          "4 jaar na verlaten onderwijs",
          "5 jaar na verlaten onderwijs",
          "Direct na verlaten onderwijs",
          "1 jaar na verlaten onderwijs",
          "2 jaar na verlaten onderwijs",
          "3 jaar na verlaten onderwijs",
          "4 jaar na verlaten onderwijs",
          "5 jaar na verlaten onderwijs",
          "Direct na verlaten onderwijs",
          "1 jaar na verlaten onderwijs",
          "2 jaar na verlaten onderwijs",
          "3 jaar na verlaten onderwijs",
          "4 jaar na verlaten onderwijs",
          "5 jaar na verlaten onderwijs",
          "Direct na verlaten onderwijs",
          "1 jaar na verlaten onderwijs",
          "2 jaar na verlaten onderwijs",
          "3 jaar na verlaten onderwijs",
          "4 jaar na verlaten onderwijs",
          "5 jaar na verlaten onderwijs",
          "Direct na verlaten onderwijs",
          "1 jaar na verlaten onderwijs",
          "2 jaar na verlaten onderwijs",
          "3 jaar na verlaten onderwijs",
          "4 jaar na verlaten onderwijs",
          "5 jaar na verlaten onderwijs",
          "Direct na verlaten onderwijs",
          "1 jaar na verlaten onderwijs",
          "2 jaar na verlaten onderwijs",
          "3 jaar na verlaten onderwijs",
          "4 jaar na verlaten onderwijs",
          "5 jaar na verlaten onderwijs",
          "Direct na verlaten onderwijs",
          "1 jaar na verlaten onderwijs",
          "2 jaar na verlaten onderwijs",
          "3 jaar na verlaten onderwijs",
          "4 jaar na verlaten onderwijs",
          "5 jaar na verlaten onderwijs",
          "Direct na verlaten onderwijs",
          "1 jaar na verlaten onderwijs",
          "2 jaar na verlaten onderwijs",
          "3 jaar na verlaten onderwijs",
          "4 jaar na verlaten onderwijs",
          "5 jaar na verlaten onderwijs",
          "Direct na verlaten onderwijs",
          "1 jaar na verlaten onderwijs",
          "2 jaar na verlaten onderwijs",
          "3 jaar na verlaten onderwijs",
          "4 jaar na verlaten onderwijs",
          "5 jaar na verlaten onderwijs",
          "Direct na verlaten onderwijs",
          "1 jaar na verlaten onderwijs",
          "2 jaar na verlaten onderwijs",
          "3 jaar na verlaten onderwijs",
          "4 jaar na verlaten onderwijs",
          "5 jaar na verlaten onderwijs",
          "Direct na verlaten onderwijs",
          "1 jaar na verlaten onderwijs",
          "2 jaar na verlaten onderwijs",
          "3 jaar na verlaten onderwijs",
          "4 jaar na verlaten onderwijs",
          "5 jaar na verlaten onderwijs",
          "Direct na verlaten onderwijs",
          "1 jaar na verlaten onderwijs",
          "2 jaar na verlaten onderwijs",
          "3 jaar na verlaten onderwijs",
          "4 jaar na verlaten onderwijs",
          "5 jaar na verlaten onderwijs",
          "Direct na verlaten onderwijs",
          "1 jaar na verlaten onderwijs",
          "2 jaar na verlaten onderwijs",
          "3 jaar na verlaten onderwijs",
          "4 jaar na verlaten onderwijs",
          "5 jaar na verlaten onderwijs",
          "Direct na verlaten onderwijs",
          "1 jaar na verlaten onderwijs",
          "2 jaar na verlaten onderwijs",
          "3 jaar na verlaten onderwijs",
          "4 jaar na verlaten onderwijs",
          "5 jaar na verlaten onderwijs",
          "Direct na verlaten onderwijs",
          "1 jaar na verlaten onderwijs",
          "2 jaar na verlaten onderwijs",
          "3 jaar na verlaten onderwijs",
          "4 jaar na verlaten onderwijs",
          "5 jaar na verlaten onderwijs",
          "Direct na verlaten onderwijs",
          "1 jaar na verlaten onderwijs",
          "2 jaar na verlaten onderwijs",
          "3 jaar na verlaten onderwijs",
          "4 jaar na verlaten onderwijs",
          "5 jaar na verlaten onderwijs",
          "Direct na verlaten onderwijs",
          "1 jaar na verlaten onderwijs",
          "2 jaar na verlaten onderwijs",
          "3 jaar na verlaten onderwijs",
          "4 jaar na verlaten onderwijs",
          "5 jaar na verlaten onderwijs",
          "Direct na verlaten onderwijs",
          "1 jaar na verlaten onderwijs",
          "2 jaar na verlaten onderwijs",
          "3 jaar na verlaten onderwijs",
          "4 jaar na verlaten onderwijs",
          "5 jaar na verlaten onderwijs",
          "Direct na verlaten onderwijs",
          "1 jaar na verlaten onderwijs",
          "2 jaar na verlaten onderwijs",
          "3 jaar na verlaten onderwijs",
          "4 jaar na verlaten onderwijs",
          "5 jaar na verlaten onderwijs",
          "Direct na verlaten onderwijs",
          "1 jaar na verlaten onderwijs",
          "2 jaar na verlaten onderwijs",
          "3 jaar na verlaten onderwijs",
          "4 jaar na verlaten onderwijs",
          "5 jaar na verlaten onderwijs",
          "Direct na verlaten onderwijs",
          "1 jaar na verlaten onderwijs",
          "2 jaar na verlaten onderwijs",
          "3 jaar na verlaten onderwijs",
          "4 jaar na verlaten onderwijs",
          "5 jaar na verlaten onderwijs",
          "Direct na verlaten onderwijs",
          "1 jaar na verlaten onderwijs",
          "2 jaar na verlaten onderwijs",
          "3 jaar na verlaten onderwijs",
          "4 jaar na verlaten onderwijs",
          "5 jaar na verlaten onderwijs"
         ],
         "y": [
          17.29,
          17.84,
          19.85,
          21.01,
          22.68,
          23.87
         ]
        },
        {
         "hoverinfo": "y+name",
         "marker": {
          "color": "rgb(141,160,203)"
         },
         "name": "Wo-bachelor",
         "type": "bar",
         "x": [
          "Direct na verlaten onderwijs",
          "1 jaar na verlaten onderwijs",
          "2 jaar na verlaten onderwijs",
          "3 jaar na verlaten onderwijs",
          "4 jaar na verlaten onderwijs",
          "5 jaar na verlaten onderwijs",
          "Direct na verlaten onderwijs",
          "1 jaar na verlaten onderwijs",
          "2 jaar na verlaten onderwijs",
          "3 jaar na verlaten onderwijs",
          "4 jaar na verlaten onderwijs",
          "5 jaar na verlaten onderwijs",
          "Direct na verlaten onderwijs",
          "1 jaar na verlaten onderwijs",
          "2 jaar na verlaten onderwijs",
          "3 jaar na verlaten onderwijs",
          "4 jaar na verlaten onderwijs",
          "5 jaar na verlaten onderwijs",
          "Direct na verlaten onderwijs",
          "1 jaar na verlaten onderwijs",
          "2 jaar na verlaten onderwijs",
          "3 jaar na verlaten onderwijs",
          "4 jaar na verlaten onderwijs",
          "5 jaar na verlaten onderwijs",
          "Direct na verlaten onderwijs",
          "1 jaar na verlaten onderwijs",
          "2 jaar na verlaten onderwijs",
          "3 jaar na verlaten onderwijs",
          "4 jaar na verlaten onderwijs",
          "5 jaar na verlaten onderwijs",
          "Direct na verlaten onderwijs",
          "1 jaar na verlaten onderwijs",
          "2 jaar na verlaten onderwijs",
          "3 jaar na verlaten onderwijs",
          "4 jaar na verlaten onderwijs",
          "5 jaar na verlaten onderwijs",
          "Direct na verlaten onderwijs",
          "1 jaar na verlaten onderwijs",
          "2 jaar na verlaten onderwijs",
          "3 jaar na verlaten onderwijs",
          "4 jaar na verlaten onderwijs",
          "5 jaar na verlaten onderwijs",
          "Direct na verlaten onderwijs",
          "1 jaar na verlaten onderwijs",
          "2 jaar na verlaten onderwijs",
          "3 jaar na verlaten onderwijs",
          "4 jaar na verlaten onderwijs",
          "5 jaar na verlaten onderwijs",
          "Direct na verlaten onderwijs",
          "1 jaar na verlaten onderwijs",
          "2 jaar na verlaten onderwijs",
          "3 jaar na verlaten onderwijs",
          "4 jaar na verlaten onderwijs",
          "5 jaar na verlaten onderwijs",
          "Direct na verlaten onderwijs",
          "1 jaar na verlaten onderwijs",
          "2 jaar na verlaten onderwijs",
          "3 jaar na verlaten onderwijs",
          "4 jaar na verlaten onderwijs",
          "5 jaar na verlaten onderwijs",
          "Direct na verlaten onderwijs",
          "1 jaar na verlaten onderwijs",
          "2 jaar na verlaten onderwijs",
          "3 jaar na verlaten onderwijs",
          "4 jaar na verlaten onderwijs",
          "5 jaar na verlaten onderwijs",
          "Direct na verlaten onderwijs",
          "1 jaar na verlaten onderwijs",
          "2 jaar na verlaten onderwijs",
          "3 jaar na verlaten onderwijs",
          "4 jaar na verlaten onderwijs",
          "5 jaar na verlaten onderwijs",
          "Direct na verlaten onderwijs",
          "1 jaar na verlaten onderwijs",
          "2 jaar na verlaten onderwijs",
          "3 jaar na verlaten onderwijs",
          "4 jaar na verlaten onderwijs",
          "5 jaar na verlaten onderwijs",
          "Direct na verlaten onderwijs",
          "1 jaar na verlaten onderwijs",
          "2 jaar na verlaten onderwijs",
          "3 jaar na verlaten onderwijs",
          "4 jaar na verlaten onderwijs",
          "5 jaar na verlaten onderwijs",
          "Direct na verlaten onderwijs",
          "1 jaar na verlaten onderwijs",
          "2 jaar na verlaten onderwijs",
          "3 jaar na verlaten onderwijs",
          "4 jaar na verlaten onderwijs",
          "5 jaar na verlaten onderwijs",
          "Direct na verlaten onderwijs",
          "1 jaar na verlaten onderwijs",
          "2 jaar na verlaten onderwijs",
          "3 jaar na verlaten onderwijs",
          "4 jaar na verlaten onderwijs",
          "5 jaar na verlaten onderwijs",
          "Direct na verlaten onderwijs",
          "1 jaar na verlaten onderwijs",
          "2 jaar na verlaten onderwijs",
          "3 jaar na verlaten onderwijs",
          "4 jaar na verlaten onderwijs",
          "5 jaar na verlaten onderwijs",
          "Direct na verlaten onderwijs",
          "1 jaar na verlaten onderwijs",
          "2 jaar na verlaten onderwijs",
          "3 jaar na verlaten onderwijs",
          "4 jaar na verlaten onderwijs",
          "5 jaar na verlaten onderwijs",
          "Direct na verlaten onderwijs",
          "1 jaar na verlaten onderwijs",
          "2 jaar na verlaten onderwijs",
          "3 jaar na verlaten onderwijs",
          "4 jaar na verlaten onderwijs",
          "5 jaar na verlaten onderwijs",
          "Direct na verlaten onderwijs",
          "1 jaar na verlaten onderwijs",
          "2 jaar na verlaten onderwijs",
          "3 jaar na verlaten onderwijs",
          "4 jaar na verlaten onderwijs",
          "5 jaar na verlaten onderwijs",
          "Direct na verlaten onderwijs",
          "1 jaar na verlaten onderwijs",
          "2 jaar na verlaten onderwijs",
          "3 jaar na verlaten onderwijs",
          "4 jaar na verlaten onderwijs",
          "5 jaar na verlaten onderwijs",
          "Direct na verlaten onderwijs",
          "1 jaar na verlaten onderwijs",
          "2 jaar na verlaten onderwijs",
          "3 jaar na verlaten onderwijs",
          "4 jaar na verlaten onderwijs",
          "5 jaar na verlaten onderwijs",
          "Direct na verlaten onderwijs",
          "1 jaar na verlaten onderwijs",
          "2 jaar na verlaten onderwijs",
          "3 jaar na verlaten onderwijs",
          "4 jaar na verlaten onderwijs",
          "5 jaar na verlaten onderwijs",
          "Direct na verlaten onderwijs",
          "1 jaar na verlaten onderwijs",
          "2 jaar na verlaten onderwijs",
          "3 jaar na verlaten onderwijs",
          "4 jaar na verlaten onderwijs",
          "5 jaar na verlaten onderwijs",
          "Direct na verlaten onderwijs",
          "1 jaar na verlaten onderwijs",
          "2 jaar na verlaten onderwijs",
          "3 jaar na verlaten onderwijs",
          "4 jaar na verlaten onderwijs",
          "5 jaar na verlaten onderwijs",
          "Direct na verlaten onderwijs",
          "1 jaar na verlaten onderwijs",
          "2 jaar na verlaten onderwijs",
          "3 jaar na verlaten onderwijs",
          "4 jaar na verlaten onderwijs",
          "5 jaar na verlaten onderwijs",
          "Direct na verlaten onderwijs",
          "1 jaar na verlaten onderwijs",
          "2 jaar na verlaten onderwijs",
          "3 jaar na verlaten onderwijs",
          "4 jaar na verlaten onderwijs",
          "5 jaar na verlaten onderwijs",
          "Direct na verlaten onderwijs",
          "1 jaar na verlaten onderwijs",
          "2 jaar na verlaten onderwijs",
          "3 jaar na verlaten onderwijs",
          "4 jaar na verlaten onderwijs",
          "5 jaar na verlaten onderwijs",
          "Direct na verlaten onderwijs",
          "1 jaar na verlaten onderwijs",
          "2 jaar na verlaten onderwijs",
          "3 jaar na verlaten onderwijs",
          "4 jaar na verlaten onderwijs",
          "5 jaar na verlaten onderwijs",
          "Direct na verlaten onderwijs",
          "1 jaar na verlaten onderwijs",
          "2 jaar na verlaten onderwijs",
          "3 jaar na verlaten onderwijs",
          "4 jaar na verlaten onderwijs",
          "5 jaar na verlaten onderwijs",
          "Direct na verlaten onderwijs",
          "1 jaar na verlaten onderwijs",
          "2 jaar na verlaten onderwijs",
          "3 jaar na verlaten onderwijs",
          "4 jaar na verlaten onderwijs",
          "5 jaar na verlaten onderwijs",
          "Direct na verlaten onderwijs",
          "1 jaar na verlaten onderwijs",
          "2 jaar na verlaten onderwijs",
          "3 jaar na verlaten onderwijs",
          "4 jaar na verlaten onderwijs",
          "5 jaar na verlaten onderwijs",
          "Direct na verlaten onderwijs",
          "1 jaar na verlaten onderwijs",
          "2 jaar na verlaten onderwijs",
          "3 jaar na verlaten onderwijs",
          "4 jaar na verlaten onderwijs",
          "5 jaar na verlaten onderwijs",
          "Direct na verlaten onderwijs",
          "1 jaar na verlaten onderwijs",
          "2 jaar na verlaten onderwijs",
          "3 jaar na verlaten onderwijs",
          "4 jaar na verlaten onderwijs",
          "5 jaar na verlaten onderwijs",
          "Direct na verlaten onderwijs",
          "1 jaar na verlaten onderwijs",
          "2 jaar na verlaten onderwijs",
          "3 jaar na verlaten onderwijs",
          "4 jaar na verlaten onderwijs",
          "5 jaar na verlaten onderwijs",
          "Direct na verlaten onderwijs",
          "1 jaar na verlaten onderwijs",
          "2 jaar na verlaten onderwijs",
          "3 jaar na verlaten onderwijs",
          "4 jaar na verlaten onderwijs",
          "5 jaar na verlaten onderwijs",
          "Direct na verlaten onderwijs",
          "1 jaar na verlaten onderwijs",
          "2 jaar na verlaten onderwijs",
          "3 jaar na verlaten onderwijs",
          "4 jaar na verlaten onderwijs",
          "5 jaar na verlaten onderwijs",
          "Direct na verlaten onderwijs",
          "1 jaar na verlaten onderwijs",
          "2 jaar na verlaten onderwijs",
          "3 jaar na verlaten onderwijs",
          "4 jaar na verlaten onderwijs",
          "5 jaar na verlaten onderwijs",
          "Direct na verlaten onderwijs",
          "1 jaar na verlaten onderwijs",
          "2 jaar na verlaten onderwijs",
          "3 jaar na verlaten onderwijs",
          "4 jaar na verlaten onderwijs",
          "5 jaar na verlaten onderwijs",
          "Direct na verlaten onderwijs",
          "1 jaar na verlaten onderwijs",
          "2 jaar na verlaten onderwijs",
          "3 jaar na verlaten onderwijs",
          "4 jaar na verlaten onderwijs",
          "5 jaar na verlaten onderwijs",
          "Direct na verlaten onderwijs",
          "1 jaar na verlaten onderwijs",
          "2 jaar na verlaten onderwijs",
          "3 jaar na verlaten onderwijs",
          "4 jaar na verlaten onderwijs",
          "5 jaar na verlaten onderwijs",
          "Direct na verlaten onderwijs",
          "1 jaar na verlaten onderwijs",
          "2 jaar na verlaten onderwijs",
          "3 jaar na verlaten onderwijs",
          "4 jaar na verlaten onderwijs",
          "5 jaar na verlaten onderwijs",
          "Direct na verlaten onderwijs",
          "1 jaar na verlaten onderwijs",
          "2 jaar na verlaten onderwijs",
          "3 jaar na verlaten onderwijs",
          "4 jaar na verlaten onderwijs",
          "5 jaar na verlaten onderwijs",
          "Direct na verlaten onderwijs",
          "1 jaar na verlaten onderwijs",
          "2 jaar na verlaten onderwijs",
          "3 jaar na verlaten onderwijs",
          "4 jaar na verlaten onderwijs",
          "5 jaar na verlaten onderwijs",
          "Direct na verlaten onderwijs",
          "1 jaar na verlaten onderwijs",
          "2 jaar na verlaten onderwijs",
          "3 jaar na verlaten onderwijs",
          "4 jaar na verlaten onderwijs",
          "5 jaar na verlaten onderwijs",
          "Direct na verlaten onderwijs",
          "1 jaar na verlaten onderwijs",
          "2 jaar na verlaten onderwijs",
          "3 jaar na verlaten onderwijs",
          "4 jaar na verlaten onderwijs",
          "5 jaar na verlaten onderwijs",
          "Direct na verlaten onderwijs",
          "1 jaar na verlaten onderwijs",
          "2 jaar na verlaten onderwijs",
          "3 jaar na verlaten onderwijs",
          "4 jaar na verlaten onderwijs",
          "5 jaar na verlaten onderwijs",
          "Direct na verlaten onderwijs",
          "1 jaar na verlaten onderwijs",
          "2 jaar na verlaten onderwijs",
          "3 jaar na verlaten onderwijs",
          "4 jaar na verlaten onderwijs",
          "5 jaar na verlaten onderwijs",
          "Direct na verlaten onderwijs",
          "1 jaar na verlaten onderwijs",
          "2 jaar na verlaten onderwijs",
          "3 jaar na verlaten onderwijs",
          "4 jaar na verlaten onderwijs",
          "5 jaar na verlaten onderwijs",
          "Direct na verlaten onderwijs",
          "1 jaar na verlaten onderwijs",
          "2 jaar na verlaten onderwijs",
          "3 jaar na verlaten onderwijs",
          "4 jaar na verlaten onderwijs",
          "5 jaar na verlaten onderwijs",
          "Direct na verlaten onderwijs",
          "1 jaar na verlaten onderwijs",
          "2 jaar na verlaten onderwijs",
          "3 jaar na verlaten onderwijs",
          "4 jaar na verlaten onderwijs",
          "5 jaar na verlaten onderwijs",
          "Direct na verlaten onderwijs",
          "1 jaar na verlaten onderwijs",
          "2 jaar na verlaten onderwijs",
          "3 jaar na verlaten onderwijs",
          "4 jaar na verlaten onderwijs",
          "5 jaar na verlaten onderwijs",
          "Direct na verlaten onderwijs",
          "1 jaar na verlaten onderwijs",
          "2 jaar na verlaten onderwijs",
          "3 jaar na verlaten onderwijs",
          "4 jaar na verlaten onderwijs",
          "5 jaar na verlaten onderwijs",
          "Direct na verlaten onderwijs",
          "1 jaar na verlaten onderwijs",
          "2 jaar na verlaten onderwijs",
          "3 jaar na verlaten onderwijs",
          "4 jaar na verlaten onderwijs",
          "5 jaar na verlaten onderwijs",
          "Direct na verlaten onderwijs",
          "1 jaar na verlaten onderwijs",
          "2 jaar na verlaten onderwijs",
          "3 jaar na verlaten onderwijs",
          "4 jaar na verlaten onderwijs",
          "5 jaar na verlaten onderwijs",
          "Direct na verlaten onderwijs",
          "1 jaar na verlaten onderwijs",
          "2 jaar na verlaten onderwijs",
          "3 jaar na verlaten onderwijs",
          "4 jaar na verlaten onderwijs",
          "5 jaar na verlaten onderwijs",
          "Direct na verlaten onderwijs",
          "1 jaar na verlaten onderwijs",
          "2 jaar na verlaten onderwijs",
          "3 jaar na verlaten onderwijs",
          "4 jaar na verlaten onderwijs",
          "5 jaar na verlaten onderwijs",
          "Direct na verlaten onderwijs",
          "1 jaar na verlaten onderwijs",
          "2 jaar na verlaten onderwijs",
          "3 jaar na verlaten onderwijs",
          "4 jaar na verlaten onderwijs",
          "5 jaar na verlaten onderwijs",
          "Direct na verlaten onderwijs",
          "1 jaar na verlaten onderwijs",
          "2 jaar na verlaten onderwijs",
          "3 jaar na verlaten onderwijs",
          "4 jaar na verlaten onderwijs",
          "5 jaar na verlaten onderwijs",
          "Direct na verlaten onderwijs",
          "1 jaar na verlaten onderwijs",
          "2 jaar na verlaten onderwijs",
          "3 jaar na verlaten onderwijs",
          "4 jaar na verlaten onderwijs",
          "5 jaar na verlaten onderwijs",
          "Direct na verlaten onderwijs",
          "1 jaar na verlaten onderwijs",
          "2 jaar na verlaten onderwijs",
          "3 jaar na verlaten onderwijs",
          "4 jaar na verlaten onderwijs",
          "5 jaar na verlaten onderwijs",
          "Direct na verlaten onderwijs",
          "1 jaar na verlaten onderwijs",
          "2 jaar na verlaten onderwijs",
          "3 jaar na verlaten onderwijs",
          "4 jaar na verlaten onderwijs",
          "5 jaar na verlaten onderwijs",
          "Direct na verlaten onderwijs",
          "1 jaar na verlaten onderwijs",
          "2 jaar na verlaten onderwijs",
          "3 jaar na verlaten onderwijs",
          "4 jaar na verlaten onderwijs",
          "5 jaar na verlaten onderwijs",
          "Direct na verlaten onderwijs",
          "1 jaar na verlaten onderwijs",
          "2 jaar na verlaten onderwijs",
          "3 jaar na verlaten onderwijs",
          "4 jaar na verlaten onderwijs",
          "5 jaar na verlaten onderwijs",
          "Direct na verlaten onderwijs",
          "1 jaar na verlaten onderwijs",
          "2 jaar na verlaten onderwijs",
          "3 jaar na verlaten onderwijs",
          "4 jaar na verlaten onderwijs",
          "5 jaar na verlaten onderwijs",
          "Direct na verlaten onderwijs",
          "1 jaar na verlaten onderwijs",
          "2 jaar na verlaten onderwijs",
          "3 jaar na verlaten onderwijs",
          "4 jaar na verlaten onderwijs",
          "5 jaar na verlaten onderwijs",
          "Direct na verlaten onderwijs",
          "1 jaar na verlaten onderwijs",
          "2 jaar na verlaten onderwijs",
          "3 jaar na verlaten onderwijs",
          "4 jaar na verlaten onderwijs",
          "5 jaar na verlaten onderwijs",
          "Direct na verlaten onderwijs",
          "1 jaar na verlaten onderwijs",
          "2 jaar na verlaten onderwijs",
          "3 jaar na verlaten onderwijs",
          "4 jaar na verlaten onderwijs",
          "5 jaar na verlaten onderwijs",
          "Direct na verlaten onderwijs",
          "1 jaar na verlaten onderwijs",
          "2 jaar na verlaten onderwijs",
          "3 jaar na verlaten onderwijs",
          "4 jaar na verlaten onderwijs",
          "5 jaar na verlaten onderwijs",
          "Direct na verlaten onderwijs",
          "1 jaar na verlaten onderwijs",
          "2 jaar na verlaten onderwijs",
          "3 jaar na verlaten onderwijs",
          "4 jaar na verlaten onderwijs",
          "5 jaar na verlaten onderwijs",
          "Direct na verlaten onderwijs",
          "1 jaar na verlaten onderwijs",
          "2 jaar na verlaten onderwijs",
          "3 jaar na verlaten onderwijs",
          "4 jaar na verlaten onderwijs",
          "5 jaar na verlaten onderwijs",
          "Direct na verlaten onderwijs",
          "1 jaar na verlaten onderwijs",
          "2 jaar na verlaten onderwijs",
          "3 jaar na verlaten onderwijs",
          "4 jaar na verlaten onderwijs",
          "5 jaar na verlaten onderwijs",
          "Direct na verlaten onderwijs",
          "1 jaar na verlaten onderwijs",
          "2 jaar na verlaten onderwijs",
          "3 jaar na verlaten onderwijs",
          "4 jaar na verlaten onderwijs",
          "5 jaar na verlaten onderwijs",
          "Direct na verlaten onderwijs",
          "1 jaar na verlaten onderwijs",
          "2 jaar na verlaten onderwijs",
          "3 jaar na verlaten onderwijs",
          "4 jaar na verlaten onderwijs",
          "5 jaar na verlaten onderwijs",
          "Direct na verlaten onderwijs",
          "1 jaar na verlaten onderwijs",
          "2 jaar na verlaten onderwijs",
          "3 jaar na verlaten onderwijs",
          "4 jaar na verlaten onderwijs",
          "5 jaar na verlaten onderwijs",
          "Direct na verlaten onderwijs",
          "1 jaar na verlaten onderwijs",
          "2 jaar na verlaten onderwijs",
          "3 jaar na verlaten onderwijs",
          "4 jaar na verlaten onderwijs",
          "5 jaar na verlaten onderwijs",
          "Direct na verlaten onderwijs",
          "1 jaar na verlaten onderwijs",
          "2 jaar na verlaten onderwijs",
          "3 jaar na verlaten onderwijs",
          "4 jaar na verlaten onderwijs",
          "5 jaar na verlaten onderwijs",
          "Direct na verlaten onderwijs",
          "1 jaar na verlaten onderwijs",
          "2 jaar na verlaten onderwijs",
          "3 jaar na verlaten onderwijs",
          "4 jaar na verlaten onderwijs",
          "5 jaar na verlaten onderwijs",
          "Direct na verlaten onderwijs",
          "1 jaar na verlaten onderwijs",
          "2 jaar na verlaten onderwijs",
          "3 jaar na verlaten onderwijs",
          "4 jaar na verlaten onderwijs",
          "5 jaar na verlaten onderwijs",
          "Direct na verlaten onderwijs",
          "1 jaar na verlaten onderwijs",
          "2 jaar na verlaten onderwijs",
          "3 jaar na verlaten onderwijs",
          "4 jaar na verlaten onderwijs",
          "5 jaar na verlaten onderwijs"
         ],
         "y": [
          12.84,
          15.87,
          18.17,
          20.19,
          22.21,
          24.32
         ]
        },
        {
         "hoverinfo": "y+name",
         "marker": {
          "color": "rgb(231,138,195)"
         },
         "name": "Wo-master",
         "type": "bar",
         "x": [
          "Direct na verlaten onderwijs",
          "1 jaar na verlaten onderwijs",
          "2 jaar na verlaten onderwijs",
          "3 jaar na verlaten onderwijs",
          "4 jaar na verlaten onderwijs",
          "5 jaar na verlaten onderwijs",
          "Direct na verlaten onderwijs",
          "1 jaar na verlaten onderwijs",
          "2 jaar na verlaten onderwijs",
          "3 jaar na verlaten onderwijs",
          "4 jaar na verlaten onderwijs",
          "5 jaar na verlaten onderwijs",
          "Direct na verlaten onderwijs",
          "1 jaar na verlaten onderwijs",
          "2 jaar na verlaten onderwijs",
          "3 jaar na verlaten onderwijs",
          "4 jaar na verlaten onderwijs",
          "5 jaar na verlaten onderwijs",
          "Direct na verlaten onderwijs",
          "1 jaar na verlaten onderwijs",
          "2 jaar na verlaten onderwijs",
          "3 jaar na verlaten onderwijs",
          "4 jaar na verlaten onderwijs",
          "5 jaar na verlaten onderwijs",
          "Direct na verlaten onderwijs",
          "1 jaar na verlaten onderwijs",
          "2 jaar na verlaten onderwijs",
          "3 jaar na verlaten onderwijs",
          "4 jaar na verlaten onderwijs",
          "5 jaar na verlaten onderwijs",
          "Direct na verlaten onderwijs",
          "1 jaar na verlaten onderwijs",
          "2 jaar na verlaten onderwijs",
          "3 jaar na verlaten onderwijs",
          "4 jaar na verlaten onderwijs",
          "5 jaar na verlaten onderwijs",
          "Direct na verlaten onderwijs",
          "1 jaar na verlaten onderwijs",
          "2 jaar na verlaten onderwijs",
          "3 jaar na verlaten onderwijs",
          "4 jaar na verlaten onderwijs",
          "5 jaar na verlaten onderwijs",
          "Direct na verlaten onderwijs",
          "1 jaar na verlaten onderwijs",
          "2 jaar na verlaten onderwijs",
          "3 jaar na verlaten onderwijs",
          "4 jaar na verlaten onderwijs",
          "5 jaar na verlaten onderwijs",
          "Direct na verlaten onderwijs",
          "1 jaar na verlaten onderwijs",
          "2 jaar na verlaten onderwijs",
          "3 jaar na verlaten onderwijs",
          "4 jaar na verlaten onderwijs",
          "5 jaar na verlaten onderwijs",
          "Direct na verlaten onderwijs",
          "1 jaar na verlaten onderwijs",
          "2 jaar na verlaten onderwijs",
          "3 jaar na verlaten onderwijs",
          "4 jaar na verlaten onderwijs",
          "5 jaar na verlaten onderwijs",
          "Direct na verlaten onderwijs",
          "1 jaar na verlaten onderwijs",
          "2 jaar na verlaten onderwijs",
          "3 jaar na verlaten onderwijs",
          "4 jaar na verlaten onderwijs",
          "5 jaar na verlaten onderwijs",
          "Direct na verlaten onderwijs",
          "1 jaar na verlaten onderwijs",
          "2 jaar na verlaten onderwijs",
          "3 jaar na verlaten onderwijs",
          "4 jaar na verlaten onderwijs",
          "5 jaar na verlaten onderwijs",
          "Direct na verlaten onderwijs",
          "1 jaar na verlaten onderwijs",
          "2 jaar na verlaten onderwijs",
          "3 jaar na verlaten onderwijs",
          "4 jaar na verlaten onderwijs",
          "5 jaar na verlaten onderwijs",
          "Direct na verlaten onderwijs",
          "1 jaar na verlaten onderwijs",
          "2 jaar na verlaten onderwijs",
          "3 jaar na verlaten onderwijs",
          "4 jaar na verlaten onderwijs",
          "5 jaar na verlaten onderwijs",
          "Direct na verlaten onderwijs",
          "1 jaar na verlaten onderwijs",
          "2 jaar na verlaten onderwijs",
          "3 jaar na verlaten onderwijs",
          "4 jaar na verlaten onderwijs",
          "5 jaar na verlaten onderwijs",
          "Direct na verlaten onderwijs",
          "1 jaar na verlaten onderwijs",
          "2 jaar na verlaten onderwijs",
          "3 jaar na verlaten onderwijs",
          "4 jaar na verlaten onderwijs",
          "5 jaar na verlaten onderwijs",
          "Direct na verlaten onderwijs",
          "1 jaar na verlaten onderwijs",
          "2 jaar na verlaten onderwijs",
          "3 jaar na verlaten onderwijs",
          "4 jaar na verlaten onderwijs",
          "5 jaar na verlaten onderwijs",
          "Direct na verlaten onderwijs",
          "1 jaar na verlaten onderwijs",
          "2 jaar na verlaten onderwijs",
          "3 jaar na verlaten onderwijs",
          "4 jaar na verlaten onderwijs",
          "5 jaar na verlaten onderwijs",
          "Direct na verlaten onderwijs",
          "1 jaar na verlaten onderwijs",
          "2 jaar na verlaten onderwijs",
          "3 jaar na verlaten onderwijs",
          "4 jaar na verlaten onderwijs",
          "5 jaar na verlaten onderwijs",
          "Direct na verlaten onderwijs",
          "1 jaar na verlaten onderwijs",
          "2 jaar na verlaten onderwijs",
          "3 jaar na verlaten onderwijs",
          "4 jaar na verlaten onderwijs",
          "5 jaar na verlaten onderwijs",
          "Direct na verlaten onderwijs",
          "1 jaar na verlaten onderwijs",
          "2 jaar na verlaten onderwijs",
          "3 jaar na verlaten onderwijs",
          "4 jaar na verlaten onderwijs",
          "5 jaar na verlaten onderwijs",
          "Direct na verlaten onderwijs",
          "1 jaar na verlaten onderwijs",
          "2 jaar na verlaten onderwijs",
          "3 jaar na verlaten onderwijs",
          "4 jaar na verlaten onderwijs",
          "5 jaar na verlaten onderwijs",
          "Direct na verlaten onderwijs",
          "1 jaar na verlaten onderwijs",
          "2 jaar na verlaten onderwijs",
          "3 jaar na verlaten onderwijs",
          "4 jaar na verlaten onderwijs",
          "5 jaar na verlaten onderwijs",
          "Direct na verlaten onderwijs",
          "1 jaar na verlaten onderwijs",
          "2 jaar na verlaten onderwijs",
          "3 jaar na verlaten onderwijs",
          "4 jaar na verlaten onderwijs",
          "5 jaar na verlaten onderwijs",
          "Direct na verlaten onderwijs",
          "1 jaar na verlaten onderwijs",
          "2 jaar na verlaten onderwijs",
          "3 jaar na verlaten onderwijs",
          "4 jaar na verlaten onderwijs",
          "5 jaar na verlaten onderwijs",
          "Direct na verlaten onderwijs",
          "1 jaar na verlaten onderwijs",
          "2 jaar na verlaten onderwijs",
          "3 jaar na verlaten onderwijs",
          "4 jaar na verlaten onderwijs",
          "5 jaar na verlaten onderwijs",
          "Direct na verlaten onderwijs",
          "1 jaar na verlaten onderwijs",
          "2 jaar na verlaten onderwijs",
          "3 jaar na verlaten onderwijs",
          "4 jaar na verlaten onderwijs",
          "5 jaar na verlaten onderwijs",
          "Direct na verlaten onderwijs",
          "1 jaar na verlaten onderwijs",
          "2 jaar na verlaten onderwijs",
          "3 jaar na verlaten onderwijs",
          "4 jaar na verlaten onderwijs",
          "5 jaar na verlaten onderwijs",
          "Direct na verlaten onderwijs",
          "1 jaar na verlaten onderwijs",
          "2 jaar na verlaten onderwijs",
          "3 jaar na verlaten onderwijs",
          "4 jaar na verlaten onderwijs",
          "5 jaar na verlaten onderwijs",
          "Direct na verlaten onderwijs",
          "1 jaar na verlaten onderwijs",
          "2 jaar na verlaten onderwijs",
          "3 jaar na verlaten onderwijs",
          "4 jaar na verlaten onderwijs",
          "5 jaar na verlaten onderwijs",
          "Direct na verlaten onderwijs",
          "1 jaar na verlaten onderwijs",
          "2 jaar na verlaten onderwijs",
          "3 jaar na verlaten onderwijs",
          "4 jaar na verlaten onderwijs",
          "5 jaar na verlaten onderwijs",
          "Direct na verlaten onderwijs",
          "1 jaar na verlaten onderwijs",
          "2 jaar na verlaten onderwijs",
          "3 jaar na verlaten onderwijs",
          "4 jaar na verlaten onderwijs",
          "5 jaar na verlaten onderwijs",
          "Direct na verlaten onderwijs",
          "1 jaar na verlaten onderwijs",
          "2 jaar na verlaten onderwijs",
          "3 jaar na verlaten onderwijs",
          "4 jaar na verlaten onderwijs",
          "5 jaar na verlaten onderwijs",
          "Direct na verlaten onderwijs",
          "1 jaar na verlaten onderwijs",
          "2 jaar na verlaten onderwijs",
          "3 jaar na verlaten onderwijs",
          "4 jaar na verlaten onderwijs",
          "5 jaar na verlaten onderwijs",
          "Direct na verlaten onderwijs",
          "1 jaar na verlaten onderwijs",
          "2 jaar na verlaten onderwijs",
          "3 jaar na verlaten onderwijs",
          "4 jaar na verlaten onderwijs",
          "5 jaar na verlaten onderwijs",
          "Direct na verlaten onderwijs",
          "1 jaar na verlaten onderwijs",
          "2 jaar na verlaten onderwijs",
          "3 jaar na verlaten onderwijs",
          "4 jaar na verlaten onderwijs",
          "5 jaar na verlaten onderwijs",
          "Direct na verlaten onderwijs",
          "1 jaar na verlaten onderwijs",
          "2 jaar na verlaten onderwijs",
          "3 jaar na verlaten onderwijs",
          "4 jaar na verlaten onderwijs",
          "5 jaar na verlaten onderwijs",
          "Direct na verlaten onderwijs",
          "1 jaar na verlaten onderwijs",
          "2 jaar na verlaten onderwijs",
          "3 jaar na verlaten onderwijs",
          "4 jaar na verlaten onderwijs",
          "5 jaar na verlaten onderwijs",
          "Direct na verlaten onderwijs",
          "1 jaar na verlaten onderwijs",
          "2 jaar na verlaten onderwijs",
          "3 jaar na verlaten onderwijs",
          "4 jaar na verlaten onderwijs",
          "5 jaar na verlaten onderwijs",
          "Direct na verlaten onderwijs",
          "1 jaar na verlaten onderwijs",
          "2 jaar na verlaten onderwijs",
          "3 jaar na verlaten onderwijs",
          "4 jaar na verlaten onderwijs",
          "5 jaar na verlaten onderwijs",
          "Direct na verlaten onderwijs",
          "1 jaar na verlaten onderwijs",
          "2 jaar na verlaten onderwijs",
          "3 jaar na verlaten onderwijs",
          "4 jaar na verlaten onderwijs",
          "5 jaar na verlaten onderwijs",
          "Direct na verlaten onderwijs",
          "1 jaar na verlaten onderwijs",
          "2 jaar na verlaten onderwijs",
          "3 jaar na verlaten onderwijs",
          "4 jaar na verlaten onderwijs",
          "5 jaar na verlaten onderwijs",
          "Direct na verlaten onderwijs",
          "1 jaar na verlaten onderwijs",
          "2 jaar na verlaten onderwijs",
          "3 jaar na verlaten onderwijs",
          "4 jaar na verlaten onderwijs",
          "5 jaar na verlaten onderwijs",
          "Direct na verlaten onderwijs",
          "1 jaar na verlaten onderwijs",
          "2 jaar na verlaten onderwijs",
          "3 jaar na verlaten onderwijs",
          "4 jaar na verlaten onderwijs",
          "5 jaar na verlaten onderwijs",
          "Direct na verlaten onderwijs",
          "1 jaar na verlaten onderwijs",
          "2 jaar na verlaten onderwijs",
          "3 jaar na verlaten onderwijs",
          "4 jaar na verlaten onderwijs",
          "5 jaar na verlaten onderwijs",
          "Direct na verlaten onderwijs",
          "1 jaar na verlaten onderwijs",
          "2 jaar na verlaten onderwijs",
          "3 jaar na verlaten onderwijs",
          "4 jaar na verlaten onderwijs",
          "5 jaar na verlaten onderwijs",
          "Direct na verlaten onderwijs",
          "1 jaar na verlaten onderwijs",
          "2 jaar na verlaten onderwijs",
          "3 jaar na verlaten onderwijs",
          "4 jaar na verlaten onderwijs",
          "5 jaar na verlaten onderwijs",
          "Direct na verlaten onderwijs",
          "1 jaar na verlaten onderwijs",
          "2 jaar na verlaten onderwijs",
          "3 jaar na verlaten onderwijs",
          "4 jaar na verlaten onderwijs",
          "5 jaar na verlaten onderwijs",
          "Direct na verlaten onderwijs",
          "1 jaar na verlaten onderwijs",
          "2 jaar na verlaten onderwijs",
          "3 jaar na verlaten onderwijs",
          "4 jaar na verlaten onderwijs",
          "5 jaar na verlaten onderwijs",
          "Direct na verlaten onderwijs",
          "1 jaar na verlaten onderwijs",
          "2 jaar na verlaten onderwijs",
          "3 jaar na verlaten onderwijs",
          "4 jaar na verlaten onderwijs",
          "5 jaar na verlaten onderwijs",
          "Direct na verlaten onderwijs",
          "1 jaar na verlaten onderwijs",
          "2 jaar na verlaten onderwijs",
          "3 jaar na verlaten onderwijs",
          "4 jaar na verlaten onderwijs",
          "5 jaar na verlaten onderwijs",
          "Direct na verlaten onderwijs",
          "1 jaar na verlaten onderwijs",
          "2 jaar na verlaten onderwijs",
          "3 jaar na verlaten onderwijs",
          "4 jaar na verlaten onderwijs",
          "5 jaar na verlaten onderwijs",
          "Direct na verlaten onderwijs",
          "1 jaar na verlaten onderwijs",
          "2 jaar na verlaten onderwijs",
          "3 jaar na verlaten onderwijs",
          "4 jaar na verlaten onderwijs",
          "5 jaar na verlaten onderwijs",
          "Direct na verlaten onderwijs",
          "1 jaar na verlaten onderwijs",
          "2 jaar na verlaten onderwijs",
          "3 jaar na verlaten onderwijs",
          "4 jaar na verlaten onderwijs",
          "5 jaar na verlaten onderwijs",
          "Direct na verlaten onderwijs",
          "1 jaar na verlaten onderwijs",
          "2 jaar na verlaten onderwijs",
          "3 jaar na verlaten onderwijs",
          "4 jaar na verlaten onderwijs",
          "5 jaar na verlaten onderwijs",
          "Direct na verlaten onderwijs",
          "1 jaar na verlaten onderwijs",
          "2 jaar na verlaten onderwijs",
          "3 jaar na verlaten onderwijs",
          "4 jaar na verlaten onderwijs",
          "5 jaar na verlaten onderwijs",
          "Direct na verlaten onderwijs",
          "1 jaar na verlaten onderwijs",
          "2 jaar na verlaten onderwijs",
          "3 jaar na verlaten onderwijs",
          "4 jaar na verlaten onderwijs",
          "5 jaar na verlaten onderwijs",
          "Direct na verlaten onderwijs",
          "1 jaar na verlaten onderwijs",
          "2 jaar na verlaten onderwijs",
          "3 jaar na verlaten onderwijs",
          "4 jaar na verlaten onderwijs",
          "5 jaar na verlaten onderwijs",
          "Direct na verlaten onderwijs",
          "1 jaar na verlaten onderwijs",
          "2 jaar na verlaten onderwijs",
          "3 jaar na verlaten onderwijs",
          "4 jaar na verlaten onderwijs",
          "5 jaar na verlaten onderwijs",
          "Direct na verlaten onderwijs",
          "1 jaar na verlaten onderwijs",
          "2 jaar na verlaten onderwijs",
          "3 jaar na verlaten onderwijs",
          "4 jaar na verlaten onderwijs",
          "5 jaar na verlaten onderwijs",
          "Direct na verlaten onderwijs",
          "1 jaar na verlaten onderwijs",
          "2 jaar na verlaten onderwijs",
          "3 jaar na verlaten onderwijs",
          "4 jaar na verlaten onderwijs",
          "5 jaar na verlaten onderwijs",
          "Direct na verlaten onderwijs",
          "1 jaar na verlaten onderwijs",
          "2 jaar na verlaten onderwijs",
          "3 jaar na verlaten onderwijs",
          "4 jaar na verlaten onderwijs",
          "5 jaar na verlaten onderwijs",
          "Direct na verlaten onderwijs",
          "1 jaar na verlaten onderwijs",
          "2 jaar na verlaten onderwijs",
          "3 jaar na verlaten onderwijs",
          "4 jaar na verlaten onderwijs",
          "5 jaar na verlaten onderwijs",
          "Direct na verlaten onderwijs",
          "1 jaar na verlaten onderwijs",
          "2 jaar na verlaten onderwijs",
          "3 jaar na verlaten onderwijs",
          "4 jaar na verlaten onderwijs",
          "5 jaar na verlaten onderwijs",
          "Direct na verlaten onderwijs",
          "1 jaar na verlaten onderwijs",
          "2 jaar na verlaten onderwijs",
          "3 jaar na verlaten onderwijs",
          "4 jaar na verlaten onderwijs",
          "5 jaar na verlaten onderwijs",
          "Direct na verlaten onderwijs",
          "1 jaar na verlaten onderwijs",
          "2 jaar na verlaten onderwijs",
          "3 jaar na verlaten onderwijs",
          "4 jaar na verlaten onderwijs",
          "5 jaar na verlaten onderwijs",
          "Direct na verlaten onderwijs",
          "1 jaar na verlaten onderwijs",
          "2 jaar na verlaten onderwijs",
          "3 jaar na verlaten onderwijs",
          "4 jaar na verlaten onderwijs",
          "5 jaar na verlaten onderwijs",
          "Direct na verlaten onderwijs",
          "1 jaar na verlaten onderwijs",
          "2 jaar na verlaten onderwijs",
          "3 jaar na verlaten onderwijs",
          "4 jaar na verlaten onderwijs",
          "5 jaar na verlaten onderwijs",
          "Direct na verlaten onderwijs",
          "1 jaar na verlaten onderwijs",
          "2 jaar na verlaten onderwijs",
          "3 jaar na verlaten onderwijs",
          "4 jaar na verlaten onderwijs",
          "5 jaar na verlaten onderwijs",
          "Direct na verlaten onderwijs",
          "1 jaar na verlaten onderwijs",
          "2 jaar na verlaten onderwijs",
          "3 jaar na verlaten onderwijs",
          "4 jaar na verlaten onderwijs",
          "5 jaar na verlaten onderwijs",
          "Direct na verlaten onderwijs",
          "1 jaar na verlaten onderwijs",
          "2 jaar na verlaten onderwijs",
          "3 jaar na verlaten onderwijs",
          "4 jaar na verlaten onderwijs",
          "5 jaar na verlaten onderwijs",
          "Direct na verlaten onderwijs",
          "1 jaar na verlaten onderwijs",
          "2 jaar na verlaten onderwijs",
          "3 jaar na verlaten onderwijs",
          "4 jaar na verlaten onderwijs",
          "5 jaar na verlaten onderwijs",
          "Direct na verlaten onderwijs",
          "1 jaar na verlaten onderwijs",
          "2 jaar na verlaten onderwijs",
          "3 jaar na verlaten onderwijs",
          "4 jaar na verlaten onderwijs",
          "5 jaar na verlaten onderwijs",
          "Direct na verlaten onderwijs",
          "1 jaar na verlaten onderwijs",
          "2 jaar na verlaten onderwijs",
          "3 jaar na verlaten onderwijs",
          "4 jaar na verlaten onderwijs",
          "5 jaar na verlaten onderwijs",
          "Direct na verlaten onderwijs",
          "1 jaar na verlaten onderwijs",
          "2 jaar na verlaten onderwijs",
          "3 jaar na verlaten onderwijs",
          "4 jaar na verlaten onderwijs",
          "5 jaar na verlaten onderwijs",
          "Direct na verlaten onderwijs",
          "1 jaar na verlaten onderwijs",
          "2 jaar na verlaten onderwijs",
          "3 jaar na verlaten onderwijs",
          "4 jaar na verlaten onderwijs",
          "5 jaar na verlaten onderwijs",
          "Direct na verlaten onderwijs",
          "1 jaar na verlaten onderwijs",
          "2 jaar na verlaten onderwijs",
          "3 jaar na verlaten onderwijs",
          "4 jaar na verlaten onderwijs",
          "5 jaar na verlaten onderwijs",
          "Direct na verlaten onderwijs",
          "1 jaar na verlaten onderwijs",
          "2 jaar na verlaten onderwijs",
          "3 jaar na verlaten onderwijs",
          "4 jaar na verlaten onderwijs",
          "5 jaar na verlaten onderwijs",
          "Direct na verlaten onderwijs",
          "1 jaar na verlaten onderwijs",
          "2 jaar na verlaten onderwijs",
          "3 jaar na verlaten onderwijs",
          "4 jaar na verlaten onderwijs",
          "5 jaar na verlaten onderwijs",
          "Direct na verlaten onderwijs",
          "1 jaar na verlaten onderwijs",
          "2 jaar na verlaten onderwijs",
          "3 jaar na verlaten onderwijs",
          "4 jaar na verlaten onderwijs",
          "5 jaar na verlaten onderwijs"
         ],
         "y": [
          16.29,
          18.12,
          20.28,
          22.6,
          25.1,
          27.48
         ]
        }
       ],
       "layout": {
        "annotations": [
         {
          "align": "left",
          "font": {
           "size": 12
          },
          "showarrow": false,
          "text": "The barplot illustrates the variations in hourly wages across different degrees.<br>Each bar represents a level of education, highlighting how some degrees command<br>higher wages compared to others and how this changes over the years.<br>",
          "x": 0,
          "xanchor": "left",
          "xref": "paper",
          "y": -0.45,
          "yanchor": "bottom",
          "yref": "paper"
         },
         {
          "arrowhead": 1,
          "showarrow": true,
          "text": "Highest",
          "x": -0.1,
          "y": 17.5
         },
         {
          "arrowhead": 1,
          "showarrow": true,
          "text": "Second lowest",
          "x": 4.9,
          "y": 24
         }
        ],
        "bargap": 0.15,
        "bargroupgap": 0.1,
        "barmode": "group",
        "height": 500,
        "legend": {
         "bgcolor": "rgba(255, 255, 255, 0)",
         "bordercolor": "rgba(255, 255, 255, 0)",
         "x": 1,
         "y": 1
        },
        "margin": {
         "b": 160
        },
        "template": {
         "data": {
          "bar": [
           {
            "error_x": {
             "color": "#2a3f5f"
            },
            "error_y": {
             "color": "#2a3f5f"
            },
            "marker": {
             "line": {
              "color": "#E5ECF6",
              "width": 0.5
             },
             "pattern": {
              "fillmode": "overlay",
              "size": 10,
              "solidity": 0.2
             }
            },
            "type": "bar"
           }
          ],
          "barpolar": [
           {
            "marker": {
             "line": {
              "color": "#E5ECF6",
              "width": 0.5
             },
             "pattern": {
              "fillmode": "overlay",
              "size": 10,
              "solidity": 0.2
             }
            },
            "type": "barpolar"
           }
          ],
          "carpet": [
           {
            "aaxis": {
             "endlinecolor": "#2a3f5f",
             "gridcolor": "white",
             "linecolor": "white",
             "minorgridcolor": "white",
             "startlinecolor": "#2a3f5f"
            },
            "baxis": {
             "endlinecolor": "#2a3f5f",
             "gridcolor": "white",
             "linecolor": "white",
             "minorgridcolor": "white",
             "startlinecolor": "#2a3f5f"
            },
            "type": "carpet"
           }
          ],
          "choropleth": [
           {
            "colorbar": {
             "outlinewidth": 0,
             "ticks": ""
            },
            "type": "choropleth"
           }
          ],
          "contour": [
           {
            "colorbar": {
             "outlinewidth": 0,
             "ticks": ""
            },
            "colorscale": [
             [
              0,
              "#0d0887"
             ],
             [
              0.1111111111111111,
              "#46039f"
             ],
             [
              0.2222222222222222,
              "#7201a8"
             ],
             [
              0.3333333333333333,
              "#9c179e"
             ],
             [
              0.4444444444444444,
              "#bd3786"
             ],
             [
              0.5555555555555556,
              "#d8576b"
             ],
             [
              0.6666666666666666,
              "#ed7953"
             ],
             [
              0.7777777777777778,
              "#fb9f3a"
             ],
             [
              0.8888888888888888,
              "#fdca26"
             ],
             [
              1,
              "#f0f921"
             ]
            ],
            "type": "contour"
           }
          ],
          "contourcarpet": [
           {
            "colorbar": {
             "outlinewidth": 0,
             "ticks": ""
            },
            "type": "contourcarpet"
           }
          ],
          "heatmap": [
           {
            "colorbar": {
             "outlinewidth": 0,
             "ticks": ""
            },
            "colorscale": [
             [
              0,
              "#0d0887"
             ],
             [
              0.1111111111111111,
              "#46039f"
             ],
             [
              0.2222222222222222,
              "#7201a8"
             ],
             [
              0.3333333333333333,
              "#9c179e"
             ],
             [
              0.4444444444444444,
              "#bd3786"
             ],
             [
              0.5555555555555556,
              "#d8576b"
             ],
             [
              0.6666666666666666,
              "#ed7953"
             ],
             [
              0.7777777777777778,
              "#fb9f3a"
             ],
             [
              0.8888888888888888,
              "#fdca26"
             ],
             [
              1,
              "#f0f921"
             ]
            ],
            "type": "heatmap"
           }
          ],
          "heatmapgl": [
           {
            "colorbar": {
             "outlinewidth": 0,
             "ticks": ""
            },
            "colorscale": [
             [
              0,
              "#0d0887"
             ],
             [
              0.1111111111111111,
              "#46039f"
             ],
             [
              0.2222222222222222,
              "#7201a8"
             ],
             [
              0.3333333333333333,
              "#9c179e"
             ],
             [
              0.4444444444444444,
              "#bd3786"
             ],
             [
              0.5555555555555556,
              "#d8576b"
             ],
             [
              0.6666666666666666,
              "#ed7953"
             ],
             [
              0.7777777777777778,
              "#fb9f3a"
             ],
             [
              0.8888888888888888,
              "#fdca26"
             ],
             [
              1,
              "#f0f921"
             ]
            ],
            "type": "heatmapgl"
           }
          ],
          "histogram": [
           {
            "marker": {
             "pattern": {
              "fillmode": "overlay",
              "size": 10,
              "solidity": 0.2
             }
            },
            "type": "histogram"
           }
          ],
          "histogram2d": [
           {
            "colorbar": {
             "outlinewidth": 0,
             "ticks": ""
            },
            "colorscale": [
             [
              0,
              "#0d0887"
             ],
             [
              0.1111111111111111,
              "#46039f"
             ],
             [
              0.2222222222222222,
              "#7201a8"
             ],
             [
              0.3333333333333333,
              "#9c179e"
             ],
             [
              0.4444444444444444,
              "#bd3786"
             ],
             [
              0.5555555555555556,
              "#d8576b"
             ],
             [
              0.6666666666666666,
              "#ed7953"
             ],
             [
              0.7777777777777778,
              "#fb9f3a"
             ],
             [
              0.8888888888888888,
              "#fdca26"
             ],
             [
              1,
              "#f0f921"
             ]
            ],
            "type": "histogram2d"
           }
          ],
          "histogram2dcontour": [
           {
            "colorbar": {
             "outlinewidth": 0,
             "ticks": ""
            },
            "colorscale": [
             [
              0,
              "#0d0887"
             ],
             [
              0.1111111111111111,
              "#46039f"
             ],
             [
              0.2222222222222222,
              "#7201a8"
             ],
             [
              0.3333333333333333,
              "#9c179e"
             ],
             [
              0.4444444444444444,
              "#bd3786"
             ],
             [
              0.5555555555555556,
              "#d8576b"
             ],
             [
              0.6666666666666666,
              "#ed7953"
             ],
             [
              0.7777777777777778,
              "#fb9f3a"
             ],
             [
              0.8888888888888888,
              "#fdca26"
             ],
             [
              1,
              "#f0f921"
             ]
            ],
            "type": "histogram2dcontour"
           }
          ],
          "mesh3d": [
           {
            "colorbar": {
             "outlinewidth": 0,
             "ticks": ""
            },
            "type": "mesh3d"
           }
          ],
          "parcoords": [
           {
            "line": {
             "colorbar": {
              "outlinewidth": 0,
              "ticks": ""
             }
            },
            "type": "parcoords"
           }
          ],
          "pie": [
           {
            "automargin": true,
            "type": "pie"
           }
          ],
          "scatter": [
           {
            "fillpattern": {
             "fillmode": "overlay",
             "size": 10,
             "solidity": 0.2
            },
            "type": "scatter"
           }
          ],
          "scatter3d": [
           {
            "line": {
             "colorbar": {
              "outlinewidth": 0,
              "ticks": ""
             }
            },
            "marker": {
             "colorbar": {
              "outlinewidth": 0,
              "ticks": ""
             }
            },
            "type": "scatter3d"
           }
          ],
          "scattercarpet": [
           {
            "marker": {
             "colorbar": {
              "outlinewidth": 0,
              "ticks": ""
             }
            },
            "type": "scattercarpet"
           }
          ],
          "scattergeo": [
           {
            "marker": {
             "colorbar": {
              "outlinewidth": 0,
              "ticks": ""
             }
            },
            "type": "scattergeo"
           }
          ],
          "scattergl": [
           {
            "marker": {
             "colorbar": {
              "outlinewidth": 0,
              "ticks": ""
             }
            },
            "type": "scattergl"
           }
          ],
          "scattermapbox": [
           {
            "marker": {
             "colorbar": {
              "outlinewidth": 0,
              "ticks": ""
             }
            },
            "type": "scattermapbox"
           }
          ],
          "scatterpolar": [
           {
            "marker": {
             "colorbar": {
              "outlinewidth": 0,
              "ticks": ""
             }
            },
            "type": "scatterpolar"
           }
          ],
          "scatterpolargl": [
           {
            "marker": {
             "colorbar": {
              "outlinewidth": 0,
              "ticks": ""
             }
            },
            "type": "scatterpolargl"
           }
          ],
          "scatterternary": [
           {
            "marker": {
             "colorbar": {
              "outlinewidth": 0,
              "ticks": ""
             }
            },
            "type": "scatterternary"
           }
          ],
          "surface": [
           {
            "colorbar": {
             "outlinewidth": 0,
             "ticks": ""
            },
            "colorscale": [
             [
              0,
              "#0d0887"
             ],
             [
              0.1111111111111111,
              "#46039f"
             ],
             [
              0.2222222222222222,
              "#7201a8"
             ],
             [
              0.3333333333333333,
              "#9c179e"
             ],
             [
              0.4444444444444444,
              "#bd3786"
             ],
             [
              0.5555555555555556,
              "#d8576b"
             ],
             [
              0.6666666666666666,
              "#ed7953"
             ],
             [
              0.7777777777777778,
              "#fb9f3a"
             ],
             [
              0.8888888888888888,
              "#fdca26"
             ],
             [
              1,
              "#f0f921"
             ]
            ],
            "type": "surface"
           }
          ],
          "table": [
           {
            "cells": {
             "fill": {
              "color": "#EBF0F8"
             },
             "line": {
              "color": "white"
             }
            },
            "header": {
             "fill": {
              "color": "#C8D4E3"
             },
             "line": {
              "color": "white"
             }
            },
            "type": "table"
           }
          ]
         },
         "layout": {
          "annotationdefaults": {
           "arrowcolor": "#2a3f5f",
           "arrowhead": 0,
           "arrowwidth": 1
          },
          "autotypenumbers": "strict",
          "coloraxis": {
           "colorbar": {
            "outlinewidth": 0,
            "ticks": ""
           }
          },
          "colorscale": {
           "diverging": [
            [
             0,
             "#8e0152"
            ],
            [
             0.1,
             "#c51b7d"
            ],
            [
             0.2,
             "#de77ae"
            ],
            [
             0.3,
             "#f1b6da"
            ],
            [
             0.4,
             "#fde0ef"
            ],
            [
             0.5,
             "#f7f7f7"
            ],
            [
             0.6,
             "#e6f5d0"
            ],
            [
             0.7,
             "#b8e186"
            ],
            [
             0.8,
             "#7fbc41"
            ],
            [
             0.9,
             "#4d9221"
            ],
            [
             1,
             "#276419"
            ]
           ],
           "sequential": [
            [
             0,
             "#0d0887"
            ],
            [
             0.1111111111111111,
             "#46039f"
            ],
            [
             0.2222222222222222,
             "#7201a8"
            ],
            [
             0.3333333333333333,
             "#9c179e"
            ],
            [
             0.4444444444444444,
             "#bd3786"
            ],
            [
             0.5555555555555556,
             "#d8576b"
            ],
            [
             0.6666666666666666,
             "#ed7953"
            ],
            [
             0.7777777777777778,
             "#fb9f3a"
            ],
            [
             0.8888888888888888,
             "#fdca26"
            ],
            [
             1,
             "#f0f921"
            ]
           ],
           "sequentialminus": [
            [
             0,
             "#0d0887"
            ],
            [
             0.1111111111111111,
             "#46039f"
            ],
            [
             0.2222222222222222,
             "#7201a8"
            ],
            [
             0.3333333333333333,
             "#9c179e"
            ],
            [
             0.4444444444444444,
             "#bd3786"
            ],
            [
             0.5555555555555556,
             "#d8576b"
            ],
            [
             0.6666666666666666,
             "#ed7953"
            ],
            [
             0.7777777777777778,
             "#fb9f3a"
            ],
            [
             0.8888888888888888,
             "#fdca26"
            ],
            [
             1,
             "#f0f921"
            ]
           ]
          },
          "colorway": [
           "#636efa",
           "#EF553B",
           "#00cc96",
           "#ab63fa",
           "#FFA15A",
           "#19d3f3",
           "#FF6692",
           "#B6E880",
           "#FF97FF",
           "#FECB52"
          ],
          "font": {
           "color": "#2a3f5f"
          },
          "geo": {
           "bgcolor": "white",
           "lakecolor": "white",
           "landcolor": "#E5ECF6",
           "showlakes": true,
           "showland": true,
           "subunitcolor": "white"
          },
          "hoverlabel": {
           "align": "left"
          },
          "hovermode": "closest",
          "mapbox": {
           "style": "light"
          },
          "paper_bgcolor": "white",
          "plot_bgcolor": "#E5ECF6",
          "polar": {
           "angularaxis": {
            "gridcolor": "white",
            "linecolor": "white",
            "ticks": ""
           },
           "bgcolor": "#E5ECF6",
           "radialaxis": {
            "gridcolor": "white",
            "linecolor": "white",
            "ticks": ""
           }
          },
          "scene": {
           "xaxis": {
            "backgroundcolor": "#E5ECF6",
            "gridcolor": "white",
            "gridwidth": 2,
            "linecolor": "white",
            "showbackground": true,
            "ticks": "",
            "zerolinecolor": "white"
           },
           "yaxis": {
            "backgroundcolor": "#E5ECF6",
            "gridcolor": "white",
            "gridwidth": 2,
            "linecolor": "white",
            "showbackground": true,
            "ticks": "",
            "zerolinecolor": "white"
           },
           "zaxis": {
            "backgroundcolor": "#E5ECF6",
            "gridcolor": "white",
            "gridwidth": 2,
            "linecolor": "white",
            "showbackground": true,
            "ticks": "",
            "zerolinecolor": "white"
           }
          },
          "shapedefaults": {
           "line": {
            "color": "#2a3f5f"
           }
          },
          "ternary": {
           "aaxis": {
            "gridcolor": "white",
            "linecolor": "white",
            "ticks": ""
           },
           "baxis": {
            "gridcolor": "white",
            "linecolor": "white",
            "ticks": ""
           },
           "bgcolor": "#E5ECF6",
           "caxis": {
            "gridcolor": "white",
            "linecolor": "white",
            "ticks": ""
           }
          },
          "title": {
           "x": 0.05
          },
          "xaxis": {
           "automargin": true,
           "gridcolor": "white",
           "linecolor": "white",
           "ticks": "",
           "title": {
            "standoff": 15
           },
           "zerolinecolor": "white",
           "zerolinewidth": 2
          },
          "yaxis": {
           "automargin": true,
           "gridcolor": "white",
           "linecolor": "white",
           "ticks": "",
           "title": {
            "standoff": 15
           },
           "zerolinecolor": "white",
           "zerolinewidth": 2
          }
         }
        },
        "title": {
         "text": "Hourly wage after leaving university per degree<br><sup>The differences in hourly wages between degrees vary significantly throughout the years following graduation</sup>"
        },
        "xaxis": {
         "ticktext": [
          "0",
          "1",
          "2",
          "3",
          "4",
          "5"
         ],
         "tickvals": [
          "Direct na verlaten onderwijs",
          "1 jaar na verlaten onderwijs",
          "2 jaar na verlaten onderwijs",
          "3 jaar na verlaten onderwijs",
          "4 jaar na verlaten onderwijs",
          "5 jaar na verlaten onderwijs"
         ],
         "title": {
          "text": "Years after leaving university"
         },
         "type": "category"
        },
        "yaxis": {
         "tickformat": ",.",
         "tickprefix": "€",
         "title": {
          "text": "Hourly wage"
         }
        }
       }
      }
     },
     "metadata": {},
     "output_type": "display_data"
    }
   ],
   "source": [
    "%run ../notebooks/barplot.ipynb"
   ]
  },
  {
   "cell_type": "markdown",
   "metadata": {},
   "source": [
    "When discussing the topic of salary differences, one significant factor to consider is the course of education. A common argument, as outlined in the introduction, is that the higher the education an individual has pursued, the higher their salary will be. However, analysis of our dataset reveals that this argument does not always hold true. On average, graduates from universities of applied sciences (hbo) who enter the workforce directly after graduating tend to earn higher salaries than their counterparts from research universities (wo). Surprisingly, this observation holds true for both bachelor's degrees and master's degrees, despite the fact that a wo master's degree is the highest achievable form of education in the Netherlands, excluding doctorates. \n",
    "\n",
    "However, when comparing salaries in the years following graduation, a shift in favour of wo degrees becomes evident. One year after graduation, wo master's graduates tend to earn slightly more than their hbo counterparts. In subsequent years, the difference between the average wages of wo master's graduates and hbo graduates becomes even greater, resulting in wo master's graduates being paid nearly 4 euros more per hour on average.  \n",
    "\n",
    "The steps in which the hourly wage of wo degrees increases are larger than those of hbo degrees. Additionally, as depicted in the figure, wo master's degrees appear to be the only degrees achieving a salary of more than 25 euros per hour four years after graduating. This illustrates that while hbo degrees may initially command a higher wage, the value of a wo degree increases significantly more over time."
   ]
  },
  {
   "cell_type": "markdown",
   "metadata": {},
   "source": [
    "## Wage per field of study and per degree"
   ]
  },
  {
   "cell_type": "code",
   "execution_count": 133,
   "metadata": {
    "tags": [
     "remove-input"
    ]
   },
   "outputs": [
    {
     "data": {
      "application/vnd.plotly.v1+json": {
       "config": {
        "plotlyServerURL": "https://plot.ly"
       },
       "data": [
        {
         "hovertemplate": "%{meta}<br>%{x} years after graduation <br>Hourly wage: € %{y:.2f} <extra></extra>",
         "line": {
          "color": "#3366CC"
         },
         "meta": "Economics Hbo-bachelor",
         "mode": "lines+markers",
         "name": "Economics Hbo-bachelor",
         "type": "scatter",
         "visible": "legendonly",
         "x": [
          0,
          1,
          2,
          3,
          4,
          5
         ],
         "y": [
          13.57,
          14.92,
          16.66,
          18.33,
          20.11,
          21.75
         ]
        },
        {
         "hovertemplate": "%{meta}<br>%{x} years after graduation <br>Hourly wage: € %{y:.2f}<extra></extra>",
         "line": {
          "color": "#1F77B4"
         },
         "meta": "Economics Hbo-master",
         "mode": "lines+markers",
         "name": "Economics Hbo-master",
         "type": "scatter",
         "visible": "legendonly",
         "x": [
          0,
          1,
          2,
          3,
          4,
          5
         ],
         "y": [
          null,
          null,
          null,
          null,
          null,
          null
         ]
        },
        {
         "hovertemplate": "%{meta}<br>%{x} years after graduation <br>Hourly wage: € %{y:.2f}<extra></extra>",
         "line": {
          "color": "rgb(229, 134, 6)"
         },
         "meta": "Economics Wo-bachelor",
         "mode": "lines+markers",
         "name": "Economics Wo-bachelor",
         "type": "scatter",
         "visible": "legendonly",
         "x": [
          0,
          1,
          2,
          3,
          4,
          5
         ],
         "y": [
          13.02,
          16.19,
          18.16,
          20.66,
          23.3,
          25.57
         ]
        },
        {
         "hovertemplate": "%{meta}<br>%{x} years after graduation <br>Hourly wage: € %{y:.2f}<extra></extra>",
         "line": {
          "color": "rgb(102, 197, 204)"
         },
         "meta": "Economics Wo-master",
         "mode": "lines+markers",
         "name": "Economics Wo-master",
         "type": "scatter",
         "visible": true,
         "x": [
          0,
          1,
          2,
          3,
          4,
          5
         ],
         "y": [
          16.88,
          18.21,
          20.76,
          23.5,
          26.1,
          29.25
         ]
        },
        {
         "hovertemplate": "%{meta}<br>%{x} years after graduation <br>Hourly wage: € %{y:.2f} <extra></extra>",
         "line": {
          "color": "#DC3912"
         },
         "meta": "Interdisciplinary Hbo-bachelor",
         "mode": "lines+markers",
         "name": "Interdisciplinary Hbo-bachelor",
         "type": "scatter",
         "visible": "legendonly",
         "x": [
          0,
          1,
          2,
          3,
          4,
          5
         ],
         "y": [
          null,
          null,
          null,
          null,
          null,
          null
         ]
        },
        {
         "hovertemplate": "%{meta}<br>%{x} years after graduation <br>Hourly wage: € %{y:.2f}<extra></extra>",
         "line": {
          "color": "#FF7F0E"
         },
         "meta": "Interdisciplinary Hbo-master",
         "mode": "lines+markers",
         "name": "Interdisciplinary Hbo-master",
         "type": "scatter",
         "visible": true,
         "x": [
          0,
          1,
          2,
          3,
          4,
          5
         ],
         "y": [
          null,
          16.89,
          23.02,
          24.57,
          27.03,
          30.28
         ]
        },
        {
         "hovertemplate": "%{meta}<br>%{x} years after graduation <br>Hourly wage: € %{y:.2f}<extra></extra>",
         "line": {
          "color": "rgb(93, 105, 177)"
         },
         "meta": "Interdisciplinary Wo-bachelor",
         "mode": "lines+markers",
         "name": "Interdisciplinary Wo-bachelor",
         "type": "scatter",
         "visible": "legendonly",
         "x": [
          0,
          1,
          2,
          3,
          4,
          5
         ],
         "y": [
          11.01,
          13.53,
          15.93,
          17.48,
          19.73,
          22.32
         ]
        },
        {
         "hovertemplate": "%{meta}<br>%{x} years after graduation <br>Hourly wage: € %{y:.2f}<extra></extra>",
         "line": {
          "color": "rgb(246, 207, 113)"
         },
         "meta": "Interdisciplinary Wo-master",
         "mode": "lines+markers",
         "name": "Interdisciplinary Wo-master",
         "type": "scatter",
         "visible": "legendonly",
         "x": [
          0,
          1,
          2,
          3,
          4,
          5
         ],
         "y": [
          12.68,
          16.5,
          18.59,
          21.68,
          22.1,
          25.99
         ]
        },
        {
         "hovertemplate": "%{meta}<br>%{x} years after graduation <br>Hourly wage: € %{y:.2f} <extra></extra>",
         "line": {
          "color": "#FF9900"
         },
         "meta": "Agriculture Hbo-bachelor",
         "mode": "lines+markers",
         "name": "Agriculture Hbo-bachelor",
         "type": "scatter",
         "visible": true,
         "x": [
          0,
          1,
          2,
          3,
          4,
          5
         ],
         "y": [
          14.16,
          15.83,
          17.36,
          18.66,
          20.33,
          21.66
         ]
        },
        {
         "hovertemplate": "%{meta}<br>%{x} years after graduation <br>Hourly wage: € %{y:.2f}<extra></extra>",
         "line": {
          "color": "#2CA02C"
         },
         "meta": "Agriculture Hbo-master",
         "mode": "lines+markers",
         "name": "Agriculture Hbo-master",
         "type": "scatter",
         "visible": "legendonly",
         "x": [
          0,
          1,
          2,
          3,
          4,
          5
         ],
         "y": [
          null,
          null,
          null,
          null,
          null,
          null
         ]
        },
        {
         "hovertemplate": "%{meta}<br>%{x} years after graduation <br>Hourly wage: € %{y:.2f}<extra></extra>",
         "line": {
          "color": "rgb(82, 188, 163)"
         },
         "meta": "Agriculture Wo-bachelor",
         "mode": "lines+markers",
         "name": "Agriculture Wo-bachelor",
         "type": "scatter",
         "visible": "legendonly",
         "x": [
          0,
          1,
          2,
          3,
          4,
          5
         ],
         "y": [
          11.99,
          15.18,
          16.35,
          18.3,
          20.26,
          21.79
         ]
        },
        {
         "hovertemplate": "%{meta}<br>%{x} years after graduation <br>Hourly wage: € %{y:.2f}<extra></extra>",
         "line": {
          "color": "rgb(248, 156, 116)"
         },
         "meta": "Agriculture Wo-master",
         "mode": "lines+markers",
         "name": "Agriculture Wo-master",
         "type": "scatter",
         "visible": "legendonly",
         "x": [
          0,
          1,
          2,
          3,
          4,
          5
         ],
         "y": [
          15.37,
          17.96,
          19.43,
          20.8,
          22.63,
          24.55
         ]
        },
        {
         "hovertemplate": "%{meta}<br>%{x} years after graduation <br>Hourly wage: € %{y:.2f} <extra></extra>",
         "line": {
          "color": "#109618"
         },
         "meta": "Law Hbo-bachelor",
         "mode": "lines+markers",
         "name": "Law Hbo-bachelor",
         "type": "scatter",
         "visible": "legendonly",
         "x": [
          0,
          1,
          2,
          3,
          4,
          5
         ],
         "y": [
          null,
          null,
          null,
          null,
          null,
          null
         ]
        },
        {
         "hovertemplate": "%{meta}<br>%{x} years after graduation <br>Hourly wage: € %{y:.2f}<extra></extra>",
         "line": {
          "color": "#D62728"
         },
         "meta": "Law Hbo-master",
         "mode": "lines+markers",
         "name": "Law Hbo-master",
         "type": "scatter",
         "visible": "legendonly",
         "x": [
          0,
          1,
          2,
          3,
          4,
          5
         ],
         "y": [
          null,
          null,
          null,
          null,
          null,
          null
         ]
        },
        {
         "hovertemplate": "%{meta}<br>%{x} years after graduation <br>Hourly wage: € %{y:.2f}<extra></extra>",
         "line": {
          "color": "rgb(153, 201, 69)"
         },
         "meta": "Law Wo-bachelor",
         "mode": "lines+markers",
         "name": "Law Wo-bachelor",
         "type": "scatter",
         "visible": "legendonly",
         "x": [
          0,
          1,
          2,
          3,
          4,
          5
         ],
         "y": [
          12.54,
          16.16,
          19.01,
          20.83,
          23.56,
          25.86
         ]
        },
        {
         "hovertemplate": "%{meta}<br>%{x} years after graduation <br>Hourly wage: € %{y:.2f}<extra></extra>",
         "line": {
          "color": "rgb(220, 176, 242)"
         },
         "meta": "Law Wo-master",
         "mode": "lines+markers",
         "name": "Law Wo-master",
         "type": "scatter",
         "visible": true,
         "x": [
          0,
          1,
          2,
          3,
          4,
          5
         ],
         "y": [
          16.57,
          18.37,
          20.46,
          23.04,
          26.26,
          28.65
         ]
        },
        {
         "hovertemplate": "%{meta}<br>%{x} years after graduation <br>Hourly wage: € %{y:.2f} <extra></extra>",
         "line": {
          "color": "#990099"
         },
         "meta": "Nature Hbo-bachelor",
         "mode": "lines+markers",
         "name": "Nature Hbo-bachelor",
         "type": "scatter",
         "visible": "legendonly",
         "x": [
          0,
          1,
          2,
          3,
          4,
          5
         ],
         "y": [
          null,
          null,
          null,
          null,
          null,
          null
         ]
        },
        {
         "hovertemplate": "%{meta}<br>%{x} years after graduation <br>Hourly wage: € %{y:.2f}<extra></extra>",
         "line": {
          "color": "#9467BD"
         },
         "meta": "Nature Hbo-master",
         "mode": "lines+markers",
         "name": "Nature Hbo-master",
         "type": "scatter",
         "visible": "legendonly",
         "x": [
          0,
          1,
          2,
          3,
          4,
          5
         ],
         "y": [
          null,
          null,
          null,
          null,
          null,
          null
         ]
        },
        {
         "hovertemplate": "%{meta}<br>%{x} years after graduation <br>Hourly wage: € %{y:.2f}<extra></extra>",
         "line": {
          "color": "rgb(204, 97, 176)"
         },
         "meta": "Nature Wo-bachelor",
         "mode": "lines+markers",
         "name": "Nature Wo-bachelor",
         "type": "scatter",
         "visible": "legendonly",
         "x": [
          0,
          1,
          2,
          3,
          4,
          5
         ],
         "y": [
          13.43,
          16.34,
          18.64,
          20.62,
          22.25,
          24.51
         ]
        },
        {
         "hovertemplate": "%{meta}<br>%{x} years after graduation <br>Hourly wage: € %{y:.2f}<extra></extra>",
         "line": {
          "color": "rgb(135, 197, 95)"
         },
         "meta": "Nature Wo-master",
         "mode": "lines+markers",
         "name": "Nature Wo-master",
         "type": "scatter",
         "visible": "legendonly",
         "x": [
          0,
          1,
          2,
          3,
          4,
          5
         ],
         "y": [
          16.38,
          18.11,
          20.16,
          22.16,
          24.6,
          27.2
         ]
        },
        {
         "hovertemplate": "%{meta}<br>%{x} years after graduation <br>Hourly wage: € %{y:.2f} <extra></extra>",
         "line": {
          "color": "#0099C6"
         },
         "meta": "STEM Hbo-bachelor",
         "mode": "lines+markers",
         "name": "STEM Hbo-bachelor",
         "type": "scatter",
         "visible": "legendonly",
         "x": [
          0,
          1,
          2,
          3,
          4,
          5
         ],
         "y": [
          15.1,
          16.34,
          18.13,
          19.89,
          21.75,
          23.39
         ]
        },
        {
         "hovertemplate": "%{meta}<br>%{x} years after graduation <br>Hourly wage: € %{y:.2f}<extra></extra>",
         "line": {
          "color": "#8C564B"
         },
         "meta": "STEM Hbo-master",
         "mode": "lines+markers",
         "name": "STEM Hbo-master",
         "type": "scatter",
         "visible": "legendonly",
         "x": [
          0,
          1,
          2,
          3,
          4,
          5
         ],
         "y": [
          null,
          null,
          null,
          null,
          null,
          null
         ]
        },
        {
         "hovertemplate": "%{meta}<br>%{x} years after graduation <br>Hourly wage: € %{y:.2f}<extra></extra>",
         "line": {
          "color": "rgb(36, 121, 108)"
         },
         "meta": "STEM Wo-bachelor",
         "mode": "lines+markers",
         "name": "STEM Wo-bachelor",
         "type": "scatter",
         "visible": "legendonly",
         "x": [
          0,
          1,
          2,
          3,
          4,
          5
         ],
         "y": [
          14.23,
          17.88,
          19.98,
          21.62,
          24.29,
          26.75
         ]
        },
        {
         "hovertemplate": "%{meta}<br>%{x} years after graduation <br>Hourly wage: € %{y:.2f}<extra></extra>",
         "line": {
          "color": "rgb(158, 185, 243)"
         },
         "meta": "STEM Wo-master",
         "mode": "lines+markers",
         "name": "STEM Wo-master",
         "type": "scatter",
         "visible": "legendonly",
         "x": [
          0,
          1,
          2,
          3,
          4,
          5
         ],
         "y": [
          17.65,
          18.96,
          21.02,
          23.26,
          25.7,
          28.25
         ]
        },
        {
         "hovertemplate": "%{meta}<br>%{x} years after graduation <br>Hourly wage: € %{y:.2f} <extra></extra>",
         "line": {
          "color": "#DD4477"
         },
         "meta": "Language & Culture Hbo-bachelor",
         "mode": "lines+markers",
         "name": "Language & Culture Hbo-bachelor",
         "type": "scatter",
         "visible": "legendonly",
         "x": [
          0,
          1,
          2,
          3,
          4,
          5
         ],
         "y": [
          11.98,
          12.71,
          14.18,
          15.62,
          17.2,
          18.88
         ]
        },
        {
         "hovertemplate": "%{meta}<br>%{x} years after graduation <br>Hourly wage: € %{y:.2f}<extra></extra>",
         "line": {
          "color": "#E377C2"
         },
         "meta": "Language & Culture Hbo-master",
         "mode": "lines+markers",
         "name": "Language & Culture Hbo-master",
         "type": "scatter",
         "visible": "legendonly",
         "x": [
          0,
          1,
          2,
          3,
          4,
          5
         ],
         "y": [
          14.02,
          15.86,
          17.59,
          20.33,
          22.01,
          24.52
         ]
        },
        {
         "hovertemplate": "%{meta}<br>%{x} years after graduation <br>Hourly wage: € %{y:.2f}<extra></extra>",
         "line": {
          "color": "rgb(218, 165, 27)"
         },
         "meta": "Language & Culture Wo-bachelor",
         "mode": "lines+markers",
         "name": "Language & Culture Wo-bachelor",
         "type": "scatter",
         "visible": "legendonly",
         "x": [
          0,
          1,
          2,
          3,
          4,
          5
         ],
         "y": [
          12.81,
          14.26,
          16,
          17.48,
          19.53,
          21.03
         ]
        },
        {
         "hovertemplate": "%{meta}<br>%{x} years after graduation <br>Hourly wage: € %{y:.2f}<extra></extra>",
         "line": {
          "color": "rgb(254, 136, 177)"
         },
         "meta": "Language & Culture Wo-master",
         "mode": "lines+markers",
         "name": "Language & Culture Wo-master",
         "type": "scatter",
         "visible": "legendonly",
         "x": [
          0,
          1,
          2,
          3,
          4,
          5
         ],
         "y": [
          14.44,
          16,
          18.42,
          20.19,
          22.19,
          24.02
         ]
        },
        {
         "hovertemplate": "%{meta}<br>%{x} years after graduation <br>Hourly wage: € %{y:.2f} <extra></extra>",
         "line": {
          "color": "#66AA00"
         },
         "meta": "Education Hbo-bachelor",
         "mode": "lines+markers",
         "name": "Education Hbo-bachelor",
         "type": "scatter",
         "visible": "legendonly",
         "x": [
          0,
          1,
          2,
          3,
          4,
          5
         ],
         "y": [
          17.83,
          18.35,
          19.86,
          20.54,
          22.27,
          23.76
         ]
        },
        {
         "hovertemplate": "%{meta}<br>%{x} years after graduation <br>Hourly wage: € %{y:.2f}<extra></extra>",
         "line": {
          "color": "#7F7F7F"
         },
         "meta": "Education Hbo-master",
         "mode": "lines+markers",
         "name": "Education Hbo-master",
         "type": "scatter",
         "visible": "legendonly",
         "x": [
          0,
          1,
          2,
          3,
          4,
          5
         ],
         "y": [
          18.03,
          18.73,
          20.43,
          21.01,
          22.8,
          23.83
         ]
        },
        {
         "hovertemplate": "%{meta}<br>%{x} years after graduation <br>Hourly wage: € %{y:.2f}<extra></extra>",
         "line": {
          "color": "rgb(47, 138, 196)"
         },
         "meta": "Education Wo-bachelor",
         "mode": "lines+markers",
         "name": "Education Wo-bachelor",
         "type": "scatter",
         "visible": "legendonly",
         "x": [
          0,
          1,
          2,
          3,
          4,
          5
         ],
         "y": [
          null,
          null,
          null,
          null,
          null,
          null
         ]
        },
        {
         "hovertemplate": "%{meta}<br>%{x} years after graduation <br>Hourly wage: € %{y:.2f}<extra></extra>",
         "line": {
          "color": "rgb(201, 219, 116)"
         },
         "meta": "Education Wo-master",
         "mode": "lines+markers",
         "name": "Education Wo-master",
         "type": "scatter",
         "visible": "legendonly",
         "x": [
          0,
          1,
          2,
          3,
          4,
          5
         ],
         "y": [
          null,
          null,
          null,
          null,
          null,
          null
         ]
        },
        {
         "hovertemplate": "%{meta}<br>%{x} years after graduation <br>Hourly wage: € %{y:.2f} <extra></extra>",
         "line": {
          "color": "#B82E2E"
         },
         "meta": "Behaviour & Society Hbo-bachelor",
         "mode": "lines+markers",
         "name": "Behaviour & Society Hbo-bachelor",
         "type": "scatter",
         "visible": "legendonly",
         "x": [
          0,
          1,
          2,
          3,
          4,
          5
         ],
         "y": [
          14.47,
          16.27,
          18.22,
          19.56,
          21.12,
          22.35
         ]
        },
        {
         "hovertemplate": "%{meta}<br>%{x} years after graduation <br>Hourly wage: € %{y:.2f}<extra></extra>",
         "line": {
          "color": "#BCBD22"
         },
         "meta": "Behaviour & Society Hbo-master",
         "mode": "lines+markers",
         "name": "Behaviour & Society Hbo-master",
         "type": "scatter",
         "visible": "legendonly",
         "x": [
          0,
          1,
          2,
          3,
          4,
          5
         ],
         "y": [
          null,
          null,
          null,
          null,
          null,
          null
         ]
        },
        {
         "hovertemplate": "%{meta}<br>%{x} years after graduation <br>Hourly wage: € %{y:.2f}<extra></extra>",
         "line": {
          "color": "rgb(118, 78, 159)"
         },
         "meta": "Behaviour & Society Wo-bachelor",
         "mode": "lines+markers",
         "name": "Behaviour & Society Wo-bachelor",
         "type": "scatter",
         "visible": "legendonly",
         "x": [
          0,
          1,
          2,
          3,
          4,
          5
         ],
         "y": [
          12.09,
          15.23,
          17.56,
          19.99,
          22.07,
          23.99
         ]
        },
        {
         "hovertemplate": "%{meta}<br>%{x} years after graduation <br>Hourly wage: € %{y:.2f}<extra></extra>",
         "line": {
          "color": "rgb(139, 224, 164)"
         },
         "meta": "Behaviour & Society Wo-master",
         "mode": "lines+markers",
         "name": "Behaviour & Society Wo-master",
         "type": "scatter",
         "visible": "legendonly",
         "x": [
          0,
          1,
          2,
          3,
          4,
          5
         ],
         "y": [
          15.57,
          18.1,
          20.18,
          22.54,
          25.16,
          27.23
         ]
        },
        {
         "hovertemplate": "%{meta}<br>%{x} years after graduation <br>Hourly wage: € %{y:.2f} <extra></extra>",
         "line": {
          "color": "#316395"
         },
         "meta": "Healthcare Hbo-bachelor",
         "mode": "lines+markers",
         "name": "Healthcare Hbo-bachelor",
         "type": "scatter",
         "visible": "legendonly",
         "x": [
          0,
          1,
          2,
          3,
          4,
          5
         ],
         "y": [
          17.09,
          18.93,
          20.59,
          21.69,
          23.7,
          25.06
         ]
        },
        {
         "hovertemplate": "%{meta}<br>%{x} years after graduation <br>Hourly wage: € %{y:.2f}<extra></extra>",
         "line": {
          "color": "#17BECF"
         },
         "meta": "Healthcare Hbo-master",
         "mode": "lines+markers",
         "name": "Healthcare Hbo-master",
         "type": "scatter",
         "visible": "legendonly",
         "x": [
          0,
          1,
          2,
          3,
          4,
          5
         ],
         "y": [
          null,
          null,
          null,
          null,
          null,
          null
         ]
        },
        {
         "hovertemplate": "%{meta}<br>%{x} years after graduation <br>Hourly wage: € %{y:.2f}<extra></extra>",
         "line": {
          "color": "rgb(237, 100, 90)"
         },
         "meta": "Healthcare Wo-bachelor",
         "mode": "lines+markers",
         "name": "Healthcare Wo-bachelor",
         "type": "scatter",
         "visible": "legendonly",
         "x": [
          0,
          1,
          2,
          3,
          4,
          5
         ],
         "y": [
          13.83,
          19.21,
          22.67,
          23.71,
          25.34,
          26.73
         ]
        },
        {
         "hovertemplate": "%{meta}<br>%{x} years after graduation <br>Hourly wage: € %{y:.2f}<extra></extra>",
         "line": {
          "color": "rgb(180, 151, 231)"
         },
         "meta": "Healthcare Wo-master",
         "mode": "lines+markers",
         "name": "Healthcare Wo-master",
         "type": "scatter",
         "visible": "legendonly",
         "x": [
          0,
          1,
          2,
          3,
          4,
          5
         ],
         "y": [
          16.21,
          18.6,
          20.37,
          22.42,
          24.39,
          26.79
         ]
        },
        {
         "hovertemplate": "%{meta}<br>%{x} years after graduation <br>Hourly wage: € %{y:.2f}<extra></extra>",
         "line": {
          "color": "black",
          "dash": "dash",
          "width": 2
         },
         "meta": "Mean",
         "mode": "lines+markers",
         "name": "Mean",
         "type": "scatter",
         "x": [
          0,
          1,
          2,
          3,
          4,
          5
         ],
         "y": [
          14.553703703703704,
          16.772142857142857,
          18.918928571428573,
          20.731428571428573,
          22.77785714285714,
          24.85571428571429
         ]
        }
       ],
       "layout": {
        "annotations": [
         {
          "align": "left",
          "font": {
           "size": 12
          },
          "showarrow": false,
          "text": "The line chart illustrates the difference in hourly wage per year after graduation. <br>Each line represents a different field of study per level of education. The dropdown<br>menu allows you to filter the data by field of study.",
          "x": 0,
          "xanchor": "left",
          "xref": "paper",
          "y": -0.3,
          "yanchor": "bottom",
          "yref": "paper"
         },
         {
          "font": {
           "color": "Black",
           "size": 14
          },
          "showarrow": false,
          "text": "mean wage",
          "textangle": -24,
          "x": 4.5,
          "xanchor": "right",
          "y": 23.8
         },
         {
          "arrowhead": 1,
          "font": {
           "size": 12
          },
          "showarrow": true,
          "text": "click to compare",
          "x": 1.1,
          "xanchor": "center",
          "xref": "paper",
          "y": 1,
          "yref": "paper"
         }
        ],
        "height": 800,
        "margin": {
         "b": 160,
         "t": 180
        },
        "template": {
         "data": {
          "bar": [
           {
            "error_x": {
             "color": "#2a3f5f"
            },
            "error_y": {
             "color": "#2a3f5f"
            },
            "marker": {
             "line": {
              "color": "#E5ECF6",
              "width": 0.5
             },
             "pattern": {
              "fillmode": "overlay",
              "size": 10,
              "solidity": 0.2
             }
            },
            "type": "bar"
           }
          ],
          "barpolar": [
           {
            "marker": {
             "line": {
              "color": "#E5ECF6",
              "width": 0.5
             },
             "pattern": {
              "fillmode": "overlay",
              "size": 10,
              "solidity": 0.2
             }
            },
            "type": "barpolar"
           }
          ],
          "carpet": [
           {
            "aaxis": {
             "endlinecolor": "#2a3f5f",
             "gridcolor": "white",
             "linecolor": "white",
             "minorgridcolor": "white",
             "startlinecolor": "#2a3f5f"
            },
            "baxis": {
             "endlinecolor": "#2a3f5f",
             "gridcolor": "white",
             "linecolor": "white",
             "minorgridcolor": "white",
             "startlinecolor": "#2a3f5f"
            },
            "type": "carpet"
           }
          ],
          "choropleth": [
           {
            "colorbar": {
             "outlinewidth": 0,
             "ticks": ""
            },
            "type": "choropleth"
           }
          ],
          "contour": [
           {
            "colorbar": {
             "outlinewidth": 0,
             "ticks": ""
            },
            "colorscale": [
             [
              0,
              "#0d0887"
             ],
             [
              0.1111111111111111,
              "#46039f"
             ],
             [
              0.2222222222222222,
              "#7201a8"
             ],
             [
              0.3333333333333333,
              "#9c179e"
             ],
             [
              0.4444444444444444,
              "#bd3786"
             ],
             [
              0.5555555555555556,
              "#d8576b"
             ],
             [
              0.6666666666666666,
              "#ed7953"
             ],
             [
              0.7777777777777778,
              "#fb9f3a"
             ],
             [
              0.8888888888888888,
              "#fdca26"
             ],
             [
              1,
              "#f0f921"
             ]
            ],
            "type": "contour"
           }
          ],
          "contourcarpet": [
           {
            "colorbar": {
             "outlinewidth": 0,
             "ticks": ""
            },
            "type": "contourcarpet"
           }
          ],
          "heatmap": [
           {
            "colorbar": {
             "outlinewidth": 0,
             "ticks": ""
            },
            "colorscale": [
             [
              0,
              "#0d0887"
             ],
             [
              0.1111111111111111,
              "#46039f"
             ],
             [
              0.2222222222222222,
              "#7201a8"
             ],
             [
              0.3333333333333333,
              "#9c179e"
             ],
             [
              0.4444444444444444,
              "#bd3786"
             ],
             [
              0.5555555555555556,
              "#d8576b"
             ],
             [
              0.6666666666666666,
              "#ed7953"
             ],
             [
              0.7777777777777778,
              "#fb9f3a"
             ],
             [
              0.8888888888888888,
              "#fdca26"
             ],
             [
              1,
              "#f0f921"
             ]
            ],
            "type": "heatmap"
           }
          ],
          "heatmapgl": [
           {
            "colorbar": {
             "outlinewidth": 0,
             "ticks": ""
            },
            "colorscale": [
             [
              0,
              "#0d0887"
             ],
             [
              0.1111111111111111,
              "#46039f"
             ],
             [
              0.2222222222222222,
              "#7201a8"
             ],
             [
              0.3333333333333333,
              "#9c179e"
             ],
             [
              0.4444444444444444,
              "#bd3786"
             ],
             [
              0.5555555555555556,
              "#d8576b"
             ],
             [
              0.6666666666666666,
              "#ed7953"
             ],
             [
              0.7777777777777778,
              "#fb9f3a"
             ],
             [
              0.8888888888888888,
              "#fdca26"
             ],
             [
              1,
              "#f0f921"
             ]
            ],
            "type": "heatmapgl"
           }
          ],
          "histogram": [
           {
            "marker": {
             "pattern": {
              "fillmode": "overlay",
              "size": 10,
              "solidity": 0.2
             }
            },
            "type": "histogram"
           }
          ],
          "histogram2d": [
           {
            "colorbar": {
             "outlinewidth": 0,
             "ticks": ""
            },
            "colorscale": [
             [
              0,
              "#0d0887"
             ],
             [
              0.1111111111111111,
              "#46039f"
             ],
             [
              0.2222222222222222,
              "#7201a8"
             ],
             [
              0.3333333333333333,
              "#9c179e"
             ],
             [
              0.4444444444444444,
              "#bd3786"
             ],
             [
              0.5555555555555556,
              "#d8576b"
             ],
             [
              0.6666666666666666,
              "#ed7953"
             ],
             [
              0.7777777777777778,
              "#fb9f3a"
             ],
             [
              0.8888888888888888,
              "#fdca26"
             ],
             [
              1,
              "#f0f921"
             ]
            ],
            "type": "histogram2d"
           }
          ],
          "histogram2dcontour": [
           {
            "colorbar": {
             "outlinewidth": 0,
             "ticks": ""
            },
            "colorscale": [
             [
              0,
              "#0d0887"
             ],
             [
              0.1111111111111111,
              "#46039f"
             ],
             [
              0.2222222222222222,
              "#7201a8"
             ],
             [
              0.3333333333333333,
              "#9c179e"
             ],
             [
              0.4444444444444444,
              "#bd3786"
             ],
             [
              0.5555555555555556,
              "#d8576b"
             ],
             [
              0.6666666666666666,
              "#ed7953"
             ],
             [
              0.7777777777777778,
              "#fb9f3a"
             ],
             [
              0.8888888888888888,
              "#fdca26"
             ],
             [
              1,
              "#f0f921"
             ]
            ],
            "type": "histogram2dcontour"
           }
          ],
          "mesh3d": [
           {
            "colorbar": {
             "outlinewidth": 0,
             "ticks": ""
            },
            "type": "mesh3d"
           }
          ],
          "parcoords": [
           {
            "line": {
             "colorbar": {
              "outlinewidth": 0,
              "ticks": ""
             }
            },
            "type": "parcoords"
           }
          ],
          "pie": [
           {
            "automargin": true,
            "type": "pie"
           }
          ],
          "scatter": [
           {
            "fillpattern": {
             "fillmode": "overlay",
             "size": 10,
             "solidity": 0.2
            },
            "type": "scatter"
           }
          ],
          "scatter3d": [
           {
            "line": {
             "colorbar": {
              "outlinewidth": 0,
              "ticks": ""
             }
            },
            "marker": {
             "colorbar": {
              "outlinewidth": 0,
              "ticks": ""
             }
            },
            "type": "scatter3d"
           }
          ],
          "scattercarpet": [
           {
            "marker": {
             "colorbar": {
              "outlinewidth": 0,
              "ticks": ""
             }
            },
            "type": "scattercarpet"
           }
          ],
          "scattergeo": [
           {
            "marker": {
             "colorbar": {
              "outlinewidth": 0,
              "ticks": ""
             }
            },
            "type": "scattergeo"
           }
          ],
          "scattergl": [
           {
            "marker": {
             "colorbar": {
              "outlinewidth": 0,
              "ticks": ""
             }
            },
            "type": "scattergl"
           }
          ],
          "scattermapbox": [
           {
            "marker": {
             "colorbar": {
              "outlinewidth": 0,
              "ticks": ""
             }
            },
            "type": "scattermapbox"
           }
          ],
          "scatterpolar": [
           {
            "marker": {
             "colorbar": {
              "outlinewidth": 0,
              "ticks": ""
             }
            },
            "type": "scatterpolar"
           }
          ],
          "scatterpolargl": [
           {
            "marker": {
             "colorbar": {
              "outlinewidth": 0,
              "ticks": ""
             }
            },
            "type": "scatterpolargl"
           }
          ],
          "scatterternary": [
           {
            "marker": {
             "colorbar": {
              "outlinewidth": 0,
              "ticks": ""
             }
            },
            "type": "scatterternary"
           }
          ],
          "surface": [
           {
            "colorbar": {
             "outlinewidth": 0,
             "ticks": ""
            },
            "colorscale": [
             [
              0,
              "#0d0887"
             ],
             [
              0.1111111111111111,
              "#46039f"
             ],
             [
              0.2222222222222222,
              "#7201a8"
             ],
             [
              0.3333333333333333,
              "#9c179e"
             ],
             [
              0.4444444444444444,
              "#bd3786"
             ],
             [
              0.5555555555555556,
              "#d8576b"
             ],
             [
              0.6666666666666666,
              "#ed7953"
             ],
             [
              0.7777777777777778,
              "#fb9f3a"
             ],
             [
              0.8888888888888888,
              "#fdca26"
             ],
             [
              1,
              "#f0f921"
             ]
            ],
            "type": "surface"
           }
          ],
          "table": [
           {
            "cells": {
             "fill": {
              "color": "#EBF0F8"
             },
             "line": {
              "color": "white"
             }
            },
            "header": {
             "fill": {
              "color": "#C8D4E3"
             },
             "line": {
              "color": "white"
             }
            },
            "type": "table"
           }
          ]
         },
         "layout": {
          "annotationdefaults": {
           "arrowcolor": "#2a3f5f",
           "arrowhead": 0,
           "arrowwidth": 1
          },
          "autotypenumbers": "strict",
          "coloraxis": {
           "colorbar": {
            "outlinewidth": 0,
            "ticks": ""
           }
          },
          "colorscale": {
           "diverging": [
            [
             0,
             "#8e0152"
            ],
            [
             0.1,
             "#c51b7d"
            ],
            [
             0.2,
             "#de77ae"
            ],
            [
             0.3,
             "#f1b6da"
            ],
            [
             0.4,
             "#fde0ef"
            ],
            [
             0.5,
             "#f7f7f7"
            ],
            [
             0.6,
             "#e6f5d0"
            ],
            [
             0.7,
             "#b8e186"
            ],
            [
             0.8,
             "#7fbc41"
            ],
            [
             0.9,
             "#4d9221"
            ],
            [
             1,
             "#276419"
            ]
           ],
           "sequential": [
            [
             0,
             "#0d0887"
            ],
            [
             0.1111111111111111,
             "#46039f"
            ],
            [
             0.2222222222222222,
             "#7201a8"
            ],
            [
             0.3333333333333333,
             "#9c179e"
            ],
            [
             0.4444444444444444,
             "#bd3786"
            ],
            [
             0.5555555555555556,
             "#d8576b"
            ],
            [
             0.6666666666666666,
             "#ed7953"
            ],
            [
             0.7777777777777778,
             "#fb9f3a"
            ],
            [
             0.8888888888888888,
             "#fdca26"
            ],
            [
             1,
             "#f0f921"
            ]
           ],
           "sequentialminus": [
            [
             0,
             "#0d0887"
            ],
            [
             0.1111111111111111,
             "#46039f"
            ],
            [
             0.2222222222222222,
             "#7201a8"
            ],
            [
             0.3333333333333333,
             "#9c179e"
            ],
            [
             0.4444444444444444,
             "#bd3786"
            ],
            [
             0.5555555555555556,
             "#d8576b"
            ],
            [
             0.6666666666666666,
             "#ed7953"
            ],
            [
             0.7777777777777778,
             "#fb9f3a"
            ],
            [
             0.8888888888888888,
             "#fdca26"
            ],
            [
             1,
             "#f0f921"
            ]
           ]
          },
          "colorway": [
           "#636efa",
           "#EF553B",
           "#00cc96",
           "#ab63fa",
           "#FFA15A",
           "#19d3f3",
           "#FF6692",
           "#B6E880",
           "#FF97FF",
           "#FECB52"
          ],
          "font": {
           "color": "#2a3f5f"
          },
          "geo": {
           "bgcolor": "white",
           "lakecolor": "white",
           "landcolor": "#E5ECF6",
           "showlakes": true,
           "showland": true,
           "subunitcolor": "white"
          },
          "hoverlabel": {
           "align": "left"
          },
          "hovermode": "closest",
          "mapbox": {
           "style": "light"
          },
          "paper_bgcolor": "white",
          "plot_bgcolor": "#E5ECF6",
          "polar": {
           "angularaxis": {
            "gridcolor": "white",
            "linecolor": "white",
            "ticks": ""
           },
           "bgcolor": "#E5ECF6",
           "radialaxis": {
            "gridcolor": "white",
            "linecolor": "white",
            "ticks": ""
           }
          },
          "scene": {
           "xaxis": {
            "backgroundcolor": "#E5ECF6",
            "gridcolor": "white",
            "gridwidth": 2,
            "linecolor": "white",
            "showbackground": true,
            "ticks": "",
            "zerolinecolor": "white"
           },
           "yaxis": {
            "backgroundcolor": "#E5ECF6",
            "gridcolor": "white",
            "gridwidth": 2,
            "linecolor": "white",
            "showbackground": true,
            "ticks": "",
            "zerolinecolor": "white"
           },
           "zaxis": {
            "backgroundcolor": "#E5ECF6",
            "gridcolor": "white",
            "gridwidth": 2,
            "linecolor": "white",
            "showbackground": true,
            "ticks": "",
            "zerolinecolor": "white"
           }
          },
          "shapedefaults": {
           "line": {
            "color": "#2a3f5f"
           }
          },
          "ternary": {
           "aaxis": {
            "gridcolor": "white",
            "linecolor": "white",
            "ticks": ""
           },
           "baxis": {
            "gridcolor": "white",
            "linecolor": "white",
            "ticks": ""
           },
           "bgcolor": "#E5ECF6",
           "caxis": {
            "gridcolor": "white",
            "linecolor": "white",
            "ticks": ""
           }
          },
          "title": {
           "x": 0.05
          },
          "xaxis": {
           "automargin": true,
           "gridcolor": "white",
           "linecolor": "white",
           "ticks": "",
           "title": {
            "standoff": 15
           },
           "zerolinecolor": "white",
           "zerolinewidth": 2
          },
          "yaxis": {
           "automargin": true,
           "gridcolor": "white",
           "linecolor": "white",
           "ticks": "",
           "title": {
            "standoff": 15
           },
           "zerolinecolor": "white",
           "zerolinewidth": 2
          }
         }
        },
        "title": {
         "text": "Hourly wages per Level of education and Field of study over the years<br><sub>On average, Wo students start with and maintain a higher hourly wage</sub>",
         "x": 0,
         "xanchor": "left",
         "y": 0.9,
         "yanchor": "bottom"
        },
        "updatemenus": [
         {
          "buttons": [
           {
            "args": [
             {
              "visible": [
               true,
               true,
               true,
               true,
               true,
               true,
               true,
               true,
               true,
               true,
               true,
               true,
               true,
               true,
               true,
               true,
               true,
               true,
               true,
               true,
               true,
               true,
               true,
               true,
               true,
               true,
               true,
               true,
               true,
               true,
               true,
               true,
               true,
               true,
               true,
               true,
               true,
               true,
               true,
               true,
               true
              ]
             },
             {
              "title": "Hourly wages per Level of education and Field of study over the years<br><sub>In the majority of fields of study a Wo student would start and maintain a higher hourly wage</sub>"
             }
            ],
            "label": "All",
            "method": "update"
           },
           {
            "args": [
             {
              "visible": [
               true,
               true,
               true,
               true,
               false,
               false,
               false,
               false,
               false,
               false,
               false,
               false,
               false,
               false,
               false,
               false,
               false,
               false,
               false,
               false,
               false,
               false,
               false,
               false,
               false,
               false,
               false,
               false,
               false,
               false,
               false,
               false,
               false,
               false,
               false,
               false,
               false,
               false,
               false,
               false,
               false
              ]
             },
             {
              "title": "Hourly wages of Economics studies<br><sub>In the majority of fields of study a Wo student would start and maintain a higher hourly wage</sub>"
             }
            ],
            "label": "Economics",
            "method": "update"
           },
           {
            "args": [
             {
              "visible": [
               false,
               false,
               false,
               false,
               true,
               true,
               true,
               true,
               false,
               false,
               false,
               false,
               false,
               false,
               false,
               false,
               false,
               false,
               false,
               false,
               false,
               false,
               false,
               false,
               false,
               false,
               false,
               false,
               false,
               false,
               false,
               false,
               false,
               false,
               false,
               false,
               false,
               false,
               false,
               false,
               false
              ]
             },
             {
              "title": "Hourly wages of Interdisciplinary studies<br><sub>In the majority of fields of study a Wo student would start and maintain a higher hourly wage</sub>"
             }
            ],
            "label": "Interdisciplinary",
            "method": "update"
           },
           {
            "args": [
             {
              "visible": [
               false,
               false,
               false,
               false,
               false,
               false,
               false,
               false,
               true,
               true,
               true,
               true,
               false,
               false,
               false,
               false,
               false,
               false,
               false,
               false,
               false,
               false,
               false,
               false,
               false,
               false,
               false,
               false,
               false,
               false,
               false,
               false,
               false,
               false,
               false,
               false,
               false,
               false,
               false,
               false,
               false
              ]
             },
             {
              "title": "Hourly wages of Agriculture studies<br><sub>In the majority of fields of study a Wo student would start and maintain a higher hourly wage</sub>"
             }
            ],
            "label": "Agriculture",
            "method": "update"
           },
           {
            "args": [
             {
              "visible": [
               false,
               false,
               false,
               false,
               false,
               false,
               false,
               false,
               false,
               false,
               false,
               false,
               true,
               true,
               true,
               true,
               false,
               false,
               false,
               false,
               false,
               false,
               false,
               false,
               false,
               false,
               false,
               false,
               false,
               false,
               false,
               false,
               false,
               false,
               false,
               false,
               false,
               false,
               false,
               false,
               false
              ]
             },
             {
              "title": "Hourly wages of Law studies<br><sub>In the majority of fields of study a Wo student would start and maintain a higher hourly wage</sub>"
             }
            ],
            "label": "Law",
            "method": "update"
           },
           {
            "args": [
             {
              "visible": [
               false,
               false,
               false,
               false,
               false,
               false,
               false,
               false,
               false,
               false,
               false,
               false,
               false,
               false,
               false,
               false,
               true,
               true,
               true,
               true,
               false,
               false,
               false,
               false,
               false,
               false,
               false,
               false,
               false,
               false,
               false,
               false,
               false,
               false,
               false,
               false,
               false,
               false,
               false,
               false,
               false
              ]
             },
             {
              "title": "Hourly wages of Nature studies<br><sub>In the majority of fields of study a Wo student would start and maintain a higher hourly wage</sub>"
             }
            ],
            "label": "Nature",
            "method": "update"
           },
           {
            "args": [
             {
              "visible": [
               false,
               false,
               false,
               false,
               false,
               false,
               false,
               false,
               false,
               false,
               false,
               false,
               false,
               false,
               false,
               false,
               false,
               false,
               false,
               false,
               true,
               true,
               true,
               true,
               false,
               false,
               false,
               false,
               false,
               false,
               false,
               false,
               false,
               false,
               false,
               false,
               false,
               false,
               false,
               false,
               false
              ]
             },
             {
              "title": "Hourly wages of STEM studies<br><sub>In the majority of fields of study a Wo student would start and maintain a higher hourly wage</sub>"
             }
            ],
            "label": "STEM",
            "method": "update"
           },
           {
            "args": [
             {
              "visible": [
               false,
               false,
               false,
               false,
               false,
               false,
               false,
               false,
               false,
               false,
               false,
               false,
               false,
               false,
               false,
               false,
               false,
               false,
               false,
               false,
               false,
               false,
               false,
               false,
               true,
               true,
               true,
               true,
               false,
               false,
               false,
               false,
               false,
               false,
               false,
               false,
               false,
               false,
               false,
               false,
               false
              ]
             },
             {
              "title": "Hourly wages of Language & Culture studies<br><sub>In the majority of fields of study a Wo student would start and maintain a higher hourly wage</sub>"
             }
            ],
            "label": "Language & Culture",
            "method": "update"
           },
           {
            "args": [
             {
              "visible": [
               false,
               false,
               false,
               false,
               false,
               false,
               false,
               false,
               false,
               false,
               false,
               false,
               false,
               false,
               false,
               false,
               false,
               false,
               false,
               false,
               false,
               false,
               false,
               false,
               false,
               false,
               false,
               false,
               true,
               true,
               true,
               true,
               false,
               false,
               false,
               false,
               false,
               false,
               false,
               false,
               false
              ]
             },
             {
              "title": "Hourly wages of Education studies<br><sub>In the majority of fields of study a Wo student would start and maintain a higher hourly wage</sub>"
             }
            ],
            "label": "Education",
            "method": "update"
           },
           {
            "args": [
             {
              "visible": [
               false,
               false,
               false,
               false,
               false,
               false,
               false,
               false,
               false,
               false,
               false,
               false,
               false,
               false,
               false,
               false,
               false,
               false,
               false,
               false,
               false,
               false,
               false,
               false,
               false,
               false,
               false,
               false,
               false,
               false,
               false,
               false,
               true,
               true,
               true,
               true,
               false,
               false,
               false,
               false,
               false
              ]
             },
             {
              "title": "Hourly wages of Behaviour & Society studies<br><sub>In the majority of fields of study a Wo student would start and maintain a higher hourly wage</sub>"
             }
            ],
            "label": "Behaviour & Society",
            "method": "update"
           },
           {
            "args": [
             {
              "visible": [
               false,
               false,
               false,
               false,
               false,
               false,
               false,
               false,
               false,
               false,
               false,
               false,
               false,
               false,
               false,
               false,
               false,
               false,
               false,
               false,
               false,
               false,
               false,
               false,
               false,
               false,
               false,
               false,
               false,
               false,
               false,
               false,
               false,
               false,
               false,
               false,
               true,
               true,
               true,
               true
              ]
             },
             {
              "title": "Hourly wages of Healthcare studies<br><sub>In the majority of fields of study a Wo student would start and maintain a higher hourly wage</sub>"
             }
            ],
            "label": "Healthcare",
            "method": "update"
           }
          ],
          "direction": "down",
          "showactive": true,
          "x": 0,
          "xanchor": "left",
          "y": 1.1,
          "yanchor": "top"
         }
        ],
        "xaxis": {
         "title": {
          "text": "Years after leaving university"
         }
        },
        "yaxis": {
         "tickformat": ",.",
         "tickprefix": "€",
         "title": {
          "text": "Hourly wage"
         },
         "type": "linear"
        }
       }
      }
     },
     "metadata": {},
     "output_type": "display_data"
    }
   ],
   "source": [
    "%run ../notebooks/linechart_wage.ipynb"
   ]
  },
  {
   "cell_type": "markdown",
   "metadata": {},
   "source": [
    "Even though we have identified a trend indicating that WO graduates earn more on average, a deeper examination of specific work sectors is essential to uncover potential variations in wages. Analyzing this data will help us identify any anomalies where HBO graduates might earn more than their WO counterparts. \n",
    "\n",
    "This investigation is crucial because a plausible argument suggests that HBO degrees often equip students for specific jobs or fields, while WO degrees tend to be more interdisciplinary and theoretical. For instance, in sectors such as nursing and teaching, where hands-on knowledge and practical internships are highly valued, HBO graduates may earn higher wages due to their direct preparation for these roles. Highlighting this possible nuance would add more depth to the wo versus hbo debate. \n",
    "\n",
    "In examining salary trends across different sectors, several interesting observations emerge. The previously recognized trend persists: hbo bachelor's initially receive a higher hourly wage than wo master's, a trend evident in these figures. However, in sectors like STEM, wo bachelor's salaries surpass those of hbo counterparts at a faster rate. Furthermore, the perception that hbo graduates excel in hands-on oriented sectors proves to be more nuanced. According to our dataset, hbo graduates indeed perform well in education, aligning with this perception. However, this pattern does not hold true in the healthcare sector. Instead, hourly wages in healthcare follow the aforementioned broader trend. \n",
    "\n",
    "While analysing these figures, we encountered a significant anomaly in the interdisciplinary sector, where HBO master's graduates have significantly higher hourly wages compared to all other graduates. They also hold the highest recorded hourly wage in the dataset.  \n",
    "\n",
    "It should be noted that in some sectors, such as 'education', there are no records for wo bachelor's and wo master's graduates. Whilst in other sectors, such as 'law' this is true but for hbo bachelor's and hbo master's graduates. Therefore, while our findings provide insights on abnormalities, it's important to acknowledge that this dataset may not comprehensively capture the investigated notion. As such, the trend we identified averaging all sectors together may provide a generalised view, but individual sector-specific nuances may exist that warrant further exploration."
   ]
  },
  {
   "cell_type": "markdown",
   "metadata": {},
   "source": [
    "## Labour market position per degree"
   ]
  },
  {
   "cell_type": "code",
   "execution_count": 134,
   "metadata": {
    "tags": [
     "remove-input"
    ]
   },
   "outputs": [
    {
     "data": {
      "application/vnd.plotly.v1+json": {
       "config": {
        "plotlyServerURL": "https://plot.ly"
       },
       "data": [
        {
         "colorbar": {
          "tickformat": "%d%",
          "title": {
           "text": "% within degree"
          }
         },
         "colorscale": [
          [
           0,
           "rgb(247,251,255)"
          ],
          [
           0.125,
           "rgb(222,235,247)"
          ],
          [
           0.25,
           "rgb(198,219,239)"
          ],
          [
           0.375,
           "rgb(158,202,225)"
          ],
          [
           0.5,
           "rgb(107,174,214)"
          ],
          [
           0.625,
           "rgb(66,146,198)"
          ],
          [
           0.75,
           "rgb(33,113,181)"
          ],
          [
           0.875,
           "rgb(8,81,156)"
          ],
          [
           1,
           "rgb(8,48,107)"
          ]
         ],
         "hoverinfo": "text+x",
         "hoverongaps": false,
         "text": [
          [
           "2%",
           "6%",
           "1%",
           "1%"
          ],
          [
           "87%",
           "86%",
           "67%",
           "82%"
          ],
          [
           "0%",
           "0%",
           "0%",
           "0%"
          ],
          [
           "1%",
           "3%",
           "2%",
           "2%"
          ],
          [
           "10%",
           "6%",
           "29%",
           "15%"
          ]
         ],
         "type": "heatmap",
         "visible": true,
         "x": [
          "Hbo-bachelor",
          "Hbo-master",
          "Wo-bachelor",
          "Wo-master"
         ],
         "y": [
          "Met werk, met uitkering",
          "Met werk, zonder uitkering",
          "Terug in onderwijs",
          "Zonder werk, met uitkering",
          "Zonder werk, zonder uitkering"
         ],
         "z": [
          [
           1.7041730391085863,
           5.555555555555555,
           1.2958963282937366,
           1.471825063078217
          ],
          [
           86.69434127157527,
           86.11111111111111,
           67.49460043196544,
           81.62321278385197
          ],
          [
           0,
           0,
           0,
           0
          ],
          [
           1.3764474546646275,
           2.7777777777777777,
           2.375809935205184,
           1.7661900756938604
          ],
          [
           10.22503823465152,
           5.555555555555555,
           28.83369330453564,
           15.138772077375947
          ]
         ],
         "zmax": 100,
         "zmin": 0
        },
        {
         "colorbar": {
          "tickformat": "%d%",
          "title": {
           "text": "% within degree"
          }
         },
         "colorscale": [
          [
           0,
           "rgb(247,251,255)"
          ],
          [
           0.125,
           "rgb(222,235,247)"
          ],
          [
           0.25,
           "rgb(198,219,239)"
          ],
          [
           0.375,
           "rgb(158,202,225)"
          ],
          [
           0.5,
           "rgb(107,174,214)"
          ],
          [
           0.625,
           "rgb(66,146,198)"
          ],
          [
           0.75,
           "rgb(33,113,181)"
          ],
          [
           0.875,
           "rgb(8,81,156)"
          ],
          [
           1,
           "rgb(8,48,107)"
          ]
         ],
         "hoverinfo": "text+x",
         "hoverongaps": false,
         "text": [
          [
           "2%",
           "3%",
           "1%",
           "1%"
          ],
          [
           "87%",
           "89%",
           "40%",
           "90%"
          ],
          [
           "5%",
           "0%",
           "45%",
           "1%"
          ],
          [
           "1%",
           "0%",
           "2%",
           "1%"
          ],
          [
           "4%",
           "3%",
           "10%",
           "4%"
          ]
         ],
         "type": "heatmap",
         "visible": false,
         "x": [
          "Hbo-bachelor",
          "Hbo-master",
          "Wo-bachelor",
          "Wo-master"
         ],
         "y": [
          "Met werk, met uitkering",
          "Met werk, zonder uitkering",
          "Terug in onderwijs",
          "Zonder werk, met uitkering",
          "Zonder werk, zonder uitkering"
         ],
         "z": [
          [
           1.9882018789600173,
           2.7777777777777777,
           1.0799136069114472,
           1.471825063078217
          ],
          [
           86.62879615468648,
           88.88888888888889,
           39.8488120950324,
           90.32800672834314
          ],
          [
           4.631854926807953,
           0,
           45.46436285097192,
           0.9251471825063078
          ],
          [
           1.4419925715534192,
           0,
           1.9438444924406049,
           1.4297729184188395
          ],
          [
           4.3478260869565215,
           2.7777777777777777,
           9.61123110151188,
           4.415475189234651
          ]
         ],
         "zmax": 100,
         "zmin": 0
        },
        {
         "colorbar": {
          "tickformat": "%d%",
          "title": {
           "text": "% within degree"
          }
         },
         "colorscale": [
          [
           0,
           "rgb(247,251,255)"
          ],
          [
           0.125,
           "rgb(222,235,247)"
          ],
          [
           0.25,
           "rgb(198,219,239)"
          ],
          [
           0.375,
           "rgb(158,202,225)"
          ],
          [
           0.5,
           "rgb(107,174,214)"
          ],
          [
           0.625,
           "rgb(66,146,198)"
          ],
          [
           0.75,
           "rgb(33,113,181)"
          ],
          [
           0.875,
           "rgb(8,81,156)"
          ],
          [
           1,
           "rgb(8,48,107)"
          ]
         ],
         "hoverinfo": "text+x",
         "hoverongaps": false,
         "text": [
          [
           "1%",
           "3%",
           "1%",
           "1%"
          ],
          [
           "86%",
           "89%",
           "37%",
           "91%"
          ],
          [
           "7%",
           "3%",
           "52%",
           "1%"
          ],
          [
           "2%",
           "0%",
           "2%",
           "2%"
          ],
          [
           "3%",
           "3%",
           "6%",
           "3%"
          ]
         ],
         "type": "heatmap",
         "visible": false,
         "x": [
          "Hbo-bachelor",
          "Hbo-master",
          "Wo-bachelor",
          "Wo-master"
         ],
         "y": [
          "Met werk, met uitkering",
          "Met werk, zonder uitkering",
          "Terug in onderwijs",
          "Zonder werk, met uitkering",
          "Zonder werk, zonder uitkering"
         ],
         "z": [
          [
           1.4638409438496833,
           2.7777777777777777,
           0.6479481641468683,
           1.135407905803196
          ],
          [
           85.84225475202096,
           88.88888888888889,
           37.47300215982722,
           90.5803195962994
          ],
          [
           6.794843784138082,
           2.7777777777777777,
           51.943844492440604,
           1.3456686291000841
          ],
          [
           1.529386060738475,
           0,
           1.8358531317494602,
           1.5138772077375946
          ],
          [
           3.036923749180686,
           2.7777777777777777,
           6.371490280777538,
           2.9857022708158114
          ]
         ],
         "zmax": 100,
         "zmin": 0
        },
        {
         "colorbar": {
          "tickformat": "%d%",
          "title": {
           "text": "% within degree"
          }
         },
         "colorscale": [
          [
           0,
           "rgb(247,251,255)"
          ],
          [
           0.125,
           "rgb(222,235,247)"
          ],
          [
           0.25,
           "rgb(198,219,239)"
          ],
          [
           0.375,
           "rgb(158,202,225)"
          ],
          [
           0.5,
           "rgb(107,174,214)"
          ],
          [
           0.625,
           "rgb(66,146,198)"
          ],
          [
           0.75,
           "rgb(33,113,181)"
          ],
          [
           0.875,
           "rgb(8,81,156)"
          ],
          [
           1,
           "rgb(8,48,107)"
          ]
         ],
         "hoverinfo": "text+x",
         "hoverongaps": false,
         "text": [
          [
           "1%",
           "6%",
           "0%",
           "1%"
          ],
          [
           "85%",
           "83%",
           "37%",
           "90%"
          ],
          [
           "8%",
           "3%",
           "53%",
           "2%"
          ],
          [
           "2%",
           "0%",
           "2%",
           "1%"
          ],
          [
           "2%",
           "3%",
           "4%",
           "3%"
          ]
         ],
         "type": "heatmap",
         "visible": false,
         "x": [
          "Hbo-bachelor",
          "Hbo-master",
          "Wo-bachelor",
          "Wo-master"
         ],
         "y": [
          "Met werk, met uitkering",
          "Met werk, zonder uitkering",
          "Terug in onderwijs",
          "Zonder werk, met uitkering",
          "Zonder werk, zonder uitkering"
         ],
         "z": [
          [
           1.3545990823683636,
           5.555555555555555,
           0.4319654427645789,
           1.0933557611438183
          ],
          [
           84.92462311557789,
           83.33333333333333,
           37.36501079913607,
           90.28595458368376
          ],
          [
           8.367926589469084,
           2.7777777777777777,
           53.45572354211663,
           1.5559293523969724
          ],
          [
           1.529386060738475,
           0,
           1.6198704103671708,
           1.471825063078217
          ],
          [
           2.44701769718156,
           2.7777777777777777,
           4.1036717062634995,
           2.6913372582001682
          ]
         ],
         "zmax": 100,
         "zmin": 0
        },
        {
         "colorbar": {
          "tickformat": "%d%",
          "title": {
           "text": "% within degree"
          }
         },
         "colorscale": [
          [
           0,
           "rgb(247,251,255)"
          ],
          [
           0.125,
           "rgb(222,235,247)"
          ],
          [
           0.25,
           "rgb(198,219,239)"
          ],
          [
           0.375,
           "rgb(158,202,225)"
          ],
          [
           0.5,
           "rgb(107,174,214)"
          ],
          [
           0.625,
           "rgb(66,146,198)"
          ],
          [
           0.75,
           "rgb(33,113,181)"
          ],
          [
           0.875,
           "rgb(8,81,156)"
          ],
          [
           1,
           "rgb(8,48,107)"
          ]
         ],
         "hoverinfo": "text+x",
         "hoverongaps": false,
         "text": [
          [
           "6%",
           "19%",
           "3%",
           "4%"
          ],
          [
           "79%",
           "67%",
           "35%",
           "87%"
          ],
          [
           "9%",
           "3%",
           "54%",
           "2%"
          ],
          [
           "2%",
           "0%",
           "2%",
           "2%"
          ],
          [
           "2%",
           "0%",
           "3%",
           "2%"
          ]
         ],
         "type": "heatmap",
         "visible": false,
         "x": [
          "Hbo-bachelor",
          "Hbo-master",
          "Wo-bachelor",
          "Wo-master"
         ],
         "y": [
          "Met werk, met uitkering",
          "Met werk, zonder uitkering",
          "Terug in onderwijs",
          "Zonder werk, met uitkering",
          "Zonder werk, zonder uitkering"
         ],
         "z": [
          [
           6.139392615250164,
           19.444444444444443,
           3.4557235421166306,
           3.868797308662742
          ],
          [
           79.30959143543807,
           66.66666666666666,
           34.557235421166304,
           87.04793944491169
          ],
          [
           9.372951715097226,
           2.7777777777777777,
           54.31965442764579,
           1.8923465096719934
          ],
          [
           2.141140485033865,
           0,
           2.0518358531317498,
           1.9764507989907485
          ],
          [
           1.6386279222197948,
           0,
           3.2397408207343417,
           2.2287636669470143
          ]
         ],
         "zmax": 100,
         "zmin": 0
        },
        {
         "colorbar": {
          "tickformat": "%d%",
          "title": {
           "text": "% within degree"
          }
         },
         "colorscale": [
          [
           0,
           "rgb(247,251,255)"
          ],
          [
           0.125,
           "rgb(222,235,247)"
          ],
          [
           0.25,
           "rgb(198,219,239)"
          ],
          [
           0.375,
           "rgb(158,202,225)"
          ],
          [
           0.5,
           "rgb(107,174,214)"
          ],
          [
           0.625,
           "rgb(66,146,198)"
          ],
          [
           0.75,
           "rgb(33,113,181)"
          ],
          [
           0.875,
           "rgb(8,81,156)"
          ],
          [
           1,
           "rgb(8,48,107)"
          ]
         ],
         "hoverinfo": "text+x",
         "hoverongaps": false,
         "text": [
          [
           "3%",
           "11%",
           "2%",
           "2%"
          ],
          [
           "82%",
           "75%",
           "36%",
           "89%"
          ],
          [
           "10%",
           "3%",
           "56%",
           "2%"
          ],
          [
           "2%",
           "0%",
           "2%",
           "2%"
          ],
          [
           "2%",
           "0%",
           "3%",
           "2%"
          ]
         ],
         "type": "heatmap",
         "visible": false,
         "x": [
          "Hbo-bachelor",
          "Hbo-master",
          "Wo-bachelor",
          "Wo-master"
         ],
         "y": [
          "Met werk, met uitkering",
          "Met werk, zonder uitkering",
          "Terug in onderwijs",
          "Zonder werk, met uitkering",
          "Zonder werk, zonder uitkering"
         ],
         "z": [
          [
           3.015075376884422,
           11.11111111111111,
           2.0518358531317498,
           2.0605550883095036
          ],
          [
           81.953244483286,
           75,
           35.7451403887689,
           88.60386879730866
          ],
          [
           10.268734979244046,
           2.7777777777777777,
           55.61555075593952,
           2.1867115222876365
          ],
          [
           1.5730828053310029,
           0,
           1.6198704103671708,
           1.59798149705635
          ],
          [
           1.7041730391085863,
           0,
           2.9157667386609076,
           2.2287636669470143
          ]
         ],
         "zmax": 100,
         "zmin": 0
        }
       ],
       "layout": {
        "annotations": [
         {
          "align": "left",
          "font": {
           "size": 12
          },
          "showarrow": false,
          "text": " <br>The heatmap illustrates the labour market position across various degrees.<br>The colors correspond to the percentages within each degree, providing a visual representation<br> of the distribution of labour market positions for graduates with different levels of education.",
          "x": 0,
          "xanchor": "left",
          "xref": "paper",
          "y": -0.85,
          "yanchor": "bottom",
          "yref": "paper"
         }
        ],
        "height": 500,
        "margin": {
         "b": 80,
         "l": 20,
         "r": 20,
         "t": 80
        },
        "sliders": [
         {
          "active": 0,
          "currentvalue": {
           "prefix": "Years after leaving university: "
          },
          "pad": {
           "b": 70,
           "r": 10,
           "t": 50
          },
          "steps": [
           {
            "args": [
             "visible",
             [
              true,
              false,
              false,
              false,
              false,
              false
             ]
            ],
            "label": "0",
            "method": "restyle"
           },
           {
            "args": [
             "visible",
             [
              false,
              true,
              false,
              false,
              false,
              false
             ]
            ],
            "label": "1",
            "method": "restyle"
           },
           {
            "args": [
             "visible",
             [
              false,
              false,
              true,
              false,
              false,
              false
             ]
            ],
            "label": "2",
            "method": "restyle"
           },
           {
            "args": [
             "visible",
             [
              false,
              false,
              false,
              true,
              false,
              false
             ]
            ],
            "label": "3",
            "method": "restyle"
           },
           {
            "args": [
             "visible",
             [
              false,
              false,
              false,
              false,
              true,
              false
             ]
            ],
            "label": "4",
            "method": "restyle"
           },
           {
            "args": [
             "visible",
             [
              false,
              false,
              false,
              false,
              false,
              true
             ]
            ],
            "label": "5",
            "method": "restyle"
           }
          ]
         }
        ],
        "template": {
         "data": {
          "bar": [
           {
            "error_x": {
             "color": "#2a3f5f"
            },
            "error_y": {
             "color": "#2a3f5f"
            },
            "marker": {
             "line": {
              "color": "#E5ECF6",
              "width": 0.5
             },
             "pattern": {
              "fillmode": "overlay",
              "size": 10,
              "solidity": 0.2
             }
            },
            "type": "bar"
           }
          ],
          "barpolar": [
           {
            "marker": {
             "line": {
              "color": "#E5ECF6",
              "width": 0.5
             },
             "pattern": {
              "fillmode": "overlay",
              "size": 10,
              "solidity": 0.2
             }
            },
            "type": "barpolar"
           }
          ],
          "carpet": [
           {
            "aaxis": {
             "endlinecolor": "#2a3f5f",
             "gridcolor": "white",
             "linecolor": "white",
             "minorgridcolor": "white",
             "startlinecolor": "#2a3f5f"
            },
            "baxis": {
             "endlinecolor": "#2a3f5f",
             "gridcolor": "white",
             "linecolor": "white",
             "minorgridcolor": "white",
             "startlinecolor": "#2a3f5f"
            },
            "type": "carpet"
           }
          ],
          "choropleth": [
           {
            "colorbar": {
             "outlinewidth": 0,
             "ticks": ""
            },
            "type": "choropleth"
           }
          ],
          "contour": [
           {
            "colorbar": {
             "outlinewidth": 0,
             "ticks": ""
            },
            "colorscale": [
             [
              0,
              "#0d0887"
             ],
             [
              0.1111111111111111,
              "#46039f"
             ],
             [
              0.2222222222222222,
              "#7201a8"
             ],
             [
              0.3333333333333333,
              "#9c179e"
             ],
             [
              0.4444444444444444,
              "#bd3786"
             ],
             [
              0.5555555555555556,
              "#d8576b"
             ],
             [
              0.6666666666666666,
              "#ed7953"
             ],
             [
              0.7777777777777778,
              "#fb9f3a"
             ],
             [
              0.8888888888888888,
              "#fdca26"
             ],
             [
              1,
              "#f0f921"
             ]
            ],
            "type": "contour"
           }
          ],
          "contourcarpet": [
           {
            "colorbar": {
             "outlinewidth": 0,
             "ticks": ""
            },
            "type": "contourcarpet"
           }
          ],
          "heatmap": [
           {
            "colorbar": {
             "outlinewidth": 0,
             "ticks": ""
            },
            "colorscale": [
             [
              0,
              "#0d0887"
             ],
             [
              0.1111111111111111,
              "#46039f"
             ],
             [
              0.2222222222222222,
              "#7201a8"
             ],
             [
              0.3333333333333333,
              "#9c179e"
             ],
             [
              0.4444444444444444,
              "#bd3786"
             ],
             [
              0.5555555555555556,
              "#d8576b"
             ],
             [
              0.6666666666666666,
              "#ed7953"
             ],
             [
              0.7777777777777778,
              "#fb9f3a"
             ],
             [
              0.8888888888888888,
              "#fdca26"
             ],
             [
              1,
              "#f0f921"
             ]
            ],
            "type": "heatmap"
           }
          ],
          "heatmapgl": [
           {
            "colorbar": {
             "outlinewidth": 0,
             "ticks": ""
            },
            "colorscale": [
             [
              0,
              "#0d0887"
             ],
             [
              0.1111111111111111,
              "#46039f"
             ],
             [
              0.2222222222222222,
              "#7201a8"
             ],
             [
              0.3333333333333333,
              "#9c179e"
             ],
             [
              0.4444444444444444,
              "#bd3786"
             ],
             [
              0.5555555555555556,
              "#d8576b"
             ],
             [
              0.6666666666666666,
              "#ed7953"
             ],
             [
              0.7777777777777778,
              "#fb9f3a"
             ],
             [
              0.8888888888888888,
              "#fdca26"
             ],
             [
              1,
              "#f0f921"
             ]
            ],
            "type": "heatmapgl"
           }
          ],
          "histogram": [
           {
            "marker": {
             "pattern": {
              "fillmode": "overlay",
              "size": 10,
              "solidity": 0.2
             }
            },
            "type": "histogram"
           }
          ],
          "histogram2d": [
           {
            "colorbar": {
             "outlinewidth": 0,
             "ticks": ""
            },
            "colorscale": [
             [
              0,
              "#0d0887"
             ],
             [
              0.1111111111111111,
              "#46039f"
             ],
             [
              0.2222222222222222,
              "#7201a8"
             ],
             [
              0.3333333333333333,
              "#9c179e"
             ],
             [
              0.4444444444444444,
              "#bd3786"
             ],
             [
              0.5555555555555556,
              "#d8576b"
             ],
             [
              0.6666666666666666,
              "#ed7953"
             ],
             [
              0.7777777777777778,
              "#fb9f3a"
             ],
             [
              0.8888888888888888,
              "#fdca26"
             ],
             [
              1,
              "#f0f921"
             ]
            ],
            "type": "histogram2d"
           }
          ],
          "histogram2dcontour": [
           {
            "colorbar": {
             "outlinewidth": 0,
             "ticks": ""
            },
            "colorscale": [
             [
              0,
              "#0d0887"
             ],
             [
              0.1111111111111111,
              "#46039f"
             ],
             [
              0.2222222222222222,
              "#7201a8"
             ],
             [
              0.3333333333333333,
              "#9c179e"
             ],
             [
              0.4444444444444444,
              "#bd3786"
             ],
             [
              0.5555555555555556,
              "#d8576b"
             ],
             [
              0.6666666666666666,
              "#ed7953"
             ],
             [
              0.7777777777777778,
              "#fb9f3a"
             ],
             [
              0.8888888888888888,
              "#fdca26"
             ],
             [
              1,
              "#f0f921"
             ]
            ],
            "type": "histogram2dcontour"
           }
          ],
          "mesh3d": [
           {
            "colorbar": {
             "outlinewidth": 0,
             "ticks": ""
            },
            "type": "mesh3d"
           }
          ],
          "parcoords": [
           {
            "line": {
             "colorbar": {
              "outlinewidth": 0,
              "ticks": ""
             }
            },
            "type": "parcoords"
           }
          ],
          "pie": [
           {
            "automargin": true,
            "type": "pie"
           }
          ],
          "scatter": [
           {
            "fillpattern": {
             "fillmode": "overlay",
             "size": 10,
             "solidity": 0.2
            },
            "type": "scatter"
           }
          ],
          "scatter3d": [
           {
            "line": {
             "colorbar": {
              "outlinewidth": 0,
              "ticks": ""
             }
            },
            "marker": {
             "colorbar": {
              "outlinewidth": 0,
              "ticks": ""
             }
            },
            "type": "scatter3d"
           }
          ],
          "scattercarpet": [
           {
            "marker": {
             "colorbar": {
              "outlinewidth": 0,
              "ticks": ""
             }
            },
            "type": "scattercarpet"
           }
          ],
          "scattergeo": [
           {
            "marker": {
             "colorbar": {
              "outlinewidth": 0,
              "ticks": ""
             }
            },
            "type": "scattergeo"
           }
          ],
          "scattergl": [
           {
            "marker": {
             "colorbar": {
              "outlinewidth": 0,
              "ticks": ""
             }
            },
            "type": "scattergl"
           }
          ],
          "scattermapbox": [
           {
            "marker": {
             "colorbar": {
              "outlinewidth": 0,
              "ticks": ""
             }
            },
            "type": "scattermapbox"
           }
          ],
          "scatterpolar": [
           {
            "marker": {
             "colorbar": {
              "outlinewidth": 0,
              "ticks": ""
             }
            },
            "type": "scatterpolar"
           }
          ],
          "scatterpolargl": [
           {
            "marker": {
             "colorbar": {
              "outlinewidth": 0,
              "ticks": ""
             }
            },
            "type": "scatterpolargl"
           }
          ],
          "scatterternary": [
           {
            "marker": {
             "colorbar": {
              "outlinewidth": 0,
              "ticks": ""
             }
            },
            "type": "scatterternary"
           }
          ],
          "surface": [
           {
            "colorbar": {
             "outlinewidth": 0,
             "ticks": ""
            },
            "colorscale": [
             [
              0,
              "#0d0887"
             ],
             [
              0.1111111111111111,
              "#46039f"
             ],
             [
              0.2222222222222222,
              "#7201a8"
             ],
             [
              0.3333333333333333,
              "#9c179e"
             ],
             [
              0.4444444444444444,
              "#bd3786"
             ],
             [
              0.5555555555555556,
              "#d8576b"
             ],
             [
              0.6666666666666666,
              "#ed7953"
             ],
             [
              0.7777777777777778,
              "#fb9f3a"
             ],
             [
              0.8888888888888888,
              "#fdca26"
             ],
             [
              1,
              "#f0f921"
             ]
            ],
            "type": "surface"
           }
          ],
          "table": [
           {
            "cells": {
             "fill": {
              "color": "#EBF0F8"
             },
             "line": {
              "color": "white"
             }
            },
            "header": {
             "fill": {
              "color": "#C8D4E3"
             },
             "line": {
              "color": "white"
             }
            },
            "type": "table"
           }
          ]
         },
         "layout": {
          "annotationdefaults": {
           "arrowcolor": "#2a3f5f",
           "arrowhead": 0,
           "arrowwidth": 1
          },
          "autotypenumbers": "strict",
          "coloraxis": {
           "colorbar": {
            "outlinewidth": 0,
            "ticks": ""
           }
          },
          "colorscale": {
           "diverging": [
            [
             0,
             "#8e0152"
            ],
            [
             0.1,
             "#c51b7d"
            ],
            [
             0.2,
             "#de77ae"
            ],
            [
             0.3,
             "#f1b6da"
            ],
            [
             0.4,
             "#fde0ef"
            ],
            [
             0.5,
             "#f7f7f7"
            ],
            [
             0.6,
             "#e6f5d0"
            ],
            [
             0.7,
             "#b8e186"
            ],
            [
             0.8,
             "#7fbc41"
            ],
            [
             0.9,
             "#4d9221"
            ],
            [
             1,
             "#276419"
            ]
           ],
           "sequential": [
            [
             0,
             "#0d0887"
            ],
            [
             0.1111111111111111,
             "#46039f"
            ],
            [
             0.2222222222222222,
             "#7201a8"
            ],
            [
             0.3333333333333333,
             "#9c179e"
            ],
            [
             0.4444444444444444,
             "#bd3786"
            ],
            [
             0.5555555555555556,
             "#d8576b"
            ],
            [
             0.6666666666666666,
             "#ed7953"
            ],
            [
             0.7777777777777778,
             "#fb9f3a"
            ],
            [
             0.8888888888888888,
             "#fdca26"
            ],
            [
             1,
             "#f0f921"
            ]
           ],
           "sequentialminus": [
            [
             0,
             "#0d0887"
            ],
            [
             0.1111111111111111,
             "#46039f"
            ],
            [
             0.2222222222222222,
             "#7201a8"
            ],
            [
             0.3333333333333333,
             "#9c179e"
            ],
            [
             0.4444444444444444,
             "#bd3786"
            ],
            [
             0.5555555555555556,
             "#d8576b"
            ],
            [
             0.6666666666666666,
             "#ed7953"
            ],
            [
             0.7777777777777778,
             "#fb9f3a"
            ],
            [
             0.8888888888888888,
             "#fdca26"
            ],
            [
             1,
             "#f0f921"
            ]
           ]
          },
          "colorway": [
           "#636efa",
           "#EF553B",
           "#00cc96",
           "#ab63fa",
           "#FFA15A",
           "#19d3f3",
           "#FF6692",
           "#B6E880",
           "#FF97FF",
           "#FECB52"
          ],
          "font": {
           "color": "#2a3f5f"
          },
          "geo": {
           "bgcolor": "white",
           "lakecolor": "white",
           "landcolor": "#E5ECF6",
           "showlakes": true,
           "showland": true,
           "subunitcolor": "white"
          },
          "hoverlabel": {
           "align": "left"
          },
          "hovermode": "closest",
          "mapbox": {
           "style": "light"
          },
          "paper_bgcolor": "white",
          "plot_bgcolor": "#E5ECF6",
          "polar": {
           "angularaxis": {
            "gridcolor": "white",
            "linecolor": "white",
            "ticks": ""
           },
           "bgcolor": "#E5ECF6",
           "radialaxis": {
            "gridcolor": "white",
            "linecolor": "white",
            "ticks": ""
           }
          },
          "scene": {
           "xaxis": {
            "backgroundcolor": "#E5ECF6",
            "gridcolor": "white",
            "gridwidth": 2,
            "linecolor": "white",
            "showbackground": true,
            "ticks": "",
            "zerolinecolor": "white"
           },
           "yaxis": {
            "backgroundcolor": "#E5ECF6",
            "gridcolor": "white",
            "gridwidth": 2,
            "linecolor": "white",
            "showbackground": true,
            "ticks": "",
            "zerolinecolor": "white"
           },
           "zaxis": {
            "backgroundcolor": "#E5ECF6",
            "gridcolor": "white",
            "gridwidth": 2,
            "linecolor": "white",
            "showbackground": true,
            "ticks": "",
            "zerolinecolor": "white"
           }
          },
          "shapedefaults": {
           "line": {
            "color": "#2a3f5f"
           }
          },
          "ternary": {
           "aaxis": {
            "gridcolor": "white",
            "linecolor": "white",
            "ticks": ""
           },
           "baxis": {
            "gridcolor": "white",
            "linecolor": "white",
            "ticks": ""
           },
           "bgcolor": "#E5ECF6",
           "caxis": {
            "gridcolor": "white",
            "linecolor": "white",
            "ticks": ""
           }
          },
          "title": {
           "x": 0.05
          },
          "xaxis": {
           "automargin": true,
           "gridcolor": "white",
           "linecolor": "white",
           "ticks": "",
           "title": {
            "standoff": 15
           },
           "zerolinecolor": "white",
           "zerolinewidth": 2
          },
          "yaxis": {
           "automargin": true,
           "gridcolor": "white",
           "linecolor": "white",
           "ticks": "",
           "title": {
            "standoff": 15
           },
           "zerolinecolor": "white",
           "zerolinewidth": 2
          }
         }
        },
        "title": {
         "text": "Labour market position per degree<br><sup>Wo-bachelor students have the most variance in labor market position throughout the years</sup>"
        },
        "xaxis": {
         "linecolor": "#7785A9",
         "linewidth": 2,
         "mirror": true,
         "showline": true,
         "title": {
          "text": "Degree"
         }
        },
        "yaxis": {
         "linecolor": "#7785A9",
         "linewidth": 2,
         "mirror": true,
         "showline": true,
         "ticktext": [
          "✔ job, ✔ benefits",
          "✔ job, ✗ benefits",
          "Back to university",
          "✗ job, ✔ benefits",
          "✗ job, ✗ benefits"
         ],
         "tickvals": [
          "Met werk, met uitkering",
          "Met werk, zonder uitkering",
          "Terug in onderwijs",
          "Zonder werk, met uitkering",
          "Zonder werk, zonder uitkering"
         ],
         "title": {
          "text": "Labour market position"
         }
        }
       }
      }
     },
     "metadata": {},
     "output_type": "display_data"
    }
   ],
   "source": [
    "%run ../notebooks/heatmapstudies.ipynb"
   ]
  },
  {
   "cell_type": "markdown",
   "metadata": {},
   "source": [
    "Another aspect in the hbo versus wo debate is the argument concerning internships and hands-on experience. It is often suggested that HBO graduates are more likely to secure employment sooner and more frequently compared to their WO counterparts. This stems from the fact that hbo programmes typically include mandatory internships and emphasize practical skills, whereas wo programs are more theoretical in nature and do not always incorporate practical training. \n",
    "\n",
    "Analysing the heatmap, we observe that a significant percentage of wo bachelor's students are unemployed without benefits, unlike hbo bachelor's students who show a high employment rate. Within the first year after graduation, a notable portion of unemployed wo bachelor's students return to university. This trend persists in subsequent years, with unemployed bachelor's students either continuing their education or remaining in jobs without benefits. \n",
    "\n",
    "When comparing master's graduates from each education type, we find minimal differences, except that wo master's students tend to have a higher percentage of graduates requiring benefits in addition to their job. \n",
    "\n",
    "In conclusion, hbo graduates generally experience higher employment rates, particularly when compared to those who only attain a wo bachelor's degree. However, wo graduates with a master's degree achieve similar employment rates. This could be attributed to the differing nature of bachelor's programs between hbo and wo. Hbo programs tend to be more career-oriented and specialised from the outset, whereas wo programs are more broad. Therefore, completing a master's degree equips wo graduates with specialised knowledge, making them equally competitive in the job market as their hbo counterparts, which raises their employment."
   ]
  },
  {
   "cell_type": "markdown",
   "metadata": {},
   "source": [
    "## Labour market postion per field of study"
   ]
  },
  {
   "cell_type": "code",
   "execution_count": 135,
   "metadata": {
    "tags": [
     "remove-input"
    ]
   },
   "outputs": [
    {
     "data": {
      "application/vnd.plotly.v1+json": {
       "config": {
        "plotlyServerURL": "https://plot.ly"
       },
       "data": [
        {
         "colorbar": {
          "tickformat": "%d%",
          "title": {
           "text": "% within field"
          }
         },
         "colorscale": [
          [
           0,
           "rgb(247,251,255)"
          ],
          [
           0.125,
           "rgb(222,235,247)"
          ],
          [
           0.25,
           "rgb(198,219,239)"
          ],
          [
           0.375,
           "rgb(158,202,225)"
          ],
          [
           0.5,
           "rgb(107,174,214)"
          ],
          [
           0.625,
           "rgb(66,146,198)"
          ],
          [
           0.75,
           "rgb(33,113,181)"
          ],
          [
           0.875,
           "rgb(8,81,156)"
          ],
          [
           1,
           "rgb(8,48,107)"
          ]
         ],
         "hoverinfo": "text+x",
         "hoverongaps": false,
         "text": [
          [
           "1%",
           "2%",
           "1%",
           "1%",
           "1%",
           "3%",
           "2%",
           "0%",
           "2%",
           "1%"
          ],
          [
           "84%",
           "84%",
           "85%",
           "77%",
           "74%",
           "92%",
           "79%",
           "61%",
           "75%",
           "83%"
          ],
          [
           "0%",
           "0%",
           "0%",
           "0%",
           "0%",
           "0%",
           "0%",
           "0%",
           "0%",
           "0%"
          ],
          [
           "1%",
           "2%",
           "1%",
           "2%",
           "2%",
           "1%",
           "3%",
           "0%",
           "3%",
           "1%"
          ],
          [
           "13%",
           "12%",
           "13%",
           "20%",
           "23%",
           "5%",
           "16%",
           "39%",
           "20%",
           "15%"
          ]
         ],
         "type": "heatmap",
         "visible": true,
         "x": [
          "Economics",
          "Behaviour & Society",
          "Healthcare",
          "Agriculture",
          "Nature",
          "Education",
          "Law",
          "Interdisciplinary",
          "Language & Culture",
          "STEM"
         ],
         "y": [
          "Met werk, met uitkering",
          "Met werk, zonder uitkering",
          "Terug in onderwijs",
          "Zonder werk, met uitkering",
          "Zonder werk, zonder uitkering"
         ],
         "z": [
          [
           1.4890646812470918,
           2.238354506957048,
           1.062573789846517,
           0.9259259259259258,
           1.102941176470588,
           2.514506769825919,
           1.902173913043478,
           0,
           2.2801302931596092,
           0.8163265306122449
          ],
          [
           84.03908794788273,
           83.7265577737447,
           85.47815820543093,
           77.31481481481481,
           73.89705882352942,
           92.06963249516441,
           79.34782608695653,
           60.714285714285715,
           75.0814332247557,
           83.26530612244898
          ],
          [
           0,
           0,
           0,
           0,
           0,
           0,
           0,
           0,
           0,
           0
          ],
          [
           1.3959981386691487,
           1.9963702359346642,
           0.9445100354191263,
           1.8518518518518516,
           2.205882352941176,
           0.7736943907156674,
           2.717391304347826,
           0,
           2.931596091205212,
           1.2244897959183674
          ],
          [
           13.075849232201024,
           12.03871748336358,
           12.514757969303425,
           19.907407407407405,
           22.794117647058822,
           4.642166344294004,
           16.032608695652172,
           39.28571428571429,
           19.706840390879478,
           14.693877551020408
          ]
         ],
         "zmax": 100,
         "zmin": 0
        },
        {
         "colorbar": {
          "tickformat": "%d%",
          "title": {
           "text": "% within field"
          }
         },
         "colorscale": [
          [
           0,
           "rgb(247,251,255)"
          ],
          [
           0.125,
           "rgb(222,235,247)"
          ],
          [
           0.25,
           "rgb(198,219,239)"
          ],
          [
           0.375,
           "rgb(158,202,225)"
          ],
          [
           0.5,
           "rgb(107,174,214)"
          ],
          [
           0.625,
           "rgb(66,146,198)"
          ],
          [
           0.75,
           "rgb(33,113,181)"
          ],
          [
           0.875,
           "rgb(8,81,156)"
          ],
          [
           1,
           "rgb(8,48,107)"
          ]
         ],
         "hoverinfo": "text+x",
         "hoverongaps": false,
         "text": [
          [
           "2%",
           "2%",
           "1%",
           "1%",
           "1%",
           "3%",
           "2%",
           "0%",
           "3%",
           "1%"
          ],
          [
           "85%",
           "82%",
           "78%",
           "83%",
           "74%",
           "86%",
           "83%",
           "32%",
           "74%",
           "87%"
          ],
          [
           "6%",
           "9%",
           "16%",
           "6%",
           "13%",
           "6%",
           "7%",
           "43%",
           "9%",
           "5%"
          ],
          [
           "1%",
           "2%",
           "1%",
           "2%",
           "1%",
           "1%",
           "2%",
           "0%",
           "2%",
           "1%"
          ],
          [
           "5%",
           "4%",
           "3%",
           "6%",
           "7%",
           "3%",
           "5%",
           "20%",
           "9%",
           "4%"
          ]
         ],
         "type": "heatmap",
         "visible": false,
         "x": [
          "Economics",
          "Behaviour & Society",
          "Healthcare",
          "Agriculture",
          "Nature",
          "Education",
          "Law",
          "Interdisciplinary",
          "Language & Culture",
          "STEM"
         ],
         "y": [
          "Met werk, met uitkering",
          "Met werk, zonder uitkering",
          "Terug in onderwijs",
          "Zonder werk, met uitkering",
          "Zonder werk, zonder uitkering"
         ],
         "z": [
          [
           1.582131223825035,
           2.1173623714458563,
           1.1806375442739079,
           1.3888888888888888,
           1.4705882352941175,
           2.9013539651837523,
           1.6304347826086956,
           0,
           2.931596091205212,
           0.9795918367346939
          ],
          [
           84.87668683108423,
           81.85117967332124,
           77.80401416765054,
           83.33333333333334,
           74.26470588235293,
           86.46034816247582,
           82.88043478260869,
           32.14285714285714,
           74.1042345276873,
           87.42857142857143
          ],
          [
           5.537459283387623,
           8.892921960072595,
           16.05667060212515,
           6.481481481481481,
           13.235294117647058,
           6.189555125725339,
           7.336956521739129,
           42.857142857142854,
           9.283387622149839,
           5.142857142857142
          ],
          [
           1.4425314099581201,
           1.8753781004234726,
           0.8264462809917354,
           1.8518518518518516,
           1.102941176470588,
           1.160541586073501,
           2.4456521739130435,
           0,
           2.2801302931596092,
           1.0612244897959184
          ],
          [
           5.397859469520707,
           4.4162129461585,
           3.0696576151121606,
           6.481481481481481,
           6.985294117647059,
           2.514506769825919,
           4.619565217391305,
           19.642857142857142,
           8.794788273615636,
           4.163265306122449
          ]
         ],
         "zmax": 100,
         "zmin": 0
        },
        {
         "colorbar": {
          "tickformat": "%d%",
          "title": {
           "text": "% within field"
          }
         },
         "colorscale": [
          [
           0,
           "rgb(247,251,255)"
          ],
          [
           0.125,
           "rgb(222,235,247)"
          ],
          [
           0.25,
           "rgb(198,219,239)"
          ],
          [
           0.375,
           "rgb(158,202,225)"
          ],
          [
           0.5,
           "rgb(107,174,214)"
          ],
          [
           0.625,
           "rgb(66,146,198)"
          ],
          [
           0.75,
           "rgb(33,113,181)"
          ],
          [
           0.875,
           "rgb(8,81,156)"
          ],
          [
           1,
           "rgb(8,48,107)"
          ]
         ],
         "hoverinfo": "text+x",
         "hoverongaps": false,
         "text": [
          [
           "1%",
           "2%",
           "1%",
           "1%",
           "1%",
           "2%",
           "1%",
           "0%",
           "2%",
           "1%"
          ],
          [
           "85%",
           "81%",
           "76%",
           "82%",
           "74%",
           "85%",
           "84%",
           "32%",
           "74%",
           "87%"
          ],
          [
           "7%",
           "11%",
           "19%",
           "8%",
           "15%",
           "10%",
           "9%",
           "54%",
           "12%",
           "6%"
          ],
          [
           "2%",
           "2%",
           "1%",
           "2%",
           "1%",
           "1%",
           "2%",
           "0%",
           "2%",
           "1%"
          ],
          [
           "4%",
           "3%",
           "2%",
           "4%",
           "5%",
           "2%",
           "3%",
           "14%",
           "6%",
           "3%"
          ]
         ],
         "type": "heatmap",
         "visible": false,
         "x": [
          "Economics",
          "Behaviour & Society",
          "Healthcare",
          "Agriculture",
          "Nature",
          "Education",
          "Law",
          "Interdisciplinary",
          "Language & Culture",
          "STEM"
         ],
         "y": [
          "Met werk, met uitkering",
          "Met werk, zonder uitkering",
          "Terug in onderwijs",
          "Zonder werk, met uitkering",
          "Zonder werk, zonder uitkering"
         ],
         "z": [
          [
           1.1633317822242903,
           1.693889897156685,
           0.9445100354191264,
           0.9259259259259258,
           0.7352941176470588,
           1.5473887814313347,
           1.358695652173913,
           0,
           2.2801302931596092,
           0.7346938775510204
          ],
          [
           84.83015355979525,
           80.7017543859649,
           76.03305785123968,
           82.4074074074074,
           73.52941176470588,
           84.71953578336556,
           83.69565217391305,
           32.14285714285714,
           73.61563517915309,
           87.10204081632652
          ],
          [
           7.119590507212657,
           11.373260738052027,
           18.536009445100355,
           7.87037037037037,
           15.073529411764707,
           10.251450676982593,
           8.695652173913043,
           53.57142857142858,
           12.214983713355048,
           6.448979591836735
          ],
          [
           1.6286644951140068,
           1.9358741681790685,
           1.062573789846517,
           1.8518518518518516,
           1.102941176470588,
           1.160541586073501,
           1.902173913043478,
           0,
           2.44299674267101,
           0.9795918367346939
          ],
          [
           3.5830618892508146,
           3.0248033877797944,
           2.007083825265643,
           4.166666666666666,
           5.147058823529411,
           1.5473887814313347,
           3.2608695652173916,
           14.285714285714285,
           6.188925081433225,
           3.0204081632653064
          ]
         ],
         "zmax": 100,
         "zmin": 0
        },
        {
         "colorbar": {
          "tickformat": "%d%",
          "title": {
           "text": "% within field"
          }
         },
         "colorscale": [
          [
           0,
           "rgb(247,251,255)"
          ],
          [
           0.125,
           "rgb(222,235,247)"
          ],
          [
           0.25,
           "rgb(198,219,239)"
          ],
          [
           0.375,
           "rgb(158,202,225)"
          ],
          [
           0.5,
           "rgb(107,174,214)"
          ],
          [
           0.625,
           "rgb(66,146,198)"
          ],
          [
           0.75,
           "rgb(33,113,181)"
          ],
          [
           0.875,
           "rgb(8,81,156)"
          ],
          [
           1,
           "rgb(8,48,107)"
          ]
         ],
         "hoverinfo": "text+x",
         "hoverongaps": false,
         "text": [
          [
           "1%",
           "2%",
           "1%",
           "2%",
           "0%",
           "1%",
           "1%",
           "0%",
           "2%",
           "1%"
          ],
          [
           "85%",
           "80%",
           "74%",
           "82%",
           "74%",
           "83%",
           "84%",
           "36%",
           "72%",
           "87%"
          ],
          [
           "8%",
           "13%",
           "20%",
           "9%",
           "15%",
           "13%",
           "9%",
           "55%",
           "14%",
           "7%"
          ],
          [
           "1%",
           "2%",
           "1%",
           "1%",
           "1%",
           "1%",
           "2%",
           "0%",
           "3%",
           "1%"
          ],
          [
           "3%",
           "3%",
           "2%",
           "4%",
           "4%",
           "1%",
           "2%",
           "9%",
           "5%",
           "3%"
          ]
         ],
         "type": "heatmap",
         "visible": false,
         "x": [
          "Economics",
          "Behaviour & Society",
          "Healthcare",
          "Agriculture",
          "Nature",
          "Education",
          "Law",
          "Interdisciplinary",
          "Language & Culture",
          "STEM"
         ],
         "y": [
          "Met werk, met uitkering",
          "Met werk, zonder uitkering",
          "Terug in onderwijs",
          "Zonder werk, met uitkering",
          "Zonder werk, zonder uitkering"
         ],
         "z": [
          [
           1.116798510935319,
           1.5124016938898972,
           1.1806375442739079,
           1.8518518518518516,
           0.3676470588235294,
           0.7736943907156674,
           0.8152173913043478,
           0,
           2.44299674267101,
           0.653061224489796
          ],
          [
           84.69055374592833,
           79.79431336963097,
           74.14403778040142,
           81.94444444444444,
           74.26470588235293,
           82.7852998065764,
           83.96739130434783,
           35.714285714285715,
           72.47557003257329,
           86.6938775510204
          ],
          [
           7.910656119125175,
           12.764670296430733,
           20.188902007083826,
           8.796296296296296,
           15.441176470588236,
           13.34622823984526,
           9.23913043478261,
           55.35714285714286,
           13.843648208469055,
           6.857142857142857
          ],
          [
           1.4890646812470918,
           1.9963702359346642,
           1.062573789846517,
           0.9259259259259258,
           1.102941176470588,
           0.9671179883945842,
           1.902173913043478,
           0,
           2.6058631921824107,
           1.0612244897959184
          ],
          [
           2.6058631921824102,
           2.722323049001815,
           1.8890200708382525,
           3.7037037037037033,
           3.6764705882352944,
           1.3539651837524178,
           2.1739130434782608,
           8.928571428571427,
           4.723127035830619,
           2.5306122448979593
          ]
         ],
         "zmax": 100,
         "zmin": 0
        },
        {
         "colorbar": {
          "tickformat": "%d%",
          "title": {
           "text": "% within field"
          }
         },
         "colorscale": [
          [
           0,
           "rgb(247,251,255)"
          ],
          [
           0.125,
           "rgb(222,235,247)"
          ],
          [
           0.25,
           "rgb(198,219,239)"
          ],
          [
           0.375,
           "rgb(158,202,225)"
          ],
          [
           0.5,
           "rgb(107,174,214)"
          ],
          [
           0.625,
           "rgb(66,146,198)"
          ],
          [
           0.75,
           "rgb(33,113,181)"
          ],
          [
           0.875,
           "rgb(8,81,156)"
          ],
          [
           1,
           "rgb(8,48,107)"
          ]
         ],
         "hoverinfo": "text+x",
         "hoverongaps": false,
         "text": [
          [
           "5%",
           "5%",
           "5%",
           "3%",
           "3%",
           "4%",
           "4%",
           "2%",
           "15%",
           "4%"
          ],
          [
           "80%",
           "76%",
           "70%",
           "81%",
           "70%",
           "79%",
           "81%",
           "36%",
           "58%",
           "83%"
          ],
          [
           "9%",
           "14%",
           "21%",
           "9%",
           "16%",
           "15%",
           "9%",
           "55%",
           "15%",
           "7%"
          ],
          [
           "2%",
           "2%",
           "1%",
           "2%",
           "3%",
           "1%",
           "2%",
           "0%",
           "3%",
           "2%"
          ],
          [
           "2%",
           "2%",
           "1%",
           "3%",
           "4%",
           "1%",
           "2%",
           "7%",
           "4%",
           "2%"
          ]
         ],
         "type": "heatmap",
         "visible": false,
         "x": [
          "Economics",
          "Behaviour & Society",
          "Healthcare",
          "Agriculture",
          "Nature",
          "Education",
          "Law",
          "Interdisciplinary",
          "Language & Culture",
          "STEM"
         ],
         "y": [
          "Met werk, met uitkering",
          "Met werk, zonder uitkering",
          "Terug in onderwijs",
          "Zonder werk, met uitkering",
          "Zonder werk, zonder uitkering"
         ],
         "z": [
          [
           4.979060027919963,
           4.537205081669692,
           4.7225501770956315,
           3.2407407407407405,
           2.941176470588235,
           4.061895551257253,
           3.5326086956521743,
           1.7857142857142856,
           15.309446254071663,
           3.7551020408163267
          ],
          [
           80.22335970218707,
           76.346037507562,
           69.77567886658795,
           80.55555555555556,
           70.22058823529412,
           78.52998065764022,
           80.70652173913044,
           35.714285714285715,
           58.46905537459283,
           83.26530612244898
          ],
          [
           8.562121917170778,
           13.611615245009075,
           21.487603305785125,
           8.796296296296296,
           16.176470588235293,
           15.087040618955513,
           9.23913043478261,
           55.35714285714286,
           15.146579804560261,
           7.183673469387755
          ],
          [
           2.3731968357375526,
           2.238354506957048,
           1.2987012987012987,
           2.3148148148148144,
           2.5735294117647056,
           1.160541586073501,
           2.1739130434782608,
           0,
           3.257328990228013,
           1.5510204081632653
          ],
          [
           1.7682643089809216,
           1.9358741681790683,
           1.2987012987012987,
           2.7777777777777777,
           4.044117647058824,
           0.7736943907156674,
           1.6304347826086956,
           7.142857142857142,
           3.583061889250814,
           1.9591836734693877
          ]
         ],
         "zmax": 100,
         "zmin": 0
        },
        {
         "colorbar": {
          "tickformat": "%d%",
          "title": {
           "text": "% within field"
          }
         },
         "colorscale": [
          [
           0,
           "rgb(247,251,255)"
          ],
          [
           0.125,
           "rgb(222,235,247)"
          ],
          [
           0.25,
           "rgb(198,219,239)"
          ],
          [
           0.375,
           "rgb(158,202,225)"
          ],
          [
           0.5,
           "rgb(107,174,214)"
          ],
          [
           0.625,
           "rgb(66,146,198)"
          ],
          [
           0.75,
           "rgb(33,113,181)"
          ],
          [
           0.875,
           "rgb(8,81,156)"
          ],
          [
           1,
           "rgb(8,48,107)"
          ]
         ],
         "hoverinfo": "text+x",
         "hoverongaps": false,
         "text": [
          [
           "3%",
           "2%",
           "2%",
           "2%",
           "2%",
           "2%",
           "2%",
           "0%",
           "8%",
           "2%"
          ],
          [
           "83%",
           "78%",
           "72%",
           "80%",
           "69%",
           "79%",
           "82%",
           "36%",
           "65%",
           "85%"
          ],
          [
           "9%",
           "14%",
           "23%",
           "10%",
           "17%",
           "17%",
           "10%",
           "59%",
           "17%",
           "7%"
          ],
          [
           "1%",
           "2%",
           "1%",
           "2%",
           "3%",
           "1%",
           "2%",
           "0%",
           "2%",
           "1%"
          ],
          [
           "2%",
           "2%",
           "1%",
           "3%",
           "4%",
           "1%",
           "2%",
           "5%",
           "3%",
           "2%"
          ]
         ],
         "type": "heatmap",
         "visible": false,
         "x": [
          "Economics",
          "Behaviour & Society",
          "Healthcare",
          "Agriculture",
          "Nature",
          "Education",
          "Law",
          "Interdisciplinary",
          "Language & Culture",
          "STEM"
         ],
         "y": [
          "Met werk, met uitkering",
          "Met werk, zonder uitkering",
          "Terug in onderwijs",
          "Zonder werk, met uitkering",
          "Zonder werk, zonder uitkering"
         ],
         "z": [
          [
           2.6523964634713826,
           2.177858439201452,
           1.770956316410862,
           1.8518518518518516,
           2.2058823529411766,
           2.127659574468085,
           1.6304347826086956,
           0,
           8.469055374592834,
           1.8775510204081634
          ],
          [
           82.92228943694741,
           78.0399274047187,
           71.66469893742621,
           79.62962962962963,
           69.48529411764706,
           78.72340425531915,
           82.06521739130434,
           35.714285714285715,
           65.30944625407166,
           85.38775510204081
          ],
          [
           8.980921358771521,
           14.277071990320628,
           22.668240850059032,
           9.722222222222221,
           16.544117647058822,
           16.827852998065765,
           10.054347826086957,
           58.92857142857142,
           16.775244299674267,
           7.428571428571428
          ],
          [
           1.4890646812470918,
           1.8753781004234726,
           1.1806375442739079,
           2.3148148148148144,
           2.5735294117647056,
           1.160541586073501,
           1.6304347826086956,
           0,
           2.4429967426710095,
           1.0612244897959184
          ],
          [
           1.954397394136808,
           1.8148820326678765,
           1.2987012987012987,
           2.7777777777777777,
           3.6764705882352944,
           0.9671179883945842,
           2.1739130434782608,
           5.357142857142857,
           3.0944625407166124,
           1.959183673469388
          ]
         ],
         "zmax": 100,
         "zmin": 0
        }
       ],
       "layout": {
        "annotations": [
         {
          "align": "left",
          "font": {
           "size": 12
          },
          "showarrow": false,
          "text": " <br>The heatmap illustrates the labour market position across various fields of study.<br>The colors correspond to the percentages within each field, providing a visual representation of employment<br>outcomes and the distribution of labour market positions for graduates from different academic disciplines.",
          "x": 0,
          "xanchor": "left",
          "xref": "paper",
          "y": -0.78,
          "yanchor": "bottom",
          "yref": "paper"
         }
        ],
        "height": 600,
        "margin": {
         "b": 80,
         "l": 20,
         "r": 20,
         "t": 80
        },
        "sliders": [
         {
          "active": 0,
          "currentvalue": {
           "prefix": "Years after leaving university: "
          },
          "pad": {
           "b": 80,
           "r": 10,
           "t": 80
          },
          "steps": [
           {
            "args": [
             "visible",
             [
              true,
              false,
              false,
              false,
              false,
              false
             ]
            ],
            "label": "0",
            "method": "restyle"
           },
           {
            "args": [
             "visible",
             [
              false,
              true,
              false,
              false,
              false,
              false
             ]
            ],
            "label": "1",
            "method": "restyle"
           },
           {
            "args": [
             "visible",
             [
              false,
              false,
              true,
              false,
              false,
              false
             ]
            ],
            "label": "2",
            "method": "restyle"
           },
           {
            "args": [
             "visible",
             [
              false,
              false,
              false,
              true,
              false,
              false
             ]
            ],
            "label": "3",
            "method": "restyle"
           },
           {
            "args": [
             "visible",
             [
              false,
              false,
              false,
              false,
              true,
              false
             ]
            ],
            "label": "4",
            "method": "restyle"
           },
           {
            "args": [
             "visible",
             [
              false,
              false,
              false,
              false,
              false,
              true
             ]
            ],
            "label": "5",
            "method": "restyle"
           }
          ]
         }
        ],
        "template": {
         "data": {
          "bar": [
           {
            "error_x": {
             "color": "#2a3f5f"
            },
            "error_y": {
             "color": "#2a3f5f"
            },
            "marker": {
             "line": {
              "color": "#E5ECF6",
              "width": 0.5
             },
             "pattern": {
              "fillmode": "overlay",
              "size": 10,
              "solidity": 0.2
             }
            },
            "type": "bar"
           }
          ],
          "barpolar": [
           {
            "marker": {
             "line": {
              "color": "#E5ECF6",
              "width": 0.5
             },
             "pattern": {
              "fillmode": "overlay",
              "size": 10,
              "solidity": 0.2
             }
            },
            "type": "barpolar"
           }
          ],
          "carpet": [
           {
            "aaxis": {
             "endlinecolor": "#2a3f5f",
             "gridcolor": "white",
             "linecolor": "white",
             "minorgridcolor": "white",
             "startlinecolor": "#2a3f5f"
            },
            "baxis": {
             "endlinecolor": "#2a3f5f",
             "gridcolor": "white",
             "linecolor": "white",
             "minorgridcolor": "white",
             "startlinecolor": "#2a3f5f"
            },
            "type": "carpet"
           }
          ],
          "choropleth": [
           {
            "colorbar": {
             "outlinewidth": 0,
             "ticks": ""
            },
            "type": "choropleth"
           }
          ],
          "contour": [
           {
            "colorbar": {
             "outlinewidth": 0,
             "ticks": ""
            },
            "colorscale": [
             [
              0,
              "#0d0887"
             ],
             [
              0.1111111111111111,
              "#46039f"
             ],
             [
              0.2222222222222222,
              "#7201a8"
             ],
             [
              0.3333333333333333,
              "#9c179e"
             ],
             [
              0.4444444444444444,
              "#bd3786"
             ],
             [
              0.5555555555555556,
              "#d8576b"
             ],
             [
              0.6666666666666666,
              "#ed7953"
             ],
             [
              0.7777777777777778,
              "#fb9f3a"
             ],
             [
              0.8888888888888888,
              "#fdca26"
             ],
             [
              1,
              "#f0f921"
             ]
            ],
            "type": "contour"
           }
          ],
          "contourcarpet": [
           {
            "colorbar": {
             "outlinewidth": 0,
             "ticks": ""
            },
            "type": "contourcarpet"
           }
          ],
          "heatmap": [
           {
            "colorbar": {
             "outlinewidth": 0,
             "ticks": ""
            },
            "colorscale": [
             [
              0,
              "#0d0887"
             ],
             [
              0.1111111111111111,
              "#46039f"
             ],
             [
              0.2222222222222222,
              "#7201a8"
             ],
             [
              0.3333333333333333,
              "#9c179e"
             ],
             [
              0.4444444444444444,
              "#bd3786"
             ],
             [
              0.5555555555555556,
              "#d8576b"
             ],
             [
              0.6666666666666666,
              "#ed7953"
             ],
             [
              0.7777777777777778,
              "#fb9f3a"
             ],
             [
              0.8888888888888888,
              "#fdca26"
             ],
             [
              1,
              "#f0f921"
             ]
            ],
            "type": "heatmap"
           }
          ],
          "heatmapgl": [
           {
            "colorbar": {
             "outlinewidth": 0,
             "ticks": ""
            },
            "colorscale": [
             [
              0,
              "#0d0887"
             ],
             [
              0.1111111111111111,
              "#46039f"
             ],
             [
              0.2222222222222222,
              "#7201a8"
             ],
             [
              0.3333333333333333,
              "#9c179e"
             ],
             [
              0.4444444444444444,
              "#bd3786"
             ],
             [
              0.5555555555555556,
              "#d8576b"
             ],
             [
              0.6666666666666666,
              "#ed7953"
             ],
             [
              0.7777777777777778,
              "#fb9f3a"
             ],
             [
              0.8888888888888888,
              "#fdca26"
             ],
             [
              1,
              "#f0f921"
             ]
            ],
            "type": "heatmapgl"
           }
          ],
          "histogram": [
           {
            "marker": {
             "pattern": {
              "fillmode": "overlay",
              "size": 10,
              "solidity": 0.2
             }
            },
            "type": "histogram"
           }
          ],
          "histogram2d": [
           {
            "colorbar": {
             "outlinewidth": 0,
             "ticks": ""
            },
            "colorscale": [
             [
              0,
              "#0d0887"
             ],
             [
              0.1111111111111111,
              "#46039f"
             ],
             [
              0.2222222222222222,
              "#7201a8"
             ],
             [
              0.3333333333333333,
              "#9c179e"
             ],
             [
              0.4444444444444444,
              "#bd3786"
             ],
             [
              0.5555555555555556,
              "#d8576b"
             ],
             [
              0.6666666666666666,
              "#ed7953"
             ],
             [
              0.7777777777777778,
              "#fb9f3a"
             ],
             [
              0.8888888888888888,
              "#fdca26"
             ],
             [
              1,
              "#f0f921"
             ]
            ],
            "type": "histogram2d"
           }
          ],
          "histogram2dcontour": [
           {
            "colorbar": {
             "outlinewidth": 0,
             "ticks": ""
            },
            "colorscale": [
             [
              0,
              "#0d0887"
             ],
             [
              0.1111111111111111,
              "#46039f"
             ],
             [
              0.2222222222222222,
              "#7201a8"
             ],
             [
              0.3333333333333333,
              "#9c179e"
             ],
             [
              0.4444444444444444,
              "#bd3786"
             ],
             [
              0.5555555555555556,
              "#d8576b"
             ],
             [
              0.6666666666666666,
              "#ed7953"
             ],
             [
              0.7777777777777778,
              "#fb9f3a"
             ],
             [
              0.8888888888888888,
              "#fdca26"
             ],
             [
              1,
              "#f0f921"
             ]
            ],
            "type": "histogram2dcontour"
           }
          ],
          "mesh3d": [
           {
            "colorbar": {
             "outlinewidth": 0,
             "ticks": ""
            },
            "type": "mesh3d"
           }
          ],
          "parcoords": [
           {
            "line": {
             "colorbar": {
              "outlinewidth": 0,
              "ticks": ""
             }
            },
            "type": "parcoords"
           }
          ],
          "pie": [
           {
            "automargin": true,
            "type": "pie"
           }
          ],
          "scatter": [
           {
            "fillpattern": {
             "fillmode": "overlay",
             "size": 10,
             "solidity": 0.2
            },
            "type": "scatter"
           }
          ],
          "scatter3d": [
           {
            "line": {
             "colorbar": {
              "outlinewidth": 0,
              "ticks": ""
             }
            },
            "marker": {
             "colorbar": {
              "outlinewidth": 0,
              "ticks": ""
             }
            },
            "type": "scatter3d"
           }
          ],
          "scattercarpet": [
           {
            "marker": {
             "colorbar": {
              "outlinewidth": 0,
              "ticks": ""
             }
            },
            "type": "scattercarpet"
           }
          ],
          "scattergeo": [
           {
            "marker": {
             "colorbar": {
              "outlinewidth": 0,
              "ticks": ""
             }
            },
            "type": "scattergeo"
           }
          ],
          "scattergl": [
           {
            "marker": {
             "colorbar": {
              "outlinewidth": 0,
              "ticks": ""
             }
            },
            "type": "scattergl"
           }
          ],
          "scattermapbox": [
           {
            "marker": {
             "colorbar": {
              "outlinewidth": 0,
              "ticks": ""
             }
            },
            "type": "scattermapbox"
           }
          ],
          "scatterpolar": [
           {
            "marker": {
             "colorbar": {
              "outlinewidth": 0,
              "ticks": ""
             }
            },
            "type": "scatterpolar"
           }
          ],
          "scatterpolargl": [
           {
            "marker": {
             "colorbar": {
              "outlinewidth": 0,
              "ticks": ""
             }
            },
            "type": "scatterpolargl"
           }
          ],
          "scatterternary": [
           {
            "marker": {
             "colorbar": {
              "outlinewidth": 0,
              "ticks": ""
             }
            },
            "type": "scatterternary"
           }
          ],
          "surface": [
           {
            "colorbar": {
             "outlinewidth": 0,
             "ticks": ""
            },
            "colorscale": [
             [
              0,
              "#0d0887"
             ],
             [
              0.1111111111111111,
              "#46039f"
             ],
             [
              0.2222222222222222,
              "#7201a8"
             ],
             [
              0.3333333333333333,
              "#9c179e"
             ],
             [
              0.4444444444444444,
              "#bd3786"
             ],
             [
              0.5555555555555556,
              "#d8576b"
             ],
             [
              0.6666666666666666,
              "#ed7953"
             ],
             [
              0.7777777777777778,
              "#fb9f3a"
             ],
             [
              0.8888888888888888,
              "#fdca26"
             ],
             [
              1,
              "#f0f921"
             ]
            ],
            "type": "surface"
           }
          ],
          "table": [
           {
            "cells": {
             "fill": {
              "color": "#EBF0F8"
             },
             "line": {
              "color": "white"
             }
            },
            "header": {
             "fill": {
              "color": "#C8D4E3"
             },
             "line": {
              "color": "white"
             }
            },
            "type": "table"
           }
          ]
         },
         "layout": {
          "annotationdefaults": {
           "arrowcolor": "#2a3f5f",
           "arrowhead": 0,
           "arrowwidth": 1
          },
          "autotypenumbers": "strict",
          "coloraxis": {
           "colorbar": {
            "outlinewidth": 0,
            "ticks": ""
           }
          },
          "colorscale": {
           "diverging": [
            [
             0,
             "#8e0152"
            ],
            [
             0.1,
             "#c51b7d"
            ],
            [
             0.2,
             "#de77ae"
            ],
            [
             0.3,
             "#f1b6da"
            ],
            [
             0.4,
             "#fde0ef"
            ],
            [
             0.5,
             "#f7f7f7"
            ],
            [
             0.6,
             "#e6f5d0"
            ],
            [
             0.7,
             "#b8e186"
            ],
            [
             0.8,
             "#7fbc41"
            ],
            [
             0.9,
             "#4d9221"
            ],
            [
             1,
             "#276419"
            ]
           ],
           "sequential": [
            [
             0,
             "#0d0887"
            ],
            [
             0.1111111111111111,
             "#46039f"
            ],
            [
             0.2222222222222222,
             "#7201a8"
            ],
            [
             0.3333333333333333,
             "#9c179e"
            ],
            [
             0.4444444444444444,
             "#bd3786"
            ],
            [
             0.5555555555555556,
             "#d8576b"
            ],
            [
             0.6666666666666666,
             "#ed7953"
            ],
            [
             0.7777777777777778,
             "#fb9f3a"
            ],
            [
             0.8888888888888888,
             "#fdca26"
            ],
            [
             1,
             "#f0f921"
            ]
           ],
           "sequentialminus": [
            [
             0,
             "#0d0887"
            ],
            [
             0.1111111111111111,
             "#46039f"
            ],
            [
             0.2222222222222222,
             "#7201a8"
            ],
            [
             0.3333333333333333,
             "#9c179e"
            ],
            [
             0.4444444444444444,
             "#bd3786"
            ],
            [
             0.5555555555555556,
             "#d8576b"
            ],
            [
             0.6666666666666666,
             "#ed7953"
            ],
            [
             0.7777777777777778,
             "#fb9f3a"
            ],
            [
             0.8888888888888888,
             "#fdca26"
            ],
            [
             1,
             "#f0f921"
            ]
           ]
          },
          "colorway": [
           "#636efa",
           "#EF553B",
           "#00cc96",
           "#ab63fa",
           "#FFA15A",
           "#19d3f3",
           "#FF6692",
           "#B6E880",
           "#FF97FF",
           "#FECB52"
          ],
          "font": {
           "color": "#2a3f5f"
          },
          "geo": {
           "bgcolor": "white",
           "lakecolor": "white",
           "landcolor": "#E5ECF6",
           "showlakes": true,
           "showland": true,
           "subunitcolor": "white"
          },
          "hoverlabel": {
           "align": "left"
          },
          "hovermode": "closest",
          "mapbox": {
           "style": "light"
          },
          "paper_bgcolor": "white",
          "plot_bgcolor": "#E5ECF6",
          "polar": {
           "angularaxis": {
            "gridcolor": "white",
            "linecolor": "white",
            "ticks": ""
           },
           "bgcolor": "#E5ECF6",
           "radialaxis": {
            "gridcolor": "white",
            "linecolor": "white",
            "ticks": ""
           }
          },
          "scene": {
           "xaxis": {
            "backgroundcolor": "#E5ECF6",
            "gridcolor": "white",
            "gridwidth": 2,
            "linecolor": "white",
            "showbackground": true,
            "ticks": "",
            "zerolinecolor": "white"
           },
           "yaxis": {
            "backgroundcolor": "#E5ECF6",
            "gridcolor": "white",
            "gridwidth": 2,
            "linecolor": "white",
            "showbackground": true,
            "ticks": "",
            "zerolinecolor": "white"
           },
           "zaxis": {
            "backgroundcolor": "#E5ECF6",
            "gridcolor": "white",
            "gridwidth": 2,
            "linecolor": "white",
            "showbackground": true,
            "ticks": "",
            "zerolinecolor": "white"
           }
          },
          "shapedefaults": {
           "line": {
            "color": "#2a3f5f"
           }
          },
          "ternary": {
           "aaxis": {
            "gridcolor": "white",
            "linecolor": "white",
            "ticks": ""
           },
           "baxis": {
            "gridcolor": "white",
            "linecolor": "white",
            "ticks": ""
           },
           "bgcolor": "#E5ECF6",
           "caxis": {
            "gridcolor": "white",
            "linecolor": "white",
            "ticks": ""
           }
          },
          "title": {
           "x": 0.05
          },
          "xaxis": {
           "automargin": true,
           "gridcolor": "white",
           "linecolor": "white",
           "ticks": "",
           "title": {
            "standoff": 15
           },
           "zerolinecolor": "white",
           "zerolinewidth": 2
          },
          "yaxis": {
           "automargin": true,
           "gridcolor": "white",
           "linecolor": "white",
           "ticks": "",
           "title": {
            "standoff": 15
           },
           "zerolinecolor": "white",
           "zerolinewidth": 2
          }
         }
        },
        "title": {
         "text": "Labour market position per field of study<br><sup>STEM students, overall have the highest and most stable labour market position throughout the years</sup>"
        },
        "xaxis": {
         "linecolor": "#7785A9",
         "linewidth": 2,
         "mirror": true,
         "showline": true,
         "title": {
          "text": "Field of study"
         }
        },
        "yaxis": {
         "linecolor": "#7785A9",
         "linewidth": 2,
         "mirror": true,
         "showline": true,
         "ticktext": [
          "✔ job, ✔ benefits",
          "✔ job, ✗ benefits",
          "Back to university",
          "✗ job, ✔ benefits",
          "✗ job, ✗ benefits"
         ],
         "tickvals": [
          "Met werk, met uitkering",
          "Met werk, zonder uitkering",
          "Terug in onderwijs",
          "Zonder werk, met uitkering",
          "Zonder werk, zonder uitkering"
         ],
         "title": {
          "text": "Labour market position"
         }
        }
       }
      }
     },
     "metadata": {},
     "output_type": "display_data"
    }
   ],
   "source": [
    "%run ../notebooks/hpdirections.ipynb"
   ]
  },
  {
   "cell_type": "markdown",
   "metadata": {},
   "source": [
    "## Employment rate"
   ]
  },
  {
   "cell_type": "code",
   "execution_count": 140,
   "metadata": {
    "tags": [
     "remove-input"
    ]
   },
   "outputs": [
    {
     "data": {
      "application/vnd.plotly.v1+json": {
       "config": {
        "plotlyServerURL": "https://plot.ly"
       },
       "data": [
        {
         "hovertemplate": "%{meta}<br>%{x} years after graduation <br>Employed: %{y:.0f}%<extra></extra>",
         "meta": "Hbo-bachelor",
         "mode": "lines+markers",
         "name": "Hbo-bachelor",
         "type": "scatter",
         "x": [
          0,
          1,
          2,
          3,
          4,
          5
         ],
         "y": [
          88.39851431068385,
          88.6169980336465,
          87.30609569587065,
          86.27922219794625,
          85.44898405068822,
          84.96831986017042
         ]
        },
        {
         "hovertemplate": "%{meta}<br>%{x} years after graduation <br>Employed: %{y:.0f}%<extra></extra>",
         "meta": "Hbo-master",
         "mode": "lines+markers",
         "name": "Hbo-master",
         "type": "scatter",
         "x": [
          0,
          1,
          2,
          3,
          4,
          5
         ],
         "y": [
          91.66666666666667,
          91.66666666666667,
          91.66666666666667,
          88.88888888888889,
          86.11111111111111,
          86.11111111111111
         ]
        },
        {
         "hovertemplate": "%{meta}<br>%{x} years after graduation <br>Employed: %{y:.0f}%<extra></extra>",
         "meta": "Wo-bachelor",
         "mode": "lines+markers",
         "name": "Wo-bachelor",
         "type": "scatter",
         "x": [
          0,
          1,
          2,
          3,
          4,
          5
         ],
         "y": [
          68.79049676025917,
          40.92872570194385,
          38.120950323974085,
          37.79697624190065,
          38.012958963282934,
          37.79697624190065
         ]
        },
        {
         "hovertemplate": "%{meta}<br>%{x} years after graduation <br>Employed: %{y:.0f}%<extra></extra>",
         "meta": "Wo-master",
         "mode": "lines+markers",
         "name": "Wo-master",
         "type": "scatter",
         "x": [
          0,
          1,
          2,
          3,
          4,
          5
         ],
         "y": [
          83.0950378469302,
          91.79983179142137,
          91.71572750210261,
          91.37931034482757,
          90.91673675357443,
          90.66442388561816
         ]
        },
        {
         "hovertemplate": "%{meta}<br>%{x} years after graduation <br>Employed: %{y:.0f}%<extra></extra>",
         "line": {
          "color": "#3366CC"
         },
         "meta": "Healthcare",
         "mode": "lines+markers",
         "name": "Healthcare",
         "type": "scatter",
         "x": [
          0,
          1,
          2,
          3,
          4,
          5
         ],
         "y": [
          86.54073199527744,
          78.98465171192444,
          76.97756788665879,
          75.32467532467533,
          74.49822904368358,
          73.43565525383708
         ]
        },
        {
         "hovertemplate": "%{meta}<br>%{x} years after graduation <br>Employed: %{y:.0f}%<extra></extra>",
         "line": {
          "color": "#DC3912"
         },
         "meta": "Economics",
         "mode": "lines+markers",
         "name": "Economics",
         "type": "scatter",
         "x": [
          0,
          1,
          2,
          3,
          4,
          5
         ],
         "y": [
          85.52815262912983,
          86.45881805490926,
          85.99348534201954,
          85.80735225686365,
          85.20241973010702,
          85.5746859004188
         ]
        },
        {
         "hovertemplate": "%{meta}<br>%{x} years after graduation <br>Employed: %{y:.0f}%<extra></extra>",
         "line": {
          "color": "#FF9900"
         },
         "meta": "STEM",
         "mode": "lines+markers",
         "name": "STEM",
         "type": "scatter",
         "x": [
          0,
          1,
          2,
          3,
          4,
          5
         ],
         "y": [
          84.08163265306123,
          88.40816326530613,
          87.83673469387755,
          87.34693877551021,
          87.0204081632653,
          87.26530612244898
         ]
        },
        {
         "hovertemplate": "%{meta}<br>%{x} years after graduation <br>Employed: %{y:.0f}%<extra></extra>",
         "line": {
          "color": "#109618"
         },
         "meta": "Nature",
         "mode": "lines+markers",
         "name": "Nature",
         "type": "scatter",
         "x": [
          0,
          1,
          2,
          3,
          4,
          5
         ],
         "y": [
          75,
          75.73529411764706,
          74.26470588235294,
          74.63235294117646,
          73.16176470588236,
          71.69117647058825
         ]
        },
        {
         "hovertemplate": "%{meta}<br>%{x} years after graduation <br>Employed: %{y:.0f}%<extra></extra>",
         "line": {
          "color": "#990099"
         },
         "meta": "Law",
         "mode": "lines+markers",
         "name": "Law",
         "type": "scatter",
         "x": [
          0,
          1,
          2,
          3,
          4,
          5
         ],
         "y": [
          81.25,
          84.51086956521739,
          85.05434782608695,
          84.78260869565217,
          84.23913043478261,
          83.69565217391305
         ]
        },
        {
         "hovertemplate": "%{meta}<br>%{x} years after graduation <br>Employed: %{y:.0f}%<extra></extra>",
         "line": {
          "color": "#0099C6"
         },
         "meta": "Behaviour & Society",
         "mode": "lines+markers",
         "name": "Behaviour & Society",
         "type": "scatter",
         "x": [
          0,
          1,
          2,
          3,
          4,
          5
         ],
         "y": [
          85.96491228070175,
          83.96854204476709,
          82.3956442831216,
          81.30671506352087,
          80.8832425892317,
          80.21778584392015
         ]
        },
        {
         "hovertemplate": "%{meta}<br>%{x} years after graduation <br>Employed: %{y:.0f}%<extra></extra>",
         "line": {
          "color": "#DD4477"
         },
         "meta": "Education",
         "mode": "lines+markers",
         "name": "Education",
         "type": "scatter",
         "x": [
          0,
          1,
          2,
          3,
          4,
          5
         ],
         "y": [
          94.58413926499033,
          89.36170212765957,
          86.26692456479691,
          83.55899419729207,
          82.59187620889749,
          80.85106382978724
         ]
        },
        {
         "hovertemplate": "%{meta}<br>%{x} years after graduation <br>Employed: %{y:.0f}%<extra></extra>",
         "line": {
          "color": "#66AA00"
         },
         "meta": "Language & Culture",
         "mode": "lines+markers",
         "name": "Language & Culture",
         "type": "scatter",
         "x": [
          0,
          1,
          2,
          3,
          4,
          5
         ],
         "y": [
          77.36156351791531,
          77.0358306188925,
          75.8957654723127,
          74.9185667752443,
          73.7785016286645,
          73.77850162866449
         ]
        },
        {
         "hovertemplate": "%{meta}<br>%{x} years after graduation <br>Employed: %{y:.0f}%<extra></extra>",
         "line": {
          "color": "#B82E2E"
         },
         "meta": "Interdisciplinary",
         "mode": "lines+markers",
         "name": "Interdisciplinary",
         "type": "scatter",
         "x": [
          0,
          1,
          2,
          3,
          4,
          5
         ],
         "y": [
          60.714285714285715,
          32.14285714285714,
          32.14285714285714,
          35.714285714285715,
          37.5,
          35.714285714285715
         ]
        },
        {
         "hovertemplate": "%{meta}<br>%{x} years after graduation <br>Employed: %{y:.0f}%<extra></extra>",
         "line": {
          "color": "#316395"
         },
         "meta": "Agriculture",
         "mode": "lines+markers",
         "name": "Agriculture",
         "type": "scatter",
         "x": [
          0,
          1,
          2,
          3,
          4,
          5
         ],
         "y": [
          78.24074074074073,
          84.72222222222223,
          83.33333333333333,
          83.79629629629629,
          83.79629629629629,
          81.48148148148148
         ]
        }
       ],
       "layout": {
        "annotations": [
         {
          "align": "left",
          "font": {
           "size": 12
          },
          "showarrow": false,
          "text": "The line chart illustrates the percentage of students employed per year after graduation.<br>Each line represents a different field of study or level of education. The dropdown menu<br>allows you to filter the data based on field of study and level of education.",
          "x": 0,
          "xanchor": "left",
          "xref": "paper",
          "y": -0.3,
          "yanchor": "bottom",
          "yref": "paper"
         },
         {
          "arrowhead": 1,
          "font": {
           "size": 12
          },
          "showarrow": true,
          "text": "click to compare",
          "x": 1.1,
          "xanchor": "center",
          "xref": "paper",
          "y": 1,
          "yref": "paper"
         }
        ],
        "height": 700,
        "margin": {
         "b": 160,
         "t": 180
        },
        "template": {
         "data": {
          "bar": [
           {
            "error_x": {
             "color": "#2a3f5f"
            },
            "error_y": {
             "color": "#2a3f5f"
            },
            "marker": {
             "line": {
              "color": "#E5ECF6",
              "width": 0.5
             },
             "pattern": {
              "fillmode": "overlay",
              "size": 10,
              "solidity": 0.2
             }
            },
            "type": "bar"
           }
          ],
          "barpolar": [
           {
            "marker": {
             "line": {
              "color": "#E5ECF6",
              "width": 0.5
             },
             "pattern": {
              "fillmode": "overlay",
              "size": 10,
              "solidity": 0.2
             }
            },
            "type": "barpolar"
           }
          ],
          "carpet": [
           {
            "aaxis": {
             "endlinecolor": "#2a3f5f",
             "gridcolor": "white",
             "linecolor": "white",
             "minorgridcolor": "white",
             "startlinecolor": "#2a3f5f"
            },
            "baxis": {
             "endlinecolor": "#2a3f5f",
             "gridcolor": "white",
             "linecolor": "white",
             "minorgridcolor": "white",
             "startlinecolor": "#2a3f5f"
            },
            "type": "carpet"
           }
          ],
          "choropleth": [
           {
            "colorbar": {
             "outlinewidth": 0,
             "ticks": ""
            },
            "type": "choropleth"
           }
          ],
          "contour": [
           {
            "colorbar": {
             "outlinewidth": 0,
             "ticks": ""
            },
            "colorscale": [
             [
              0,
              "#0d0887"
             ],
             [
              0.1111111111111111,
              "#46039f"
             ],
             [
              0.2222222222222222,
              "#7201a8"
             ],
             [
              0.3333333333333333,
              "#9c179e"
             ],
             [
              0.4444444444444444,
              "#bd3786"
             ],
             [
              0.5555555555555556,
              "#d8576b"
             ],
             [
              0.6666666666666666,
              "#ed7953"
             ],
             [
              0.7777777777777778,
              "#fb9f3a"
             ],
             [
              0.8888888888888888,
              "#fdca26"
             ],
             [
              1,
              "#f0f921"
             ]
            ],
            "type": "contour"
           }
          ],
          "contourcarpet": [
           {
            "colorbar": {
             "outlinewidth": 0,
             "ticks": ""
            },
            "type": "contourcarpet"
           }
          ],
          "heatmap": [
           {
            "colorbar": {
             "outlinewidth": 0,
             "ticks": ""
            },
            "colorscale": [
             [
              0,
              "#0d0887"
             ],
             [
              0.1111111111111111,
              "#46039f"
             ],
             [
              0.2222222222222222,
              "#7201a8"
             ],
             [
              0.3333333333333333,
              "#9c179e"
             ],
             [
              0.4444444444444444,
              "#bd3786"
             ],
             [
              0.5555555555555556,
              "#d8576b"
             ],
             [
              0.6666666666666666,
              "#ed7953"
             ],
             [
              0.7777777777777778,
              "#fb9f3a"
             ],
             [
              0.8888888888888888,
              "#fdca26"
             ],
             [
              1,
              "#f0f921"
             ]
            ],
            "type": "heatmap"
           }
          ],
          "heatmapgl": [
           {
            "colorbar": {
             "outlinewidth": 0,
             "ticks": ""
            },
            "colorscale": [
             [
              0,
              "#0d0887"
             ],
             [
              0.1111111111111111,
              "#46039f"
             ],
             [
              0.2222222222222222,
              "#7201a8"
             ],
             [
              0.3333333333333333,
              "#9c179e"
             ],
             [
              0.4444444444444444,
              "#bd3786"
             ],
             [
              0.5555555555555556,
              "#d8576b"
             ],
             [
              0.6666666666666666,
              "#ed7953"
             ],
             [
              0.7777777777777778,
              "#fb9f3a"
             ],
             [
              0.8888888888888888,
              "#fdca26"
             ],
             [
              1,
              "#f0f921"
             ]
            ],
            "type": "heatmapgl"
           }
          ],
          "histogram": [
           {
            "marker": {
             "pattern": {
              "fillmode": "overlay",
              "size": 10,
              "solidity": 0.2
             }
            },
            "type": "histogram"
           }
          ],
          "histogram2d": [
           {
            "colorbar": {
             "outlinewidth": 0,
             "ticks": ""
            },
            "colorscale": [
             [
              0,
              "#0d0887"
             ],
             [
              0.1111111111111111,
              "#46039f"
             ],
             [
              0.2222222222222222,
              "#7201a8"
             ],
             [
              0.3333333333333333,
              "#9c179e"
             ],
             [
              0.4444444444444444,
              "#bd3786"
             ],
             [
              0.5555555555555556,
              "#d8576b"
             ],
             [
              0.6666666666666666,
              "#ed7953"
             ],
             [
              0.7777777777777778,
              "#fb9f3a"
             ],
             [
              0.8888888888888888,
              "#fdca26"
             ],
             [
              1,
              "#f0f921"
             ]
            ],
            "type": "histogram2d"
           }
          ],
          "histogram2dcontour": [
           {
            "colorbar": {
             "outlinewidth": 0,
             "ticks": ""
            },
            "colorscale": [
             [
              0,
              "#0d0887"
             ],
             [
              0.1111111111111111,
              "#46039f"
             ],
             [
              0.2222222222222222,
              "#7201a8"
             ],
             [
              0.3333333333333333,
              "#9c179e"
             ],
             [
              0.4444444444444444,
              "#bd3786"
             ],
             [
              0.5555555555555556,
              "#d8576b"
             ],
             [
              0.6666666666666666,
              "#ed7953"
             ],
             [
              0.7777777777777778,
              "#fb9f3a"
             ],
             [
              0.8888888888888888,
              "#fdca26"
             ],
             [
              1,
              "#f0f921"
             ]
            ],
            "type": "histogram2dcontour"
           }
          ],
          "mesh3d": [
           {
            "colorbar": {
             "outlinewidth": 0,
             "ticks": ""
            },
            "type": "mesh3d"
           }
          ],
          "parcoords": [
           {
            "line": {
             "colorbar": {
              "outlinewidth": 0,
              "ticks": ""
             }
            },
            "type": "parcoords"
           }
          ],
          "pie": [
           {
            "automargin": true,
            "type": "pie"
           }
          ],
          "scatter": [
           {
            "fillpattern": {
             "fillmode": "overlay",
             "size": 10,
             "solidity": 0.2
            },
            "type": "scatter"
           }
          ],
          "scatter3d": [
           {
            "line": {
             "colorbar": {
              "outlinewidth": 0,
              "ticks": ""
             }
            },
            "marker": {
             "colorbar": {
              "outlinewidth": 0,
              "ticks": ""
             }
            },
            "type": "scatter3d"
           }
          ],
          "scattercarpet": [
           {
            "marker": {
             "colorbar": {
              "outlinewidth": 0,
              "ticks": ""
             }
            },
            "type": "scattercarpet"
           }
          ],
          "scattergeo": [
           {
            "marker": {
             "colorbar": {
              "outlinewidth": 0,
              "ticks": ""
             }
            },
            "type": "scattergeo"
           }
          ],
          "scattergl": [
           {
            "marker": {
             "colorbar": {
              "outlinewidth": 0,
              "ticks": ""
             }
            },
            "type": "scattergl"
           }
          ],
          "scattermapbox": [
           {
            "marker": {
             "colorbar": {
              "outlinewidth": 0,
              "ticks": ""
             }
            },
            "type": "scattermapbox"
           }
          ],
          "scatterpolar": [
           {
            "marker": {
             "colorbar": {
              "outlinewidth": 0,
              "ticks": ""
             }
            },
            "type": "scatterpolar"
           }
          ],
          "scatterpolargl": [
           {
            "marker": {
             "colorbar": {
              "outlinewidth": 0,
              "ticks": ""
             }
            },
            "type": "scatterpolargl"
           }
          ],
          "scatterternary": [
           {
            "marker": {
             "colorbar": {
              "outlinewidth": 0,
              "ticks": ""
             }
            },
            "type": "scatterternary"
           }
          ],
          "surface": [
           {
            "colorbar": {
             "outlinewidth": 0,
             "ticks": ""
            },
            "colorscale": [
             [
              0,
              "#0d0887"
             ],
             [
              0.1111111111111111,
              "#46039f"
             ],
             [
              0.2222222222222222,
              "#7201a8"
             ],
             [
              0.3333333333333333,
              "#9c179e"
             ],
             [
              0.4444444444444444,
              "#bd3786"
             ],
             [
              0.5555555555555556,
              "#d8576b"
             ],
             [
              0.6666666666666666,
              "#ed7953"
             ],
             [
              0.7777777777777778,
              "#fb9f3a"
             ],
             [
              0.8888888888888888,
              "#fdca26"
             ],
             [
              1,
              "#f0f921"
             ]
            ],
            "type": "surface"
           }
          ],
          "table": [
           {
            "cells": {
             "fill": {
              "color": "#EBF0F8"
             },
             "line": {
              "color": "white"
             }
            },
            "header": {
             "fill": {
              "color": "#C8D4E3"
             },
             "line": {
              "color": "white"
             }
            },
            "type": "table"
           }
          ]
         },
         "layout": {
          "annotationdefaults": {
           "arrowcolor": "#2a3f5f",
           "arrowhead": 0,
           "arrowwidth": 1
          },
          "autotypenumbers": "strict",
          "coloraxis": {
           "colorbar": {
            "outlinewidth": 0,
            "ticks": ""
           }
          },
          "colorscale": {
           "diverging": [
            [
             0,
             "#8e0152"
            ],
            [
             0.1,
             "#c51b7d"
            ],
            [
             0.2,
             "#de77ae"
            ],
            [
             0.3,
             "#f1b6da"
            ],
            [
             0.4,
             "#fde0ef"
            ],
            [
             0.5,
             "#f7f7f7"
            ],
            [
             0.6,
             "#e6f5d0"
            ],
            [
             0.7,
             "#b8e186"
            ],
            [
             0.8,
             "#7fbc41"
            ],
            [
             0.9,
             "#4d9221"
            ],
            [
             1,
             "#276419"
            ]
           ],
           "sequential": [
            [
             0,
             "#0d0887"
            ],
            [
             0.1111111111111111,
             "#46039f"
            ],
            [
             0.2222222222222222,
             "#7201a8"
            ],
            [
             0.3333333333333333,
             "#9c179e"
            ],
            [
             0.4444444444444444,
             "#bd3786"
            ],
            [
             0.5555555555555556,
             "#d8576b"
            ],
            [
             0.6666666666666666,
             "#ed7953"
            ],
            [
             0.7777777777777778,
             "#fb9f3a"
            ],
            [
             0.8888888888888888,
             "#fdca26"
            ],
            [
             1,
             "#f0f921"
            ]
           ],
           "sequentialminus": [
            [
             0,
             "#0d0887"
            ],
            [
             0.1111111111111111,
             "#46039f"
            ],
            [
             0.2222222222222222,
             "#7201a8"
            ],
            [
             0.3333333333333333,
             "#9c179e"
            ],
            [
             0.4444444444444444,
             "#bd3786"
            ],
            [
             0.5555555555555556,
             "#d8576b"
            ],
            [
             0.6666666666666666,
             "#ed7953"
            ],
            [
             0.7777777777777778,
             "#fb9f3a"
            ],
            [
             0.8888888888888888,
             "#fdca26"
            ],
            [
             1,
             "#f0f921"
            ]
           ]
          },
          "colorway": [
           "#636efa",
           "#EF553B",
           "#00cc96",
           "#ab63fa",
           "#FFA15A",
           "#19d3f3",
           "#FF6692",
           "#B6E880",
           "#FF97FF",
           "#FECB52"
          ],
          "font": {
           "color": "#2a3f5f"
          },
          "geo": {
           "bgcolor": "white",
           "lakecolor": "white",
           "landcolor": "#E5ECF6",
           "showlakes": true,
           "showland": true,
           "subunitcolor": "white"
          },
          "hoverlabel": {
           "align": "left"
          },
          "hovermode": "closest",
          "mapbox": {
           "style": "light"
          },
          "paper_bgcolor": "white",
          "plot_bgcolor": "#E5ECF6",
          "polar": {
           "angularaxis": {
            "gridcolor": "white",
            "linecolor": "white",
            "ticks": ""
           },
           "bgcolor": "#E5ECF6",
           "radialaxis": {
            "gridcolor": "white",
            "linecolor": "white",
            "ticks": ""
           }
          },
          "scene": {
           "xaxis": {
            "backgroundcolor": "#E5ECF6",
            "gridcolor": "white",
            "gridwidth": 2,
            "linecolor": "white",
            "showbackground": true,
            "ticks": "",
            "zerolinecolor": "white"
           },
           "yaxis": {
            "backgroundcolor": "#E5ECF6",
            "gridcolor": "white",
            "gridwidth": 2,
            "linecolor": "white",
            "showbackground": true,
            "ticks": "",
            "zerolinecolor": "white"
           },
           "zaxis": {
            "backgroundcolor": "#E5ECF6",
            "gridcolor": "white",
            "gridwidth": 2,
            "linecolor": "white",
            "showbackground": true,
            "ticks": "",
            "zerolinecolor": "white"
           }
          },
          "shapedefaults": {
           "line": {
            "color": "#2a3f5f"
           }
          },
          "ternary": {
           "aaxis": {
            "gridcolor": "white",
            "linecolor": "white",
            "ticks": ""
           },
           "baxis": {
            "gridcolor": "white",
            "linecolor": "white",
            "ticks": ""
           },
           "bgcolor": "#E5ECF6",
           "caxis": {
            "gridcolor": "white",
            "linecolor": "white",
            "ticks": ""
           }
          },
          "title": {
           "x": 0.05
          },
          "xaxis": {
           "automargin": true,
           "gridcolor": "white",
           "linecolor": "white",
           "ticks": "",
           "title": {
            "standoff": 15
           },
           "zerolinecolor": "white",
           "zerolinewidth": 2
          },
          "yaxis": {
           "automargin": true,
           "gridcolor": "white",
           "linecolor": "white",
           "ticks": "",
           "title": {
            "standoff": 15
           },
           "zerolinecolor": "white",
           "zerolinewidth": 2
          }
         }
        },
        "title": {
         "text": "Employment Rates based on level of education or field of study<br><sub>Hbo students are the majority of students employed each year</sub>",
         "x": 0,
         "xanchor": "left",
         "y": 0.9,
         "yanchor": "bottom"
        },
        "updatemenus": [
         {
          "active": 0,
          "buttons": [
           {
            "args": [
             {
              "visible": [
               true,
               true,
               true,
               true,
               true,
               true,
               true,
               true,
               true,
               true,
               true,
               true,
               true,
               true
              ]
             },
             {
              "title": "Employment Rates based on level of education or field of study"
             }
            ],
            "label": "All",
            "method": "update"
           },
           {
            "args": [
             {
              "visible": [
               true,
               true,
               true,
               true,
               false,
               false,
               false,
               false,
               false,
               false,
               false,
               false,
               false,
               false
              ]
             },
             {
              "title": "Employment rate based on level of education"
             }
            ],
            "label": "Level of education",
            "method": "update"
           },
           {
            "args": [
             {
              "visible": [
               false,
               false,
               false,
               false,
               true,
               true,
               true,
               true,
               true,
               true,
               true,
               true,
               true,
               true
              ]
             },
             {
              "title": "Employment rate based on field of study"
             }
            ],
            "label": "Field of study",
            "method": "update"
           }
          ],
          "x": 0,
          "xanchor": "left",
          "y": 1.1,
          "yanchor": "top"
         }
        ],
        "xaxis": {
         "title": {
          "text": "Years after leaving university"
         }
        },
        "yaxis": {
         "tickformat": ",.",
         "ticksuffix": "%",
         "title": {
          "text": "Graduates employed"
         },
         "type": "linear"
        }
       }
      }
     },
     "metadata": {},
     "output_type": "display_data"
    }
   ],
   "source": [
    "%run ../notebooks/linechart_jobmarket.ipynb"
   ]
  },
  {
   "cell_type": "markdown",
   "metadata": {},
   "source": [
    "Visible in the graph is that for most fields of study, the percentage of student finding a job remains roughly the same, has a slight decrease throughout the year or start with a increase and then decreases slightly. For example, Wo bachelor has a decrease right from the start but wo masters starts with a increase and then decreases slightly."
   ]
  },
  {
   "cell_type": "markdown",
   "metadata": {},
   "source": [
    "## Differences between sexes"
   ]
  },
  {
   "cell_type": "markdown",
   "metadata": {},
   "source": [
    "We wanted to explore the differences between males and females in their choice of degree subjects and the impact this has on their average wages and positions in the labour market.\n",
    "\n",
    "The choice of degree subject has a significant impact on average wages post-graduation. Typically, degrees in STEM (Science, Technology, Engineering, and Mathematics) fields, which are predominantly chosen by males, tend to offer higher starting salaries compared to degrees in fields like education and social sciences, which attract more females. "
   ]
  },
  {
   "cell_type": "code",
   "execution_count": 139,
   "metadata": {
    "tags": [
     "remove-input"
    ]
   },
   "outputs": [
    {
     "name": "stdout",
     "output_type": "stream",
     "text": [
      "None\n"
     ]
    },
    {
     "data": {
      "application/vnd.plotly.v1+json": {
       "config": {
        "plotlyServerURL": "https://plot.ly"
       },
       "data": [
        {
         "branchvalues": "total",
         "hoverinfo": "value+text",
         "hovertext": "graduates",
         "insidetextfont": {
          "size": 20
         },
         "labels": [
          "Men",
          "Economics ♂",
          "Behaviour & Society ♂",
          "Healthcare ♂",
          "Agriculture ♂",
          "Nature ♂",
          "Education ♂",
          "Law ♂",
          "Other ♂",
          "Language & Culture ♂",
          "STEM ♂",
          "Women",
          "Economics ♀",
          "Behaviour & Society ♀",
          "Healthcare ♀",
          "Agriculture ♀",
          "Nature ♀",
          "Education ♀",
          "Law ♀",
          "Other ♀",
          "Language & Culture ♀",
          "STEM ♀"
         ],
         "parents": [
          "",
          "Men",
          "Men",
          "Men",
          "Men",
          "Men",
          "Men",
          "Men",
          "Men",
          "Men",
          "Men",
          "",
          "Women",
          "Women",
          "Women",
          "Women",
          "Women",
          "Women",
          "Women",
          "Women",
          "Women",
          "Women"
         ],
         "type": "sunburst",
         "values": [
          35170,
          11690,
          3830,
          1930,
          1050,
          1730,
          1340,
          1400,
          200,
          2300,
          9700,
          44000,
          9800,
          12700,
          6540,
          1110,
          990,
          3830,
          2280,
          360,
          3840,
          2550
         ]
        }
       ],
       "layout": {
        "annotations": [
         {
          "align": "left",
          "font": {
           "size": 12
          },
          "showarrow": false,
          "text": "The sunburst illustrates the distribution of fields of study among men and women.<br>The chart shows that the stereotypical gender distribution aligns partly with our data.",
          "x": 0,
          "xanchor": "left",
          "xref": "paper",
          "y": -0.15,
          "yanchor": "bottom",
          "yref": "paper"
         }
        ],
        "height": 600,
        "margin": {
         "b": 100,
         "l": 25,
         "r": 25,
         "t": 50
        },
        "template": {
         "data": {
          "bar": [
           {
            "error_x": {
             "color": "#2a3f5f"
            },
            "error_y": {
             "color": "#2a3f5f"
            },
            "marker": {
             "line": {
              "color": "#E5ECF6",
              "width": 0.5
             },
             "pattern": {
              "fillmode": "overlay",
              "size": 10,
              "solidity": 0.2
             }
            },
            "type": "bar"
           }
          ],
          "barpolar": [
           {
            "marker": {
             "line": {
              "color": "#E5ECF6",
              "width": 0.5
             },
             "pattern": {
              "fillmode": "overlay",
              "size": 10,
              "solidity": 0.2
             }
            },
            "type": "barpolar"
           }
          ],
          "carpet": [
           {
            "aaxis": {
             "endlinecolor": "#2a3f5f",
             "gridcolor": "white",
             "linecolor": "white",
             "minorgridcolor": "white",
             "startlinecolor": "#2a3f5f"
            },
            "baxis": {
             "endlinecolor": "#2a3f5f",
             "gridcolor": "white",
             "linecolor": "white",
             "minorgridcolor": "white",
             "startlinecolor": "#2a3f5f"
            },
            "type": "carpet"
           }
          ],
          "choropleth": [
           {
            "colorbar": {
             "outlinewidth": 0,
             "ticks": ""
            },
            "type": "choropleth"
           }
          ],
          "contour": [
           {
            "colorbar": {
             "outlinewidth": 0,
             "ticks": ""
            },
            "colorscale": [
             [
              0,
              "#0d0887"
             ],
             [
              0.1111111111111111,
              "#46039f"
             ],
             [
              0.2222222222222222,
              "#7201a8"
             ],
             [
              0.3333333333333333,
              "#9c179e"
             ],
             [
              0.4444444444444444,
              "#bd3786"
             ],
             [
              0.5555555555555556,
              "#d8576b"
             ],
             [
              0.6666666666666666,
              "#ed7953"
             ],
             [
              0.7777777777777778,
              "#fb9f3a"
             ],
             [
              0.8888888888888888,
              "#fdca26"
             ],
             [
              1,
              "#f0f921"
             ]
            ],
            "type": "contour"
           }
          ],
          "contourcarpet": [
           {
            "colorbar": {
             "outlinewidth": 0,
             "ticks": ""
            },
            "type": "contourcarpet"
           }
          ],
          "heatmap": [
           {
            "colorbar": {
             "outlinewidth": 0,
             "ticks": ""
            },
            "colorscale": [
             [
              0,
              "#0d0887"
             ],
             [
              0.1111111111111111,
              "#46039f"
             ],
             [
              0.2222222222222222,
              "#7201a8"
             ],
             [
              0.3333333333333333,
              "#9c179e"
             ],
             [
              0.4444444444444444,
              "#bd3786"
             ],
             [
              0.5555555555555556,
              "#d8576b"
             ],
             [
              0.6666666666666666,
              "#ed7953"
             ],
             [
              0.7777777777777778,
              "#fb9f3a"
             ],
             [
              0.8888888888888888,
              "#fdca26"
             ],
             [
              1,
              "#f0f921"
             ]
            ],
            "type": "heatmap"
           }
          ],
          "heatmapgl": [
           {
            "colorbar": {
             "outlinewidth": 0,
             "ticks": ""
            },
            "colorscale": [
             [
              0,
              "#0d0887"
             ],
             [
              0.1111111111111111,
              "#46039f"
             ],
             [
              0.2222222222222222,
              "#7201a8"
             ],
             [
              0.3333333333333333,
              "#9c179e"
             ],
             [
              0.4444444444444444,
              "#bd3786"
             ],
             [
              0.5555555555555556,
              "#d8576b"
             ],
             [
              0.6666666666666666,
              "#ed7953"
             ],
             [
              0.7777777777777778,
              "#fb9f3a"
             ],
             [
              0.8888888888888888,
              "#fdca26"
             ],
             [
              1,
              "#f0f921"
             ]
            ],
            "type": "heatmapgl"
           }
          ],
          "histogram": [
           {
            "marker": {
             "pattern": {
              "fillmode": "overlay",
              "size": 10,
              "solidity": 0.2
             }
            },
            "type": "histogram"
           }
          ],
          "histogram2d": [
           {
            "colorbar": {
             "outlinewidth": 0,
             "ticks": ""
            },
            "colorscale": [
             [
              0,
              "#0d0887"
             ],
             [
              0.1111111111111111,
              "#46039f"
             ],
             [
              0.2222222222222222,
              "#7201a8"
             ],
             [
              0.3333333333333333,
              "#9c179e"
             ],
             [
              0.4444444444444444,
              "#bd3786"
             ],
             [
              0.5555555555555556,
              "#d8576b"
             ],
             [
              0.6666666666666666,
              "#ed7953"
             ],
             [
              0.7777777777777778,
              "#fb9f3a"
             ],
             [
              0.8888888888888888,
              "#fdca26"
             ],
             [
              1,
              "#f0f921"
             ]
            ],
            "type": "histogram2d"
           }
          ],
          "histogram2dcontour": [
           {
            "colorbar": {
             "outlinewidth": 0,
             "ticks": ""
            },
            "colorscale": [
             [
              0,
              "#0d0887"
             ],
             [
              0.1111111111111111,
              "#46039f"
             ],
             [
              0.2222222222222222,
              "#7201a8"
             ],
             [
              0.3333333333333333,
              "#9c179e"
             ],
             [
              0.4444444444444444,
              "#bd3786"
             ],
             [
              0.5555555555555556,
              "#d8576b"
             ],
             [
              0.6666666666666666,
              "#ed7953"
             ],
             [
              0.7777777777777778,
              "#fb9f3a"
             ],
             [
              0.8888888888888888,
              "#fdca26"
             ],
             [
              1,
              "#f0f921"
             ]
            ],
            "type": "histogram2dcontour"
           }
          ],
          "mesh3d": [
           {
            "colorbar": {
             "outlinewidth": 0,
             "ticks": ""
            },
            "type": "mesh3d"
           }
          ],
          "parcoords": [
           {
            "line": {
             "colorbar": {
              "outlinewidth": 0,
              "ticks": ""
             }
            },
            "type": "parcoords"
           }
          ],
          "pie": [
           {
            "automargin": true,
            "type": "pie"
           }
          ],
          "scatter": [
           {
            "fillpattern": {
             "fillmode": "overlay",
             "size": 10,
             "solidity": 0.2
            },
            "type": "scatter"
           }
          ],
          "scatter3d": [
           {
            "line": {
             "colorbar": {
              "outlinewidth": 0,
              "ticks": ""
             }
            },
            "marker": {
             "colorbar": {
              "outlinewidth": 0,
              "ticks": ""
             }
            },
            "type": "scatter3d"
           }
          ],
          "scattercarpet": [
           {
            "marker": {
             "colorbar": {
              "outlinewidth": 0,
              "ticks": ""
             }
            },
            "type": "scattercarpet"
           }
          ],
          "scattergeo": [
           {
            "marker": {
             "colorbar": {
              "outlinewidth": 0,
              "ticks": ""
             }
            },
            "type": "scattergeo"
           }
          ],
          "scattergl": [
           {
            "marker": {
             "colorbar": {
              "outlinewidth": 0,
              "ticks": ""
             }
            },
            "type": "scattergl"
           }
          ],
          "scattermapbox": [
           {
            "marker": {
             "colorbar": {
              "outlinewidth": 0,
              "ticks": ""
             }
            },
            "type": "scattermapbox"
           }
          ],
          "scatterpolar": [
           {
            "marker": {
             "colorbar": {
              "outlinewidth": 0,
              "ticks": ""
             }
            },
            "type": "scatterpolar"
           }
          ],
          "scatterpolargl": [
           {
            "marker": {
             "colorbar": {
              "outlinewidth": 0,
              "ticks": ""
             }
            },
            "type": "scatterpolargl"
           }
          ],
          "scatterternary": [
           {
            "marker": {
             "colorbar": {
              "outlinewidth": 0,
              "ticks": ""
             }
            },
            "type": "scatterternary"
           }
          ],
          "surface": [
           {
            "colorbar": {
             "outlinewidth": 0,
             "ticks": ""
            },
            "colorscale": [
             [
              0,
              "#0d0887"
             ],
             [
              0.1111111111111111,
              "#46039f"
             ],
             [
              0.2222222222222222,
              "#7201a8"
             ],
             [
              0.3333333333333333,
              "#9c179e"
             ],
             [
              0.4444444444444444,
              "#bd3786"
             ],
             [
              0.5555555555555556,
              "#d8576b"
             ],
             [
              0.6666666666666666,
              "#ed7953"
             ],
             [
              0.7777777777777778,
              "#fb9f3a"
             ],
             [
              0.8888888888888888,
              "#fdca26"
             ],
             [
              1,
              "#f0f921"
             ]
            ],
            "type": "surface"
           }
          ],
          "table": [
           {
            "cells": {
             "fill": {
              "color": "#EBF0F8"
             },
             "line": {
              "color": "white"
             }
            },
            "header": {
             "fill": {
              "color": "#C8D4E3"
             },
             "line": {
              "color": "white"
             }
            },
            "type": "table"
           }
          ]
         },
         "layout": {
          "annotationdefaults": {
           "arrowcolor": "#2a3f5f",
           "arrowhead": 0,
           "arrowwidth": 1
          },
          "autotypenumbers": "strict",
          "coloraxis": {
           "colorbar": {
            "outlinewidth": 0,
            "ticks": ""
           }
          },
          "colorscale": {
           "diverging": [
            [
             0,
             "#8e0152"
            ],
            [
             0.1,
             "#c51b7d"
            ],
            [
             0.2,
             "#de77ae"
            ],
            [
             0.3,
             "#f1b6da"
            ],
            [
             0.4,
             "#fde0ef"
            ],
            [
             0.5,
             "#f7f7f7"
            ],
            [
             0.6,
             "#e6f5d0"
            ],
            [
             0.7,
             "#b8e186"
            ],
            [
             0.8,
             "#7fbc41"
            ],
            [
             0.9,
             "#4d9221"
            ],
            [
             1,
             "#276419"
            ]
           ],
           "sequential": [
            [
             0,
             "#0d0887"
            ],
            [
             0.1111111111111111,
             "#46039f"
            ],
            [
             0.2222222222222222,
             "#7201a8"
            ],
            [
             0.3333333333333333,
             "#9c179e"
            ],
            [
             0.4444444444444444,
             "#bd3786"
            ],
            [
             0.5555555555555556,
             "#d8576b"
            ],
            [
             0.6666666666666666,
             "#ed7953"
            ],
            [
             0.7777777777777778,
             "#fb9f3a"
            ],
            [
             0.8888888888888888,
             "#fdca26"
            ],
            [
             1,
             "#f0f921"
            ]
           ],
           "sequentialminus": [
            [
             0,
             "#0d0887"
            ],
            [
             0.1111111111111111,
             "#46039f"
            ],
            [
             0.2222222222222222,
             "#7201a8"
            ],
            [
             0.3333333333333333,
             "#9c179e"
            ],
            [
             0.4444444444444444,
             "#bd3786"
            ],
            [
             0.5555555555555556,
             "#d8576b"
            ],
            [
             0.6666666666666666,
             "#ed7953"
            ],
            [
             0.7777777777777778,
             "#fb9f3a"
            ],
            [
             0.8888888888888888,
             "#fdca26"
            ],
            [
             1,
             "#f0f921"
            ]
           ]
          },
          "colorway": [
           "#636efa",
           "#EF553B",
           "#00cc96",
           "#ab63fa",
           "#FFA15A",
           "#19d3f3",
           "#FF6692",
           "#B6E880",
           "#FF97FF",
           "#FECB52"
          ],
          "font": {
           "color": "#2a3f5f"
          },
          "geo": {
           "bgcolor": "white",
           "lakecolor": "white",
           "landcolor": "#E5ECF6",
           "showlakes": true,
           "showland": true,
           "subunitcolor": "white"
          },
          "hoverlabel": {
           "align": "left"
          },
          "hovermode": "closest",
          "mapbox": {
           "style": "light"
          },
          "paper_bgcolor": "white",
          "plot_bgcolor": "#E5ECF6",
          "polar": {
           "angularaxis": {
            "gridcolor": "white",
            "linecolor": "white",
            "ticks": ""
           },
           "bgcolor": "#E5ECF6",
           "radialaxis": {
            "gridcolor": "white",
            "linecolor": "white",
            "ticks": ""
           }
          },
          "scene": {
           "xaxis": {
            "backgroundcolor": "#E5ECF6",
            "gridcolor": "white",
            "gridwidth": 2,
            "linecolor": "white",
            "showbackground": true,
            "ticks": "",
            "zerolinecolor": "white"
           },
           "yaxis": {
            "backgroundcolor": "#E5ECF6",
            "gridcolor": "white",
            "gridwidth": 2,
            "linecolor": "white",
            "showbackground": true,
            "ticks": "",
            "zerolinecolor": "white"
           },
           "zaxis": {
            "backgroundcolor": "#E5ECF6",
            "gridcolor": "white",
            "gridwidth": 2,
            "linecolor": "white",
            "showbackground": true,
            "ticks": "",
            "zerolinecolor": "white"
           }
          },
          "shapedefaults": {
           "line": {
            "color": "#2a3f5f"
           }
          },
          "ternary": {
           "aaxis": {
            "gridcolor": "white",
            "linecolor": "white",
            "ticks": ""
           },
           "baxis": {
            "gridcolor": "white",
            "linecolor": "white",
            "ticks": ""
           },
           "bgcolor": "#E5ECF6",
           "caxis": {
            "gridcolor": "white",
            "linecolor": "white",
            "ticks": ""
           }
          },
          "title": {
           "x": 0.05
          },
          "xaxis": {
           "automargin": true,
           "gridcolor": "white",
           "linecolor": "white",
           "ticks": "",
           "title": {
            "standoff": 15
           },
           "zerolinecolor": "white",
           "zerolinewidth": 2
          },
          "yaxis": {
           "automargin": true,
           "gridcolor": "white",
           "linecolor": "white",
           "ticks": "",
           "title": {
            "standoff": 15
           },
           "zerolinecolor": "white",
           "zerolinewidth": 2
          }
         }
        },
        "title": {
         "text": "Study subject by sex<br><sup>Women favour Behaviour & Society and men STEM"
        }
       }
      }
     },
     "metadata": {},
     "output_type": "display_data"
    }
   ],
   "source": [
    "%run ../notebooks/sunburst.ipynb"
   ]
  },
  {
   "cell_type": "markdown",
   "metadata": {},
   "source": [
    "The sunburst chart shows which degree subjects women and men study most. We can compare how these differ between the sexes. To follow this up we will look at the difference in wage between sexes per study subject."
   ]
  },
  {
   "cell_type": "markdown",
   "metadata": {},
   "source": [
    "Historically, certain degree subjects have been dominated by one gender. For example, males are more likely to pursue degrees in engineering, computer science, and physical sciences, while females are more commonly found in education, nursing, and social sciences. This is reconfirmed in our chart, as can be seen especially in the STEM category. \n",
    "\n",
    "As seen earlier, STEM is the field with the best labor market position."
   ]
  },
  {
   "cell_type": "code",
   "execution_count": 138,
   "metadata": {
    "tags": [
     "remove-input"
    ]
   },
   "outputs": [
    {
     "data": {
      "application/vnd.plotly.v1+json": {
       "config": {
        "plotlyServerURL": "https://plot.ly"
       },
       "data": [
        {
         "name": "Male",
         "type": "box",
         "y": [
          18.18,
          19.08,
          20.58,
          21.36,
          22.92,
          24.14,
          14.54,
          16.1,
          17.71,
          19.18,
          20.94,
          22.44,
          null,
          null,
          null,
          null,
          null,
          null,
          15.32,
          16.59,
          18.43,
          20.22,
          22.22,
          23.8,
          17.14,
          18.93,
          20.56,
          22,
          23.46,
          24.93,
          13.99,
          15.33,
          17.16,
          19.04,
          20.95,
          22.73,
          null,
          null,
          null,
          null,
          null,
          null,
          14.51,
          16.37,
          18.28,
          19.84,
          21.37,
          22.92,
          12.18,
          13.27,
          14.95,
          16.55,
          17.96,
          19.69,
          null,
          null,
          null,
          null,
          null,
          null,
          null,
          null,
          null,
          null,
          null,
          null,
          null,
          null,
          null,
          null,
          null,
          null,
          null,
          null,
          null,
          null,
          null,
          null,
          null,
          null,
          null,
          null,
          null,
          null,
          null,
          null,
          null,
          null,
          null,
          null,
          null,
          null,
          null,
          null,
          null,
          null,
          null,
          null,
          null,
          null,
          null,
          null,
          null,
          null,
          null,
          null,
          null,
          null,
          14.42,
          16.37,
          18.08,
          21.51,
          22.18,
          24.52,
          null,
          null,
          null,
          null,
          null,
          null,
          null,
          null,
          null,
          null,
          null,
          null,
          12.26,
          15.22,
          16.49,
          17.92,
          20.21,
          21.78,
          13.91,
          16.47,
          18.76,
          20.8,
          22.56,
          24.72,
          14.86,
          17.82,
          19.87,
          21.57,
          24.29,
          26.67,
          13.95,
          18.72,
          20.73,
          23.53,
          25.34,
          26.2,
          13.75,
          16.41,
          18.31,
          20.76,
          23.62,
          25.6,
          13.62,
          16.28,
          18.63,
          21.08,
          23.46,
          26.3,
          12.63,
          15.37,
          17.26,
          20,
          22.06,
          24.12,
          13.27,
          14.55,
          16.05,
          17.48,
          19.53,
          21.09,
          11.57,
          13.06,
          16.14,
          17.93,
          19.62,
          21.99,
          null,
          null,
          null,
          null,
          null,
          null,
          15.91,
          18.11,
          19.43,
          20.81,
          22.81,
          25.06,
          16.62,
          18.16,
          20.37,
          22.42,
          25.34,
          28.07,
          17.72,
          19.04,
          21.12,
          23.41,
          25.85,
          28.51,
          16.29,
          18.35,
          20.32,
          22.42,
          24.71,
          27.51,
          17.12,
          18.38,
          21.13,
          23.6,
          26.49,
          29.67,
          16.92,
          18.89,
          20.98,
          23.48,
          26.84,
          29.5,
          15.34,
          17.7,
          19.71,
          22.3,
          25.17,
          27.41,
          14.84,
          16.38,
          18.74,
          20.78,
          22.93,
          24.73,
          null,
          null,
          null,
          null,
          null,
          null
         ]
        },
        {
         "name": "Female",
         "type": "box",
         "y": [
          17.81,
          18.34,
          19.85,
          20.4,
          22.13,
          23.35,
          13.57,
          15.36,
          16.75,
          17.95,
          19.54,
          20.69,
          null,
          null,
          null,
          null,
          null,
          null,
          13.96,
          15.28,
          16.86,
          18.44,
          20.08,
          21.4,
          17.08,
          18.93,
          20.6,
          21.67,
          23.73,
          25.09,
          13.21,
          14.5,
          16.24,
          17.74,
          19.34,
          20.84,
          null,
          null,
          null,
          null,
          null,
          null,
          14.47,
          16.24,
          18.21,
          19.51,
          21.08,
          22.24,
          11.92,
          12.57,
          13.84,
          14.96,
          16.48,
          18.44,
          null,
          null,
          null,
          null,
          null,
          null,
          17.97,
          18.73,
          20.43,
          21.01,
          22.8,
          23.83,
          null,
          null,
          null,
          null,
          null,
          null,
          null,
          null,
          null,
          null,
          null,
          null,
          null,
          null,
          null,
          null,
          null,
          null,
          null,
          null,
          null,
          null,
          null,
          null,
          null,
          null,
          null,
          null,
          null,
          null,
          null,
          null,
          null,
          null,
          null,
          null,
          null,
          null,
          null,
          null,
          null,
          null,
          13.83,
          15.75,
          17.33,
          19.81,
          21.76,
          24.26,
          null,
          null,
          null,
          null,
          null,
          null,
          null,
          null,
          null,
          null,
          null,
          null,
          11.85,
          15.13,
          16.2,
          18.4,
          20.63,
          22.23,
          12.46,
          15.48,
          18.24,
          20.18,
          21.66,
          23.77,
          12.68,
          18.37,
          20.34,
          21.68,
          24.28,
          26.78,
          13.81,
          20.13,
          22.84,
          23.73,
          25.34,
          26.79,
          11.93,
          16.06,
          17.87,
          20.51,
          22.82,
          25.29,
          12.33,
          16.01,
          19.18,
          20.8,
          23.56,
          25.79,
          11.81,
          15.14,
          17.85,
          19.97,
          22.1,
          23.84,
          12.61,
          14.09,
          15.78,
          17.4,
          19.52,
          20.82,
          10.72,
          13.89,
          15.73,
          17.38,
          19.78,
          22.38,
          null,
          null,
          null,
          null,
          null,
          null,
          15.34,
          17.88,
          19.37,
          20.8,
          22.51,
          24.09,
          16.21,
          18.11,
          19.78,
          21.65,
          23.68,
          26.24,
          17.41,
          18.73,
          20.57,
          22.69,
          25.27,
          27.53,
          16.21,
          18.75,
          20.37,
          22.42,
          24.35,
          26.58,
          16.32,
          18.11,
          20.37,
          23.11,
          25.47,
          28.45,
          16.5,
          18.11,
          20.37,
          22.87,
          25.87,
          28.16,
          15.61,
          18.12,
          20.37,
          22.64,
          25.16,
          27.15,
          14.3,
          15.91,
          18.23,
          19.93,
          21.85,
          23.7,
          12.09,
          17.38,
          18.75,
          21.75,
          23.01,
          25.46
         ]
        }
       ],
       "layout": {
        "annotations": [
         {
          "align": "left",
          "font": {
           "size": 12
          },
          "showarrow": false,
          "text": "The boxplot illustrates the differences in hourly wages between sexes.<br>The dropdown menu allows you to compare per field of study<br>",
          "x": 0,
          "xanchor": "left",
          "xref": "paper",
          "y": -0.2,
          "yanchor": "bottom",
          "yref": "paper"
         }
        ],
        "height": 600,
        "margin": {
         "b": 90
        },
        "template": {
         "data": {
          "bar": [
           {
            "error_x": {
             "color": "#2a3f5f"
            },
            "error_y": {
             "color": "#2a3f5f"
            },
            "marker": {
             "line": {
              "color": "#E5ECF6",
              "width": 0.5
             },
             "pattern": {
              "fillmode": "overlay",
              "size": 10,
              "solidity": 0.2
             }
            },
            "type": "bar"
           }
          ],
          "barpolar": [
           {
            "marker": {
             "line": {
              "color": "#E5ECF6",
              "width": 0.5
             },
             "pattern": {
              "fillmode": "overlay",
              "size": 10,
              "solidity": 0.2
             }
            },
            "type": "barpolar"
           }
          ],
          "carpet": [
           {
            "aaxis": {
             "endlinecolor": "#2a3f5f",
             "gridcolor": "white",
             "linecolor": "white",
             "minorgridcolor": "white",
             "startlinecolor": "#2a3f5f"
            },
            "baxis": {
             "endlinecolor": "#2a3f5f",
             "gridcolor": "white",
             "linecolor": "white",
             "minorgridcolor": "white",
             "startlinecolor": "#2a3f5f"
            },
            "type": "carpet"
           }
          ],
          "choropleth": [
           {
            "colorbar": {
             "outlinewidth": 0,
             "ticks": ""
            },
            "type": "choropleth"
           }
          ],
          "contour": [
           {
            "colorbar": {
             "outlinewidth": 0,
             "ticks": ""
            },
            "colorscale": [
             [
              0,
              "#0d0887"
             ],
             [
              0.1111111111111111,
              "#46039f"
             ],
             [
              0.2222222222222222,
              "#7201a8"
             ],
             [
              0.3333333333333333,
              "#9c179e"
             ],
             [
              0.4444444444444444,
              "#bd3786"
             ],
             [
              0.5555555555555556,
              "#d8576b"
             ],
             [
              0.6666666666666666,
              "#ed7953"
             ],
             [
              0.7777777777777778,
              "#fb9f3a"
             ],
             [
              0.8888888888888888,
              "#fdca26"
             ],
             [
              1,
              "#f0f921"
             ]
            ],
            "type": "contour"
           }
          ],
          "contourcarpet": [
           {
            "colorbar": {
             "outlinewidth": 0,
             "ticks": ""
            },
            "type": "contourcarpet"
           }
          ],
          "heatmap": [
           {
            "colorbar": {
             "outlinewidth": 0,
             "ticks": ""
            },
            "colorscale": [
             [
              0,
              "#0d0887"
             ],
             [
              0.1111111111111111,
              "#46039f"
             ],
             [
              0.2222222222222222,
              "#7201a8"
             ],
             [
              0.3333333333333333,
              "#9c179e"
             ],
             [
              0.4444444444444444,
              "#bd3786"
             ],
             [
              0.5555555555555556,
              "#d8576b"
             ],
             [
              0.6666666666666666,
              "#ed7953"
             ],
             [
              0.7777777777777778,
              "#fb9f3a"
             ],
             [
              0.8888888888888888,
              "#fdca26"
             ],
             [
              1,
              "#f0f921"
             ]
            ],
            "type": "heatmap"
           }
          ],
          "heatmapgl": [
           {
            "colorbar": {
             "outlinewidth": 0,
             "ticks": ""
            },
            "colorscale": [
             [
              0,
              "#0d0887"
             ],
             [
              0.1111111111111111,
              "#46039f"
             ],
             [
              0.2222222222222222,
              "#7201a8"
             ],
             [
              0.3333333333333333,
              "#9c179e"
             ],
             [
              0.4444444444444444,
              "#bd3786"
             ],
             [
              0.5555555555555556,
              "#d8576b"
             ],
             [
              0.6666666666666666,
              "#ed7953"
             ],
             [
              0.7777777777777778,
              "#fb9f3a"
             ],
             [
              0.8888888888888888,
              "#fdca26"
             ],
             [
              1,
              "#f0f921"
             ]
            ],
            "type": "heatmapgl"
           }
          ],
          "histogram": [
           {
            "marker": {
             "pattern": {
              "fillmode": "overlay",
              "size": 10,
              "solidity": 0.2
             }
            },
            "type": "histogram"
           }
          ],
          "histogram2d": [
           {
            "colorbar": {
             "outlinewidth": 0,
             "ticks": ""
            },
            "colorscale": [
             [
              0,
              "#0d0887"
             ],
             [
              0.1111111111111111,
              "#46039f"
             ],
             [
              0.2222222222222222,
              "#7201a8"
             ],
             [
              0.3333333333333333,
              "#9c179e"
             ],
             [
              0.4444444444444444,
              "#bd3786"
             ],
             [
              0.5555555555555556,
              "#d8576b"
             ],
             [
              0.6666666666666666,
              "#ed7953"
             ],
             [
              0.7777777777777778,
              "#fb9f3a"
             ],
             [
              0.8888888888888888,
              "#fdca26"
             ],
             [
              1,
              "#f0f921"
             ]
            ],
            "type": "histogram2d"
           }
          ],
          "histogram2dcontour": [
           {
            "colorbar": {
             "outlinewidth": 0,
             "ticks": ""
            },
            "colorscale": [
             [
              0,
              "#0d0887"
             ],
             [
              0.1111111111111111,
              "#46039f"
             ],
             [
              0.2222222222222222,
              "#7201a8"
             ],
             [
              0.3333333333333333,
              "#9c179e"
             ],
             [
              0.4444444444444444,
              "#bd3786"
             ],
             [
              0.5555555555555556,
              "#d8576b"
             ],
             [
              0.6666666666666666,
              "#ed7953"
             ],
             [
              0.7777777777777778,
              "#fb9f3a"
             ],
             [
              0.8888888888888888,
              "#fdca26"
             ],
             [
              1,
              "#f0f921"
             ]
            ],
            "type": "histogram2dcontour"
           }
          ],
          "mesh3d": [
           {
            "colorbar": {
             "outlinewidth": 0,
             "ticks": ""
            },
            "type": "mesh3d"
           }
          ],
          "parcoords": [
           {
            "line": {
             "colorbar": {
              "outlinewidth": 0,
              "ticks": ""
             }
            },
            "type": "parcoords"
           }
          ],
          "pie": [
           {
            "automargin": true,
            "type": "pie"
           }
          ],
          "scatter": [
           {
            "fillpattern": {
             "fillmode": "overlay",
             "size": 10,
             "solidity": 0.2
            },
            "type": "scatter"
           }
          ],
          "scatter3d": [
           {
            "line": {
             "colorbar": {
              "outlinewidth": 0,
              "ticks": ""
             }
            },
            "marker": {
             "colorbar": {
              "outlinewidth": 0,
              "ticks": ""
             }
            },
            "type": "scatter3d"
           }
          ],
          "scattercarpet": [
           {
            "marker": {
             "colorbar": {
              "outlinewidth": 0,
              "ticks": ""
             }
            },
            "type": "scattercarpet"
           }
          ],
          "scattergeo": [
           {
            "marker": {
             "colorbar": {
              "outlinewidth": 0,
              "ticks": ""
             }
            },
            "type": "scattergeo"
           }
          ],
          "scattergl": [
           {
            "marker": {
             "colorbar": {
              "outlinewidth": 0,
              "ticks": ""
             }
            },
            "type": "scattergl"
           }
          ],
          "scattermapbox": [
           {
            "marker": {
             "colorbar": {
              "outlinewidth": 0,
              "ticks": ""
             }
            },
            "type": "scattermapbox"
           }
          ],
          "scatterpolar": [
           {
            "marker": {
             "colorbar": {
              "outlinewidth": 0,
              "ticks": ""
             }
            },
            "type": "scatterpolar"
           }
          ],
          "scatterpolargl": [
           {
            "marker": {
             "colorbar": {
              "outlinewidth": 0,
              "ticks": ""
             }
            },
            "type": "scatterpolargl"
           }
          ],
          "scatterternary": [
           {
            "marker": {
             "colorbar": {
              "outlinewidth": 0,
              "ticks": ""
             }
            },
            "type": "scatterternary"
           }
          ],
          "surface": [
           {
            "colorbar": {
             "outlinewidth": 0,
             "ticks": ""
            },
            "colorscale": [
             [
              0,
              "#0d0887"
             ],
             [
              0.1111111111111111,
              "#46039f"
             ],
             [
              0.2222222222222222,
              "#7201a8"
             ],
             [
              0.3333333333333333,
              "#9c179e"
             ],
             [
              0.4444444444444444,
              "#bd3786"
             ],
             [
              0.5555555555555556,
              "#d8576b"
             ],
             [
              0.6666666666666666,
              "#ed7953"
             ],
             [
              0.7777777777777778,
              "#fb9f3a"
             ],
             [
              0.8888888888888888,
              "#fdca26"
             ],
             [
              1,
              "#f0f921"
             ]
            ],
            "type": "surface"
           }
          ],
          "table": [
           {
            "cells": {
             "fill": {
              "color": "#EBF0F8"
             },
             "line": {
              "color": "white"
             }
            },
            "header": {
             "fill": {
              "color": "#C8D4E3"
             },
             "line": {
              "color": "white"
             }
            },
            "type": "table"
           }
          ]
         },
         "layout": {
          "annotationdefaults": {
           "arrowcolor": "#2a3f5f",
           "arrowhead": 0,
           "arrowwidth": 1
          },
          "autotypenumbers": "strict",
          "coloraxis": {
           "colorbar": {
            "outlinewidth": 0,
            "ticks": ""
           }
          },
          "colorscale": {
           "diverging": [
            [
             0,
             "#8e0152"
            ],
            [
             0.1,
             "#c51b7d"
            ],
            [
             0.2,
             "#de77ae"
            ],
            [
             0.3,
             "#f1b6da"
            ],
            [
             0.4,
             "#fde0ef"
            ],
            [
             0.5,
             "#f7f7f7"
            ],
            [
             0.6,
             "#e6f5d0"
            ],
            [
             0.7,
             "#b8e186"
            ],
            [
             0.8,
             "#7fbc41"
            ],
            [
             0.9,
             "#4d9221"
            ],
            [
             1,
             "#276419"
            ]
           ],
           "sequential": [
            [
             0,
             "#0d0887"
            ],
            [
             0.1111111111111111,
             "#46039f"
            ],
            [
             0.2222222222222222,
             "#7201a8"
            ],
            [
             0.3333333333333333,
             "#9c179e"
            ],
            [
             0.4444444444444444,
             "#bd3786"
            ],
            [
             0.5555555555555556,
             "#d8576b"
            ],
            [
             0.6666666666666666,
             "#ed7953"
            ],
            [
             0.7777777777777778,
             "#fb9f3a"
            ],
            [
             0.8888888888888888,
             "#fdca26"
            ],
            [
             1,
             "#f0f921"
            ]
           ],
           "sequentialminus": [
            [
             0,
             "#0d0887"
            ],
            [
             0.1111111111111111,
             "#46039f"
            ],
            [
             0.2222222222222222,
             "#7201a8"
            ],
            [
             0.3333333333333333,
             "#9c179e"
            ],
            [
             0.4444444444444444,
             "#bd3786"
            ],
            [
             0.5555555555555556,
             "#d8576b"
            ],
            [
             0.6666666666666666,
             "#ed7953"
            ],
            [
             0.7777777777777778,
             "#fb9f3a"
            ],
            [
             0.8888888888888888,
             "#fdca26"
            ],
            [
             1,
             "#f0f921"
            ]
           ]
          },
          "colorway": [
           "#636efa",
           "#EF553B",
           "#00cc96",
           "#ab63fa",
           "#FFA15A",
           "#19d3f3",
           "#FF6692",
           "#B6E880",
           "#FF97FF",
           "#FECB52"
          ],
          "font": {
           "color": "#2a3f5f"
          },
          "geo": {
           "bgcolor": "white",
           "lakecolor": "white",
           "landcolor": "#E5ECF6",
           "showlakes": true,
           "showland": true,
           "subunitcolor": "white"
          },
          "hoverlabel": {
           "align": "left"
          },
          "hovermode": "closest",
          "mapbox": {
           "style": "light"
          },
          "paper_bgcolor": "white",
          "plot_bgcolor": "#E5ECF6",
          "polar": {
           "angularaxis": {
            "gridcolor": "white",
            "linecolor": "white",
            "ticks": ""
           },
           "bgcolor": "#E5ECF6",
           "radialaxis": {
            "gridcolor": "white",
            "linecolor": "white",
            "ticks": ""
           }
          },
          "scene": {
           "xaxis": {
            "backgroundcolor": "#E5ECF6",
            "gridcolor": "white",
            "gridwidth": 2,
            "linecolor": "white",
            "showbackground": true,
            "ticks": "",
            "zerolinecolor": "white"
           },
           "yaxis": {
            "backgroundcolor": "#E5ECF6",
            "gridcolor": "white",
            "gridwidth": 2,
            "linecolor": "white",
            "showbackground": true,
            "ticks": "",
            "zerolinecolor": "white"
           },
           "zaxis": {
            "backgroundcolor": "#E5ECF6",
            "gridcolor": "white",
            "gridwidth": 2,
            "linecolor": "white",
            "showbackground": true,
            "ticks": "",
            "zerolinecolor": "white"
           }
          },
          "shapedefaults": {
           "line": {
            "color": "#2a3f5f"
           }
          },
          "ternary": {
           "aaxis": {
            "gridcolor": "white",
            "linecolor": "white",
            "ticks": ""
           },
           "baxis": {
            "gridcolor": "white",
            "linecolor": "white",
            "ticks": ""
           },
           "bgcolor": "#E5ECF6",
           "caxis": {
            "gridcolor": "white",
            "linecolor": "white",
            "ticks": ""
           }
          },
          "title": {
           "x": 0.05
          },
          "xaxis": {
           "automargin": true,
           "gridcolor": "white",
           "linecolor": "white",
           "ticks": "",
           "title": {
            "standoff": 15
           },
           "zerolinecolor": "white",
           "zerolinewidth": 2
          },
          "yaxis": {
           "automargin": true,
           "gridcolor": "white",
           "linecolor": "white",
           "ticks": "",
           "title": {
            "standoff": 15
           },
           "zerolinecolor": "white",
           "zerolinewidth": 2
          }
         }
        },
        "title": {
         "text": "Hourly wages for male and female <br><sup>For most degree subjects women get paid less on average than men</sup>"
        },
        "updatemenus": [
         {
          "buttons": [
           {
            "args": [
             {
              "y": [
               [
                18.18,
                19.08,
                20.58,
                21.36,
                22.92,
                24.14,
                14.54,
                16.1,
                17.71,
                19.18,
                20.94,
                22.44,
                null,
                null,
                null,
                null,
                null,
                null,
                15.32,
                16.59,
                18.43,
                20.22,
                22.22,
                23.8,
                17.14,
                18.93,
                20.56,
                22,
                23.46,
                24.93,
                13.99,
                15.33,
                17.16,
                19.04,
                20.95,
                22.73,
                null,
                null,
                null,
                null,
                null,
                null,
                14.51,
                16.37,
                18.28,
                19.84,
                21.37,
                22.92,
                12.18,
                13.27,
                14.95,
                16.55,
                17.96,
                19.69,
                null,
                null,
                null,
                null,
                null,
                null,
                null,
                null,
                null,
                null,
                null,
                null,
                null,
                null,
                null,
                null,
                null,
                null,
                null,
                null,
                null,
                null,
                null,
                null,
                null,
                null,
                null,
                null,
                null,
                null,
                null,
                null,
                null,
                null,
                null,
                null,
                null,
                null,
                null,
                null,
                null,
                null,
                null,
                null,
                null,
                null,
                null,
                null,
                null,
                null,
                null,
                null,
                null,
                null,
                14.42,
                16.37,
                18.08,
                21.51,
                22.18,
                24.52,
                null,
                null,
                null,
                null,
                null,
                null,
                null,
                null,
                null,
                null,
                null,
                null,
                12.26,
                15.22,
                16.49,
                17.92,
                20.21,
                21.78,
                13.91,
                16.47,
                18.76,
                20.8,
                22.56,
                24.72,
                14.86,
                17.82,
                19.87,
                21.57,
                24.29,
                26.67,
                13.95,
                18.72,
                20.73,
                23.53,
                25.34,
                26.2,
                13.75,
                16.41,
                18.31,
                20.76,
                23.62,
                25.6,
                13.62,
                16.28,
                18.63,
                21.08,
                23.46,
                26.3,
                12.63,
                15.37,
                17.26,
                20,
                22.06,
                24.12,
                13.27,
                14.55,
                16.05,
                17.48,
                19.53,
                21.09,
                11.57,
                13.06,
                16.14,
                17.93,
                19.62,
                21.99,
                null,
                null,
                null,
                null,
                null,
                null,
                15.91,
                18.11,
                19.43,
                20.81,
                22.81,
                25.06,
                16.62,
                18.16,
                20.37,
                22.42,
                25.34,
                28.07,
                17.72,
                19.04,
                21.12,
                23.41,
                25.85,
                28.51,
                16.29,
                18.35,
                20.32,
                22.42,
                24.71,
                27.51,
                17.12,
                18.38,
                21.13,
                23.6,
                26.49,
                29.67,
                16.92,
                18.89,
                20.98,
                23.48,
                26.84,
                29.5,
                15.34,
                17.7,
                19.71,
                22.3,
                25.17,
                27.41,
                14.84,
                16.38,
                18.74,
                20.78,
                22.93,
                24.73,
                null,
                null,
                null,
                null,
                null,
                null
               ],
               [
                17.81,
                18.34,
                19.85,
                20.4,
                22.13,
                23.35,
                13.57,
                15.36,
                16.75,
                17.95,
                19.54,
                20.69,
                null,
                null,
                null,
                null,
                null,
                null,
                13.96,
                15.28,
                16.86,
                18.44,
                20.08,
                21.4,
                17.08,
                18.93,
                20.6,
                21.67,
                23.73,
                25.09,
                13.21,
                14.5,
                16.24,
                17.74,
                19.34,
                20.84,
                null,
                null,
                null,
                null,
                null,
                null,
                14.47,
                16.24,
                18.21,
                19.51,
                21.08,
                22.24,
                11.92,
                12.57,
                13.84,
                14.96,
                16.48,
                18.44,
                null,
                null,
                null,
                null,
                null,
                null,
                17.97,
                18.73,
                20.43,
                21.01,
                22.8,
                23.83,
                null,
                null,
                null,
                null,
                null,
                null,
                null,
                null,
                null,
                null,
                null,
                null,
                null,
                null,
                null,
                null,
                null,
                null,
                null,
                null,
                null,
                null,
                null,
                null,
                null,
                null,
                null,
                null,
                null,
                null,
                null,
                null,
                null,
                null,
                null,
                null,
                null,
                null,
                null,
                null,
                null,
                null,
                13.83,
                15.75,
                17.33,
                19.81,
                21.76,
                24.26,
                null,
                null,
                null,
                null,
                null,
                null,
                null,
                null,
                null,
                null,
                null,
                null,
                11.85,
                15.13,
                16.2,
                18.4,
                20.63,
                22.23,
                12.46,
                15.48,
                18.24,
                20.18,
                21.66,
                23.77,
                12.68,
                18.37,
                20.34,
                21.68,
                24.28,
                26.78,
                13.81,
                20.13,
                22.84,
                23.73,
                25.34,
                26.79,
                11.93,
                16.06,
                17.87,
                20.51,
                22.82,
                25.29,
                12.33,
                16.01,
                19.18,
                20.8,
                23.56,
                25.79,
                11.81,
                15.14,
                17.85,
                19.97,
                22.1,
                23.84,
                12.61,
                14.09,
                15.78,
                17.4,
                19.52,
                20.82,
                10.72,
                13.89,
                15.73,
                17.38,
                19.78,
                22.38,
                null,
                null,
                null,
                null,
                null,
                null,
                15.34,
                17.88,
                19.37,
                20.8,
                22.51,
                24.09,
                16.21,
                18.11,
                19.78,
                21.65,
                23.68,
                26.24,
                17.41,
                18.73,
                20.57,
                22.69,
                25.27,
                27.53,
                16.21,
                18.75,
                20.37,
                22.42,
                24.35,
                26.58,
                16.32,
                18.11,
                20.37,
                23.11,
                25.47,
                28.45,
                16.5,
                18.11,
                20.37,
                22.87,
                25.87,
                28.16,
                15.61,
                18.12,
                20.37,
                22.64,
                25.16,
                27.15,
                14.3,
                15.91,
                18.23,
                19.93,
                21.85,
                23.7,
                12.09,
                17.38,
                18.75,
                21.75,
                23.01,
                25.46
               ]
              ]
             },
             {
              "title": "Hourly wages for male and female",
              "yaxis": {
               "range": [
                8,
                32
               ],
               "type": "linear"
              }
             }
            ],
            "label": "Average",
            "method": "update"
           },
           {
            "args": [
             {
              "y": [
               [
                18.18,
                19.08,
                20.58,
                21.36,
                22.92,
                24.14,
                null,
                null,
                null,
                null,
                null,
                null,
                null,
                null,
                null,
                null,
                null,
                null,
                null,
                null,
                null,
                null,
                null,
                null
               ],
               [
                17.81,
                18.34,
                19.85,
                20.4,
                22.13,
                23.35,
                17.97,
                18.73,
                20.43,
                21.01,
                22.8,
                23.83,
                null,
                null,
                null,
                null,
                null,
                null,
                null,
                null,
                null,
                null,
                null,
                null
               ]
              ]
             },
             {
              "title": "Hourly wages for male and female in Education studies",
              "yaxis": {
               "range": [
                8,
                32
               ],
               "type": "linear"
              }
             }
            ],
            "label": "Education",
            "method": "update"
           },
           {
            "args": [
             {
              "y": [
               [
                14.54,
                16.1,
                17.71,
                19.18,
                20.94,
                22.44,
                null,
                null,
                null,
                null,
                null,
                null,
                12.26,
                15.22,
                16.49,
                17.92,
                20.21,
                21.78,
                15.91,
                18.11,
                19.43,
                20.81,
                22.81,
                25.06
               ],
               [
                13.57,
                15.36,
                16.75,
                17.95,
                19.54,
                20.69,
                null,
                null,
                null,
                null,
                null,
                null,
                11.85,
                15.13,
                16.2,
                18.4,
                20.63,
                22.23,
                15.34,
                17.88,
                19.37,
                20.8,
                22.51,
                24.09
               ]
              ]
             },
             {
              "title": "Hourly wages for male and female in Agriculture studies",
              "yaxis": {
               "range": [
                8,
                32
               ],
               "type": "linear"
              }
             }
            ],
            "label": "Agriculture",
            "method": "update"
           },
           {
            "args": [
             {
              "y": [
               [
                null,
                null,
                null,
                null,
                null,
                null,
                null,
                null,
                null,
                null,
                null,
                null,
                13.91,
                16.47,
                18.76,
                20.8,
                22.56,
                24.72,
                16.62,
                18.16,
                20.37,
                22.42,
                25.34,
                28.07
               ],
               [
                null,
                null,
                null,
                null,
                null,
                null,
                null,
                null,
                null,
                null,
                null,
                null,
                12.46,
                15.48,
                18.24,
                20.18,
                21.66,
                23.77,
                16.21,
                18.11,
                19.78,
                21.65,
                23.68,
                26.24
               ]
              ]
             },
             {
              "title": "Hourly wages for male and female in Nature studies",
              "yaxis": {
               "range": [
                8,
                32
               ],
               "type": "linear"
              }
             }
            ],
            "label": "Nature",
            "method": "update"
           },
           {
            "args": [
             {
              "y": [
               [
                15.32,
                16.59,
                18.43,
                20.22,
                22.22,
                23.8,
                null,
                null,
                null,
                null,
                null,
                null,
                14.86,
                17.82,
                19.87,
                21.57,
                24.29,
                26.67,
                17.72,
                19.04,
                21.12,
                23.41,
                25.85,
                28.51
               ],
               [
                13.96,
                15.28,
                16.86,
                18.44,
                20.08,
                21.4,
                null,
                null,
                null,
                null,
                null,
                null,
                12.68,
                18.37,
                20.34,
                21.68,
                24.28,
                26.78,
                17.41,
                18.73,
                20.57,
                22.69,
                25.27,
                27.53
               ]
              ]
             },
             {
              "title": "Hourly wages for male and female in Technical studies",
              "yaxis": {
               "range": [
                8,
                32
               ],
               "type": "linear"
              }
             }
            ],
            "label": "STEM",
            "method": "update"
           },
           {
            "args": [
             {
              "y": [
               [
                17.14,
                18.93,
                20.56,
                22,
                23.46,
                24.93,
                null,
                null,
                null,
                null,
                null,
                null,
                13.95,
                18.72,
                20.73,
                23.53,
                25.34,
                26.2,
                16.29,
                18.35,
                20.32,
                22.42,
                24.71,
                27.51
               ],
               [
                17.08,
                18.93,
                20.6,
                21.67,
                23.73,
                25.09,
                null,
                null,
                null,
                null,
                null,
                null,
                13.81,
                20.13,
                22.84,
                23.73,
                25.34,
                26.79,
                16.21,
                18.75,
                20.37,
                22.42,
                24.35,
                26.58
               ]
              ]
             },
             {
              "title": "Hourly wages for male and female in Healthcare studies",
              "yaxis": {
               "range": [
                8,
                32
               ],
               "type": "linear"
              }
             }
            ],
            "label": "Healthcare",
            "method": "update"
           },
           {
            "args": [
             {
              "y": [
               [
                13.99,
                15.33,
                17.16,
                19.04,
                20.95,
                22.73,
                null,
                null,
                null,
                null,
                null,
                null,
                13.75,
                16.41,
                18.31,
                20.76,
                23.62,
                25.6,
                17.12,
                18.38,
                21.13,
                23.6,
                26.49,
                29.67
               ],
               [
                13.21,
                14.5,
                16.24,
                17.74,
                19.34,
                20.84,
                null,
                null,
                null,
                null,
                null,
                null,
                11.93,
                16.06,
                17.87,
                20.51,
                22.82,
                25.29,
                16.32,
                18.11,
                20.37,
                23.11,
                25.47,
                28.45
               ]
              ]
             },
             {
              "title": "Hourly wages for male and female in Economics studies",
              "yaxis": {
               "range": [
                8,
                32
               ],
               "type": "linear"
              }
             }
            ],
            "label": "Economics",
            "method": "update"
           },
           {
            "args": [
             {
              "y": [
               [
                null,
                null,
                null,
                null,
                null,
                null,
                null,
                null,
                null,
                null,
                null,
                null,
                13.62,
                16.28,
                18.63,
                21.08,
                23.46,
                26.3,
                16.92,
                18.89,
                20.98,
                23.48,
                26.84,
                29.5
               ],
               [
                null,
                null,
                null,
                null,
                null,
                null,
                null,
                null,
                null,
                null,
                null,
                null,
                12.33,
                16.01,
                19.18,
                20.8,
                23.56,
                25.79,
                16.5,
                18.11,
                20.37,
                22.87,
                25.87,
                28.16
               ]
              ]
             },
             {
              "title": "Hourly wages for male and female in Law studies",
              "yaxis": {
               "range": [
                8,
                32
               ],
               "type": "linear"
              }
             }
            ],
            "label": "Law",
            "method": "update"
           },
           {
            "args": [
             {
              "y": [
               [
                14.51,
                16.37,
                18.28,
                19.84,
                21.37,
                22.92,
                null,
                null,
                null,
                null,
                null,
                null,
                12.63,
                15.37,
                17.26,
                20,
                22.06,
                24.12,
                15.34,
                17.7,
                19.71,
                22.3,
                25.17,
                27.41
               ],
               [
                14.47,
                16.24,
                18.21,
                19.51,
                21.08,
                22.24,
                null,
                null,
                null,
                null,
                null,
                null,
                11.81,
                15.14,
                17.85,
                19.97,
                22.1,
                23.84,
                15.61,
                18.12,
                20.37,
                22.64,
                25.16,
                27.15
               ]
              ]
             },
             {
              "title": "Hourly wages for male and female in Behaviour and Society studies",
              "yaxis": {
               "range": [
                8,
                32
               ],
               "type": "linear"
              }
             }
            ],
            "label": "Behaviour & Society",
            "method": "update"
           },
           {
            "args": [
             {
              "y": [
               [
                12.18,
                13.27,
                14.95,
                16.55,
                17.96,
                19.69,
                14.42,
                16.37,
                18.08,
                21.51,
                22.18,
                24.52,
                13.27,
                14.55,
                16.05,
                17.48,
                19.53,
                21.09,
                14.84,
                16.38,
                18.74,
                20.78,
                22.93,
                24.73
               ],
               [
                11.92,
                12.57,
                13.84,
                14.96,
                16.48,
                18.44,
                13.83,
                15.75,
                17.33,
                19.81,
                21.76,
                24.26,
                12.61,
                14.09,
                15.78,
                17.4,
                19.52,
                20.82,
                14.3,
                15.91,
                18.23,
                19.93,
                21.85,
                23.7
               ]
              ]
             },
             {
              "title": "Hourly wages for male and female in Language and culture studies",
              "yaxis": {
               "range": [
                8,
                32
               ],
               "type": "linear"
              }
             }
            ],
            "label": "Language & Culture",
            "method": "update"
           },
           {
            "args": [
             {
              "y": [
               [
                null,
                null,
                null,
                null,
                null,
                null,
                null,
                null,
                null,
                null,
                null,
                null,
                11.57,
                13.06,
                16.14,
                17.93,
                19.62,
                21.99,
                null,
                null,
                null,
                null,
                null,
                null
               ],
               [
                null,
                null,
                null,
                null,
                null,
                null,
                null,
                null,
                null,
                null,
                null,
                null,
                10.72,
                13.89,
                15.73,
                17.38,
                19.78,
                22.38,
                12.09,
                17.38,
                18.75,
                21.75,
                23.01,
                25.46
               ]
              ]
             },
             {
              "title": "Hourly wages for male and female in Interdisciplinary studies",
              "yaxis": {
               "range": [
                8,
                32
               ],
               "type": "linear"
              }
             }
            ],
            "label": "Interdisciplinary",
            "method": "update"
           }
          ],
          "direction": "down",
          "showactive": true
         }
        ],
        "xaxis": {
         "title": {
          "text": "sex"
         }
        },
        "yaxis": {
         "range": [
          8,
          32
         ],
         "title": {
          "text": "Hourly pay"
         },
         "type": "linear"
        }
       }
      }
     },
     "metadata": {},
     "output_type": "display_data"
    }
   ],
   "source": [
    "%run ../notebooks/boxplotfm.ipynb"
   ]
  },
  {
   "cell_type": "markdown",
   "metadata": {},
   "source": [
    "Notably, even within the same degree subjects, women earn less on average than their male counterparts. This pervasive wage gap is evident across most fields of study. Only in healthcare and Cross-sectoral is the average hourly wage of women higher than the average hourly wage of men. Even then the minimum and maximum of all wages is lower for women in comparison to those of men. Several factors could contribute to this disparity, including gender discrimination, differences in negotiation practices, varying career trajectories leading to work fields being dominated by one gender, and unequal access to high-paying roles within the same field. \n",
    "\n",
    "Interestingly, by looking at the sunburst chart and boxplot we can see that in more female-dominated work fields women have a higher average or the average is fairly equal, for example Healthcare and Behaviour & society. While more male-dominated work fields and work fields not dominated by one gender offer a higher average to man, for example Economics and Language and culture."
   ]
  }
 ],
 "metadata": {
  "kernelspec": {
   "display_name": "Python 3 (ipykernel)",
   "language": "python",
   "name": "python3"
  },
  "language_info": {
   "codemirror_mode": {
    "name": "ipython",
    "version": 3
   },
   "file_extension": ".py",
   "mimetype": "text/x-python",
   "name": "python",
   "nbconvert_exporter": "python",
   "pygments_lexer": "ipython3",
   "version": "3.10.14"
  },
  "widgets": {
   "application/vnd.jupyter.widget-state+json": {
    "state": {},
    "version_major": 2,
    "version_minor": 0
   }
  }
 },
 "nbformat": 4,
 "nbformat_minor": 4
}
