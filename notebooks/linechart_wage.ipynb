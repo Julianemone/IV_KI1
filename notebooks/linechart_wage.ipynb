{
 "cells": [
  {
   "cell_type": "code",
   "execution_count": 21,
   "metadata": {},
   "outputs": [],
   "source": [
    "import pandas as pd\n",
    "import plotly.graph_objs as go"
   ]
  },
  {
   "cell_type": "code",
   "execution_count": 28,
   "metadata": {},
   "outputs": [],
   "source": [
    "label_mapping = {\n",
    "    'Recht': 'Law',\n",
    "    'Gedrag en Maatschappij': 'Behaviour & society',\n",
    "    'Gezondheidszorg': 'Healthcare',\n",
    "    'Onderwijs': 'Education',\n",
    "    'Economie': 'Economics',\n",
    "    'Natuur': 'Nature',\n",
    "    'Techniek': 'STEM',\n",
    "    'Onderwijs': 'Education',\n",
    "    'Sectoroverstijgend': 'Interdisciplinary',\n",
    "    'Landbouw en natuurlijke omgeving': 'Agriculture',\n",
    "    'Taal en cultuur': 'Language & culture',\n",
    "    'Vrouwen': 'Women',\n",
    "    'Mannen': 'Men'\n",
    "}\n",
    "\n",
    "df_uurloon = pd.read_csv('../data/uurloongemstudie.csv', sep = ';')\n",
    "\n",
    "studierichtingen = [\n",
    "    'Economics',\n",
    "    'Interdisciplinary',\n",
    "    'Agriculture',\n",
    "    'Law',\n",
    "    'Nature',\n",
    "    'STEM',\n",
    "    'Language & culture',\n",
    "    'Education',\n",
    "    'Behaviour & society',\n",
    "    'Healthcare'\n",
    "]\n",
    "\n",
    "df_uurloon['Peilmoment_ordered'] = pd.Categorical(df_uurloon['Peilmoment'], categories = [\n",
    "    'Direct na verlaten onderwijs',\n",
    "    '1 jaar na verlaten onderwijs',\n",
    "    '2 jaar na verlaten onderwijs',\n",
    "    '3 jaar na verlaten onderwijs',\n",
    "    '4 jaar na verlaten onderwijs',\n",
    "    '5 jaar na verlaten onderwijs'\n",
    "], ordered = True)\n",
    "\n",
    "df_uurloon = df_uurloon.sort_values('Peilmoment_ordered')"
   ]
  },
  {
   "cell_type": "code",
   "execution_count": 34,
   "metadata": {},
   "outputs": [
    {
     "data": {
      "application/vnd.plotly.v1+json": {
       "config": {
        "plotlyServerURL": "https://plot.ly"
       },
       "data": [
        {
         "mode": "lines",
         "name": "Economics Hbo-bachelor",
         "type": "scatter",
         "x": [
          0,
          1,
          2,
          3,
          4,
          5
         ],
         "y": [
          "   13.57",
          "   14.92",
          "   16.66",
          "   18.33",
          "   20.11",
          "   21.75"
         ]
        },
        {
         "mode": "lines",
         "name": "Economics Hbo-master",
         "type": "scatter",
         "x": [
          0,
          1,
          2,
          3,
          4,
          5
         ],
         "y": [
          "       .",
          "       .",
          "       .",
          "       .",
          "       .",
          "       ."
         ]
        },
        {
         "mode": "lines",
         "name": "Economics Wo-bachelor",
         "type": "scatter",
         "x": [
          0,
          1,
          2,
          3,
          4,
          5
         ],
         "y": [
          "   13.02",
          "   16.19",
          "   18.16",
          "   20.66",
          "   23.30",
          "   25.57"
         ]
        },
        {
         "mode": "lines",
         "name": "Economics Wo-master",
         "type": "scatter",
         "x": [
          0,
          1,
          2,
          3,
          4,
          5
         ],
         "y": [
          "   16.88",
          "   18.21",
          "   20.76",
          "   23.50",
          "   26.10",
          "   29.25"
         ]
        },
        {
         "mode": "lines",
         "name": "Interdisciplinary Hbo-bachelor",
         "type": "scatter",
         "x": [
          0,
          1,
          2,
          3,
          4,
          5
         ],
         "y": [
          "       .",
          "       .",
          "       .",
          "       .",
          "       .",
          "       ."
         ]
        },
        {
         "mode": "lines",
         "name": "Interdisciplinary Hbo-master",
         "type": "scatter",
         "x": [
          0,
          1,
          2,
          3,
          4,
          5
         ],
         "y": [
          "       .",
          "   16.89",
          "   23.02",
          "   24.57",
          "   27.03",
          "   30.28"
         ]
        },
        {
         "mode": "lines",
         "name": "Interdisciplinary Wo-bachelor",
         "type": "scatter",
         "x": [
          0,
          1,
          2,
          3,
          4,
          5
         ],
         "y": [
          "   11.01",
          "   13.53",
          "   15.93",
          "   17.48",
          "   19.73",
          "   22.32"
         ]
        },
        {
         "mode": "lines",
         "name": "Interdisciplinary Wo-master",
         "type": "scatter",
         "x": [
          0,
          1,
          2,
          3,
          4,
          5
         ],
         "y": [
          "   12.68",
          "   16.50",
          "   18.59",
          "   21.68",
          "   22.10",
          "   25.99"
         ]
        },
        {
         "mode": "lines",
         "name": "Agriculture Hbo-bachelor",
         "type": "scatter",
         "x": [
          0,
          1,
          2,
          3,
          4,
          5
         ],
         "y": [
          "   14.16",
          "   15.83",
          "   17.36",
          "   18.66",
          "   20.33",
          "   21.66"
         ]
        },
        {
         "mode": "lines",
         "name": "Agriculture Hbo-master",
         "type": "scatter",
         "x": [
          0,
          1,
          2,
          3,
          4,
          5
         ],
         "y": [
          "       .",
          "       .",
          "       .",
          "       .",
          "       .",
          "       ."
         ]
        },
        {
         "mode": "lines",
         "name": "Agriculture Wo-bachelor",
         "type": "scatter",
         "x": [
          0,
          1,
          2,
          3,
          4,
          5
         ],
         "y": [
          "   11.99",
          "   15.18",
          "   16.35",
          "   18.30",
          "   20.26",
          "   21.79"
         ]
        },
        {
         "mode": "lines",
         "name": "Agriculture Wo-master",
         "type": "scatter",
         "x": [
          0,
          1,
          2,
          3,
          4,
          5
         ],
         "y": [
          "   15.37",
          "   17.96",
          "   19.43",
          "   20.80",
          "   22.63",
          "   24.55"
         ]
        },
        {
         "mode": "lines",
         "name": "Law Hbo-bachelor",
         "type": "scatter",
         "x": [
          0,
          1,
          2,
          3,
          4,
          5
         ],
         "y": [
          "       .",
          "       .",
          "       .",
          "       .",
          "       .",
          "       ."
         ]
        },
        {
         "mode": "lines",
         "name": "Law Hbo-master",
         "type": "scatter",
         "x": [
          0,
          1,
          2,
          3,
          4,
          5
         ],
         "y": [
          "       .",
          "       .",
          "       .",
          "       .",
          "       .",
          "       ."
         ]
        },
        {
         "mode": "lines",
         "name": "Law Wo-bachelor",
         "type": "scatter",
         "x": [
          0,
          1,
          2,
          3,
          4,
          5
         ],
         "y": [
          "   12.54",
          "   16.16",
          "   19.01",
          "   20.83",
          "   23.56",
          "   25.86"
         ]
        },
        {
         "mode": "lines",
         "name": "Law Wo-master",
         "type": "scatter",
         "x": [
          0,
          1,
          2,
          3,
          4,
          5
         ],
         "y": [
          "   16.57",
          "   18.37",
          "   20.46",
          "   23.04",
          "   26.26",
          "   28.65"
         ]
        },
        {
         "mode": "lines",
         "name": "Nature Hbo-bachelor",
         "type": "scatter",
         "x": [
          0,
          1,
          2,
          3,
          4,
          5
         ],
         "y": [
          "       .",
          "       .",
          "       .",
          "       .",
          "       .",
          "       ."
         ]
        },
        {
         "mode": "lines",
         "name": "Nature Hbo-master",
         "type": "scatter",
         "x": [
          0,
          1,
          2,
          3,
          4,
          5
         ],
         "y": [
          "       .",
          "       .",
          "       .",
          "       .",
          "       .",
          "       ."
         ]
        },
        {
         "mode": "lines",
         "name": "Nature Wo-bachelor",
         "type": "scatter",
         "x": [
          0,
          1,
          2,
          3,
          4,
          5
         ],
         "y": [
          "   13.43",
          "   16.34",
          "   18.64",
          "   20.62",
          "   22.25",
          "   24.51"
         ]
        },
        {
         "mode": "lines",
         "name": "Nature Wo-master",
         "type": "scatter",
         "x": [
          0,
          1,
          2,
          3,
          4,
          5
         ],
         "y": [
          "   16.38",
          "   18.11",
          "   20.16",
          "   22.16",
          "   24.60",
          "   27.20"
         ]
        },
        {
         "mode": "lines",
         "name": "STEM Hbo-bachelor",
         "type": "scatter",
         "x": [
          0,
          1,
          2,
          3,
          4,
          5
         ],
         "y": [
          "   15.10",
          "   16.34",
          "   18.13",
          "   19.89",
          "   21.75",
          "   23.39"
         ]
        },
        {
         "mode": "lines",
         "name": "STEM Hbo-master",
         "type": "scatter",
         "x": [
          0,
          1,
          2,
          3,
          4,
          5
         ],
         "y": [
          "       .",
          "       .",
          "       .",
          "       .",
          "       .",
          "       ."
         ]
        },
        {
         "mode": "lines",
         "name": "STEM Wo-bachelor",
         "type": "scatter",
         "x": [
          0,
          1,
          2,
          3,
          4,
          5
         ],
         "y": [
          "   14.23",
          "   17.88",
          "   19.98",
          "   21.62",
          "   24.29",
          "   26.75"
         ]
        },
        {
         "mode": "lines",
         "name": "STEM Wo-master",
         "type": "scatter",
         "x": [
          0,
          1,
          2,
          3,
          4,
          5
         ],
         "y": [
          "   17.65",
          "   18.96",
          "   21.02",
          "   23.26",
          "   25.70",
          "   28.25"
         ]
        },
        {
         "mode": "lines",
         "name": "Language & culture Hbo-bachelor",
         "type": "scatter",
         "x": [
          0,
          1,
          2,
          3,
          4,
          5
         ],
         "y": [
          "   11.98",
          "   12.71",
          "   14.18",
          "   15.62",
          "   17.20",
          "   18.88"
         ]
        },
        {
         "mode": "lines",
         "name": "Language & culture Hbo-master",
         "type": "scatter",
         "x": [
          0,
          1,
          2,
          3,
          4,
          5
         ],
         "y": [
          "   14.02",
          "   15.86",
          "   17.59",
          "   20.33",
          "   22.01",
          "   24.52"
         ]
        },
        {
         "mode": "lines",
         "name": "Language & culture Wo-bachelor",
         "type": "scatter",
         "x": [
          0,
          1,
          2,
          3,
          4,
          5
         ],
         "y": [
          "   12.81",
          "   14.26",
          "   16.00",
          "   17.48",
          "   19.53",
          "   21.03"
         ]
        },
        {
         "mode": "lines",
         "name": "Language & culture Wo-master",
         "type": "scatter",
         "x": [
          0,
          1,
          2,
          3,
          4,
          5
         ],
         "y": [
          "   14.44",
          "   16.00",
          "   18.42",
          "   20.19",
          "   22.19",
          "   24.02"
         ]
        },
        {
         "mode": "lines",
         "name": "Education Hbo-bachelor",
         "type": "scatter",
         "x": [
          0,
          1,
          2,
          3,
          4,
          5
         ],
         "y": [
          "   17.83",
          "   18.35",
          "   19.86",
          "   20.54",
          "   22.27",
          "   23.76"
         ]
        },
        {
         "mode": "lines",
         "name": "Education Hbo-master",
         "type": "scatter",
         "x": [
          0,
          1,
          2,
          3,
          4,
          5
         ],
         "y": [
          "   18.03",
          "   18.73",
          "   20.43",
          "   21.01",
          "   22.80",
          "   23.83"
         ]
        },
        {
         "mode": "lines",
         "name": "Education Wo-bachelor",
         "type": "scatter",
         "x": [
          0,
          1,
          2,
          3,
          4,
          5
         ],
         "y": [
          "       .",
          "       .",
          "       .",
          "       .",
          "       .",
          "       ."
         ]
        },
        {
         "mode": "lines",
         "name": "Education Wo-master",
         "type": "scatter",
         "x": [
          0,
          1,
          2,
          3,
          4,
          5
         ],
         "y": [
          "       .",
          "       .",
          "       .",
          "       .",
          "       .",
          "       ."
         ]
        },
        {
         "mode": "lines",
         "name": "Behaviour & society Hbo-bachelor",
         "type": "scatter",
         "x": [
          0,
          1,
          2,
          3,
          4,
          5
         ],
         "y": [
          "   14.47",
          "   16.27",
          "   18.22",
          "   19.56",
          "   21.12",
          "   22.35"
         ]
        },
        {
         "mode": "lines",
         "name": "Behaviour & society Hbo-master",
         "type": "scatter",
         "x": [
          0,
          1,
          2,
          3,
          4,
          5
         ],
         "y": [
          "       .",
          "       .",
          "       .",
          "       .",
          "       .",
          "       ."
         ]
        },
        {
         "mode": "lines",
         "name": "Behaviour & society Wo-bachelor",
         "type": "scatter",
         "x": [
          0,
          1,
          2,
          3,
          4,
          5
         ],
         "y": [
          "   12.09",
          "   15.23",
          "   17.56",
          "   19.99",
          "   22.07",
          "   23.99"
         ]
        },
        {
         "mode": "lines",
         "name": "Behaviour & society Wo-master",
         "type": "scatter",
         "x": [
          0,
          1,
          2,
          3,
          4,
          5
         ],
         "y": [
          "   15.57",
          "   18.10",
          "   20.18",
          "   22.54",
          "   25.16",
          "   27.23"
         ]
        },
        {
         "mode": "lines",
         "name": "Healthcare Hbo-bachelor",
         "type": "scatter",
         "x": [
          0,
          1,
          2,
          3,
          4,
          5
         ],
         "y": [
          "   17.09",
          "   18.93",
          "   20.59",
          "   21.69",
          "   23.70",
          "   25.06"
         ]
        },
        {
         "mode": "lines",
         "name": "Healthcare Hbo-master",
         "type": "scatter",
         "x": [
          0,
          1,
          2,
          3,
          4,
          5
         ],
         "y": [
          "       .",
          "       .",
          "       .",
          "       .",
          "       .",
          "       ."
         ]
        },
        {
         "mode": "lines",
         "name": "Healthcare Wo-bachelor",
         "type": "scatter",
         "x": [
          0,
          1,
          2,
          3,
          4,
          5
         ],
         "y": [
          "   13.83",
          "   19.21",
          "   22.67",
          "   23.71",
          "   25.34",
          "   26.73"
         ]
        },
        {
         "mode": "lines",
         "name": "Healthcare Wo-master",
         "type": "scatter",
         "x": [
          0,
          1,
          2,
          3,
          4,
          5
         ],
         "y": [
          "   16.21",
          "   18.60",
          "   20.37",
          "   22.42",
          "   24.39",
          "   26.79"
         ]
        }
       ],
       "layout": {
        "annotations": [
         {
          "align": "left",
          "font": {
           "size": 12
          },
          "showarrow": false,
          "text": "The line chart illustrates the difference in hourly wage per year after graduation. <br>Each line represents a different field of study per level of education. The dropdown<br>menu allows you to filter the data by field of study.",
          "x": 0,
          "xanchor": "left",
          "xref": "paper",
          "y": -0.3,
          "yanchor": "bottom",
          "yref": "paper"
         }
        ],
        "height": 700,
        "margin": {
         "b": 160
        },
        "template": {
         "data": {
          "bar": [
           {
            "error_x": {
             "color": "#2a3f5f"
            },
            "error_y": {
             "color": "#2a3f5f"
            },
            "marker": {
             "line": {
              "color": "#E5ECF6",
              "width": 0.5
             },
             "pattern": {
              "fillmode": "overlay",
              "size": 10,
              "solidity": 0.2
             }
            },
            "type": "bar"
           }
          ],
          "barpolar": [
           {
            "marker": {
             "line": {
              "color": "#E5ECF6",
              "width": 0.5
             },
             "pattern": {
              "fillmode": "overlay",
              "size": 10,
              "solidity": 0.2
             }
            },
            "type": "barpolar"
           }
          ],
          "carpet": [
           {
            "aaxis": {
             "endlinecolor": "#2a3f5f",
             "gridcolor": "white",
             "linecolor": "white",
             "minorgridcolor": "white",
             "startlinecolor": "#2a3f5f"
            },
            "baxis": {
             "endlinecolor": "#2a3f5f",
             "gridcolor": "white",
             "linecolor": "white",
             "minorgridcolor": "white",
             "startlinecolor": "#2a3f5f"
            },
            "type": "carpet"
           }
          ],
          "choropleth": [
           {
            "colorbar": {
             "outlinewidth": 0,
             "ticks": ""
            },
            "type": "choropleth"
           }
          ],
          "contour": [
           {
            "colorbar": {
             "outlinewidth": 0,
             "ticks": ""
            },
            "colorscale": [
             [
              0,
              "#0d0887"
             ],
             [
              0.1111111111111111,
              "#46039f"
             ],
             [
              0.2222222222222222,
              "#7201a8"
             ],
             [
              0.3333333333333333,
              "#9c179e"
             ],
             [
              0.4444444444444444,
              "#bd3786"
             ],
             [
              0.5555555555555556,
              "#d8576b"
             ],
             [
              0.6666666666666666,
              "#ed7953"
             ],
             [
              0.7777777777777778,
              "#fb9f3a"
             ],
             [
              0.8888888888888888,
              "#fdca26"
             ],
             [
              1,
              "#f0f921"
             ]
            ],
            "type": "contour"
           }
          ],
          "contourcarpet": [
           {
            "colorbar": {
             "outlinewidth": 0,
             "ticks": ""
            },
            "type": "contourcarpet"
           }
          ],
          "heatmap": [
           {
            "colorbar": {
             "outlinewidth": 0,
             "ticks": ""
            },
            "colorscale": [
             [
              0,
              "#0d0887"
             ],
             [
              0.1111111111111111,
              "#46039f"
             ],
             [
              0.2222222222222222,
              "#7201a8"
             ],
             [
              0.3333333333333333,
              "#9c179e"
             ],
             [
              0.4444444444444444,
              "#bd3786"
             ],
             [
              0.5555555555555556,
              "#d8576b"
             ],
             [
              0.6666666666666666,
              "#ed7953"
             ],
             [
              0.7777777777777778,
              "#fb9f3a"
             ],
             [
              0.8888888888888888,
              "#fdca26"
             ],
             [
              1,
              "#f0f921"
             ]
            ],
            "type": "heatmap"
           }
          ],
          "heatmapgl": [
           {
            "colorbar": {
             "outlinewidth": 0,
             "ticks": ""
            },
            "colorscale": [
             [
              0,
              "#0d0887"
             ],
             [
              0.1111111111111111,
              "#46039f"
             ],
             [
              0.2222222222222222,
              "#7201a8"
             ],
             [
              0.3333333333333333,
              "#9c179e"
             ],
             [
              0.4444444444444444,
              "#bd3786"
             ],
             [
              0.5555555555555556,
              "#d8576b"
             ],
             [
              0.6666666666666666,
              "#ed7953"
             ],
             [
              0.7777777777777778,
              "#fb9f3a"
             ],
             [
              0.8888888888888888,
              "#fdca26"
             ],
             [
              1,
              "#f0f921"
             ]
            ],
            "type": "heatmapgl"
           }
          ],
          "histogram": [
           {
            "marker": {
             "pattern": {
              "fillmode": "overlay",
              "size": 10,
              "solidity": 0.2
             }
            },
            "type": "histogram"
           }
          ],
          "histogram2d": [
           {
            "colorbar": {
             "outlinewidth": 0,
             "ticks": ""
            },
            "colorscale": [
             [
              0,
              "#0d0887"
             ],
             [
              0.1111111111111111,
              "#46039f"
             ],
             [
              0.2222222222222222,
              "#7201a8"
             ],
             [
              0.3333333333333333,
              "#9c179e"
             ],
             [
              0.4444444444444444,
              "#bd3786"
             ],
             [
              0.5555555555555556,
              "#d8576b"
             ],
             [
              0.6666666666666666,
              "#ed7953"
             ],
             [
              0.7777777777777778,
              "#fb9f3a"
             ],
             [
              0.8888888888888888,
              "#fdca26"
             ],
             [
              1,
              "#f0f921"
             ]
            ],
            "type": "histogram2d"
           }
          ],
          "histogram2dcontour": [
           {
            "colorbar": {
             "outlinewidth": 0,
             "ticks": ""
            },
            "colorscale": [
             [
              0,
              "#0d0887"
             ],
             [
              0.1111111111111111,
              "#46039f"
             ],
             [
              0.2222222222222222,
              "#7201a8"
             ],
             [
              0.3333333333333333,
              "#9c179e"
             ],
             [
              0.4444444444444444,
              "#bd3786"
             ],
             [
              0.5555555555555556,
              "#d8576b"
             ],
             [
              0.6666666666666666,
              "#ed7953"
             ],
             [
              0.7777777777777778,
              "#fb9f3a"
             ],
             [
              0.8888888888888888,
              "#fdca26"
             ],
             [
              1,
              "#f0f921"
             ]
            ],
            "type": "histogram2dcontour"
           }
          ],
          "mesh3d": [
           {
            "colorbar": {
             "outlinewidth": 0,
             "ticks": ""
            },
            "type": "mesh3d"
           }
          ],
          "parcoords": [
           {
            "line": {
             "colorbar": {
              "outlinewidth": 0,
              "ticks": ""
             }
            },
            "type": "parcoords"
           }
          ],
          "pie": [
           {
            "automargin": true,
            "type": "pie"
           }
          ],
          "scatter": [
           {
            "fillpattern": {
             "fillmode": "overlay",
             "size": 10,
             "solidity": 0.2
            },
            "type": "scatter"
           }
          ],
          "scatter3d": [
           {
            "line": {
             "colorbar": {
              "outlinewidth": 0,
              "ticks": ""
             }
            },
            "marker": {
             "colorbar": {
              "outlinewidth": 0,
              "ticks": ""
             }
            },
            "type": "scatter3d"
           }
          ],
          "scattercarpet": [
           {
            "marker": {
             "colorbar": {
              "outlinewidth": 0,
              "ticks": ""
             }
            },
            "type": "scattercarpet"
           }
          ],
          "scattergeo": [
           {
            "marker": {
             "colorbar": {
              "outlinewidth": 0,
              "ticks": ""
             }
            },
            "type": "scattergeo"
           }
          ],
          "scattergl": [
           {
            "marker": {
             "colorbar": {
              "outlinewidth": 0,
              "ticks": ""
             }
            },
            "type": "scattergl"
           }
          ],
          "scattermapbox": [
           {
            "marker": {
             "colorbar": {
              "outlinewidth": 0,
              "ticks": ""
             }
            },
            "type": "scattermapbox"
           }
          ],
          "scatterpolar": [
           {
            "marker": {
             "colorbar": {
              "outlinewidth": 0,
              "ticks": ""
             }
            },
            "type": "scatterpolar"
           }
          ],
          "scatterpolargl": [
           {
            "marker": {
             "colorbar": {
              "outlinewidth": 0,
              "ticks": ""
             }
            },
            "type": "scatterpolargl"
           }
          ],
          "scatterternary": [
           {
            "marker": {
             "colorbar": {
              "outlinewidth": 0,
              "ticks": ""
             }
            },
            "type": "scatterternary"
           }
          ],
          "surface": [
           {
            "colorbar": {
             "outlinewidth": 0,
             "ticks": ""
            },
            "colorscale": [
             [
              0,
              "#0d0887"
             ],
             [
              0.1111111111111111,
              "#46039f"
             ],
             [
              0.2222222222222222,
              "#7201a8"
             ],
             [
              0.3333333333333333,
              "#9c179e"
             ],
             [
              0.4444444444444444,
              "#bd3786"
             ],
             [
              0.5555555555555556,
              "#d8576b"
             ],
             [
              0.6666666666666666,
              "#ed7953"
             ],
             [
              0.7777777777777778,
              "#fb9f3a"
             ],
             [
              0.8888888888888888,
              "#fdca26"
             ],
             [
              1,
              "#f0f921"
             ]
            ],
            "type": "surface"
           }
          ],
          "table": [
           {
            "cells": {
             "fill": {
              "color": "#EBF0F8"
             },
             "line": {
              "color": "white"
             }
            },
            "header": {
             "fill": {
              "color": "#C8D4E3"
             },
             "line": {
              "color": "white"
             }
            },
            "type": "table"
           }
          ]
         },
         "layout": {
          "annotationdefaults": {
           "arrowcolor": "#2a3f5f",
           "arrowhead": 0,
           "arrowwidth": 1
          },
          "autotypenumbers": "strict",
          "coloraxis": {
           "colorbar": {
            "outlinewidth": 0,
            "ticks": ""
           }
          },
          "colorscale": {
           "diverging": [
            [
             0,
             "#8e0152"
            ],
            [
             0.1,
             "#c51b7d"
            ],
            [
             0.2,
             "#de77ae"
            ],
            [
             0.3,
             "#f1b6da"
            ],
            [
             0.4,
             "#fde0ef"
            ],
            [
             0.5,
             "#f7f7f7"
            ],
            [
             0.6,
             "#e6f5d0"
            ],
            [
             0.7,
             "#b8e186"
            ],
            [
             0.8,
             "#7fbc41"
            ],
            [
             0.9,
             "#4d9221"
            ],
            [
             1,
             "#276419"
            ]
           ],
           "sequential": [
            [
             0,
             "#0d0887"
            ],
            [
             0.1111111111111111,
             "#46039f"
            ],
            [
             0.2222222222222222,
             "#7201a8"
            ],
            [
             0.3333333333333333,
             "#9c179e"
            ],
            [
             0.4444444444444444,
             "#bd3786"
            ],
            [
             0.5555555555555556,
             "#d8576b"
            ],
            [
             0.6666666666666666,
             "#ed7953"
            ],
            [
             0.7777777777777778,
             "#fb9f3a"
            ],
            [
             0.8888888888888888,
             "#fdca26"
            ],
            [
             1,
             "#f0f921"
            ]
           ],
           "sequentialminus": [
            [
             0,
             "#0d0887"
            ],
            [
             0.1111111111111111,
             "#46039f"
            ],
            [
             0.2222222222222222,
             "#7201a8"
            ],
            [
             0.3333333333333333,
             "#9c179e"
            ],
            [
             0.4444444444444444,
             "#bd3786"
            ],
            [
             0.5555555555555556,
             "#d8576b"
            ],
            [
             0.6666666666666666,
             "#ed7953"
            ],
            [
             0.7777777777777778,
             "#fb9f3a"
            ],
            [
             0.8888888888888888,
             "#fdca26"
            ],
            [
             1,
             "#f0f921"
            ]
           ]
          },
          "colorway": [
           "#636efa",
           "#EF553B",
           "#00cc96",
           "#ab63fa",
           "#FFA15A",
           "#19d3f3",
           "#FF6692",
           "#B6E880",
           "#FF97FF",
           "#FECB52"
          ],
          "font": {
           "color": "#2a3f5f"
          },
          "geo": {
           "bgcolor": "white",
           "lakecolor": "white",
           "landcolor": "#E5ECF6",
           "showlakes": true,
           "showland": true,
           "subunitcolor": "white"
          },
          "hoverlabel": {
           "align": "left"
          },
          "hovermode": "closest",
          "mapbox": {
           "style": "light"
          },
          "paper_bgcolor": "white",
          "plot_bgcolor": "#E5ECF6",
          "polar": {
           "angularaxis": {
            "gridcolor": "white",
            "linecolor": "white",
            "ticks": ""
           },
           "bgcolor": "#E5ECF6",
           "radialaxis": {
            "gridcolor": "white",
            "linecolor": "white",
            "ticks": ""
           }
          },
          "scene": {
           "xaxis": {
            "backgroundcolor": "#E5ECF6",
            "gridcolor": "white",
            "gridwidth": 2,
            "linecolor": "white",
            "showbackground": true,
            "ticks": "",
            "zerolinecolor": "white"
           },
           "yaxis": {
            "backgroundcolor": "#E5ECF6",
            "gridcolor": "white",
            "gridwidth": 2,
            "linecolor": "white",
            "showbackground": true,
            "ticks": "",
            "zerolinecolor": "white"
           },
           "zaxis": {
            "backgroundcolor": "#E5ECF6",
            "gridcolor": "white",
            "gridwidth": 2,
            "linecolor": "white",
            "showbackground": true,
            "ticks": "",
            "zerolinecolor": "white"
           }
          },
          "shapedefaults": {
           "line": {
            "color": "#2a3f5f"
           }
          },
          "ternary": {
           "aaxis": {
            "gridcolor": "white",
            "linecolor": "white",
            "ticks": ""
           },
           "baxis": {
            "gridcolor": "white",
            "linecolor": "white",
            "ticks": ""
           },
           "bgcolor": "#E5ECF6",
           "caxis": {
            "gridcolor": "white",
            "linecolor": "white",
            "ticks": ""
           }
          },
          "title": {
           "x": 0.05
          },
          "xaxis": {
           "automargin": true,
           "gridcolor": "white",
           "linecolor": "white",
           "ticks": "",
           "title": {
            "standoff": 15
           },
           "zerolinecolor": "white",
           "zerolinewidth": 2
          },
          "yaxis": {
           "automargin": true,
           "gridcolor": "white",
           "linecolor": "white",
           "ticks": "",
           "title": {
            "standoff": 15
           },
           "zerolinecolor": "white",
           "zerolinewidth": 2
          }
         }
        },
        "title": {
         "text": "Hourly wages per Level of education and Field of study over the years<br><sub>On average, Wo students start with and maintain a higher hourly wage</sub>"
        },
        "updatemenus": [
         {
          "buttons": [
           {
            "args": [
             {
              "visible": [
               true,
               true,
               true,
               true,
               true,
               true,
               true,
               true,
               true,
               true,
               true,
               true,
               true,
               true,
               true,
               true,
               true,
               true,
               true,
               true,
               true,
               true,
               true,
               true,
               true,
               true,
               true,
               true,
               true,
               true,
               true,
               true,
               true,
               true,
               true,
               true,
               true,
               true,
               true,
               true
              ]
             },
             {
              "title": "Hourly wages per Level of education and Field of study over the years<br><sub>In the majority of fields of study a Wo student would start and maintain a higher hourly wage</sub>"
             }
            ],
            "label": "All",
            "method": "update"
           },
           {
            "args": [
             {
              "visible": [
               true,
               true,
               true,
               true,
               false,
               false,
               false,
               false,
               false,
               false,
               false,
               false,
               false,
               false,
               false,
               false,
               false,
               false,
               false,
               false,
               false,
               false,
               false,
               false,
               false,
               false,
               false,
               false,
               false,
               false,
               false,
               false,
               false,
               false,
               false,
               false,
               false,
               false,
               false,
               false
              ]
             },
             {
              "title": "Hourly wages of Economics studies<br><sub>In the majority of fields of study a Wo student would start and maintain a higher hourly wage</sub>"
             }
            ],
            "label": "Economics",
            "method": "update"
           },
           {
            "args": [
             {
              "visible": [
               false,
               false,
               false,
               false,
               true,
               true,
               true,
               true,
               false,
               false,
               false,
               false,
               false,
               false,
               false,
               false,
               false,
               false,
               false,
               false,
               false,
               false,
               false,
               false,
               false,
               false,
               false,
               false,
               false,
               false,
               false,
               false,
               false,
               false,
               false,
               false,
               false,
               false,
               false,
               false
              ]
             },
             {
              "title": "Hourly wages of Interdisciplinary studies<br><sub>In the majority of fields of study a Wo student would start and maintain a higher hourly wage</sub>"
             }
            ],
            "label": "Interdisciplinary",
            "method": "update"
           },
           {
            "args": [
             {
              "visible": [
               false,
               false,
               false,
               false,
               false,
               false,
               false,
               false,
               true,
               true,
               true,
               true,
               false,
               false,
               false,
               false,
               false,
               false,
               false,
               false,
               false,
               false,
               false,
               false,
               false,
               false,
               false,
               false,
               false,
               false,
               false,
               false,
               false,
               false,
               false,
               false,
               false,
               false,
               false,
               false
              ]
             },
             {
              "title": "Hourly wages of Agriculture studies<br><sub>In the majority of fields of study a Wo student would start and maintain a higher hourly wage</sub>"
             }
            ],
            "label": "Agriculture",
            "method": "update"
           },
           {
            "args": [
             {
              "visible": [
               false,
               false,
               false,
               false,
               false,
               false,
               false,
               false,
               false,
               false,
               false,
               false,
               true,
               true,
               true,
               true,
               false,
               false,
               false,
               false,
               false,
               false,
               false,
               false,
               false,
               false,
               false,
               false,
               false,
               false,
               false,
               false,
               false,
               false,
               false,
               false,
               false,
               false,
               false,
               false
              ]
             },
             {
              "title": "Hourly wages of Law studies<br><sub>In the majority of fields of study a Wo student would start and maintain a higher hourly wage</sub>"
             }
            ],
            "label": "Law",
            "method": "update"
           },
           {
            "args": [
             {
              "visible": [
               false,
               false,
               false,
               false,
               false,
               false,
               false,
               false,
               false,
               false,
               false,
               false,
               false,
               false,
               false,
               false,
               true,
               true,
               true,
               true,
               false,
               false,
               false,
               false,
               false,
               false,
               false,
               false,
               false,
               false,
               false,
               false,
               false,
               false,
               false,
               false,
               false,
               false,
               false,
               false
              ]
             },
             {
              "title": "Hourly wages of Nature studies<br><sub>In the majority of fields of study a Wo student would start and maintain a higher hourly wage</sub>"
             }
            ],
            "label": "Nature",
            "method": "update"
           },
           {
            "args": [
             {
              "visible": [
               false,
               false,
               false,
               false,
               false,
               false,
               false,
               false,
               false,
               false,
               false,
               false,
               false,
               false,
               false,
               false,
               false,
               false,
               false,
               false,
               true,
               true,
               true,
               true,
               false,
               false,
               false,
               false,
               false,
               false,
               false,
               false,
               false,
               false,
               false,
               false,
               false,
               false,
               false,
               false
              ]
             },
             {
              "title": "Hourly wages of STEM studies<br><sub>In the majority of fields of study a Wo student would start and maintain a higher hourly wage</sub>"
             }
            ],
            "label": "STEM",
            "method": "update"
           },
           {
            "args": [
             {
              "visible": [
               false,
               false,
               false,
               false,
               false,
               false,
               false,
               false,
               false,
               false,
               false,
               false,
               false,
               false,
               false,
               false,
               false,
               false,
               false,
               false,
               false,
               false,
               false,
               false,
               true,
               true,
               true,
               true,
               false,
               false,
               false,
               false,
               false,
               false,
               false,
               false,
               false,
               false,
               false,
               false
              ]
             },
             {
              "title": "Hourly wages of Language & culture studies<br><sub>In the majority of fields of study a Wo student would start and maintain a higher hourly wage</sub>"
             }
            ],
            "label": "Language and culture",
            "method": "update"
           },
           {
            "args": [
             {
              "visible": [
               false,
               false,
               false,
               false,
               false,
               false,
               false,
               false,
               false,
               false,
               false,
               false,
               false,
               false,
               false,
               false,
               false,
               false,
               false,
               false,
               false,
               false,
               false,
               false,
               false,
               false,
               false,
               false,
               true,
               true,
               true,
               true,
               false,
               false,
               false,
               false,
               false,
               false,
               false,
               false
              ]
             },
             {
              "title": "Hourly wages of Education studies<br><sub>In the majority of fields of study a Wo student would start and maintain a higher hourly wage</sub>"
             }
            ],
            "label": "Education",
            "method": "update"
           },
           {
            "args": [
             {
              "visible": [
               false,
               false,
               false,
               false,
               false,
               false,
               false,
               false,
               false,
               false,
               false,
               false,
               false,
               false,
               false,
               false,
               false,
               false,
               false,
               false,
               false,
               false,
               false,
               false,
               false,
               false,
               false,
               false,
               false,
               false,
               false,
               false,
               true,
               true,
               true,
               true,
               false,
               false,
               false,
               false
              ]
             },
             {
              "title": "Hourly wages of Behaviour & society studies<br><sub>In the majority of fields of study a Wo student would start and maintain a higher hourly wage</sub>"
             }
            ],
            "label": "Behaviour and society",
            "method": "update"
           },
           {
            "args": [
             {
              "visible": [
               false,
               false,
               false,
               false,
               false,
               false,
               false,
               false,
               false,
               false,
               false,
               false,
               false,
               false,
               false,
               false,
               false,
               false,
               false,
               false,
               false,
               false,
               false,
               false,
               false,
               false,
               false,
               false,
               false,
               false,
               false,
               false,
               false,
               false,
               false,
               false,
               true,
               true,
               true,
               true
              ]
             },
             {
              "title": "Hourly wages of Healthcare studies<br><sub>In the majority of fields of study a Wo student would start and maintain a higher hourly wage</sub>"
             }
            ],
            "label": "Healthcare",
            "method": "update"
           }
          ],
          "direction": "down",
          "showactive": true
         }
        ],
        "xaxis": {
         "title": {
          "text": "Years after leaving college"
         }
        },
        "yaxis": {
         "title": {
          "text": "Hourly wage (euro)"
         },
         "type": "linear"
        }
       }
      }
     },
     "metadata": {},
     "output_type": "display_data"
    }
   ],
   "source": [
    "dropdown_buttons = list([\n",
    "    dict(label=\"All\",\n",
    "         method=\"update\",\n",
    "         args=[{\"visible\": [True] * 40},\n",
    "               {\"title\": \"Hourly wages per Level of education and Field of study over the years<br><sub>In the majority of fields of study a Wo student would start and maintain a higher hourly wage</sub>\"}]),\n",
    "    dict(label=\"Economics\",\n",
    "         method=\"update\",\n",
    "         args=[{\"visible\": [True] * 4 + [False] * 36},\n",
    "               {\"title\": \"Hourly wages of Economics studies<br><sub>In the majority of fields of study a Wo student would start and maintain a higher hourly wage</sub>\"}]),\n",
    "    dict(label=\"Interdisciplinary\",\n",
    "         method=\"update\",\n",
    "         args=[{\"visible\": [False] * 4 + [True] * 4 + [False] * 32},\n",
    "               {\"title\": \"Hourly wages of Interdisciplinary studies<br><sub>In the majority of fields of study a Wo student would start and maintain a higher hourly wage</sub>\"}]),\n",
    "    dict(label=\"Agriculture\",\n",
    "         method=\"update\",\n",
    "         args=[{\"visible\": [False] * 8 + [True] * 4 + [False] * 28},\n",
    "               {\"title\": \"Hourly wages of Agriculture studies<br><sub>In the majority of fields of study a Wo student would start and maintain a higher hourly wage</sub>\"}]),\n",
    "    dict(label=\"Law\",\n",
    "         method=\"update\",\n",
    "         args=[{\"visible\": [False] * 12 + [True] * 4 + [False] * 24},\n",
    "               {\"title\": \"Hourly wages of Law studies<br><sub>In the majority of fields of study a Wo student would start and maintain a higher hourly wage</sub>\"}]),\n",
    "    dict(label=\"Nature\",\n",
    "         method=\"update\",\n",
    "         args=[{\"visible\": [False] * 16 + [True] * 4 + [False] * 20},\n",
    "               {\"title\": \"Hourly wages of Nature studies<br><sub>In the majority of fields of study a Wo student would start and maintain a higher hourly wage</sub>\"}]),\n",
    "    dict(label=\"STEM\",\n",
    "         method=\"update\",\n",
    "         args=[{\"visible\": [False] * 20 + [True] * 4 + [False] * 16},\n",
    "               {\"title\": \"Hourly wages of STEM studies<br><sub>In the majority of fields of study a Wo student would start and maintain a higher hourly wage</sub>\"}]),\n",
    "    dict(label=\"Language and culture\",\n",
    "         method=\"update\",\n",
    "         args=[{\"visible\": [False] * 24 + [True] * 4 + [False] * 12},\n",
    "               {\"title\": \"Hourly wages of Language & culture studies<br><sub>In the majority of fields of study a Wo student would start and maintain a higher hourly wage</sub>\"}]),\n",
    "    dict(label=\"Education\",\n",
    "         method=\"update\",\n",
    "         args=[{\"visible\": [False] * 28 + [True] * 4 + [False] * 8},\n",
    "               {\"title\": \"Hourly wages of Education studies<br><sub>In the majority of fields of study a Wo student would start and maintain a higher hourly wage</sub>\"}]),\n",
    "    dict(label=\"Behaviour and society\",\n",
    "         method=\"update\",\n",
    "         args=[{\"visible\": [False] * 32 + [True] * 4 + [False] * 4},\n",
    "               {\"title\": \"Hourly wages of Behaviour & society studies<br><sub>In the majority of fields of study a Wo student would start and maintain a higher hourly wage</sub>\"}]),\n",
    "    dict(label=\"Healthcare\",\n",
    "         method=\"update\",\n",
    "         args=[{\"visible\": [False] * 36 + [True] * 4},\n",
    "               {\"title\": \"Hourly wages of Healthcare studies<br><sub>In the majority of fields of study a Wo student would start and maintain a higher hourly wage</sub>\"}]),\n",
    "])\n",
    "\n",
    "fig = go.Figure()\n",
    "\n",
    "df_uurloon['Studierichting_mapped'] = df_uurloon['Studierichting'].map(label_mapping)\n",
    "\n",
    "for studierichting in studierichtingen:\n",
    "    df_selected_hbo_bach = df_uurloon[df_uurloon['Studierichting_mapped'] == studierichting].loc[df_uurloon['Uitstromers ho met en zonder diploma'] == 'Hbo-bachelor']\n",
    "    df_selected_hbo_master = df_uurloon[df_uurloon['Studierichting_mapped'] == studierichting].loc[df_uurloon['Uitstromers ho met en zonder diploma'] == 'Hbo-master']\n",
    "    df_selected_wo_bach = df_uurloon[df_uurloon['Studierichting_mapped'] == studierichting].loc[df_uurloon['Uitstromers ho met en zonder diploma'] == 'Wo-bachelor']\n",
    "    df_selected_wo_master = df_uurloon[df_uurloon['Studierichting_mapped'] == studierichting].loc[df_uurloon['Uitstromers ho met en zonder diploma'] == 'Wo-master']\n",
    "    fig.add_trace(\n",
    "        go.Scatter(\n",
    "            mode = 'lines',\n",
    "            x = [0,1,2,3,4,5],\n",
    "            y = df_selected_hbo_bach['Uurloon werknemers na verlaten ho (euro)'],\n",
    "            name = studierichting + ' Hbo-bachelor'\n",
    "        )\n",
    "    )\n",
    "    fig.add_trace(\n",
    "        go.Scatter(\n",
    "            mode = 'lines',\n",
    "            x = [0,1,2,3,4,5],\n",
    "            y = df_selected_hbo_master['Uurloon werknemers na verlaten ho (euro)'],\n",
    "            name = studierichting + ' Hbo-master'\n",
    "        )\n",
    "    )\n",
    "    fig.add_trace(\n",
    "        go.Scatter(\n",
    "            mode = 'lines',\n",
    "            x = [0,1,2,3,4,5],\n",
    "            y = df_selected_wo_bach['Uurloon werknemers na verlaten ho (euro)'],\n",
    "            name = studierichting + ' Wo-bachelor'\n",
    "        )\n",
    "    )\n",
    "    fig.add_trace(\n",
    "        go.Scatter(\n",
    "            mode = 'lines',\n",
    "            x = [0,1,2,3,4,5],\n",
    "            y = df_selected_wo_master['Uurloon werknemers na verlaten ho (euro)'],\n",
    "            name = studierichting + ' Wo-master'\n",
    "        )\n",
    "    )\n",
    "\n",
    "fig.update_layout(\n",
    "    updatemenus=[{\n",
    "        'buttons': dropdown_buttons,\n",
    "        'direction': 'down',\n",
    "        'showactive': True,\n",
    "    }],\n",
    "    title_text = 'Hourly wages per Level of education and Field of study over the years<br><sub>On average, Wo students start with and maintain a higher hourly wage</sub>',\n",
    "    annotations=[\n",
    "        go.layout.Annotation(\n",
    "            text=\"The line chart illustrates the difference in hourly wage per year after graduation. <br>Each line represents a different field of study per level of education. The dropdown<br>menu allows you to filter the data by field of study.\",\n",
    "            xref=\"paper\", yref=\"paper\",\n",
    "            x=0, y=-0.3,\n",
    "            showarrow=False,\n",
    "            font=dict(size=12),\n",
    "            xanchor='left',\n",
    "            yanchor='bottom',\n",
    "            align = 'left'\n",
    "        )\n",
    "    ],\n",
    "    margin=dict(\n",
    "        b = 160\n",
    "    ),\n",
    "    height = 700,\n",
    "    xaxis_title = 'Years after leaving college',\n",
    "    yaxis_title = 'Hourly wage (euro)',\n",
    "    yaxis = dict(type = 'linear')\n",
    ")\n",
    "\n",
    "fig.show()"
   ]
  }
 ],
 "metadata": {
  "kernelspec": {
   "display_name": "jupyterbook",
   "language": "python",
   "name": "python3"
  },
  "language_info": {
   "codemirror_mode": {
    "name": "ipython",
    "version": 3
   },
   "file_extension": ".py",
   "mimetype": "text/x-python",
   "name": "python",
   "nbconvert_exporter": "python",
   "pygments_lexer": "ipython3",
   "version": "3.10.14"
  }
 },
 "nbformat": 4,
 "nbformat_minor": 2
}
