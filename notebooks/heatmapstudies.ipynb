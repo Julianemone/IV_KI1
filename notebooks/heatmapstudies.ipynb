{
 "cells": [
  {
   "cell_type": "code",
   "execution_count": 2,
   "metadata": {},
   "outputs": [],
   "source": [
    "import plotly.graph_objs as go\n",
    "import pandas as pd"
   ]
  },
  {
   "cell_type": "code",
   "execution_count": 3,
   "metadata": {},
   "outputs": [],
   "source": [
    "arbeidsmarkt = pd.read_csv(\"../data/arbeidsmarkt.csv\", sep=';')\n",
    "uurloon = pd.read_csv(\"../data/uurloon.csv\", sep=';')\n",
    "uurloon['Uurloon werknemers na verlaten ho (euro)']  = pd.to_numeric(uurloon['Uurloon werknemers na verlaten ho (euro)'] , errors='coerce')\n",
    "arbeidsmarkt['Uitstromers ho (aantal)']  = pd.to_numeric(arbeidsmarkt['Uitstromers ho (aantal)'] , errors='coerce')\n",
    "arbeidsmarkt.fillna(0, inplace = True)\n",
    "peilmoment1 = arbeidsmarkt.loc[arbeidsmarkt['Peilmoment'] == 'Direct na verlaten onderwijs']"
   ]
  },
  {
   "cell_type": "code",
   "execution_count": 4,
   "metadata": {},
   "outputs": [],
   "source": [
    "total_counts_niveau = peilmoment1.groupby('Uitstromers ho met en zonder diploma')['Uitstromers ho (aantal)'].sum().reset_index()\n",
    "total_counts_niveau.rename(columns={'Uitstromers ho (aantal)': 'Total degree level'}, inplace=True)\n",
    "\n",
    "arbeidsmarkt = arbeidsmarkt.merge(total_counts_niveau, on='Uitstromers ho met en zonder diploma')\n",
    "\n",
    "total_counts = peilmoment1.groupby('Studierichting')['Uitstromers ho (aantal)'].sum().reset_index()\n",
    "total_counts.rename(columns={'Uitstromers ho (aantal)': 'Total studierichting'}, inplace=True)\n",
    "\n",
    "arbeidsmarkt = arbeidsmarkt.merge(total_counts, on='Studierichting')\n",
    "\n",
    "arbeidsmarkt['Percentage studierichting'] = arbeidsmarkt['Uitstromers ho (aantal)'] / arbeidsmarkt['Total studierichting'] * 100\n",
    "arbeidsmarkt['Percentage degree level'] = arbeidsmarkt['Uitstromers ho (aantal)'] / arbeidsmarkt['Total degree level'] * 100\n",
    "\n",
    "arbeidsmarktp0 = arbeidsmarkt.loc[arbeidsmarkt['Peilmoment'] == 'Direct na verlaten onderwijs']\n",
    "arbeidsmarktp1 = arbeidsmarkt.loc[arbeidsmarkt['Peilmoment'] == '1 jaar na verlaten onderwijs']\n",
    "arbeidsmarktp2 = arbeidsmarkt.loc[arbeidsmarkt['Peilmoment'] == '2 jaar na verlaten onderwijs']\n",
    "arbeidsmarktp3 = arbeidsmarkt.loc[arbeidsmarkt['Peilmoment'] == '3 jaar na verlaten onderwijs']\n",
    "arbeidsmarktp4 = arbeidsmarkt.loc[arbeidsmarkt['Peilmoment'] == '4 jaar na verlaten onderwijs']\n",
    "arbeidsmarktp5 = arbeidsmarkt.loc[arbeidsmarkt['Peilmoment'] == '5 jaar na verlaten onderwijs']\n",
    "\n",
    "data = [arbeidsmarktp0, arbeidsmarktp1, arbeidsmarktp2, arbeidsmarktp3, arbeidsmarktp4, arbeidsmarktp5]"
   ]
  },
  {
   "cell_type": "code",
   "execution_count": 48,
   "metadata": {},
   "outputs": [
    {
     "data": {
      "application/vnd.plotly.v1+json": {
       "config": {
        "plotlyServerURL": "https://plot.ly"
       },
       "data": [
        {
         "colorbar": {
          "tickformat": "%d%",
          "title": {
           "text": "% within degree"
          }
         },
         "colorscale": [
          [
           0,
           "rgb(247,251,255)"
          ],
          [
           0.125,
           "rgb(222,235,247)"
          ],
          [
           0.25,
           "rgb(198,219,239)"
          ],
          [
           0.375,
           "rgb(158,202,225)"
          ],
          [
           0.5,
           "rgb(107,174,214)"
          ],
          [
           0.625,
           "rgb(66,146,198)"
          ],
          [
           0.75,
           "rgb(33,113,181)"
          ],
          [
           0.875,
           "rgb(8,81,156)"
          ],
          [
           1,
           "rgb(8,48,107)"
          ]
         ],
         "hoverinfo": "text+x",
         "hoverongaps": false,
         "text": [
          [
           "2%",
           "6%",
           "1%",
           "1%"
          ],
          [
           "87%",
           "86%",
           "67%",
           "82%"
          ],
          [
           "0%",
           "0%",
           "0%",
           "0%"
          ],
          [
           "1%",
           "3%",
           "2%",
           "2%"
          ],
          [
           "10%",
           "6%",
           "29%",
           "15%"
          ]
         ],
         "type": "heatmap",
         "visible": true,
         "x": [
          "Hbo-bachelor",
          "Hbo-master",
          "Wo-bachelor",
          "Wo-master"
         ],
         "y": [
          "Met werk, met uitkering",
          "Met werk, zonder uitkering",
          "Terug in onderwijs",
          "Zonder werk, met uitkering",
          "Zonder werk, zonder uitkering"
         ],
         "z": [
          [
           1.7041730391085863,
           5.555555555555555,
           1.2958963282937366,
           1.471825063078217
          ],
          [
           86.69434127157527,
           86.11111111111111,
           67.49460043196544,
           81.62321278385197
          ],
          [
           0,
           0,
           0,
           0
          ],
          [
           1.3764474546646275,
           2.7777777777777777,
           2.375809935205184,
           1.7661900756938604
          ],
          [
           10.22503823465152,
           5.555555555555555,
           28.83369330453564,
           15.138772077375947
          ]
         ],
         "zmax": 100,
         "zmin": 0
        },
        {
         "colorbar": {
          "tickformat": "%d%",
          "title": {
           "text": "% within degree"
          }
         },
         "colorscale": [
          [
           0,
           "rgb(247,251,255)"
          ],
          [
           0.125,
           "rgb(222,235,247)"
          ],
          [
           0.25,
           "rgb(198,219,239)"
          ],
          [
           0.375,
           "rgb(158,202,225)"
          ],
          [
           0.5,
           "rgb(107,174,214)"
          ],
          [
           0.625,
           "rgb(66,146,198)"
          ],
          [
           0.75,
           "rgb(33,113,181)"
          ],
          [
           0.875,
           "rgb(8,81,156)"
          ],
          [
           1,
           "rgb(8,48,107)"
          ]
         ],
         "hoverinfo": "text+x",
         "hoverongaps": false,
         "text": [
          [
           "2%",
           "3%",
           "1%",
           "1%"
          ],
          [
           "87%",
           "89%",
           "40%",
           "90%"
          ],
          [
           "5%",
           "0%",
           "45%",
           "1%"
          ],
          [
           "1%",
           "0%",
           "2%",
           "1%"
          ],
          [
           "4%",
           "3%",
           "10%",
           "4%"
          ]
         ],
         "type": "heatmap",
         "visible": false,
         "x": [
          "Hbo-bachelor",
          "Hbo-master",
          "Wo-bachelor",
          "Wo-master"
         ],
         "y": [
          "Met werk, met uitkering",
          "Met werk, zonder uitkering",
          "Terug in onderwijs",
          "Zonder werk, met uitkering",
          "Zonder werk, zonder uitkering"
         ],
         "z": [
          [
           1.9882018789600173,
           2.7777777777777777,
           1.0799136069114472,
           1.471825063078217
          ],
          [
           86.62879615468648,
           88.88888888888889,
           39.8488120950324,
           90.32800672834314
          ],
          [
           4.631854926807953,
           0,
           45.46436285097192,
           0.9251471825063078
          ],
          [
           1.4419925715534192,
           0,
           1.9438444924406049,
           1.4297729184188395
          ],
          [
           4.3478260869565215,
           2.7777777777777777,
           9.61123110151188,
           4.415475189234651
          ]
         ],
         "zmax": 100,
         "zmin": 0
        },
        {
         "colorbar": {
          "tickformat": "%d%",
          "title": {
           "text": "% within degree"
          }
         },
         "colorscale": [
          [
           0,
           "rgb(247,251,255)"
          ],
          [
           0.125,
           "rgb(222,235,247)"
          ],
          [
           0.25,
           "rgb(198,219,239)"
          ],
          [
           0.375,
           "rgb(158,202,225)"
          ],
          [
           0.5,
           "rgb(107,174,214)"
          ],
          [
           0.625,
           "rgb(66,146,198)"
          ],
          [
           0.75,
           "rgb(33,113,181)"
          ],
          [
           0.875,
           "rgb(8,81,156)"
          ],
          [
           1,
           "rgb(8,48,107)"
          ]
         ],
         "hoverinfo": "text+x",
         "hoverongaps": false,
         "text": [
          [
           "1%",
           "3%",
           "1%",
           "1%"
          ],
          [
           "86%",
           "89%",
           "37%",
           "91%"
          ],
          [
           "7%",
           "3%",
           "52%",
           "1%"
          ],
          [
           "2%",
           "0%",
           "2%",
           "2%"
          ],
          [
           "3%",
           "3%",
           "6%",
           "3%"
          ]
         ],
         "type": "heatmap",
         "visible": false,
         "x": [
          "Hbo-bachelor",
          "Hbo-master",
          "Wo-bachelor",
          "Wo-master"
         ],
         "y": [
          "Met werk, met uitkering",
          "Met werk, zonder uitkering",
          "Terug in onderwijs",
          "Zonder werk, met uitkering",
          "Zonder werk, zonder uitkering"
         ],
         "z": [
          [
           1.4638409438496833,
           2.7777777777777777,
           0.6479481641468683,
           1.135407905803196
          ],
          [
           85.84225475202096,
           88.88888888888889,
           37.47300215982722,
           90.5803195962994
          ],
          [
           6.794843784138082,
           2.7777777777777777,
           51.943844492440604,
           1.3456686291000841
          ],
          [
           1.529386060738475,
           0,
           1.8358531317494602,
           1.5138772077375946
          ],
          [
           3.036923749180686,
           2.7777777777777777,
           6.371490280777538,
           2.9857022708158114
          ]
         ],
         "zmax": 100,
         "zmin": 0
        },
        {
         "colorbar": {
          "tickformat": "%d%",
          "title": {
           "text": "% within degree"
          }
         },
         "colorscale": [
          [
           0,
           "rgb(247,251,255)"
          ],
          [
           0.125,
           "rgb(222,235,247)"
          ],
          [
           0.25,
           "rgb(198,219,239)"
          ],
          [
           0.375,
           "rgb(158,202,225)"
          ],
          [
           0.5,
           "rgb(107,174,214)"
          ],
          [
           0.625,
           "rgb(66,146,198)"
          ],
          [
           0.75,
           "rgb(33,113,181)"
          ],
          [
           0.875,
           "rgb(8,81,156)"
          ],
          [
           1,
           "rgb(8,48,107)"
          ]
         ],
         "hoverinfo": "text+x",
         "hoverongaps": false,
         "text": [
          [
           "1%",
           "6%",
           "0%",
           "1%"
          ],
          [
           "85%",
           "83%",
           "37%",
           "90%"
          ],
          [
           "8%",
           "3%",
           "53%",
           "2%"
          ],
          [
           "2%",
           "0%",
           "2%",
           "1%"
          ],
          [
           "2%",
           "3%",
           "4%",
           "3%"
          ]
         ],
         "type": "heatmap",
         "visible": false,
         "x": [
          "Hbo-bachelor",
          "Hbo-master",
          "Wo-bachelor",
          "Wo-master"
         ],
         "y": [
          "Met werk, met uitkering",
          "Met werk, zonder uitkering",
          "Terug in onderwijs",
          "Zonder werk, met uitkering",
          "Zonder werk, zonder uitkering"
         ],
         "z": [
          [
           1.3545990823683636,
           5.555555555555555,
           0.4319654427645789,
           1.0933557611438183
          ],
          [
           84.92462311557789,
           83.33333333333333,
           37.36501079913607,
           90.28595458368376
          ],
          [
           8.367926589469084,
           2.7777777777777777,
           53.45572354211663,
           1.5559293523969724
          ],
          [
           1.529386060738475,
           0,
           1.6198704103671708,
           1.471825063078217
          ],
          [
           2.44701769718156,
           2.7777777777777777,
           4.1036717062634995,
           2.6913372582001682
          ]
         ],
         "zmax": 100,
         "zmin": 0
        },
        {
         "colorbar": {
          "tickformat": "%d%",
          "title": {
           "text": "% within degree"
          }
         },
         "colorscale": [
          [
           0,
           "rgb(247,251,255)"
          ],
          [
           0.125,
           "rgb(222,235,247)"
          ],
          [
           0.25,
           "rgb(198,219,239)"
          ],
          [
           0.375,
           "rgb(158,202,225)"
          ],
          [
           0.5,
           "rgb(107,174,214)"
          ],
          [
           0.625,
           "rgb(66,146,198)"
          ],
          [
           0.75,
           "rgb(33,113,181)"
          ],
          [
           0.875,
           "rgb(8,81,156)"
          ],
          [
           1,
           "rgb(8,48,107)"
          ]
         ],
         "hoverinfo": "text+x",
         "hoverongaps": false,
         "text": [
          [
           "6%",
           "19%",
           "3%",
           "4%"
          ],
          [
           "79%",
           "67%",
           "35%",
           "87%"
          ],
          [
           "9%",
           "3%",
           "54%",
           "2%"
          ],
          [
           "2%",
           "0%",
           "2%",
           "2%"
          ],
          [
           "2%",
           "0%",
           "3%",
           "2%"
          ]
         ],
         "type": "heatmap",
         "visible": false,
         "x": [
          "Hbo-bachelor",
          "Hbo-master",
          "Wo-bachelor",
          "Wo-master"
         ],
         "y": [
          "Met werk, met uitkering",
          "Met werk, zonder uitkering",
          "Terug in onderwijs",
          "Zonder werk, met uitkering",
          "Zonder werk, zonder uitkering"
         ],
         "z": [
          [
           6.139392615250164,
           19.444444444444443,
           3.4557235421166306,
           3.868797308662742
          ],
          [
           79.30959143543807,
           66.66666666666666,
           34.557235421166304,
           87.04793944491169
          ],
          [
           9.372951715097226,
           2.7777777777777777,
           54.31965442764579,
           1.8923465096719934
          ],
          [
           2.141140485033865,
           0,
           2.0518358531317498,
           1.9764507989907485
          ],
          [
           1.6386279222197948,
           0,
           3.2397408207343417,
           2.2287636669470143
          ]
         ],
         "zmax": 100,
         "zmin": 0
        },
        {
         "colorbar": {
          "tickformat": "%d%",
          "title": {
           "text": "% within degree"
          }
         },
         "colorscale": [
          [
           0,
           "rgb(247,251,255)"
          ],
          [
           0.125,
           "rgb(222,235,247)"
          ],
          [
           0.25,
           "rgb(198,219,239)"
          ],
          [
           0.375,
           "rgb(158,202,225)"
          ],
          [
           0.5,
           "rgb(107,174,214)"
          ],
          [
           0.625,
           "rgb(66,146,198)"
          ],
          [
           0.75,
           "rgb(33,113,181)"
          ],
          [
           0.875,
           "rgb(8,81,156)"
          ],
          [
           1,
           "rgb(8,48,107)"
          ]
         ],
         "hoverinfo": "text+x",
         "hoverongaps": false,
         "text": [
          [
           "3%",
           "11%",
           "2%",
           "2%"
          ],
          [
           "82%",
           "75%",
           "36%",
           "89%"
          ],
          [
           "10%",
           "3%",
           "56%",
           "2%"
          ],
          [
           "2%",
           "0%",
           "2%",
           "2%"
          ],
          [
           "2%",
           "0%",
           "3%",
           "2%"
          ]
         ],
         "type": "heatmap",
         "visible": false,
         "x": [
          "Hbo-bachelor",
          "Hbo-master",
          "Wo-bachelor",
          "Wo-master"
         ],
         "y": [
          "Met werk, met uitkering",
          "Met werk, zonder uitkering",
          "Terug in onderwijs",
          "Zonder werk, met uitkering",
          "Zonder werk, zonder uitkering"
         ],
         "z": [
          [
           3.015075376884422,
           11.11111111111111,
           2.0518358531317498,
           2.0605550883095036
          ],
          [
           81.953244483286,
           75,
           35.7451403887689,
           88.60386879730866
          ],
          [
           10.268734979244046,
           2.7777777777777777,
           55.61555075593952,
           2.1867115222876365
          ],
          [
           1.5730828053310029,
           0,
           1.6198704103671708,
           1.59798149705635
          ],
          [
           1.7041730391085863,
           0,
           2.9157667386609076,
           2.2287636669470143
          ]
         ],
         "zmax": 100,
         "zmin": 0
        }
       ],
       "layout": {
        "annotations": [
         {
          "align": "left",
          "font": {
           "size": 12
          },
          "showarrow": false,
          "text": " <br>The heatmap illustrates the labor market position across various degrees.<br>The colors correspond to the percentages within each degree, providing a visual representation<br> of the distribution of labor market positions for graduates with different levels of education.",
          "x": 0,
          "xanchor": "left",
          "xref": "paper",
          "y": -0.8,
          "yanchor": "bottom",
          "yref": "paper"
         }
        ],
        "height": 500,
        "margin": {
         "b": 10,
         "l": 20,
         "r": 20,
         "t": 80
        },
        "sliders": [
         {
          "active": 0,
          "currentvalue": {
           "prefix": "Years after leaving university: "
          },
          "pad": {
           "b": 60,
           "r": 10,
           "t": 50
          },
          "steps": [
           {
            "args": [
             "visible",
             [
              true,
              false,
              false,
              false,
              false,
              false
             ]
            ],
            "label": "0",
            "method": "restyle"
           },
           {
            "args": [
             "visible",
             [
              false,
              true,
              false,
              false,
              false,
              false
             ]
            ],
            "label": "1",
            "method": "restyle"
           },
           {
            "args": [
             "visible",
             [
              false,
              false,
              true,
              false,
              false,
              false
             ]
            ],
            "label": "2",
            "method": "restyle"
           },
           {
            "args": [
             "visible",
             [
              false,
              false,
              false,
              true,
              false,
              false
             ]
            ],
            "label": "3",
            "method": "restyle"
           },
           {
            "args": [
             "visible",
             [
              false,
              false,
              false,
              false,
              true,
              false
             ]
            ],
            "label": "4",
            "method": "restyle"
           },
           {
            "args": [
             "visible",
             [
              false,
              false,
              false,
              false,
              false,
              true
             ]
            ],
            "label": "5",
            "method": "restyle"
           }
          ]
         }
        ],
        "template": {
         "data": {
          "bar": [
           {
            "error_x": {
             "color": "#2a3f5f"
            },
            "error_y": {
             "color": "#2a3f5f"
            },
            "marker": {
             "line": {
              "color": "#E5ECF6",
              "width": 0.5
             },
             "pattern": {
              "fillmode": "overlay",
              "size": 10,
              "solidity": 0.2
             }
            },
            "type": "bar"
           }
          ],
          "barpolar": [
           {
            "marker": {
             "line": {
              "color": "#E5ECF6",
              "width": 0.5
             },
             "pattern": {
              "fillmode": "overlay",
              "size": 10,
              "solidity": 0.2
             }
            },
            "type": "barpolar"
           }
          ],
          "carpet": [
           {
            "aaxis": {
             "endlinecolor": "#2a3f5f",
             "gridcolor": "white",
             "linecolor": "white",
             "minorgridcolor": "white",
             "startlinecolor": "#2a3f5f"
            },
            "baxis": {
             "endlinecolor": "#2a3f5f",
             "gridcolor": "white",
             "linecolor": "white",
             "minorgridcolor": "white",
             "startlinecolor": "#2a3f5f"
            },
            "type": "carpet"
           }
          ],
          "choropleth": [
           {
            "colorbar": {
             "outlinewidth": 0,
             "ticks": ""
            },
            "type": "choropleth"
           }
          ],
          "contour": [
           {
            "colorbar": {
             "outlinewidth": 0,
             "ticks": ""
            },
            "colorscale": [
             [
              0,
              "#0d0887"
             ],
             [
              0.1111111111111111,
              "#46039f"
             ],
             [
              0.2222222222222222,
              "#7201a8"
             ],
             [
              0.3333333333333333,
              "#9c179e"
             ],
             [
              0.4444444444444444,
              "#bd3786"
             ],
             [
              0.5555555555555556,
              "#d8576b"
             ],
             [
              0.6666666666666666,
              "#ed7953"
             ],
             [
              0.7777777777777778,
              "#fb9f3a"
             ],
             [
              0.8888888888888888,
              "#fdca26"
             ],
             [
              1,
              "#f0f921"
             ]
            ],
            "type": "contour"
           }
          ],
          "contourcarpet": [
           {
            "colorbar": {
             "outlinewidth": 0,
             "ticks": ""
            },
            "type": "contourcarpet"
           }
          ],
          "heatmap": [
           {
            "colorbar": {
             "outlinewidth": 0,
             "ticks": ""
            },
            "colorscale": [
             [
              0,
              "#0d0887"
             ],
             [
              0.1111111111111111,
              "#46039f"
             ],
             [
              0.2222222222222222,
              "#7201a8"
             ],
             [
              0.3333333333333333,
              "#9c179e"
             ],
             [
              0.4444444444444444,
              "#bd3786"
             ],
             [
              0.5555555555555556,
              "#d8576b"
             ],
             [
              0.6666666666666666,
              "#ed7953"
             ],
             [
              0.7777777777777778,
              "#fb9f3a"
             ],
             [
              0.8888888888888888,
              "#fdca26"
             ],
             [
              1,
              "#f0f921"
             ]
            ],
            "type": "heatmap"
           }
          ],
          "heatmapgl": [
           {
            "colorbar": {
             "outlinewidth": 0,
             "ticks": ""
            },
            "colorscale": [
             [
              0,
              "#0d0887"
             ],
             [
              0.1111111111111111,
              "#46039f"
             ],
             [
              0.2222222222222222,
              "#7201a8"
             ],
             [
              0.3333333333333333,
              "#9c179e"
             ],
             [
              0.4444444444444444,
              "#bd3786"
             ],
             [
              0.5555555555555556,
              "#d8576b"
             ],
             [
              0.6666666666666666,
              "#ed7953"
             ],
             [
              0.7777777777777778,
              "#fb9f3a"
             ],
             [
              0.8888888888888888,
              "#fdca26"
             ],
             [
              1,
              "#f0f921"
             ]
            ],
            "type": "heatmapgl"
           }
          ],
          "histogram": [
           {
            "marker": {
             "pattern": {
              "fillmode": "overlay",
              "size": 10,
              "solidity": 0.2
             }
            },
            "type": "histogram"
           }
          ],
          "histogram2d": [
           {
            "colorbar": {
             "outlinewidth": 0,
             "ticks": ""
            },
            "colorscale": [
             [
              0,
              "#0d0887"
             ],
             [
              0.1111111111111111,
              "#46039f"
             ],
             [
              0.2222222222222222,
              "#7201a8"
             ],
             [
              0.3333333333333333,
              "#9c179e"
             ],
             [
              0.4444444444444444,
              "#bd3786"
             ],
             [
              0.5555555555555556,
              "#d8576b"
             ],
             [
              0.6666666666666666,
              "#ed7953"
             ],
             [
              0.7777777777777778,
              "#fb9f3a"
             ],
             [
              0.8888888888888888,
              "#fdca26"
             ],
             [
              1,
              "#f0f921"
             ]
            ],
            "type": "histogram2d"
           }
          ],
          "histogram2dcontour": [
           {
            "colorbar": {
             "outlinewidth": 0,
             "ticks": ""
            },
            "colorscale": [
             [
              0,
              "#0d0887"
             ],
             [
              0.1111111111111111,
              "#46039f"
             ],
             [
              0.2222222222222222,
              "#7201a8"
             ],
             [
              0.3333333333333333,
              "#9c179e"
             ],
             [
              0.4444444444444444,
              "#bd3786"
             ],
             [
              0.5555555555555556,
              "#d8576b"
             ],
             [
              0.6666666666666666,
              "#ed7953"
             ],
             [
              0.7777777777777778,
              "#fb9f3a"
             ],
             [
              0.8888888888888888,
              "#fdca26"
             ],
             [
              1,
              "#f0f921"
             ]
            ],
            "type": "histogram2dcontour"
           }
          ],
          "mesh3d": [
           {
            "colorbar": {
             "outlinewidth": 0,
             "ticks": ""
            },
            "type": "mesh3d"
           }
          ],
          "parcoords": [
           {
            "line": {
             "colorbar": {
              "outlinewidth": 0,
              "ticks": ""
             }
            },
            "type": "parcoords"
           }
          ],
          "pie": [
           {
            "automargin": true,
            "type": "pie"
           }
          ],
          "scatter": [
           {
            "fillpattern": {
             "fillmode": "overlay",
             "size": 10,
             "solidity": 0.2
            },
            "type": "scatter"
           }
          ],
          "scatter3d": [
           {
            "line": {
             "colorbar": {
              "outlinewidth": 0,
              "ticks": ""
             }
            },
            "marker": {
             "colorbar": {
              "outlinewidth": 0,
              "ticks": ""
             }
            },
            "type": "scatter3d"
           }
          ],
          "scattercarpet": [
           {
            "marker": {
             "colorbar": {
              "outlinewidth": 0,
              "ticks": ""
             }
            },
            "type": "scattercarpet"
           }
          ],
          "scattergeo": [
           {
            "marker": {
             "colorbar": {
              "outlinewidth": 0,
              "ticks": ""
             }
            },
            "type": "scattergeo"
           }
          ],
          "scattergl": [
           {
            "marker": {
             "colorbar": {
              "outlinewidth": 0,
              "ticks": ""
             }
            },
            "type": "scattergl"
           }
          ],
          "scattermapbox": [
           {
            "marker": {
             "colorbar": {
              "outlinewidth": 0,
              "ticks": ""
             }
            },
            "type": "scattermapbox"
           }
          ],
          "scatterpolar": [
           {
            "marker": {
             "colorbar": {
              "outlinewidth": 0,
              "ticks": ""
             }
            },
            "type": "scatterpolar"
           }
          ],
          "scatterpolargl": [
           {
            "marker": {
             "colorbar": {
              "outlinewidth": 0,
              "ticks": ""
             }
            },
            "type": "scatterpolargl"
           }
          ],
          "scatterternary": [
           {
            "marker": {
             "colorbar": {
              "outlinewidth": 0,
              "ticks": ""
             }
            },
            "type": "scatterternary"
           }
          ],
          "surface": [
           {
            "colorbar": {
             "outlinewidth": 0,
             "ticks": ""
            },
            "colorscale": [
             [
              0,
              "#0d0887"
             ],
             [
              0.1111111111111111,
              "#46039f"
             ],
             [
              0.2222222222222222,
              "#7201a8"
             ],
             [
              0.3333333333333333,
              "#9c179e"
             ],
             [
              0.4444444444444444,
              "#bd3786"
             ],
             [
              0.5555555555555556,
              "#d8576b"
             ],
             [
              0.6666666666666666,
              "#ed7953"
             ],
             [
              0.7777777777777778,
              "#fb9f3a"
             ],
             [
              0.8888888888888888,
              "#fdca26"
             ],
             [
              1,
              "#f0f921"
             ]
            ],
            "type": "surface"
           }
          ],
          "table": [
           {
            "cells": {
             "fill": {
              "color": "#EBF0F8"
             },
             "line": {
              "color": "white"
             }
            },
            "header": {
             "fill": {
              "color": "#C8D4E3"
             },
             "line": {
              "color": "white"
             }
            },
            "type": "table"
           }
          ]
         },
         "layout": {
          "annotationdefaults": {
           "arrowcolor": "#2a3f5f",
           "arrowhead": 0,
           "arrowwidth": 1
          },
          "autotypenumbers": "strict",
          "coloraxis": {
           "colorbar": {
            "outlinewidth": 0,
            "ticks": ""
           }
          },
          "colorscale": {
           "diverging": [
            [
             0,
             "#8e0152"
            ],
            [
             0.1,
             "#c51b7d"
            ],
            [
             0.2,
             "#de77ae"
            ],
            [
             0.3,
             "#f1b6da"
            ],
            [
             0.4,
             "#fde0ef"
            ],
            [
             0.5,
             "#f7f7f7"
            ],
            [
             0.6,
             "#e6f5d0"
            ],
            [
             0.7,
             "#b8e186"
            ],
            [
             0.8,
             "#7fbc41"
            ],
            [
             0.9,
             "#4d9221"
            ],
            [
             1,
             "#276419"
            ]
           ],
           "sequential": [
            [
             0,
             "#0d0887"
            ],
            [
             0.1111111111111111,
             "#46039f"
            ],
            [
             0.2222222222222222,
             "#7201a8"
            ],
            [
             0.3333333333333333,
             "#9c179e"
            ],
            [
             0.4444444444444444,
             "#bd3786"
            ],
            [
             0.5555555555555556,
             "#d8576b"
            ],
            [
             0.6666666666666666,
             "#ed7953"
            ],
            [
             0.7777777777777778,
             "#fb9f3a"
            ],
            [
             0.8888888888888888,
             "#fdca26"
            ],
            [
             1,
             "#f0f921"
            ]
           ],
           "sequentialminus": [
            [
             0,
             "#0d0887"
            ],
            [
             0.1111111111111111,
             "#46039f"
            ],
            [
             0.2222222222222222,
             "#7201a8"
            ],
            [
             0.3333333333333333,
             "#9c179e"
            ],
            [
             0.4444444444444444,
             "#bd3786"
            ],
            [
             0.5555555555555556,
             "#d8576b"
            ],
            [
             0.6666666666666666,
             "#ed7953"
            ],
            [
             0.7777777777777778,
             "#fb9f3a"
            ],
            [
             0.8888888888888888,
             "#fdca26"
            ],
            [
             1,
             "#f0f921"
            ]
           ]
          },
          "colorway": [
           "#636efa",
           "#EF553B",
           "#00cc96",
           "#ab63fa",
           "#FFA15A",
           "#19d3f3",
           "#FF6692",
           "#B6E880",
           "#FF97FF",
           "#FECB52"
          ],
          "font": {
           "color": "#2a3f5f"
          },
          "geo": {
           "bgcolor": "white",
           "lakecolor": "white",
           "landcolor": "#E5ECF6",
           "showlakes": true,
           "showland": true,
           "subunitcolor": "white"
          },
          "hoverlabel": {
           "align": "left"
          },
          "hovermode": "closest",
          "mapbox": {
           "style": "light"
          },
          "paper_bgcolor": "white",
          "plot_bgcolor": "#E5ECF6",
          "polar": {
           "angularaxis": {
            "gridcolor": "white",
            "linecolor": "white",
            "ticks": ""
           },
           "bgcolor": "#E5ECF6",
           "radialaxis": {
            "gridcolor": "white",
            "linecolor": "white",
            "ticks": ""
           }
          },
          "scene": {
           "xaxis": {
            "backgroundcolor": "#E5ECF6",
            "gridcolor": "white",
            "gridwidth": 2,
            "linecolor": "white",
            "showbackground": true,
            "ticks": "",
            "zerolinecolor": "white"
           },
           "yaxis": {
            "backgroundcolor": "#E5ECF6",
            "gridcolor": "white",
            "gridwidth": 2,
            "linecolor": "white",
            "showbackground": true,
            "ticks": "",
            "zerolinecolor": "white"
           },
           "zaxis": {
            "backgroundcolor": "#E5ECF6",
            "gridcolor": "white",
            "gridwidth": 2,
            "linecolor": "white",
            "showbackground": true,
            "ticks": "",
            "zerolinecolor": "white"
           }
          },
          "shapedefaults": {
           "line": {
            "color": "#2a3f5f"
           }
          },
          "ternary": {
           "aaxis": {
            "gridcolor": "white",
            "linecolor": "white",
            "ticks": ""
           },
           "baxis": {
            "gridcolor": "white",
            "linecolor": "white",
            "ticks": ""
           },
           "bgcolor": "#E5ECF6",
           "caxis": {
            "gridcolor": "white",
            "linecolor": "white",
            "ticks": ""
           }
          },
          "title": {
           "x": 0.05
          },
          "xaxis": {
           "automargin": true,
           "gridcolor": "white",
           "linecolor": "white",
           "ticks": "",
           "title": {
            "standoff": 15
           },
           "zerolinecolor": "white",
           "zerolinewidth": 2
          },
          "yaxis": {
           "automargin": true,
           "gridcolor": "white",
           "linecolor": "white",
           "ticks": "",
           "title": {
            "standoff": 15
           },
           "zerolinecolor": "white",
           "zerolinewidth": 2
          }
         }
        },
        "title": {
         "text": "Labor market position per degree<br><sup>Wo-bachelor students have the most variance in labor market position throughout the years</sup>"
        },
        "xaxis": {
         "linecolor": "#7785A9",
         "linewidth": 2,
         "mirror": true,
         "showline": true,
         "title": {
          "text": "Degree"
         }
        },
        "yaxis": {
         "linecolor": "#7785A9",
         "linewidth": 2,
         "mirror": true,
         "showline": true,
         "ticktext": [
          "✔ job, ✔ benefits",
          "✔ job, ✗ benefits",
          "Back to university",
          "✗ job, ✔ benefits",
          "✗ job, ✗ benefits"
         ],
         "tickvals": [
          "Met werk, met uitkering",
          "Met werk, zonder uitkering",
          "Terug in onderwijs",
          "Zonder werk, met uitkering",
          "Zonder werk, zonder uitkering"
         ],
         "title": {
          "text": "Labor market position"
         }
        }
       }
      }
     },
     "metadata": {},
     "output_type": "display_data"
    }
   ],
   "source": [
    "fig = go.Figure()\n",
    "\n",
    "studies = ['']\n",
    "\n",
    "for i in data:\n",
    "    heatmap_data = i.pivot_table(values='Percentage degree level', index='Arbeidsmarktpositie', columns='Uitstromers ho met en zonder diploma', aggfunc='sum')\n",
    "    heatmap_annotations = heatmap_data.map(lambda x: '{:.0f}%'.format(x))\n",
    "    tracey = go.Heatmap(\n",
    "        z=heatmap_data.values,\n",
    "        x=heatmap_data.columns.tolist(),\n",
    "        y=heatmap_data.index.tolist(),\n",
    "        colorscale='Blues',\n",
    "        zmin=0,\n",
    "        zmax=100,\n",
    "        visible=False,\n",
    "        colorbar=dict(\n",
    "            title='% within degree',\n",
    "            tickformat='%d%',\n",
    "        ),\n",
    "        hoverongaps=False,\n",
    "        hoverinfo='text+x',\n",
    "        text=heatmap_annotations.values.tolist()\n",
    "    )\n",
    "    fig.add_trace(tracey)\n",
    "\n",
    "fig.data[0].visible = True\n",
    "\n",
    "layout = go.Layout(\n",
    "    title='Labor market position per degree<br><sup>Wo-bachelor students have the most variance in labor market position throughout the years</sup>',\n",
    "    xaxis=go.layout.XAxis(\n",
    "        title='Degree',\n",
    "        linewidth=2,\n",
    "        showline=True,\n",
    "        linecolor='#7785A9',\n",
    "        mirror=True\n",
    "    ),\n",
    "    yaxis=go.layout.YAxis(\n",
    "        title='Labor market position',\n",
    "        linewidth=2,\n",
    "        showline=True,\n",
    "        linecolor='#7785A9',\n",
    "        mirror=True,\n",
    "        tickvals = heatmap_data.index.tolist(),\n",
    "        ticktext=['✔ job, ✔ benefits', '✔ job, ✗ benefits',  'Back to university', '✗ job, ✔ benefits', '✗ job, ✗ benefits']\n",
    "    )\n",
    ")\n",
    "\n",
    "steps = []\n",
    "for i in range(len(fig.data)):\n",
    "    step = dict(\n",
    "        method=\"restyle\",\n",
    "        args=[\"visible\", [False] * len(fig.data)],\n",
    "        label=str(i),\n",
    "    )\n",
    "    step[\"args\"][1][i] = True\n",
    "    steps.append(step)\n",
    "\n",
    "sliders = [dict(\n",
    "    active=0,\n",
    "    currentvalue={\"prefix\": \"Years after leaving university: \"},\n",
    "    pad={\"t\": 50},\n",
    "    steps=steps\n",
    ")]\n",
    "\n",
    "fig.update_layout(\n",
    "    sliders=sliders,\n",
    "    height=500,\n",
    "    annotations=[\n",
    "        go.layout.Annotation(\n",
    "            text=\" <br>The heatmap illustrates the labor market position across various degrees.<br>The colors correspond to the percentages within each degree, providing a visual representation<br> of the distribution of labor market positions for graduates with different levels of education.\",\n",
    "            xref=\"paper\", yref=\"paper\",\n",
    "            x=0, y=-0.8,\n",
    "            showarrow=False,\n",
    "            font=dict(size=12),\n",
    "            xanchor='left',\n",
    "            yanchor='bottom',\n",
    "            align='left'\n",
    "        )\n",
    "    ],\n",
    "    margin=dict(\n",
    "        b = 160\n",
    "    ),\n",
    ")\n",
    "\n",
    "fig.update_layout(layout)\n",
    "\n",
    "fig.update_layout(margin=dict(l=20, r=20, t=80, b=10))\n",
    "fig['layout']['sliders'][0]['pad']=dict(r=10, t=50, b=60)\n",
    "\n",
    "fig.show()"
   ]
  }
 ],
 "metadata": {
  "kernelspec": {
   "display_name": "jupyterbook",
   "language": "python",
   "name": "python3"
  },
  "language_info": {
   "codemirror_mode": {
    "name": "ipython",
    "version": 3
   },
   "file_extension": ".py",
   "mimetype": "text/x-python",
   "name": "python",
   "nbconvert_exporter": "python",
   "pygments_lexer": "ipython3",
   "version": "3.10.14"
  }
 },
 "nbformat": 4,
 "nbformat_minor": 2
}
