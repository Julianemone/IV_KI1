{
 "cells": [
  {
   "cell_type": "code",
   "execution_count": 875,
   "metadata": {},
   "outputs": [],
   "source": [
    "import plotly.graph_objs as go\n",
    "import plotly.express as px\n",
    "import pandas as pd\n",
    "import numpy as np\n",
    "import matplotlib.pyplot as plt\n",
    "import seaborn as sns"
   ]
  },
  {
   "cell_type": "markdown",
   "metadata": {},
   "source": [
    "Instellingen voor dataset:\n",
    "\n",
    "Geslacht: totaal\n",
    "\n",
    "Persoonskenmerken: geen internationale student\n",
    "\n",
    "Perioden: 20.15/'16\n",
    "\n",
    "Arbeidsmarkt positie: alles behalve totaal en onbekend\n",
    "\n",
    "Uitstromers: wo/hbo bachelor, wo/hbo master\n",
    "\n",
    "Studierichting: alles behalve totaal"
   ]
  },
  {
   "cell_type": "code",
   "execution_count": null,
   "metadata": {},
   "outputs": [],
   "source": [
    "arbeidsmarkt = pd.read_csv(\"data/arbeidsmarkt.csv\", sep=';')\n",
    "uurloon = pd.read_csv(\"data/uurloon.csv\", sep=';')\n",
    "uurloon['Uurloon werknemers na verlaten ho (euro)']  = pd.to_numeric(uurloon['Uurloon werknemers na verlaten ho (euro)'] , errors='coerce')\n",
    "arbeidsmarkt['Uitstromers ho (aantal)']  = pd.to_numeric(arbeidsmarkt['Uitstromers ho (aantal)'] , errors='coerce')\n",
    "arbeidsmarkt.fillna(0, inplace = True)\n"
   ]
  },
  {
   "cell_type": "code",
   "execution_count": 877,
   "metadata": {},
   "outputs": [],
   "source": [
    "peilmoment1 = arbeidsmarkt.loc[arbeidsmarkt['Peilmoment'] == 'Direct na verlaten onderwijs']"
   ]
  },
  {
   "cell_type": "code",
   "execution_count": 893,
   "metadata": {},
   "outputs": [],
   "source": [
    "verdeling = peilmoment1.groupby(['Geslacht','Studierichting'])['Uitstromers ho (aantal)'].sum().reset_index()\n",
    "verdeling.rename(columns={'Uitstromers ho (aantal)': 'Total studierichting'}, inplace=True)"
   ]
  },
  {
   "cell_type": "code",
   "execution_count": 894,
   "metadata": {},
   "outputs": [
    {
     "data": {
      "application/vnd.plotly.v1+json": {
       "config": {
        "plotlyServerURL": "https://plot.ly"
       },
       "data": [
        {
         "branchvalues": "total",
         "insidetextfont": {
          "size": 20
         },
         "labels": [
          "Men",
          "Economics ♂",
          "Behaviour and society ♂",
          "Healthcare ♂",
          "Agriculture ♂",
          "Nature ♂",
          "Education ♂",
          "Law ♂",
          "Other ♂",
          "Language & culture ♂",
          "Technics ♂",
          "Women",
          "Economics ♀",
          "Behaviour and society ♀",
          "Healthcare ♀",
          "Agriculture ♀",
          "Nature ♀",
          "Education ♀",
          "Law ♀",
          "Other ♀",
          "Language & culture ♀",
          "Technics ♀"
         ],
         "parents": [
          "",
          "Men",
          "Men",
          "Men",
          "Men",
          "Men",
          "Men",
          "Men",
          "Men",
          "Men",
          "Men",
          "",
          "Women",
          "Women",
          "Women",
          "Women",
          "Women",
          "Women",
          "Women",
          "Women",
          "Women",
          "Women"
         ],
         "type": "sunburst",
         "values": [
          35170,
          11690,
          3830,
          1930,
          1050,
          1730,
          1340,
          1400,
          200,
          2300,
          9700,
          44000,
          9800,
          12700,
          6540,
          1110,
          990,
          3830,
          2280,
          360,
          3840,
          2550
         ]
        }
       ],
       "layout": {
        "height": 600,
        "margin": {
         "b": 25,
         "l": 25,
         "r": 25,
         "t": 50
        },
        "template": {
         "data": {
          "bar": [
           {
            "error_x": {
             "color": "#2a3f5f"
            },
            "error_y": {
             "color": "#2a3f5f"
            },
            "marker": {
             "line": {
              "color": "#E5ECF6",
              "width": 0.5
             },
             "pattern": {
              "fillmode": "overlay",
              "size": 10,
              "solidity": 0.2
             }
            },
            "type": "bar"
           }
          ],
          "barpolar": [
           {
            "marker": {
             "line": {
              "color": "#E5ECF6",
              "width": 0.5
             },
             "pattern": {
              "fillmode": "overlay",
              "size": 10,
              "solidity": 0.2
             }
            },
            "type": "barpolar"
           }
          ],
          "carpet": [
           {
            "aaxis": {
             "endlinecolor": "#2a3f5f",
             "gridcolor": "white",
             "linecolor": "white",
             "minorgridcolor": "white",
             "startlinecolor": "#2a3f5f"
            },
            "baxis": {
             "endlinecolor": "#2a3f5f",
             "gridcolor": "white",
             "linecolor": "white",
             "minorgridcolor": "white",
             "startlinecolor": "#2a3f5f"
            },
            "type": "carpet"
           }
          ],
          "choropleth": [
           {
            "colorbar": {
             "outlinewidth": 0,
             "ticks": ""
            },
            "type": "choropleth"
           }
          ],
          "contour": [
           {
            "colorbar": {
             "outlinewidth": 0,
             "ticks": ""
            },
            "colorscale": [
             [
              0,
              "#0d0887"
             ],
             [
              0.1111111111111111,
              "#46039f"
             ],
             [
              0.2222222222222222,
              "#7201a8"
             ],
             [
              0.3333333333333333,
              "#9c179e"
             ],
             [
              0.4444444444444444,
              "#bd3786"
             ],
             [
              0.5555555555555556,
              "#d8576b"
             ],
             [
              0.6666666666666666,
              "#ed7953"
             ],
             [
              0.7777777777777778,
              "#fb9f3a"
             ],
             [
              0.8888888888888888,
              "#fdca26"
             ],
             [
              1,
              "#f0f921"
             ]
            ],
            "type": "contour"
           }
          ],
          "contourcarpet": [
           {
            "colorbar": {
             "outlinewidth": 0,
             "ticks": ""
            },
            "type": "contourcarpet"
           }
          ],
          "heatmap": [
           {
            "colorbar": {
             "outlinewidth": 0,
             "ticks": ""
            },
            "colorscale": [
             [
              0,
              "#0d0887"
             ],
             [
              0.1111111111111111,
              "#46039f"
             ],
             [
              0.2222222222222222,
              "#7201a8"
             ],
             [
              0.3333333333333333,
              "#9c179e"
             ],
             [
              0.4444444444444444,
              "#bd3786"
             ],
             [
              0.5555555555555556,
              "#d8576b"
             ],
             [
              0.6666666666666666,
              "#ed7953"
             ],
             [
              0.7777777777777778,
              "#fb9f3a"
             ],
             [
              0.8888888888888888,
              "#fdca26"
             ],
             [
              1,
              "#f0f921"
             ]
            ],
            "type": "heatmap"
           }
          ],
          "heatmapgl": [
           {
            "colorbar": {
             "outlinewidth": 0,
             "ticks": ""
            },
            "colorscale": [
             [
              0,
              "#0d0887"
             ],
             [
              0.1111111111111111,
              "#46039f"
             ],
             [
              0.2222222222222222,
              "#7201a8"
             ],
             [
              0.3333333333333333,
              "#9c179e"
             ],
             [
              0.4444444444444444,
              "#bd3786"
             ],
             [
              0.5555555555555556,
              "#d8576b"
             ],
             [
              0.6666666666666666,
              "#ed7953"
             ],
             [
              0.7777777777777778,
              "#fb9f3a"
             ],
             [
              0.8888888888888888,
              "#fdca26"
             ],
             [
              1,
              "#f0f921"
             ]
            ],
            "type": "heatmapgl"
           }
          ],
          "histogram": [
           {
            "marker": {
             "pattern": {
              "fillmode": "overlay",
              "size": 10,
              "solidity": 0.2
             }
            },
            "type": "histogram"
           }
          ],
          "histogram2d": [
           {
            "colorbar": {
             "outlinewidth": 0,
             "ticks": ""
            },
            "colorscale": [
             [
              0,
              "#0d0887"
             ],
             [
              0.1111111111111111,
              "#46039f"
             ],
             [
              0.2222222222222222,
              "#7201a8"
             ],
             [
              0.3333333333333333,
              "#9c179e"
             ],
             [
              0.4444444444444444,
              "#bd3786"
             ],
             [
              0.5555555555555556,
              "#d8576b"
             ],
             [
              0.6666666666666666,
              "#ed7953"
             ],
             [
              0.7777777777777778,
              "#fb9f3a"
             ],
             [
              0.8888888888888888,
              "#fdca26"
             ],
             [
              1,
              "#f0f921"
             ]
            ],
            "type": "histogram2d"
           }
          ],
          "histogram2dcontour": [
           {
            "colorbar": {
             "outlinewidth": 0,
             "ticks": ""
            },
            "colorscale": [
             [
              0,
              "#0d0887"
             ],
             [
              0.1111111111111111,
              "#46039f"
             ],
             [
              0.2222222222222222,
              "#7201a8"
             ],
             [
              0.3333333333333333,
              "#9c179e"
             ],
             [
              0.4444444444444444,
              "#bd3786"
             ],
             [
              0.5555555555555556,
              "#d8576b"
             ],
             [
              0.6666666666666666,
              "#ed7953"
             ],
             [
              0.7777777777777778,
              "#fb9f3a"
             ],
             [
              0.8888888888888888,
              "#fdca26"
             ],
             [
              1,
              "#f0f921"
             ]
            ],
            "type": "histogram2dcontour"
           }
          ],
          "mesh3d": [
           {
            "colorbar": {
             "outlinewidth": 0,
             "ticks": ""
            },
            "type": "mesh3d"
           }
          ],
          "parcoords": [
           {
            "line": {
             "colorbar": {
              "outlinewidth": 0,
              "ticks": ""
             }
            },
            "type": "parcoords"
           }
          ],
          "pie": [
           {
            "automargin": true,
            "type": "pie"
           }
          ],
          "scatter": [
           {
            "fillpattern": {
             "fillmode": "overlay",
             "size": 10,
             "solidity": 0.2
            },
            "type": "scatter"
           }
          ],
          "scatter3d": [
           {
            "line": {
             "colorbar": {
              "outlinewidth": 0,
              "ticks": ""
             }
            },
            "marker": {
             "colorbar": {
              "outlinewidth": 0,
              "ticks": ""
             }
            },
            "type": "scatter3d"
           }
          ],
          "scattercarpet": [
           {
            "marker": {
             "colorbar": {
              "outlinewidth": 0,
              "ticks": ""
             }
            },
            "type": "scattercarpet"
           }
          ],
          "scattergeo": [
           {
            "marker": {
             "colorbar": {
              "outlinewidth": 0,
              "ticks": ""
             }
            },
            "type": "scattergeo"
           }
          ],
          "scattergl": [
           {
            "marker": {
             "colorbar": {
              "outlinewidth": 0,
              "ticks": ""
             }
            },
            "type": "scattergl"
           }
          ],
          "scattermapbox": [
           {
            "marker": {
             "colorbar": {
              "outlinewidth": 0,
              "ticks": ""
             }
            },
            "type": "scattermapbox"
           }
          ],
          "scatterpolar": [
           {
            "marker": {
             "colorbar": {
              "outlinewidth": 0,
              "ticks": ""
             }
            },
            "type": "scatterpolar"
           }
          ],
          "scatterpolargl": [
           {
            "marker": {
             "colorbar": {
              "outlinewidth": 0,
              "ticks": ""
             }
            },
            "type": "scatterpolargl"
           }
          ],
          "scatterternary": [
           {
            "marker": {
             "colorbar": {
              "outlinewidth": 0,
              "ticks": ""
             }
            },
            "type": "scatterternary"
           }
          ],
          "surface": [
           {
            "colorbar": {
             "outlinewidth": 0,
             "ticks": ""
            },
            "colorscale": [
             [
              0,
              "#0d0887"
             ],
             [
              0.1111111111111111,
              "#46039f"
             ],
             [
              0.2222222222222222,
              "#7201a8"
             ],
             [
              0.3333333333333333,
              "#9c179e"
             ],
             [
              0.4444444444444444,
              "#bd3786"
             ],
             [
              0.5555555555555556,
              "#d8576b"
             ],
             [
              0.6666666666666666,
              "#ed7953"
             ],
             [
              0.7777777777777778,
              "#fb9f3a"
             ],
             [
              0.8888888888888888,
              "#fdca26"
             ],
             [
              1,
              "#f0f921"
             ]
            ],
            "type": "surface"
           }
          ],
          "table": [
           {
            "cells": {
             "fill": {
              "color": "#EBF0F8"
             },
             "line": {
              "color": "white"
             }
            },
            "header": {
             "fill": {
              "color": "#C8D4E3"
             },
             "line": {
              "color": "white"
             }
            },
            "type": "table"
           }
          ]
         },
         "layout": {
          "annotationdefaults": {
           "arrowcolor": "#2a3f5f",
           "arrowhead": 0,
           "arrowwidth": 1
          },
          "autotypenumbers": "strict",
          "coloraxis": {
           "colorbar": {
            "outlinewidth": 0,
            "ticks": ""
           }
          },
          "colorscale": {
           "diverging": [
            [
             0,
             "#8e0152"
            ],
            [
             0.1,
             "#c51b7d"
            ],
            [
             0.2,
             "#de77ae"
            ],
            [
             0.3,
             "#f1b6da"
            ],
            [
             0.4,
             "#fde0ef"
            ],
            [
             0.5,
             "#f7f7f7"
            ],
            [
             0.6,
             "#e6f5d0"
            ],
            [
             0.7,
             "#b8e186"
            ],
            [
             0.8,
             "#7fbc41"
            ],
            [
             0.9,
             "#4d9221"
            ],
            [
             1,
             "#276419"
            ]
           ],
           "sequential": [
            [
             0,
             "#0d0887"
            ],
            [
             0.1111111111111111,
             "#46039f"
            ],
            [
             0.2222222222222222,
             "#7201a8"
            ],
            [
             0.3333333333333333,
             "#9c179e"
            ],
            [
             0.4444444444444444,
             "#bd3786"
            ],
            [
             0.5555555555555556,
             "#d8576b"
            ],
            [
             0.6666666666666666,
             "#ed7953"
            ],
            [
             0.7777777777777778,
             "#fb9f3a"
            ],
            [
             0.8888888888888888,
             "#fdca26"
            ],
            [
             1,
             "#f0f921"
            ]
           ],
           "sequentialminus": [
            [
             0,
             "#0d0887"
            ],
            [
             0.1111111111111111,
             "#46039f"
            ],
            [
             0.2222222222222222,
             "#7201a8"
            ],
            [
             0.3333333333333333,
             "#9c179e"
            ],
            [
             0.4444444444444444,
             "#bd3786"
            ],
            [
             0.5555555555555556,
             "#d8576b"
            ],
            [
             0.6666666666666666,
             "#ed7953"
            ],
            [
             0.7777777777777778,
             "#fb9f3a"
            ],
            [
             0.8888888888888888,
             "#fdca26"
            ],
            [
             1,
             "#f0f921"
            ]
           ]
          },
          "colorway": [
           "#636efa",
           "#EF553B",
           "#00cc96",
           "#ab63fa",
           "#FFA15A",
           "#19d3f3",
           "#FF6692",
           "#B6E880",
           "#FF97FF",
           "#FECB52"
          ],
          "font": {
           "color": "#2a3f5f"
          },
          "geo": {
           "bgcolor": "white",
           "lakecolor": "white",
           "landcolor": "#E5ECF6",
           "showlakes": true,
           "showland": true,
           "subunitcolor": "white"
          },
          "hoverlabel": {
           "align": "left"
          },
          "hovermode": "closest",
          "mapbox": {
           "style": "light"
          },
          "paper_bgcolor": "white",
          "plot_bgcolor": "#E5ECF6",
          "polar": {
           "angularaxis": {
            "gridcolor": "white",
            "linecolor": "white",
            "ticks": ""
           },
           "bgcolor": "#E5ECF6",
           "radialaxis": {
            "gridcolor": "white",
            "linecolor": "white",
            "ticks": ""
           }
          },
          "scene": {
           "xaxis": {
            "backgroundcolor": "#E5ECF6",
            "gridcolor": "white",
            "gridwidth": 2,
            "linecolor": "white",
            "showbackground": true,
            "ticks": "",
            "zerolinecolor": "white"
           },
           "yaxis": {
            "backgroundcolor": "#E5ECF6",
            "gridcolor": "white",
            "gridwidth": 2,
            "linecolor": "white",
            "showbackground": true,
            "ticks": "",
            "zerolinecolor": "white"
           },
           "zaxis": {
            "backgroundcolor": "#E5ECF6",
            "gridcolor": "white",
            "gridwidth": 2,
            "linecolor": "white",
            "showbackground": true,
            "ticks": "",
            "zerolinecolor": "white"
           }
          },
          "shapedefaults": {
           "line": {
            "color": "#2a3f5f"
           }
          },
          "ternary": {
           "aaxis": {
            "gridcolor": "white",
            "linecolor": "white",
            "ticks": ""
           },
           "baxis": {
            "gridcolor": "white",
            "linecolor": "white",
            "ticks": ""
           },
           "bgcolor": "#E5ECF6",
           "caxis": {
            "gridcolor": "white",
            "linecolor": "white",
            "ticks": ""
           }
          },
          "title": {
           "x": 0.05
          },
          "xaxis": {
           "automargin": true,
           "gridcolor": "white",
           "linecolor": "white",
           "ticks": "",
           "title": {
            "standoff": 15
           },
           "zerolinecolor": "white",
           "zerolinewidth": 2
          },
          "yaxis": {
           "automargin": true,
           "gridcolor": "white",
           "linecolor": "white",
           "ticks": "",
           "title": {
            "standoff": 15
           },
           "zerolinecolor": "white",
           "zerolinewidth": 2
          }
         }
        },
        "title": {
         "text": "Study subject by sex"
        }
       }
      }
     },
     "metadata": {},
     "output_type": "display_data"
    }
   ],
   "source": [
    "labels = []\n",
    "parents = []\n",
    "values = []\n",
    "\n",
    "unique_geslacht = set()\n",
    "\n",
    "label_map = {\n",
    "    'Recht': 'Law',\n",
    "    'Gedrag en Maatschappij': 'Behaviour and society',\n",
    "    'Gezondheidszorg': 'Healthcare',\n",
    "    'Onderwijs': 'Education',\n",
    "    'Economie': 'Economics',\n",
    "    'Natuur': 'Nature',\n",
    "    'Techniek': 'Technics',\n",
    "    'Onderwijs': 'Education',\n",
    "    'Sectoroverstijgend': 'Other',\n",
    "    'Landbouw en natuurlijke omgeving': 'Agriculture',\n",
    "    'Taal en cultuur': 'Language & culture',\n",
    "    'Vrouwen': 'Women',\n",
    "    'Mannen': 'Men'\n",
    "}\n",
    "\n",
    "for _, row in verdeling.iterrows():\n",
    "    geslacht = row['Geslacht']\n",
    "    studierichting = row['Studierichting']\n",
    "    aantal = row['Total studierichting']\n",
    "\n",
    "    if label_map[geslacht] not in unique_geslacht:\n",
    "        labels.append(label_map[geslacht])\n",
    "        parents.append(\"\")\n",
    "        if geslacht == 'Vrouwen':\n",
    "            values.append(44000.0)\n",
    "        elif geslacht == 'Mannen':\n",
    "            values.append(35170.0)\n",
    "        unique_geslacht.add(label_map[geslacht])\n",
    "\n",
    "    if geslacht == 'Mannen':\n",
    "        labels.append(label_map[studierichting] + ' ♂')\n",
    "    elif geslacht == 'Vrouwen':\n",
    "        labels.append(label_map[studierichting] + ' ♀')\n",
    "    parents.append(label_map[geslacht])\n",
    "    values.append(aantal)\n",
    "\n",
    "fig = go.Figure(go.Sunburst(\n",
    "    labels=labels,\n",
    "    parents=parents,\n",
    "    values=values,\n",
    "    branchvalues='total',\n",
    "    insidetextfont=dict(size=20),\n",
    "))\n",
    "\n",
    "fig.update_layout(\n",
    "    title='Study subject by sex',\n",
    "    margin=dict(t=50, l=25, r=25, b=25),\n",
    "    height=600\n",
    ")\n",
    "\n",
    "fig.show()"
   ]
  },
  {
   "cell_type": "markdown",
   "metadata": {},
   "source": [
    "This barplot compares the hourly wage per degree. It's interesting to see that even though WO is a \"higher\" degree it initially earns less than the so called \"lower\" degrees.\n",
    "\n",
    "The sunburst chart shows which degree subjects women and men study most. We can compare how these differ between the sexes. To follow this up we will look at the difference in wage between sexes per study subject.\n",
    "\n",
    "The boxplot compares the hourly wage within degree subject per sex. Overall it seems that women get paid less than men with every degree subject.\n",
    "\n",
    "The heatmap allows us to look at the jobmarket position per degree type through the years. \n",
    "\n",
    "The heatmap shows us the employment status per degree (as percentage within that degree). In this heatmap we can again look how this develops over time. \n",
    "\n",
    "Interestingly, the Wo-bachelor students have a high percentage that ends up going back into university. As we saw before this is also the degree with the lowest hourly wage for the first 2 years after leaving university."
   ]
  },
  {
   "cell_type": "markdown",
   "metadata": {},
   "source": []
  },
  {
   "cell_type": "code",
   "execution_count": 880,
   "metadata": {},
   "outputs": [],
   "source": [
    "uurloongem = pd.read_csv(\"data/uurloongem.csv\", sep=';')\n",
    "hbo_bachelor = uurloongem.loc[uurloongem['Uitstromers ho met en zonder diploma'] == 'Hbo-bachelor']\n",
    "hbo_master = uurloongem.loc[uurloongem['Uitstromers ho met en zonder diploma'] == 'Hbo-master']\n",
    "wo_bachelor = uurloongem.loc[uurloongem['Uitstromers ho met en zonder diploma'] == 'Wo-bachelor']\n",
    "wo_master = uurloongem.loc[uurloongem['Uitstromers ho met en zonder diploma'] == 'Wo-master']"
   ]
  },
  {
   "cell_type": "code",
   "execution_count": 881,
   "metadata": {},
   "outputs": [
    {
     "data": {
      "application/vnd.plotly.v1+json": {
       "config": {
        "plotlyServerURL": "https://plot.ly"
       },
       "data": [
        {
         "hoverinfo": "y+name",
         "marker": {
          "color": "rgb(102,194,165)"
         },
         "name": "Hbo-bachelor",
         "type": "bar",
         "x": [
          "Direct na verlaten onderwijs",
          "1 jaar na verlaten onderwijs",
          "2 jaar na verlaten onderwijs",
          "3 jaar na verlaten onderwijs",
          "4 jaar na verlaten onderwijs",
          "5 jaar na verlaten onderwijs",
          "Direct na verlaten onderwijs",
          "1 jaar na verlaten onderwijs",
          "2 jaar na verlaten onderwijs",
          "3 jaar na verlaten onderwijs",
          "4 jaar na verlaten onderwijs",
          "5 jaar na verlaten onderwijs",
          "Direct na verlaten onderwijs",
          "1 jaar na verlaten onderwijs",
          "2 jaar na verlaten onderwijs",
          "3 jaar na verlaten onderwijs",
          "4 jaar na verlaten onderwijs",
          "5 jaar na verlaten onderwijs",
          "Direct na verlaten onderwijs",
          "1 jaar na verlaten onderwijs",
          "2 jaar na verlaten onderwijs",
          "3 jaar na verlaten onderwijs",
          "4 jaar na verlaten onderwijs",
          "5 jaar na verlaten onderwijs",
          "Direct na verlaten onderwijs",
          "1 jaar na verlaten onderwijs",
          "2 jaar na verlaten onderwijs",
          "3 jaar na verlaten onderwijs",
          "4 jaar na verlaten onderwijs",
          "5 jaar na verlaten onderwijs",
          "Direct na verlaten onderwijs",
          "1 jaar na verlaten onderwijs",
          "2 jaar na verlaten onderwijs",
          "3 jaar na verlaten onderwijs",
          "4 jaar na verlaten onderwijs",
          "5 jaar na verlaten onderwijs",
          "Direct na verlaten onderwijs",
          "1 jaar na verlaten onderwijs",
          "2 jaar na verlaten onderwijs",
          "3 jaar na verlaten onderwijs",
          "4 jaar na verlaten onderwijs",
          "5 jaar na verlaten onderwijs",
          "Direct na verlaten onderwijs",
          "1 jaar na verlaten onderwijs",
          "2 jaar na verlaten onderwijs",
          "3 jaar na verlaten onderwijs",
          "4 jaar na verlaten onderwijs",
          "5 jaar na verlaten onderwijs",
          "Direct na verlaten onderwijs",
          "1 jaar na verlaten onderwijs",
          "2 jaar na verlaten onderwijs",
          "3 jaar na verlaten onderwijs",
          "4 jaar na verlaten onderwijs",
          "5 jaar na verlaten onderwijs",
          "Direct na verlaten onderwijs",
          "1 jaar na verlaten onderwijs",
          "2 jaar na verlaten onderwijs",
          "3 jaar na verlaten onderwijs",
          "4 jaar na verlaten onderwijs",
          "5 jaar na verlaten onderwijs",
          "Direct na verlaten onderwijs",
          "1 jaar na verlaten onderwijs",
          "2 jaar na verlaten onderwijs",
          "3 jaar na verlaten onderwijs",
          "4 jaar na verlaten onderwijs",
          "5 jaar na verlaten onderwijs",
          "Direct na verlaten onderwijs",
          "1 jaar na verlaten onderwijs",
          "2 jaar na verlaten onderwijs",
          "3 jaar na verlaten onderwijs",
          "4 jaar na verlaten onderwijs",
          "5 jaar na verlaten onderwijs",
          "Direct na verlaten onderwijs",
          "1 jaar na verlaten onderwijs",
          "2 jaar na verlaten onderwijs",
          "3 jaar na verlaten onderwijs",
          "4 jaar na verlaten onderwijs",
          "5 jaar na verlaten onderwijs",
          "Direct na verlaten onderwijs",
          "1 jaar na verlaten onderwijs",
          "2 jaar na verlaten onderwijs",
          "3 jaar na verlaten onderwijs",
          "4 jaar na verlaten onderwijs",
          "5 jaar na verlaten onderwijs",
          "Direct na verlaten onderwijs",
          "1 jaar na verlaten onderwijs",
          "2 jaar na verlaten onderwijs",
          "3 jaar na verlaten onderwijs",
          "4 jaar na verlaten onderwijs",
          "5 jaar na verlaten onderwijs",
          "Direct na verlaten onderwijs",
          "1 jaar na verlaten onderwijs",
          "2 jaar na verlaten onderwijs",
          "3 jaar na verlaten onderwijs",
          "4 jaar na verlaten onderwijs",
          "5 jaar na verlaten onderwijs",
          "Direct na verlaten onderwijs",
          "1 jaar na verlaten onderwijs",
          "2 jaar na verlaten onderwijs",
          "3 jaar na verlaten onderwijs",
          "4 jaar na verlaten onderwijs",
          "5 jaar na verlaten onderwijs",
          "Direct na verlaten onderwijs",
          "1 jaar na verlaten onderwijs",
          "2 jaar na verlaten onderwijs",
          "3 jaar na verlaten onderwijs",
          "4 jaar na verlaten onderwijs",
          "5 jaar na verlaten onderwijs",
          "Direct na verlaten onderwijs",
          "1 jaar na verlaten onderwijs",
          "2 jaar na verlaten onderwijs",
          "3 jaar na verlaten onderwijs",
          "4 jaar na verlaten onderwijs",
          "5 jaar na verlaten onderwijs",
          "Direct na verlaten onderwijs",
          "1 jaar na verlaten onderwijs",
          "2 jaar na verlaten onderwijs",
          "3 jaar na verlaten onderwijs",
          "4 jaar na verlaten onderwijs",
          "5 jaar na verlaten onderwijs",
          "Direct na verlaten onderwijs",
          "1 jaar na verlaten onderwijs",
          "2 jaar na verlaten onderwijs",
          "3 jaar na verlaten onderwijs",
          "4 jaar na verlaten onderwijs",
          "5 jaar na verlaten onderwijs",
          "Direct na verlaten onderwijs",
          "1 jaar na verlaten onderwijs",
          "2 jaar na verlaten onderwijs",
          "3 jaar na verlaten onderwijs",
          "4 jaar na verlaten onderwijs",
          "5 jaar na verlaten onderwijs",
          "Direct na verlaten onderwijs",
          "1 jaar na verlaten onderwijs",
          "2 jaar na verlaten onderwijs",
          "3 jaar na verlaten onderwijs",
          "4 jaar na verlaten onderwijs",
          "5 jaar na verlaten onderwijs",
          "Direct na verlaten onderwijs",
          "1 jaar na verlaten onderwijs",
          "2 jaar na verlaten onderwijs",
          "3 jaar na verlaten onderwijs",
          "4 jaar na verlaten onderwijs",
          "5 jaar na verlaten onderwijs",
          "Direct na verlaten onderwijs",
          "1 jaar na verlaten onderwijs",
          "2 jaar na verlaten onderwijs",
          "3 jaar na verlaten onderwijs",
          "4 jaar na verlaten onderwijs",
          "5 jaar na verlaten onderwijs",
          "Direct na verlaten onderwijs",
          "1 jaar na verlaten onderwijs",
          "2 jaar na verlaten onderwijs",
          "3 jaar na verlaten onderwijs",
          "4 jaar na verlaten onderwijs",
          "5 jaar na verlaten onderwijs",
          "Direct na verlaten onderwijs",
          "1 jaar na verlaten onderwijs",
          "2 jaar na verlaten onderwijs",
          "3 jaar na verlaten onderwijs",
          "4 jaar na verlaten onderwijs",
          "5 jaar na verlaten onderwijs",
          "Direct na verlaten onderwijs",
          "1 jaar na verlaten onderwijs",
          "2 jaar na verlaten onderwijs",
          "3 jaar na verlaten onderwijs",
          "4 jaar na verlaten onderwijs",
          "5 jaar na verlaten onderwijs",
          "Direct na verlaten onderwijs",
          "1 jaar na verlaten onderwijs",
          "2 jaar na verlaten onderwijs",
          "3 jaar na verlaten onderwijs",
          "4 jaar na verlaten onderwijs",
          "5 jaar na verlaten onderwijs",
          "Direct na verlaten onderwijs",
          "1 jaar na verlaten onderwijs",
          "2 jaar na verlaten onderwijs",
          "3 jaar na verlaten onderwijs",
          "4 jaar na verlaten onderwijs",
          "5 jaar na verlaten onderwijs",
          "Direct na verlaten onderwijs",
          "1 jaar na verlaten onderwijs",
          "2 jaar na verlaten onderwijs",
          "3 jaar na verlaten onderwijs",
          "4 jaar na verlaten onderwijs",
          "5 jaar na verlaten onderwijs",
          "Direct na verlaten onderwijs",
          "1 jaar na verlaten onderwijs",
          "2 jaar na verlaten onderwijs",
          "3 jaar na verlaten onderwijs",
          "4 jaar na verlaten onderwijs",
          "5 jaar na verlaten onderwijs",
          "Direct na verlaten onderwijs",
          "1 jaar na verlaten onderwijs",
          "2 jaar na verlaten onderwijs",
          "3 jaar na verlaten onderwijs",
          "4 jaar na verlaten onderwijs",
          "5 jaar na verlaten onderwijs",
          "Direct na verlaten onderwijs",
          "1 jaar na verlaten onderwijs",
          "2 jaar na verlaten onderwijs",
          "3 jaar na verlaten onderwijs",
          "4 jaar na verlaten onderwijs",
          "5 jaar na verlaten onderwijs",
          "Direct na verlaten onderwijs",
          "1 jaar na verlaten onderwijs",
          "2 jaar na verlaten onderwijs",
          "3 jaar na verlaten onderwijs",
          "4 jaar na verlaten onderwijs",
          "5 jaar na verlaten onderwijs",
          "Direct na verlaten onderwijs",
          "1 jaar na verlaten onderwijs",
          "2 jaar na verlaten onderwijs",
          "3 jaar na verlaten onderwijs",
          "4 jaar na verlaten onderwijs",
          "5 jaar na verlaten onderwijs",
          "Direct na verlaten onderwijs",
          "1 jaar na verlaten onderwijs",
          "2 jaar na verlaten onderwijs",
          "3 jaar na verlaten onderwijs",
          "4 jaar na verlaten onderwijs",
          "5 jaar na verlaten onderwijs",
          "Direct na verlaten onderwijs",
          "1 jaar na verlaten onderwijs",
          "2 jaar na verlaten onderwijs",
          "3 jaar na verlaten onderwijs",
          "4 jaar na verlaten onderwijs",
          "5 jaar na verlaten onderwijs",
          "Direct na verlaten onderwijs",
          "1 jaar na verlaten onderwijs",
          "2 jaar na verlaten onderwijs",
          "3 jaar na verlaten onderwijs",
          "4 jaar na verlaten onderwijs",
          "5 jaar na verlaten onderwijs",
          "Direct na verlaten onderwijs",
          "1 jaar na verlaten onderwijs",
          "2 jaar na verlaten onderwijs",
          "3 jaar na verlaten onderwijs",
          "4 jaar na verlaten onderwijs",
          "5 jaar na verlaten onderwijs",
          "Direct na verlaten onderwijs",
          "1 jaar na verlaten onderwijs",
          "2 jaar na verlaten onderwijs",
          "3 jaar na verlaten onderwijs",
          "4 jaar na verlaten onderwijs",
          "5 jaar na verlaten onderwijs",
          "Direct na verlaten onderwijs",
          "1 jaar na verlaten onderwijs",
          "2 jaar na verlaten onderwijs",
          "3 jaar na verlaten onderwijs",
          "4 jaar na verlaten onderwijs",
          "5 jaar na verlaten onderwijs",
          "Direct na verlaten onderwijs",
          "1 jaar na verlaten onderwijs",
          "2 jaar na verlaten onderwijs",
          "3 jaar na verlaten onderwijs",
          "4 jaar na verlaten onderwijs",
          "5 jaar na verlaten onderwijs",
          "Direct na verlaten onderwijs",
          "1 jaar na verlaten onderwijs",
          "2 jaar na verlaten onderwijs",
          "3 jaar na verlaten onderwijs",
          "4 jaar na verlaten onderwijs",
          "5 jaar na verlaten onderwijs",
          "Direct na verlaten onderwijs",
          "1 jaar na verlaten onderwijs",
          "2 jaar na verlaten onderwijs",
          "3 jaar na verlaten onderwijs",
          "4 jaar na verlaten onderwijs",
          "5 jaar na verlaten onderwijs",
          "Direct na verlaten onderwijs",
          "1 jaar na verlaten onderwijs",
          "2 jaar na verlaten onderwijs",
          "3 jaar na verlaten onderwijs",
          "4 jaar na verlaten onderwijs",
          "5 jaar na verlaten onderwijs",
          "Direct na verlaten onderwijs",
          "1 jaar na verlaten onderwijs",
          "2 jaar na verlaten onderwijs",
          "3 jaar na verlaten onderwijs",
          "4 jaar na verlaten onderwijs",
          "5 jaar na verlaten onderwijs",
          "Direct na verlaten onderwijs",
          "1 jaar na verlaten onderwijs",
          "2 jaar na verlaten onderwijs",
          "3 jaar na verlaten onderwijs",
          "4 jaar na verlaten onderwijs",
          "5 jaar na verlaten onderwijs",
          "Direct na verlaten onderwijs",
          "1 jaar na verlaten onderwijs",
          "2 jaar na verlaten onderwijs",
          "3 jaar na verlaten onderwijs",
          "4 jaar na verlaten onderwijs",
          "5 jaar na verlaten onderwijs",
          "Direct na verlaten onderwijs",
          "1 jaar na verlaten onderwijs",
          "2 jaar na verlaten onderwijs",
          "3 jaar na verlaten onderwijs",
          "4 jaar na verlaten onderwijs",
          "5 jaar na verlaten onderwijs",
          "Direct na verlaten onderwijs",
          "1 jaar na verlaten onderwijs",
          "2 jaar na verlaten onderwijs",
          "3 jaar na verlaten onderwijs",
          "4 jaar na verlaten onderwijs",
          "5 jaar na verlaten onderwijs",
          "Direct na verlaten onderwijs",
          "1 jaar na verlaten onderwijs",
          "2 jaar na verlaten onderwijs",
          "3 jaar na verlaten onderwijs",
          "4 jaar na verlaten onderwijs",
          "5 jaar na verlaten onderwijs",
          "Direct na verlaten onderwijs",
          "1 jaar na verlaten onderwijs",
          "2 jaar na verlaten onderwijs",
          "3 jaar na verlaten onderwijs",
          "4 jaar na verlaten onderwijs",
          "5 jaar na verlaten onderwijs",
          "Direct na verlaten onderwijs",
          "1 jaar na verlaten onderwijs",
          "2 jaar na verlaten onderwijs",
          "3 jaar na verlaten onderwijs",
          "4 jaar na verlaten onderwijs",
          "5 jaar na verlaten onderwijs",
          "Direct na verlaten onderwijs",
          "1 jaar na verlaten onderwijs",
          "2 jaar na verlaten onderwijs",
          "3 jaar na verlaten onderwijs",
          "4 jaar na verlaten onderwijs",
          "5 jaar na verlaten onderwijs",
          "Direct na verlaten onderwijs",
          "1 jaar na verlaten onderwijs",
          "2 jaar na verlaten onderwijs",
          "3 jaar na verlaten onderwijs",
          "4 jaar na verlaten onderwijs",
          "5 jaar na verlaten onderwijs",
          "Direct na verlaten onderwijs",
          "1 jaar na verlaten onderwijs",
          "2 jaar na verlaten onderwijs",
          "3 jaar na verlaten onderwijs",
          "4 jaar na verlaten onderwijs",
          "5 jaar na verlaten onderwijs",
          "Direct na verlaten onderwijs",
          "1 jaar na verlaten onderwijs",
          "2 jaar na verlaten onderwijs",
          "3 jaar na verlaten onderwijs",
          "4 jaar na verlaten onderwijs",
          "5 jaar na verlaten onderwijs",
          "Direct na verlaten onderwijs",
          "1 jaar na verlaten onderwijs",
          "2 jaar na verlaten onderwijs",
          "3 jaar na verlaten onderwijs",
          "4 jaar na verlaten onderwijs",
          "5 jaar na verlaten onderwijs",
          "Direct na verlaten onderwijs",
          "1 jaar na verlaten onderwijs",
          "2 jaar na verlaten onderwijs",
          "3 jaar na verlaten onderwijs",
          "4 jaar na verlaten onderwijs",
          "5 jaar na verlaten onderwijs",
          "Direct na verlaten onderwijs",
          "1 jaar na verlaten onderwijs",
          "2 jaar na verlaten onderwijs",
          "3 jaar na verlaten onderwijs",
          "4 jaar na verlaten onderwijs",
          "5 jaar na verlaten onderwijs",
          "Direct na verlaten onderwijs",
          "1 jaar na verlaten onderwijs",
          "2 jaar na verlaten onderwijs",
          "3 jaar na verlaten onderwijs",
          "4 jaar na verlaten onderwijs",
          "5 jaar na verlaten onderwijs",
          "Direct na verlaten onderwijs",
          "1 jaar na verlaten onderwijs",
          "2 jaar na verlaten onderwijs",
          "3 jaar na verlaten onderwijs",
          "4 jaar na verlaten onderwijs",
          "5 jaar na verlaten onderwijs",
          "Direct na verlaten onderwijs",
          "1 jaar na verlaten onderwijs",
          "2 jaar na verlaten onderwijs",
          "3 jaar na verlaten onderwijs",
          "4 jaar na verlaten onderwijs",
          "5 jaar na verlaten onderwijs",
          "Direct na verlaten onderwijs",
          "1 jaar na verlaten onderwijs",
          "2 jaar na verlaten onderwijs",
          "3 jaar na verlaten onderwijs",
          "4 jaar na verlaten onderwijs",
          "5 jaar na verlaten onderwijs",
          "Direct na verlaten onderwijs",
          "1 jaar na verlaten onderwijs",
          "2 jaar na verlaten onderwijs",
          "3 jaar na verlaten onderwijs",
          "4 jaar na verlaten onderwijs",
          "5 jaar na verlaten onderwijs",
          "Direct na verlaten onderwijs",
          "1 jaar na verlaten onderwijs",
          "2 jaar na verlaten onderwijs",
          "3 jaar na verlaten onderwijs",
          "4 jaar na verlaten onderwijs",
          "5 jaar na verlaten onderwijs",
          "Direct na verlaten onderwijs",
          "1 jaar na verlaten onderwijs",
          "2 jaar na verlaten onderwijs",
          "3 jaar na verlaten onderwijs",
          "4 jaar na verlaten onderwijs",
          "5 jaar na verlaten onderwijs",
          "Direct na verlaten onderwijs",
          "1 jaar na verlaten onderwijs",
          "2 jaar na verlaten onderwijs",
          "3 jaar na verlaten onderwijs",
          "4 jaar na verlaten onderwijs",
          "5 jaar na verlaten onderwijs",
          "Direct na verlaten onderwijs",
          "1 jaar na verlaten onderwijs",
          "2 jaar na verlaten onderwijs",
          "3 jaar na verlaten onderwijs",
          "4 jaar na verlaten onderwijs",
          "5 jaar na verlaten onderwijs",
          "Direct na verlaten onderwijs",
          "1 jaar na verlaten onderwijs",
          "2 jaar na verlaten onderwijs",
          "3 jaar na verlaten onderwijs",
          "4 jaar na verlaten onderwijs",
          "5 jaar na verlaten onderwijs",
          "Direct na verlaten onderwijs",
          "1 jaar na verlaten onderwijs",
          "2 jaar na verlaten onderwijs",
          "3 jaar na verlaten onderwijs",
          "4 jaar na verlaten onderwijs",
          "5 jaar na verlaten onderwijs",
          "Direct na verlaten onderwijs",
          "1 jaar na verlaten onderwijs",
          "2 jaar na verlaten onderwijs",
          "3 jaar na verlaten onderwijs",
          "4 jaar na verlaten onderwijs",
          "5 jaar na verlaten onderwijs",
          "Direct na verlaten onderwijs",
          "1 jaar na verlaten onderwijs",
          "2 jaar na verlaten onderwijs",
          "3 jaar na verlaten onderwijs",
          "4 jaar na verlaten onderwijs",
          "5 jaar na verlaten onderwijs",
          "Direct na verlaten onderwijs",
          "1 jaar na verlaten onderwijs",
          "2 jaar na verlaten onderwijs",
          "3 jaar na verlaten onderwijs",
          "4 jaar na verlaten onderwijs",
          "5 jaar na verlaten onderwijs",
          "Direct na verlaten onderwijs",
          "1 jaar na verlaten onderwijs",
          "2 jaar na verlaten onderwijs",
          "3 jaar na verlaten onderwijs",
          "4 jaar na verlaten onderwijs",
          "5 jaar na verlaten onderwijs",
          "Direct na verlaten onderwijs",
          "1 jaar na verlaten onderwijs",
          "2 jaar na verlaten onderwijs",
          "3 jaar na verlaten onderwijs",
          "4 jaar na verlaten onderwijs",
          "5 jaar na verlaten onderwijs",
          "Direct na verlaten onderwijs",
          "1 jaar na verlaten onderwijs",
          "2 jaar na verlaten onderwijs",
          "3 jaar na verlaten onderwijs",
          "4 jaar na verlaten onderwijs",
          "5 jaar na verlaten onderwijs",
          "Direct na verlaten onderwijs",
          "1 jaar na verlaten onderwijs",
          "2 jaar na verlaten onderwijs",
          "3 jaar na verlaten onderwijs",
          "4 jaar na verlaten onderwijs",
          "5 jaar na verlaten onderwijs",
          "Direct na verlaten onderwijs",
          "1 jaar na verlaten onderwijs",
          "2 jaar na verlaten onderwijs",
          "3 jaar na verlaten onderwijs",
          "4 jaar na verlaten onderwijs",
          "5 jaar na verlaten onderwijs"
         ],
         "y": [
          14.79,
          16.3,
          18.14,
          19.61,
          21.4,
          22.84
         ]
        },
        {
         "hoverinfo": "y+name",
         "marker": {
          "color": "rgb(252,141,98)"
         },
         "name": "Hbo-master",
         "type": "bar",
         "x": [
          "Direct na verlaten onderwijs",
          "1 jaar na verlaten onderwijs",
          "2 jaar na verlaten onderwijs",
          "3 jaar na verlaten onderwijs",
          "4 jaar na verlaten onderwijs",
          "5 jaar na verlaten onderwijs",
          "Direct na verlaten onderwijs",
          "1 jaar na verlaten onderwijs",
          "2 jaar na verlaten onderwijs",
          "3 jaar na verlaten onderwijs",
          "4 jaar na verlaten onderwijs",
          "5 jaar na verlaten onderwijs",
          "Direct na verlaten onderwijs",
          "1 jaar na verlaten onderwijs",
          "2 jaar na verlaten onderwijs",
          "3 jaar na verlaten onderwijs",
          "4 jaar na verlaten onderwijs",
          "5 jaar na verlaten onderwijs",
          "Direct na verlaten onderwijs",
          "1 jaar na verlaten onderwijs",
          "2 jaar na verlaten onderwijs",
          "3 jaar na verlaten onderwijs",
          "4 jaar na verlaten onderwijs",
          "5 jaar na verlaten onderwijs",
          "Direct na verlaten onderwijs",
          "1 jaar na verlaten onderwijs",
          "2 jaar na verlaten onderwijs",
          "3 jaar na verlaten onderwijs",
          "4 jaar na verlaten onderwijs",
          "5 jaar na verlaten onderwijs",
          "Direct na verlaten onderwijs",
          "1 jaar na verlaten onderwijs",
          "2 jaar na verlaten onderwijs",
          "3 jaar na verlaten onderwijs",
          "4 jaar na verlaten onderwijs",
          "5 jaar na verlaten onderwijs",
          "Direct na verlaten onderwijs",
          "1 jaar na verlaten onderwijs",
          "2 jaar na verlaten onderwijs",
          "3 jaar na verlaten onderwijs",
          "4 jaar na verlaten onderwijs",
          "5 jaar na verlaten onderwijs",
          "Direct na verlaten onderwijs",
          "1 jaar na verlaten onderwijs",
          "2 jaar na verlaten onderwijs",
          "3 jaar na verlaten onderwijs",
          "4 jaar na verlaten onderwijs",
          "5 jaar na verlaten onderwijs",
          "Direct na verlaten onderwijs",
          "1 jaar na verlaten onderwijs",
          "2 jaar na verlaten onderwijs",
          "3 jaar na verlaten onderwijs",
          "4 jaar na verlaten onderwijs",
          "5 jaar na verlaten onderwijs",
          "Direct na verlaten onderwijs",
          "1 jaar na verlaten onderwijs",
          "2 jaar na verlaten onderwijs",
          "3 jaar na verlaten onderwijs",
          "4 jaar na verlaten onderwijs",
          "5 jaar na verlaten onderwijs",
          "Direct na verlaten onderwijs",
          "1 jaar na verlaten onderwijs",
          "2 jaar na verlaten onderwijs",
          "3 jaar na verlaten onderwijs",
          "4 jaar na verlaten onderwijs",
          "5 jaar na verlaten onderwijs",
          "Direct na verlaten onderwijs",
          "1 jaar na verlaten onderwijs",
          "2 jaar na verlaten onderwijs",
          "3 jaar na verlaten onderwijs",
          "4 jaar na verlaten onderwijs",
          "5 jaar na verlaten onderwijs",
          "Direct na verlaten onderwijs",
          "1 jaar na verlaten onderwijs",
          "2 jaar na verlaten onderwijs",
          "3 jaar na verlaten onderwijs",
          "4 jaar na verlaten onderwijs",
          "5 jaar na verlaten onderwijs",
          "Direct na verlaten onderwijs",
          "1 jaar na verlaten onderwijs",
          "2 jaar na verlaten onderwijs",
          "3 jaar na verlaten onderwijs",
          "4 jaar na verlaten onderwijs",
          "5 jaar na verlaten onderwijs",
          "Direct na verlaten onderwijs",
          "1 jaar na verlaten onderwijs",
          "2 jaar na verlaten onderwijs",
          "3 jaar na verlaten onderwijs",
          "4 jaar na verlaten onderwijs",
          "5 jaar na verlaten onderwijs",
          "Direct na verlaten onderwijs",
          "1 jaar na verlaten onderwijs",
          "2 jaar na verlaten onderwijs",
          "3 jaar na verlaten onderwijs",
          "4 jaar na verlaten onderwijs",
          "5 jaar na verlaten onderwijs",
          "Direct na verlaten onderwijs",
          "1 jaar na verlaten onderwijs",
          "2 jaar na verlaten onderwijs",
          "3 jaar na verlaten onderwijs",
          "4 jaar na verlaten onderwijs",
          "5 jaar na verlaten onderwijs",
          "Direct na verlaten onderwijs",
          "1 jaar na verlaten onderwijs",
          "2 jaar na verlaten onderwijs",
          "3 jaar na verlaten onderwijs",
          "4 jaar na verlaten onderwijs",
          "5 jaar na verlaten onderwijs",
          "Direct na verlaten onderwijs",
          "1 jaar na verlaten onderwijs",
          "2 jaar na verlaten onderwijs",
          "3 jaar na verlaten onderwijs",
          "4 jaar na verlaten onderwijs",
          "5 jaar na verlaten onderwijs",
          "Direct na verlaten onderwijs",
          "1 jaar na verlaten onderwijs",
          "2 jaar na verlaten onderwijs",
          "3 jaar na verlaten onderwijs",
          "4 jaar na verlaten onderwijs",
          "5 jaar na verlaten onderwijs",
          "Direct na verlaten onderwijs",
          "1 jaar na verlaten onderwijs",
          "2 jaar na verlaten onderwijs",
          "3 jaar na verlaten onderwijs",
          "4 jaar na verlaten onderwijs",
          "5 jaar na verlaten onderwijs",
          "Direct na verlaten onderwijs",
          "1 jaar na verlaten onderwijs",
          "2 jaar na verlaten onderwijs",
          "3 jaar na verlaten onderwijs",
          "4 jaar na verlaten onderwijs",
          "5 jaar na verlaten onderwijs",
          "Direct na verlaten onderwijs",
          "1 jaar na verlaten onderwijs",
          "2 jaar na verlaten onderwijs",
          "3 jaar na verlaten onderwijs",
          "4 jaar na verlaten onderwijs",
          "5 jaar na verlaten onderwijs",
          "Direct na verlaten onderwijs",
          "1 jaar na verlaten onderwijs",
          "2 jaar na verlaten onderwijs",
          "3 jaar na verlaten onderwijs",
          "4 jaar na verlaten onderwijs",
          "5 jaar na verlaten onderwijs",
          "Direct na verlaten onderwijs",
          "1 jaar na verlaten onderwijs",
          "2 jaar na verlaten onderwijs",
          "3 jaar na verlaten onderwijs",
          "4 jaar na verlaten onderwijs",
          "5 jaar na verlaten onderwijs",
          "Direct na verlaten onderwijs",
          "1 jaar na verlaten onderwijs",
          "2 jaar na verlaten onderwijs",
          "3 jaar na verlaten onderwijs",
          "4 jaar na verlaten onderwijs",
          "5 jaar na verlaten onderwijs",
          "Direct na verlaten onderwijs",
          "1 jaar na verlaten onderwijs",
          "2 jaar na verlaten onderwijs",
          "3 jaar na verlaten onderwijs",
          "4 jaar na verlaten onderwijs",
          "5 jaar na verlaten onderwijs",
          "Direct na verlaten onderwijs",
          "1 jaar na verlaten onderwijs",
          "2 jaar na verlaten onderwijs",
          "3 jaar na verlaten onderwijs",
          "4 jaar na verlaten onderwijs",
          "5 jaar na verlaten onderwijs",
          "Direct na verlaten onderwijs",
          "1 jaar na verlaten onderwijs",
          "2 jaar na verlaten onderwijs",
          "3 jaar na verlaten onderwijs",
          "4 jaar na verlaten onderwijs",
          "5 jaar na verlaten onderwijs",
          "Direct na verlaten onderwijs",
          "1 jaar na verlaten onderwijs",
          "2 jaar na verlaten onderwijs",
          "3 jaar na verlaten onderwijs",
          "4 jaar na verlaten onderwijs",
          "5 jaar na verlaten onderwijs",
          "Direct na verlaten onderwijs",
          "1 jaar na verlaten onderwijs",
          "2 jaar na verlaten onderwijs",
          "3 jaar na verlaten onderwijs",
          "4 jaar na verlaten onderwijs",
          "5 jaar na verlaten onderwijs",
          "Direct na verlaten onderwijs",
          "1 jaar na verlaten onderwijs",
          "2 jaar na verlaten onderwijs",
          "3 jaar na verlaten onderwijs",
          "4 jaar na verlaten onderwijs",
          "5 jaar na verlaten onderwijs",
          "Direct na verlaten onderwijs",
          "1 jaar na verlaten onderwijs",
          "2 jaar na verlaten onderwijs",
          "3 jaar na verlaten onderwijs",
          "4 jaar na verlaten onderwijs",
          "5 jaar na verlaten onderwijs",
          "Direct na verlaten onderwijs",
          "1 jaar na verlaten onderwijs",
          "2 jaar na verlaten onderwijs",
          "3 jaar na verlaten onderwijs",
          "4 jaar na verlaten onderwijs",
          "5 jaar na verlaten onderwijs",
          "Direct na verlaten onderwijs",
          "1 jaar na verlaten onderwijs",
          "2 jaar na verlaten onderwijs",
          "3 jaar na verlaten onderwijs",
          "4 jaar na verlaten onderwijs",
          "5 jaar na verlaten onderwijs",
          "Direct na verlaten onderwijs",
          "1 jaar na verlaten onderwijs",
          "2 jaar na verlaten onderwijs",
          "3 jaar na verlaten onderwijs",
          "4 jaar na verlaten onderwijs",
          "5 jaar na verlaten onderwijs",
          "Direct na verlaten onderwijs",
          "1 jaar na verlaten onderwijs",
          "2 jaar na verlaten onderwijs",
          "3 jaar na verlaten onderwijs",
          "4 jaar na verlaten onderwijs",
          "5 jaar na verlaten onderwijs",
          "Direct na verlaten onderwijs",
          "1 jaar na verlaten onderwijs",
          "2 jaar na verlaten onderwijs",
          "3 jaar na verlaten onderwijs",
          "4 jaar na verlaten onderwijs",
          "5 jaar na verlaten onderwijs",
          "Direct na verlaten onderwijs",
          "1 jaar na verlaten onderwijs",
          "2 jaar na verlaten onderwijs",
          "3 jaar na verlaten onderwijs",
          "4 jaar na verlaten onderwijs",
          "5 jaar na verlaten onderwijs",
          "Direct na verlaten onderwijs",
          "1 jaar na verlaten onderwijs",
          "2 jaar na verlaten onderwijs",
          "3 jaar na verlaten onderwijs",
          "4 jaar na verlaten onderwijs",
          "5 jaar na verlaten onderwijs",
          "Direct na verlaten onderwijs",
          "1 jaar na verlaten onderwijs",
          "2 jaar na verlaten onderwijs",
          "3 jaar na verlaten onderwijs",
          "4 jaar na verlaten onderwijs",
          "5 jaar na verlaten onderwijs",
          "Direct na verlaten onderwijs",
          "1 jaar na verlaten onderwijs",
          "2 jaar na verlaten onderwijs",
          "3 jaar na verlaten onderwijs",
          "4 jaar na verlaten onderwijs",
          "5 jaar na verlaten onderwijs",
          "Direct na verlaten onderwijs",
          "1 jaar na verlaten onderwijs",
          "2 jaar na verlaten onderwijs",
          "3 jaar na verlaten onderwijs",
          "4 jaar na verlaten onderwijs",
          "5 jaar na verlaten onderwijs",
          "Direct na verlaten onderwijs",
          "1 jaar na verlaten onderwijs",
          "2 jaar na verlaten onderwijs",
          "3 jaar na verlaten onderwijs",
          "4 jaar na verlaten onderwijs",
          "5 jaar na verlaten onderwijs",
          "Direct na verlaten onderwijs",
          "1 jaar na verlaten onderwijs",
          "2 jaar na verlaten onderwijs",
          "3 jaar na verlaten onderwijs",
          "4 jaar na verlaten onderwijs",
          "5 jaar na verlaten onderwijs",
          "Direct na verlaten onderwijs",
          "1 jaar na verlaten onderwijs",
          "2 jaar na verlaten onderwijs",
          "3 jaar na verlaten onderwijs",
          "4 jaar na verlaten onderwijs",
          "5 jaar na verlaten onderwijs",
          "Direct na verlaten onderwijs",
          "1 jaar na verlaten onderwijs",
          "2 jaar na verlaten onderwijs",
          "3 jaar na verlaten onderwijs",
          "4 jaar na verlaten onderwijs",
          "5 jaar na verlaten onderwijs",
          "Direct na verlaten onderwijs",
          "1 jaar na verlaten onderwijs",
          "2 jaar na verlaten onderwijs",
          "3 jaar na verlaten onderwijs",
          "4 jaar na verlaten onderwijs",
          "5 jaar na verlaten onderwijs",
          "Direct na verlaten onderwijs",
          "1 jaar na verlaten onderwijs",
          "2 jaar na verlaten onderwijs",
          "3 jaar na verlaten onderwijs",
          "4 jaar na verlaten onderwijs",
          "5 jaar na verlaten onderwijs",
          "Direct na verlaten onderwijs",
          "1 jaar na verlaten onderwijs",
          "2 jaar na verlaten onderwijs",
          "3 jaar na verlaten onderwijs",
          "4 jaar na verlaten onderwijs",
          "5 jaar na verlaten onderwijs",
          "Direct na verlaten onderwijs",
          "1 jaar na verlaten onderwijs",
          "2 jaar na verlaten onderwijs",
          "3 jaar na verlaten onderwijs",
          "4 jaar na verlaten onderwijs",
          "5 jaar na verlaten onderwijs",
          "Direct na verlaten onderwijs",
          "1 jaar na verlaten onderwijs",
          "2 jaar na verlaten onderwijs",
          "3 jaar na verlaten onderwijs",
          "4 jaar na verlaten onderwijs",
          "5 jaar na verlaten onderwijs",
          "Direct na verlaten onderwijs",
          "1 jaar na verlaten onderwijs",
          "2 jaar na verlaten onderwijs",
          "3 jaar na verlaten onderwijs",
          "4 jaar na verlaten onderwijs",
          "5 jaar na verlaten onderwijs",
          "Direct na verlaten onderwijs",
          "1 jaar na verlaten onderwijs",
          "2 jaar na verlaten onderwijs",
          "3 jaar na verlaten onderwijs",
          "4 jaar na verlaten onderwijs",
          "5 jaar na verlaten onderwijs",
          "Direct na verlaten onderwijs",
          "1 jaar na verlaten onderwijs",
          "2 jaar na verlaten onderwijs",
          "3 jaar na verlaten onderwijs",
          "4 jaar na verlaten onderwijs",
          "5 jaar na verlaten onderwijs",
          "Direct na verlaten onderwijs",
          "1 jaar na verlaten onderwijs",
          "2 jaar na verlaten onderwijs",
          "3 jaar na verlaten onderwijs",
          "4 jaar na verlaten onderwijs",
          "5 jaar na verlaten onderwijs",
          "Direct na verlaten onderwijs",
          "1 jaar na verlaten onderwijs",
          "2 jaar na verlaten onderwijs",
          "3 jaar na verlaten onderwijs",
          "4 jaar na verlaten onderwijs",
          "5 jaar na verlaten onderwijs",
          "Direct na verlaten onderwijs",
          "1 jaar na verlaten onderwijs",
          "2 jaar na verlaten onderwijs",
          "3 jaar na verlaten onderwijs",
          "4 jaar na verlaten onderwijs",
          "5 jaar na verlaten onderwijs",
          "Direct na verlaten onderwijs",
          "1 jaar na verlaten onderwijs",
          "2 jaar na verlaten onderwijs",
          "3 jaar na verlaten onderwijs",
          "4 jaar na verlaten onderwijs",
          "5 jaar na verlaten onderwijs",
          "Direct na verlaten onderwijs",
          "1 jaar na verlaten onderwijs",
          "2 jaar na verlaten onderwijs",
          "3 jaar na verlaten onderwijs",
          "4 jaar na verlaten onderwijs",
          "5 jaar na verlaten onderwijs",
          "Direct na verlaten onderwijs",
          "1 jaar na verlaten onderwijs",
          "2 jaar na verlaten onderwijs",
          "3 jaar na verlaten onderwijs",
          "4 jaar na verlaten onderwijs",
          "5 jaar na verlaten onderwijs",
          "Direct na verlaten onderwijs",
          "1 jaar na verlaten onderwijs",
          "2 jaar na verlaten onderwijs",
          "3 jaar na verlaten onderwijs",
          "4 jaar na verlaten onderwijs",
          "5 jaar na verlaten onderwijs",
          "Direct na verlaten onderwijs",
          "1 jaar na verlaten onderwijs",
          "2 jaar na verlaten onderwijs",
          "3 jaar na verlaten onderwijs",
          "4 jaar na verlaten onderwijs",
          "5 jaar na verlaten onderwijs",
          "Direct na verlaten onderwijs",
          "1 jaar na verlaten onderwijs",
          "2 jaar na verlaten onderwijs",
          "3 jaar na verlaten onderwijs",
          "4 jaar na verlaten onderwijs",
          "5 jaar na verlaten onderwijs",
          "Direct na verlaten onderwijs",
          "1 jaar na verlaten onderwijs",
          "2 jaar na verlaten onderwijs",
          "3 jaar na verlaten onderwijs",
          "4 jaar na verlaten onderwijs",
          "5 jaar na verlaten onderwijs",
          "Direct na verlaten onderwijs",
          "1 jaar na verlaten onderwijs",
          "2 jaar na verlaten onderwijs",
          "3 jaar na verlaten onderwijs",
          "4 jaar na verlaten onderwijs",
          "5 jaar na verlaten onderwijs",
          "Direct na verlaten onderwijs",
          "1 jaar na verlaten onderwijs",
          "2 jaar na verlaten onderwijs",
          "3 jaar na verlaten onderwijs",
          "4 jaar na verlaten onderwijs",
          "5 jaar na verlaten onderwijs",
          "Direct na verlaten onderwijs",
          "1 jaar na verlaten onderwijs",
          "2 jaar na verlaten onderwijs",
          "3 jaar na verlaten onderwijs",
          "4 jaar na verlaten onderwijs",
          "5 jaar na verlaten onderwijs",
          "Direct na verlaten onderwijs",
          "1 jaar na verlaten onderwijs",
          "2 jaar na verlaten onderwijs",
          "3 jaar na verlaten onderwijs",
          "4 jaar na verlaten onderwijs",
          "5 jaar na verlaten onderwijs",
          "Direct na verlaten onderwijs",
          "1 jaar na verlaten onderwijs",
          "2 jaar na verlaten onderwijs",
          "3 jaar na verlaten onderwijs",
          "4 jaar na verlaten onderwijs",
          "5 jaar na verlaten onderwijs",
          "Direct na verlaten onderwijs",
          "1 jaar na verlaten onderwijs",
          "2 jaar na verlaten onderwijs",
          "3 jaar na verlaten onderwijs",
          "4 jaar na verlaten onderwijs",
          "5 jaar na verlaten onderwijs",
          "Direct na verlaten onderwijs",
          "1 jaar na verlaten onderwijs",
          "2 jaar na verlaten onderwijs",
          "3 jaar na verlaten onderwijs",
          "4 jaar na verlaten onderwijs",
          "5 jaar na verlaten onderwijs",
          "Direct na verlaten onderwijs",
          "1 jaar na verlaten onderwijs",
          "2 jaar na verlaten onderwijs",
          "3 jaar na verlaten onderwijs",
          "4 jaar na verlaten onderwijs",
          "5 jaar na verlaten onderwijs",
          "Direct na verlaten onderwijs",
          "1 jaar na verlaten onderwijs",
          "2 jaar na verlaten onderwijs",
          "3 jaar na verlaten onderwijs",
          "4 jaar na verlaten onderwijs",
          "5 jaar na verlaten onderwijs",
          "Direct na verlaten onderwijs",
          "1 jaar na verlaten onderwijs",
          "2 jaar na verlaten onderwijs",
          "3 jaar na verlaten onderwijs",
          "4 jaar na verlaten onderwijs",
          "5 jaar na verlaten onderwijs",
          "Direct na verlaten onderwijs",
          "1 jaar na verlaten onderwijs",
          "2 jaar na verlaten onderwijs",
          "3 jaar na verlaten onderwijs",
          "4 jaar na verlaten onderwijs",
          "5 jaar na verlaten onderwijs",
          "Direct na verlaten onderwijs",
          "1 jaar na verlaten onderwijs",
          "2 jaar na verlaten onderwijs",
          "3 jaar na verlaten onderwijs",
          "4 jaar na verlaten onderwijs",
          "5 jaar na verlaten onderwijs",
          "Direct na verlaten onderwijs",
          "1 jaar na verlaten onderwijs",
          "2 jaar na verlaten onderwijs",
          "3 jaar na verlaten onderwijs",
          "4 jaar na verlaten onderwijs",
          "5 jaar na verlaten onderwijs",
          "Direct na verlaten onderwijs",
          "1 jaar na verlaten onderwijs",
          "2 jaar na verlaten onderwijs",
          "3 jaar na verlaten onderwijs",
          "4 jaar na verlaten onderwijs",
          "5 jaar na verlaten onderwijs",
          "Direct na verlaten onderwijs",
          "1 jaar na verlaten onderwijs",
          "2 jaar na verlaten onderwijs",
          "3 jaar na verlaten onderwijs",
          "4 jaar na verlaten onderwijs",
          "5 jaar na verlaten onderwijs"
         ],
         "y": [
          17.29,
          17.84,
          19.85,
          21.01,
          22.68,
          23.87
         ]
        },
        {
         "hoverinfo": "y+name",
         "marker": {
          "color": "rgb(141,160,203)"
         },
         "name": "Wo-bachelor",
         "type": "bar",
         "x": [
          "Direct na verlaten onderwijs",
          "1 jaar na verlaten onderwijs",
          "2 jaar na verlaten onderwijs",
          "3 jaar na verlaten onderwijs",
          "4 jaar na verlaten onderwijs",
          "5 jaar na verlaten onderwijs",
          "Direct na verlaten onderwijs",
          "1 jaar na verlaten onderwijs",
          "2 jaar na verlaten onderwijs",
          "3 jaar na verlaten onderwijs",
          "4 jaar na verlaten onderwijs",
          "5 jaar na verlaten onderwijs",
          "Direct na verlaten onderwijs",
          "1 jaar na verlaten onderwijs",
          "2 jaar na verlaten onderwijs",
          "3 jaar na verlaten onderwijs",
          "4 jaar na verlaten onderwijs",
          "5 jaar na verlaten onderwijs",
          "Direct na verlaten onderwijs",
          "1 jaar na verlaten onderwijs",
          "2 jaar na verlaten onderwijs",
          "3 jaar na verlaten onderwijs",
          "4 jaar na verlaten onderwijs",
          "5 jaar na verlaten onderwijs",
          "Direct na verlaten onderwijs",
          "1 jaar na verlaten onderwijs",
          "2 jaar na verlaten onderwijs",
          "3 jaar na verlaten onderwijs",
          "4 jaar na verlaten onderwijs",
          "5 jaar na verlaten onderwijs",
          "Direct na verlaten onderwijs",
          "1 jaar na verlaten onderwijs",
          "2 jaar na verlaten onderwijs",
          "3 jaar na verlaten onderwijs",
          "4 jaar na verlaten onderwijs",
          "5 jaar na verlaten onderwijs",
          "Direct na verlaten onderwijs",
          "1 jaar na verlaten onderwijs",
          "2 jaar na verlaten onderwijs",
          "3 jaar na verlaten onderwijs",
          "4 jaar na verlaten onderwijs",
          "5 jaar na verlaten onderwijs",
          "Direct na verlaten onderwijs",
          "1 jaar na verlaten onderwijs",
          "2 jaar na verlaten onderwijs",
          "3 jaar na verlaten onderwijs",
          "4 jaar na verlaten onderwijs",
          "5 jaar na verlaten onderwijs",
          "Direct na verlaten onderwijs",
          "1 jaar na verlaten onderwijs",
          "2 jaar na verlaten onderwijs",
          "3 jaar na verlaten onderwijs",
          "4 jaar na verlaten onderwijs",
          "5 jaar na verlaten onderwijs",
          "Direct na verlaten onderwijs",
          "1 jaar na verlaten onderwijs",
          "2 jaar na verlaten onderwijs",
          "3 jaar na verlaten onderwijs",
          "4 jaar na verlaten onderwijs",
          "5 jaar na verlaten onderwijs",
          "Direct na verlaten onderwijs",
          "1 jaar na verlaten onderwijs",
          "2 jaar na verlaten onderwijs",
          "3 jaar na verlaten onderwijs",
          "4 jaar na verlaten onderwijs",
          "5 jaar na verlaten onderwijs",
          "Direct na verlaten onderwijs",
          "1 jaar na verlaten onderwijs",
          "2 jaar na verlaten onderwijs",
          "3 jaar na verlaten onderwijs",
          "4 jaar na verlaten onderwijs",
          "5 jaar na verlaten onderwijs",
          "Direct na verlaten onderwijs",
          "1 jaar na verlaten onderwijs",
          "2 jaar na verlaten onderwijs",
          "3 jaar na verlaten onderwijs",
          "4 jaar na verlaten onderwijs",
          "5 jaar na verlaten onderwijs",
          "Direct na verlaten onderwijs",
          "1 jaar na verlaten onderwijs",
          "2 jaar na verlaten onderwijs",
          "3 jaar na verlaten onderwijs",
          "4 jaar na verlaten onderwijs",
          "5 jaar na verlaten onderwijs",
          "Direct na verlaten onderwijs",
          "1 jaar na verlaten onderwijs",
          "2 jaar na verlaten onderwijs",
          "3 jaar na verlaten onderwijs",
          "4 jaar na verlaten onderwijs",
          "5 jaar na verlaten onderwijs",
          "Direct na verlaten onderwijs",
          "1 jaar na verlaten onderwijs",
          "2 jaar na verlaten onderwijs",
          "3 jaar na verlaten onderwijs",
          "4 jaar na verlaten onderwijs",
          "5 jaar na verlaten onderwijs",
          "Direct na verlaten onderwijs",
          "1 jaar na verlaten onderwijs",
          "2 jaar na verlaten onderwijs",
          "3 jaar na verlaten onderwijs",
          "4 jaar na verlaten onderwijs",
          "5 jaar na verlaten onderwijs",
          "Direct na verlaten onderwijs",
          "1 jaar na verlaten onderwijs",
          "2 jaar na verlaten onderwijs",
          "3 jaar na verlaten onderwijs",
          "4 jaar na verlaten onderwijs",
          "5 jaar na verlaten onderwijs",
          "Direct na verlaten onderwijs",
          "1 jaar na verlaten onderwijs",
          "2 jaar na verlaten onderwijs",
          "3 jaar na verlaten onderwijs",
          "4 jaar na verlaten onderwijs",
          "5 jaar na verlaten onderwijs",
          "Direct na verlaten onderwijs",
          "1 jaar na verlaten onderwijs",
          "2 jaar na verlaten onderwijs",
          "3 jaar na verlaten onderwijs",
          "4 jaar na verlaten onderwijs",
          "5 jaar na verlaten onderwijs",
          "Direct na verlaten onderwijs",
          "1 jaar na verlaten onderwijs",
          "2 jaar na verlaten onderwijs",
          "3 jaar na verlaten onderwijs",
          "4 jaar na verlaten onderwijs",
          "5 jaar na verlaten onderwijs",
          "Direct na verlaten onderwijs",
          "1 jaar na verlaten onderwijs",
          "2 jaar na verlaten onderwijs",
          "3 jaar na verlaten onderwijs",
          "4 jaar na verlaten onderwijs",
          "5 jaar na verlaten onderwijs",
          "Direct na verlaten onderwijs",
          "1 jaar na verlaten onderwijs",
          "2 jaar na verlaten onderwijs",
          "3 jaar na verlaten onderwijs",
          "4 jaar na verlaten onderwijs",
          "5 jaar na verlaten onderwijs",
          "Direct na verlaten onderwijs",
          "1 jaar na verlaten onderwijs",
          "2 jaar na verlaten onderwijs",
          "3 jaar na verlaten onderwijs",
          "4 jaar na verlaten onderwijs",
          "5 jaar na verlaten onderwijs",
          "Direct na verlaten onderwijs",
          "1 jaar na verlaten onderwijs",
          "2 jaar na verlaten onderwijs",
          "3 jaar na verlaten onderwijs",
          "4 jaar na verlaten onderwijs",
          "5 jaar na verlaten onderwijs",
          "Direct na verlaten onderwijs",
          "1 jaar na verlaten onderwijs",
          "2 jaar na verlaten onderwijs",
          "3 jaar na verlaten onderwijs",
          "4 jaar na verlaten onderwijs",
          "5 jaar na verlaten onderwijs",
          "Direct na verlaten onderwijs",
          "1 jaar na verlaten onderwijs",
          "2 jaar na verlaten onderwijs",
          "3 jaar na verlaten onderwijs",
          "4 jaar na verlaten onderwijs",
          "5 jaar na verlaten onderwijs",
          "Direct na verlaten onderwijs",
          "1 jaar na verlaten onderwijs",
          "2 jaar na verlaten onderwijs",
          "3 jaar na verlaten onderwijs",
          "4 jaar na verlaten onderwijs",
          "5 jaar na verlaten onderwijs",
          "Direct na verlaten onderwijs",
          "1 jaar na verlaten onderwijs",
          "2 jaar na verlaten onderwijs",
          "3 jaar na verlaten onderwijs",
          "4 jaar na verlaten onderwijs",
          "5 jaar na verlaten onderwijs",
          "Direct na verlaten onderwijs",
          "1 jaar na verlaten onderwijs",
          "2 jaar na verlaten onderwijs",
          "3 jaar na verlaten onderwijs",
          "4 jaar na verlaten onderwijs",
          "5 jaar na verlaten onderwijs",
          "Direct na verlaten onderwijs",
          "1 jaar na verlaten onderwijs",
          "2 jaar na verlaten onderwijs",
          "3 jaar na verlaten onderwijs",
          "4 jaar na verlaten onderwijs",
          "5 jaar na verlaten onderwijs",
          "Direct na verlaten onderwijs",
          "1 jaar na verlaten onderwijs",
          "2 jaar na verlaten onderwijs",
          "3 jaar na verlaten onderwijs",
          "4 jaar na verlaten onderwijs",
          "5 jaar na verlaten onderwijs",
          "Direct na verlaten onderwijs",
          "1 jaar na verlaten onderwijs",
          "2 jaar na verlaten onderwijs",
          "3 jaar na verlaten onderwijs",
          "4 jaar na verlaten onderwijs",
          "5 jaar na verlaten onderwijs",
          "Direct na verlaten onderwijs",
          "1 jaar na verlaten onderwijs",
          "2 jaar na verlaten onderwijs",
          "3 jaar na verlaten onderwijs",
          "4 jaar na verlaten onderwijs",
          "5 jaar na verlaten onderwijs",
          "Direct na verlaten onderwijs",
          "1 jaar na verlaten onderwijs",
          "2 jaar na verlaten onderwijs",
          "3 jaar na verlaten onderwijs",
          "4 jaar na verlaten onderwijs",
          "5 jaar na verlaten onderwijs",
          "Direct na verlaten onderwijs",
          "1 jaar na verlaten onderwijs",
          "2 jaar na verlaten onderwijs",
          "3 jaar na verlaten onderwijs",
          "4 jaar na verlaten onderwijs",
          "5 jaar na verlaten onderwijs",
          "Direct na verlaten onderwijs",
          "1 jaar na verlaten onderwijs",
          "2 jaar na verlaten onderwijs",
          "3 jaar na verlaten onderwijs",
          "4 jaar na verlaten onderwijs",
          "5 jaar na verlaten onderwijs",
          "Direct na verlaten onderwijs",
          "1 jaar na verlaten onderwijs",
          "2 jaar na verlaten onderwijs",
          "3 jaar na verlaten onderwijs",
          "4 jaar na verlaten onderwijs",
          "5 jaar na verlaten onderwijs",
          "Direct na verlaten onderwijs",
          "1 jaar na verlaten onderwijs",
          "2 jaar na verlaten onderwijs",
          "3 jaar na verlaten onderwijs",
          "4 jaar na verlaten onderwijs",
          "5 jaar na verlaten onderwijs",
          "Direct na verlaten onderwijs",
          "1 jaar na verlaten onderwijs",
          "2 jaar na verlaten onderwijs",
          "3 jaar na verlaten onderwijs",
          "4 jaar na verlaten onderwijs",
          "5 jaar na verlaten onderwijs",
          "Direct na verlaten onderwijs",
          "1 jaar na verlaten onderwijs",
          "2 jaar na verlaten onderwijs",
          "3 jaar na verlaten onderwijs",
          "4 jaar na verlaten onderwijs",
          "5 jaar na verlaten onderwijs",
          "Direct na verlaten onderwijs",
          "1 jaar na verlaten onderwijs",
          "2 jaar na verlaten onderwijs",
          "3 jaar na verlaten onderwijs",
          "4 jaar na verlaten onderwijs",
          "5 jaar na verlaten onderwijs",
          "Direct na verlaten onderwijs",
          "1 jaar na verlaten onderwijs",
          "2 jaar na verlaten onderwijs",
          "3 jaar na verlaten onderwijs",
          "4 jaar na verlaten onderwijs",
          "5 jaar na verlaten onderwijs",
          "Direct na verlaten onderwijs",
          "1 jaar na verlaten onderwijs",
          "2 jaar na verlaten onderwijs",
          "3 jaar na verlaten onderwijs",
          "4 jaar na verlaten onderwijs",
          "5 jaar na verlaten onderwijs",
          "Direct na verlaten onderwijs",
          "1 jaar na verlaten onderwijs",
          "2 jaar na verlaten onderwijs",
          "3 jaar na verlaten onderwijs",
          "4 jaar na verlaten onderwijs",
          "5 jaar na verlaten onderwijs",
          "Direct na verlaten onderwijs",
          "1 jaar na verlaten onderwijs",
          "2 jaar na verlaten onderwijs",
          "3 jaar na verlaten onderwijs",
          "4 jaar na verlaten onderwijs",
          "5 jaar na verlaten onderwijs",
          "Direct na verlaten onderwijs",
          "1 jaar na verlaten onderwijs",
          "2 jaar na verlaten onderwijs",
          "3 jaar na verlaten onderwijs",
          "4 jaar na verlaten onderwijs",
          "5 jaar na verlaten onderwijs",
          "Direct na verlaten onderwijs",
          "1 jaar na verlaten onderwijs",
          "2 jaar na verlaten onderwijs",
          "3 jaar na verlaten onderwijs",
          "4 jaar na verlaten onderwijs",
          "5 jaar na verlaten onderwijs",
          "Direct na verlaten onderwijs",
          "1 jaar na verlaten onderwijs",
          "2 jaar na verlaten onderwijs",
          "3 jaar na verlaten onderwijs",
          "4 jaar na verlaten onderwijs",
          "5 jaar na verlaten onderwijs",
          "Direct na verlaten onderwijs",
          "1 jaar na verlaten onderwijs",
          "2 jaar na verlaten onderwijs",
          "3 jaar na verlaten onderwijs",
          "4 jaar na verlaten onderwijs",
          "5 jaar na verlaten onderwijs",
          "Direct na verlaten onderwijs",
          "1 jaar na verlaten onderwijs",
          "2 jaar na verlaten onderwijs",
          "3 jaar na verlaten onderwijs",
          "4 jaar na verlaten onderwijs",
          "5 jaar na verlaten onderwijs",
          "Direct na verlaten onderwijs",
          "1 jaar na verlaten onderwijs",
          "2 jaar na verlaten onderwijs",
          "3 jaar na verlaten onderwijs",
          "4 jaar na verlaten onderwijs",
          "5 jaar na verlaten onderwijs",
          "Direct na verlaten onderwijs",
          "1 jaar na verlaten onderwijs",
          "2 jaar na verlaten onderwijs",
          "3 jaar na verlaten onderwijs",
          "4 jaar na verlaten onderwijs",
          "5 jaar na verlaten onderwijs",
          "Direct na verlaten onderwijs",
          "1 jaar na verlaten onderwijs",
          "2 jaar na verlaten onderwijs",
          "3 jaar na verlaten onderwijs",
          "4 jaar na verlaten onderwijs",
          "5 jaar na verlaten onderwijs",
          "Direct na verlaten onderwijs",
          "1 jaar na verlaten onderwijs",
          "2 jaar na verlaten onderwijs",
          "3 jaar na verlaten onderwijs",
          "4 jaar na verlaten onderwijs",
          "5 jaar na verlaten onderwijs",
          "Direct na verlaten onderwijs",
          "1 jaar na verlaten onderwijs",
          "2 jaar na verlaten onderwijs",
          "3 jaar na verlaten onderwijs",
          "4 jaar na verlaten onderwijs",
          "5 jaar na verlaten onderwijs",
          "Direct na verlaten onderwijs",
          "1 jaar na verlaten onderwijs",
          "2 jaar na verlaten onderwijs",
          "3 jaar na verlaten onderwijs",
          "4 jaar na verlaten onderwijs",
          "5 jaar na verlaten onderwijs",
          "Direct na verlaten onderwijs",
          "1 jaar na verlaten onderwijs",
          "2 jaar na verlaten onderwijs",
          "3 jaar na verlaten onderwijs",
          "4 jaar na verlaten onderwijs",
          "5 jaar na verlaten onderwijs",
          "Direct na verlaten onderwijs",
          "1 jaar na verlaten onderwijs",
          "2 jaar na verlaten onderwijs",
          "3 jaar na verlaten onderwijs",
          "4 jaar na verlaten onderwijs",
          "5 jaar na verlaten onderwijs",
          "Direct na verlaten onderwijs",
          "1 jaar na verlaten onderwijs",
          "2 jaar na verlaten onderwijs",
          "3 jaar na verlaten onderwijs",
          "4 jaar na verlaten onderwijs",
          "5 jaar na verlaten onderwijs",
          "Direct na verlaten onderwijs",
          "1 jaar na verlaten onderwijs",
          "2 jaar na verlaten onderwijs",
          "3 jaar na verlaten onderwijs",
          "4 jaar na verlaten onderwijs",
          "5 jaar na verlaten onderwijs",
          "Direct na verlaten onderwijs",
          "1 jaar na verlaten onderwijs",
          "2 jaar na verlaten onderwijs",
          "3 jaar na verlaten onderwijs",
          "4 jaar na verlaten onderwijs",
          "5 jaar na verlaten onderwijs",
          "Direct na verlaten onderwijs",
          "1 jaar na verlaten onderwijs",
          "2 jaar na verlaten onderwijs",
          "3 jaar na verlaten onderwijs",
          "4 jaar na verlaten onderwijs",
          "5 jaar na verlaten onderwijs",
          "Direct na verlaten onderwijs",
          "1 jaar na verlaten onderwijs",
          "2 jaar na verlaten onderwijs",
          "3 jaar na verlaten onderwijs",
          "4 jaar na verlaten onderwijs",
          "5 jaar na verlaten onderwijs",
          "Direct na verlaten onderwijs",
          "1 jaar na verlaten onderwijs",
          "2 jaar na verlaten onderwijs",
          "3 jaar na verlaten onderwijs",
          "4 jaar na verlaten onderwijs",
          "5 jaar na verlaten onderwijs",
          "Direct na verlaten onderwijs",
          "1 jaar na verlaten onderwijs",
          "2 jaar na verlaten onderwijs",
          "3 jaar na verlaten onderwijs",
          "4 jaar na verlaten onderwijs",
          "5 jaar na verlaten onderwijs",
          "Direct na verlaten onderwijs",
          "1 jaar na verlaten onderwijs",
          "2 jaar na verlaten onderwijs",
          "3 jaar na verlaten onderwijs",
          "4 jaar na verlaten onderwijs",
          "5 jaar na verlaten onderwijs",
          "Direct na verlaten onderwijs",
          "1 jaar na verlaten onderwijs",
          "2 jaar na verlaten onderwijs",
          "3 jaar na verlaten onderwijs",
          "4 jaar na verlaten onderwijs",
          "5 jaar na verlaten onderwijs",
          "Direct na verlaten onderwijs",
          "1 jaar na verlaten onderwijs",
          "2 jaar na verlaten onderwijs",
          "3 jaar na verlaten onderwijs",
          "4 jaar na verlaten onderwijs",
          "5 jaar na verlaten onderwijs",
          "Direct na verlaten onderwijs",
          "1 jaar na verlaten onderwijs",
          "2 jaar na verlaten onderwijs",
          "3 jaar na verlaten onderwijs",
          "4 jaar na verlaten onderwijs",
          "5 jaar na verlaten onderwijs",
          "Direct na verlaten onderwijs",
          "1 jaar na verlaten onderwijs",
          "2 jaar na verlaten onderwijs",
          "3 jaar na verlaten onderwijs",
          "4 jaar na verlaten onderwijs",
          "5 jaar na verlaten onderwijs",
          "Direct na verlaten onderwijs",
          "1 jaar na verlaten onderwijs",
          "2 jaar na verlaten onderwijs",
          "3 jaar na verlaten onderwijs",
          "4 jaar na verlaten onderwijs",
          "5 jaar na verlaten onderwijs",
          "Direct na verlaten onderwijs",
          "1 jaar na verlaten onderwijs",
          "2 jaar na verlaten onderwijs",
          "3 jaar na verlaten onderwijs",
          "4 jaar na verlaten onderwijs",
          "5 jaar na verlaten onderwijs",
          "Direct na verlaten onderwijs",
          "1 jaar na verlaten onderwijs",
          "2 jaar na verlaten onderwijs",
          "3 jaar na verlaten onderwijs",
          "4 jaar na verlaten onderwijs",
          "5 jaar na verlaten onderwijs",
          "Direct na verlaten onderwijs",
          "1 jaar na verlaten onderwijs",
          "2 jaar na verlaten onderwijs",
          "3 jaar na verlaten onderwijs",
          "4 jaar na verlaten onderwijs",
          "5 jaar na verlaten onderwijs",
          "Direct na verlaten onderwijs",
          "1 jaar na verlaten onderwijs",
          "2 jaar na verlaten onderwijs",
          "3 jaar na verlaten onderwijs",
          "4 jaar na verlaten onderwijs",
          "5 jaar na verlaten onderwijs",
          "Direct na verlaten onderwijs",
          "1 jaar na verlaten onderwijs",
          "2 jaar na verlaten onderwijs",
          "3 jaar na verlaten onderwijs",
          "4 jaar na verlaten onderwijs",
          "5 jaar na verlaten onderwijs",
          "Direct na verlaten onderwijs",
          "1 jaar na verlaten onderwijs",
          "2 jaar na verlaten onderwijs",
          "3 jaar na verlaten onderwijs",
          "4 jaar na verlaten onderwijs",
          "5 jaar na verlaten onderwijs",
          "Direct na verlaten onderwijs",
          "1 jaar na verlaten onderwijs",
          "2 jaar na verlaten onderwijs",
          "3 jaar na verlaten onderwijs",
          "4 jaar na verlaten onderwijs",
          "5 jaar na verlaten onderwijs",
          "Direct na verlaten onderwijs",
          "1 jaar na verlaten onderwijs",
          "2 jaar na verlaten onderwijs",
          "3 jaar na verlaten onderwijs",
          "4 jaar na verlaten onderwijs",
          "5 jaar na verlaten onderwijs"
         ],
         "y": [
          12.84,
          15.87,
          18.17,
          20.19,
          22.21,
          24.32
         ]
        },
        {
         "hoverinfo": "y+name",
         "marker": {
          "color": "rgb(231,138,195)"
         },
         "name": "Wo-master",
         "type": "bar",
         "x": [
          "Direct na verlaten onderwijs",
          "1 jaar na verlaten onderwijs",
          "2 jaar na verlaten onderwijs",
          "3 jaar na verlaten onderwijs",
          "4 jaar na verlaten onderwijs",
          "5 jaar na verlaten onderwijs",
          "Direct na verlaten onderwijs",
          "1 jaar na verlaten onderwijs",
          "2 jaar na verlaten onderwijs",
          "3 jaar na verlaten onderwijs",
          "4 jaar na verlaten onderwijs",
          "5 jaar na verlaten onderwijs",
          "Direct na verlaten onderwijs",
          "1 jaar na verlaten onderwijs",
          "2 jaar na verlaten onderwijs",
          "3 jaar na verlaten onderwijs",
          "4 jaar na verlaten onderwijs",
          "5 jaar na verlaten onderwijs",
          "Direct na verlaten onderwijs",
          "1 jaar na verlaten onderwijs",
          "2 jaar na verlaten onderwijs",
          "3 jaar na verlaten onderwijs",
          "4 jaar na verlaten onderwijs",
          "5 jaar na verlaten onderwijs",
          "Direct na verlaten onderwijs",
          "1 jaar na verlaten onderwijs",
          "2 jaar na verlaten onderwijs",
          "3 jaar na verlaten onderwijs",
          "4 jaar na verlaten onderwijs",
          "5 jaar na verlaten onderwijs",
          "Direct na verlaten onderwijs",
          "1 jaar na verlaten onderwijs",
          "2 jaar na verlaten onderwijs",
          "3 jaar na verlaten onderwijs",
          "4 jaar na verlaten onderwijs",
          "5 jaar na verlaten onderwijs",
          "Direct na verlaten onderwijs",
          "1 jaar na verlaten onderwijs",
          "2 jaar na verlaten onderwijs",
          "3 jaar na verlaten onderwijs",
          "4 jaar na verlaten onderwijs",
          "5 jaar na verlaten onderwijs",
          "Direct na verlaten onderwijs",
          "1 jaar na verlaten onderwijs",
          "2 jaar na verlaten onderwijs",
          "3 jaar na verlaten onderwijs",
          "4 jaar na verlaten onderwijs",
          "5 jaar na verlaten onderwijs",
          "Direct na verlaten onderwijs",
          "1 jaar na verlaten onderwijs",
          "2 jaar na verlaten onderwijs",
          "3 jaar na verlaten onderwijs",
          "4 jaar na verlaten onderwijs",
          "5 jaar na verlaten onderwijs",
          "Direct na verlaten onderwijs",
          "1 jaar na verlaten onderwijs",
          "2 jaar na verlaten onderwijs",
          "3 jaar na verlaten onderwijs",
          "4 jaar na verlaten onderwijs",
          "5 jaar na verlaten onderwijs",
          "Direct na verlaten onderwijs",
          "1 jaar na verlaten onderwijs",
          "2 jaar na verlaten onderwijs",
          "3 jaar na verlaten onderwijs",
          "4 jaar na verlaten onderwijs",
          "5 jaar na verlaten onderwijs",
          "Direct na verlaten onderwijs",
          "1 jaar na verlaten onderwijs",
          "2 jaar na verlaten onderwijs",
          "3 jaar na verlaten onderwijs",
          "4 jaar na verlaten onderwijs",
          "5 jaar na verlaten onderwijs",
          "Direct na verlaten onderwijs",
          "1 jaar na verlaten onderwijs",
          "2 jaar na verlaten onderwijs",
          "3 jaar na verlaten onderwijs",
          "4 jaar na verlaten onderwijs",
          "5 jaar na verlaten onderwijs",
          "Direct na verlaten onderwijs",
          "1 jaar na verlaten onderwijs",
          "2 jaar na verlaten onderwijs",
          "3 jaar na verlaten onderwijs",
          "4 jaar na verlaten onderwijs",
          "5 jaar na verlaten onderwijs",
          "Direct na verlaten onderwijs",
          "1 jaar na verlaten onderwijs",
          "2 jaar na verlaten onderwijs",
          "3 jaar na verlaten onderwijs",
          "4 jaar na verlaten onderwijs",
          "5 jaar na verlaten onderwijs",
          "Direct na verlaten onderwijs",
          "1 jaar na verlaten onderwijs",
          "2 jaar na verlaten onderwijs",
          "3 jaar na verlaten onderwijs",
          "4 jaar na verlaten onderwijs",
          "5 jaar na verlaten onderwijs",
          "Direct na verlaten onderwijs",
          "1 jaar na verlaten onderwijs",
          "2 jaar na verlaten onderwijs",
          "3 jaar na verlaten onderwijs",
          "4 jaar na verlaten onderwijs",
          "5 jaar na verlaten onderwijs",
          "Direct na verlaten onderwijs",
          "1 jaar na verlaten onderwijs",
          "2 jaar na verlaten onderwijs",
          "3 jaar na verlaten onderwijs",
          "4 jaar na verlaten onderwijs",
          "5 jaar na verlaten onderwijs",
          "Direct na verlaten onderwijs",
          "1 jaar na verlaten onderwijs",
          "2 jaar na verlaten onderwijs",
          "3 jaar na verlaten onderwijs",
          "4 jaar na verlaten onderwijs",
          "5 jaar na verlaten onderwijs",
          "Direct na verlaten onderwijs",
          "1 jaar na verlaten onderwijs",
          "2 jaar na verlaten onderwijs",
          "3 jaar na verlaten onderwijs",
          "4 jaar na verlaten onderwijs",
          "5 jaar na verlaten onderwijs",
          "Direct na verlaten onderwijs",
          "1 jaar na verlaten onderwijs",
          "2 jaar na verlaten onderwijs",
          "3 jaar na verlaten onderwijs",
          "4 jaar na verlaten onderwijs",
          "5 jaar na verlaten onderwijs",
          "Direct na verlaten onderwijs",
          "1 jaar na verlaten onderwijs",
          "2 jaar na verlaten onderwijs",
          "3 jaar na verlaten onderwijs",
          "4 jaar na verlaten onderwijs",
          "5 jaar na verlaten onderwijs",
          "Direct na verlaten onderwijs",
          "1 jaar na verlaten onderwijs",
          "2 jaar na verlaten onderwijs",
          "3 jaar na verlaten onderwijs",
          "4 jaar na verlaten onderwijs",
          "5 jaar na verlaten onderwijs",
          "Direct na verlaten onderwijs",
          "1 jaar na verlaten onderwijs",
          "2 jaar na verlaten onderwijs",
          "3 jaar na verlaten onderwijs",
          "4 jaar na verlaten onderwijs",
          "5 jaar na verlaten onderwijs",
          "Direct na verlaten onderwijs",
          "1 jaar na verlaten onderwijs",
          "2 jaar na verlaten onderwijs",
          "3 jaar na verlaten onderwijs",
          "4 jaar na verlaten onderwijs",
          "5 jaar na verlaten onderwijs",
          "Direct na verlaten onderwijs",
          "1 jaar na verlaten onderwijs",
          "2 jaar na verlaten onderwijs",
          "3 jaar na verlaten onderwijs",
          "4 jaar na verlaten onderwijs",
          "5 jaar na verlaten onderwijs",
          "Direct na verlaten onderwijs",
          "1 jaar na verlaten onderwijs",
          "2 jaar na verlaten onderwijs",
          "3 jaar na verlaten onderwijs",
          "4 jaar na verlaten onderwijs",
          "5 jaar na verlaten onderwijs",
          "Direct na verlaten onderwijs",
          "1 jaar na verlaten onderwijs",
          "2 jaar na verlaten onderwijs",
          "3 jaar na verlaten onderwijs",
          "4 jaar na verlaten onderwijs",
          "5 jaar na verlaten onderwijs",
          "Direct na verlaten onderwijs",
          "1 jaar na verlaten onderwijs",
          "2 jaar na verlaten onderwijs",
          "3 jaar na verlaten onderwijs",
          "4 jaar na verlaten onderwijs",
          "5 jaar na verlaten onderwijs",
          "Direct na verlaten onderwijs",
          "1 jaar na verlaten onderwijs",
          "2 jaar na verlaten onderwijs",
          "3 jaar na verlaten onderwijs",
          "4 jaar na verlaten onderwijs",
          "5 jaar na verlaten onderwijs",
          "Direct na verlaten onderwijs",
          "1 jaar na verlaten onderwijs",
          "2 jaar na verlaten onderwijs",
          "3 jaar na verlaten onderwijs",
          "4 jaar na verlaten onderwijs",
          "5 jaar na verlaten onderwijs",
          "Direct na verlaten onderwijs",
          "1 jaar na verlaten onderwijs",
          "2 jaar na verlaten onderwijs",
          "3 jaar na verlaten onderwijs",
          "4 jaar na verlaten onderwijs",
          "5 jaar na verlaten onderwijs",
          "Direct na verlaten onderwijs",
          "1 jaar na verlaten onderwijs",
          "2 jaar na verlaten onderwijs",
          "3 jaar na verlaten onderwijs",
          "4 jaar na verlaten onderwijs",
          "5 jaar na verlaten onderwijs",
          "Direct na verlaten onderwijs",
          "1 jaar na verlaten onderwijs",
          "2 jaar na verlaten onderwijs",
          "3 jaar na verlaten onderwijs",
          "4 jaar na verlaten onderwijs",
          "5 jaar na verlaten onderwijs",
          "Direct na verlaten onderwijs",
          "1 jaar na verlaten onderwijs",
          "2 jaar na verlaten onderwijs",
          "3 jaar na verlaten onderwijs",
          "4 jaar na verlaten onderwijs",
          "5 jaar na verlaten onderwijs",
          "Direct na verlaten onderwijs",
          "1 jaar na verlaten onderwijs",
          "2 jaar na verlaten onderwijs",
          "3 jaar na verlaten onderwijs",
          "4 jaar na verlaten onderwijs",
          "5 jaar na verlaten onderwijs",
          "Direct na verlaten onderwijs",
          "1 jaar na verlaten onderwijs",
          "2 jaar na verlaten onderwijs",
          "3 jaar na verlaten onderwijs",
          "4 jaar na verlaten onderwijs",
          "5 jaar na verlaten onderwijs",
          "Direct na verlaten onderwijs",
          "1 jaar na verlaten onderwijs",
          "2 jaar na verlaten onderwijs",
          "3 jaar na verlaten onderwijs",
          "4 jaar na verlaten onderwijs",
          "5 jaar na verlaten onderwijs",
          "Direct na verlaten onderwijs",
          "1 jaar na verlaten onderwijs",
          "2 jaar na verlaten onderwijs",
          "3 jaar na verlaten onderwijs",
          "4 jaar na verlaten onderwijs",
          "5 jaar na verlaten onderwijs",
          "Direct na verlaten onderwijs",
          "1 jaar na verlaten onderwijs",
          "2 jaar na verlaten onderwijs",
          "3 jaar na verlaten onderwijs",
          "4 jaar na verlaten onderwijs",
          "5 jaar na verlaten onderwijs",
          "Direct na verlaten onderwijs",
          "1 jaar na verlaten onderwijs",
          "2 jaar na verlaten onderwijs",
          "3 jaar na verlaten onderwijs",
          "4 jaar na verlaten onderwijs",
          "5 jaar na verlaten onderwijs",
          "Direct na verlaten onderwijs",
          "1 jaar na verlaten onderwijs",
          "2 jaar na verlaten onderwijs",
          "3 jaar na verlaten onderwijs",
          "4 jaar na verlaten onderwijs",
          "5 jaar na verlaten onderwijs",
          "Direct na verlaten onderwijs",
          "1 jaar na verlaten onderwijs",
          "2 jaar na verlaten onderwijs",
          "3 jaar na verlaten onderwijs",
          "4 jaar na verlaten onderwijs",
          "5 jaar na verlaten onderwijs",
          "Direct na verlaten onderwijs",
          "1 jaar na verlaten onderwijs",
          "2 jaar na verlaten onderwijs",
          "3 jaar na verlaten onderwijs",
          "4 jaar na verlaten onderwijs",
          "5 jaar na verlaten onderwijs",
          "Direct na verlaten onderwijs",
          "1 jaar na verlaten onderwijs",
          "2 jaar na verlaten onderwijs",
          "3 jaar na verlaten onderwijs",
          "4 jaar na verlaten onderwijs",
          "5 jaar na verlaten onderwijs",
          "Direct na verlaten onderwijs",
          "1 jaar na verlaten onderwijs",
          "2 jaar na verlaten onderwijs",
          "3 jaar na verlaten onderwijs",
          "4 jaar na verlaten onderwijs",
          "5 jaar na verlaten onderwijs",
          "Direct na verlaten onderwijs",
          "1 jaar na verlaten onderwijs",
          "2 jaar na verlaten onderwijs",
          "3 jaar na verlaten onderwijs",
          "4 jaar na verlaten onderwijs",
          "5 jaar na verlaten onderwijs",
          "Direct na verlaten onderwijs",
          "1 jaar na verlaten onderwijs",
          "2 jaar na verlaten onderwijs",
          "3 jaar na verlaten onderwijs",
          "4 jaar na verlaten onderwijs",
          "5 jaar na verlaten onderwijs",
          "Direct na verlaten onderwijs",
          "1 jaar na verlaten onderwijs",
          "2 jaar na verlaten onderwijs",
          "3 jaar na verlaten onderwijs",
          "4 jaar na verlaten onderwijs",
          "5 jaar na verlaten onderwijs",
          "Direct na verlaten onderwijs",
          "1 jaar na verlaten onderwijs",
          "2 jaar na verlaten onderwijs",
          "3 jaar na verlaten onderwijs",
          "4 jaar na verlaten onderwijs",
          "5 jaar na verlaten onderwijs",
          "Direct na verlaten onderwijs",
          "1 jaar na verlaten onderwijs",
          "2 jaar na verlaten onderwijs",
          "3 jaar na verlaten onderwijs",
          "4 jaar na verlaten onderwijs",
          "5 jaar na verlaten onderwijs",
          "Direct na verlaten onderwijs",
          "1 jaar na verlaten onderwijs",
          "2 jaar na verlaten onderwijs",
          "3 jaar na verlaten onderwijs",
          "4 jaar na verlaten onderwijs",
          "5 jaar na verlaten onderwijs",
          "Direct na verlaten onderwijs",
          "1 jaar na verlaten onderwijs",
          "2 jaar na verlaten onderwijs",
          "3 jaar na verlaten onderwijs",
          "4 jaar na verlaten onderwijs",
          "5 jaar na verlaten onderwijs",
          "Direct na verlaten onderwijs",
          "1 jaar na verlaten onderwijs",
          "2 jaar na verlaten onderwijs",
          "3 jaar na verlaten onderwijs",
          "4 jaar na verlaten onderwijs",
          "5 jaar na verlaten onderwijs",
          "Direct na verlaten onderwijs",
          "1 jaar na verlaten onderwijs",
          "2 jaar na verlaten onderwijs",
          "3 jaar na verlaten onderwijs",
          "4 jaar na verlaten onderwijs",
          "5 jaar na verlaten onderwijs",
          "Direct na verlaten onderwijs",
          "1 jaar na verlaten onderwijs",
          "2 jaar na verlaten onderwijs",
          "3 jaar na verlaten onderwijs",
          "4 jaar na verlaten onderwijs",
          "5 jaar na verlaten onderwijs",
          "Direct na verlaten onderwijs",
          "1 jaar na verlaten onderwijs",
          "2 jaar na verlaten onderwijs",
          "3 jaar na verlaten onderwijs",
          "4 jaar na verlaten onderwijs",
          "5 jaar na verlaten onderwijs",
          "Direct na verlaten onderwijs",
          "1 jaar na verlaten onderwijs",
          "2 jaar na verlaten onderwijs",
          "3 jaar na verlaten onderwijs",
          "4 jaar na verlaten onderwijs",
          "5 jaar na verlaten onderwijs",
          "Direct na verlaten onderwijs",
          "1 jaar na verlaten onderwijs",
          "2 jaar na verlaten onderwijs",
          "3 jaar na verlaten onderwijs",
          "4 jaar na verlaten onderwijs",
          "5 jaar na verlaten onderwijs",
          "Direct na verlaten onderwijs",
          "1 jaar na verlaten onderwijs",
          "2 jaar na verlaten onderwijs",
          "3 jaar na verlaten onderwijs",
          "4 jaar na verlaten onderwijs",
          "5 jaar na verlaten onderwijs",
          "Direct na verlaten onderwijs",
          "1 jaar na verlaten onderwijs",
          "2 jaar na verlaten onderwijs",
          "3 jaar na verlaten onderwijs",
          "4 jaar na verlaten onderwijs",
          "5 jaar na verlaten onderwijs",
          "Direct na verlaten onderwijs",
          "1 jaar na verlaten onderwijs",
          "2 jaar na verlaten onderwijs",
          "3 jaar na verlaten onderwijs",
          "4 jaar na verlaten onderwijs",
          "5 jaar na verlaten onderwijs",
          "Direct na verlaten onderwijs",
          "1 jaar na verlaten onderwijs",
          "2 jaar na verlaten onderwijs",
          "3 jaar na verlaten onderwijs",
          "4 jaar na verlaten onderwijs",
          "5 jaar na verlaten onderwijs",
          "Direct na verlaten onderwijs",
          "1 jaar na verlaten onderwijs",
          "2 jaar na verlaten onderwijs",
          "3 jaar na verlaten onderwijs",
          "4 jaar na verlaten onderwijs",
          "5 jaar na verlaten onderwijs",
          "Direct na verlaten onderwijs",
          "1 jaar na verlaten onderwijs",
          "2 jaar na verlaten onderwijs",
          "3 jaar na verlaten onderwijs",
          "4 jaar na verlaten onderwijs",
          "5 jaar na verlaten onderwijs",
          "Direct na verlaten onderwijs",
          "1 jaar na verlaten onderwijs",
          "2 jaar na verlaten onderwijs",
          "3 jaar na verlaten onderwijs",
          "4 jaar na verlaten onderwijs",
          "5 jaar na verlaten onderwijs",
          "Direct na verlaten onderwijs",
          "1 jaar na verlaten onderwijs",
          "2 jaar na verlaten onderwijs",
          "3 jaar na verlaten onderwijs",
          "4 jaar na verlaten onderwijs",
          "5 jaar na verlaten onderwijs",
          "Direct na verlaten onderwijs",
          "1 jaar na verlaten onderwijs",
          "2 jaar na verlaten onderwijs",
          "3 jaar na verlaten onderwijs",
          "4 jaar na verlaten onderwijs",
          "5 jaar na verlaten onderwijs",
          "Direct na verlaten onderwijs",
          "1 jaar na verlaten onderwijs",
          "2 jaar na verlaten onderwijs",
          "3 jaar na verlaten onderwijs",
          "4 jaar na verlaten onderwijs",
          "5 jaar na verlaten onderwijs",
          "Direct na verlaten onderwijs",
          "1 jaar na verlaten onderwijs",
          "2 jaar na verlaten onderwijs",
          "3 jaar na verlaten onderwijs",
          "4 jaar na verlaten onderwijs",
          "5 jaar na verlaten onderwijs",
          "Direct na verlaten onderwijs",
          "1 jaar na verlaten onderwijs",
          "2 jaar na verlaten onderwijs",
          "3 jaar na verlaten onderwijs",
          "4 jaar na verlaten onderwijs",
          "5 jaar na verlaten onderwijs",
          "Direct na verlaten onderwijs",
          "1 jaar na verlaten onderwijs",
          "2 jaar na verlaten onderwijs",
          "3 jaar na verlaten onderwijs",
          "4 jaar na verlaten onderwijs",
          "5 jaar na verlaten onderwijs",
          "Direct na verlaten onderwijs",
          "1 jaar na verlaten onderwijs",
          "2 jaar na verlaten onderwijs",
          "3 jaar na verlaten onderwijs",
          "4 jaar na verlaten onderwijs",
          "5 jaar na verlaten onderwijs",
          "Direct na verlaten onderwijs",
          "1 jaar na verlaten onderwijs",
          "2 jaar na verlaten onderwijs",
          "3 jaar na verlaten onderwijs",
          "4 jaar na verlaten onderwijs",
          "5 jaar na verlaten onderwijs",
          "Direct na verlaten onderwijs",
          "1 jaar na verlaten onderwijs",
          "2 jaar na verlaten onderwijs",
          "3 jaar na verlaten onderwijs",
          "4 jaar na verlaten onderwijs",
          "5 jaar na verlaten onderwijs",
          "Direct na verlaten onderwijs",
          "1 jaar na verlaten onderwijs",
          "2 jaar na verlaten onderwijs",
          "3 jaar na verlaten onderwijs",
          "4 jaar na verlaten onderwijs",
          "5 jaar na verlaten onderwijs",
          "Direct na verlaten onderwijs",
          "1 jaar na verlaten onderwijs",
          "2 jaar na verlaten onderwijs",
          "3 jaar na verlaten onderwijs",
          "4 jaar na verlaten onderwijs",
          "5 jaar na verlaten onderwijs",
          "Direct na verlaten onderwijs",
          "1 jaar na verlaten onderwijs",
          "2 jaar na verlaten onderwijs",
          "3 jaar na verlaten onderwijs",
          "4 jaar na verlaten onderwijs",
          "5 jaar na verlaten onderwijs",
          "Direct na verlaten onderwijs",
          "1 jaar na verlaten onderwijs",
          "2 jaar na verlaten onderwijs",
          "3 jaar na verlaten onderwijs",
          "4 jaar na verlaten onderwijs",
          "5 jaar na verlaten onderwijs",
          "Direct na verlaten onderwijs",
          "1 jaar na verlaten onderwijs",
          "2 jaar na verlaten onderwijs",
          "3 jaar na verlaten onderwijs",
          "4 jaar na verlaten onderwijs",
          "5 jaar na verlaten onderwijs"
         ],
         "y": [
          16.29,
          18.12,
          20.28,
          22.6,
          25.1,
          27.48
         ]
        }
       ],
       "layout": {
        "bargap": 0.15,
        "bargroupgap": 0.1,
        "barmode": "group",
        "height": 400,
        "legend": {
         "bgcolor": "rgba(255, 255, 255, 0)",
         "bordercolor": "rgba(255, 255, 255, 0)",
         "x": 1,
         "y": 1
        },
        "template": {
         "data": {
          "bar": [
           {
            "error_x": {
             "color": "#2a3f5f"
            },
            "error_y": {
             "color": "#2a3f5f"
            },
            "marker": {
             "line": {
              "color": "#E5ECF6",
              "width": 0.5
             },
             "pattern": {
              "fillmode": "overlay",
              "size": 10,
              "solidity": 0.2
             }
            },
            "type": "bar"
           }
          ],
          "barpolar": [
           {
            "marker": {
             "line": {
              "color": "#E5ECF6",
              "width": 0.5
             },
             "pattern": {
              "fillmode": "overlay",
              "size": 10,
              "solidity": 0.2
             }
            },
            "type": "barpolar"
           }
          ],
          "carpet": [
           {
            "aaxis": {
             "endlinecolor": "#2a3f5f",
             "gridcolor": "white",
             "linecolor": "white",
             "minorgridcolor": "white",
             "startlinecolor": "#2a3f5f"
            },
            "baxis": {
             "endlinecolor": "#2a3f5f",
             "gridcolor": "white",
             "linecolor": "white",
             "minorgridcolor": "white",
             "startlinecolor": "#2a3f5f"
            },
            "type": "carpet"
           }
          ],
          "choropleth": [
           {
            "colorbar": {
             "outlinewidth": 0,
             "ticks": ""
            },
            "type": "choropleth"
           }
          ],
          "contour": [
           {
            "colorbar": {
             "outlinewidth": 0,
             "ticks": ""
            },
            "colorscale": [
             [
              0,
              "#0d0887"
             ],
             [
              0.1111111111111111,
              "#46039f"
             ],
             [
              0.2222222222222222,
              "#7201a8"
             ],
             [
              0.3333333333333333,
              "#9c179e"
             ],
             [
              0.4444444444444444,
              "#bd3786"
             ],
             [
              0.5555555555555556,
              "#d8576b"
             ],
             [
              0.6666666666666666,
              "#ed7953"
             ],
             [
              0.7777777777777778,
              "#fb9f3a"
             ],
             [
              0.8888888888888888,
              "#fdca26"
             ],
             [
              1,
              "#f0f921"
             ]
            ],
            "type": "contour"
           }
          ],
          "contourcarpet": [
           {
            "colorbar": {
             "outlinewidth": 0,
             "ticks": ""
            },
            "type": "contourcarpet"
           }
          ],
          "heatmap": [
           {
            "colorbar": {
             "outlinewidth": 0,
             "ticks": ""
            },
            "colorscale": [
             [
              0,
              "#0d0887"
             ],
             [
              0.1111111111111111,
              "#46039f"
             ],
             [
              0.2222222222222222,
              "#7201a8"
             ],
             [
              0.3333333333333333,
              "#9c179e"
             ],
             [
              0.4444444444444444,
              "#bd3786"
             ],
             [
              0.5555555555555556,
              "#d8576b"
             ],
             [
              0.6666666666666666,
              "#ed7953"
             ],
             [
              0.7777777777777778,
              "#fb9f3a"
             ],
             [
              0.8888888888888888,
              "#fdca26"
             ],
             [
              1,
              "#f0f921"
             ]
            ],
            "type": "heatmap"
           }
          ],
          "heatmapgl": [
           {
            "colorbar": {
             "outlinewidth": 0,
             "ticks": ""
            },
            "colorscale": [
             [
              0,
              "#0d0887"
             ],
             [
              0.1111111111111111,
              "#46039f"
             ],
             [
              0.2222222222222222,
              "#7201a8"
             ],
             [
              0.3333333333333333,
              "#9c179e"
             ],
             [
              0.4444444444444444,
              "#bd3786"
             ],
             [
              0.5555555555555556,
              "#d8576b"
             ],
             [
              0.6666666666666666,
              "#ed7953"
             ],
             [
              0.7777777777777778,
              "#fb9f3a"
             ],
             [
              0.8888888888888888,
              "#fdca26"
             ],
             [
              1,
              "#f0f921"
             ]
            ],
            "type": "heatmapgl"
           }
          ],
          "histogram": [
           {
            "marker": {
             "pattern": {
              "fillmode": "overlay",
              "size": 10,
              "solidity": 0.2
             }
            },
            "type": "histogram"
           }
          ],
          "histogram2d": [
           {
            "colorbar": {
             "outlinewidth": 0,
             "ticks": ""
            },
            "colorscale": [
             [
              0,
              "#0d0887"
             ],
             [
              0.1111111111111111,
              "#46039f"
             ],
             [
              0.2222222222222222,
              "#7201a8"
             ],
             [
              0.3333333333333333,
              "#9c179e"
             ],
             [
              0.4444444444444444,
              "#bd3786"
             ],
             [
              0.5555555555555556,
              "#d8576b"
             ],
             [
              0.6666666666666666,
              "#ed7953"
             ],
             [
              0.7777777777777778,
              "#fb9f3a"
             ],
             [
              0.8888888888888888,
              "#fdca26"
             ],
             [
              1,
              "#f0f921"
             ]
            ],
            "type": "histogram2d"
           }
          ],
          "histogram2dcontour": [
           {
            "colorbar": {
             "outlinewidth": 0,
             "ticks": ""
            },
            "colorscale": [
             [
              0,
              "#0d0887"
             ],
             [
              0.1111111111111111,
              "#46039f"
             ],
             [
              0.2222222222222222,
              "#7201a8"
             ],
             [
              0.3333333333333333,
              "#9c179e"
             ],
             [
              0.4444444444444444,
              "#bd3786"
             ],
             [
              0.5555555555555556,
              "#d8576b"
             ],
             [
              0.6666666666666666,
              "#ed7953"
             ],
             [
              0.7777777777777778,
              "#fb9f3a"
             ],
             [
              0.8888888888888888,
              "#fdca26"
             ],
             [
              1,
              "#f0f921"
             ]
            ],
            "type": "histogram2dcontour"
           }
          ],
          "mesh3d": [
           {
            "colorbar": {
             "outlinewidth": 0,
             "ticks": ""
            },
            "type": "mesh3d"
           }
          ],
          "parcoords": [
           {
            "line": {
             "colorbar": {
              "outlinewidth": 0,
              "ticks": ""
             }
            },
            "type": "parcoords"
           }
          ],
          "pie": [
           {
            "automargin": true,
            "type": "pie"
           }
          ],
          "scatter": [
           {
            "fillpattern": {
             "fillmode": "overlay",
             "size": 10,
             "solidity": 0.2
            },
            "type": "scatter"
           }
          ],
          "scatter3d": [
           {
            "line": {
             "colorbar": {
              "outlinewidth": 0,
              "ticks": ""
             }
            },
            "marker": {
             "colorbar": {
              "outlinewidth": 0,
              "ticks": ""
             }
            },
            "type": "scatter3d"
           }
          ],
          "scattercarpet": [
           {
            "marker": {
             "colorbar": {
              "outlinewidth": 0,
              "ticks": ""
             }
            },
            "type": "scattercarpet"
           }
          ],
          "scattergeo": [
           {
            "marker": {
             "colorbar": {
              "outlinewidth": 0,
              "ticks": ""
             }
            },
            "type": "scattergeo"
           }
          ],
          "scattergl": [
           {
            "marker": {
             "colorbar": {
              "outlinewidth": 0,
              "ticks": ""
             }
            },
            "type": "scattergl"
           }
          ],
          "scattermapbox": [
           {
            "marker": {
             "colorbar": {
              "outlinewidth": 0,
              "ticks": ""
             }
            },
            "type": "scattermapbox"
           }
          ],
          "scatterpolar": [
           {
            "marker": {
             "colorbar": {
              "outlinewidth": 0,
              "ticks": ""
             }
            },
            "type": "scatterpolar"
           }
          ],
          "scatterpolargl": [
           {
            "marker": {
             "colorbar": {
              "outlinewidth": 0,
              "ticks": ""
             }
            },
            "type": "scatterpolargl"
           }
          ],
          "scatterternary": [
           {
            "marker": {
             "colorbar": {
              "outlinewidth": 0,
              "ticks": ""
             }
            },
            "type": "scatterternary"
           }
          ],
          "surface": [
           {
            "colorbar": {
             "outlinewidth": 0,
             "ticks": ""
            },
            "colorscale": [
             [
              0,
              "#0d0887"
             ],
             [
              0.1111111111111111,
              "#46039f"
             ],
             [
              0.2222222222222222,
              "#7201a8"
             ],
             [
              0.3333333333333333,
              "#9c179e"
             ],
             [
              0.4444444444444444,
              "#bd3786"
             ],
             [
              0.5555555555555556,
              "#d8576b"
             ],
             [
              0.6666666666666666,
              "#ed7953"
             ],
             [
              0.7777777777777778,
              "#fb9f3a"
             ],
             [
              0.8888888888888888,
              "#fdca26"
             ],
             [
              1,
              "#f0f921"
             ]
            ],
            "type": "surface"
           }
          ],
          "table": [
           {
            "cells": {
             "fill": {
              "color": "#EBF0F8"
             },
             "line": {
              "color": "white"
             }
            },
            "header": {
             "fill": {
              "color": "#C8D4E3"
             },
             "line": {
              "color": "white"
             }
            },
            "type": "table"
           }
          ]
         },
         "layout": {
          "annotationdefaults": {
           "arrowcolor": "#2a3f5f",
           "arrowhead": 0,
           "arrowwidth": 1
          },
          "autotypenumbers": "strict",
          "coloraxis": {
           "colorbar": {
            "outlinewidth": 0,
            "ticks": ""
           }
          },
          "colorscale": {
           "diverging": [
            [
             0,
             "#8e0152"
            ],
            [
             0.1,
             "#c51b7d"
            ],
            [
             0.2,
             "#de77ae"
            ],
            [
             0.3,
             "#f1b6da"
            ],
            [
             0.4,
             "#fde0ef"
            ],
            [
             0.5,
             "#f7f7f7"
            ],
            [
             0.6,
             "#e6f5d0"
            ],
            [
             0.7,
             "#b8e186"
            ],
            [
             0.8,
             "#7fbc41"
            ],
            [
             0.9,
             "#4d9221"
            ],
            [
             1,
             "#276419"
            ]
           ],
           "sequential": [
            [
             0,
             "#0d0887"
            ],
            [
             0.1111111111111111,
             "#46039f"
            ],
            [
             0.2222222222222222,
             "#7201a8"
            ],
            [
             0.3333333333333333,
             "#9c179e"
            ],
            [
             0.4444444444444444,
             "#bd3786"
            ],
            [
             0.5555555555555556,
             "#d8576b"
            ],
            [
             0.6666666666666666,
             "#ed7953"
            ],
            [
             0.7777777777777778,
             "#fb9f3a"
            ],
            [
             0.8888888888888888,
             "#fdca26"
            ],
            [
             1,
             "#f0f921"
            ]
           ],
           "sequentialminus": [
            [
             0,
             "#0d0887"
            ],
            [
             0.1111111111111111,
             "#46039f"
            ],
            [
             0.2222222222222222,
             "#7201a8"
            ],
            [
             0.3333333333333333,
             "#9c179e"
            ],
            [
             0.4444444444444444,
             "#bd3786"
            ],
            [
             0.5555555555555556,
             "#d8576b"
            ],
            [
             0.6666666666666666,
             "#ed7953"
            ],
            [
             0.7777777777777778,
             "#fb9f3a"
            ],
            [
             0.8888888888888888,
             "#fdca26"
            ],
            [
             1,
             "#f0f921"
            ]
           ]
          },
          "colorway": [
           "#636efa",
           "#EF553B",
           "#00cc96",
           "#ab63fa",
           "#FFA15A",
           "#19d3f3",
           "#FF6692",
           "#B6E880",
           "#FF97FF",
           "#FECB52"
          ],
          "font": {
           "color": "#2a3f5f"
          },
          "geo": {
           "bgcolor": "white",
           "lakecolor": "white",
           "landcolor": "#E5ECF6",
           "showlakes": true,
           "showland": true,
           "subunitcolor": "white"
          },
          "hoverlabel": {
           "align": "left"
          },
          "hovermode": "closest",
          "mapbox": {
           "style": "light"
          },
          "paper_bgcolor": "white",
          "plot_bgcolor": "#E5ECF6",
          "polar": {
           "angularaxis": {
            "gridcolor": "white",
            "linecolor": "white",
            "ticks": ""
           },
           "bgcolor": "#E5ECF6",
           "radialaxis": {
            "gridcolor": "white",
            "linecolor": "white",
            "ticks": ""
           }
          },
          "scene": {
           "xaxis": {
            "backgroundcolor": "#E5ECF6",
            "gridcolor": "white",
            "gridwidth": 2,
            "linecolor": "white",
            "showbackground": true,
            "ticks": "",
            "zerolinecolor": "white"
           },
           "yaxis": {
            "backgroundcolor": "#E5ECF6",
            "gridcolor": "white",
            "gridwidth": 2,
            "linecolor": "white",
            "showbackground": true,
            "ticks": "",
            "zerolinecolor": "white"
           },
           "zaxis": {
            "backgroundcolor": "#E5ECF6",
            "gridcolor": "white",
            "gridwidth": 2,
            "linecolor": "white",
            "showbackground": true,
            "ticks": "",
            "zerolinecolor": "white"
           }
          },
          "shapedefaults": {
           "line": {
            "color": "#2a3f5f"
           }
          },
          "ternary": {
           "aaxis": {
            "gridcolor": "white",
            "linecolor": "white",
            "ticks": ""
           },
           "baxis": {
            "gridcolor": "white",
            "linecolor": "white",
            "ticks": ""
           },
           "bgcolor": "#E5ECF6",
           "caxis": {
            "gridcolor": "white",
            "linecolor": "white",
            "ticks": ""
           }
          },
          "title": {
           "x": 0.05
          },
          "xaxis": {
           "automargin": true,
           "gridcolor": "white",
           "linecolor": "white",
           "ticks": "",
           "title": {
            "standoff": 15
           },
           "zerolinecolor": "white",
           "zerolinewidth": 2
          },
          "yaxis": {
           "automargin": true,
           "gridcolor": "white",
           "linecolor": "white",
           "ticks": "",
           "title": {
            "standoff": 15
           },
           "zerolinecolor": "white",
           "zerolinewidth": 2
          }
         }
        },
        "title": {
         "text": "Hourly wage after leaving university per degree"
        },
        "xaxis": {
         "ticktext": [
          "Directly after",
          "1 year after",
          "2 years after",
          "3 years after",
          "4 years after",
          "5 years after"
         ],
         "tickvals": [
          "Direct na verlaten onderwijs",
          "1 jaar na verlaten onderwijs",
          "2 jaar na verlaten onderwijs",
          "3 jaar na verlaten onderwijs",
          "4 jaar na verlaten onderwijs",
          "5 jaar na verlaten onderwijs"
         ],
         "title": {
          "text": "Benchmark"
         },
         "type": "category"
        },
        "yaxis": {
         "tickformat": ",.",
         "tickprefix": "€",
         "title": {
          "text": "Hourly wage"
         }
        }
       }
      }
     },
     "metadata": {},
     "output_type": "display_data"
    }
   ],
   "source": [
    "trace = [go.Bar(\n",
    "    x=uurloon['Peilmoment'],\n",
    "    y=hbo_bachelor['Uurloon werknemers na verlaten ho (euro)'],\n",
    "    name='Hbo-bachelor',\n",
    "    marker_color='rgb(102,194,165)',\n",
    "    hoverinfo='y+name'\n",
    "    ),\n",
    "    go.Bar(\n",
    "    x=uurloon['Peilmoment'],\n",
    "    y=hbo_master['Uurloon werknemers na verlaten ho (euro)'],\n",
    "    name='Hbo-master',\n",
    "    marker_color='rgb(252,141,98)',\n",
    "    hoverinfo='y+name'\n",
    "    ),\n",
    "    go.Bar(\n",
    "    x=uurloon['Peilmoment'],\n",
    "    y=wo_bachelor['Uurloon werknemers na verlaten ho (euro)'],\n",
    "    name='Wo-bachelor',\n",
    "    marker_color='rgb(141,160,203)',\n",
    "    hoverinfo='y+name'\n",
    "    ),\n",
    "    go.Bar(\n",
    "    x=uurloon['Peilmoment'],\n",
    "    y=wo_master['Uurloon werknemers na verlaten ho (euro)'],\n",
    "    name='Wo-master',\n",
    "    marker_color='rgb(231,138,195)',\n",
    "    hoverinfo='y+name'\n",
    "    )]\n",
    "\n",
    "layout = go.Layout(\n",
    "    title='Hourly wage after leaving university per degree',\n",
    "    height=400,\n",
    "    xaxis=go.layout.XAxis(\n",
    "        title='Benchmark',\n",
    "        type='category',\n",
    "        tickvals = uurloongem['Peilmoment'].unique(),\n",
    "        ticktext=['Directly after', '1 year after', '2 years after', '3 years after', '4 years after', '5 years after']\n",
    "    ),\n",
    "    yaxis=go.layout.YAxis(\n",
    "        title='Hourly wage',\n",
    "        tickprefix = '€', \n",
    "        tickformat = ',.'\n",
    "    ),\n",
    "    legend=dict(\n",
    "            x=1.0,\n",
    "            y=1.0,\n",
    "            bgcolor='rgba(255, 255, 255, 0)',\n",
    "            bordercolor='rgba(255, 255, 255, 0)'\n",
    "    ),\n",
    "    barmode='group',\n",
    "    bargap=0.15,\n",
    "    bargroupgap=0.1,\n",
    ")\n",
    "\n",
    "fig = go.Figure(data=trace, layout=layout)\n",
    "fig.show()"
   ]
  },
  {
   "cell_type": "code",
   "execution_count": 890,
   "metadata": {},
   "outputs": [],
   "source": [
    "total_counts_niveau = peilmoment1.groupby('Uitstromers ho met en zonder diploma')['Uitstromers ho (aantal)'].sum().reset_index()\n",
    "total_counts_niveau.rename(columns={'Uitstromers ho (aantal)': 'Total degree level'}, inplace=True)\n",
    "\n",
    "arbeidsmarkt = arbeidsmarkt.merge(total_counts_niveau, on='Uitstromers ho met en zonder diploma')\n",
    "\n",
    "total_counts = peilmoment1.groupby('Studierichting')['Uitstromers ho (aantal)'].sum().reset_index()\n",
    "total_counts.rename(columns={'Uitstromers ho (aantal)': 'Total studierichting'}, inplace=True)\n",
    "\n",
    "arbeidsmarkt = arbeidsmarkt.merge(total_counts, on='Studierichting')\n"
   ]
  },
  {
   "cell_type": "code",
   "execution_count": 891,
   "metadata": {},
   "outputs": [],
   "source": [
    "arbeidsmarkt['Percentage studierichting'] = arbeidsmarkt['Uitstromers ho (aantal)'] / arbeidsmarkt['Total studierichting'] * 100\n",
    "arbeidsmarkt['Percentage degree level'] = arbeidsmarkt['Uitstromers ho (aantal)'] / arbeidsmarkt['Total degree level'] * 100"
   ]
  },
  {
   "cell_type": "code",
   "execution_count": 892,
   "metadata": {},
   "outputs": [],
   "source": [
    "arbeidsmarktp0 = arbeidsmarkt.loc[arbeidsmarkt['Peilmoment'] == 'Direct na verlaten onderwijs']\n",
    "arbeidsmarktp1 = arbeidsmarkt.loc[arbeidsmarkt['Peilmoment'] == '1 jaar na verlaten onderwijs']\n",
    "arbeidsmarktp2 = arbeidsmarkt.loc[arbeidsmarkt['Peilmoment'] == '2 jaar na verlaten onderwijs']\n",
    "arbeidsmarktp3 = arbeidsmarkt.loc[arbeidsmarkt['Peilmoment'] == '3 jaar na verlaten onderwijs']\n",
    "arbeidsmarktp4 = arbeidsmarkt.loc[arbeidsmarkt['Peilmoment'] == '4 jaar na verlaten onderwijs']\n",
    "arbeidsmarktp5 = arbeidsmarkt.loc[arbeidsmarkt['Peilmoment'] == '5 jaar na verlaten onderwijs']\n",
    "\n",
    "data = [arbeidsmarktp0, arbeidsmarktp1, arbeidsmarktp2, arbeidsmarktp3, arbeidsmarktp4, arbeidsmarktp5]\n"
   ]
  },
  {
   "cell_type": "code",
   "execution_count": 886,
   "metadata": {},
   "outputs": [
    {
     "data": {
      "application/vnd.plotly.v1+json": {
       "config": {
        "plotlyServerURL": "https://plot.ly"
       },
       "data": [
        {
         "colorbar": {
          "tickformat": "%d%",
          "title": {
           "text": "% Percentage"
          }
         },
         "colorscale": [
          [
           0,
           "rgb(247,251,255)"
          ],
          [
           0.125,
           "rgb(222,235,247)"
          ],
          [
           0.25,
           "rgb(198,219,239)"
          ],
          [
           0.375,
           "rgb(158,202,225)"
          ],
          [
           0.5,
           "rgb(107,174,214)"
          ],
          [
           0.625,
           "rgb(66,146,198)"
          ],
          [
           0.75,
           "rgb(33,113,181)"
          ],
          [
           0.875,
           "rgb(8,81,156)"
          ],
          [
           1,
           "rgb(8,48,107)"
          ]
         ],
         "hoverinfo": "text+x",
         "hoverongaps": false,
         "text": [
          [
           "1%",
           "2%",
           "1%",
           "1%",
           "1%",
           "3%",
           "2%",
           "0%",
           "2%",
           "1%"
          ],
          [
           "84%",
           "84%",
           "85%",
           "77%",
           "74%",
           "92%",
           "79%",
           "61%",
           "75%",
           "83%"
          ],
          [
           "0%",
           "0%",
           "0%",
           "0%",
           "0%",
           "0%",
           "0%",
           "0%",
           "0%",
           "0%"
          ],
          [
           "1%",
           "2%",
           "1%",
           "2%",
           "2%",
           "1%",
           "3%",
           "0%",
           "3%",
           "1%"
          ],
          [
           "13%",
           "12%",
           "13%",
           "20%",
           "23%",
           "5%",
           "16%",
           "39%",
           "20%",
           "15%"
          ]
         ],
         "type": "heatmap",
         "visible": true,
         "x": [
          "Economie",
          "Gedrag en Maatschappij",
          "Gezondheidszorg",
          "Landbouw en natuurlijke omgeving",
          "Natuur",
          "Onderwijs",
          "Recht",
          "Sectoroverstijgend",
          "Taal en cultuur",
          "Techniek"
         ],
         "y": [
          "Met werk, met uitkering",
          "Met werk, zonder uitkering",
          "Terug in onderwijs",
          "Zonder werk, met uitkering",
          "Zonder werk, zonder uitkering"
         ],
         "z": [
          [
           1.4890646812470918,
           2.238354506957048,
           1.062573789846517,
           0.9259259259259258,
           1.102941176470588,
           2.514506769825919,
           1.902173913043478,
           0,
           2.2801302931596092,
           0.8163265306122449
          ],
          [
           84.03908794788273,
           83.7265577737447,
           85.47815820543093,
           77.31481481481481,
           73.89705882352942,
           92.06963249516441,
           79.34782608695653,
           60.714285714285715,
           75.0814332247557,
           83.26530612244898
          ],
          [
           0,
           0,
           0,
           0,
           0,
           0,
           0,
           0,
           0,
           0
          ],
          [
           1.3959981386691487,
           1.9963702359346642,
           0.9445100354191263,
           1.8518518518518516,
           2.205882352941176,
           0.7736943907156674,
           2.717391304347826,
           0,
           2.931596091205212,
           1.2244897959183674
          ],
          [
           13.075849232201024,
           12.03871748336358,
           12.514757969303425,
           19.907407407407405,
           22.794117647058822,
           4.642166344294004,
           16.032608695652172,
           39.28571428571429,
           19.706840390879478,
           14.693877551020408
          ]
         ],
         "zmax": 100,
         "zmin": 0
        },
        {
         "colorbar": {
          "tickformat": "%d%",
          "title": {
           "text": "% Percentage"
          }
         },
         "colorscale": [
          [
           0,
           "rgb(247,251,255)"
          ],
          [
           0.125,
           "rgb(222,235,247)"
          ],
          [
           0.25,
           "rgb(198,219,239)"
          ],
          [
           0.375,
           "rgb(158,202,225)"
          ],
          [
           0.5,
           "rgb(107,174,214)"
          ],
          [
           0.625,
           "rgb(66,146,198)"
          ],
          [
           0.75,
           "rgb(33,113,181)"
          ],
          [
           0.875,
           "rgb(8,81,156)"
          ],
          [
           1,
           "rgb(8,48,107)"
          ]
         ],
         "hoverinfo": "text+x",
         "hoverongaps": false,
         "text": [
          [
           "2%",
           "2%",
           "1%",
           "1%",
           "1%",
           "3%",
           "2%",
           "0%",
           "3%",
           "1%"
          ],
          [
           "85%",
           "82%",
           "78%",
           "83%",
           "74%",
           "86%",
           "83%",
           "32%",
           "74%",
           "87%"
          ],
          [
           "6%",
           "9%",
           "16%",
           "6%",
           "13%",
           "6%",
           "7%",
           "43%",
           "9%",
           "5%"
          ],
          [
           "1%",
           "2%",
           "1%",
           "2%",
           "1%",
           "1%",
           "2%",
           "0%",
           "2%",
           "1%"
          ],
          [
           "5%",
           "4%",
           "3%",
           "6%",
           "7%",
           "3%",
           "5%",
           "20%",
           "9%",
           "4%"
          ]
         ],
         "type": "heatmap",
         "visible": false,
         "x": [
          "Economie",
          "Gedrag en Maatschappij",
          "Gezondheidszorg",
          "Landbouw en natuurlijke omgeving",
          "Natuur",
          "Onderwijs",
          "Recht",
          "Sectoroverstijgend",
          "Taal en cultuur",
          "Techniek"
         ],
         "y": [
          "Met werk, met uitkering",
          "Met werk, zonder uitkering",
          "Terug in onderwijs",
          "Zonder werk, met uitkering",
          "Zonder werk, zonder uitkering"
         ],
         "z": [
          [
           1.582131223825035,
           2.1173623714458563,
           1.1806375442739079,
           1.3888888888888888,
           1.4705882352941175,
           2.9013539651837523,
           1.6304347826086956,
           0,
           2.931596091205212,
           0.9795918367346939
          ],
          [
           84.87668683108423,
           81.85117967332124,
           77.80401416765054,
           83.33333333333334,
           74.26470588235293,
           86.46034816247582,
           82.88043478260869,
           32.14285714285714,
           74.1042345276873,
           87.42857142857143
          ],
          [
           5.537459283387623,
           8.892921960072595,
           16.05667060212515,
           6.481481481481481,
           13.235294117647058,
           6.189555125725339,
           7.336956521739129,
           42.857142857142854,
           9.283387622149839,
           5.142857142857142
          ],
          [
           1.4425314099581201,
           1.8753781004234726,
           0.8264462809917354,
           1.8518518518518516,
           1.102941176470588,
           1.160541586073501,
           2.4456521739130435,
           0,
           2.2801302931596092,
           1.0612244897959184
          ],
          [
           5.397859469520707,
           4.4162129461585,
           3.0696576151121606,
           6.481481481481481,
           6.985294117647059,
           2.514506769825919,
           4.619565217391305,
           19.642857142857142,
           8.794788273615636,
           4.163265306122449
          ]
         ],
         "zmax": 100,
         "zmin": 0
        },
        {
         "colorbar": {
          "tickformat": "%d%",
          "title": {
           "text": "% Percentage"
          }
         },
         "colorscale": [
          [
           0,
           "rgb(247,251,255)"
          ],
          [
           0.125,
           "rgb(222,235,247)"
          ],
          [
           0.25,
           "rgb(198,219,239)"
          ],
          [
           0.375,
           "rgb(158,202,225)"
          ],
          [
           0.5,
           "rgb(107,174,214)"
          ],
          [
           0.625,
           "rgb(66,146,198)"
          ],
          [
           0.75,
           "rgb(33,113,181)"
          ],
          [
           0.875,
           "rgb(8,81,156)"
          ],
          [
           1,
           "rgb(8,48,107)"
          ]
         ],
         "hoverinfo": "text+x",
         "hoverongaps": false,
         "text": [
          [
           "1%",
           "2%",
           "1%",
           "1%",
           "1%",
           "2%",
           "1%",
           "0%",
           "2%",
           "1%"
          ],
          [
           "85%",
           "81%",
           "76%",
           "82%",
           "74%",
           "85%",
           "84%",
           "32%",
           "74%",
           "87%"
          ],
          [
           "7%",
           "11%",
           "19%",
           "8%",
           "15%",
           "10%",
           "9%",
           "54%",
           "12%",
           "6%"
          ],
          [
           "2%",
           "2%",
           "1%",
           "2%",
           "1%",
           "1%",
           "2%",
           "0%",
           "2%",
           "1%"
          ],
          [
           "4%",
           "3%",
           "2%",
           "4%",
           "5%",
           "2%",
           "3%",
           "14%",
           "6%",
           "3%"
          ]
         ],
         "type": "heatmap",
         "visible": false,
         "x": [
          "Economie",
          "Gedrag en Maatschappij",
          "Gezondheidszorg",
          "Landbouw en natuurlijke omgeving",
          "Natuur",
          "Onderwijs",
          "Recht",
          "Sectoroverstijgend",
          "Taal en cultuur",
          "Techniek"
         ],
         "y": [
          "Met werk, met uitkering",
          "Met werk, zonder uitkering",
          "Terug in onderwijs",
          "Zonder werk, met uitkering",
          "Zonder werk, zonder uitkering"
         ],
         "z": [
          [
           1.1633317822242903,
           1.693889897156685,
           0.9445100354191264,
           0.9259259259259258,
           0.7352941176470588,
           1.5473887814313347,
           1.358695652173913,
           0,
           2.2801302931596092,
           0.7346938775510204
          ],
          [
           84.83015355979525,
           80.7017543859649,
           76.03305785123968,
           82.4074074074074,
           73.52941176470588,
           84.71953578336556,
           83.69565217391305,
           32.14285714285714,
           73.61563517915309,
           87.10204081632652
          ],
          [
           7.119590507212657,
           11.373260738052027,
           18.536009445100355,
           7.87037037037037,
           15.073529411764707,
           10.251450676982593,
           8.695652173913043,
           53.57142857142858,
           12.214983713355048,
           6.448979591836735
          ],
          [
           1.6286644951140068,
           1.9358741681790685,
           1.062573789846517,
           1.8518518518518516,
           1.102941176470588,
           1.160541586073501,
           1.902173913043478,
           0,
           2.44299674267101,
           0.9795918367346939
          ],
          [
           3.5830618892508146,
           3.0248033877797944,
           2.007083825265643,
           4.166666666666666,
           5.147058823529411,
           1.5473887814313347,
           3.2608695652173916,
           14.285714285714285,
           6.188925081433225,
           3.0204081632653064
          ]
         ],
         "zmax": 100,
         "zmin": 0
        },
        {
         "colorbar": {
          "tickformat": "%d%",
          "title": {
           "text": "% Percentage"
          }
         },
         "colorscale": [
          [
           0,
           "rgb(247,251,255)"
          ],
          [
           0.125,
           "rgb(222,235,247)"
          ],
          [
           0.25,
           "rgb(198,219,239)"
          ],
          [
           0.375,
           "rgb(158,202,225)"
          ],
          [
           0.5,
           "rgb(107,174,214)"
          ],
          [
           0.625,
           "rgb(66,146,198)"
          ],
          [
           0.75,
           "rgb(33,113,181)"
          ],
          [
           0.875,
           "rgb(8,81,156)"
          ],
          [
           1,
           "rgb(8,48,107)"
          ]
         ],
         "hoverinfo": "text+x",
         "hoverongaps": false,
         "text": [
          [
           "1%",
           "2%",
           "1%",
           "2%",
           "0%",
           "1%",
           "1%",
           "0%",
           "2%",
           "1%"
          ],
          [
           "85%",
           "80%",
           "74%",
           "82%",
           "74%",
           "83%",
           "84%",
           "36%",
           "72%",
           "87%"
          ],
          [
           "8%",
           "13%",
           "20%",
           "9%",
           "15%",
           "13%",
           "9%",
           "55%",
           "14%",
           "7%"
          ],
          [
           "1%",
           "2%",
           "1%",
           "1%",
           "1%",
           "1%",
           "2%",
           "0%",
           "3%",
           "1%"
          ],
          [
           "3%",
           "3%",
           "2%",
           "4%",
           "4%",
           "1%",
           "2%",
           "9%",
           "5%",
           "3%"
          ]
         ],
         "type": "heatmap",
         "visible": false,
         "x": [
          "Economie",
          "Gedrag en Maatschappij",
          "Gezondheidszorg",
          "Landbouw en natuurlijke omgeving",
          "Natuur",
          "Onderwijs",
          "Recht",
          "Sectoroverstijgend",
          "Taal en cultuur",
          "Techniek"
         ],
         "y": [
          "Met werk, met uitkering",
          "Met werk, zonder uitkering",
          "Terug in onderwijs",
          "Zonder werk, met uitkering",
          "Zonder werk, zonder uitkering"
         ],
         "z": [
          [
           1.116798510935319,
           1.5124016938898972,
           1.1806375442739079,
           1.8518518518518516,
           0.3676470588235294,
           0.7736943907156674,
           0.8152173913043478,
           0,
           2.44299674267101,
           0.653061224489796
          ],
          [
           84.69055374592833,
           79.79431336963097,
           74.14403778040142,
           81.94444444444444,
           74.26470588235293,
           82.7852998065764,
           83.96739130434783,
           35.714285714285715,
           72.47557003257329,
           86.6938775510204
          ],
          [
           7.910656119125175,
           12.764670296430733,
           20.188902007083826,
           8.796296296296296,
           15.441176470588236,
           13.34622823984526,
           9.23913043478261,
           55.35714285714286,
           13.843648208469055,
           6.857142857142857
          ],
          [
           1.4890646812470918,
           1.9963702359346642,
           1.062573789846517,
           0.9259259259259258,
           1.102941176470588,
           0.9671179883945842,
           1.902173913043478,
           0,
           2.6058631921824107,
           1.0612244897959184
          ],
          [
           2.6058631921824102,
           2.722323049001815,
           1.8890200708382525,
           3.7037037037037033,
           3.6764705882352944,
           1.3539651837524178,
           2.1739130434782608,
           8.928571428571427,
           4.723127035830619,
           2.5306122448979593
          ]
         ],
         "zmax": 100,
         "zmin": 0
        },
        {
         "colorbar": {
          "tickformat": "%d%",
          "title": {
           "text": "% Percentage"
          }
         },
         "colorscale": [
          [
           0,
           "rgb(247,251,255)"
          ],
          [
           0.125,
           "rgb(222,235,247)"
          ],
          [
           0.25,
           "rgb(198,219,239)"
          ],
          [
           0.375,
           "rgb(158,202,225)"
          ],
          [
           0.5,
           "rgb(107,174,214)"
          ],
          [
           0.625,
           "rgb(66,146,198)"
          ],
          [
           0.75,
           "rgb(33,113,181)"
          ],
          [
           0.875,
           "rgb(8,81,156)"
          ],
          [
           1,
           "rgb(8,48,107)"
          ]
         ],
         "hoverinfo": "text+x",
         "hoverongaps": false,
         "text": [
          [
           "5%",
           "5%",
           "5%",
           "3%",
           "3%",
           "4%",
           "4%",
           "2%",
           "15%",
           "4%"
          ],
          [
           "80%",
           "76%",
           "70%",
           "81%",
           "70%",
           "79%",
           "81%",
           "36%",
           "58%",
           "83%"
          ],
          [
           "9%",
           "14%",
           "21%",
           "9%",
           "16%",
           "15%",
           "9%",
           "55%",
           "15%",
           "7%"
          ],
          [
           "2%",
           "2%",
           "1%",
           "2%",
           "3%",
           "1%",
           "2%",
           "0%",
           "3%",
           "2%"
          ],
          [
           "2%",
           "2%",
           "1%",
           "3%",
           "4%",
           "1%",
           "2%",
           "7%",
           "4%",
           "2%"
          ]
         ],
         "type": "heatmap",
         "visible": false,
         "x": [
          "Economie",
          "Gedrag en Maatschappij",
          "Gezondheidszorg",
          "Landbouw en natuurlijke omgeving",
          "Natuur",
          "Onderwijs",
          "Recht",
          "Sectoroverstijgend",
          "Taal en cultuur",
          "Techniek"
         ],
         "y": [
          "Met werk, met uitkering",
          "Met werk, zonder uitkering",
          "Terug in onderwijs",
          "Zonder werk, met uitkering",
          "Zonder werk, zonder uitkering"
         ],
         "z": [
          [
           4.979060027919963,
           4.537205081669692,
           4.7225501770956315,
           3.2407407407407405,
           2.941176470588235,
           4.061895551257253,
           3.5326086956521743,
           1.7857142857142856,
           15.309446254071663,
           3.7551020408163267
          ],
          [
           80.22335970218707,
           76.346037507562,
           69.77567886658795,
           80.55555555555556,
           70.22058823529412,
           78.52998065764022,
           80.70652173913044,
           35.714285714285715,
           58.46905537459283,
           83.26530612244898
          ],
          [
           8.562121917170778,
           13.611615245009075,
           21.487603305785125,
           8.796296296296296,
           16.176470588235293,
           15.087040618955513,
           9.23913043478261,
           55.35714285714286,
           15.146579804560261,
           7.183673469387755
          ],
          [
           2.3731968357375526,
           2.238354506957048,
           1.2987012987012987,
           2.3148148148148144,
           2.5735294117647056,
           1.160541586073501,
           2.1739130434782608,
           0,
           3.257328990228013,
           1.5510204081632653
          ],
          [
           1.7682643089809216,
           1.9358741681790683,
           1.2987012987012987,
           2.7777777777777777,
           4.044117647058824,
           0.7736943907156674,
           1.6304347826086956,
           7.142857142857142,
           3.583061889250814,
           1.9591836734693877
          ]
         ],
         "zmax": 100,
         "zmin": 0
        },
        {
         "colorbar": {
          "tickformat": "%d%",
          "title": {
           "text": "% Percentage"
          }
         },
         "colorscale": [
          [
           0,
           "rgb(247,251,255)"
          ],
          [
           0.125,
           "rgb(222,235,247)"
          ],
          [
           0.25,
           "rgb(198,219,239)"
          ],
          [
           0.375,
           "rgb(158,202,225)"
          ],
          [
           0.5,
           "rgb(107,174,214)"
          ],
          [
           0.625,
           "rgb(66,146,198)"
          ],
          [
           0.75,
           "rgb(33,113,181)"
          ],
          [
           0.875,
           "rgb(8,81,156)"
          ],
          [
           1,
           "rgb(8,48,107)"
          ]
         ],
         "hoverinfo": "text+x",
         "hoverongaps": false,
         "text": [
          [
           "3%",
           "2%",
           "2%",
           "2%",
           "2%",
           "2%",
           "2%",
           "0%",
           "8%",
           "2%"
          ],
          [
           "83%",
           "78%",
           "72%",
           "80%",
           "69%",
           "79%",
           "82%",
           "36%",
           "65%",
           "85%"
          ],
          [
           "9%",
           "14%",
           "23%",
           "10%",
           "17%",
           "17%",
           "10%",
           "59%",
           "17%",
           "7%"
          ],
          [
           "1%",
           "2%",
           "1%",
           "2%",
           "3%",
           "1%",
           "2%",
           "0%",
           "2%",
           "1%"
          ],
          [
           "2%",
           "2%",
           "1%",
           "3%",
           "4%",
           "1%",
           "2%",
           "5%",
           "3%",
           "2%"
          ]
         ],
         "type": "heatmap",
         "visible": false,
         "x": [
          "Economie",
          "Gedrag en Maatschappij",
          "Gezondheidszorg",
          "Landbouw en natuurlijke omgeving",
          "Natuur",
          "Onderwijs",
          "Recht",
          "Sectoroverstijgend",
          "Taal en cultuur",
          "Techniek"
         ],
         "y": [
          "Met werk, met uitkering",
          "Met werk, zonder uitkering",
          "Terug in onderwijs",
          "Zonder werk, met uitkering",
          "Zonder werk, zonder uitkering"
         ],
         "z": [
          [
           2.6523964634713826,
           2.177858439201452,
           1.770956316410862,
           1.8518518518518516,
           2.2058823529411766,
           2.127659574468085,
           1.6304347826086956,
           0,
           8.469055374592834,
           1.8775510204081634
          ],
          [
           82.92228943694741,
           78.0399274047187,
           71.66469893742621,
           79.62962962962963,
           69.48529411764706,
           78.72340425531915,
           82.06521739130434,
           35.714285714285715,
           65.30944625407166,
           85.38775510204081
          ],
          [
           8.980921358771521,
           14.277071990320628,
           22.668240850059032,
           9.722222222222221,
           16.544117647058822,
           16.827852998065765,
           10.054347826086957,
           58.92857142857142,
           16.775244299674267,
           7.428571428571428
          ],
          [
           1.4890646812470918,
           1.8753781004234726,
           1.1806375442739079,
           2.3148148148148144,
           2.5735294117647056,
           1.160541586073501,
           1.6304347826086956,
           0,
           2.4429967426710095,
           1.0612244897959184
          ],
          [
           1.954397394136808,
           1.8148820326678765,
           1.2987012987012987,
           2.7777777777777777,
           3.6764705882352944,
           0.9671179883945842,
           2.1739130434782608,
           5.357142857142857,
           3.0944625407166124,
           1.959183673469388
          ]
         ],
         "zmax": 100,
         "zmin": 0
        }
       ],
       "layout": {
        "margin": {
         "b": 10,
         "l": 20,
         "r": 20,
         "t": 80
        },
        "paper_bgcolor": "rgb(200, 210, 220, 1)",
        "sliders": [
         {
          "active": 0,
          "currentvalue": {
           "prefix": "Years after leaving university: "
          },
          "pad": {
           "r": 10,
           "t": 150
          },
          "steps": [
           {
            "args": [
             "visible",
             [
              true,
              false,
              false,
              false,
              false,
              false
             ]
            ],
            "label": "0",
            "method": "restyle"
           },
           {
            "args": [
             "visible",
             [
              false,
              true,
              false,
              false,
              false,
              false
             ]
            ],
            "label": "1",
            "method": "restyle"
           },
           {
            "args": [
             "visible",
             [
              false,
              false,
              true,
              false,
              false,
              false
             ]
            ],
            "label": "2",
            "method": "restyle"
           },
           {
            "args": [
             "visible",
             [
              false,
              false,
              false,
              true,
              false,
              false
             ]
            ],
            "label": "3",
            "method": "restyle"
           },
           {
            "args": [
             "visible",
             [
              false,
              false,
              false,
              false,
              true,
              false
             ]
            ],
            "label": "4",
            "method": "restyle"
           },
           {
            "args": [
             "visible",
             [
              false,
              false,
              false,
              false,
              false,
              true
             ]
            ],
            "label": "5",
            "method": "restyle"
           }
          ]
         }
        ],
        "template": {
         "data": {
          "bar": [
           {
            "error_x": {
             "color": "#2a3f5f"
            },
            "error_y": {
             "color": "#2a3f5f"
            },
            "marker": {
             "line": {
              "color": "#E5ECF6",
              "width": 0.5
             },
             "pattern": {
              "fillmode": "overlay",
              "size": 10,
              "solidity": 0.2
             }
            },
            "type": "bar"
           }
          ],
          "barpolar": [
           {
            "marker": {
             "line": {
              "color": "#E5ECF6",
              "width": 0.5
             },
             "pattern": {
              "fillmode": "overlay",
              "size": 10,
              "solidity": 0.2
             }
            },
            "type": "barpolar"
           }
          ],
          "carpet": [
           {
            "aaxis": {
             "endlinecolor": "#2a3f5f",
             "gridcolor": "white",
             "linecolor": "white",
             "minorgridcolor": "white",
             "startlinecolor": "#2a3f5f"
            },
            "baxis": {
             "endlinecolor": "#2a3f5f",
             "gridcolor": "white",
             "linecolor": "white",
             "minorgridcolor": "white",
             "startlinecolor": "#2a3f5f"
            },
            "type": "carpet"
           }
          ],
          "choropleth": [
           {
            "colorbar": {
             "outlinewidth": 0,
             "ticks": ""
            },
            "type": "choropleth"
           }
          ],
          "contour": [
           {
            "colorbar": {
             "outlinewidth": 0,
             "ticks": ""
            },
            "colorscale": [
             [
              0,
              "#0d0887"
             ],
             [
              0.1111111111111111,
              "#46039f"
             ],
             [
              0.2222222222222222,
              "#7201a8"
             ],
             [
              0.3333333333333333,
              "#9c179e"
             ],
             [
              0.4444444444444444,
              "#bd3786"
             ],
             [
              0.5555555555555556,
              "#d8576b"
             ],
             [
              0.6666666666666666,
              "#ed7953"
             ],
             [
              0.7777777777777778,
              "#fb9f3a"
             ],
             [
              0.8888888888888888,
              "#fdca26"
             ],
             [
              1,
              "#f0f921"
             ]
            ],
            "type": "contour"
           }
          ],
          "contourcarpet": [
           {
            "colorbar": {
             "outlinewidth": 0,
             "ticks": ""
            },
            "type": "contourcarpet"
           }
          ],
          "heatmap": [
           {
            "colorbar": {
             "outlinewidth": 0,
             "ticks": ""
            },
            "colorscale": [
             [
              0,
              "#0d0887"
             ],
             [
              0.1111111111111111,
              "#46039f"
             ],
             [
              0.2222222222222222,
              "#7201a8"
             ],
             [
              0.3333333333333333,
              "#9c179e"
             ],
             [
              0.4444444444444444,
              "#bd3786"
             ],
             [
              0.5555555555555556,
              "#d8576b"
             ],
             [
              0.6666666666666666,
              "#ed7953"
             ],
             [
              0.7777777777777778,
              "#fb9f3a"
             ],
             [
              0.8888888888888888,
              "#fdca26"
             ],
             [
              1,
              "#f0f921"
             ]
            ],
            "type": "heatmap"
           }
          ],
          "heatmapgl": [
           {
            "colorbar": {
             "outlinewidth": 0,
             "ticks": ""
            },
            "colorscale": [
             [
              0,
              "#0d0887"
             ],
             [
              0.1111111111111111,
              "#46039f"
             ],
             [
              0.2222222222222222,
              "#7201a8"
             ],
             [
              0.3333333333333333,
              "#9c179e"
             ],
             [
              0.4444444444444444,
              "#bd3786"
             ],
             [
              0.5555555555555556,
              "#d8576b"
             ],
             [
              0.6666666666666666,
              "#ed7953"
             ],
             [
              0.7777777777777778,
              "#fb9f3a"
             ],
             [
              0.8888888888888888,
              "#fdca26"
             ],
             [
              1,
              "#f0f921"
             ]
            ],
            "type": "heatmapgl"
           }
          ],
          "histogram": [
           {
            "marker": {
             "pattern": {
              "fillmode": "overlay",
              "size": 10,
              "solidity": 0.2
             }
            },
            "type": "histogram"
           }
          ],
          "histogram2d": [
           {
            "colorbar": {
             "outlinewidth": 0,
             "ticks": ""
            },
            "colorscale": [
             [
              0,
              "#0d0887"
             ],
             [
              0.1111111111111111,
              "#46039f"
             ],
             [
              0.2222222222222222,
              "#7201a8"
             ],
             [
              0.3333333333333333,
              "#9c179e"
             ],
             [
              0.4444444444444444,
              "#bd3786"
             ],
             [
              0.5555555555555556,
              "#d8576b"
             ],
             [
              0.6666666666666666,
              "#ed7953"
             ],
             [
              0.7777777777777778,
              "#fb9f3a"
             ],
             [
              0.8888888888888888,
              "#fdca26"
             ],
             [
              1,
              "#f0f921"
             ]
            ],
            "type": "histogram2d"
           }
          ],
          "histogram2dcontour": [
           {
            "colorbar": {
             "outlinewidth": 0,
             "ticks": ""
            },
            "colorscale": [
             [
              0,
              "#0d0887"
             ],
             [
              0.1111111111111111,
              "#46039f"
             ],
             [
              0.2222222222222222,
              "#7201a8"
             ],
             [
              0.3333333333333333,
              "#9c179e"
             ],
             [
              0.4444444444444444,
              "#bd3786"
             ],
             [
              0.5555555555555556,
              "#d8576b"
             ],
             [
              0.6666666666666666,
              "#ed7953"
             ],
             [
              0.7777777777777778,
              "#fb9f3a"
             ],
             [
              0.8888888888888888,
              "#fdca26"
             ],
             [
              1,
              "#f0f921"
             ]
            ],
            "type": "histogram2dcontour"
           }
          ],
          "mesh3d": [
           {
            "colorbar": {
             "outlinewidth": 0,
             "ticks": ""
            },
            "type": "mesh3d"
           }
          ],
          "parcoords": [
           {
            "line": {
             "colorbar": {
              "outlinewidth": 0,
              "ticks": ""
             }
            },
            "type": "parcoords"
           }
          ],
          "pie": [
           {
            "automargin": true,
            "type": "pie"
           }
          ],
          "scatter": [
           {
            "fillpattern": {
             "fillmode": "overlay",
             "size": 10,
             "solidity": 0.2
            },
            "type": "scatter"
           }
          ],
          "scatter3d": [
           {
            "line": {
             "colorbar": {
              "outlinewidth": 0,
              "ticks": ""
             }
            },
            "marker": {
             "colorbar": {
              "outlinewidth": 0,
              "ticks": ""
             }
            },
            "type": "scatter3d"
           }
          ],
          "scattercarpet": [
           {
            "marker": {
             "colorbar": {
              "outlinewidth": 0,
              "ticks": ""
             }
            },
            "type": "scattercarpet"
           }
          ],
          "scattergeo": [
           {
            "marker": {
             "colorbar": {
              "outlinewidth": 0,
              "ticks": ""
             }
            },
            "type": "scattergeo"
           }
          ],
          "scattergl": [
           {
            "marker": {
             "colorbar": {
              "outlinewidth": 0,
              "ticks": ""
             }
            },
            "type": "scattergl"
           }
          ],
          "scattermapbox": [
           {
            "marker": {
             "colorbar": {
              "outlinewidth": 0,
              "ticks": ""
             }
            },
            "type": "scattermapbox"
           }
          ],
          "scatterpolar": [
           {
            "marker": {
             "colorbar": {
              "outlinewidth": 0,
              "ticks": ""
             }
            },
            "type": "scatterpolar"
           }
          ],
          "scatterpolargl": [
           {
            "marker": {
             "colorbar": {
              "outlinewidth": 0,
              "ticks": ""
             }
            },
            "type": "scatterpolargl"
           }
          ],
          "scatterternary": [
           {
            "marker": {
             "colorbar": {
              "outlinewidth": 0,
              "ticks": ""
             }
            },
            "type": "scatterternary"
           }
          ],
          "surface": [
           {
            "colorbar": {
             "outlinewidth": 0,
             "ticks": ""
            },
            "colorscale": [
             [
              0,
              "#0d0887"
             ],
             [
              0.1111111111111111,
              "#46039f"
             ],
             [
              0.2222222222222222,
              "#7201a8"
             ],
             [
              0.3333333333333333,
              "#9c179e"
             ],
             [
              0.4444444444444444,
              "#bd3786"
             ],
             [
              0.5555555555555556,
              "#d8576b"
             ],
             [
              0.6666666666666666,
              "#ed7953"
             ],
             [
              0.7777777777777778,
              "#fb9f3a"
             ],
             [
              0.8888888888888888,
              "#fdca26"
             ],
             [
              1,
              "#f0f921"
             ]
            ],
            "type": "surface"
           }
          ],
          "table": [
           {
            "cells": {
             "fill": {
              "color": "#EBF0F8"
             },
             "line": {
              "color": "white"
             }
            },
            "header": {
             "fill": {
              "color": "#C8D4E3"
             },
             "line": {
              "color": "white"
             }
            },
            "type": "table"
           }
          ]
         },
         "layout": {
          "annotationdefaults": {
           "arrowcolor": "#2a3f5f",
           "arrowhead": 0,
           "arrowwidth": 1
          },
          "autotypenumbers": "strict",
          "coloraxis": {
           "colorbar": {
            "outlinewidth": 0,
            "ticks": ""
           }
          },
          "colorscale": {
           "diverging": [
            [
             0,
             "#8e0152"
            ],
            [
             0.1,
             "#c51b7d"
            ],
            [
             0.2,
             "#de77ae"
            ],
            [
             0.3,
             "#f1b6da"
            ],
            [
             0.4,
             "#fde0ef"
            ],
            [
             0.5,
             "#f7f7f7"
            ],
            [
             0.6,
             "#e6f5d0"
            ],
            [
             0.7,
             "#b8e186"
            ],
            [
             0.8,
             "#7fbc41"
            ],
            [
             0.9,
             "#4d9221"
            ],
            [
             1,
             "#276419"
            ]
           ],
           "sequential": [
            [
             0,
             "#0d0887"
            ],
            [
             0.1111111111111111,
             "#46039f"
            ],
            [
             0.2222222222222222,
             "#7201a8"
            ],
            [
             0.3333333333333333,
             "#9c179e"
            ],
            [
             0.4444444444444444,
             "#bd3786"
            ],
            [
             0.5555555555555556,
             "#d8576b"
            ],
            [
             0.6666666666666666,
             "#ed7953"
            ],
            [
             0.7777777777777778,
             "#fb9f3a"
            ],
            [
             0.8888888888888888,
             "#fdca26"
            ],
            [
             1,
             "#f0f921"
            ]
           ],
           "sequentialminus": [
            [
             0,
             "#0d0887"
            ],
            [
             0.1111111111111111,
             "#46039f"
            ],
            [
             0.2222222222222222,
             "#7201a8"
            ],
            [
             0.3333333333333333,
             "#9c179e"
            ],
            [
             0.4444444444444444,
             "#bd3786"
            ],
            [
             0.5555555555555556,
             "#d8576b"
            ],
            [
             0.6666666666666666,
             "#ed7953"
            ],
            [
             0.7777777777777778,
             "#fb9f3a"
            ],
            [
             0.8888888888888888,
             "#fdca26"
            ],
            [
             1,
             "#f0f921"
            ]
           ]
          },
          "colorway": [
           "#636efa",
           "#EF553B",
           "#00cc96",
           "#ab63fa",
           "#FFA15A",
           "#19d3f3",
           "#FF6692",
           "#B6E880",
           "#FF97FF",
           "#FECB52"
          ],
          "font": {
           "color": "#2a3f5f"
          },
          "geo": {
           "bgcolor": "white",
           "lakecolor": "white",
           "landcolor": "#E5ECF6",
           "showlakes": true,
           "showland": true,
           "subunitcolor": "white"
          },
          "hoverlabel": {
           "align": "left"
          },
          "hovermode": "closest",
          "mapbox": {
           "style": "light"
          },
          "paper_bgcolor": "white",
          "plot_bgcolor": "#E5ECF6",
          "polar": {
           "angularaxis": {
            "gridcolor": "white",
            "linecolor": "white",
            "ticks": ""
           },
           "bgcolor": "#E5ECF6",
           "radialaxis": {
            "gridcolor": "white",
            "linecolor": "white",
            "ticks": ""
           }
          },
          "scene": {
           "xaxis": {
            "backgroundcolor": "#E5ECF6",
            "gridcolor": "white",
            "gridwidth": 2,
            "linecolor": "white",
            "showbackground": true,
            "ticks": "",
            "zerolinecolor": "white"
           },
           "yaxis": {
            "backgroundcolor": "#E5ECF6",
            "gridcolor": "white",
            "gridwidth": 2,
            "linecolor": "white",
            "showbackground": true,
            "ticks": "",
            "zerolinecolor": "white"
           },
           "zaxis": {
            "backgroundcolor": "#E5ECF6",
            "gridcolor": "white",
            "gridwidth": 2,
            "linecolor": "white",
            "showbackground": true,
            "ticks": "",
            "zerolinecolor": "white"
           }
          },
          "shapedefaults": {
           "line": {
            "color": "#2a3f5f"
           }
          },
          "ternary": {
           "aaxis": {
            "gridcolor": "white",
            "linecolor": "white",
            "ticks": ""
           },
           "baxis": {
            "gridcolor": "white",
            "linecolor": "white",
            "ticks": ""
           },
           "bgcolor": "#E5ECF6",
           "caxis": {
            "gridcolor": "white",
            "linecolor": "white",
            "ticks": ""
           }
          },
          "title": {
           "x": 0.05
          },
          "xaxis": {
           "automargin": true,
           "gridcolor": "white",
           "linecolor": "white",
           "ticks": "",
           "title": {
            "standoff": 15
           },
           "zerolinecolor": "white",
           "zerolinewidth": 2
          },
          "yaxis": {
           "automargin": true,
           "gridcolor": "white",
           "linecolor": "white",
           "ticks": "",
           "title": {
            "standoff": 15
           },
           "zerolinecolor": "white",
           "zerolinewidth": 2
          }
         }
        },
        "title": {
         "text": "Arbeidsmarktpositie percentueel per studie"
        },
        "xaxis": {
         "title": {
          "text": "Studierichting"
         }
        },
        "yaxis": {
         "title": {
          "text": "Arbeidsmarktpositie"
         }
        }
       }
      }
     },
     "metadata": {},
     "output_type": "display_data"
    }
   ],
   "source": [
    "fig = go.Figure()\n",
    "\n",
    "for i in data:\n",
    "    heatmap_data = i.pivot_table(values='Percentage studierichting', index='Arbeidsmarktpositie', columns='Studierichting', aggfunc='sum')\n",
    "    heatmap_annotations = heatmap_data.map(lambda x: '{:.0f}%'.format(x))\n",
    "    tracey = go.Heatmap(\n",
    "        z=heatmap_data.values,\n",
    "        x=heatmap_data.columns.tolist(),\n",
    "        y=heatmap_data.index.tolist(),\n",
    "        colorscale='Blues',\n",
    "        zmin=0,\n",
    "        zmax=100,\n",
    "        visible=False,\n",
    "        colorbar=dict(\n",
    "            title='% Percentage',  \n",
    "            tickformat='%d%',\n",
    "        ),\n",
    "        hoverongaps=False,\n",
    "        hoverinfo='text+x',\n",
    "        text=heatmap_annotations.values.tolist()\n",
    "    )\n",
    "    fig.add_trace(tracey)\n",
    "\n",
    "fig.data[0].visible = True\n",
    "\n",
    "layout = go.Layout(\n",
    "    title='Arbeidsmarktpositie percentueel per studie',\n",
    "    xaxis=go.layout.XAxis(\n",
    "        title='Studierichting',\n",
    "    ),\n",
    "    yaxis=go.layout.YAxis(\n",
    "        title='Arbeidsmarktpositie',\n",
    "    )\n",
    ")\n",
    "\n",
    "steps = []\n",
    "for i in range(len(fig.data)):\n",
    "    step = dict(\n",
    "        method=\"restyle\",\n",
    "        args=[\"visible\", [False] * len(fig.data)],\n",
    "        label=str(i),\n",
    "    )\n",
    "    step[\"args\"][1][i] = True  # Toggle i'th trace to \"visible\"\n",
    "    steps.append(step)\n",
    "\n",
    "sliders = [dict(\n",
    "    active=0,\n",
    "    currentvalue={\"prefix\": \"Years after leaving university: \"},\n",
    "    pad={\"t\": 50},\n",
    "    steps=steps\n",
    ")]\n",
    "\n",
    "fig.update_layout(\n",
    "    sliders=sliders\n",
    ")\n",
    "\n",
    "fig.update_layout(layout)\n",
    "\n",
    "fig.update_layout(margin=dict(l=20, r=20, t=80, b=10),paper_bgcolor=\"rgb(200, 210, 220, 1)\")\n",
    "fig['layout']['sliders'][0]['pad']=dict(r=10, t=150,)\n",
    "\n",
    "fig.show()"
   ]
  },
  {
   "cell_type": "code",
   "execution_count": 887,
   "metadata": {},
   "outputs": [
    {
     "data": {
      "application/vnd.plotly.v1+json": {
       "config": {
        "plotlyServerURL": "https://plot.ly"
       },
       "data": [
        {
         "colorbar": {
          "tickformat": "%d%",
          "title": {
           "text": "% Percentage"
          }
         },
         "colorscale": [
          [
           0,
           "rgb(247,251,255)"
          ],
          [
           0.125,
           "rgb(222,235,247)"
          ],
          [
           0.25,
           "rgb(198,219,239)"
          ],
          [
           0.375,
           "rgb(158,202,225)"
          ],
          [
           0.5,
           "rgb(107,174,214)"
          ],
          [
           0.625,
           "rgb(66,146,198)"
          ],
          [
           0.75,
           "rgb(33,113,181)"
          ],
          [
           0.875,
           "rgb(8,81,156)"
          ],
          [
           1,
           "rgb(8,48,107)"
          ]
         ],
         "hoverinfo": "text+x",
         "hoverongaps": false,
         "text": [
          [
           "2%",
           "6%",
           "1%",
           "1%"
          ],
          [
           "87%",
           "86%",
           "67%",
           "82%"
          ],
          [
           "0%",
           "0%",
           "0%",
           "0%"
          ],
          [
           "1%",
           "3%",
           "2%",
           "2%"
          ],
          [
           "10%",
           "6%",
           "29%",
           "15%"
          ]
         ],
         "type": "heatmap",
         "visible": true,
         "x": [
          "Hbo-bachelor",
          "Hbo-master",
          "Wo-bachelor",
          "Wo-master"
         ],
         "y": [
          "Met werk, met uitkering",
          "Met werk, zonder uitkering",
          "Terug in onderwijs",
          "Zonder werk, met uitkering",
          "Zonder werk, zonder uitkering"
         ],
         "z": [
          [
           1.7041730391085863,
           5.555555555555555,
           1.2958963282937366,
           1.471825063078217
          ],
          [
           86.69434127157527,
           86.11111111111111,
           67.49460043196544,
           81.62321278385197
          ],
          [
           0,
           0,
           0,
           0
          ],
          [
           1.3764474546646275,
           2.7777777777777777,
           2.375809935205184,
           1.7661900756938604
          ],
          [
           10.22503823465152,
           5.555555555555555,
           28.83369330453564,
           15.138772077375947
          ]
         ],
         "zmax": 100,
         "zmin": 0
        },
        {
         "colorbar": {
          "tickformat": "%d%",
          "title": {
           "text": "% Percentage"
          }
         },
         "colorscale": [
          [
           0,
           "rgb(247,251,255)"
          ],
          [
           0.125,
           "rgb(222,235,247)"
          ],
          [
           0.25,
           "rgb(198,219,239)"
          ],
          [
           0.375,
           "rgb(158,202,225)"
          ],
          [
           0.5,
           "rgb(107,174,214)"
          ],
          [
           0.625,
           "rgb(66,146,198)"
          ],
          [
           0.75,
           "rgb(33,113,181)"
          ],
          [
           0.875,
           "rgb(8,81,156)"
          ],
          [
           1,
           "rgb(8,48,107)"
          ]
         ],
         "hoverinfo": "text+x",
         "hoverongaps": false,
         "text": [
          [
           "2%",
           "3%",
           "1%",
           "1%"
          ],
          [
           "87%",
           "89%",
           "40%",
           "90%"
          ],
          [
           "5%",
           "0%",
           "45%",
           "1%"
          ],
          [
           "1%",
           "0%",
           "2%",
           "1%"
          ],
          [
           "4%",
           "3%",
           "10%",
           "4%"
          ]
         ],
         "type": "heatmap",
         "visible": false,
         "x": [
          "Hbo-bachelor",
          "Hbo-master",
          "Wo-bachelor",
          "Wo-master"
         ],
         "y": [
          "Met werk, met uitkering",
          "Met werk, zonder uitkering",
          "Terug in onderwijs",
          "Zonder werk, met uitkering",
          "Zonder werk, zonder uitkering"
         ],
         "z": [
          [
           1.9882018789600173,
           2.7777777777777777,
           1.0799136069114472,
           1.471825063078217
          ],
          [
           86.62879615468648,
           88.88888888888889,
           39.8488120950324,
           90.32800672834314
          ],
          [
           4.631854926807953,
           0,
           45.46436285097192,
           0.9251471825063078
          ],
          [
           1.4419925715534192,
           0,
           1.9438444924406049,
           1.4297729184188395
          ],
          [
           4.3478260869565215,
           2.7777777777777777,
           9.61123110151188,
           4.415475189234651
          ]
         ],
         "zmax": 100,
         "zmin": 0
        },
        {
         "colorbar": {
          "tickformat": "%d%",
          "title": {
           "text": "% Percentage"
          }
         },
         "colorscale": [
          [
           0,
           "rgb(247,251,255)"
          ],
          [
           0.125,
           "rgb(222,235,247)"
          ],
          [
           0.25,
           "rgb(198,219,239)"
          ],
          [
           0.375,
           "rgb(158,202,225)"
          ],
          [
           0.5,
           "rgb(107,174,214)"
          ],
          [
           0.625,
           "rgb(66,146,198)"
          ],
          [
           0.75,
           "rgb(33,113,181)"
          ],
          [
           0.875,
           "rgb(8,81,156)"
          ],
          [
           1,
           "rgb(8,48,107)"
          ]
         ],
         "hoverinfo": "text+x",
         "hoverongaps": false,
         "text": [
          [
           "1%",
           "3%",
           "1%",
           "1%"
          ],
          [
           "86%",
           "89%",
           "37%",
           "91%"
          ],
          [
           "7%",
           "3%",
           "52%",
           "1%"
          ],
          [
           "2%",
           "0%",
           "2%",
           "2%"
          ],
          [
           "3%",
           "3%",
           "6%",
           "3%"
          ]
         ],
         "type": "heatmap",
         "visible": false,
         "x": [
          "Hbo-bachelor",
          "Hbo-master",
          "Wo-bachelor",
          "Wo-master"
         ],
         "y": [
          "Met werk, met uitkering",
          "Met werk, zonder uitkering",
          "Terug in onderwijs",
          "Zonder werk, met uitkering",
          "Zonder werk, zonder uitkering"
         ],
         "z": [
          [
           1.4638409438496833,
           2.7777777777777777,
           0.6479481641468683,
           1.135407905803196
          ],
          [
           85.84225475202096,
           88.88888888888889,
           37.47300215982722,
           90.5803195962994
          ],
          [
           6.794843784138082,
           2.7777777777777777,
           51.943844492440604,
           1.3456686291000841
          ],
          [
           1.529386060738475,
           0,
           1.8358531317494602,
           1.5138772077375946
          ],
          [
           3.036923749180686,
           2.7777777777777777,
           6.371490280777538,
           2.9857022708158114
          ]
         ],
         "zmax": 100,
         "zmin": 0
        },
        {
         "colorbar": {
          "tickformat": "%d%",
          "title": {
           "text": "% Percentage"
          }
         },
         "colorscale": [
          [
           0,
           "rgb(247,251,255)"
          ],
          [
           0.125,
           "rgb(222,235,247)"
          ],
          [
           0.25,
           "rgb(198,219,239)"
          ],
          [
           0.375,
           "rgb(158,202,225)"
          ],
          [
           0.5,
           "rgb(107,174,214)"
          ],
          [
           0.625,
           "rgb(66,146,198)"
          ],
          [
           0.75,
           "rgb(33,113,181)"
          ],
          [
           0.875,
           "rgb(8,81,156)"
          ],
          [
           1,
           "rgb(8,48,107)"
          ]
         ],
         "hoverinfo": "text+x",
         "hoverongaps": false,
         "text": [
          [
           "1%",
           "6%",
           "0%",
           "1%"
          ],
          [
           "85%",
           "83%",
           "37%",
           "90%"
          ],
          [
           "8%",
           "3%",
           "53%",
           "2%"
          ],
          [
           "2%",
           "0%",
           "2%",
           "1%"
          ],
          [
           "2%",
           "3%",
           "4%",
           "3%"
          ]
         ],
         "type": "heatmap",
         "visible": false,
         "x": [
          "Hbo-bachelor",
          "Hbo-master",
          "Wo-bachelor",
          "Wo-master"
         ],
         "y": [
          "Met werk, met uitkering",
          "Met werk, zonder uitkering",
          "Terug in onderwijs",
          "Zonder werk, met uitkering",
          "Zonder werk, zonder uitkering"
         ],
         "z": [
          [
           1.3545990823683636,
           5.555555555555555,
           0.4319654427645789,
           1.0933557611438183
          ],
          [
           84.92462311557789,
           83.33333333333333,
           37.36501079913607,
           90.28595458368376
          ],
          [
           8.367926589469084,
           2.7777777777777777,
           53.45572354211663,
           1.5559293523969724
          ],
          [
           1.529386060738475,
           0,
           1.6198704103671708,
           1.471825063078217
          ],
          [
           2.44701769718156,
           2.7777777777777777,
           4.1036717062634995,
           2.6913372582001682
          ]
         ],
         "zmax": 100,
         "zmin": 0
        },
        {
         "colorbar": {
          "tickformat": "%d%",
          "title": {
           "text": "% Percentage"
          }
         },
         "colorscale": [
          [
           0,
           "rgb(247,251,255)"
          ],
          [
           0.125,
           "rgb(222,235,247)"
          ],
          [
           0.25,
           "rgb(198,219,239)"
          ],
          [
           0.375,
           "rgb(158,202,225)"
          ],
          [
           0.5,
           "rgb(107,174,214)"
          ],
          [
           0.625,
           "rgb(66,146,198)"
          ],
          [
           0.75,
           "rgb(33,113,181)"
          ],
          [
           0.875,
           "rgb(8,81,156)"
          ],
          [
           1,
           "rgb(8,48,107)"
          ]
         ],
         "hoverinfo": "text+x",
         "hoverongaps": false,
         "text": [
          [
           "6%",
           "19%",
           "3%",
           "4%"
          ],
          [
           "79%",
           "67%",
           "35%",
           "87%"
          ],
          [
           "9%",
           "3%",
           "54%",
           "2%"
          ],
          [
           "2%",
           "0%",
           "2%",
           "2%"
          ],
          [
           "2%",
           "0%",
           "3%",
           "2%"
          ]
         ],
         "type": "heatmap",
         "visible": false,
         "x": [
          "Hbo-bachelor",
          "Hbo-master",
          "Wo-bachelor",
          "Wo-master"
         ],
         "y": [
          "Met werk, met uitkering",
          "Met werk, zonder uitkering",
          "Terug in onderwijs",
          "Zonder werk, met uitkering",
          "Zonder werk, zonder uitkering"
         ],
         "z": [
          [
           6.139392615250164,
           19.444444444444443,
           3.4557235421166306,
           3.868797308662742
          ],
          [
           79.30959143543807,
           66.66666666666666,
           34.557235421166304,
           87.04793944491169
          ],
          [
           9.372951715097226,
           2.7777777777777777,
           54.31965442764579,
           1.8923465096719934
          ],
          [
           2.141140485033865,
           0,
           2.0518358531317498,
           1.9764507989907485
          ],
          [
           1.6386279222197948,
           0,
           3.2397408207343417,
           2.2287636669470143
          ]
         ],
         "zmax": 100,
         "zmin": 0
        },
        {
         "colorbar": {
          "tickformat": "%d%",
          "title": {
           "text": "% Percentage"
          }
         },
         "colorscale": [
          [
           0,
           "rgb(247,251,255)"
          ],
          [
           0.125,
           "rgb(222,235,247)"
          ],
          [
           0.25,
           "rgb(198,219,239)"
          ],
          [
           0.375,
           "rgb(158,202,225)"
          ],
          [
           0.5,
           "rgb(107,174,214)"
          ],
          [
           0.625,
           "rgb(66,146,198)"
          ],
          [
           0.75,
           "rgb(33,113,181)"
          ],
          [
           0.875,
           "rgb(8,81,156)"
          ],
          [
           1,
           "rgb(8,48,107)"
          ]
         ],
         "hoverinfo": "text+x",
         "hoverongaps": false,
         "text": [
          [
           "3%",
           "11%",
           "2%",
           "2%"
          ],
          [
           "82%",
           "75%",
           "36%",
           "89%"
          ],
          [
           "10%",
           "3%",
           "56%",
           "2%"
          ],
          [
           "2%",
           "0%",
           "2%",
           "2%"
          ],
          [
           "2%",
           "0%",
           "3%",
           "2%"
          ]
         ],
         "type": "heatmap",
         "visible": false,
         "x": [
          "Hbo-bachelor",
          "Hbo-master",
          "Wo-bachelor",
          "Wo-master"
         ],
         "y": [
          "Met werk, met uitkering",
          "Met werk, zonder uitkering",
          "Terug in onderwijs",
          "Zonder werk, met uitkering",
          "Zonder werk, zonder uitkering"
         ],
         "z": [
          [
           3.015075376884422,
           11.11111111111111,
           2.0518358531317498,
           2.0605550883095036
          ],
          [
           81.953244483286,
           75,
           35.7451403887689,
           88.60386879730866
          ],
          [
           10.268734979244046,
           2.7777777777777777,
           55.61555075593952,
           2.1867115222876365
          ],
          [
           1.5730828053310029,
           0,
           1.6198704103671708,
           1.59798149705635
          ],
          [
           1.7041730391085863,
           0,
           2.9157667386609076,
           2.2287636669470143
          ]
         ],
         "zmax": 100,
         "zmin": 0
        }
       ],
       "layout": {
        "margin": {
         "b": 10,
         "l": 20,
         "r": 20,
         "t": 80
        },
        "paper_bgcolor": "rgb(200, 210, 220, 1)",
        "sliders": [
         {
          "active": 0,
          "currentvalue": {
           "prefix": "Years after leaving university: "
          },
          "pad": {
           "r": 10,
           "t": 150
          },
          "steps": [
           {
            "args": [
             "visible",
             [
              true,
              false,
              false,
              false,
              false,
              false
             ]
            ],
            "label": "0",
            "method": "restyle"
           },
           {
            "args": [
             "visible",
             [
              false,
              true,
              false,
              false,
              false,
              false
             ]
            ],
            "label": "1",
            "method": "restyle"
           },
           {
            "args": [
             "visible",
             [
              false,
              false,
              true,
              false,
              false,
              false
             ]
            ],
            "label": "2",
            "method": "restyle"
           },
           {
            "args": [
             "visible",
             [
              false,
              false,
              false,
              true,
              false,
              false
             ]
            ],
            "label": "3",
            "method": "restyle"
           },
           {
            "args": [
             "visible",
             [
              false,
              false,
              false,
              false,
              true,
              false
             ]
            ],
            "label": "4",
            "method": "restyle"
           },
           {
            "args": [
             "visible",
             [
              false,
              false,
              false,
              false,
              false,
              true
             ]
            ],
            "label": "5",
            "method": "restyle"
           }
          ]
         }
        ],
        "template": {
         "data": {
          "bar": [
           {
            "error_x": {
             "color": "#2a3f5f"
            },
            "error_y": {
             "color": "#2a3f5f"
            },
            "marker": {
             "line": {
              "color": "#E5ECF6",
              "width": 0.5
             },
             "pattern": {
              "fillmode": "overlay",
              "size": 10,
              "solidity": 0.2
             }
            },
            "type": "bar"
           }
          ],
          "barpolar": [
           {
            "marker": {
             "line": {
              "color": "#E5ECF6",
              "width": 0.5
             },
             "pattern": {
              "fillmode": "overlay",
              "size": 10,
              "solidity": 0.2
             }
            },
            "type": "barpolar"
           }
          ],
          "carpet": [
           {
            "aaxis": {
             "endlinecolor": "#2a3f5f",
             "gridcolor": "white",
             "linecolor": "white",
             "minorgridcolor": "white",
             "startlinecolor": "#2a3f5f"
            },
            "baxis": {
             "endlinecolor": "#2a3f5f",
             "gridcolor": "white",
             "linecolor": "white",
             "minorgridcolor": "white",
             "startlinecolor": "#2a3f5f"
            },
            "type": "carpet"
           }
          ],
          "choropleth": [
           {
            "colorbar": {
             "outlinewidth": 0,
             "ticks": ""
            },
            "type": "choropleth"
           }
          ],
          "contour": [
           {
            "colorbar": {
             "outlinewidth": 0,
             "ticks": ""
            },
            "colorscale": [
             [
              0,
              "#0d0887"
             ],
             [
              0.1111111111111111,
              "#46039f"
             ],
             [
              0.2222222222222222,
              "#7201a8"
             ],
             [
              0.3333333333333333,
              "#9c179e"
             ],
             [
              0.4444444444444444,
              "#bd3786"
             ],
             [
              0.5555555555555556,
              "#d8576b"
             ],
             [
              0.6666666666666666,
              "#ed7953"
             ],
             [
              0.7777777777777778,
              "#fb9f3a"
             ],
             [
              0.8888888888888888,
              "#fdca26"
             ],
             [
              1,
              "#f0f921"
             ]
            ],
            "type": "contour"
           }
          ],
          "contourcarpet": [
           {
            "colorbar": {
             "outlinewidth": 0,
             "ticks": ""
            },
            "type": "contourcarpet"
           }
          ],
          "heatmap": [
           {
            "colorbar": {
             "outlinewidth": 0,
             "ticks": ""
            },
            "colorscale": [
             [
              0,
              "#0d0887"
             ],
             [
              0.1111111111111111,
              "#46039f"
             ],
             [
              0.2222222222222222,
              "#7201a8"
             ],
             [
              0.3333333333333333,
              "#9c179e"
             ],
             [
              0.4444444444444444,
              "#bd3786"
             ],
             [
              0.5555555555555556,
              "#d8576b"
             ],
             [
              0.6666666666666666,
              "#ed7953"
             ],
             [
              0.7777777777777778,
              "#fb9f3a"
             ],
             [
              0.8888888888888888,
              "#fdca26"
             ],
             [
              1,
              "#f0f921"
             ]
            ],
            "type": "heatmap"
           }
          ],
          "heatmapgl": [
           {
            "colorbar": {
             "outlinewidth": 0,
             "ticks": ""
            },
            "colorscale": [
             [
              0,
              "#0d0887"
             ],
             [
              0.1111111111111111,
              "#46039f"
             ],
             [
              0.2222222222222222,
              "#7201a8"
             ],
             [
              0.3333333333333333,
              "#9c179e"
             ],
             [
              0.4444444444444444,
              "#bd3786"
             ],
             [
              0.5555555555555556,
              "#d8576b"
             ],
             [
              0.6666666666666666,
              "#ed7953"
             ],
             [
              0.7777777777777778,
              "#fb9f3a"
             ],
             [
              0.8888888888888888,
              "#fdca26"
             ],
             [
              1,
              "#f0f921"
             ]
            ],
            "type": "heatmapgl"
           }
          ],
          "histogram": [
           {
            "marker": {
             "pattern": {
              "fillmode": "overlay",
              "size": 10,
              "solidity": 0.2
             }
            },
            "type": "histogram"
           }
          ],
          "histogram2d": [
           {
            "colorbar": {
             "outlinewidth": 0,
             "ticks": ""
            },
            "colorscale": [
             [
              0,
              "#0d0887"
             ],
             [
              0.1111111111111111,
              "#46039f"
             ],
             [
              0.2222222222222222,
              "#7201a8"
             ],
             [
              0.3333333333333333,
              "#9c179e"
             ],
             [
              0.4444444444444444,
              "#bd3786"
             ],
             [
              0.5555555555555556,
              "#d8576b"
             ],
             [
              0.6666666666666666,
              "#ed7953"
             ],
             [
              0.7777777777777778,
              "#fb9f3a"
             ],
             [
              0.8888888888888888,
              "#fdca26"
             ],
             [
              1,
              "#f0f921"
             ]
            ],
            "type": "histogram2d"
           }
          ],
          "histogram2dcontour": [
           {
            "colorbar": {
             "outlinewidth": 0,
             "ticks": ""
            },
            "colorscale": [
             [
              0,
              "#0d0887"
             ],
             [
              0.1111111111111111,
              "#46039f"
             ],
             [
              0.2222222222222222,
              "#7201a8"
             ],
             [
              0.3333333333333333,
              "#9c179e"
             ],
             [
              0.4444444444444444,
              "#bd3786"
             ],
             [
              0.5555555555555556,
              "#d8576b"
             ],
             [
              0.6666666666666666,
              "#ed7953"
             ],
             [
              0.7777777777777778,
              "#fb9f3a"
             ],
             [
              0.8888888888888888,
              "#fdca26"
             ],
             [
              1,
              "#f0f921"
             ]
            ],
            "type": "histogram2dcontour"
           }
          ],
          "mesh3d": [
           {
            "colorbar": {
             "outlinewidth": 0,
             "ticks": ""
            },
            "type": "mesh3d"
           }
          ],
          "parcoords": [
           {
            "line": {
             "colorbar": {
              "outlinewidth": 0,
              "ticks": ""
             }
            },
            "type": "parcoords"
           }
          ],
          "pie": [
           {
            "automargin": true,
            "type": "pie"
           }
          ],
          "scatter": [
           {
            "fillpattern": {
             "fillmode": "overlay",
             "size": 10,
             "solidity": 0.2
            },
            "type": "scatter"
           }
          ],
          "scatter3d": [
           {
            "line": {
             "colorbar": {
              "outlinewidth": 0,
              "ticks": ""
             }
            },
            "marker": {
             "colorbar": {
              "outlinewidth": 0,
              "ticks": ""
             }
            },
            "type": "scatter3d"
           }
          ],
          "scattercarpet": [
           {
            "marker": {
             "colorbar": {
              "outlinewidth": 0,
              "ticks": ""
             }
            },
            "type": "scattercarpet"
           }
          ],
          "scattergeo": [
           {
            "marker": {
             "colorbar": {
              "outlinewidth": 0,
              "ticks": ""
             }
            },
            "type": "scattergeo"
           }
          ],
          "scattergl": [
           {
            "marker": {
             "colorbar": {
              "outlinewidth": 0,
              "ticks": ""
             }
            },
            "type": "scattergl"
           }
          ],
          "scattermapbox": [
           {
            "marker": {
             "colorbar": {
              "outlinewidth": 0,
              "ticks": ""
             }
            },
            "type": "scattermapbox"
           }
          ],
          "scatterpolar": [
           {
            "marker": {
             "colorbar": {
              "outlinewidth": 0,
              "ticks": ""
             }
            },
            "type": "scatterpolar"
           }
          ],
          "scatterpolargl": [
           {
            "marker": {
             "colorbar": {
              "outlinewidth": 0,
              "ticks": ""
             }
            },
            "type": "scatterpolargl"
           }
          ],
          "scatterternary": [
           {
            "marker": {
             "colorbar": {
              "outlinewidth": 0,
              "ticks": ""
             }
            },
            "type": "scatterternary"
           }
          ],
          "surface": [
           {
            "colorbar": {
             "outlinewidth": 0,
             "ticks": ""
            },
            "colorscale": [
             [
              0,
              "#0d0887"
             ],
             [
              0.1111111111111111,
              "#46039f"
             ],
             [
              0.2222222222222222,
              "#7201a8"
             ],
             [
              0.3333333333333333,
              "#9c179e"
             ],
             [
              0.4444444444444444,
              "#bd3786"
             ],
             [
              0.5555555555555556,
              "#d8576b"
             ],
             [
              0.6666666666666666,
              "#ed7953"
             ],
             [
              0.7777777777777778,
              "#fb9f3a"
             ],
             [
              0.8888888888888888,
              "#fdca26"
             ],
             [
              1,
              "#f0f921"
             ]
            ],
            "type": "surface"
           }
          ],
          "table": [
           {
            "cells": {
             "fill": {
              "color": "#EBF0F8"
             },
             "line": {
              "color": "white"
             }
            },
            "header": {
             "fill": {
              "color": "#C8D4E3"
             },
             "line": {
              "color": "white"
             }
            },
            "type": "table"
           }
          ]
         },
         "layout": {
          "annotationdefaults": {
           "arrowcolor": "#2a3f5f",
           "arrowhead": 0,
           "arrowwidth": 1
          },
          "autotypenumbers": "strict",
          "coloraxis": {
           "colorbar": {
            "outlinewidth": 0,
            "ticks": ""
           }
          },
          "colorscale": {
           "diverging": [
            [
             0,
             "#8e0152"
            ],
            [
             0.1,
             "#c51b7d"
            ],
            [
             0.2,
             "#de77ae"
            ],
            [
             0.3,
             "#f1b6da"
            ],
            [
             0.4,
             "#fde0ef"
            ],
            [
             0.5,
             "#f7f7f7"
            ],
            [
             0.6,
             "#e6f5d0"
            ],
            [
             0.7,
             "#b8e186"
            ],
            [
             0.8,
             "#7fbc41"
            ],
            [
             0.9,
             "#4d9221"
            ],
            [
             1,
             "#276419"
            ]
           ],
           "sequential": [
            [
             0,
             "#0d0887"
            ],
            [
             0.1111111111111111,
             "#46039f"
            ],
            [
             0.2222222222222222,
             "#7201a8"
            ],
            [
             0.3333333333333333,
             "#9c179e"
            ],
            [
             0.4444444444444444,
             "#bd3786"
            ],
            [
             0.5555555555555556,
             "#d8576b"
            ],
            [
             0.6666666666666666,
             "#ed7953"
            ],
            [
             0.7777777777777778,
             "#fb9f3a"
            ],
            [
             0.8888888888888888,
             "#fdca26"
            ],
            [
             1,
             "#f0f921"
            ]
           ],
           "sequentialminus": [
            [
             0,
             "#0d0887"
            ],
            [
             0.1111111111111111,
             "#46039f"
            ],
            [
             0.2222222222222222,
             "#7201a8"
            ],
            [
             0.3333333333333333,
             "#9c179e"
            ],
            [
             0.4444444444444444,
             "#bd3786"
            ],
            [
             0.5555555555555556,
             "#d8576b"
            ],
            [
             0.6666666666666666,
             "#ed7953"
            ],
            [
             0.7777777777777778,
             "#fb9f3a"
            ],
            [
             0.8888888888888888,
             "#fdca26"
            ],
            [
             1,
             "#f0f921"
            ]
           ]
          },
          "colorway": [
           "#636efa",
           "#EF553B",
           "#00cc96",
           "#ab63fa",
           "#FFA15A",
           "#19d3f3",
           "#FF6692",
           "#B6E880",
           "#FF97FF",
           "#FECB52"
          ],
          "font": {
           "color": "#2a3f5f"
          },
          "geo": {
           "bgcolor": "white",
           "lakecolor": "white",
           "landcolor": "#E5ECF6",
           "showlakes": true,
           "showland": true,
           "subunitcolor": "white"
          },
          "hoverlabel": {
           "align": "left"
          },
          "hovermode": "closest",
          "mapbox": {
           "style": "light"
          },
          "paper_bgcolor": "white",
          "plot_bgcolor": "#E5ECF6",
          "polar": {
           "angularaxis": {
            "gridcolor": "white",
            "linecolor": "white",
            "ticks": ""
           },
           "bgcolor": "#E5ECF6",
           "radialaxis": {
            "gridcolor": "white",
            "linecolor": "white",
            "ticks": ""
           }
          },
          "scene": {
           "xaxis": {
            "backgroundcolor": "#E5ECF6",
            "gridcolor": "white",
            "gridwidth": 2,
            "linecolor": "white",
            "showbackground": true,
            "ticks": "",
            "zerolinecolor": "white"
           },
           "yaxis": {
            "backgroundcolor": "#E5ECF6",
            "gridcolor": "white",
            "gridwidth": 2,
            "linecolor": "white",
            "showbackground": true,
            "ticks": "",
            "zerolinecolor": "white"
           },
           "zaxis": {
            "backgroundcolor": "#E5ECF6",
            "gridcolor": "white",
            "gridwidth": 2,
            "linecolor": "white",
            "showbackground": true,
            "ticks": "",
            "zerolinecolor": "white"
           }
          },
          "shapedefaults": {
           "line": {
            "color": "#2a3f5f"
           }
          },
          "ternary": {
           "aaxis": {
            "gridcolor": "white",
            "linecolor": "white",
            "ticks": ""
           },
           "baxis": {
            "gridcolor": "white",
            "linecolor": "white",
            "ticks": ""
           },
           "bgcolor": "#E5ECF6",
           "caxis": {
            "gridcolor": "white",
            "linecolor": "white",
            "ticks": ""
           }
          },
          "title": {
           "x": 0.05
          },
          "xaxis": {
           "automargin": true,
           "gridcolor": "white",
           "linecolor": "white",
           "ticks": "",
           "title": {
            "standoff": 15
           },
           "zerolinecolor": "white",
           "zerolinewidth": 2
          },
          "yaxis": {
           "automargin": true,
           "gridcolor": "white",
           "linecolor": "white",
           "ticks": "",
           "title": {
            "standoff": 15
           },
           "zerolinecolor": "white",
           "zerolinewidth": 2
          }
         }
        },
        "title": {
         "text": "Arbeidsmarktpositie percentueel per studie"
        },
        "xaxis": {
         "title": {
          "text": "Studierichting"
         }
        },
        "yaxis": {
         "title": {
          "text": "Arbeidsmarktpositie"
         }
        }
       }
      }
     },
     "metadata": {},
     "output_type": "display_data"
    }
   ],
   "source": [
    "fig = go.Figure()\n",
    "\n",
    "studies = ['']\n",
    "\n",
    "for i in data:\n",
    "    heatmap_data = i.pivot_table(values='Percentage degree level', index='Arbeidsmarktpositie', columns='Uitstromers ho met en zonder diploma', aggfunc='sum')\n",
    "    heatmap_annotations = heatmap_data.map(lambda x: '{:.0f}%'.format(x))\n",
    "    tracey = go.Heatmap(\n",
    "        z=heatmap_data.values,\n",
    "        x=heatmap_data.columns.tolist(),\n",
    "        y=heatmap_data.index.tolist(),\n",
    "        colorscale='Blues',\n",
    "        zmin=0,\n",
    "        zmax=100,\n",
    "        visible=False,\n",
    "        colorbar=dict(\n",
    "            title='% Percentage',  \n",
    "            tickformat='%d%',\n",
    "        ),\n",
    "        hoverongaps=False,\n",
    "        hoverinfo='text+x',\n",
    "        text=heatmap_annotations.values.tolist()\n",
    "    )\n",
    "    fig.add_trace(tracey)\n",
    "\n",
    "fig.data[0].visible = True\n",
    "\n",
    "layout = go.Layout(\n",
    "    title='Arbeidsmarktpositie percentueel per studie',\n",
    "    xaxis=go.layout.XAxis(\n",
    "        title='Studierichting',\n",
    "    ),\n",
    "    yaxis=go.layout.YAxis(\n",
    "        title='Arbeidsmarktpositie',\n",
    "    )\n",
    ")\n",
    "\n",
    "steps = []\n",
    "for i in range(len(fig.data)):\n",
    "    step = dict(\n",
    "        method=\"restyle\",\n",
    "        args=[\"visible\", [False] * len(fig.data)],\n",
    "        label=str(i),\n",
    "    )\n",
    "    step[\"args\"][1][i] = True  # Toggle i'th trace to \"visible\"\n",
    "    steps.append(step)\n",
    "\n",
    "sliders = [dict(\n",
    "    active=0,\n",
    "    currentvalue={\"prefix\": \"Years after leaving university: \"},\n",
    "    pad={\"t\": 50},\n",
    "    steps=steps\n",
    ")]\n",
    "\n",
    "fig.update_layout(\n",
    "    sliders=sliders\n",
    ")\n",
    "\n",
    "fig.update_layout(layout)\n",
    "\n",
    "fig.update_layout(margin=dict(l=20, r=20, t=80, b=10),paper_bgcolor=\"rgb(200, 210, 220, 1)\")\n",
    "fig['layout']['sliders'][0]['pad']=dict(r=10, t=150,)\n",
    "\n",
    "fig.show()"
   ]
  },
  {
   "cell_type": "markdown",
   "metadata": {},
   "source": [
    "0: 6.159677801468846\n",
    "ln: 2.9613835583984836\n",
    "n: 3.565505804311774\n",
    "te: 15.683487325278369\n",
    "gz: 10.246387112058754\n",
    "e: 27.24472873726605\n",
    "r: 4.6079128168680406\n",
    "GM: 20.350627813314382\n",
    "tc: 8.327410566216537\n",
    "so: 0.8647239990523572\n"
   ]
  }
 ],
 "metadata": {
  "kernelspec": {
   "display_name": "Python 3",
   "language": "python",
   "name": "python3"
  },
  "language_info": {
   "codemirror_mode": {
    "name": "ipython",
    "version": 3
   },
   "file_extension": ".py",
   "mimetype": "text/x-python",
   "name": "python",
   "nbconvert_exporter": "python",
   "pygments_lexer": "ipython3",
   "version": "3.12.3"
  }
 },
 "nbformat": 4,
 "nbformat_minor": 2
}
